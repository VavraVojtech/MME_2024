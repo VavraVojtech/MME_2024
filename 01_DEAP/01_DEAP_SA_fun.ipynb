{
 "cells": [
  {
   "cell_type": "code",
   "execution_count": 1,
   "metadata": {},
   "outputs": [],
   "source": [
    "import random\n",
    "import numpy as np\n",
    "import pandas as pd\n",
    "import math\n",
    "# import matplotlib.pyplot as plt\n",
    "from deap import base, creator, tools, algorithms\n",
    "\n",
    "import time\n",
    "from IPython.utils.io import capture_output"
   ]
  },
  {
   "cell_type": "code",
   "execution_count": 2,
   "metadata": {},
   "outputs": [],
   "source": [
    "# Rastrigin function\n",
    "def rastrigin(individual):\n",
    "    n = len(individual)\n",
    "    A = 10\n",
    "    return A * n + sum(x**2 - A * math.cos(2 * math.pi * x) for x in individual),\n",
    "\n",
    "# Ackley function\n",
    "def ackley(individual):\n",
    "    n = len(individual)\n",
    "    sum1 = sum(x**2 for x in individual)\n",
    "    sum2 = sum(math.cos(2 * math.pi * x) for x in individual)\n",
    "    return -20 * math.exp(-0.2 * math.sqrt(sum1 / n)) - math.exp(sum2 / n) + 20 + math.e,\n",
    "\n",
    "# Rosenbrock function\n",
    "def rosenbrock(individual):\n",
    "    n = len(individual)\n",
    "    return sum(100 * (individual[i+1] - individual[i]**2)**2 + (individual[i] - 1)**2 for i in range(n - 1)),"
   ]
  },
  {
   "cell_type": "code",
   "execution_count": 3,
   "metadata": {},
   "outputs": [],
   "source": [
    "# Simulated annealing specific steps\n",
    "def simulated_annealing(toolbox, ngen=100, temp=100.0, cooling_rate=0.95, pop_size=100):\n",
    "    population = toolbox.population(n=pop_size)\n",
    "    halloffame = tools.HallOfFame(1)\n",
    "    logbook = tools.Logbook()\n",
    "    logbook.header = [\"gen\", \"evals\", \"fitness\"]\n",
    "\n",
    "    # Evaluate initial population\n",
    "    for ind in population:\n",
    "        ind.fitness.values = toolbox.evaluate(ind)\n",
    "        \n",
    "    for gen in range(ngen):\n",
    "        temp *= cooling_rate\n",
    "        for ind in population:\n",
    "            neighbor = toolbox.clone(ind)\n",
    "            toolbox.mutate(neighbor)\n",
    "            del neighbor.fitness.values\n",
    "            neighbor.fitness.values = toolbox.evaluate(neighbor)\n",
    "\n",
    "            delta_e = neighbor.fitness.values[0] - ind.fitness.values[0]\n",
    "            if delta_e < 0 or random.random() < np.exp(-delta_e / temp):\n",
    "                ind[:] = neighbor\n",
    "                ind.fitness.values = neighbor.fitness.values\n",
    "\n",
    "        halloffame.update(population)\n",
    "        record = {\"gen\": gen, \"evals\": len(population), \"fitness\": halloffame[0].fitness.values[0]}\n",
    "        logbook.record(**record)\n",
    "        print(logbook.stream)\n",
    "\n",
    "    return halloffame, logbook"
   ]
  },
  {
   "cell_type": "markdown",
   "metadata": {},
   "source": [
    "# Rastrigin"
   ]
  },
  {
   "cell_type": "code",
   "execution_count": 4,
   "metadata": {},
   "outputs": [],
   "source": [
    "df_sol = pd.DataFrame()\n",
    "temperature = 154\n",
    "cooling = 1.85\n",
    "\n",
    "lb = -5.12\n",
    "up = 5.12"
   ]
  },
  {
   "cell_type": "code",
   "execution_count": 5,
   "metadata": {},
   "outputs": [],
   "source": [
    "n_dim = 5\n",
    "with capture_output() as captured:\n",
    "    np.random.seed(42)\n",
    "    fill = []\n",
    "    fill_t = []\n",
    "    for i in range(10):\n",
    "        # Define the individual and fitness\n",
    "        creator.create(\"FitnessMin\", base.Fitness, weights=(-1.0,))\n",
    "        creator.create(\"Individual\", list, fitness=creator.FitnessMin)\n",
    "\n",
    "        # Define the attribute (each dimension in the individual)\n",
    "        toolbox = base.Toolbox()\n",
    "        toolbox.register(\"attr_float\", random.uniform, lb, up)\n",
    "        toolbox.register(\"individual\", tools.initRepeat, creator.Individual, \n",
    "                        toolbox.attr_float, n=n_dim) \n",
    "        toolbox.register(\"population\", tools.initRepeat, list, toolbox.individual)\n",
    "\n",
    "        # Define the evaluation, mutation, and simulated annealing steps\n",
    "        toolbox.register(\"evaluate\", rastrigin)\n",
    "        toolbox.register(\"mutate\", tools.mutPolynomialBounded, low=lb, up=up, eta=20.0, indpb=0.2)\n",
    "\n",
    "        # Population = 100\n",
    "        toolbox.register(\"population\", tools.initRepeat, list, toolbox.individual)\n",
    "        pop_size = 100\n",
    "        pop = toolbox.population(n=pop_size)\n",
    "\n",
    "        # Evaluate the initial population\n",
    "        for ind in pop:\n",
    "            ind.fitness.values = toolbox.evaluate(ind)\n",
    "\n",
    "        # Run simulated annealing\n",
    "        start_time = time.time() #time     \n",
    "        hof, log = simulated_annealing(toolbox, ngen=1000, temp=temperature, cooling_rate=cooling, pop_size=pop_size)\n",
    "        end_time = time.time() #time\n",
    "        elapsed_time = end_time - start_time\n",
    "\n",
    "        print(\"Best individual:\", hof[0])\n",
    "        print(\"Best fitness:\", hof[0].fitness.values[0])\n",
    "        fill.append(hof[0].fitness.values[0])\n",
    "        fill_t.append(elapsed_time)\n",
    "    df_sol['SA_rastrigin_5'] = pd.Series(fill)\n",
    "    df_sol['SA_rastrigin_time_5'] = pd.Series(fill_t)"
   ]
  },
  {
   "cell_type": "code",
   "execution_count": 6,
   "metadata": {},
   "outputs": [],
   "source": [
    "n_dim = 10\n",
    "with capture_output() as captured:\n",
    "    np.random.seed(42)\n",
    "    fill = []\n",
    "    fill_t = []\n",
    "    for i in range(10):\n",
    "        # Define the individual and fitness\n",
    "        creator.create(\"FitnessMin\", base.Fitness, weights=(-1.0,))\n",
    "        creator.create(\"Individual\", list, fitness=creator.FitnessMin)\n",
    "\n",
    "        # Define the attribute (each dimension in the individual)\n",
    "        toolbox = base.Toolbox()\n",
    "        toolbox.register(\"attr_float\", random.uniform, lb, up)\n",
    "        toolbox.register(\"individual\", tools.initRepeat, creator.Individual, \n",
    "                        toolbox.attr_float, n=n_dim)\n",
    "        toolbox.register(\"population\", tools.initRepeat, list, toolbox.individual)\n",
    "\n",
    "        # Define the evaluation, mutation\n",
    "        toolbox.register(\"evaluate\", rastrigin)\n",
    "        toolbox.register(\"mutate\", tools.mutPolynomialBounded, low=lb, up=up, eta=20.0, indpb=0.2)\n",
    "\n",
    "        # Population = 100\n",
    "        toolbox.register(\"population\", tools.initRepeat, list, toolbox.individual)\n",
    "        pop_size = 100\n",
    "        pop = toolbox.population(n=pop_size)\n",
    "\n",
    "        # Evaluate the initial population\n",
    "        for ind in pop:\n",
    "            ind.fitness.values = toolbox.evaluate(ind)\n",
    "\n",
    "        # Run simulated annealing\n",
    "        start_time = time.time() #time     \n",
    "        hof, log = simulated_annealing(toolbox, ngen=1000, temp=temperature, cooling_rate=cooling, pop_size=pop_size)\n",
    "        end_time = time.time() #time\n",
    "        elapsed_time = end_time - start_time\n",
    "\n",
    "        print(\"Best individual:\", hof[0])\n",
    "        print(\"Best fitness:\", hof[0].fitness.values[0])\n",
    "        fill.append(hof[0].fitness.values[0])\n",
    "        fill_t.append(elapsed_time)\n",
    "    df_sol['SA_rastrigin_10'] = pd.Series(fill)\n",
    "    df_sol['SA_rastrigin_time_10'] = pd.Series(fill_t)"
   ]
  },
  {
   "cell_type": "code",
   "execution_count": 7,
   "metadata": {},
   "outputs": [],
   "source": [
    "n_dim = 20\n",
    "with capture_output() as captured:\n",
    "    np.random.seed(42)\n",
    "    fill = []\n",
    "    fill_t = []\n",
    "    for i in range(10):\n",
    "        # Define the individual and fitness\n",
    "        creator.create(\"FitnessMin\", base.Fitness, weights=(-1.0,))\n",
    "        creator.create(\"Individual\", list, fitness=creator.FitnessMin)\n",
    "\n",
    "        # Define the attribute (each dimension in the individual)\n",
    "        toolbox = base.Toolbox()\n",
    "        toolbox.register(\"attr_float\", random.uniform, lb, up)\n",
    "        toolbox.register(\"individual\", tools.initRepeat, creator.Individual, \n",
    "                        toolbox.attr_float, n=n_dim)\n",
    "        toolbox.register(\"population\", tools.initRepeat, list, toolbox.individual)\n",
    "\n",
    "        # Define the evaluation, mutation, and simulated annealing steps\n",
    "        toolbox.register(\"evaluate\", rastrigin)\n",
    "        toolbox.register(\"mutate\", tools.mutPolynomialBounded, low=lb, up=up, eta=20.0, indpb=0.2)\n",
    "\n",
    "        # Population = 100\n",
    "        toolbox.register(\"population\", tools.initRepeat, list, toolbox.individual)\n",
    "        pop_size = 100\n",
    "        pop = toolbox.population(n=pop_size)\n",
    "\n",
    "        # Evaluate the initial population\n",
    "        for ind in pop:\n",
    "            ind.fitness.values = toolbox.evaluate(ind)\n",
    "\n",
    "        # Run simulated annealing\n",
    "        start_time = time.time() #time     \n",
    "        hof, log = simulated_annealing(toolbox, ngen=1000, temp=temperature, cooling_rate=cooling, pop_size=pop_size)\n",
    "        end_time = time.time() #time\n",
    "        elapsed_time = end_time - start_time\n",
    "\n",
    "        print(\"Best individual:\", hof[0])\n",
    "        print(\"Best fitness:\", hof[0].fitness.values[0])\n",
    "        fill.append(hof[0].fitness.values[0])\n",
    "        fill_t.append(elapsed_time)\n",
    "    df_sol['SA_rastrigin_20'] = pd.Series(fill)\n",
    "    df_sol['SA_rastrigin_time_20'] = pd.Series(fill_t)"
   ]
  },
  {
   "cell_type": "code",
   "execution_count": 8,
   "metadata": {},
   "outputs": [
    {
     "data": {
      "text/plain": [
       "SA_rastrigin_5           11.71\n",
       "SA_rastrigin_time_5       2.22\n",
       "SA_rastrigin_10          62.73\n",
       "SA_rastrigin_time_10      2.64\n",
       "SA_rastrigin_20         194.37\n",
       "SA_rastrigin_time_20      3.56\n",
       "dtype: float64"
      ]
     },
     "execution_count": 8,
     "metadata": {},
     "output_type": "execute_result"
    }
   ],
   "source": [
    "df_sol.mean().round(2)"
   ]
  },
  {
   "cell_type": "code",
   "execution_count": 9,
   "metadata": {},
   "outputs": [
    {
     "data": {
      "text/plain": [
       "SA_rastrigin_5            8.11\n",
       "SA_rastrigin_time_5       2.12\n",
       "SA_rastrigin_10          54.81\n",
       "SA_rastrigin_time_10      2.58\n",
       "SA_rastrigin_20         178.32\n",
       "SA_rastrigin_time_20      3.53\n",
       "dtype: float64"
      ]
     },
     "execution_count": 9,
     "metadata": {},
     "output_type": "execute_result"
    }
   ],
   "source": [
    "df_sol.min().round(2)"
   ]
  },
  {
   "cell_type": "markdown",
   "metadata": {},
   "source": [
    "# Ackley"
   ]
  },
  {
   "cell_type": "code",
   "execution_count": 10,
   "metadata": {},
   "outputs": [],
   "source": [
    "df_sol_A = pd.DataFrame()\n",
    "temperature = 95\n",
    "cooling = 1.25\n",
    "\n",
    "lb = -32.786\n",
    "up = 32.786"
   ]
  },
  {
   "cell_type": "code",
   "execution_count": 11,
   "metadata": {},
   "outputs": [],
   "source": [
    "n_dim = 5\n",
    "with capture_output() as captured:\n",
    "    np.random.seed(42)\n",
    "    fill = []\n",
    "    fill_t = []\n",
    "    for i in range(10):\n",
    "        # Define the individual and fitness\n",
    "        creator.create(\"FitnessMin\", base.Fitness, weights=(-1.0,))\n",
    "        creator.create(\"Individual\", list, fitness=creator.FitnessMin)\n",
    "\n",
    "        # Define the attribute (each dimension in the individual)\n",
    "        toolbox = base.Toolbox()\n",
    "        toolbox.register(\"attr_float\", random.uniform, lb, up)\n",
    "        toolbox.register(\"individual\", tools.initRepeat, creator.Individual, \n",
    "                        toolbox.attr_float, n=n_dim)\n",
    "        toolbox.register(\"population\", tools.initRepeat, list, toolbox.individual)\n",
    "\n",
    "        # Define the evaluation, mutation, and simulated annealing steps\n",
    "        toolbox.register(\"evaluate\", ackley)\n",
    "        toolbox.register(\"mutate\", tools.mutPolynomialBounded, low=lb, up=up, eta=20.0, indpb=0.2)\n",
    "\n",
    "        # Population = 100\n",
    "        toolbox.register(\"population\", tools.initRepeat, list, toolbox.individual)\n",
    "        pop_size = 100\n",
    "        pop = toolbox.population(n=pop_size)\n",
    "\n",
    "        # Evaluate the initial population\n",
    "        for ind in pop:\n",
    "            ind.fitness.values = toolbox.evaluate(ind)\n",
    "\n",
    "        # Run simulated annealing\n",
    "        start_time = time.time() #time     \n",
    "        hof, log = simulated_annealing(toolbox, ngen=1000, temp=temperature, cooling_rate=cooling, pop_size=pop_size)\n",
    "        end_time = time.time() #time\n",
    "        elapsed_time = end_time - start_time\n",
    "\n",
    "        print(\"Best individual:\", hof[0])\n",
    "        print(\"Best fitness:\", hof[0].fitness.values[0])\n",
    "        fill.append(hof[0].fitness.values[0])\n",
    "        fill_t.append(elapsed_time)\n",
    "    df_sol_A['SA_ackley_5'] = pd.Series(fill)\n",
    "    df_sol_A['SA_ackley_time_5'] = pd.Series(fill_t)"
   ]
  },
  {
   "cell_type": "code",
   "execution_count": 12,
   "metadata": {},
   "outputs": [],
   "source": [
    "n_dim = 10\n",
    "with capture_output() as captured:\n",
    "    np.random.seed(42)\n",
    "    fill = []\n",
    "    fill_t = []\n",
    "    for i in range(10):\n",
    "        # Define the individual and fitness\n",
    "        creator.create(\"FitnessMin\", base.Fitness, weights=(-1.0,))\n",
    "        creator.create(\"Individual\", list, fitness=creator.FitnessMin)\n",
    "\n",
    "        # Define the attribute (each dimension in the individual)\n",
    "        toolbox = base.Toolbox()\n",
    "        toolbox.register(\"attr_float\", random.uniform, lb, up)\n",
    "        toolbox.register(\"individual\", tools.initRepeat, creator.Individual, \n",
    "                        toolbox.attr_float, n=n_dim)\n",
    "        toolbox.register(\"population\", tools.initRepeat, list, toolbox.individual)\n",
    "\n",
    "        # Define the evaluation, mutation, and simulated annealing steps\n",
    "        toolbox.register(\"evaluate\", ackley)\n",
    "        toolbox.register(\"mutate\", tools.mutPolynomialBounded, low=lb, up=up, eta=20.0, indpb=0.2)\n",
    "\n",
    "        # Population = 100\n",
    "        toolbox.register(\"population\", tools.initRepeat, list, toolbox.individual)\n",
    "        pop_size = 100\n",
    "        pop = toolbox.population(n=pop_size)\n",
    "\n",
    "        # Evaluate the initial population\n",
    "        for ind in pop:\n",
    "            ind.fitness.values = toolbox.evaluate(ind)\n",
    "\n",
    "        # Run simulated annealing\n",
    "        start_time = time.time() #time     \n",
    "        hof, log = simulated_annealing(toolbox, ngen=1000, temp=temperature, cooling_rate=cooling, pop_size=pop_size)\n",
    "        end_time = time.time() #time\n",
    "        elapsed_time = end_time - start_time\n",
    "\n",
    "        print(\"Best individual:\", hof[0])\n",
    "        print(\"Best fitness:\", hof[0].fitness.values[0])\n",
    "        fill.append(hof[0].fitness.values[0])\n",
    "        fill_t.append(elapsed_time)\n",
    "    df_sol_A['SA_ackley_10'] = pd.Series(fill)\n",
    "    df_sol_A['SA_ackley_time_10'] = pd.Series(fill_t)"
   ]
  },
  {
   "cell_type": "code",
   "execution_count": 13,
   "metadata": {},
   "outputs": [],
   "source": [
    "n_dim = 20\n",
    "with capture_output() as captured:\n",
    "    np.random.seed(42)\n",
    "    fill = []\n",
    "    fill_t = []\n",
    "    for i in range(10):\n",
    "        # Define the individual and fitness\n",
    "        creator.create(\"FitnessMin\", base.Fitness, weights=(-1.0,))\n",
    "        creator.create(\"Individual\", list, fitness=creator.FitnessMin)\n",
    "\n",
    "        # Define the attribute (each dimension in the individual)\n",
    "        toolbox = base.Toolbox()\n",
    "        toolbox.register(\"attr_float\", random.uniform, lb, up)\n",
    "        toolbox.register(\"individual\", tools.initRepeat, creator.Individual, \n",
    "                        toolbox.attr_float, n=n_dim)\n",
    "        toolbox.register(\"population\", tools.initRepeat, list, toolbox.individual)\n",
    "\n",
    "        # Define the evaluation, mutation, and simulated annealing steps\n",
    "        toolbox.register(\"evaluate\", ackley)\n",
    "        toolbox.register(\"mutate\", tools.mutPolynomialBounded, low=lb, up=up, eta=20.0, indpb=0.2)\n",
    "\n",
    "        # Population = 100\n",
    "        toolbox.register(\"population\", tools.initRepeat, list, toolbox.individual)\n",
    "        pop_size = 100\n",
    "        pop = toolbox.population(n=pop_size)\n",
    "\n",
    "        # Evaluate the initial population\n",
    "        for ind in pop:\n",
    "            ind.fitness.values = toolbox.evaluate(ind)\n",
    "\n",
    "        # Run simulated annealing\n",
    "        start_time = time.time() #time     \n",
    "        hof, log = simulated_annealing(toolbox, ngen=1000, temp=temperature, cooling_rate=cooling, pop_size=pop_size)\n",
    "        end_time = time.time() #time\n",
    "        elapsed_time = end_time - start_time\n",
    "\n",
    "        print(\"Best individual:\", hof[0])\n",
    "        print(\"Best fitness:\", hof[0].fitness.values[0])\n",
    "        fill.append(hof[0].fitness.values[0])\n",
    "        fill_t.append(elapsed_time)\n",
    "    df_sol_A['SA_ackley_20'] = pd.Series(fill)\n",
    "    df_sol_A['SA_ackley_time_20'] = pd.Series(fill_t)"
   ]
  },
  {
   "cell_type": "code",
   "execution_count": 14,
   "metadata": {},
   "outputs": [
    {
     "data": {
      "text/plain": [
       "SA_ackley_5           9.39\n",
       "SA_ackley_time_5      2.22\n",
       "SA_ackley_10         16.97\n",
       "SA_ackley_time_10     2.70\n",
       "SA_ackley_20         19.18\n",
       "SA_ackley_time_20     3.74\n",
       "dtype: float64"
      ]
     },
     "execution_count": 14,
     "metadata": {},
     "output_type": "execute_result"
    }
   ],
   "source": [
    "df_sol_A.mean().round(2)"
   ]
  },
  {
   "cell_type": "code",
   "execution_count": 15,
   "metadata": {},
   "outputs": [
    {
     "data": {
      "text/plain": [
       "SA_ackley_5           6.74\n",
       "SA_ackley_time_5      2.18\n",
       "SA_ackley_10         16.10\n",
       "SA_ackley_time_10     2.68\n",
       "SA_ackley_20         18.55\n",
       "SA_ackley_time_20     3.67\n",
       "dtype: float64"
      ]
     },
     "execution_count": 15,
     "metadata": {},
     "output_type": "execute_result"
    }
   ],
   "source": [
    "df_sol_A.min().round(2)"
   ]
  },
  {
   "cell_type": "markdown",
   "metadata": {},
   "source": [
    "# Rosenbrock"
   ]
  },
  {
   "cell_type": "code",
   "execution_count": 16,
   "metadata": {},
   "outputs": [],
   "source": [
    "df_sol_R = pd.DataFrame()\n",
    "temperature = 90\n",
    "cooling = 0.7\n",
    "\n",
    "lb = -5\n",
    "up = 10"
   ]
  },
  {
   "cell_type": "code",
   "execution_count": 17,
   "metadata": {},
   "outputs": [],
   "source": [
    "n_dim = 5\n",
    "with capture_output() as captured:\n",
    "    np.random.seed(42)\n",
    "    fill = []\n",
    "    fill_t = []\n",
    "    for i in range(10):\n",
    "        # Define the individual and fitness\n",
    "        creator.create(\"FitnessMin\", base.Fitness, weights=(-1.0,))\n",
    "        creator.create(\"Individual\", list, fitness=creator.FitnessMin)\n",
    "\n",
    "        # Define the attribute (each dimension in the individual)\n",
    "        toolbox = base.Toolbox()\n",
    "        toolbox.register(\"attr_float\", random.uniform, lb, up)\n",
    "        toolbox.register(\"individual\", tools.initRepeat, creator.Individual, \n",
    "                        toolbox.attr_float, n=n_dim)\n",
    "        toolbox.register(\"population\", tools.initRepeat, list, toolbox.individual)\n",
    "\n",
    "        # Define the evaluation, mutation, and simulated annealing steps\n",
    "        toolbox.register(\"evaluate\", rosenbrock)\n",
    "        toolbox.register(\"mutate\", tools.mutPolynomialBounded, low=lb, up=up, eta=20.0, indpb=0.2)\n",
    "\n",
    "        # Population = 100\n",
    "        toolbox.register(\"population\", tools.initRepeat, list, toolbox.individual)\n",
    "        pop_size = 100\n",
    "        pop = toolbox.population(n=pop_size)\n",
    "\n",
    "        # Evaluate the initial population\n",
    "        for ind in pop:\n",
    "            ind.fitness.values = toolbox.evaluate(ind)\n",
    "\n",
    "        # Run simulated annealing\n",
    "        start_time = time.time() #time     \n",
    "        hof, log = simulated_annealing(toolbox, ngen=1000, temp=temperature, cooling_rate=cooling, pop_size=pop_size)\n",
    "        end_time = time.time() #time\n",
    "        elapsed_time = end_time - start_time\n",
    "\n",
    "        print(\"Best individual:\", hof[0])\n",
    "        print(\"Best fitness:\", hof[0].fitness.values[0])\n",
    "        fill.append(hof[0].fitness.values[0])\n",
    "        fill_t.append(elapsed_time)\n",
    "    df_sol_R['SA_rosenbrock_5'] = pd.Series(fill)\n",
    "    df_sol_R['SA_rosenbrock_time_5'] = pd.Series(fill_t)"
   ]
  },
  {
   "cell_type": "code",
   "execution_count": 18,
   "metadata": {},
   "outputs": [],
   "source": [
    "n_dim = 10\n",
    "with capture_output() as captured:\n",
    "    np.random.seed(42)\n",
    "    fill = []\n",
    "    fill_t = []\n",
    "    for i in range(10):\n",
    "        # Define the individual and fitness\n",
    "        creator.create(\"FitnessMin\", base.Fitness, weights=(-1.0,))\n",
    "        creator.create(\"Individual\", list, fitness=creator.FitnessMin)\n",
    "\n",
    "        # Define the attribute (each dimension in the individual)\n",
    "        toolbox = base.Toolbox()\n",
    "        toolbox.register(\"attr_float\", random.uniform, lb, up)\n",
    "        toolbox.register(\"individual\", tools.initRepeat, creator.Individual, \n",
    "                        toolbox.attr_float, n=n_dim)\n",
    "        toolbox.register(\"population\", tools.initRepeat, list, toolbox.individual)\n",
    "\n",
    "        # Define the evaluation, mutation, and simulated annealing steps\n",
    "        toolbox.register(\"evaluate\", rosenbrock)\n",
    "        toolbox.register(\"mutate\", tools.mutPolynomialBounded, low=lb, up=up, eta=20.0, indpb=0.2)\n",
    "\n",
    "        # Population = 100\n",
    "        toolbox.register(\"population\", tools.initRepeat, list, toolbox.individual)\n",
    "        pop_size = 100\n",
    "        pop = toolbox.population(n=pop_size)\n",
    "\n",
    "        # Evaluate the initial population\n",
    "        for ind in pop:\n",
    "            ind.fitness.values = toolbox.evaluate(ind)\n",
    "\n",
    "        # Run simulated annealing\n",
    "        start_time = time.time() #time     \n",
    "        hof, log = simulated_annealing(toolbox, ngen=1000, temp=temperature, cooling_rate=cooling, pop_size=pop_size)\n",
    "        end_time = time.time() #time\n",
    "        elapsed_time = end_time - start_time\n",
    "\n",
    "        print(\"Best individual:\", hof[0])\n",
    "        print(\"Best fitness:\", hof[0].fitness.values[0])\n",
    "        fill.append(hof[0].fitness.values[0])\n",
    "        fill_t.append(elapsed_time)\n",
    "    df_sol_R['SA_rosenbrock_10'] = pd.Series(fill)\n",
    "    df_sol_R['SA_rosenbrock_time_10'] = pd.Series(fill_t)"
   ]
  },
  {
   "cell_type": "code",
   "execution_count": 19,
   "metadata": {},
   "outputs": [],
   "source": [
    "n_dim = 20\n",
    "with capture_output() as captured:\n",
    "    np.random.seed(42)\n",
    "    fill = []\n",
    "    fill_t = []\n",
    "    for i in range(10):\n",
    "        # Define the individual and fitness\n",
    "        creator.create(\"FitnessMin\", base.Fitness, weights=(-1.0,))\n",
    "        creator.create(\"Individual\", list, fitness=creator.FitnessMin)\n",
    "\n",
    "        # Define the attribute (each dimension in the individual)\n",
    "        toolbox = base.Toolbox()\n",
    "        toolbox.register(\"attr_float\", random.uniform, lb, up)\n",
    "        toolbox.register(\"individual\", tools.initRepeat, creator.Individual, \n",
    "                        toolbox.attr_float, n=n_dim)\n",
    "        toolbox.register(\"population\", tools.initRepeat, list, toolbox.individual)\n",
    "\n",
    "        # Define the evaluation, mutation, and simulated annealing steps\n",
    "        toolbox.register(\"evaluate\", rosenbrock)\n",
    "        toolbox.register(\"mutate\", tools.mutPolynomialBounded, low=lb, up=up, eta=20.0, indpb=0.2)\n",
    "\n",
    "        # Population = 100\n",
    "        toolbox.register(\"population\", tools.initRepeat, list, toolbox.individual)\n",
    "        pop_size = 100\n",
    "        pop = toolbox.population(n=pop_size)\n",
    "\n",
    "        # Evaluate the initial population\n",
    "        for ind in pop:\n",
    "            ind.fitness.values = toolbox.evaluate(ind)\n",
    "\n",
    "        # Run simulated annealing\n",
    "        start_time = time.time() #time     \n",
    "        hof, log = simulated_annealing(toolbox, ngen=1000, temp=temperature, cooling_rate=cooling, pop_size=pop_size)\n",
    "        end_time = time.time() #time\n",
    "        elapsed_time = end_time - start_time\n",
    "\n",
    "        print(\"Best individual:\", hof[0])\n",
    "        print(\"Best fitness:\", hof[0].fitness.values[0])\n",
    "        fill.append(hof[0].fitness.values[0])\n",
    "        fill_t.append(elapsed_time)\n",
    "    df_sol_R['SA_rosenbrock_20'] =  pd.Series(fill)\n",
    "    df_sol_R['SA_rosenbrock_time_20'] = pd.Series(fill_t)"
   ]
  },
  {
   "cell_type": "code",
   "execution_count": 20,
   "metadata": {},
   "outputs": [
    {
     "data": {
      "text/plain": [
       "SA_rosenbrock_5           0.13\n",
       "SA_rosenbrock_time_5      2.39\n",
       "SA_rosenbrock_10          3.54\n",
       "SA_rosenbrock_time_10     3.16\n",
       "SA_rosenbrock_20         59.02\n",
       "SA_rosenbrock_time_20     4.36\n",
       "dtype: float64"
      ]
     },
     "execution_count": 20,
     "metadata": {},
     "output_type": "execute_result"
    }
   ],
   "source": [
    "df_sol_R.mean().round(2)"
   ]
  },
  {
   "cell_type": "code",
   "execution_count": 21,
   "metadata": {},
   "outputs": [
    {
     "data": {
      "text/plain": [
       "SA_rosenbrock_5           0.02\n",
       "SA_rosenbrock_time_5      2.31\n",
       "SA_rosenbrock_10          1.99\n",
       "SA_rosenbrock_time_10     2.98\n",
       "SA_rosenbrock_20         45.15\n",
       "SA_rosenbrock_time_20     4.33\n",
       "dtype: float64"
      ]
     },
     "execution_count": 21,
     "metadata": {},
     "output_type": "execute_result"
    }
   ],
   "source": [
    "df_sol_R.min().round(2)"
   ]
  }
 ],
 "metadata": {
  "kernelspec": {
   "display_name": "Python 3",
   "language": "python",
   "name": "python3"
  },
  "language_info": {
   "codemirror_mode": {
    "name": "ipython",
    "version": 3
   },
   "file_extension": ".py",
   "mimetype": "text/x-python",
   "name": "python",
   "nbconvert_exporter": "python",
   "pygments_lexer": "ipython3",
   "version": "3.11.2"
  }
 },
 "nbformat": 4,
 "nbformat_minor": 2
}
