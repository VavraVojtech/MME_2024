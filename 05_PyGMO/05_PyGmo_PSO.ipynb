{
 "cells": [
  {
   "cell_type": "code",
   "execution_count": 14,
   "metadata": {},
   "outputs": [],
   "source": [
    "import numpy as np\n",
    "import pandas as pd\n",
    "import time\n",
    "\n",
    "import pygmo as pg\n",
    "# https://esa.github.io/pagmo2/docs/cpp/algorithms/pso.html#_CPPv4N5pagmo3psoE"
   ]
  },
  {
   "cell_type": "code",
   "execution_count": 15,
   "metadata": {},
   "outputs": [],
   "source": [
    "# PyGmo defined Ackley function has different bounds, need to be adjusted\n",
    "class CustomAckley:\n",
    "    def __init__(self, dim):\n",
    "        self.dim = dim\n",
    "\n",
    "    def fitness(self, x):\n",
    "        a = 20\n",
    "        b = 0.2\n",
    "        c = 2 * np.pi\n",
    "        term1 = -a * np.exp(-b * np.sqrt(np.sum(x**2) / self.dim))\n",
    "        term2 = -np.exp(np.sum(np.cos(c * x)) / self.dim)\n",
    "        return [term1 + term2 + a + np.exp(1)]\n",
    "\n",
    "    def get_bounds(self):\n",
    "        return ([-32.768] * self.dim, [32.768] * self.dim)"
   ]
  },
  {
   "cell_type": "code",
   "execution_count": 16,
   "metadata": {},
   "outputs": [],
   "source": [
    "epoch = 500 # 500\n",
    "pop = 100 # 100"
   ]
  },
  {
   "cell_type": "code",
   "execution_count": 17,
   "metadata": {},
   "outputs": [
    {
     "name": "stdout",
     "output_type": "stream",
     "text": [
      "Best Fitness: 10.86548785789779\n",
      "Best Individual: [-0.98145577  2.00735597 -0.08678105 -1.09998645  0.07914217]\n"
     ]
    }
   ],
   "source": [
    "# Define the problem (Rastrigin function)\n",
    "problem = pg.problem(pg.rastrigin(dim=5))\n",
    "\n",
    "# Define the PSO algorithm\n",
    "algorithm = pg.algorithm(pg.pso(gen=100, eta1 = 2, eta2 = 1, omega = 0.4)) # max_vel=1\n",
    "\n",
    "# Define the population size\n",
    "population_size = 50\n",
    "\n",
    "# Initialize the population\n",
    "population = pg.population(problem, size=population_size)\n",
    "\n",
    "# Evolve the population\n",
    "population = algorithm.evolve(population)\n",
    "\n",
    "# Get the best individual and its fitness value\n",
    "best_fitness = population.get_f()[population.best_idx()]\n",
    "best_individual = population.get_x()[population.best_idx()]\n",
    "\n",
    "print(\"Best Fitness:\", best_fitness[0])\n",
    "print(\"Best Individual:\", best_individual)\n"
   ]
  },
  {
   "cell_type": "markdown",
   "metadata": {},
   "source": [
    "# Rastrigin"
   ]
  },
  {
   "cell_type": "code",
   "execution_count": 18,
   "metadata": {},
   "outputs": [],
   "source": [
    "df_sol = pd.DataFrame()"
   ]
  },
  {
   "cell_type": "code",
   "execution_count": 19,
   "metadata": {},
   "outputs": [],
   "source": [
    "np.random.seed(42)\n",
    "fill = []\n",
    "fill_t = []\n",
    "for i in range(10):\n",
    "    problem = pg.problem(pg.rastrigin(dim=5))\n",
    "    algorithm = pg.algorithm(pg.pso(gen=epoch, eta1 = 2, eta2 = 1, omega = 0.4)) # max_vel=1\n",
    "    population_size = pop\n",
    "    population = pg.population(problem, size=population_size)\n",
    "\n",
    "    start_time = time.time() # time\n",
    "    population = algorithm.evolve(population)\n",
    "    end_time = time.time() # time\n",
    "    elapsed_time = end_time - start_time # time\n",
    "\n",
    "    best_fitness = population.get_f()[population.best_idx()]\n",
    "    best_individual = population.get_x()[population.best_idx()]\n",
    "\n",
    "    # print(\"Best Fitness:\", best_fitness)\n",
    "    # print(\"Best Individual:\", best_individual)\n",
    "    fill.append(best_fitness[0])\n",
    "    fill_t.append(elapsed_time)\n",
    "df_sol['GA_rastrigin_5'] = fill\n",
    "df_sol['GA_rastrigin_time_5'] = fill_t"
   ]
  },
  {
   "cell_type": "code",
   "execution_count": 20,
   "metadata": {},
   "outputs": [],
   "source": [
    "np.random.seed(42)\n",
    "fill = []\n",
    "fill_t = []\n",
    "for i in range(10):\n",
    "    problem = pg.problem(pg.rastrigin(dim=10))\n",
    "    algorithm = pg.algorithm(pg.pso(gen=epoch, eta1 = 2, eta2 = 1, omega = 0.4)) # max_vel=1\n",
    "    population_size = pop\n",
    "    population = pg.population(problem, size=population_size)\n",
    "\n",
    "    start_time = time.time() # time\n",
    "    population = algorithm.evolve(population)\n",
    "    end_time = time.time() # time\n",
    "    elapsed_time = end_time - start_time # time\n",
    "\n",
    "    best_fitness = population.get_f()[population.best_idx()]\n",
    "    best_individual = population.get_x()[population.best_idx()]\n",
    "\n",
    "    # print(\"Best Fitness:\", best_fitness)\n",
    "    # print(\"Best Individual:\", best_individual)\n",
    "    fill.append(best_fitness[0])\n",
    "    fill_t.append(elapsed_time)\n",
    "df_sol['PSO_rastrigin_10'] = fill\n",
    "df_sol['PSO_rastrigin_time_10'] = fill_t"
   ]
  },
  {
   "cell_type": "code",
   "execution_count": 21,
   "metadata": {},
   "outputs": [],
   "source": [
    "np.random.seed(42)\n",
    "fill = []\n",
    "fill_t = []\n",
    "for i in range(10):\n",
    "    problem = pg.problem(pg.rastrigin(dim=20))\n",
    "    algorithm = pg.algorithm(pg.pso(gen=epoch, eta1 = 2, eta2 = 1, omega = 0.4)) # max_vel=1\n",
    "    population_size = pop\n",
    "    population = pg.population(problem, size=population_size)\n",
    "\n",
    "    start_time = time.time() # time\n",
    "    population = algorithm.evolve(population)\n",
    "    end_time = time.time() # time\n",
    "    elapsed_time = end_time - start_time # time\n",
    "\n",
    "    best_fitness = population.get_f()[population.best_idx()]\n",
    "    best_individual = population.get_x()[population.best_idx()]\n",
    "\n",
    "    # print(\"Best Fitness:\", best_fitness)\n",
    "    # print(\"Best Individual:\", best_individual)\n",
    "    fill.append(best_fitness[0])\n",
    "    fill_t.append(elapsed_time)\n",
    "df_sol['PSO_rastrigin_20'] = fill\n",
    "df_sol['PSO_rastrigin_time_20'] = fill_t"
   ]
  },
  {
   "cell_type": "code",
   "execution_count": 22,
   "metadata": {},
   "outputs": [
    {
     "data": {
      "text/plain": [
       "GA_rastrigin_5            3.03\n",
       "GA_rastrigin_time_5       0.03\n",
       "PSO_rastrigin_10         22.60\n",
       "PSO_rastrigin_time_10     0.05\n",
       "PSO_rastrigin_20         93.01\n",
       "PSO_rastrigin_time_20     0.08\n",
       "dtype: float64"
      ]
     },
     "execution_count": 22,
     "metadata": {},
     "output_type": "execute_result"
    }
   ],
   "source": [
    "df_sol.mean().round(2)"
   ]
  },
  {
   "cell_type": "code",
   "execution_count": 23,
   "metadata": {},
   "outputs": [
    {
     "data": {
      "text/plain": [
       "GA_rastrigin_5            1.76\n",
       "GA_rastrigin_time_5       0.02\n",
       "PSO_rastrigin_10         15.05\n",
       "PSO_rastrigin_time_10     0.04\n",
       "PSO_rastrigin_20         80.83\n",
       "PSO_rastrigin_time_20     0.08\n",
       "dtype: float64"
      ]
     },
     "execution_count": 23,
     "metadata": {},
     "output_type": "execute_result"
    }
   ],
   "source": [
    "df_sol.min().round(2)"
   ]
  },
  {
   "cell_type": "markdown",
   "metadata": {},
   "source": [
    "# Ackley"
   ]
  },
  {
   "cell_type": "code",
   "execution_count": 24,
   "metadata": {},
   "outputs": [],
   "source": [
    "df_sol_A = pd.DataFrame()"
   ]
  },
  {
   "cell_type": "code",
   "execution_count": 25,
   "metadata": {},
   "outputs": [],
   "source": [
    "np.random.seed(42)\n",
    "fill = []\n",
    "fill_t = []\n",
    "for i in range(10):\n",
    "    problem = pg.problem(CustomAckley(dim=5))\n",
    "    algorithm = pg.algorithm(pg.pso(gen=epoch, eta1 = 1, eta2 = 1, omega = 0.4)) # max_vel=1\n",
    "    population_size = pop\n",
    "    population = pg.population(problem, size=population_size)\n",
    "\n",
    "    start_time = time.time() # time\n",
    "    population = algorithm.evolve(population)\n",
    "    end_time = time.time() # time\n",
    "    elapsed_time = end_time - start_time # time\n",
    "\n",
    "    best_fitness = population.get_f()[population.best_idx()]\n",
    "    best_individual = population.get_x()[population.best_idx()]\n",
    "\n",
    "    # print(\"Best Fitness:\", best_fitness)\n",
    "    # print(\"Best Individual:\", best_individual)\n",
    "    fill.append(best_fitness[0])\n",
    "    fill_t.append(elapsed_time)\n",
    "df_sol_A['PSO_ackley_5'] = fill\n",
    "df_sol_A['PSO_ackley_time_5'] = fill_t"
   ]
  },
  {
   "cell_type": "code",
   "execution_count": 26,
   "metadata": {},
   "outputs": [],
   "source": [
    "np.random.seed(42)\n",
    "fill = []\n",
    "fill_t = []\n",
    "for i in range(10):\n",
    "    problem = pg.problem(CustomAckley(dim=10))\n",
    "    algorithm = pg.algorithm(pg.pso(gen=epoch, eta1 = 1, eta2 = 1, omega = 0.4)) # max_vel=1\n",
    "    population_size = pop\n",
    "    population = pg.population(problem, size=population_size)\n",
    "\n",
    "    start_time = time.time() # time\n",
    "    population = algorithm.evolve(population)\n",
    "    end_time = time.time() # time\n",
    "    elapsed_time = end_time - start_time # time\n",
    "\n",
    "    best_fitness = population.get_f()[population.best_idx()]\n",
    "    best_individual = population.get_x()[population.best_idx()]\n",
    "\n",
    "    # print(\"Best Fitness:\", best_fitness)\n",
    "    # print(\"Best Individual:\", best_individual)\n",
    "    fill.append(best_fitness[0])\n",
    "    fill_t.append(elapsed_time)\n",
    "df_sol_A['PSO_ackley_10'] = fill\n",
    "df_sol_A['PSO_ackley_time_10'] = fill_t"
   ]
  },
  {
   "cell_type": "code",
   "execution_count": 27,
   "metadata": {},
   "outputs": [],
   "source": [
    "np.random.seed(42)\n",
    "fill = []\n",
    "fill_t = []\n",
    "for i in range(10):\n",
    "    problem = pg.problem(CustomAckley(dim=20))\n",
    "    algorithm = pg.algorithm(pg.pso(gen=epoch, eta1 = 1, eta2 = 1, omega = 0.4)) # max_vel=1\n",
    "    population_size = pop\n",
    "    population = pg.population(problem, size=population_size)\n",
    "\n",
    "    start_time = time.time() # time\n",
    "    population = algorithm.evolve(population)\n",
    "    end_time = time.time() # time\n",
    "    elapsed_time = end_time - start_time # time\n",
    "\n",
    "    best_fitness = population.get_f()[population.best_idx()]\n",
    "    best_individual = population.get_x()[population.best_idx()]\n",
    "\n",
    "    # print(\"Best Fitness:\", best_fitness)\n",
    "    # print(\"Best Individual:\", best_individual)\n",
    "    fill.append(best_fitness[0])\n",
    "    fill_t.append(elapsed_time)\n",
    "df_sol_A['PSO_ackley_20'] = fill\n",
    "df_sol_A['PSO_ackley_time_20'] = fill_t"
   ]
  },
  {
   "cell_type": "code",
   "execution_count": 28,
   "metadata": {},
   "outputs": [
    {
     "data": {
      "text/plain": [
       "PSO_ackley_5          0.74\n",
       "PSO_ackley_time_5     1.00\n",
       "PSO_ackley_10         3.75\n",
       "PSO_ackley_time_10    1.00\n",
       "PSO_ackley_20         6.27\n",
       "PSO_ackley_time_20    1.03\n",
       "dtype: float64"
      ]
     },
     "execution_count": 28,
     "metadata": {},
     "output_type": "execute_result"
    }
   ],
   "source": [
    "df_sol_A.mean().round(2)"
   ]
  },
  {
   "cell_type": "code",
   "execution_count": 29,
   "metadata": {},
   "outputs": [
    {
     "data": {
      "text/plain": [
       "PSO_ackley_5          0.00\n",
       "PSO_ackley_time_5     0.90\n",
       "PSO_ackley_10         2.40\n",
       "PSO_ackley_time_10    0.93\n",
       "PSO_ackley_20         5.30\n",
       "PSO_ackley_time_20    0.98\n",
       "dtype: float64"
      ]
     },
     "execution_count": 29,
     "metadata": {},
     "output_type": "execute_result"
    }
   ],
   "source": [
    "df_sol_A.min().round(2)"
   ]
  },
  {
   "cell_type": "markdown",
   "metadata": {},
   "source": [
    "# Rosenbrock"
   ]
  },
  {
   "cell_type": "code",
   "execution_count": 30,
   "metadata": {},
   "outputs": [],
   "source": [
    "df_sol_R = pd.DataFrame()"
   ]
  },
  {
   "cell_type": "code",
   "execution_count": 31,
   "metadata": {},
   "outputs": [],
   "source": [
    "np.random.seed(42)\n",
    "fill = []\n",
    "fill_t = []\n",
    "for i in range(10):\n",
    "    problem = pg.problem(pg.rosenbrock(dim=5))\n",
    "    algorithm = pg.algorithm(pg.pso(gen=epoch, eta1 = 1, eta2 = 1, omega = 0.4)) # max_vel=1\n",
    "    population_size = pop\n",
    "    population = pg.population(problem, size=population_size)\n",
    "\n",
    "    start_time = time.time() # time\n",
    "    population = algorithm.evolve(population)\n",
    "    end_time = time.time() # time\n",
    "    elapsed_time = end_time - start_time # time\n",
    "\n",
    "    best_fitness = population.get_f()[population.best_idx()]\n",
    "    best_individual = population.get_x()[population.best_idx()]\n",
    "\n",
    "    # print(\"Best Fitness:\", best_fitness)\n",
    "    # print(\"Best Individual:\", best_individual)\n",
    "    fill.append(best_fitness[0])\n",
    "    fill_t.append(elapsed_time)\n",
    "df_sol_R['PSO_rosenbrock_5'] = fill\n",
    "df_sol_R['PSO_rosenbrock_time_5'] = fill_t"
   ]
  },
  {
   "cell_type": "code",
   "execution_count": 32,
   "metadata": {},
   "outputs": [],
   "source": [
    "np.random.seed(42)\n",
    "fill = []\n",
    "fill_t = []\n",
    "for i in range(10):\n",
    "    problem = pg.problem(pg.rosenbrock(dim=10))\n",
    "    algorithm = pg.algorithm(pg.pso(gen=epoch, eta1 = 1, eta2 = 1, omega = 0.4)) # max_vel=1\n",
    "    population_size = pop\n",
    "    population = pg.population(problem, size=population_size)\n",
    "\n",
    "    start_time = time.time() # time\n",
    "    population = algorithm.evolve(population)\n",
    "    end_time = time.time() # time\n",
    "    elapsed_time = end_time - start_time # time\n",
    "\n",
    "    best_fitness = population.get_f()[population.best_idx()]\n",
    "    best_individual = population.get_x()[population.best_idx()]\n",
    "\n",
    "    # print(\"Best Fitness:\", best_fitness)\n",
    "    # print(\"Best Individual:\", best_individual)\n",
    "    fill.append(best_fitness[0])\n",
    "    fill_t.append(elapsed_time)\n",
    "df_sol_R['PSO_rosenbrock_10'] = fill\n",
    "df_sol_R['PSO_rosenbrock_time_10'] = fill_t"
   ]
  },
  {
   "cell_type": "code",
   "execution_count": 33,
   "metadata": {},
   "outputs": [],
   "source": [
    "np.random.seed(42)\n",
    "fill = []\n",
    "fill_t = []\n",
    "for i in range(10):\n",
    "    problem = pg.problem(pg.rosenbrock(dim=20))\n",
    "    algorithm = pg.algorithm(pg.pso(gen=epoch, eta1 = 1, eta2 = 1, omega = 0.4)) # max_vel=1\n",
    "    population_size = pop\n",
    "    population = pg.population(problem, size=population_size)\n",
    "\n",
    "    start_time = time.time() # time\n",
    "    population = algorithm.evolve(population)\n",
    "    end_time = time.time() # time\n",
    "    elapsed_time = end_time - start_time # time\n",
    "\n",
    "    best_fitness = population.get_f()[population.best_idx()]\n",
    "    best_individual = population.get_x()[population.best_idx()]\n",
    "\n",
    "    # print(\"Best Fitness:\", best_fitness)\n",
    "    # print(\"Best Individual:\", best_individual)\n",
    "    fill.append(best_fitness[0])\n",
    "    fill_t.append(elapsed_time)\n",
    "df_sol_R['PSO_rosenbrock_20'] = fill\n",
    "df_sol_R['PSO_rosenbrock_time_20'] = fill_t"
   ]
  },
  {
   "cell_type": "code",
   "execution_count": 34,
   "metadata": {},
   "outputs": [
    {
     "data": {
      "text/plain": [
       "PSO_rosenbrock_5             2.35\n",
       "PSO_rosenbrock_time_5        0.02\n",
       "PSO_rosenbrock_10           81.96\n",
       "PSO_rosenbrock_time_10       0.05\n",
       "PSO_rosenbrock_20         3617.71\n",
       "PSO_rosenbrock_time_20       0.07\n",
       "dtype: float64"
      ]
     },
     "execution_count": 34,
     "metadata": {},
     "output_type": "execute_result"
    }
   ],
   "source": [
    "df_sol_R.mean().round(2)"
   ]
  },
  {
   "cell_type": "code",
   "execution_count": 35,
   "metadata": {},
   "outputs": [
    {
     "data": {
      "text/plain": [
       "PSO_rosenbrock_5             0.00\n",
       "PSO_rosenbrock_time_5        0.02\n",
       "PSO_rosenbrock_10           16.72\n",
       "PSO_rosenbrock_time_10       0.04\n",
       "PSO_rosenbrock_20         1749.54\n",
       "PSO_rosenbrock_time_20       0.06\n",
       "dtype: float64"
      ]
     },
     "execution_count": 35,
     "metadata": {},
     "output_type": "execute_result"
    }
   ],
   "source": [
    "df_sol_R.min().round(2)"
   ]
  }
 ],
 "metadata": {
  "kernelspec": {
   "display_name": "Python 3",
   "language": "python",
   "name": "python3"
  },
  "language_info": {
   "codemirror_mode": {
    "name": "ipython",
    "version": 3
   },
   "file_extension": ".py",
   "mimetype": "text/x-python",
   "name": "python",
   "nbconvert_exporter": "python",
   "pygments_lexer": "ipython3",
   "version": "3.11.7"
  }
 },
 "nbformat": 4,
 "nbformat_minor": 2
}
