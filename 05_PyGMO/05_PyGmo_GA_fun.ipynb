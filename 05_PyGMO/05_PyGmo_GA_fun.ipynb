{
 "cells": [
  {
   "cell_type": "code",
   "execution_count": 1,
   "metadata": {},
   "outputs": [],
   "source": [
    "import pandas as pd\n",
    "import numpy as np\n",
    "import time\n",
    "\n",
    "import pygmo as pg\n",
    "# https://esa.github.io/pagmo2/docs/cpp/algorithms/sga.html#_CPPv4N5pagmo3sgaE"
   ]
  },
  {
   "cell_type": "code",
   "execution_count": 2,
   "metadata": {},
   "outputs": [],
   "source": [
    "# PyGmo defined Ackley function has different bounds, need to be adjusted\n",
    "class CustomAckley:\n",
    "    def __init__(self, dim):\n",
    "        self.dim = dim\n",
    "\n",
    "    def fitness(self, x):\n",
    "        a = 20\n",
    "        b = 0.2\n",
    "        c = 2 * np.pi\n",
    "        term1 = -a * np.exp(-b * np.sqrt(np.sum(x**2) / self.dim))\n",
    "        term2 = -np.exp(np.sum(np.cos(c * x)) / self.dim)\n",
    "        return [term1 + term2 + a + np.exp(1)]\n",
    "\n",
    "    def get_bounds(self):\n",
    "        return ([-32.768] * self.dim, [32.768] * self.dim)"
   ]
  },
  {
   "cell_type": "code",
   "execution_count": 3,
   "metadata": {},
   "outputs": [],
   "source": [
    "epoch = 400 # 400\n",
    "pop = 300 # 300"
   ]
  },
  {
   "cell_type": "code",
   "execution_count": 4,
   "metadata": {},
   "outputs": [
    {
     "name": "stdout",
     "output_type": "stream",
     "text": [
      "Best Fitness: [9.7067591]\n",
      "Best Individual: [ 0.17158009 -3.74251349]\n"
     ]
    }
   ],
   "source": [
    "# Define the problem (Rastrigin function)\n",
    "problem = pg.problem(pg.ackley(dim=2))\n",
    "\n",
    "# Define the Simple Genetic Algorithm (SGA)\n",
    "algorithm = pg.algorithm(pg.sga(gen=1, cr=0.9, m=0.1))\n",
    "# (gen: int = 1, cr: float = 0.9, eta_c: float = 1.0, m: float = 0.02, param_m: float = 1.0,\n",
    "# param_s: int = 2, crossover: str = 'exponential', mutation: str = 'polynomial', selection: str = 'tournament')\n",
    "\n",
    "# cr – crossover probability.\n",
    "# m – mutation probability.\n",
    "\n",
    "# Define the population size\n",
    "population_size = 10\n",
    "\n",
    "# Initialize the population\n",
    "population = pg.population(problem, size=population_size)\n",
    "\n",
    "# Evolve the population\n",
    "population = algorithm.evolve(population)\n",
    "\n",
    "# Get the best individual and its fitness value\n",
    "best_fitness = population.get_f()[population.best_idx()]\n",
    "best_individual = population.get_x()[population.best_idx()]\n",
    "\n",
    "print(\"Best Fitness:\", best_fitness[0])\n",
    "print(\"Best Individual:\", best_individual)"
   ]
  },
  {
   "cell_type": "markdown",
   "metadata": {},
   "source": [
    "# Rastrigin"
   ]
  },
  {
   "cell_type": "code",
   "execution_count": 5,
   "metadata": {},
   "outputs": [],
   "source": [
    "df_sol = pd.DataFrame()\n",
    " # dimension=4, lower=-5.12, upper=5.12"
   ]
  },
  {
   "cell_type": "code",
   "execution_count": 6,
   "metadata": {},
   "outputs": [],
   "source": [
    "np.random.seed(42)\n",
    "fill = []\n",
    "fill_t = []\n",
    "for i in range(10):\n",
    "    problem = pg.problem(pg.rastrigin(dim=5))\n",
    "    algorithm = pg.algorithm(pg.sga(gen=epoch, cr=0.8, m=0.05))\n",
    "    population = pg.population(problem, size=pop)\n",
    "\n",
    "    start_time = time.time() # time\n",
    "    population = algorithm.evolve(population)\n",
    "    end_time = time.time() # time\n",
    "    elapsed_time = end_time - start_time # time\n",
    "    \n",
    "    best_fitness = population.get_f()[population.best_idx()]\n",
    "    best_individual = population.get_x()[population.best_idx()]\n",
    "    #print(\"Best Fitness:\", best_fitness)\n",
    "    #print(\"Best Individual:\", best_individual)\n",
    "    fill.append(best_fitness[0])\n",
    "    fill_t.append(elapsed_time)\n",
    "df_sol['GA_rastrigin_5'] = fill\n",
    "df_sol['GA_rastrigin_time_5'] = fill_t"
   ]
  },
  {
   "cell_type": "code",
   "execution_count": 7,
   "metadata": {},
   "outputs": [],
   "source": [
    "np.random.seed(42)\n",
    "fill = []\n",
    "fill_t = []\n",
    "\n",
    "for i in range(10):\n",
    "    problem = pg.problem(pg.rastrigin(dim=10))\n",
    "    algorithm = pg.algorithm(pg.sga(gen=epoch, cr=0.8, m=0.05))\n",
    "    population = pg.population(problem, size=pop)\n",
    "\n",
    "    start_time = time.time() # time\n",
    "    population = algorithm.evolve(population)\n",
    "    end_time = time.time() # time\n",
    "    elapsed_time = end_time - start_time # time\n",
    "    \n",
    "    best_fitness = population.get_f()[population.best_idx()]\n",
    "    best_individual = population.get_x()[population.best_idx()]\n",
    "    #print(\"Best Fitness:\", best_fitness)\n",
    "    #print(\"Best Individual:\", best_individual)\n",
    "    fill.append(best_fitness[0])\n",
    "    fill_t.append(elapsed_time)\n",
    "df_sol['GA_rastrigin_10'] = fill\n",
    "df_sol['GA_rastrigin_time_10'] = fill_t"
   ]
  },
  {
   "cell_type": "code",
   "execution_count": 8,
   "metadata": {},
   "outputs": [],
   "source": [
    "np.random.seed(43)\n",
    "fill = []\n",
    "fill_t = []\n",
    "\n",
    "for i in range(10):\n",
    "    problem = pg.problem(pg.rastrigin(dim=20))\n",
    "    algorithm = pg.algorithm(pg.sga(gen=epoch, cr=0.8, m=0.05))\n",
    "    population = pg.population(problem, size=pop)\n",
    "\n",
    "    start_time = time.time() # time\n",
    "    population = algorithm.evolve(population)\n",
    "    end_time = time.time() # time\n",
    "    elapsed_time = end_time - start_time # time\n",
    "    \n",
    "    best_fitness = population.get_f()[population.best_idx()]\n",
    "    best_individual = population.get_x()[population.best_idx()]\n",
    "    #print(\"Best Fitness:\", best_fitness)\n",
    "    #print(\"Best Individual:\", best_individual)\n",
    "    fill.append(best_fitness[0])\n",
    "    fill_t.append(elapsed_time)\n",
    "df_sol['GA_rastrigin_20'] = fill\n",
    "df_sol['GA_rastrigin_time_20'] = fill_t"
   ]
  },
  {
   "cell_type": "code",
   "execution_count": 10,
   "metadata": {},
   "outputs": [
    {
     "data": {
      "text/plain": [
       "GA_rastrigin_5          0.00\n",
       "GA_rastrigin_time_5     0.18\n",
       "GA_rastrigin_10         0.00\n",
       "GA_rastrigin_time_10    0.21\n",
       "GA_rastrigin_20         0.03\n",
       "GA_rastrigin_time_20    0.31\n",
       "dtype: float64"
      ]
     },
     "execution_count": 10,
     "metadata": {},
     "output_type": "execute_result"
    }
   ],
   "source": [
    "df_sol.mean().round(2)"
   ]
  },
  {
   "cell_type": "code",
   "execution_count": 11,
   "metadata": {},
   "outputs": [
    {
     "data": {
      "text/plain": [
       "GA_rastrigin_5          0.00\n",
       "GA_rastrigin_time_5     0.15\n",
       "GA_rastrigin_10         0.00\n",
       "GA_rastrigin_time_10    0.20\n",
       "GA_rastrigin_20         0.02\n",
       "GA_rastrigin_time_20    0.30\n",
       "dtype: float64"
      ]
     },
     "execution_count": 11,
     "metadata": {},
     "output_type": "execute_result"
    }
   ],
   "source": [
    "df_sol.min().round(2)"
   ]
  },
  {
   "cell_type": "markdown",
   "metadata": {},
   "source": [
    "# Ackley"
   ]
  },
  {
   "cell_type": "code",
   "execution_count": 12,
   "metadata": {},
   "outputs": [],
   "source": [
    "df_sol_A = pd.DataFrame()\n",
    "# dimension=4, lower=-32.768, upper=32.768, a=20.0, b=0.2, c=6.283185307179586 (( c= 2* pi))"
   ]
  },
  {
   "cell_type": "code",
   "execution_count": 13,
   "metadata": {},
   "outputs": [],
   "source": [
    "np.random.seed(42)\n",
    "fill = []\n",
    "fill_t = []\n",
    "\n",
    "for i in range(10):\n",
    "    problem = pg.problem(CustomAckley(dim=5))\n",
    "    algorithm = pg.algorithm(pg.sga(gen=epoch, cr=0.95, m=0.01))\n",
    "    population = pg.population(problem, size=pop)\n",
    "\n",
    "    start_time = time.time() # time\n",
    "    population = algorithm.evolve(population)\n",
    "    end_time = time.time() # time\n",
    "    elapsed_time = end_time - start_time # time\n",
    "    \n",
    "    best_fitness = population.get_f()[population.best_idx()]\n",
    "    best_individual = population.get_x()[population.best_idx()]\n",
    "    #print(\"Best Fitness:\", best_fitness)\n",
    "    #print(\"Best Individual:\", best_individual)\n",
    "    fill.append(best_fitness[0])\n",
    "    fill_t.append(elapsed_time)\n",
    "df_sol_A['GA_ackley_5'] = fill\n",
    "df_sol_A['GA_ackley_time_5'] = fill_t"
   ]
  },
  {
   "cell_type": "code",
   "execution_count": 14,
   "metadata": {},
   "outputs": [],
   "source": [
    "np.random.seed(42)\n",
    "fill = []\n",
    "fill_t = []\n",
    "\n",
    "for i in range(10):\n",
    "    problem = pg.problem(CustomAckley(dim=10))\n",
    "    algorithm = pg.algorithm(pg.sga(gen=epoch, cr=0.95, m=0.01))\n",
    "    population = pg.population(problem, size=pop)\n",
    "\n",
    "    start_time = time.time() # time\n",
    "    population = algorithm.evolve(population)\n",
    "    end_time = time.time() # time\n",
    "    elapsed_time = end_time - start_time # time\n",
    "    \n",
    "    best_fitness = population.get_f()[population.best_idx()]\n",
    "    best_individual = population.get_x()[population.best_idx()]\n",
    "    #print(\"Best Fitness:\", best_fitness)\n",
    "    #print(\"Best Individual:\", best_individual)\n",
    "    fill.append(best_fitness[0])\n",
    "    fill_t.append(elapsed_time)\n",
    "\n",
    "df_sol_A['GA_ackley_10'] = fill\n",
    "df_sol_A['GA_ackley_time_10'] = fill_t"
   ]
  },
  {
   "cell_type": "code",
   "execution_count": 15,
   "metadata": {},
   "outputs": [],
   "source": [
    "np.random.seed(42)\n",
    "fill = []\n",
    "fill_t = []\n",
    "\n",
    "for i in range(10):\n",
    "    problem = pg.problem(CustomAckley(dim=20))\n",
    "    algorithm = pg.algorithm(pg.sga(gen=epoch, cr=0.95, m=0.01))\n",
    "    population = pg.population(problem, size=pop)\n",
    "\n",
    "    start_time = time.time() # time\n",
    "    population = algorithm.evolve(population)\n",
    "    end_time = time.time() # time\n",
    "    elapsed_time = end_time - start_time # time\n",
    "    \n",
    "    best_fitness = population.get_f()[population.best_idx()]\n",
    "    best_individual = population.get_x()[population.best_idx()]\n",
    "    #print(\"Best Fitness:\", best_fitness)\n",
    "    #print(\"Best Individual:\", best_individual)\n",
    "    fill.append(best_fitness[0])\n",
    "    fill_t.append(elapsed_time)\n",
    "\n",
    "df_sol_A['GA_ackley_20'] = fill\n",
    "df_sol_A['GA_ackley_time_20'] = fill_t"
   ]
  },
  {
   "cell_type": "code",
   "execution_count": 16,
   "metadata": {},
   "outputs": [
    {
     "data": {
      "text/plain": [
       "GA_ackley_5          0.09\n",
       "GA_ackley_time_5     2.59\n",
       "GA_ackley_10         0.13\n",
       "GA_ackley_time_10    2.87\n",
       "GA_ackley_20         0.18\n",
       "GA_ackley_time_20    2.89\n",
       "dtype: float64"
      ]
     },
     "execution_count": 16,
     "metadata": {},
     "output_type": "execute_result"
    }
   ],
   "source": [
    "df_sol_A.mean().round(2)"
   ]
  },
  {
   "cell_type": "code",
   "execution_count": 17,
   "metadata": {},
   "outputs": [
    {
     "data": {
      "text/plain": [
       "GA_ackley_5          0.05\n",
       "GA_ackley_time_5     2.48\n",
       "GA_ackley_10         0.09\n",
       "GA_ackley_time_10    2.62\n",
       "GA_ackley_20         0.11\n",
       "GA_ackley_time_20    2.54\n",
       "dtype: float64"
      ]
     },
     "execution_count": 17,
     "metadata": {},
     "output_type": "execute_result"
    }
   ],
   "source": [
    "df_sol_A.min().round(2)"
   ]
  },
  {
   "cell_type": "markdown",
   "metadata": {},
   "source": [
    "# Rosenbrock"
   ]
  },
  {
   "cell_type": "code",
   "execution_count": 18,
   "metadata": {},
   "outputs": [],
   "source": [
    "df_sol_R = pd.DataFrame()"
   ]
  },
  {
   "cell_type": "code",
   "execution_count": 19,
   "metadata": {},
   "outputs": [],
   "source": [
    "np.random.seed(42)\n",
    "fill = []\n",
    "fill_t = []\n",
    "\n",
    "for i in range(10):\n",
    "    problem = pg.problem(pg.rosenbrock(dim=5))\n",
    "    algorithm = pg.algorithm(pg.sga(gen=epoch, cr=0.7, m=0.01))\n",
    "    population = pg.population(problem, size=pop)\n",
    "\n",
    "    start_time = time.time() # time\n",
    "    population = algorithm.evolve(population)\n",
    "    end_time = time.time() # time\n",
    "    elapsed_time = end_time - start_time # time\n",
    "    \n",
    "    best_fitness = population.get_f()[population.best_idx()]\n",
    "    best_individual = population.get_x()[population.best_idx()]\n",
    "    #print(\"Best Fitness:\", best_fitness)\n",
    "    #print(\"Best Individual:\", best_individual)\n",
    "    fill.append(best_fitness[0])\n",
    "    fill_t.append(elapsed_time)\n",
    "\n",
    "df_sol_R['GA_rosenbrock_5'] = fill\n",
    "df_sol_R['GA_rosenbrock_time_5'] = fill_t"
   ]
  },
  {
   "cell_type": "code",
   "execution_count": 20,
   "metadata": {},
   "outputs": [],
   "source": [
    "np.random.seed(42)\n",
    "fill = []\n",
    "fill_t = []\n",
    "\n",
    "for i in range(10):\n",
    "    problem = pg.problem(pg.rosenbrock(dim=10))\n",
    "    algorithm = pg.algorithm(pg.sga(gen=epoch, cr=0.7, m=0.01))\n",
    "    population = pg.population(problem, size=pop)\n",
    "\n",
    "    start_time = time.time() # time\n",
    "    population = algorithm.evolve(population)\n",
    "    end_time = time.time() # time\n",
    "    elapsed_time = end_time - start_time # time\n",
    "    \n",
    "    best_fitness = population.get_f()[population.best_idx()]\n",
    "    best_individual = population.get_x()[population.best_idx()]\n",
    "    #print(\"Best Fitness:\", best_fitness)\n",
    "    #print(\"Best Individual:\", best_individual)\n",
    "    fill.append(best_fitness[0])\n",
    "    fill_t.append(elapsed_time)\n",
    "df_sol_R['GA_rosenbrock_10'] = fill\n",
    "df_sol_R['GA_rosenbrock_time_10'] = fill_t"
   ]
  },
  {
   "cell_type": "code",
   "execution_count": 21,
   "metadata": {},
   "outputs": [],
   "source": [
    "np.random.seed(42)\n",
    "fill = []\n",
    "fill_t = []\n",
    "\n",
    "for i in range(10):\n",
    "    problem = pg.problem(pg.rosenbrock(dim=20))\n",
    "    algorithm = pg.algorithm(pg.sga(gen=epoch, cr=0.7, m=0.01))\n",
    "    population = pg.population(problem, size=pop)\n",
    "\n",
    "    start_time = time.time() # time\n",
    "    population = algorithm.evolve(population)\n",
    "    end_time = time.time() # time\n",
    "    elapsed_time = end_time - start_time # time\n",
    "    \n",
    "    best_fitness = population.get_f()[population.best_idx()]\n",
    "    best_individual = population.get_x()[population.best_idx()]\n",
    "    #print(\"Best Fitness:\", best_fitness)\n",
    "    #print(\"Best Individual:\", best_individual)\n",
    "    fill.append(best_fitness[0])\n",
    "    fill_t.append(elapsed_time)\n",
    "df_sol_R['GA_rosenbrock_20'] = fill\n",
    "df_sol_R['GA_rosenbrock_time_20'] = fill_t"
   ]
  },
  {
   "cell_type": "code",
   "execution_count": 22,
   "metadata": {},
   "outputs": [
    {
     "data": {
      "text/plain": [
       "GA_rosenbrock_5           1.61\n",
       "GA_rosenbrock_time_5      0.14\n",
       "GA_rosenbrock_10          8.71\n",
       "GA_rosenbrock_time_10     0.18\n",
       "GA_rosenbrock_20         52.26\n",
       "GA_rosenbrock_time_20     0.25\n",
       "dtype: float64"
      ]
     },
     "execution_count": 22,
     "metadata": {},
     "output_type": "execute_result"
    }
   ],
   "source": [
    "df_sol_R.mean().round(2)"
   ]
  },
  {
   "cell_type": "code",
   "execution_count": 23,
   "metadata": {},
   "outputs": [
    {
     "data": {
      "text/plain": [
       "GA_rosenbrock_5           0.23\n",
       "GA_rosenbrock_time_5      0.13\n",
       "GA_rosenbrock_10          3.33\n",
       "GA_rosenbrock_time_10     0.17\n",
       "GA_rosenbrock_20         12.66\n",
       "GA_rosenbrock_time_20     0.24\n",
       "dtype: float64"
      ]
     },
     "execution_count": 23,
     "metadata": {},
     "output_type": "execute_result"
    }
   ],
   "source": [
    "df_sol_R.min().round(2)"
   ]
  }
 ],
 "metadata": {
  "kernelspec": {
   "display_name": "Python 3",
   "language": "python",
   "name": "python3"
  },
  "language_info": {
   "codemirror_mode": {
    "name": "ipython",
    "version": 3
   },
   "file_extension": ".py",
   "mimetype": "text/x-python",
   "name": "python",
   "nbconvert_exporter": "python",
   "pygments_lexer": "ipython3",
   "version": "3.11.7"
  }
 },
 "nbformat": 4,
 "nbformat_minor": 2
}
