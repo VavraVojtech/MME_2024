{
 "cells": [
  {
   "cell_type": "code",
   "execution_count": 1,
   "metadata": {},
   "outputs": [],
   "source": [
    "import pandas as pd\n",
    "import numpy as np\n",
    "import time\n",
    "\n",
    "import pygmo as pg\n",
    "# https://esa.github.io/pagmo2/docs/cpp/algorithms/simulated_annealing.html#_CPPv4N5pagmo19simulated_annealingE"
   ]
  },
  {
   "cell_type": "code",
   "execution_count": 2,
   "metadata": {},
   "outputs": [],
   "source": [
    "# PyGmo defined Ackley function has different bounds, need to be adjusted\n",
    "class CustomAckley:\n",
    "    def __init__(self, dim):\n",
    "        self.dim = dim\n",
    "\n",
    "    def fitness(self, x):\n",
    "        a = 20\n",
    "        b = 0.2\n",
    "        c = 2 * np.pi\n",
    "        term1 = -a * np.exp(-b * np.sqrt(np.sum(x**2) / self.dim))\n",
    "        term2 = -np.exp(np.sum(np.cos(c * x)) / self.dim)\n",
    "        return [term1 + term2 + a + np.exp(1)]\n",
    "\n",
    "    def get_bounds(self):\n",
    "        return ([-32.768] * self.dim, [32.768] * self.dim)"
   ]
  },
  {
   "cell_type": "code",
   "execution_count": 3,
   "metadata": {},
   "outputs": [],
   "source": [
    "epoch=10000\n",
    "pop=100"
   ]
  },
  {
   "cell_type": "code",
   "execution_count": 4,
   "metadata": {},
   "outputs": [
    {
     "name": "stdout",
     "output_type": "stream",
     "text": [
      "Best Fitness: 86.81871645357131\n",
      "Best Individual: [-0.63929035  3.35168418 -2.5016261   1.26445999  2.00744917]\n"
     ]
    }
   ],
   "source": [
    "# Define the problem (Rastrigin function)\n",
    "problem = pg.problem(pg.rastrigin(dim=5))\n",
    "\n",
    "# Define the simulated annealing algorithm\n",
    "algorithm = pg.algorithm(pg.simulated_annealing(Ts=100., Tf=1e-6)) # n_T_adj=, n_range=, n_tries=\n",
    "\n",
    "# Ts            – starting temperature\n",
    "# Tf            – final temperature\n",
    "# n_T_adj       – number of temperature adjustments in the annealing schedule\n",
    "# n_range_adj   – number of adjustments of the search range performed at a constant temperature\n",
    "# bin_size      – number of mutations that are used to compute the acceptance rate\n",
    "# start_range   – starting range for mutating the decision vector\n",
    "\n",
    "# Define the population size\n",
    "population_size = 100\n",
    "\n",
    "# Initialize the population\n",
    "population = pg.population(problem, size=population_size)\n",
    "\n",
    "# Evolve the population\n",
    "population = algorithm.evolve(population)\n",
    "\n",
    "# Get the best individual and its fitness value\n",
    "best_fitness = population.get_f()[0]\n",
    "best_individual = population.get_x()[0]\n",
    "\n",
    "print(\"Best Fitness:\", best_fitness[0])\n",
    "print(\"Best Individual:\", best_individual)"
   ]
  },
  {
   "cell_type": "markdown",
   "metadata": {},
   "source": [
    "# Rastrigin"
   ]
  },
  {
   "cell_type": "code",
   "execution_count": 5,
   "metadata": {},
   "outputs": [],
   "source": [
    "df_sol = pd.DataFrame()"
   ]
  },
  {
   "cell_type": "code",
   "execution_count": 6,
   "metadata": {},
   "outputs": [],
   "source": [
    "np.random.seed(42)\n",
    "fill = []\n",
    "fill_t = []\n",
    "\n",
    "for i in range(10):\n",
    "    problem = pg.problem(pg.rastrigin(dim=5))\n",
    "    algorithm = pg.algorithm(pg.simulated_annealing(Ts=110, Tf=1e-6))\n",
    "    population_size = pop\n",
    "    population = pg.population(problem, size=population_size)\n",
    "\n",
    "    start_time = time.time() # time\n",
    "    population = algorithm.evolve(population)\n",
    "    end_time = time.time() # time\n",
    "    elapsed_time = end_time - start_time # time\n",
    "\n",
    "    best_fitness = population.get_f()[population.best_idx()]\n",
    "    best_individual = population.get_x()[population.best_idx()]\n",
    "    #print(\"Best Fitness:\", best_fitness[0])\n",
    "    #print(\"Best Individual:\", best_individual)\n",
    "    fill.append(best_fitness[0])\n",
    "    fill_t.append(elapsed_time)\n",
    "df_sol['SA_rastrigin_5'] = fill\n",
    "df_sol['SA_rastrigin_time_5'] = fill_t"
   ]
  },
  {
   "cell_type": "code",
   "execution_count": 7,
   "metadata": {},
   "outputs": [],
   "source": [
    "np.random.seed(42)\n",
    "fill = []\n",
    "fill_t = []\n",
    "\n",
    "for i in range(10):\n",
    "    problem = pg.problem(pg.rastrigin(dim=10))\n",
    "    algorithm = pg.algorithm(pg.simulated_annealing(Ts=110, Tf=1e-6))\n",
    "    population_size = pop\n",
    "    population = pg.population(problem, size=population_size)\n",
    "\n",
    "    start_time = time.time() # time\n",
    "    population = algorithm.evolve(population)\n",
    "    end_time = time.time() # time\n",
    "    elapsed_time = end_time - start_time # time\n",
    "\n",
    "    best_fitness = population.get_f()[population.best_idx()]\n",
    "    best_individual = population.get_x()[population.best_idx()]\n",
    "    #print(\"Best Fitness:\", best_fitness[0])\n",
    "    #print(\"Best Individual:\", best_individual)\n",
    "    fill.append(best_fitness[0])\n",
    "    fill_t.append(elapsed_time)\n",
    "df_sol['SA_rastrigin_10'] = fill\n",
    "df_sol['SA_rastrigin_time_10'] = fill_t"
   ]
  },
  {
   "cell_type": "code",
   "execution_count": 8,
   "metadata": {},
   "outputs": [],
   "source": [
    "np.random.seed(42)\n",
    "fill = []\n",
    "fill_t = []\n",
    "\n",
    "for i in range(10):\n",
    "    problem = pg.problem(pg.rastrigin(dim=20))\n",
    "    algorithm = pg.algorithm(pg.simulated_annealing(Ts=110, Tf=1e-6))\n",
    "    population_size = pop\n",
    "    population = pg.population(problem, size=population_size)\n",
    "\n",
    "    start_time = time.time() # time\n",
    "    population = algorithm.evolve(population)\n",
    "    end_time = time.time() # time\n",
    "    elapsed_time = end_time - start_time # time\n",
    "\n",
    "    best_fitness = population.get_f()[population.best_idx()]\n",
    "    best_individual = population.get_x()[population.best_idx()]\n",
    "    #print(\"Best Fitness:\", best_fitness[0])\n",
    "    #print(\"Best Individual:\", best_individual)\n",
    "    fill.append(best_fitness[0])\n",
    "    fill_t.append(elapsed_time)\n",
    "df_sol['SA_rastrigin_20'] = fill\n",
    "df_sol['SA_rastrigin_time_20'] = fill_t"
   ]
  },
  {
   "cell_type": "code",
   "execution_count": 9,
   "metadata": {},
   "outputs": [
    {
     "data": {
      "text/plain": [
       "SA_rastrigin_5          1.29\n",
       "SA_rastrigin_time_5     0.00\n",
       "SA_rastrigin_10         1.79\n",
       "SA_rastrigin_time_10    0.00\n",
       "SA_rastrigin_20         5.67\n",
       "SA_rastrigin_time_20    0.00\n",
       "dtype: float64"
      ]
     },
     "execution_count": 9,
     "metadata": {},
     "output_type": "execute_result"
    }
   ],
   "source": [
    "df_sol.mean().round(2)"
   ]
  },
  {
   "cell_type": "code",
   "execution_count": 10,
   "metadata": {},
   "outputs": [
    {
     "data": {
      "text/plain": [
       "SA_rastrigin_5          0.00\n",
       "SA_rastrigin_time_5     0.00\n",
       "SA_rastrigin_10         1.00\n",
       "SA_rastrigin_time_10    0.00\n",
       "SA_rastrigin_20         3.98\n",
       "SA_rastrigin_time_20    0.00\n",
       "dtype: float64"
      ]
     },
     "execution_count": 10,
     "metadata": {},
     "output_type": "execute_result"
    }
   ],
   "source": [
    "df_sol.min().round(2)"
   ]
  },
  {
   "cell_type": "markdown",
   "metadata": {},
   "source": [
    "# Ackley"
   ]
  },
  {
   "cell_type": "code",
   "execution_count": 11,
   "metadata": {},
   "outputs": [],
   "source": [
    "df_sol_A = pd.DataFrame()"
   ]
  },
  {
   "cell_type": "code",
   "execution_count": 12,
   "metadata": {},
   "outputs": [],
   "source": [
    "np.random.seed(42)\n",
    "fill = []\n",
    "fill_t = []\n",
    "for i in range(10):\n",
    "    problem = pg.problem(CustomAckley(dim=5))\n",
    "    algorithm = pg.algorithm(pg.simulated_annealing(Ts=110, Tf=1e-6))\n",
    "    population_size = pop\n",
    "    population = pg.population(problem, size=population_size)\n",
    "\n",
    "    start_time = time.time() # time\n",
    "    population = algorithm.evolve(population)\n",
    "    end_time = time.time() # time\n",
    "    elapsed_time = end_time - start_time # time\n",
    "\n",
    "    best_fitness = population.get_f()[population.best_idx()]\n",
    "    best_individual = population.get_x()[population.best_idx()]\n",
    "    #print(\"Best Fitness:\", best_fitness[0])\n",
    "    #print(\"Best Individual:\", best_individual)\n",
    "    fill.append(best_fitness[0])\n",
    "    fill_t.append(elapsed_time)\n",
    "df_sol_A['SA_ackley_5'] = fill\n",
    "df_sol_A['SA_ackley_time_5'] = fill_t"
   ]
  },
  {
   "cell_type": "code",
   "execution_count": 13,
   "metadata": {},
   "outputs": [],
   "source": [
    "np.random.seed(42)\n",
    "fill = []\n",
    "fill_t = []\n",
    "for i in range(10):\n",
    "    problem = pg.problem(CustomAckley(dim=10))\n",
    "    algorithm = pg.algorithm(pg.simulated_annealing(Ts=110, Tf=1e-6))\n",
    "    population_size = pop\n",
    "    population = pg.population(problem, size=population_size)\n",
    "\n",
    "    start_time = time.time() # time\n",
    "    population = algorithm.evolve(population)\n",
    "    end_time = time.time() # time\n",
    "    elapsed_time = end_time - start_time # time\n",
    "\n",
    "    best_fitness = population.get_f()[population.best_idx()]\n",
    "    best_individual = population.get_x()[population.best_idx()]\n",
    "    #print(\"Best Fitness:\", best_fitness[0])\n",
    "    #print(\"Best Individual:\", best_individual)\n",
    "    fill.append(best_fitness[0])\n",
    "    fill_t.append(elapsed_time)\n",
    "df_sol_A['SA_ackley_10'] = fill\n",
    "df_sol_A['SA_ackley_time_10'] = fill_t"
   ]
  },
  {
   "cell_type": "code",
   "execution_count": 14,
   "metadata": {},
   "outputs": [],
   "source": [
    "np.random.seed(42)\n",
    "fill = []\n",
    "fill_t = []\n",
    "for i in range(10):\n",
    "    problem = pg.problem(CustomAckley(dim=20))\n",
    "    algorithm = pg.algorithm(pg.simulated_annealing(Ts=110, Tf=1e-6))\n",
    "    population_size = pop\n",
    "    population = pg.population(problem, size=population_size)\n",
    "\n",
    "    start_time = time.time() # time\n",
    "    population = algorithm.evolve(population)\n",
    "    end_time = time.time() # time\n",
    "    elapsed_time = end_time - start_time # time\n",
    "\n",
    "    best_fitness = population.get_f()[population.best_idx()]\n",
    "    best_individual = population.get_x()[population.best_idx()]\n",
    "    #print(\"Best Fitness:\", best_fitness[0])\n",
    "    #print(\"Best Individual:\", best_individual)\n",
    "    fill.append(best_fitness[0])\n",
    "    fill_t.append(elapsed_time)\n",
    "df_sol_A['SA_ackley_20'] = fill\n",
    "df_sol_A['SA_ackley_time_20'] = fill_t"
   ]
  },
  {
   "cell_type": "code",
   "execution_count": 15,
   "metadata": {},
   "outputs": [
    {
     "data": {
      "text/plain": [
       "SA_ackley_5          0.04\n",
       "SA_ackley_time_5     0.02\n",
       "SA_ackley_10         0.08\n",
       "SA_ackley_time_10    0.04\n",
       "SA_ackley_20         0.13\n",
       "SA_ackley_time_20    0.07\n",
       "dtype: float64"
      ]
     },
     "execution_count": 15,
     "metadata": {},
     "output_type": "execute_result"
    }
   ],
   "source": [
    "df_sol_A.mean().round(2)"
   ]
  },
  {
   "cell_type": "code",
   "execution_count": 16,
   "metadata": {},
   "outputs": [
    {
     "data": {
      "text/plain": [
       "SA_ackley_5          0.02\n",
       "SA_ackley_time_5     0.02\n",
       "SA_ackley_10         0.02\n",
       "SA_ackley_time_10    0.03\n",
       "SA_ackley_20         0.08\n",
       "SA_ackley_time_20    0.07\n",
       "dtype: float64"
      ]
     },
     "execution_count": 16,
     "metadata": {},
     "output_type": "execute_result"
    }
   ],
   "source": [
    "df_sol_A.min().round(2)"
   ]
  },
  {
   "cell_type": "markdown",
   "metadata": {},
   "source": [
    "# Rosenbrock"
   ]
  },
  {
   "cell_type": "code",
   "execution_count": 17,
   "metadata": {},
   "outputs": [],
   "source": [
    "df_sol_R = pd.DataFrame()"
   ]
  },
  {
   "cell_type": "code",
   "execution_count": 18,
   "metadata": {},
   "outputs": [],
   "source": [
    "np.random.seed(42)\n",
    "fill = []\n",
    "fill_t = []\n",
    "for i in range(10):\n",
    "    problem = pg.problem(pg.rosenbrock(dim=5))\n",
    "    algorithm = pg.algorithm(pg.simulated_annealing(Ts=60, Tf=1e-6))\n",
    "    population_size = pop\n",
    "    population = pg.population(problem, size=population_size)\n",
    "\n",
    "    start_time = time.time() # time\n",
    "    population = algorithm.evolve(population)\n",
    "    end_time = time.time() # time\n",
    "    elapsed_time = end_time - start_time # time\n",
    "\n",
    "    best_fitness = population.get_f()[population.best_idx()]\n",
    "    best_individual = population.get_x()[population.best_idx()]\n",
    "    #print(\"Best Fitness:\", best_fitness[0])\n",
    "    #print(\"Best Individual:\", best_individual)\n",
    "    fill.append(best_fitness[0])\n",
    "    fill_t.append(elapsed_time)\n",
    "df_sol_R['SA_rosenbrock_5'] = fill\n",
    "df_sol_R['SA_rosenbrock_time_5'] = fill_t"
   ]
  },
  {
   "cell_type": "code",
   "execution_count": 19,
   "metadata": {},
   "outputs": [],
   "source": [
    "np.random.seed(42)\n",
    "fill = []\n",
    "fill_t = []\n",
    "for i in range(10):\n",
    "    problem = pg.problem(pg.rosenbrock(dim=10))\n",
    "    algorithm = pg.algorithm(pg.simulated_annealing(Ts=60, Tf=1e-6))\n",
    "    population_size = pop\n",
    "    population = pg.population(problem, size=population_size)\n",
    "\n",
    "    start_time = time.time() # time\n",
    "    population = algorithm.evolve(population)\n",
    "    end_time = time.time() # time\n",
    "    elapsed_time = end_time - start_time # time\n",
    "\n",
    "    best_fitness = population.get_f()[population.best_idx()]\n",
    "    best_individual = population.get_x()[population.best_idx()]\n",
    "    #print(\"Best Fitness:\", best_fitness[0])\n",
    "    #print(\"Best Individual:\", best_individual)\n",
    "    fill.append(best_fitness[0])\n",
    "    fill_t.append(elapsed_time)\n",
    "df_sol_R['SA_rosenbrock_10'] = fill\n",
    "df_sol_R['SA_rosenbrock_time_10'] = fill_t"
   ]
  },
  {
   "cell_type": "code",
   "execution_count": 20,
   "metadata": {},
   "outputs": [],
   "source": [
    "np.random.seed(42)\n",
    "fill = []\n",
    "fill_t = []\n",
    "for i in range(10):\n",
    "    problem = pg.problem(pg.rosenbrock(dim=20))\n",
    "    algorithm = pg.algorithm(pg.simulated_annealing(Ts=60, Tf=1e-6))\n",
    "    population_size = pop\n",
    "    population = pg.population(problem, size=population_size)\n",
    "\n",
    "    start_time = time.time() # time\n",
    "    population = algorithm.evolve(population)\n",
    "    end_time = time.time() # time\n",
    "    elapsed_time = end_time - start_time # time\n",
    "\n",
    "    best_fitness = population.get_f()[population.best_idx()]\n",
    "    best_individual = population.get_x()[population.best_idx()]\n",
    "    #print(\"Best Fitness:\", best_fitness[0])\n",
    "    #print(\"Best Individual:\", best_individual)\n",
    "    fill.append(best_fitness[0])\n",
    "    fill_t.append(elapsed_time)\n",
    "df_sol_R['SA_rosenbrock_20'] = fill\n",
    "df_sol_R['SA_rosenbrock_time_20'] = fill_t"
   ]
  },
  {
   "cell_type": "code",
   "execution_count": 21,
   "metadata": {},
   "outputs": [
    {
     "data": {
      "text/plain": [
       "SA_rosenbrock_5           2.66\n",
       "SA_rosenbrock_time_5      0.00\n",
       "SA_rosenbrock_10          3.53\n",
       "SA_rosenbrock_time_10     0.00\n",
       "SA_rosenbrock_20         31.00\n",
       "SA_rosenbrock_time_20     0.00\n",
       "dtype: float64"
      ]
     },
     "execution_count": 21,
     "metadata": {},
     "output_type": "execute_result"
    }
   ],
   "source": [
    "df_sol_R.mean().round(2)"
   ]
  },
  {
   "cell_type": "code",
   "execution_count": 22,
   "metadata": {},
   "outputs": [
    {
     "data": {
      "text/plain": [
       "SA_rosenbrock_5          0.41\n",
       "SA_rosenbrock_time_5     0.00\n",
       "SA_rosenbrock_10         0.22\n",
       "SA_rosenbrock_time_10    0.00\n",
       "SA_rosenbrock_20         0.90\n",
       "SA_rosenbrock_time_20    0.00\n",
       "dtype: float64"
      ]
     },
     "execution_count": 22,
     "metadata": {},
     "output_type": "execute_result"
    }
   ],
   "source": [
    "df_sol_R.min().round(2)"
   ]
  }
 ],
 "metadata": {
  "kernelspec": {
   "display_name": "Python 3",
   "language": "python",
   "name": "python3"
  },
  "language_info": {
   "codemirror_mode": {
    "name": "ipython",
    "version": 3
   },
   "file_extension": ".py",
   "mimetype": "text/x-python",
   "name": "python",
   "nbconvert_exporter": "python",
   "pygments_lexer": "ipython3",
   "version": "3.11.7"
  }
 },
 "nbformat": 4,
 "nbformat_minor": 2
}
