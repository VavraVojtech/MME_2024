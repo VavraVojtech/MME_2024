{
 "cells": [
  {
   "cell_type": "code",
   "execution_count": 1,
   "metadata": {},
   "outputs": [],
   "source": [
    "import pandas as pd\n",
    "import numpy as np\n",
    "import time\n",
    "\n",
    "from niapy.algorithms.basic import ParticleSwarmOptimization # c1, c2, w, min_velocity, max_velocity,       ParticleSwarmAlgorithm\n",
    "\n",
    "from niapy.task import Task\n",
    "from niapy.problems import Rastrigin    # dimension=4, lower=-5.12, upper=5.12\n",
    "from niapy.problems import Ackley       # dimension=4, lower=-32.768, upper=32.768, a=20.0, b=0.2, c=6.283185307179586,\n",
    "from niapy.problems import Rosenbrock   # dimension=4, lower=-30.0, upper=30.0"
   ]
  },
  {
   "cell_type": "code",
   "execution_count": 2,
   "metadata": {},
   "outputs": [],
   "source": [
    "epoch = 500\n",
    "pop = 100"
   ]
  },
  {
   "cell_type": "markdown",
   "metadata": {},
   "source": [
    "# Rastrigin"
   ]
  },
  {
   "cell_type": "code",
   "execution_count": 3,
   "metadata": {},
   "outputs": [],
   "source": [
    "df_sol = pd.DataFrame()\n",
    " # dimension=4, lower=-5.12, upper=5.12"
   ]
  },
  {
   "cell_type": "code",
   "execution_count": 4,
   "metadata": {},
   "outputs": [],
   "source": [
    "np.random.seed(42)\n",
    "fill = []\n",
    "fill_t = []\n",
    "\n",
    "for i in range(10):\n",
    "    # Define the task\n",
    "    task = Task(problem=Rastrigin(dimension=5, lower=-5.12, upper=5.12), max_evals=epoch)\n",
    "\n",
    "    # Initialize the Genetic Algorithm\n",
    "    algorithm = ParticleSwarmOptimization(population_size = pop, c1=0.92, c2=0.97, w=0.4)#, min_velocity=-3, max_velocity=3)\n",
    "\n",
    "    start_time = time.time() # time\n",
    "    # Run the algorithm\n",
    "    best = algorithm.run(task=task)\n",
    "    end_time = time.time() # time\n",
    "    elapsed_time = end_time - start_time # time\n",
    "\n",
    "    # Print the best solution found\n",
    "    # print('Best solution found: %s' % best[0])\n",
    "    # print('Fitness value of the best solution: %f' % best[1])\n",
    "    fill.append(best[1])\n",
    "    fill_t.append(elapsed_time)\n",
    "df_sol['PSO_rastrigin_5'] = fill\n",
    "df_sol['PSO_rastrigin_time_5'] = fill_t"
   ]
  },
  {
   "cell_type": "code",
   "execution_count": 5,
   "metadata": {},
   "outputs": [],
   "source": [
    "np.random.seed(42)\n",
    "fill = []\n",
    "fill_t = []\n",
    "\n",
    "for i in range(10):\n",
    "    # Define the task\n",
    "    task = Task(problem=Rastrigin(dimension=10, lower=-5.12, upper=5.12), max_evals=epoch)\n",
    "\n",
    "    # Initialize the Genetic Algorithm\n",
    "    algorithm = ParticleSwarmOptimization(population_size = pop, c1=0.92, c2=0.97, w=0.4)#, min_velocity=-3, max_velocity=3)\n",
    "\n",
    "    start_time = time.time() # time\n",
    "    # Run the algorithm\n",
    "    best = algorithm.run(task=task)\n",
    "    end_time = time.time() # time\n",
    "    elapsed_time = end_time - start_time # time\n",
    "\n",
    "    # Print the best solution found\n",
    "    # print('Best solution found: %s' % best[0])\n",
    "    # print('Fitness value of the best solution: %f' % best[1])\n",
    "    fill.append(best[1])\n",
    "    fill_t.append(elapsed_time)\n",
    "df_sol['PSO_rastrigin_10'] = fill\n",
    "df_sol['PSO_rastrigin_time_10'] = fill_t"
   ]
  },
  {
   "cell_type": "code",
   "execution_count": 6,
   "metadata": {},
   "outputs": [],
   "source": [
    "np.random.seed(42)\n",
    "fill = []\n",
    "fill_t = []\n",
    "\n",
    "for i in range(10):\n",
    "    # Define the task\n",
    "    task = Task(problem=Rastrigin(dimension=20, lower=-5.12, upper=5.12), max_evals=epoch)\n",
    "\n",
    "    # Initialize the Genetic Algorithm\n",
    "    algorithm = ParticleSwarmOptimization(population_size = pop, c1=0.92, c2=0.97, w=0.4)#, min_velocity=-3, max_velocity=3)\n",
    "\n",
    "    start_time = time.time() # time\n",
    "    # Run the algorithm\n",
    "    best = algorithm.run(task=task)\n",
    "    end_time = time.time() # time\n",
    "    elapsed_time = end_time - start_time # time\n",
    "\n",
    "    # Print the best solution found\n",
    "    # print('Best solution found: %s' % best[0])\n",
    "    # print('Fitness value of the best solution: %f' % best[1])\n",
    "    fill.append(best[1])\n",
    "    fill_t.append(elapsed_time)\n",
    "df_sol['PSO_rastrigin_20'] = fill\n",
    "df_sol['PSO_rastrigin_time_20'] = fill_t"
   ]
  },
  {
   "cell_type": "code",
   "execution_count": 7,
   "metadata": {},
   "outputs": [
    {
     "data": {
      "text/plain": [
       "PSO_rastrigin_5           17.54\n",
       "PSO_rastrigin_time_5       0.02\n",
       "PSO_rastrigin_10          72.41\n",
       "PSO_rastrigin_time_10      0.01\n",
       "PSO_rastrigin_20         177.35\n",
       "PSO_rastrigin_time_20      0.02\n",
       "dtype: float64"
      ]
     },
     "execution_count": 7,
     "metadata": {},
     "output_type": "execute_result"
    }
   ],
   "source": [
    "df_sol.mean().round(2)"
   ]
  },
  {
   "cell_type": "code",
   "execution_count": 8,
   "metadata": {},
   "outputs": [
    {
     "data": {
      "text/plain": [
       "PSO_rastrigin_5           12.84\n",
       "PSO_rastrigin_time_5       0.01\n",
       "PSO_rastrigin_10          50.20\n",
       "PSO_rastrigin_time_10      0.01\n",
       "PSO_rastrigin_20         142.15\n",
       "PSO_rastrigin_time_20      0.01\n",
       "dtype: float64"
      ]
     },
     "execution_count": 8,
     "metadata": {},
     "output_type": "execute_result"
    }
   ],
   "source": [
    "df_sol.min().round(2)"
   ]
  },
  {
   "cell_type": "markdown",
   "metadata": {},
   "source": [
    "# Ackley"
   ]
  },
  {
   "cell_type": "code",
   "execution_count": 9,
   "metadata": {},
   "outputs": [],
   "source": [
    "df_sol_A = pd.DataFrame()\n",
    "# dimension=4, lower=-32.768, upper=32.768, a=20.0, b=0.2, c=6.283185307179586 (( c= 2* pi))"
   ]
  },
  {
   "cell_type": "code",
   "execution_count": 10,
   "metadata": {},
   "outputs": [],
   "source": [
    "np.random.seed(42)\n",
    "fill = []\n",
    "fill_t = []\n",
    "\n",
    "for i in range(10):\n",
    "    # Define the task\n",
    "    task = Task(problem=Ackley(dimension=5, lower=-32.768, upper=32.768, a=20,b=0.2,c=2*np.pi), max_evals=epoch)\n",
    "\n",
    "    # Initialize the Genetic Algorithm\n",
    "    algorithm = ParticleSwarmOptimization(population_size = pop, c1=1, c2=1, w=0.4)#, min_velocity=-3, max_velocity=3)\n",
    "\n",
    "    start_time = time.time() # time\n",
    "    # Run the algorithm\n",
    "    best = algorithm.run(task=task)\n",
    "    end_time = time.time() # time\n",
    "    elapsed_time = end_time - start_time # time\n",
    "\n",
    "    # Print the best solution found\n",
    "    # print('Best solution found: %s' % best[0])\n",
    "    # print('Fitness value of the best solution: %f' % best[1])\n",
    "    fill.append(best[1])\n",
    "    fill_t.append(elapsed_time)\n",
    "\n",
    "df_sol_A['PSO_ackley_5'] = fill\n",
    "df_sol_A['PSO_ackley_time_5'] = fill_t"
   ]
  },
  {
   "cell_type": "code",
   "execution_count": 11,
   "metadata": {},
   "outputs": [],
   "source": [
    "np.random.seed(42)\n",
    "fill = []\n",
    "fill_t = []\n",
    "\n",
    "for i in range(10):\n",
    "    # Define the task\n",
    "    task = Task(problem=Ackley(dimension=10, lower=-32.768, upper=32.768, a=20,b=0.2,c=2*np.pi), max_evals=epoch)\n",
    "\n",
    "    # Initialize the Genetic Algorithm\n",
    "    algorithm = ParticleSwarmOptimization(population_size = pop, c1=1, c2=1, w=0.4)#, min_velocity=-3, max_velocity=3)\n",
    "\n",
    "    start_time = time.time() # time\n",
    "    # Run the algorithm\n",
    "    best = algorithm.run(task=task)\n",
    "    end_time = time.time() # time\n",
    "    elapsed_time = end_time - start_time # time\n",
    "\n",
    "    # Print the best solution found\n",
    "    # print('Best solution found: %s' % best[0])\n",
    "    # print('Fitness value of the best solution: %f' % best[1])\n",
    "    fill.append(best[1])\n",
    "    fill_t.append(elapsed_time)\n",
    "\n",
    "df_sol_A['PSO_ackley_10'] = fill\n",
    "df_sol_A['PSO_ackley_time_10'] = fill_t"
   ]
  },
  {
   "cell_type": "code",
   "execution_count": 12,
   "metadata": {},
   "outputs": [],
   "source": [
    "np.random.seed(42)\n",
    "fill = []\n",
    "fill_t = []\n",
    "\n",
    "for i in range(10):\n",
    "    # Define the task\n",
    "    task = Task(problem=Ackley(dimension=20, lower=-32.768, upper=32.768, a=20,b=0.2,c=2*np.pi), max_evals=epoch)\n",
    "\n",
    "    # Initialize the Genetic Algorithm\n",
    "    algorithm = ParticleSwarmOptimization(population_size = pop, c1=1, c2=1, w=0.4)#, min_velocity=-3, max_velocity=3)\n",
    "\n",
    "    start_time = time.time() # time\n",
    "    # Run the algorithm\n",
    "    best = algorithm.run(task=task)\n",
    "    end_time = time.time() # time\n",
    "    elapsed_time = end_time - start_time # time\n",
    "\n",
    "    # Print the best solution found\n",
    "    # print('Best solution found: %s' % best[0])\n",
    "    # print('Fitness value of the best solution: %f' % best[1])\n",
    "    fill.append(best[1])\n",
    "    fill_t.append(elapsed_time)\n",
    "\n",
    "df_sol_A['PSO_ackley_20'] = fill\n",
    "df_sol_A['PSO_ackley_time_20'] = fill_t"
   ]
  },
  {
   "cell_type": "code",
   "execution_count": 13,
   "metadata": {},
   "outputs": [
    {
     "data": {
      "text/plain": [
       "PSO_ackley_5           8.31\n",
       "PSO_ackley_time_5      0.02\n",
       "PSO_ackley_10         13.45\n",
       "PSO_ackley_time_10     0.02\n",
       "PSO_ackley_20         17.01\n",
       "PSO_ackley_time_20     0.02\n",
       "dtype: float64"
      ]
     },
     "execution_count": 13,
     "metadata": {},
     "output_type": "execute_result"
    }
   ],
   "source": [
    "df_sol_A.mean().round(2)"
   ]
  },
  {
   "cell_type": "code",
   "execution_count": 14,
   "metadata": {},
   "outputs": [
    {
     "data": {
      "text/plain": [
       "PSO_ackley_5           4.22\n",
       "PSO_ackley_time_5      0.02\n",
       "PSO_ackley_10         11.38\n",
       "PSO_ackley_time_10     0.02\n",
       "PSO_ackley_20         15.09\n",
       "PSO_ackley_time_20     0.02\n",
       "dtype: float64"
      ]
     },
     "execution_count": 14,
     "metadata": {},
     "output_type": "execute_result"
    }
   ],
   "source": [
    "df_sol_A.min().round(2)"
   ]
  },
  {
   "cell_type": "markdown",
   "metadata": {},
   "source": [
    "# Rosenbrock"
   ]
  },
  {
   "cell_type": "code",
   "execution_count": 15,
   "metadata": {},
   "outputs": [],
   "source": [
    "df_sol_R = pd.DataFrame()"
   ]
  },
  {
   "cell_type": "code",
   "execution_count": 16,
   "metadata": {},
   "outputs": [],
   "source": [
    "np.random.seed(42)\n",
    "fill = []\n",
    "fill_t = []\n",
    "\n",
    "for i in range(10):\n",
    "    # Define the task\n",
    "    task = Task(problem=Rosenbrock(dimension=5, lower=-5, upper=10), max_evals=epoch)\n",
    "\n",
    "    # Initialize the Genetic Algorithm\n",
    "    algorithm = ParticleSwarmOptimization(population_size = pop, c1=2.3, c2=1.2, w=0.4)#, min_velocity=-3, max_velocity=3)\n",
    "\n",
    "    start_time = time.time() # time\n",
    "    # Run the algorithm\n",
    "    best = algorithm.run(task=task)\n",
    "    end_time = time.time() # time\n",
    "    elapsed_time = end_time - start_time # time\n",
    "\n",
    "    # Print the best solution found\n",
    "    # print('Best solution found: %s' % best[0])\n",
    "    # print('Fitness value of the best solution: %f' % best[1])\n",
    "    fill.append(best[1])\n",
    "    fill_t.append(elapsed_time)\n",
    "\n",
    "df_sol_R['PSO_rosenbrock_5'] = fill\n",
    "df_sol_R['PSO_rosenbrock_time_5'] = fill_t"
   ]
  },
  {
   "cell_type": "code",
   "execution_count": 17,
   "metadata": {},
   "outputs": [],
   "source": [
    "np.random.seed(42)\n",
    "fill = []\n",
    "fill_t = []\n",
    "\n",
    "for i in range(10):\n",
    "    # Define the task\n",
    "    task = Task(problem=Rosenbrock(dimension=10, lower=-5, upper=10), max_evals=epoch)\n",
    "\n",
    "    # Initialize the Genetic Algorithm\n",
    "    algorithm = ParticleSwarmOptimization(population_size = pop, c1=2.3, c2=1.2, w=0.4)#, min_velocity=-3, max_velocity=3)\n",
    "\n",
    "    start_time = time.time() # time\n",
    "    # Run the algorithm\n",
    "    best = algorithm.run(task=task)\n",
    "    end_time = time.time() # time\n",
    "    elapsed_time = end_time - start_time # time\n",
    "\n",
    "    # Print the best solution found\n",
    "    # print('Best solution found: %s' % best[0])\n",
    "    # print('Fitness value of the best solution: %f' % best[1])\n",
    "    fill.append(best[1])\n",
    "    fill_t.append(elapsed_time)\n",
    "df_sol_R['PSO_rosenbrock_10'] = fill\n",
    "df_sol_R['PSO_rosenbrock_time_10'] = fill_t"
   ]
  },
  {
   "cell_type": "code",
   "execution_count": 18,
   "metadata": {},
   "outputs": [],
   "source": [
    "np.random.seed(42)\n",
    "fill = []\n",
    "fill_t = []\n",
    "\n",
    "for i in range(10):\n",
    "    # Define the task\n",
    "    task = Task(problem=Rosenbrock(dimension=20, lower=-5, upper=10), max_evals=epoch)\n",
    "\n",
    "    # Initialize the Genetic Algorithm\n",
    "    algorithm = ParticleSwarmOptimization(population_size = pop, c1=2.3, c2=1.2, w=0.4)#, min_velocity=-3, max_velocity=3)\n",
    "\n",
    "    start_time = time.time() # time\n",
    "    # Run the algorithm\n",
    "    best = algorithm.run(task=task)\n",
    "    end_time = time.time() # time\n",
    "    elapsed_time = end_time - start_time # time\n",
    "\n",
    "    # Print the best solution found\n",
    "    # print('Best solution found: %s' % best[0])\n",
    "    # print('Fitness value of the best solution: %f' % best[1])\n",
    "    fill.append(best[1])\n",
    "    fill_t.append(elapsed_time)\n",
    "df_sol_R['PSO_rosenbrock_20'] = fill\n",
    "df_sol_R['PSO_rosenbrock_time_20'] = fill_t"
   ]
  },
  {
   "cell_type": "code",
   "execution_count": 19,
   "metadata": {},
   "outputs": [
    {
     "data": {
      "text/plain": [
       "PSO_rosenbrock_5            228.63\n",
       "PSO_rosenbrock_time_5         0.02\n",
       "PSO_rosenbrock_10          5179.49\n",
       "PSO_rosenbrock_time_10        0.02\n",
       "PSO_rosenbrock_20         59878.47\n",
       "PSO_rosenbrock_time_20        0.02\n",
       "dtype: float64"
      ]
     },
     "execution_count": 19,
     "metadata": {},
     "output_type": "execute_result"
    }
   ],
   "source": [
    "df_sol_R.mean().round(2)"
   ]
  },
  {
   "cell_type": "code",
   "execution_count": 20,
   "metadata": {},
   "outputs": [
    {
     "data": {
      "text/plain": [
       "PSO_rosenbrock_5             25.31\n",
       "PSO_rosenbrock_time_5         0.01\n",
       "PSO_rosenbrock_10          2002.55\n",
       "PSO_rosenbrock_time_10        0.01\n",
       "PSO_rosenbrock_20         38236.44\n",
       "PSO_rosenbrock_time_20        0.01\n",
       "dtype: float64"
      ]
     },
     "execution_count": 20,
     "metadata": {},
     "output_type": "execute_result"
    }
   ],
   "source": [
    "df_sol_R.min().round(2)"
   ]
  },
  {
   "cell_type": "code",
   "execution_count": null,
   "metadata": {},
   "outputs": [],
   "source": []
  }
 ],
 "metadata": {
  "kernelspec": {
   "display_name": "Python 3",
   "language": "python",
   "name": "python3"
  },
  "language_info": {
   "codemirror_mode": {
    "name": "ipython",
    "version": 3
   },
   "file_extension": ".py",
   "mimetype": "text/x-python",
   "name": "python",
   "nbconvert_exporter": "python",
   "pygments_lexer": "ipython3",
   "version": "3.11.2"
  }
 },
 "nbformat": 4,
 "nbformat_minor": 2
}
