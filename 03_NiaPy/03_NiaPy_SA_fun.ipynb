{
 "cells": [
  {
   "cell_type": "code",
   "execution_count": 1,
   "metadata": {},
   "outputs": [],
   "source": [
    "import pandas as pd\n",
    "import numpy as np\n",
    "import time\n",
    "\n",
    "from niapy.algorithms.other import SimulatedAnnealing # delta=0.5, starting_temperature=2000, delta_temperature_temperature=0.8, cooling_method=<function cool_delta>, epsilon=1e-23\n",
    "\n",
    "from niapy.task import Task\n",
    "from niapy.problems import Rastrigin    # dimension=4, lower=-5.12, upper=5.12\n",
    "from niapy.problems import Ackley       # dimension=4, lower=-32.768, upper=32.768, a=20.0, b=0.2, c=6.283185307179586,\n",
    "from niapy.problems import Rosenbrock   # dimension=4, lower=-30.0, upper=30.0"
   ]
  },
  {
   "cell_type": "code",
   "execution_count": 2,
   "metadata": {},
   "outputs": [],
   "source": [
    "epoch = 10000\n",
    "pop = 100"
   ]
  },
  {
   "cell_type": "markdown",
   "metadata": {},
   "source": [
    "# Rastrigin"
   ]
  },
  {
   "cell_type": "code",
   "execution_count": 3,
   "metadata": {},
   "outputs": [],
   "source": [
    "df_sol = pd.DataFrame()\n",
    " # dimension=4, lower=-5.12, upper=5.12"
   ]
  },
  {
   "cell_type": "code",
   "execution_count": 4,
   "metadata": {},
   "outputs": [],
   "source": [
    "np.random.seed(42)\n",
    "fill = []\n",
    "fill_t = []\n",
    "\n",
    "for i in range(10):\n",
    "    # Define the task\n",
    "    task = Task(problem=Rastrigin(dimension=5, lower=-5.12, upper=5.12), max_evals=epoch)\n",
    "\n",
    "    # Initialize the Genetic Algorithm\n",
    "    algorithm = SimulatedAnnealing(population_size=pop, delta_temperature=1.85, starting_temperature=154) # 154\n",
    "\n",
    "    start_time = time.time() # time\n",
    "    # Run the algorithm\n",
    "    best = algorithm.run(task=task)\n",
    "    end_time = time.time() # time\n",
    "    elapsed_time = end_time - start_time # time\n",
    "\n",
    "    # Print the best solution found\n",
    "    # print('Best solution found: %s' % best[0])\n",
    "    # print('Fitness value of the best solution: %f' % best[1])\n",
    "    fill.append(best[1])\n",
    "    fill_t.append(elapsed_time)\n",
    "df_sol['SA_rastrigin_5'] = fill\n",
    "df_sol['SA_rastrigin_time_5'] = fill_t"
   ]
  },
  {
   "cell_type": "code",
   "execution_count": 5,
   "metadata": {},
   "outputs": [],
   "source": [
    "np.random.seed(42)\n",
    "fill = []\n",
    "fill_t = []\n",
    "\n",
    "for i in range(10):\n",
    "    # Define the task\n",
    "    task = Task(problem=Rastrigin(dimension=10, lower=-5.12, upper=5.12), max_evals=epoch)\n",
    "\n",
    "    # Initialize the Genetic Algorithm\n",
    "    algorithm = SimulatedAnnealing(population_size=pop, delta_temperature=1.85, starting_temperature=154)\n",
    "\n",
    "    start_time = time.time() # time\n",
    "    # Run the algorithm\n",
    "    best = algorithm.run(task=task)\n",
    "    end_time = time.time() # time\n",
    "    elapsed_time = end_time - start_time # time\n",
    "\n",
    "    # Print the best solution found\n",
    "    # print('Best solution found: %s' % best[0])\n",
    "    # print('Fitness value of the best solution: %f' % best[1])\n",
    "    fill.append(best[1])\n",
    "    fill_t.append(elapsed_time)\n",
    "df_sol['SA_rastrigin_10'] = fill\n",
    "df_sol['SA_rastrigin_time_10'] = fill_t"
   ]
  },
  {
   "cell_type": "code",
   "execution_count": 6,
   "metadata": {},
   "outputs": [],
   "source": [
    "np.random.seed(42)\n",
    "fill = []\n",
    "fill_t = []\n",
    "\n",
    "for i in range(10):\n",
    "    # Define the task\n",
    "    task = Task(problem=Rastrigin(dimension=20, lower=-5.12, upper=5.12), max_evals=epoch)\n",
    "\n",
    "    # Initialize the Genetic Algorithm\n",
    "    algorithm = SimulatedAnnealing(population_size=pop, delta_temperature=1.85, starting_temperature=154)\n",
    "\n",
    "    start_time = time.time() # time\n",
    "    # Run the algorithm\n",
    "    best = algorithm.run(task=task)\n",
    "    end_time = time.time() # time\n",
    "    elapsed_time = end_time - start_time # time\n",
    "\n",
    "    # Print the best solution found\n",
    "    # print('Best solution found: %s' % best[0])\n",
    "    # print('Fitness value of the best solution: %f' % best[1])\n",
    "    fill.append(best[1])\n",
    "    fill_t.append(elapsed_time)\n",
    "df_sol['SA_rastrigin_20'] = fill\n",
    "df_sol['SA_rastrigin_time_20'] = fill_t"
   ]
  },
  {
   "cell_type": "code",
   "execution_count": 7,
   "metadata": {},
   "outputs": [
    {
     "data": {
      "text/plain": [
       "SA_rastrigin_5           19.89\n",
       "SA_rastrigin_time_5       0.32\n",
       "SA_rastrigin_10          73.81\n",
       "SA_rastrigin_time_10      0.32\n",
       "SA_rastrigin_20         214.05\n",
       "SA_rastrigin_time_20      0.31\n",
       "dtype: float64"
      ]
     },
     "execution_count": 7,
     "metadata": {},
     "output_type": "execute_result"
    }
   ],
   "source": [
    "df_sol.mean().round(2)"
   ]
  },
  {
   "cell_type": "code",
   "execution_count": 8,
   "metadata": {},
   "outputs": [
    {
     "data": {
      "text/plain": [
       "SA_rastrigin_5           12.15\n",
       "SA_rastrigin_time_5       0.30\n",
       "SA_rastrigin_10          59.65\n",
       "SA_rastrigin_time_10      0.31\n",
       "SA_rastrigin_20         185.50\n",
       "SA_rastrigin_time_20      0.30\n",
       "dtype: float64"
      ]
     },
     "execution_count": 8,
     "metadata": {},
     "output_type": "execute_result"
    }
   ],
   "source": [
    "df_sol.min().round(2)"
   ]
  },
  {
   "cell_type": "markdown",
   "metadata": {},
   "source": [
    "# Ackley"
   ]
  },
  {
   "cell_type": "code",
   "execution_count": 9,
   "metadata": {},
   "outputs": [],
   "source": [
    "df_sol_A = pd.DataFrame()\n",
    "# dimension=4, lower=-32.768, upper=32.768, a=20.0, b=0.2, c=6.283185307179586 (( c= 2* pi))"
   ]
  },
  {
   "cell_type": "code",
   "execution_count": 10,
   "metadata": {},
   "outputs": [
    {
     "name": "stderr",
     "output_type": "stream",
     "text": [
      "c:\\Users\\HP\\AppData\\Local\\Programs\\Python\\Python311\\Lib\\site-packages\\niapy\\algorithms\\other\\sa.py:199: RuntimeWarning: divide by zero encountered in scalar divide\n",
      "  if delta_fit < 0 or r < np.exp(delta_fit / current_temperature):\n"
     ]
    }
   ],
   "source": [
    "np.random.seed(42)\n",
    "fill = []\n",
    "fill_t = []\n",
    "\n",
    "for i in range(10):\n",
    "    # Define the task\n",
    "    task = Task(problem=Ackley(dimension=5, lower=-32.768, upper=32.768, a=20,b=0.2,c=2*np.pi), max_evals=epoch)\n",
    "\n",
    "    # Initialize the Genetic Algorithm\n",
    "    algorithm = SimulatedAnnealing(population_size=pop, delta_temperature=4, starting_temperature=140) # 140\n",
    "\n",
    "    start_time = time.time() # time\n",
    "    # Run the algorithm\n",
    "    best = algorithm.run(task=task)\n",
    "    end_time = time.time() # time\n",
    "    elapsed_time = end_time - start_time # time\n",
    "\n",
    "    # Print the best solution found\n",
    "    # print('Best solution found: %s' % best[0])\n",
    "    # print('Fitness value of the best solution: %f' % best[1])\n",
    "    fill.append(best[1])\n",
    "    fill_t.append(elapsed_time)\n",
    "\n",
    "df_sol_A['SA_ackley_5'] = fill\n",
    "df_sol_A['SA_ackley_time_5'] = fill_t"
   ]
  },
  {
   "cell_type": "code",
   "execution_count": 11,
   "metadata": {},
   "outputs": [
    {
     "name": "stderr",
     "output_type": "stream",
     "text": [
      "c:\\Users\\HP\\AppData\\Local\\Programs\\Python\\Python311\\Lib\\site-packages\\niapy\\algorithms\\other\\sa.py:199: RuntimeWarning: divide by zero encountered in scalar divide\n",
      "  if delta_fit < 0 or r < np.exp(delta_fit / current_temperature):\n"
     ]
    }
   ],
   "source": [
    "np.random.seed(43)\n",
    "fill = []\n",
    "fill_t = []\n",
    "\n",
    "for i in range(10):\n",
    "    # Define the task\n",
    "    task = Task(problem=Ackley(dimension=10, lower=-32.768, upper=32.768, a=20,b=0.2,c=2*np.pi), max_evals=epoch)\n",
    "\n",
    "    # Initialize the Genetic Algorithm\n",
    "    algorithm = SimulatedAnnealing(population_size=pop, delta_temperature=4, starting_temperature=140)\n",
    "\n",
    "    start_time = time.time() # time\n",
    "    # Run the algorithm\n",
    "    best = algorithm.run(task=task)\n",
    "    end_time = time.time() # time\n",
    "    elapsed_time = end_time - start_time # time\n",
    "\n",
    "    # Print the best solution found\n",
    "    # print('Best solution found: %s' % best[0])\n",
    "    # print('Fitness value of the best solution: %f' % best[1])\n",
    "    fill.append(best[1])\n",
    "    fill_t.append(elapsed_time)\n",
    "\n",
    "df_sol_A['SA_ackley_10'] = fill\n",
    "df_sol_A['SA_ackley_time_10'] = fill_t"
   ]
  },
  {
   "cell_type": "code",
   "execution_count": 12,
   "metadata": {},
   "outputs": [
    {
     "name": "stderr",
     "output_type": "stream",
     "text": [
      "c:\\Users\\HP\\AppData\\Local\\Programs\\Python\\Python311\\Lib\\site-packages\\niapy\\algorithms\\other\\sa.py:199: RuntimeWarning: divide by zero encountered in scalar divide\n",
      "  if delta_fit < 0 or r < np.exp(delta_fit / current_temperature):\n"
     ]
    }
   ],
   "source": [
    "np.random.seed(44)\n",
    "fill = []\n",
    "fill_t = []\n",
    "\n",
    "for i in range(10):\n",
    "    # Define the task\n",
    "    task = Task(problem=Ackley(dimension=20, lower=-32.768, upper=32.768, a=20,b=0.2,c=2*np.pi), max_evals=epoch)\n",
    "\n",
    "    # Initialize the Genetic Algorithm\n",
    "    algorithm = SimulatedAnnealing(population_size=pop, delta_temperature=4, starting_temperature=140)\n",
    "\n",
    "    start_time = time.time() # time\n",
    "    # Run the algorithm\n",
    "    best = algorithm.run(task=task)\n",
    "    end_time = time.time() # time\n",
    "    elapsed_time = end_time - start_time # time\n",
    "\n",
    "    # Print the best solution found\n",
    "    # print('Best solution found: %s' % best[0])\n",
    "    # print('Fitness value of the best solution: %f' % best[1])\n",
    "    fill.append(best[1])\n",
    "    fill_t.append(elapsed_time)\n",
    "\n",
    "df_sol_A['SA_ackley_20'] = fill\n",
    "df_sol_A['SA_ackley_time_20'] = fill_t"
   ]
  },
  {
   "cell_type": "code",
   "execution_count": 13,
   "metadata": {},
   "outputs": [
    {
     "data": {
      "text/plain": [
       "SA_ackley_5          18.88\n",
       "SA_ackley_time_5      0.43\n",
       "SA_ackley_10         19.89\n",
       "SA_ackley_time_10     0.42\n",
       "SA_ackley_20         20.39\n",
       "SA_ackley_time_20     0.44\n",
       "dtype: float64"
      ]
     },
     "execution_count": 13,
     "metadata": {},
     "output_type": "execute_result"
    }
   ],
   "source": [
    "df_sol_A.mean().round(2)"
   ]
  },
  {
   "cell_type": "code",
   "execution_count": 14,
   "metadata": {},
   "outputs": [
    {
     "data": {
      "text/plain": [
       "SA_ackley_5          16.11\n",
       "SA_ackley_time_5      0.39\n",
       "SA_ackley_10         19.00\n",
       "SA_ackley_time_10     0.39\n",
       "SA_ackley_20         20.01\n",
       "SA_ackley_time_20     0.40\n",
       "dtype: float64"
      ]
     },
     "execution_count": 14,
     "metadata": {},
     "output_type": "execute_result"
    }
   ],
   "source": [
    "df_sol_A.min().round(2)"
   ]
  },
  {
   "cell_type": "markdown",
   "metadata": {},
   "source": [
    "# Rosenbrock"
   ]
  },
  {
   "cell_type": "code",
   "execution_count": 15,
   "metadata": {},
   "outputs": [],
   "source": [
    "df_sol_R = pd.DataFrame()"
   ]
  },
  {
   "cell_type": "code",
   "execution_count": 16,
   "metadata": {},
   "outputs": [
    {
     "name": "stderr",
     "output_type": "stream",
     "text": [
      "c:\\Users\\HP\\AppData\\Local\\Programs\\Python\\Python311\\Lib\\site-packages\\niapy\\algorithms\\other\\sa.py:199: RuntimeWarning: overflow encountered in exp\n",
      "  if delta_fit < 0 or r < np.exp(delta_fit / current_temperature):\n"
     ]
    }
   ],
   "source": [
    "np.random.seed(42)\n",
    "fill = []\n",
    "fill_t = []\n",
    "\n",
    "for i in range(10):\n",
    "    # Define the task\n",
    "    task = Task(problem=Rosenbrock(dimension=5, lower=-5, upper=10), max_evals=epoch)\n",
    "\n",
    "    # Initialize the Genetic Algorithm\n",
    "    algorithm = SimulatedAnnealing(population_size=pop, delta_temperature=0.7, starting_temperature=90) # 90\n",
    "\n",
    "    start_time = time.time() # time\n",
    "    # Run the algorithm\n",
    "    best = algorithm.run(task=task)\n",
    "    end_time = time.time() # time\n",
    "    elapsed_time = end_time - start_time # time\n",
    "\n",
    "    # Print the best solution found\n",
    "    # print('Best solution found: %s' % best[0])\n",
    "    # print('Fitness value of the best solution: %f' % best[1])\n",
    "    fill.append(best[1])\n",
    "    fill_t.append(elapsed_time)\n",
    "\n",
    "df_sol_R['SA_rosenbrock_5'] = fill\n",
    "df_sol_R['SA_rosenbrock_time_5'] = fill_t"
   ]
  },
  {
   "cell_type": "code",
   "execution_count": 17,
   "metadata": {},
   "outputs": [
    {
     "name": "stderr",
     "output_type": "stream",
     "text": [
      "c:\\Users\\HP\\AppData\\Local\\Programs\\Python\\Python311\\Lib\\site-packages\\niapy\\algorithms\\other\\sa.py:199: RuntimeWarning: overflow encountered in exp\n",
      "  if delta_fit < 0 or r < np.exp(delta_fit / current_temperature):\n"
     ]
    }
   ],
   "source": [
    "np.random.seed(42)\n",
    "fill = []\n",
    "fill_t = []\n",
    "\n",
    "for i in range(10):\n",
    "    # Define the task\n",
    "    task = Task(problem=Rosenbrock(dimension=10, lower=-5, upper=10), max_evals=epoch)\n",
    "\n",
    "    # Initialize the Genetic Algorithm\n",
    "    algorithm = SimulatedAnnealing(population_size=pop, delta_temperature=0.7, starting_temperature=90)\n",
    "\n",
    "    start_time = time.time() # time\n",
    "    # Run the algorithm\n",
    "    best = algorithm.run(task=task)\n",
    "    end_time = time.time() # time\n",
    "    elapsed_time = end_time - start_time # time\n",
    "\n",
    "    # Print the best solution found\n",
    "    # print('Best solution found: %s' % best[0])\n",
    "    # print('Fitness value of the best solution: %f' % best[1])\n",
    "    fill.append(best[1])\n",
    "    fill_t.append(elapsed_time)\n",
    "df_sol_R['SA_rosenbrock_10'] = fill\n",
    "df_sol_R['SA_rosenbrock_time_10'] = fill_t"
   ]
  },
  {
   "cell_type": "code",
   "execution_count": 18,
   "metadata": {},
   "outputs": [
    {
     "name": "stderr",
     "output_type": "stream",
     "text": [
      "c:\\Users\\HP\\AppData\\Local\\Programs\\Python\\Python311\\Lib\\site-packages\\niapy\\algorithms\\other\\sa.py:199: RuntimeWarning: overflow encountered in exp\n",
      "  if delta_fit < 0 or r < np.exp(delta_fit / current_temperature):\n"
     ]
    }
   ],
   "source": [
    "np.random.seed(42)\n",
    "fill = []\n",
    "fill_t = []\n",
    "\n",
    "for i in range(10):\n",
    "    # Define the task\n",
    "    task = Task(problem=Rosenbrock(dimension=20, lower=-5, upper=10), max_evals=epoch)\n",
    "\n",
    "    # Initialize the Genetic Algorithm\n",
    "    algorithm = SimulatedAnnealing(population_size=pop, delta_temperature=0.7, starting_temperature=90)\n",
    "\n",
    "    start_time = time.time() # time\n",
    "    # Run the algorithm\n",
    "    best = algorithm.run(task=task)\n",
    "    end_time = time.time() # time\n",
    "    elapsed_time = end_time - start_time # time\n",
    "\n",
    "    # Print the best solution found\n",
    "    # print('Best solution found: %s' % best[0])\n",
    "    # print('Fitness value of the best solution: %f' % best[1])\n",
    "    fill.append(best[1])\n",
    "    fill_t.append(elapsed_time)\n",
    "df_sol_R['SA_rosenbrock_20'] = fill\n",
    "df_sol_R['SA_rosenbrock_time_20'] = fill_t"
   ]
  },
  {
   "cell_type": "code",
   "execution_count": 19,
   "metadata": {},
   "outputs": [
    {
     "data": {
      "text/plain": [
       "SA_rosenbrock_5           13.02\n",
       "SA_rosenbrock_time_5       0.42\n",
       "SA_rosenbrock_10         266.66\n",
       "SA_rosenbrock_time_10      0.35\n",
       "SA_rosenbrock_20         997.70\n",
       "SA_rosenbrock_time_20      0.37\n",
       "dtype: float64"
      ]
     },
     "execution_count": 19,
     "metadata": {},
     "output_type": "execute_result"
    }
   ],
   "source": [
    "df_sol_R.mean().round(2)"
   ]
  },
  {
   "cell_type": "code",
   "execution_count": 20,
   "metadata": {},
   "outputs": [
    {
     "data": {
      "text/plain": [
       "SA_rosenbrock_5            1.06\n",
       "SA_rosenbrock_time_5       0.35\n",
       "SA_rosenbrock_10         109.32\n",
       "SA_rosenbrock_time_10      0.34\n",
       "SA_rosenbrock_20         604.98\n",
       "SA_rosenbrock_time_20      0.34\n",
       "dtype: float64"
      ]
     },
     "execution_count": 20,
     "metadata": {},
     "output_type": "execute_result"
    }
   ],
   "source": [
    "df_sol_R.min().round(2)"
   ]
  }
 ],
 "metadata": {
  "kernelspec": {
   "display_name": "Python 3",
   "language": "python",
   "name": "python3"
  },
  "language_info": {
   "codemirror_mode": {
    "name": "ipython",
    "version": 3
   },
   "file_extension": ".py",
   "mimetype": "text/x-python",
   "name": "python",
   "nbconvert_exporter": "python",
   "pygments_lexer": "ipython3",
   "version": "3.11.2"
  }
 },
 "nbformat": 4,
 "nbformat_minor": 2
}
