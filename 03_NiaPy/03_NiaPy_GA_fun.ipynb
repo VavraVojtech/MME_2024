{
 "cells": [
  {
   "cell_type": "code",
   "execution_count": 1,
   "metadata": {},
   "outputs": [],
   "source": [
    "import pandas as pd\n",
    "import numpy as np\n",
    "import time\n",
    "\n",
    "from niapy.algorithms.basic import GeneticAlgorithm # population_size=25, tournament_size=5, mutation_rate=0.25, crossover_rate=0.25, selection=<function tournament_selection>, crossover=<function uniform_crossover>, mutation=<function uniform_mutation>\n",
    "\n",
    "from niapy.task import Task\n",
    "from niapy.problems import Rastrigin    # dimension=4, lower=-5.12, upper=5.12\n",
    "from niapy.problems import Ackley       # dimension=4, lower=-32.768, upper=32.768, a=20.0, b=0.2, c=6.283185307179586,\n",
    "from niapy.problems import Rosenbrock   # dimension=4, lower=-30.0, upper=30.0"
   ]
  },
  {
   "cell_type": "code",
   "execution_count": 2,
   "metadata": {},
   "outputs": [],
   "source": [
    "epoch = 400 # 400\n",
    "pop = 300 # 300"
   ]
  },
  {
   "cell_type": "markdown",
   "metadata": {},
   "source": [
    "# Rastrigin"
   ]
  },
  {
   "cell_type": "code",
   "execution_count": 3,
   "metadata": {},
   "outputs": [],
   "source": [
    "df_sol = pd.DataFrame()\n",
    " # dimension=4, lower=-5.12, upper=5.12"
   ]
  },
  {
   "cell_type": "code",
   "execution_count": 4,
   "metadata": {},
   "outputs": [],
   "source": [
    "np.random.seed(42)\n",
    "fill = []\n",
    "fill_t = []\n",
    "\n",
    "for i in range(10):\n",
    "    # Define the task\n",
    "    task = Task(problem=Rastrigin(dimension=5, lower=-5.12, upper=5.12), max_evals=epoch)\n",
    "\n",
    "    # Initialize the Genetic Algorithm\n",
    "    algorithm = GeneticAlgorithm(population_size=pop, crossover_probability=0.8, mutation_probability=0.05)#,\n",
    "                                 #tournament_size=60, crossover_rate=0.8, mutation_rate=0.05)\n",
    "\n",
    "    start_time = time.time() # time\n",
    "    # Run the algorithm\n",
    "    best = algorithm.run(task=task)\n",
    "    end_time = time.time() # time\n",
    "    elapsed_time = end_time - start_time # time\n",
    "\n",
    "    # Print the best solution found\n",
    "    # print('Best solution found: %s' % best[0])\n",
    "    # print('Fitness value of the best solution: %f' % best[1])\n",
    "    fill.append(best[1])\n",
    "    fill_t.append(elapsed_time)\n",
    "df_sol['GA_rastrigin_5'] = fill\n",
    "df_sol['GA_rastrigin_time_5'] = fill_t"
   ]
  },
  {
   "cell_type": "code",
   "execution_count": 5,
   "metadata": {},
   "outputs": [],
   "source": [
    "np.random.seed(42)\n",
    "fill = []\n",
    "fill_t = []\n",
    "\n",
    "for i in range(10):\n",
    "    # Define the task\n",
    "    task = Task(problem=Rastrigin(dimension=10, lower=-5.12, upper=5.12), max_evals=epoch)\n",
    "\n",
    "    # Initialize the Genetic Algorithm\n",
    "    algorithm = GeneticAlgorithm(population_size=pop, crossover_probability=0.8, mutation_probability=0.05)#,\n",
    "                                 #tournament_size=60, crossover_rate=0.8, mutation_rate=0.05)\n",
    "\n",
    "    start_time = time.time() # time\n",
    "    # Run the algorithm\n",
    "    best = algorithm.run(task=task)\n",
    "    end_time = time.time() # time\n",
    "    elapsed_time = end_time - start_time # time\n",
    "\n",
    "    # Print the best solution found\n",
    "    # print('Best solution found: %s' % best[0])\n",
    "    # print('Fitness value of the best solution: %f' % best[1])\n",
    "    fill.append(best[1])\n",
    "    fill_t.append(elapsed_time)\n",
    "df_sol['GA_rastrigin_10'] = fill\n",
    "df_sol['GA_rastrigin_time_10'] = fill_t"
   ]
  },
  {
   "cell_type": "code",
   "execution_count": 6,
   "metadata": {},
   "outputs": [],
   "source": [
    "np.random.seed(42)\n",
    "fill = []\n",
    "fill_t = []\n",
    "\n",
    "for i in range(10):\n",
    "    # Define the task\n",
    "    task = Task(problem=Rastrigin(dimension=20, lower=-5.12, upper=5.12), max_evals=epoch)\n",
    "\n",
    "    # Initialize the Genetic Algorithm\n",
    "    algorithm = GeneticAlgorithm(population_size=pop, crossover_probability=0.8, mutation_probability=0.05)#,\n",
    "                                 #tournament_size=60, crossover_rate=0.8, mutation_rate=0.05)\n",
    "\n",
    "    start_time = time.time() # time\n",
    "    # Run the algorithm\n",
    "    best = algorithm.run(task=task)\n",
    "    end_time = time.time() # time\n",
    "    elapsed_time = end_time - start_time # time\n",
    "\n",
    "    # Print the best solution found\n",
    "    # print('Best solution found: %s' % best[0])\n",
    "    # print('Fitness value of the best solution: %f' % best[1])\n",
    "    fill.append(best[1])\n",
    "    fill_t.append(elapsed_time)\n",
    "df_sol['GA_rastrigin_20'] = fill\n",
    "df_sol['GA_rastrigin_time_20'] = fill_t"
   ]
  },
  {
   "cell_type": "code",
   "execution_count": 7,
   "metadata": {},
   "outputs": [
    {
     "data": {
      "text/plain": [
       "GA_rastrigin_5           28.78\n",
       "GA_rastrigin_time_5       0.03\n",
       "GA_rastrigin_10         100.09\n",
       "GA_rastrigin_time_10      0.03\n",
       "GA_rastrigin_20         228.27\n",
       "GA_rastrigin_time_20      0.04\n",
       "dtype: float64"
      ]
     },
     "execution_count": 7,
     "metadata": {},
     "output_type": "execute_result"
    }
   ],
   "source": [
    "df_sol.mean().round(2)"
   ]
  },
  {
   "cell_type": "code",
   "execution_count": 8,
   "metadata": {},
   "outputs": [
    {
     "data": {
      "text/plain": [
       "GA_rastrigin_5            9.37\n",
       "GA_rastrigin_time_5       0.02\n",
       "GA_rastrigin_10          79.43\n",
       "GA_rastrigin_time_10      0.03\n",
       "GA_rastrigin_20         206.02\n",
       "GA_rastrigin_time_20      0.04\n",
       "dtype: float64"
      ]
     },
     "execution_count": 8,
     "metadata": {},
     "output_type": "execute_result"
    }
   ],
   "source": [
    "df_sol.min().round(2)"
   ]
  },
  {
   "cell_type": "markdown",
   "metadata": {},
   "source": [
    "# Ackley"
   ]
  },
  {
   "cell_type": "code",
   "execution_count": 9,
   "metadata": {},
   "outputs": [],
   "source": [
    "df_sol_A = pd.DataFrame()\n",
    "# dimension=4, lower=-32.768, upper=32.768, a=20.0, b=0.2, c=6.283185307179586 (( c= 2* pi))"
   ]
  },
  {
   "cell_type": "code",
   "execution_count": 10,
   "metadata": {},
   "outputs": [],
   "source": [
    "np.random.seed(42)\n",
    "fill = []\n",
    "fill_t = []\n",
    "\n",
    "for i in range(10):\n",
    "    # Define the task\n",
    "    task = Task(problem=Ackley(dimension=5, lower=-32.768, upper=32.768, a=20,b=0.2,c=2*np.pi), max_evals=epoch)\n",
    "\n",
    "    # Initialize the Genetic Algorithm\n",
    "    algorithm = GeneticAlgorithm(population_size=pop, crossover_probability=0.95, mutation_probability=0.01)#,\n",
    "                                 #tournament_size=60, crossover_rate=0.95, mutation_rate=0.01)\n",
    "\n",
    "    start_time = time.time() # time\n",
    "    # Run the algorithm\n",
    "    best = algorithm.run(task=task)\n",
    "    end_time = time.time() # time\n",
    "    elapsed_time = end_time - start_time # time\n",
    "\n",
    "    # Print the best solution found\n",
    "    # print('Best solution found: %s' % best[0])\n",
    "    # print('Fitness value of the best solution: %f' % best[1])\n",
    "    fill.append(best[1])\n",
    "    fill_t.append(elapsed_time)\n",
    "\n",
    "df_sol_A['GA_ackley_5'] = fill\n",
    "df_sol_A['GA_ackley_time_5'] = fill_t"
   ]
  },
  {
   "cell_type": "code",
   "execution_count": 11,
   "metadata": {},
   "outputs": [],
   "source": [
    "np.random.seed(42)\n",
    "fill = []\n",
    "fill_t = []\n",
    "\n",
    "for i in range(10):\n",
    "    # Define the task\n",
    "    task = Task(problem=Ackley(dimension=10, lower=-32.768, upper=32.768, a=20,b=0.2,c=2*np.pi), max_evals=epoch)\n",
    "\n",
    "    # Initialize the Genetic Algorithm\n",
    "    algorithm = GeneticAlgorithm(population_size=pop, crossover_probability=0.95, mutation_probability=0.01)#,\n",
    "                                 #tournament_size=60, crossover_rate=0.95, mutation_rate=0.01)\n",
    "\n",
    "    start_time = time.time() # time\n",
    "    # Run the algorithm\n",
    "    best = algorithm.run(task=task)\n",
    "    end_time = time.time() # time\n",
    "    elapsed_time = end_time - start_time # time\n",
    "\n",
    "    # Print the best solution found\n",
    "    # print('Best solution found: %s' % best[0])\n",
    "    # print('Fitness value of the best solution: %f' % best[1])\n",
    "    fill.append(best[1])\n",
    "    fill_t.append(elapsed_time)\n",
    "\n",
    "df_sol_A['GA_ackley_10'] = fill\n",
    "df_sol_A['GA_ackley_time_10'] = fill_t"
   ]
  },
  {
   "cell_type": "code",
   "execution_count": 12,
   "metadata": {},
   "outputs": [],
   "source": [
    "np.random.seed(42)\n",
    "fill = []\n",
    "fill_t = []\n",
    "\n",
    "for i in range(10):\n",
    "    # Define the task\n",
    "    task = Task(problem=Ackley(dimension=20, lower=-32.768, upper=32.768, a=20,b=0.2,c=2*np.pi), max_evals=epoch)\n",
    "\n",
    "    # Initialize the Genetic Algorithm\n",
    "    algorithm = GeneticAlgorithm(population_size=pop, crossover_probability=0.95, mutation_probability=0.01)#,\n",
    "                                 #tournament_size=60, crossover_rate=0.95, mutation_rate=0.01)\n",
    "\n",
    "    start_time = time.time() # time\n",
    "    # Run the algorithm\n",
    "    best = algorithm.run(task=task)\n",
    "    end_time = time.time() # time\n",
    "    elapsed_time = end_time - start_time # time\n",
    "\n",
    "    # Print the best solution found\n",
    "    # print('Best solution found: %s' % best[0])\n",
    "    # print('Fitness value of the best solution: %f' % best[1])\n",
    "    fill.append(best[1])\n",
    "    fill_t.append(elapsed_time)\n",
    "\n",
    "df_sol_A['GA_ackley_20'] = fill\n",
    "df_sol_A['GA_ackley_time_20'] = fill_t"
   ]
  },
  {
   "cell_type": "code",
   "execution_count": 13,
   "metadata": {},
   "outputs": [
    {
     "data": {
      "text/plain": [
       "GA_ackley_5          15.51\n",
       "GA_ackley_time_5      0.03\n",
       "GA_ackley_10         18.93\n",
       "GA_ackley_time_10     0.04\n",
       "GA_ackley_20         20.08\n",
       "GA_ackley_time_20     0.05\n",
       "dtype: float64"
      ]
     },
     "execution_count": 13,
     "metadata": {},
     "output_type": "execute_result"
    }
   ],
   "source": [
    "df_sol_A.mean().round(2)"
   ]
  },
  {
   "cell_type": "code",
   "execution_count": 14,
   "metadata": {},
   "outputs": [
    {
     "data": {
      "text/plain": [
       "GA_ackley_5          13.04\n",
       "GA_ackley_time_5      0.03\n",
       "GA_ackley_10         17.87\n",
       "GA_ackley_time_10     0.03\n",
       "GA_ackley_20         19.57\n",
       "GA_ackley_time_20     0.04\n",
       "dtype: float64"
      ]
     },
     "execution_count": 14,
     "metadata": {},
     "output_type": "execute_result"
    }
   ],
   "source": [
    "df_sol_A.min().round(2)"
   ]
  },
  {
   "cell_type": "markdown",
   "metadata": {},
   "source": [
    "# Rosenbrock"
   ]
  },
  {
   "cell_type": "code",
   "execution_count": 15,
   "metadata": {},
   "outputs": [],
   "source": [
    "df_sol_R = pd.DataFrame()"
   ]
  },
  {
   "cell_type": "code",
   "execution_count": 16,
   "metadata": {},
   "outputs": [],
   "source": [
    "np.random.seed(42)\n",
    "fill = []\n",
    "fill_t = []\n",
    "\n",
    "for i in range(10):\n",
    "    # Define the task\n",
    "    task = Task(problem=Rosenbrock(dimension=5, lower=-5, upper=10), max_evals=epoch)\n",
    "\n",
    "    # Initialize the Genetic Algorithm\n",
    "    algorithm = GeneticAlgorithm(population_size=pop, crossover_probability=0.7, mutation_probability=0.01)#,\n",
    "                                 #tournament_size=60, crossover_rate=0.7, mutation_rate=0.01)\n",
    "\n",
    "    start_time = time.time() # time\n",
    "    # Run the algorithm\n",
    "    best = algorithm.run(task=task)\n",
    "    end_time = time.time() # time\n",
    "    elapsed_time = end_time - start_time # time\n",
    "\n",
    "    # Print the best solution found\n",
    "    # print('Best solution found: %s' % best[0])\n",
    "    # print('Fitness value of the best solution: %f' % best[1])\n",
    "    fill.append(best[1])\n",
    "    fill_t.append(elapsed_time)\n",
    "\n",
    "df_sol_R['GA_rosenbrock_5'] = fill\n",
    "df_sol_R['GA_rosenbrock_time_5'] = fill_t"
   ]
  },
  {
   "cell_type": "code",
   "execution_count": 17,
   "metadata": {},
   "outputs": [],
   "source": [
    "np.random.seed(42)\n",
    "fill = []\n",
    "fill_t = []\n",
    "\n",
    "for i in range(10):\n",
    "    # Define the task\n",
    "    task = Task(problem=Rosenbrock(dimension=10, lower=-5, upper=10), max_evals=epoch)\n",
    "\n",
    "    # Initialize the Genetic Algorithm\n",
    "    algorithm = GeneticAlgorithm(population_size=pop, crossover_probability=0.7, mutation_probability=0.01)#,\n",
    "                                 #tournament_size=60, crossover_rate=0.7, mutation_rate=0.01)\n",
    "\n",
    "    start_time = time.time() # time\n",
    "    # Run the algorithm\n",
    "    best = algorithm.run(task=task)\n",
    "    end_time = time.time() # time\n",
    "    elapsed_time = end_time - start_time # time\n",
    "\n",
    "    # Print the best solution found\n",
    "    # print('Best solution found: %s' % best[0])\n",
    "    # print('Fitness value of the best solution: %f' % best[1])\n",
    "    fill.append(best[1])\n",
    "    fill_t.append(elapsed_time)\n",
    "df_sol_R['GA_rosenbrock_10'] = fill\n",
    "df_sol_R['GA_rosenbrock_time_10'] = fill_t"
   ]
  },
  {
   "cell_type": "code",
   "execution_count": 18,
   "metadata": {},
   "outputs": [],
   "source": [
    "np.random.seed(42)\n",
    "fill = []\n",
    "fill_t = []\n",
    "\n",
    "for i in range(10):\n",
    "    # Define the task\n",
    "    task = Task(problem=Rosenbrock(dimension=20, lower=-5, upper=10), max_evals=epoch)\n",
    "\n",
    "    # Initialize the Genetic Algorithm\n",
    "    algorithm = GeneticAlgorithm(population_size=pop, crossover_probability=0.7, mutation_probability=0.01)#,\n",
    "                                 #tournament_size=60, crossover_rate=0.7, mutation_rate=0.01)\n",
    "\n",
    "    start_time = time.time() # time\n",
    "    # Run the algorithm\n",
    "    best = algorithm.run(task=task)\n",
    "    end_time = time.time() # time\n",
    "    elapsed_time = end_time - start_time # time\n",
    "\n",
    "    # Print the best solution found\n",
    "    # print('Best solution found: %s' % best[0])\n",
    "    # print('Fitness value of the best solution: %f' % best[1])\n",
    "    fill.append(best[1])\n",
    "    fill_t.append(elapsed_time)\n",
    "df_sol_R['GA_rosenbrock_20'] = fill\n",
    "df_sol_R['GA_rosenbrock_time_20'] = fill_t"
   ]
  },
  {
   "cell_type": "code",
   "execution_count": 19,
   "metadata": {},
   "outputs": [
    {
     "data": {
      "text/plain": [
       "GA_rosenbrock_5            1768.97\n",
       "GA_rosenbrock_time_5          0.03\n",
       "GA_rosenbrock_10          54324.80\n",
       "GA_rosenbrock_time_10         0.03\n",
       "GA_rosenbrock_20         331755.77\n",
       "GA_rosenbrock_time_20         0.04\n",
       "dtype: float64"
      ]
     },
     "execution_count": 19,
     "metadata": {},
     "output_type": "execute_result"
    }
   ],
   "source": [
    "df_sol_R.mean().round(2)"
   ]
  },
  {
   "cell_type": "code",
   "execution_count": 20,
   "metadata": {},
   "outputs": [
    {
     "data": {
      "text/plain": [
       "GA_rosenbrock_5             362.67\n",
       "GA_rosenbrock_time_5          0.03\n",
       "GA_rosenbrock_10          19299.55\n",
       "GA_rosenbrock_time_10         0.03\n",
       "GA_rosenbrock_20         154841.96\n",
       "GA_rosenbrock_time_20         0.04\n",
       "dtype: float64"
      ]
     },
     "execution_count": 20,
     "metadata": {},
     "output_type": "execute_result"
    }
   ],
   "source": [
    "df_sol_R.min().round(2)"
   ]
  }
 ],
 "metadata": {
  "kernelspec": {
   "display_name": "Python 3",
   "language": "python",
   "name": "python3"
  },
  "language_info": {
   "codemirror_mode": {
    "name": "ipython",
    "version": 3
   },
   "file_extension": ".py",
   "mimetype": "text/x-python",
   "name": "python",
   "nbconvert_exporter": "python",
   "pygments_lexer": "ipython3",
   "version": "3.11.2"
  }
 },
 "nbformat": 4,
 "nbformat_minor": 2
}
