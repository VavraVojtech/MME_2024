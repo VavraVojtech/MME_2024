{
 "cells": [
  {
   "cell_type": "code",
   "execution_count": 1,
   "metadata": {},
   "outputs": [],
   "source": [
    "# from opfunu.cec_based.cec2017 import F52017\n",
    "from mealpy import FloatVar, GA, Tuner     # We will use this Tuner utility\n",
    "# from mealpy.swarm_based import GA\n",
    "import numpy as np\n"
   ]
  },
  {
   "cell_type": "code",
   "execution_count": 2,
   "metadata": {},
   "outputs": [],
   "source": [
    "\n",
    "def rastrigin(x):\n",
    "    \"\"\"\n",
    "    Rastrigin function.\n",
    "\n",
    "    Parameters:\n",
    "    - x: Input vector (numpy array).\n",
    "\n",
    "    Returns:\n",
    "    - Value of the Rastrigin function at the given point.\n",
    "    \"\"\"\n",
    "    A = 10\n",
    "    n = len(x)\n",
    "    return A * n + np.sum(x**2 - A * np.cos(2 * np.pi * x))\n",
    "\n",
    "n=5\n",
    "\n",
    "lb = [-5.12] * n\n",
    "ub = [5.12] * n\n",
    "\n",
    "p1 = {\n",
    "    \"bounds\": FloatVar(lb=lb, ub=ub),\n",
    "    \"obj_func\": rastrigin,\n",
    "    \"minmax\": \"min\",\n",
    "    \"name\": \"Rastrigin function\"\n",
    "}\n"
   ]
  },
  {
   "cell_type": "code",
   "execution_count": 3,
   "metadata": {},
   "outputs": [],
   "source": [
    "def ackley(x):\n",
    "    \"\"\"\n",
    "    Ackley function.\n",
    "\n",
    "    Parameters:\n",
    "    - x: Input vector (numpy array).\n",
    "\n",
    "    Returns:\n",
    "    - Value of the Ackley function at the given point.\n",
    "    \"\"\"\n",
    "    a = 20\n",
    "    b = 0.2\n",
    "    c = 2 * np.pi\n",
    "\n",
    "    term1 = -a * np.exp(-b * np.sqrt(np.sum(x**2) / len(x)))\n",
    "    term2 = -np.exp(np.sum(np.cos(c * x) / len(x)))\n",
    "\n",
    "    return term1 + term2 + a + np.exp(1)\n",
    "\n",
    "n=5\n",
    "\n",
    "lb = [-32.768] * n\n",
    "ub = [32.768] * n\n",
    "\n",
    "p2 = {\n",
    "    \"bounds\": FloatVar(lb=lb, ub=ub),\n",
    "    \"obj_func\": ackley,\n",
    "    \"minmax\": \"min\",\n",
    "    \"name\": \"Ackley function\"\n",
    "}"
   ]
  },
  {
   "cell_type": "code",
   "execution_count": 4,
   "metadata": {},
   "outputs": [],
   "source": [
    "def rosenbrock(x):\n",
    "    \"\"\"\n",
    "    Rosenbrock function.\n",
    "\n",
    "    Parameters:\n",
    "    - x: Input vector (numpy array).\n",
    "\n",
    "    Returns:\n",
    "    - Value of the Rosenbrock function at the given point.\n",
    "    \"\"\"\n",
    "    return np.sum(100 * (x[1:] - x[:-1]**2)**2 + (1 - x[:-1])**2)\n",
    "\n",
    "n=5\n",
    "\n",
    "lb = [-5] * n\n",
    "ub = [10] * n\n",
    "\n",
    "p3 = {\n",
    "    \"bounds\": FloatVar(lb=lb, ub=ub),\n",
    "    \"obj_func\": rosenbrock,\n",
    "    \"minmax\": \"min\",\n",
    "    \"name\": \"Rosenbrock function\"\n",
    "}"
   ]
  },
  {
   "cell_type": "code",
   "execution_count": 5,
   "metadata": {},
   "outputs": [],
   "source": [
    "paras_ga_grid = {\n",
    "    \"epoch\": [100,300,500],\n",
    "    \"pop_size\": [100,300,500],\n",
    "    \"pc\": [0.95,0.9,0.8,0.7],\n",
    "    \"pm\": [0.01,0.05,0.1,0.2],\n",
    "}\n",
    "\n",
    "term = {\n",
    "    \"max_epoch\": 5000,\n",
    "    \"max_time\": 30,\n",
    "    \"max_fe\": 10000\n",
    "}"
   ]
  },
  {
   "cell_type": "markdown",
   "metadata": {},
   "source": [
    "# Start here"
   ]
  },
  {
   "cell_type": "code",
   "execution_count": 6,
   "metadata": {},
   "outputs": [],
   "source": [
    "prob = p3\n",
    "\n",
    "# p1 ... \"Rastrigin function\" - eggholder\n",
    "# p2 ... \"Ackley function\" - mountain\n",
    "# p3 ... \"Rosenbrock function\" - wave"
   ]
  },
  {
   "cell_type": "code",
   "execution_count": 7,
   "metadata": {},
   "outputs": [],
   "source": [
    "### Define model and parameter grid of the model (just like ParameterGrid / GridSearchCV)\n",
    "model = GA.BaseGA()\n",
    "tuner = Tuner(model, paras_ga_grid)"
   ]
  },
  {
   "cell_type": "code",
   "execution_count": 8,
   "metadata": {},
   "outputs": [
    {
     "name": "stderr",
     "output_type": "stream",
     "text": [
      "2024/02/22 05:16:23 PM, INFO, mealpy.evolutionary_based.GA.BaseGA: Solving single objective optimization problem.\n",
      "2024/02/22 05:16:23 PM, INFO, mealpy.evolutionary_based.GA.BaseGA: >>>Problem: Rosenbrock function, Epoch: 1, Current best: 297.8273817475198, Global best: 297.8273817475198, Runtime: 0.01590 seconds\n",
      "2024/02/22 05:16:23 PM, WARNING, mealpy.evolutionary_based.GA.BaseGA: Stopping criterion with maximum running time/time bound (TB) (seconds) occurred. End program!\n",
      "2024/02/22 05:16:23 PM, INFO, mealpy.evolutionary_based.GA.BaseGA: Solving single objective optimization problem.\n",
      "2024/02/22 05:16:23 PM, INFO, mealpy.evolutionary_based.GA.BaseGA: >>>Problem: Rosenbrock function, Epoch: 1, Current best: 985.1606136786781, Global best: 985.1606136786781, Runtime: 0.01643 seconds\n",
      "2024/02/22 05:16:23 PM, WARNING, mealpy.evolutionary_based.GA.BaseGA: Stopping criterion with maximum running time/time bound (TB) (seconds) occurred. End program!\n",
      "2024/02/22 05:16:23 PM, INFO, mealpy.evolutionary_based.GA.BaseGA: Solving single objective optimization problem.\n",
      "2024/02/22 05:16:23 PM, INFO, mealpy.evolutionary_based.GA.BaseGA: >>>Problem: Rosenbrock function, Epoch: 1, Current best: 2362.033192785561, Global best: 2362.033192785561, Runtime: 0.01497 seconds\n",
      "2024/02/22 05:16:23 PM, WARNING, mealpy.evolutionary_based.GA.BaseGA: Stopping criterion with maximum running time/time bound (TB) (seconds) occurred. End program!\n",
      "2024/02/22 05:16:23 PM, INFO, mealpy.evolutionary_based.GA.BaseGA: Solving single objective optimization problem.\n",
      "2024/02/22 05:16:23 PM, INFO, mealpy.evolutionary_based.GA.BaseGA: >>>Problem: Rosenbrock function, Epoch: 1, Current best: 1485.5439351038272, Global best: 923.3881578404159, Runtime: 0.01510 seconds\n",
      "2024/02/22 05:16:23 PM, WARNING, mealpy.evolutionary_based.GA.BaseGA: Stopping criterion with maximum running time/time bound (TB) (seconds) occurred. End program!\n",
      "2024/02/22 05:16:23 PM, INFO, mealpy.evolutionary_based.GA.BaseGA: Solving single objective optimization problem.\n",
      "2024/02/22 05:16:23 PM, INFO, mealpy.evolutionary_based.GA.BaseGA: >>>Problem: Rosenbrock function, Epoch: 1, Current best: 1213.9547596617551, Global best: 1213.9547596617551, Runtime: 0.01648 seconds\n",
      "2024/02/22 05:16:23 PM, WARNING, mealpy.evolutionary_based.GA.BaseGA: Stopping criterion with maximum running time/time bound (TB) (seconds) occurred. End program!\n",
      "2024/02/22 05:16:23 PM, INFO, mealpy.evolutionary_based.GA.BaseGA: Solving single objective optimization problem.\n",
      "2024/02/22 05:16:23 PM, INFO, mealpy.evolutionary_based.GA.BaseGA: >>>Problem: Rosenbrock function, Epoch: 1, Current best: 4342.295959680096, Global best: 4342.295959680096, Runtime: 0.01454 seconds\n",
      "2024/02/22 05:16:23 PM, WARNING, mealpy.evolutionary_based.GA.BaseGA: Stopping criterion with maximum running time/time bound (TB) (seconds) occurred. End program!\n",
      "2024/02/22 05:16:23 PM, INFO, mealpy.evolutionary_based.GA.BaseGA: Solving single objective optimization problem.\n",
      "2024/02/22 05:16:23 PM, INFO, mealpy.evolutionary_based.GA.BaseGA: >>>Problem: Rosenbrock function, Epoch: 1, Current best: 1544.3214941338886, Global best: 1544.3214941338886, Runtime: 0.01576 seconds\n",
      "2024/02/22 05:16:23 PM, WARNING, mealpy.evolutionary_based.GA.BaseGA: Stopping criterion with maximum running time/time bound (TB) (seconds) occurred. End program!\n",
      "2024/02/22 05:16:23 PM, INFO, mealpy.evolutionary_based.GA.BaseGA: Solving single objective optimization problem.\n",
      "2024/02/22 05:16:23 PM, INFO, mealpy.evolutionary_based.GA.BaseGA: >>>Problem: Rosenbrock function, Epoch: 1, Current best: 1143.7830302296222, Global best: 1143.7830302296222, Runtime: 0.01560 seconds\n",
      "2024/02/22 05:16:23 PM, WARNING, mealpy.evolutionary_based.GA.BaseGA: Stopping criterion with maximum running time/time bound (TB) (seconds) occurred. End program!\n",
      "2024/02/22 05:16:23 PM, INFO, mealpy.evolutionary_based.GA.BaseGA: Solving single objective optimization problem.\n",
      "2024/02/22 05:16:23 PM, INFO, mealpy.evolutionary_based.GA.BaseGA: >>>Problem: Rosenbrock function, Epoch: 1, Current best: 785.1458276497542, Global best: 785.1458276497542, Runtime: 0.01501 seconds\n",
      "2024/02/22 05:16:23 PM, WARNING, mealpy.evolutionary_based.GA.BaseGA: Stopping criterion with maximum running time/time bound (TB) (seconds) occurred. End program!\n"
     ]
    },
    {
     "name": "stdout",
     "output_type": "stream",
     "text": [
      "Algorithm: BaseGA, with params: {'epoch': 100, 'pop_size': 100, 'pc': 0.95, 'pm': 0.01}, trial: 1, best fitness: 297.8273817475198\n",
      "Algorithm: BaseGA, with params: {'epoch': 100, 'pop_size': 100, 'pc': 0.95, 'pm': 0.01}, trial: 2, best fitness: 985.1606136786781\n",
      "Algorithm: BaseGA, with params: {'epoch': 100, 'pop_size': 100, 'pc': 0.95, 'pm': 0.01}, trial: 3, best fitness: 2362.033192785561\n",
      "Algorithm: BaseGA, with params: {'epoch': 100, 'pop_size': 100, 'pc': 0.95, 'pm': 0.01}, trial: 4, best fitness: 923.3881578404159\n",
      "Algorithm: BaseGA, with params: {'epoch': 100, 'pop_size': 100, 'pc': 0.95, 'pm': 0.01}, trial: 5, best fitness: 1213.9547596617551\n",
      "Algorithm: BaseGA, with params: {'epoch': 100, 'pop_size': 100, 'pc': 0.95, 'pm': 0.05}, trial: 1, best fitness: 4342.295959680096\n",
      "Algorithm: BaseGA, with params: {'epoch': 100, 'pop_size': 100, 'pc': 0.95, 'pm': 0.05}, trial: 2, best fitness: 1544.3214941338886\n",
      "Algorithm: BaseGA, with params: {'epoch': 100, 'pop_size': 100, 'pc': 0.95, 'pm': 0.05}, trial: 3, best fitness: 1143.7830302296222\n"
     ]
    },
    {
     "name": "stderr",
     "output_type": "stream",
     "text": [
      "2024/02/22 05:16:23 PM, INFO, mealpy.evolutionary_based.GA.BaseGA: Solving single objective optimization problem.\n",
      "2024/02/22 05:16:23 PM, INFO, mealpy.evolutionary_based.GA.BaseGA: >>>Problem: Rosenbrock function, Epoch: 1, Current best: 221.49264997360575, Global best: 221.49264997360575, Runtime: 0.01737 seconds\n",
      "2024/02/22 05:16:23 PM, WARNING, mealpy.evolutionary_based.GA.BaseGA: Stopping criterion with maximum running time/time bound (TB) (seconds) occurred. End program!\n",
      "2024/02/22 05:16:23 PM, INFO, mealpy.evolutionary_based.GA.BaseGA: Solving single objective optimization problem.\n",
      "2024/02/22 05:16:23 PM, INFO, mealpy.evolutionary_based.GA.BaseGA: >>>Problem: Rosenbrock function, Epoch: 1, Current best: 281.9702804348517, Global best: 281.9702804348517, Runtime: 0.01609 seconds\n",
      "2024/02/22 05:16:23 PM, WARNING, mealpy.evolutionary_based.GA.BaseGA: Stopping criterion with maximum running time/time bound (TB) (seconds) occurred. End program!\n",
      "2024/02/22 05:16:23 PM, INFO, mealpy.evolutionary_based.GA.BaseGA: Solving single objective optimization problem.\n",
      "2024/02/22 05:16:23 PM, INFO, mealpy.evolutionary_based.GA.BaseGA: >>>Problem: Rosenbrock function, Epoch: 1, Current best: 1299.3870392558083, Global best: 1299.3870392558083, Runtime: 0.01588 seconds\n",
      "2024/02/22 05:16:23 PM, WARNING, mealpy.evolutionary_based.GA.BaseGA: Stopping criterion with maximum running time/time bound (TB) (seconds) occurred. End program!\n",
      "2024/02/22 05:16:23 PM, INFO, mealpy.evolutionary_based.GA.BaseGA: Solving single objective optimization problem.\n",
      "2024/02/22 05:16:23 PM, INFO, mealpy.evolutionary_based.GA.BaseGA: >>>Problem: Rosenbrock function, Epoch: 1, Current best: 1968.2558339622642, Global best: 917.1841416768461, Runtime: 0.01586 seconds\n",
      "2024/02/22 05:16:23 PM, WARNING, mealpy.evolutionary_based.GA.BaseGA: Stopping criterion with maximum running time/time bound (TB) (seconds) occurred. End program!\n",
      "2024/02/22 05:16:23 PM, INFO, mealpy.evolutionary_based.GA.BaseGA: Solving single objective optimization problem.\n",
      "2024/02/22 05:16:23 PM, INFO, mealpy.evolutionary_based.GA.BaseGA: >>>Problem: Rosenbrock function, Epoch: 1, Current best: 82.73225706951081, Global best: 82.73225706951081, Runtime: 0.01709 seconds\n",
      "2024/02/22 05:16:23 PM, WARNING, mealpy.evolutionary_based.GA.BaseGA: Stopping criterion with maximum running time/time bound (TB) (seconds) occurred. End program!\n",
      "2024/02/22 05:16:23 PM, INFO, mealpy.evolutionary_based.GA.BaseGA: Solving single objective optimization problem.\n",
      "2024/02/22 05:16:23 PM, INFO, mealpy.evolutionary_based.GA.BaseGA: >>>Problem: Rosenbrock function, Epoch: 1, Current best: 115.59052391267213, Global best: 115.59052391267213, Runtime: 0.01724 seconds\n",
      "2024/02/22 05:16:23 PM, WARNING, mealpy.evolutionary_based.GA.BaseGA: Stopping criterion with maximum running time/time bound (TB) (seconds) occurred. End program!\n",
      "2024/02/22 05:16:23 PM, INFO, mealpy.evolutionary_based.GA.BaseGA: Solving single objective optimization problem.\n",
      "2024/02/22 05:16:23 PM, INFO, mealpy.evolutionary_based.GA.BaseGA: >>>Problem: Rosenbrock function, Epoch: 1, Current best: 2282.543267141986, Global best: 1107.034238066657, Runtime: 0.01663 seconds\n",
      "2024/02/22 05:16:23 PM, WARNING, mealpy.evolutionary_based.GA.BaseGA: Stopping criterion with maximum running time/time bound (TB) (seconds) occurred. End program!\n",
      "2024/02/22 05:16:23 PM, INFO, mealpy.evolutionary_based.GA.BaseGA: Solving single objective optimization problem.\n",
      "2024/02/22 05:16:23 PM, INFO, mealpy.evolutionary_based.GA.BaseGA: >>>Problem: Rosenbrock function, Epoch: 1, Current best: 476.4123538168794, Global best: 476.4123538168794, Runtime: 0.01512 seconds\n",
      "2024/02/22 05:16:23 PM, WARNING, mealpy.evolutionary_based.GA.BaseGA: Stopping criterion with maximum running time/time bound (TB) (seconds) occurred. End program!\n",
      "2024/02/22 05:16:23 PM, INFO, mealpy.evolutionary_based.GA.BaseGA: Solving single objective optimization problem.\n"
     ]
    },
    {
     "name": "stdout",
     "output_type": "stream",
     "text": [
      "Algorithm: BaseGA, with params: {'epoch': 100, 'pop_size': 100, 'pc': 0.95, 'pm': 0.05}, trial: 4, best fitness: 785.1458276497542\n",
      "Algorithm: BaseGA, with params: {'epoch': 100, 'pop_size': 100, 'pc': 0.95, 'pm': 0.05}, trial: 5, best fitness: 221.49264997360575\n",
      "Algorithm: BaseGA, with params: {'epoch': 100, 'pop_size': 100, 'pc': 0.95, 'pm': 0.1}, trial: 1, best fitness: 281.9702804348517\n",
      "Algorithm: BaseGA, with params: {'epoch': 100, 'pop_size': 100, 'pc': 0.95, 'pm': 0.1}, trial: 2, best fitness: 1299.3870392558083\n",
      "Algorithm: BaseGA, with params: {'epoch': 100, 'pop_size': 100, 'pc': 0.95, 'pm': 0.1}, trial: 3, best fitness: 917.1841416768461\n",
      "Algorithm: BaseGA, with params: {'epoch': 100, 'pop_size': 100, 'pc': 0.95, 'pm': 0.1}, trial: 4, best fitness: 82.73225706951081\n",
      "Algorithm: BaseGA, with params: {'epoch': 100, 'pop_size': 100, 'pc': 0.95, 'pm': 0.1}, trial: 5, best fitness: 115.59052391267213\n",
      "Algorithm: BaseGA, with params: {'epoch': 100, 'pop_size': 100, 'pc': 0.95, 'pm': 0.2}, trial: 1, best fitness: 1107.034238066657\n",
      "Algorithm: BaseGA, with params: {'epoch': 100, 'pop_size': 100, 'pc': 0.95, 'pm': 0.2}, trial: 2, best fitness: 476.4123538168794\n"
     ]
    },
    {
     "name": "stderr",
     "output_type": "stream",
     "text": [
      "2024/02/22 05:16:23 PM, INFO, mealpy.evolutionary_based.GA.BaseGA: >>>Problem: Rosenbrock function, Epoch: 1, Current best: 2898.63218699506, Global best: 2898.63218699506, Runtime: 0.01666 seconds\n",
      "2024/02/22 05:16:23 PM, WARNING, mealpy.evolutionary_based.GA.BaseGA: Stopping criterion with maximum running time/time bound (TB) (seconds) occurred. End program!\n",
      "2024/02/22 05:16:23 PM, INFO, mealpy.evolutionary_based.GA.BaseGA: Solving single objective optimization problem.\n",
      "2024/02/22 05:16:23 PM, INFO, mealpy.evolutionary_based.GA.BaseGA: >>>Problem: Rosenbrock function, Epoch: 1, Current best: 1174.211513700528, Global best: 1174.211513700528, Runtime: 0.01563 seconds\n",
      "2024/02/22 05:16:23 PM, WARNING, mealpy.evolutionary_based.GA.BaseGA: Stopping criterion with maximum running time/time bound (TB) (seconds) occurred. End program!\n",
      "2024/02/22 05:16:23 PM, INFO, mealpy.evolutionary_based.GA.BaseGA: Solving single objective optimization problem.\n",
      "2024/02/22 05:16:23 PM, INFO, mealpy.evolutionary_based.GA.BaseGA: >>>Problem: Rosenbrock function, Epoch: 1, Current best: 2389.8633598067872, Global best: 2389.8633598067872, Runtime: 0.01616 seconds\n",
      "2024/02/22 05:16:23 PM, WARNING, mealpy.evolutionary_based.GA.BaseGA: Stopping criterion with maximum running time/time bound (TB) (seconds) occurred. End program!\n",
      "2024/02/22 05:16:23 PM, INFO, mealpy.evolutionary_based.GA.BaseGA: Solving single objective optimization problem.\n",
      "2024/02/22 05:16:23 PM, INFO, mealpy.evolutionary_based.GA.BaseGA: >>>Problem: Rosenbrock function, Epoch: 1, Current best: 355.1502855428325, Global best: 355.1502855428325, Runtime: 0.01432 seconds\n",
      "2024/02/22 05:16:23 PM, WARNING, mealpy.evolutionary_based.GA.BaseGA: Stopping criterion with maximum running time/time bound (TB) (seconds) occurred. End program!\n",
      "2024/02/22 05:16:23 PM, INFO, mealpy.evolutionary_based.GA.BaseGA: Solving single objective optimization problem.\n",
      "2024/02/22 05:16:23 PM, INFO, mealpy.evolutionary_based.GA.BaseGA: >>>Problem: Rosenbrock function, Epoch: 1, Current best: 944.5406380448724, Global best: 944.5406380448724, Runtime: 0.01404 seconds\n",
      "2024/02/22 05:16:23 PM, WARNING, mealpy.evolutionary_based.GA.BaseGA: Stopping criterion with maximum running time/time bound (TB) (seconds) occurred. End program!\n",
      "2024/02/22 05:16:23 PM, INFO, mealpy.evolutionary_based.GA.BaseGA: Solving single objective optimization problem.\n",
      "2024/02/22 05:16:23 PM, INFO, mealpy.evolutionary_based.GA.BaseGA: >>>Problem: Rosenbrock function, Epoch: 1, Current best: 3255.6594081456374, Global best: 3255.6594081456374, Runtime: 0.01326 seconds\n",
      "2024/02/22 05:16:23 PM, WARNING, mealpy.evolutionary_based.GA.BaseGA: Stopping criterion with maximum running time/time bound (TB) (seconds) occurred. End program!\n",
      "2024/02/22 05:16:23 PM, INFO, mealpy.evolutionary_based.GA.BaseGA: Solving single objective optimization problem.\n",
      "2024/02/22 05:16:23 PM, INFO, mealpy.evolutionary_based.GA.BaseGA: >>>Problem: Rosenbrock function, Epoch: 1, Current best: 4550.660162860317, Global best: 4550.660162860317, Runtime: 0.01438 seconds\n",
      "2024/02/22 05:16:23 PM, WARNING, mealpy.evolutionary_based.GA.BaseGA: Stopping criterion with maximum running time/time bound (TB) (seconds) occurred. End program!\n",
      "2024/02/22 05:16:23 PM, INFO, mealpy.evolutionary_based.GA.BaseGA: Solving single objective optimization problem.\n",
      "2024/02/22 05:16:23 PM, INFO, mealpy.evolutionary_based.GA.BaseGA: >>>Problem: Rosenbrock function, Epoch: 1, Current best: 277.4133525788873, Global best: 277.4133525788873, Runtime: 0.01506 seconds\n",
      "2024/02/22 05:16:23 PM, WARNING, mealpy.evolutionary_based.GA.BaseGA: Stopping criterion with maximum running time/time bound (TB) (seconds) occurred. End program!\n",
      "2024/02/22 05:16:23 PM, INFO, mealpy.evolutionary_based.GA.BaseGA: Solving single objective optimization problem.\n",
      "2024/02/22 05:16:23 PM, INFO, mealpy.evolutionary_based.GA.BaseGA: >>>Problem: Rosenbrock function, Epoch: 1, Current best: 3360.2951233391423, Global best: 3360.2951233391423, Runtime: 0.01408 seconds\n",
      "2024/02/22 05:16:23 PM, WARNING, mealpy.evolutionary_based.GA.BaseGA: Stopping criterion with maximum running time/time bound (TB) (seconds) occurred. End program!\n",
      "2024/02/22 05:16:23 PM, INFO, mealpy.evolutionary_based.GA.BaseGA: Solving single objective optimization problem.\n"
     ]
    },
    {
     "name": "stdout",
     "output_type": "stream",
     "text": [
      "Algorithm: BaseGA, with params: {'epoch': 100, 'pop_size': 100, 'pc': 0.95, 'pm': 0.2}, trial: 3, best fitness: 2898.63218699506\n",
      "Algorithm: BaseGA, with params: {'epoch': 100, 'pop_size': 100, 'pc': 0.95, 'pm': 0.2}, trial: 4, best fitness: 1174.211513700528\n",
      "Algorithm: BaseGA, with params: {'epoch': 100, 'pop_size': 100, 'pc': 0.95, 'pm': 0.2}, trial: 5, best fitness: 2389.8633598067872\n",
      "Algorithm: BaseGA, with params: {'epoch': 100, 'pop_size': 100, 'pc': 0.9, 'pm': 0.01}, trial: 1, best fitness: 355.1502855428325\n",
      "Algorithm: BaseGA, with params: {'epoch': 100, 'pop_size': 100, 'pc': 0.9, 'pm': 0.01}, trial: 2, best fitness: 944.5406380448724\n",
      "Algorithm: BaseGA, with params: {'epoch': 100, 'pop_size': 100, 'pc': 0.9, 'pm': 0.01}, trial: 3, best fitness: 3255.6594081456374\n",
      "Algorithm: BaseGA, with params: {'epoch': 100, 'pop_size': 100, 'pc': 0.9, 'pm': 0.01}, trial: 4, best fitness: 4550.660162860317\n",
      "Algorithm: BaseGA, with params: {'epoch': 100, 'pop_size': 100, 'pc': 0.9, 'pm': 0.01}, trial: 5, best fitness: 277.4133525788873\n",
      "Algorithm: BaseGA, with params: {'epoch': 100, 'pop_size': 100, 'pc': 0.9, 'pm': 0.05}, trial: 1, best fitness: 3360.2951233391423\n"
     ]
    },
    {
     "name": "stderr",
     "output_type": "stream",
     "text": [
      "2024/02/22 05:16:23 PM, INFO, mealpy.evolutionary_based.GA.BaseGA: >>>Problem: Rosenbrock function, Epoch: 1, Current best: 2258.9734547625967, Global best: 2258.9734547625967, Runtime: 0.01587 seconds\n",
      "2024/02/22 05:16:23 PM, WARNING, mealpy.evolutionary_based.GA.BaseGA: Stopping criterion with maximum running time/time bound (TB) (seconds) occurred. End program!\n",
      "2024/02/22 05:16:23 PM, INFO, mealpy.evolutionary_based.GA.BaseGA: Solving single objective optimization problem.\n",
      "2024/02/22 05:16:23 PM, INFO, mealpy.evolutionary_based.GA.BaseGA: >>>Problem: Rosenbrock function, Epoch: 1, Current best: 234.70613988462895, Global best: 234.70613988462895, Runtime: 0.01535 seconds\n",
      "2024/02/22 05:16:23 PM, WARNING, mealpy.evolutionary_based.GA.BaseGA: Stopping criterion with maximum running time/time bound (TB) (seconds) occurred. End program!\n",
      "2024/02/22 05:16:23 PM, INFO, mealpy.evolutionary_based.GA.BaseGA: Solving single objective optimization problem.\n",
      "2024/02/22 05:16:24 PM, INFO, mealpy.evolutionary_based.GA.BaseGA: >>>Problem: Rosenbrock function, Epoch: 1, Current best: 819.5664014449076, Global best: 819.5664014449076, Runtime: 0.01400 seconds\n",
      "2024/02/22 05:16:24 PM, WARNING, mealpy.evolutionary_based.GA.BaseGA: Stopping criterion with maximum running time/time bound (TB) (seconds) occurred. End program!\n",
      "2024/02/22 05:16:24 PM, INFO, mealpy.evolutionary_based.GA.BaseGA: Solving single objective optimization problem.\n",
      "2024/02/22 05:16:24 PM, INFO, mealpy.evolutionary_based.GA.BaseGA: >>>Problem: Rosenbrock function, Epoch: 1, Current best: 191.12789785196753, Global best: 191.12789785196753, Runtime: 0.01619 seconds\n",
      "2024/02/22 05:16:24 PM, WARNING, mealpy.evolutionary_based.GA.BaseGA: Stopping criterion with maximum running time/time bound (TB) (seconds) occurred. End program!\n",
      "2024/02/22 05:16:24 PM, INFO, mealpy.evolutionary_based.GA.BaseGA: Solving single objective optimization problem.\n",
      "2024/02/22 05:16:24 PM, INFO, mealpy.evolutionary_based.GA.BaseGA: >>>Problem: Rosenbrock function, Epoch: 1, Current best: 264.7869460851537, Global best: 264.7869460851537, Runtime: 0.01456 seconds\n",
      "2024/02/22 05:16:24 PM, WARNING, mealpy.evolutionary_based.GA.BaseGA: Stopping criterion with maximum running time/time bound (TB) (seconds) occurred. End program!\n",
      "2024/02/22 05:16:24 PM, INFO, mealpy.evolutionary_based.GA.BaseGA: Solving single objective optimization problem.\n",
      "2024/02/22 05:16:24 PM, INFO, mealpy.evolutionary_based.GA.BaseGA: >>>Problem: Rosenbrock function, Epoch: 1, Current best: 981.5807253316784, Global best: 981.5807253316784, Runtime: 0.01439 seconds\n",
      "2024/02/22 05:16:24 PM, WARNING, mealpy.evolutionary_based.GA.BaseGA: Stopping criterion with maximum running time/time bound (TB) (seconds) occurred. End program!\n",
      "2024/02/22 05:16:24 PM, INFO, mealpy.evolutionary_based.GA.BaseGA: Solving single objective optimization problem.\n",
      "2024/02/22 05:16:24 PM, INFO, mealpy.evolutionary_based.GA.BaseGA: >>>Problem: Rosenbrock function, Epoch: 1, Current best: 661.1628734588859, Global best: 661.1628734588859, Runtime: 0.01553 seconds\n",
      "2024/02/22 05:16:24 PM, WARNING, mealpy.evolutionary_based.GA.BaseGA: Stopping criterion with maximum running time/time bound (TB) (seconds) occurred. End program!\n",
      "2024/02/22 05:16:24 PM, INFO, mealpy.evolutionary_based.GA.BaseGA: Solving single objective optimization problem.\n",
      "2024/02/22 05:16:24 PM, INFO, mealpy.evolutionary_based.GA.BaseGA: >>>Problem: Rosenbrock function, Epoch: 1, Current best: 1003.3314636619884, Global best: 1003.3314636619884, Runtime: 0.01386 seconds\n",
      "2024/02/22 05:16:24 PM, WARNING, mealpy.evolutionary_based.GA.BaseGA: Stopping criterion with maximum running time/time bound (TB) (seconds) occurred. End program!\n",
      "2024/02/22 05:16:24 PM, INFO, mealpy.evolutionary_based.GA.BaseGA: Solving single objective optimization problem.\n",
      "2024/02/22 05:16:24 PM, INFO, mealpy.evolutionary_based.GA.BaseGA: >>>Problem: Rosenbrock function, Epoch: 1, Current best: 418.4743350082688, Global best: 418.4743350082688, Runtime: 0.01463 seconds\n"
     ]
    },
    {
     "name": "stdout",
     "output_type": "stream",
     "text": [
      "Algorithm: BaseGA, with params: {'epoch': 100, 'pop_size': 100, 'pc': 0.9, 'pm': 0.05}, trial: 2, best fitness: 2258.9734547625967\n",
      "Algorithm: BaseGA, with params: {'epoch': 100, 'pop_size': 100, 'pc': 0.9, 'pm': 0.05}, trial: 3, best fitness: 234.70613988462895\n",
      "Algorithm: BaseGA, with params: {'epoch': 100, 'pop_size': 100, 'pc': 0.9, 'pm': 0.05}, trial: 4, best fitness: 819.5664014449076\n",
      "Algorithm: BaseGA, with params: {'epoch': 100, 'pop_size': 100, 'pc': 0.9, 'pm': 0.05}, trial: 5, best fitness: 191.12789785196753\n",
      "Algorithm: BaseGA, with params: {'epoch': 100, 'pop_size': 100, 'pc': 0.9, 'pm': 0.1}, trial: 1, best fitness: 264.7869460851537\n",
      "Algorithm: BaseGA, with params: {'epoch': 100, 'pop_size': 100, 'pc': 0.9, 'pm': 0.1}, trial: 2, best fitness: 981.5807253316784\n",
      "Algorithm: BaseGA, with params: {'epoch': 100, 'pop_size': 100, 'pc': 0.9, 'pm': 0.1}, trial: 3, best fitness: 661.1628734588859\n",
      "Algorithm: BaseGA, with params: {'epoch': 100, 'pop_size': 100, 'pc': 0.9, 'pm': 0.1}, trial: 4, best fitness: 1003.3314636619884\n"
     ]
    },
    {
     "name": "stderr",
     "output_type": "stream",
     "text": [
      "2024/02/22 05:16:24 PM, WARNING, mealpy.evolutionary_based.GA.BaseGA: Stopping criterion with maximum running time/time bound (TB) (seconds) occurred. End program!\n",
      "2024/02/22 05:16:24 PM, INFO, mealpy.evolutionary_based.GA.BaseGA: Solving single objective optimization problem.\n",
      "2024/02/22 05:16:24 PM, INFO, mealpy.evolutionary_based.GA.BaseGA: >>>Problem: Rosenbrock function, Epoch: 1, Current best: 1784.5118184669273, Global best: 1738.9784005767647, Runtime: 0.01400 seconds\n",
      "2024/02/22 05:16:24 PM, WARNING, mealpy.evolutionary_based.GA.BaseGA: Stopping criterion with maximum running time/time bound (TB) (seconds) occurred. End program!\n",
      "2024/02/22 05:16:24 PM, INFO, mealpy.evolutionary_based.GA.BaseGA: Solving single objective optimization problem.\n",
      "2024/02/22 05:16:24 PM, INFO, mealpy.evolutionary_based.GA.BaseGA: >>>Problem: Rosenbrock function, Epoch: 1, Current best: 2111.2603369501694, Global best: 2111.2603369501694, Runtime: 0.01578 seconds\n",
      "2024/02/22 05:16:24 PM, WARNING, mealpy.evolutionary_based.GA.BaseGA: Stopping criterion with maximum running time/time bound (TB) (seconds) occurred. End program!\n",
      "2024/02/22 05:16:24 PM, INFO, mealpy.evolutionary_based.GA.BaseGA: Solving single objective optimization problem.\n",
      "2024/02/22 05:16:24 PM, INFO, mealpy.evolutionary_based.GA.BaseGA: >>>Problem: Rosenbrock function, Epoch: 1, Current best: 1369.995833522495, Global best: 1235.400869653646, Runtime: 0.01399 seconds\n",
      "2024/02/22 05:16:24 PM, WARNING, mealpy.evolutionary_based.GA.BaseGA: Stopping criterion with maximum running time/time bound (TB) (seconds) occurred. End program!\n",
      "2024/02/22 05:16:24 PM, INFO, mealpy.evolutionary_based.GA.BaseGA: Solving single objective optimization problem.\n",
      "2024/02/22 05:16:24 PM, INFO, mealpy.evolutionary_based.GA.BaseGA: >>>Problem: Rosenbrock function, Epoch: 1, Current best: 3107.3008494431215, Global best: 938.466838256932, Runtime: 0.01540 seconds\n",
      "2024/02/22 05:16:24 PM, WARNING, mealpy.evolutionary_based.GA.BaseGA: Stopping criterion with maximum running time/time bound (TB) (seconds) occurred. End program!\n",
      "2024/02/22 05:16:24 PM, INFO, mealpy.evolutionary_based.GA.BaseGA: Solving single objective optimization problem.\n",
      "2024/02/22 05:16:24 PM, INFO, mealpy.evolutionary_based.GA.BaseGA: >>>Problem: Rosenbrock function, Epoch: 1, Current best: 1152.7111612195208, Global best: 1152.7111612195208, Runtime: 0.01403 seconds\n",
      "2024/02/22 05:16:24 PM, WARNING, mealpy.evolutionary_based.GA.BaseGA: Stopping criterion with maximum running time/time bound (TB) (seconds) occurred. End program!\n",
      "2024/02/22 05:16:24 PM, INFO, mealpy.evolutionary_based.GA.BaseGA: Solving single objective optimization problem.\n",
      "2024/02/22 05:16:24 PM, INFO, mealpy.evolutionary_based.GA.BaseGA: >>>Problem: Rosenbrock function, Epoch: 1, Current best: 1479.2243656365217, Global best: 1479.2243656365217, Runtime: 0.01299 seconds\n",
      "2024/02/22 05:16:24 PM, WARNING, mealpy.evolutionary_based.GA.BaseGA: Stopping criterion with maximum running time/time bound (TB) (seconds) occurred. End program!\n",
      "2024/02/22 05:16:24 PM, INFO, mealpy.evolutionary_based.GA.BaseGA: Solving single objective optimization problem.\n",
      "2024/02/22 05:16:24 PM, INFO, mealpy.evolutionary_based.GA.BaseGA: >>>Problem: Rosenbrock function, Epoch: 1, Current best: 779.4253203193466, Global best: 779.4253203193466, Runtime: 0.01876 seconds\n",
      "2024/02/22 05:16:24 PM, WARNING, mealpy.evolutionary_based.GA.BaseGA: Stopping criterion with maximum running time/time bound (TB) (seconds) occurred. End program!\n",
      "2024/02/22 05:16:24 PM, INFO, mealpy.evolutionary_based.GA.BaseGA: Solving single objective optimization problem.\n",
      "2024/02/22 05:16:24 PM, INFO, mealpy.evolutionary_based.GA.BaseGA: >>>Problem: Rosenbrock function, Epoch: 1, Current best: 535.420226085891, Global best: 535.420226085891, Runtime: 0.01404 seconds\n"
     ]
    },
    {
     "name": "stdout",
     "output_type": "stream",
     "text": [
      "Algorithm: BaseGA, with params: {'epoch': 100, 'pop_size': 100, 'pc': 0.9, 'pm': 0.1}, trial: 5, best fitness: 418.4743350082688\n",
      "Algorithm: BaseGA, with params: {'epoch': 100, 'pop_size': 100, 'pc': 0.9, 'pm': 0.2}, trial: 1, best fitness: 1738.9784005767647\n",
      "Algorithm: BaseGA, with params: {'epoch': 100, 'pop_size': 100, 'pc': 0.9, 'pm': 0.2}, trial: 2, best fitness: 2111.2603369501694\n",
      "Algorithm: BaseGA, with params: {'epoch': 100, 'pop_size': 100, 'pc': 0.9, 'pm': 0.2}, trial: 3, best fitness: 1235.400869653646\n",
      "Algorithm: BaseGA, with params: {'epoch': 100, 'pop_size': 100, 'pc': 0.9, 'pm': 0.2}, trial: 4, best fitness: 938.466838256932\n",
      "Algorithm: BaseGA, with params: {'epoch': 100, 'pop_size': 100, 'pc': 0.9, 'pm': 0.2}, trial: 5, best fitness: 1152.7111612195208\n",
      "Algorithm: BaseGA, with params: {'epoch': 100, 'pop_size': 100, 'pc': 0.8, 'pm': 0.01}, trial: 1, best fitness: 1479.2243656365217\n",
      "Algorithm: BaseGA, with params: {'epoch': 100, 'pop_size': 100, 'pc': 0.8, 'pm': 0.01}, trial: 2, best fitness: 779.4253203193466\n"
     ]
    },
    {
     "name": "stderr",
     "output_type": "stream",
     "text": [
      "2024/02/22 05:16:24 PM, WARNING, mealpy.evolutionary_based.GA.BaseGA: Stopping criterion with maximum running time/time bound (TB) (seconds) occurred. End program!\n",
      "2024/02/22 05:16:24 PM, INFO, mealpy.evolutionary_based.GA.BaseGA: Solving single objective optimization problem.\n",
      "2024/02/22 05:16:24 PM, INFO, mealpy.evolutionary_based.GA.BaseGA: >>>Problem: Rosenbrock function, Epoch: 1, Current best: 1647.743167696579, Global best: 1647.743167696579, Runtime: 0.01534 seconds\n",
      "2024/02/22 05:16:24 PM, WARNING, mealpy.evolutionary_based.GA.BaseGA: Stopping criterion with maximum running time/time bound (TB) (seconds) occurred. End program!\n",
      "2024/02/22 05:16:24 PM, INFO, mealpy.evolutionary_based.GA.BaseGA: Solving single objective optimization problem.\n",
      "2024/02/22 05:16:24 PM, INFO, mealpy.evolutionary_based.GA.BaseGA: >>>Problem: Rosenbrock function, Epoch: 1, Current best: 1719.6219691540484, Global best: 1719.6219691540484, Runtime: 0.01403 seconds\n",
      "2024/02/22 05:16:24 PM, WARNING, mealpy.evolutionary_based.GA.BaseGA: Stopping criterion with maximum running time/time bound (TB) (seconds) occurred. End program!\n",
      "2024/02/22 05:16:24 PM, INFO, mealpy.evolutionary_based.GA.BaseGA: Solving single objective optimization problem.\n",
      "2024/02/22 05:16:24 PM, INFO, mealpy.evolutionary_based.GA.BaseGA: >>>Problem: Rosenbrock function, Epoch: 1, Current best: 613.8099558124579, Global best: 613.8099558124579, Runtime: 0.01458 seconds\n",
      "2024/02/22 05:16:24 PM, WARNING, mealpy.evolutionary_based.GA.BaseGA: Stopping criterion with maximum running time/time bound (TB) (seconds) occurred. End program!\n",
      "2024/02/22 05:16:24 PM, INFO, mealpy.evolutionary_based.GA.BaseGA: Solving single objective optimization problem.\n",
      "2024/02/22 05:16:24 PM, INFO, mealpy.evolutionary_based.GA.BaseGA: >>>Problem: Rosenbrock function, Epoch: 1, Current best: 3924.136407606661, Global best: 3924.136407606661, Runtime: 0.01567 seconds\n",
      "2024/02/22 05:16:24 PM, WARNING, mealpy.evolutionary_based.GA.BaseGA: Stopping criterion with maximum running time/time bound (TB) (seconds) occurred. End program!\n",
      "2024/02/22 05:16:24 PM, INFO, mealpy.evolutionary_based.GA.BaseGA: Solving single objective optimization problem.\n",
      "2024/02/22 05:16:24 PM, INFO, mealpy.evolutionary_based.GA.BaseGA: >>>Problem: Rosenbrock function, Epoch: 1, Current best: 2718.677508719225, Global best: 2718.677508719225, Runtime: 0.01536 seconds\n",
      "2024/02/22 05:16:24 PM, WARNING, mealpy.evolutionary_based.GA.BaseGA: Stopping criterion with maximum running time/time bound (TB) (seconds) occurred. End program!\n",
      "2024/02/22 05:16:24 PM, INFO, mealpy.evolutionary_based.GA.BaseGA: Solving single objective optimization problem.\n",
      "2024/02/22 05:16:24 PM, INFO, mealpy.evolutionary_based.GA.BaseGA: >>>Problem: Rosenbrock function, Epoch: 1, Current best: 1274.6152268221197, Global best: 1274.6152268221197, Runtime: 0.01381 seconds\n",
      "2024/02/22 05:16:24 PM, WARNING, mealpy.evolutionary_based.GA.BaseGA: Stopping criterion with maximum running time/time bound (TB) (seconds) occurred. End program!\n",
      "2024/02/22 05:16:24 PM, INFO, mealpy.evolutionary_based.GA.BaseGA: Solving single objective optimization problem.\n",
      "2024/02/22 05:16:24 PM, INFO, mealpy.evolutionary_based.GA.BaseGA: >>>Problem: Rosenbrock function, Epoch: 1, Current best: 2368.7503778223545, Global best: 2368.7503778223545, Runtime: 0.01566 seconds\n",
      "2024/02/22 05:16:24 PM, WARNING, mealpy.evolutionary_based.GA.BaseGA: Stopping criterion with maximum running time/time bound (TB) (seconds) occurred. End program!\n",
      "2024/02/22 05:16:24 PM, INFO, mealpy.evolutionary_based.GA.BaseGA: Solving single objective optimization problem.\n",
      "2024/02/22 05:16:24 PM, INFO, mealpy.evolutionary_based.GA.BaseGA: >>>Problem: Rosenbrock function, Epoch: 1, Current best: 798.6520979354908, Global best: 798.6520979354908, Runtime: 0.01443 seconds\n",
      "2024/02/22 05:16:24 PM, WARNING, mealpy.evolutionary_based.GA.BaseGA: Stopping criterion with maximum running time/time bound (TB) (seconds) occurred. End program!\n",
      "2024/02/22 05:16:24 PM, INFO, mealpy.evolutionary_based.GA.BaseGA: Solving single objective optimization problem.\n"
     ]
    },
    {
     "name": "stdout",
     "output_type": "stream",
     "text": [
      "Algorithm: BaseGA, with params: {'epoch': 100, 'pop_size': 100, 'pc': 0.8, 'pm': 0.01}, trial: 3, best fitness: 535.420226085891\n",
      "Algorithm: BaseGA, with params: {'epoch': 100, 'pop_size': 100, 'pc': 0.8, 'pm': 0.01}, trial: 4, best fitness: 1647.743167696579\n",
      "Algorithm: BaseGA, with params: {'epoch': 100, 'pop_size': 100, 'pc': 0.8, 'pm': 0.01}, trial: 5, best fitness: 1719.6219691540484\n",
      "Algorithm: BaseGA, with params: {'epoch': 100, 'pop_size': 100, 'pc': 0.8, 'pm': 0.05}, trial: 1, best fitness: 613.8099558124579\n",
      "Algorithm: BaseGA, with params: {'epoch': 100, 'pop_size': 100, 'pc': 0.8, 'pm': 0.05}, trial: 2, best fitness: 3924.136407606661\n",
      "Algorithm: BaseGA, with params: {'epoch': 100, 'pop_size': 100, 'pc': 0.8, 'pm': 0.05}, trial: 3, best fitness: 2718.677508719225\n",
      "Algorithm: BaseGA, with params: {'epoch': 100, 'pop_size': 100, 'pc': 0.8, 'pm': 0.05}, trial: 4, best fitness: 1274.6152268221197\n",
      "Algorithm: BaseGA, with params: {'epoch': 100, 'pop_size': 100, 'pc': 0.8, 'pm': 0.05}, trial: 5, best fitness: 2368.7503778223545\n",
      "Algorithm: BaseGA, with params: {'epoch': 100, 'pop_size': 100, 'pc': 0.8, 'pm': 0.1}, trial: 1, best fitness: 798.6520979354908\n"
     ]
    },
    {
     "name": "stderr",
     "output_type": "stream",
     "text": [
      "2024/02/22 05:16:24 PM, INFO, mealpy.evolutionary_based.GA.BaseGA: >>>Problem: Rosenbrock function, Epoch: 1, Current best: 1103.4272603983236, Global best: 1103.4272603983236, Runtime: 0.01779 seconds\n",
      "2024/02/22 05:16:24 PM, WARNING, mealpy.evolutionary_based.GA.BaseGA: Stopping criterion with maximum running time/time bound (TB) (seconds) occurred. End program!\n",
      "2024/02/22 05:16:24 PM, INFO, mealpy.evolutionary_based.GA.BaseGA: Solving single objective optimization problem.\n",
      "2024/02/22 05:16:24 PM, INFO, mealpy.evolutionary_based.GA.BaseGA: >>>Problem: Rosenbrock function, Epoch: 1, Current best: 590.166591625458, Global best: 590.166591625458, Runtime: 0.01498 seconds\n",
      "2024/02/22 05:16:24 PM, WARNING, mealpy.evolutionary_based.GA.BaseGA: Stopping criterion with maximum running time/time bound (TB) (seconds) occurred. End program!\n",
      "2024/02/22 05:16:24 PM, INFO, mealpy.evolutionary_based.GA.BaseGA: Solving single objective optimization problem.\n",
      "2024/02/22 05:16:24 PM, INFO, mealpy.evolutionary_based.GA.BaseGA: >>>Problem: Rosenbrock function, Epoch: 1, Current best: 876.1615863025992, Global best: 876.1615863025992, Runtime: 0.01502 seconds\n",
      "2024/02/22 05:16:24 PM, WARNING, mealpy.evolutionary_based.GA.BaseGA: Stopping criterion with maximum running time/time bound (TB) (seconds) occurred. End program!\n",
      "2024/02/22 05:16:24 PM, INFO, mealpy.evolutionary_based.GA.BaseGA: Solving single objective optimization problem.\n",
      "2024/02/22 05:16:24 PM, INFO, mealpy.evolutionary_based.GA.BaseGA: >>>Problem: Rosenbrock function, Epoch: 1, Current best: 270.41811525908656, Global best: 270.41811525908656, Runtime: 0.01402 seconds\n",
      "2024/02/22 05:16:24 PM, WARNING, mealpy.evolutionary_based.GA.BaseGA: Stopping criterion with maximum running time/time bound (TB) (seconds) occurred. End program!\n",
      "2024/02/22 05:16:24 PM, INFO, mealpy.evolutionary_based.GA.BaseGA: Solving single objective optimization problem.\n",
      "2024/02/22 05:16:24 PM, INFO, mealpy.evolutionary_based.GA.BaseGA: >>>Problem: Rosenbrock function, Epoch: 1, Current best: 1359.735611931882, Global best: 1359.735611931882, Runtime: 0.01549 seconds\n",
      "2024/02/22 05:16:24 PM, WARNING, mealpy.evolutionary_based.GA.BaseGA: Stopping criterion with maximum running time/time bound (TB) (seconds) occurred. End program!\n",
      "2024/02/22 05:16:24 PM, INFO, mealpy.evolutionary_based.GA.BaseGA: Solving single objective optimization problem.\n",
      "2024/02/22 05:16:24 PM, INFO, mealpy.evolutionary_based.GA.BaseGA: >>>Problem: Rosenbrock function, Epoch: 1, Current best: 982.0470413268338, Global best: 982.0470413268338, Runtime: 0.01400 seconds\n",
      "2024/02/22 05:16:24 PM, WARNING, mealpy.evolutionary_based.GA.BaseGA: Stopping criterion with maximum running time/time bound (TB) (seconds) occurred. End program!\n",
      "2024/02/22 05:16:24 PM, INFO, mealpy.evolutionary_based.GA.BaseGA: Solving single objective optimization problem.\n",
      "2024/02/22 05:16:24 PM, INFO, mealpy.evolutionary_based.GA.BaseGA: >>>Problem: Rosenbrock function, Epoch: 1, Current best: 1279.8699277629485, Global best: 1279.8699277629485, Runtime: 0.01532 seconds\n",
      "2024/02/22 05:16:24 PM, WARNING, mealpy.evolutionary_based.GA.BaseGA: Stopping criterion with maximum running time/time bound (TB) (seconds) occurred. End program!\n",
      "2024/02/22 05:16:24 PM, INFO, mealpy.evolutionary_based.GA.BaseGA: Solving single objective optimization problem.\n",
      "2024/02/22 05:16:24 PM, INFO, mealpy.evolutionary_based.GA.BaseGA: >>>Problem: Rosenbrock function, Epoch: 1, Current best: 911.7830463370082, Global best: 911.7830463370082, Runtime: 0.01308 seconds\n",
      "2024/02/22 05:16:24 PM, WARNING, mealpy.evolutionary_based.GA.BaseGA: Stopping criterion with maximum running time/time bound (TB) (seconds) occurred. End program!\n",
      "2024/02/22 05:16:24 PM, INFO, mealpy.evolutionary_based.GA.BaseGA: Solving single objective optimization problem.\n",
      "2024/02/22 05:16:24 PM, INFO, mealpy.evolutionary_based.GA.BaseGA: >>>Problem: Rosenbrock function, Epoch: 1, Current best: 2484.8609940000574, Global best: 2484.8609940000574, Runtime: 0.01446 seconds\n",
      "2024/02/22 05:16:24 PM, WARNING, mealpy.evolutionary_based.GA.BaseGA: Stopping criterion with maximum running time/time bound (TB) (seconds) occurred. End program!\n",
      "2024/02/22 05:16:24 PM, INFO, mealpy.evolutionary_based.GA.BaseGA: Solving single objective optimization problem.\n",
      "2024/02/22 05:16:24 PM, INFO, mealpy.evolutionary_based.GA.BaseGA: >>>Problem: Rosenbrock function, Epoch: 1, Current best: 893.485786106177, Global best: 893.485786106177, Runtime: 0.01388 seconds\n"
     ]
    },
    {
     "name": "stdout",
     "output_type": "stream",
     "text": [
      "Algorithm: BaseGA, with params: {'epoch': 100, 'pop_size': 100, 'pc': 0.8, 'pm': 0.1}, trial: 2, best fitness: 1103.4272603983236\n",
      "Algorithm: BaseGA, with params: {'epoch': 100, 'pop_size': 100, 'pc': 0.8, 'pm': 0.1}, trial: 3, best fitness: 590.166591625458\n",
      "Algorithm: BaseGA, with params: {'epoch': 100, 'pop_size': 100, 'pc': 0.8, 'pm': 0.1}, trial: 4, best fitness: 876.1615863025992\n",
      "Algorithm: BaseGA, with params: {'epoch': 100, 'pop_size': 100, 'pc': 0.8, 'pm': 0.1}, trial: 5, best fitness: 270.41811525908656\n",
      "Algorithm: BaseGA, with params: {'epoch': 100, 'pop_size': 100, 'pc': 0.8, 'pm': 0.2}, trial: 1, best fitness: 1359.735611931882\n",
      "Algorithm: BaseGA, with params: {'epoch': 100, 'pop_size': 100, 'pc': 0.8, 'pm': 0.2}, trial: 2, best fitness: 982.0470413268338\n",
      "Algorithm: BaseGA, with params: {'epoch': 100, 'pop_size': 100, 'pc': 0.8, 'pm': 0.2}, trial: 3, best fitness: 1279.8699277629485\n",
      "Algorithm: BaseGA, with params: {'epoch': 100, 'pop_size': 100, 'pc': 0.8, 'pm': 0.2}, trial: 4, best fitness: 911.7830463370082\n",
      "Algorithm: BaseGA, with params: {'epoch': 100, 'pop_size': 100, 'pc': 0.8, 'pm': 0.2}, trial: 5, best fitness: 2484.8609940000574\n"
     ]
    },
    {
     "name": "stderr",
     "output_type": "stream",
     "text": [
      "2024/02/22 05:16:24 PM, WARNING, mealpy.evolutionary_based.GA.BaseGA: Stopping criterion with maximum running time/time bound (TB) (seconds) occurred. End program!\n",
      "2024/02/22 05:16:24 PM, INFO, mealpy.evolutionary_based.GA.BaseGA: Solving single objective optimization problem.\n",
      "2024/02/22 05:16:24 PM, INFO, mealpy.evolutionary_based.GA.BaseGA: >>>Problem: Rosenbrock function, Epoch: 1, Current best: 762.5053266528564, Global best: 762.5053266528564, Runtime: 0.01341 seconds\n",
      "2024/02/22 05:16:24 PM, WARNING, mealpy.evolutionary_based.GA.BaseGA: Stopping criterion with maximum running time/time bound (TB) (seconds) occurred. End program!\n",
      "2024/02/22 05:16:24 PM, INFO, mealpy.evolutionary_based.GA.BaseGA: Solving single objective optimization problem.\n",
      "2024/02/22 05:16:24 PM, INFO, mealpy.evolutionary_based.GA.BaseGA: >>>Problem: Rosenbrock function, Epoch: 1, Current best: 1258.4422872543569, Global best: 1258.4422872543569, Runtime: 0.01446 seconds\n",
      "2024/02/22 05:16:24 PM, WARNING, mealpy.evolutionary_based.GA.BaseGA: Stopping criterion with maximum running time/time bound (TB) (seconds) occurred. End program!\n",
      "2024/02/22 05:16:24 PM, INFO, mealpy.evolutionary_based.GA.BaseGA: Solving single objective optimization problem.\n",
      "2024/02/22 05:16:24 PM, INFO, mealpy.evolutionary_based.GA.BaseGA: >>>Problem: Rosenbrock function, Epoch: 1, Current best: 3686.3834779339654, Global best: 3686.3834779339654, Runtime: 0.01409 seconds\n",
      "2024/02/22 05:16:24 PM, WARNING, mealpy.evolutionary_based.GA.BaseGA: Stopping criterion with maximum running time/time bound (TB) (seconds) occurred. End program!\n",
      "2024/02/22 05:16:24 PM, INFO, mealpy.evolutionary_based.GA.BaseGA: Solving single objective optimization problem.\n",
      "2024/02/22 05:16:24 PM, INFO, mealpy.evolutionary_based.GA.BaseGA: >>>Problem: Rosenbrock function, Epoch: 1, Current best: 1377.6933961740292, Global best: 1377.6933961740292, Runtime: 0.01383 seconds\n",
      "2024/02/22 05:16:24 PM, WARNING, mealpy.evolutionary_based.GA.BaseGA: Stopping criterion with maximum running time/time bound (TB) (seconds) occurred. End program!\n",
      "2024/02/22 05:16:24 PM, INFO, mealpy.evolutionary_based.GA.BaseGA: Solving single objective optimization problem.\n",
      "2024/02/22 05:16:24 PM, INFO, mealpy.evolutionary_based.GA.BaseGA: >>>Problem: Rosenbrock function, Epoch: 1, Current best: 822.3800218335812, Global best: 822.3800218335812, Runtime: 0.01396 seconds\n",
      "2024/02/22 05:16:24 PM, WARNING, mealpy.evolutionary_based.GA.BaseGA: Stopping criterion with maximum running time/time bound (TB) (seconds) occurred. End program!\n",
      "2024/02/22 05:16:24 PM, INFO, mealpy.evolutionary_based.GA.BaseGA: Solving single objective optimization problem.\n",
      "2024/02/22 05:16:24 PM, INFO, mealpy.evolutionary_based.GA.BaseGA: >>>Problem: Rosenbrock function, Epoch: 1, Current best: 988.2196411357165, Global best: 988.2196411357165, Runtime: 0.01628 seconds\n",
      "2024/02/22 05:16:24 PM, WARNING, mealpy.evolutionary_based.GA.BaseGA: Stopping criterion with maximum running time/time bound (TB) (seconds) occurred. End program!\n",
      "2024/02/22 05:16:24 PM, INFO, mealpy.evolutionary_based.GA.BaseGA: Solving single objective optimization problem.\n",
      "2024/02/22 05:16:24 PM, INFO, mealpy.evolutionary_based.GA.BaseGA: >>>Problem: Rosenbrock function, Epoch: 1, Current best: 1649.171654916285, Global best: 1649.171654916285, Runtime: 0.01390 seconds\n",
      "2024/02/22 05:16:24 PM, WARNING, mealpy.evolutionary_based.GA.BaseGA: Stopping criterion with maximum running time/time bound (TB) (seconds) occurred. End program!\n",
      "2024/02/22 05:16:24 PM, INFO, mealpy.evolutionary_based.GA.BaseGA: Solving single objective optimization problem.\n",
      "2024/02/22 05:16:24 PM, INFO, mealpy.evolutionary_based.GA.BaseGA: >>>Problem: Rosenbrock function, Epoch: 1, Current best: 710.789709712648, Global best: 710.789709712648, Runtime: 0.01601 seconds\n",
      "2024/02/22 05:16:24 PM, WARNING, mealpy.evolutionary_based.GA.BaseGA: Stopping criterion with maximum running time/time bound (TB) (seconds) occurred. End program!\n"
     ]
    },
    {
     "name": "stdout",
     "output_type": "stream",
     "text": [
      "Algorithm: BaseGA, with params: {'epoch': 100, 'pop_size': 100, 'pc': 0.7, 'pm': 0.01}, trial: 1, best fitness: 893.485786106177\n",
      "Algorithm: BaseGA, with params: {'epoch': 100, 'pop_size': 100, 'pc': 0.7, 'pm': 0.01}, trial: 2, best fitness: 762.5053266528564\n",
      "Algorithm: BaseGA, with params: {'epoch': 100, 'pop_size': 100, 'pc': 0.7, 'pm': 0.01}, trial: 3, best fitness: 1258.4422872543569\n",
      "Algorithm: BaseGA, with params: {'epoch': 100, 'pop_size': 100, 'pc': 0.7, 'pm': 0.01}, trial: 4, best fitness: 3686.3834779339654\n",
      "Algorithm: BaseGA, with params: {'epoch': 100, 'pop_size': 100, 'pc': 0.7, 'pm': 0.01}, trial: 5, best fitness: 1377.6933961740292\n",
      "Algorithm: BaseGA, with params: {'epoch': 100, 'pop_size': 100, 'pc': 0.7, 'pm': 0.05}, trial: 1, best fitness: 822.3800218335812\n",
      "Algorithm: BaseGA, with params: {'epoch': 100, 'pop_size': 100, 'pc': 0.7, 'pm': 0.05}, trial: 2, best fitness: 988.2196411357165\n",
      "Algorithm: BaseGA, with params: {'epoch': 100, 'pop_size': 100, 'pc': 0.7, 'pm': 0.05}, trial: 3, best fitness: 1649.171654916285\n"
     ]
    },
    {
     "name": "stderr",
     "output_type": "stream",
     "text": [
      "2024/02/22 05:16:24 PM, INFO, mealpy.evolutionary_based.GA.BaseGA: Solving single objective optimization problem.\n",
      "2024/02/22 05:16:24 PM, INFO, mealpy.evolutionary_based.GA.BaseGA: >>>Problem: Rosenbrock function, Epoch: 1, Current best: 983.1418150506615, Global best: 983.1418150506615, Runtime: 0.01710 seconds\n",
      "2024/02/22 05:16:24 PM, WARNING, mealpy.evolutionary_based.GA.BaseGA: Stopping criterion with maximum running time/time bound (TB) (seconds) occurred. End program!\n",
      "2024/02/22 05:16:24 PM, INFO, mealpy.evolutionary_based.GA.BaseGA: Solving single objective optimization problem.\n",
      "2024/02/22 05:16:24 PM, INFO, mealpy.evolutionary_based.GA.BaseGA: >>>Problem: Rosenbrock function, Epoch: 1, Current best: 550.0417659094439, Global best: 550.0417659094439, Runtime: 0.01409 seconds\n",
      "2024/02/22 05:16:24 PM, WARNING, mealpy.evolutionary_based.GA.BaseGA: Stopping criterion with maximum running time/time bound (TB) (seconds) occurred. End program!\n",
      "2024/02/22 05:16:24 PM, INFO, mealpy.evolutionary_based.GA.BaseGA: Solving single objective optimization problem.\n",
      "2024/02/22 05:16:24 PM, INFO, mealpy.evolutionary_based.GA.BaseGA: >>>Problem: Rosenbrock function, Epoch: 1, Current best: 1491.8687940477876, Global best: 1491.8687940477876, Runtime: 0.01487 seconds\n",
      "2024/02/22 05:16:24 PM, WARNING, mealpy.evolutionary_based.GA.BaseGA: Stopping criterion with maximum running time/time bound (TB) (seconds) occurred. End program!\n",
      "2024/02/22 05:16:24 PM, INFO, mealpy.evolutionary_based.GA.BaseGA: Solving single objective optimization problem.\n",
      "2024/02/22 05:16:25 PM, INFO, mealpy.evolutionary_based.GA.BaseGA: >>>Problem: Rosenbrock function, Epoch: 1, Current best: 1580.8381087295265, Global best: 1580.8381087295265, Runtime: 0.01559 seconds\n",
      "2024/02/22 05:16:25 PM, WARNING, mealpy.evolutionary_based.GA.BaseGA: Stopping criterion with maximum running time/time bound (TB) (seconds) occurred. End program!\n",
      "2024/02/22 05:16:25 PM, INFO, mealpy.evolutionary_based.GA.BaseGA: Solving single objective optimization problem.\n",
      "2024/02/22 05:16:25 PM, INFO, mealpy.evolutionary_based.GA.BaseGA: >>>Problem: Rosenbrock function, Epoch: 1, Current best: 8337.994074963925, Global best: 8337.994074963925, Runtime: 0.01985 seconds\n",
      "2024/02/22 05:16:25 PM, WARNING, mealpy.evolutionary_based.GA.BaseGA: Stopping criterion with maximum running time/time bound (TB) (seconds) occurred. End program!\n",
      "2024/02/22 05:16:25 PM, INFO, mealpy.evolutionary_based.GA.BaseGA: Solving single objective optimization problem.\n",
      "2024/02/22 05:16:25 PM, INFO, mealpy.evolutionary_based.GA.BaseGA: >>>Problem: Rosenbrock function, Epoch: 1, Current best: 2295.872860776221, Global best: 2295.872860776221, Runtime: 0.01564 seconds\n",
      "2024/02/22 05:16:25 PM, WARNING, mealpy.evolutionary_based.GA.BaseGA: Stopping criterion with maximum running time/time bound (TB) (seconds) occurred. End program!\n",
      "2024/02/22 05:16:25 PM, INFO, mealpy.evolutionary_based.GA.BaseGA: Solving single objective optimization problem.\n",
      "2024/02/22 05:16:25 PM, INFO, mealpy.evolutionary_based.GA.BaseGA: >>>Problem: Rosenbrock function, Epoch: 1, Current best: 1903.3317439243488, Global best: 1903.3317439243488, Runtime: 0.01296 seconds\n",
      "2024/02/22 05:16:25 PM, WARNING, mealpy.evolutionary_based.GA.BaseGA: Stopping criterion with maximum running time/time bound (TB) (seconds) occurred. End program!\n",
      "2024/02/22 05:16:25 PM, INFO, mealpy.evolutionary_based.GA.BaseGA: Solving single objective optimization problem.\n",
      "2024/02/22 05:16:25 PM, INFO, mealpy.evolutionary_based.GA.BaseGA: >>>Problem: Rosenbrock function, Epoch: 1, Current best: 2501.4994903456136, Global best: 2501.4994903456136, Runtime: 0.01416 seconds\n"
     ]
    },
    {
     "name": "stdout",
     "output_type": "stream",
     "text": [
      "Algorithm: BaseGA, with params: {'epoch': 100, 'pop_size': 100, 'pc': 0.7, 'pm': 0.05}, trial: 4, best fitness: 710.789709712648\n",
      "Algorithm: BaseGA, with params: {'epoch': 100, 'pop_size': 100, 'pc': 0.7, 'pm': 0.05}, trial: 5, best fitness: 983.1418150506615\n",
      "Algorithm: BaseGA, with params: {'epoch': 100, 'pop_size': 100, 'pc': 0.7, 'pm': 0.1}, trial: 1, best fitness: 550.0417659094439\n",
      "Algorithm: BaseGA, with params: {'epoch': 100, 'pop_size': 100, 'pc': 0.7, 'pm': 0.1}, trial: 2, best fitness: 1491.8687940477876\n",
      "Algorithm: BaseGA, with params: {'epoch': 100, 'pop_size': 100, 'pc': 0.7, 'pm': 0.1}, trial: 3, best fitness: 1580.8381087295265\n",
      "Algorithm: BaseGA, with params: {'epoch': 100, 'pop_size': 100, 'pc': 0.7, 'pm': 0.1}, trial: 4, best fitness: 8337.994074963925\n",
      "Algorithm: BaseGA, with params: {'epoch': 100, 'pop_size': 100, 'pc': 0.7, 'pm': 0.1}, trial: 5, best fitness: 2295.872860776221\n",
      "Algorithm: BaseGA, with params: {'epoch': 100, 'pop_size': 100, 'pc': 0.7, 'pm': 0.2}, trial: 1, best fitness: 1903.3317439243488\n"
     ]
    },
    {
     "name": "stderr",
     "output_type": "stream",
     "text": [
      "2024/02/22 05:16:25 PM, WARNING, mealpy.evolutionary_based.GA.BaseGA: Stopping criterion with maximum running time/time bound (TB) (seconds) occurred. End program!\n",
      "2024/02/22 05:16:25 PM, INFO, mealpy.evolutionary_based.GA.BaseGA: Solving single objective optimization problem.\n",
      "2024/02/22 05:16:25 PM, INFO, mealpy.evolutionary_based.GA.BaseGA: >>>Problem: Rosenbrock function, Epoch: 1, Current best: 1760.925807706447, Global best: 1760.925807706447, Runtime: 0.01538 seconds\n",
      "2024/02/22 05:16:25 PM, WARNING, mealpy.evolutionary_based.GA.BaseGA: Stopping criterion with maximum running time/time bound (TB) (seconds) occurred. End program!\n",
      "2024/02/22 05:16:25 PM, INFO, mealpy.evolutionary_based.GA.BaseGA: Solving single objective optimization problem.\n",
      "2024/02/22 05:16:25 PM, INFO, mealpy.evolutionary_based.GA.BaseGA: >>>Problem: Rosenbrock function, Epoch: 1, Current best: 1579.238811078454, Global best: 1579.238811078454, Runtime: 0.01356 seconds\n",
      "2024/02/22 05:16:25 PM, WARNING, mealpy.evolutionary_based.GA.BaseGA: Stopping criterion with maximum running time/time bound (TB) (seconds) occurred. End program!\n",
      "2024/02/22 05:16:25 PM, INFO, mealpy.evolutionary_based.GA.BaseGA: Solving single objective optimization problem.\n",
      "2024/02/22 05:16:25 PM, INFO, mealpy.evolutionary_based.GA.BaseGA: >>>Problem: Rosenbrock function, Epoch: 1, Current best: 656.2035909521031, Global best: 656.2035909521031, Runtime: 0.01559 seconds\n",
      "2024/02/22 05:16:25 PM, WARNING, mealpy.evolutionary_based.GA.BaseGA: Stopping criterion with maximum running time/time bound (TB) (seconds) occurred. End program!\n",
      "2024/02/22 05:16:25 PM, INFO, mealpy.evolutionary_based.GA.BaseGA: Solving single objective optimization problem.\n",
      "2024/02/22 05:16:25 PM, INFO, mealpy.evolutionary_based.GA.BaseGA: >>>Problem: Rosenbrock function, Epoch: 1, Current best: 109.80744438629895, Global best: 109.80744438629895, Runtime: 0.05516 seconds\n",
      "2024/02/22 05:16:25 PM, WARNING, mealpy.evolutionary_based.GA.BaseGA: Stopping criterion with maximum running time/time bound (TB) (seconds) occurred. End program!\n",
      "2024/02/22 05:16:25 PM, INFO, mealpy.evolutionary_based.GA.BaseGA: Solving single objective optimization problem.\n"
     ]
    },
    {
     "name": "stdout",
     "output_type": "stream",
     "text": [
      "Algorithm: BaseGA, with params: {'epoch': 100, 'pop_size': 100, 'pc': 0.7, 'pm': 0.2}, trial: 2, best fitness: 2501.4994903456136\n",
      "Algorithm: BaseGA, with params: {'epoch': 100, 'pop_size': 100, 'pc': 0.7, 'pm': 0.2}, trial: 3, best fitness: 1760.925807706447\n",
      "Algorithm: BaseGA, with params: {'epoch': 100, 'pop_size': 100, 'pc': 0.7, 'pm': 0.2}, trial: 4, best fitness: 1579.238811078454\n",
      "Algorithm: BaseGA, with params: {'epoch': 100, 'pop_size': 100, 'pc': 0.7, 'pm': 0.2}, trial: 5, best fitness: 656.2035909521031\n",
      "Algorithm: BaseGA, with params: {'epoch': 100, 'pop_size': 300, 'pc': 0.95, 'pm': 0.01}, trial: 1, best fitness: 109.80744438629895\n"
     ]
    },
    {
     "name": "stderr",
     "output_type": "stream",
     "text": [
      "2024/02/22 05:16:25 PM, INFO, mealpy.evolutionary_based.GA.BaseGA: >>>Problem: Rosenbrock function, Epoch: 1, Current best: 420.0903655060657, Global best: 420.0903655060657, Runtime: 0.05746 seconds\n",
      "2024/02/22 05:16:25 PM, WARNING, mealpy.evolutionary_based.GA.BaseGA: Stopping criterion with maximum running time/time bound (TB) (seconds) occurred. End program!\n",
      "2024/02/22 05:16:25 PM, INFO, mealpy.evolutionary_based.GA.BaseGA: Solving single objective optimization problem.\n",
      "2024/02/22 05:16:25 PM, INFO, mealpy.evolutionary_based.GA.BaseGA: >>>Problem: Rosenbrock function, Epoch: 1, Current best: 279.21084126557605, Global best: 279.21084126557605, Runtime: 0.05325 seconds\n",
      "2024/02/22 05:16:25 PM, WARNING, mealpy.evolutionary_based.GA.BaseGA: Stopping criterion with maximum running time/time bound (TB) (seconds) occurred. End program!\n",
      "2024/02/22 05:16:25 PM, INFO, mealpy.evolutionary_based.GA.BaseGA: Solving single objective optimization problem.\n",
      "2024/02/22 05:16:25 PM, INFO, mealpy.evolutionary_based.GA.BaseGA: >>>Problem: Rosenbrock function, Epoch: 1, Current best: 213.41270793783946, Global best: 213.41270793783946, Runtime: 0.05147 seconds\n",
      "2024/02/22 05:16:25 PM, WARNING, mealpy.evolutionary_based.GA.BaseGA: Stopping criterion with maximum running time/time bound (TB) (seconds) occurred. End program!\n",
      "2024/02/22 05:16:25 PM, INFO, mealpy.evolutionary_based.GA.BaseGA: Solving single objective optimization problem.\n",
      "2024/02/22 05:16:25 PM, INFO, mealpy.evolutionary_based.GA.BaseGA: >>>Problem: Rosenbrock function, Epoch: 1, Current best: 436.081632808891, Global best: 436.081632808891, Runtime: 0.05029 seconds\n",
      "2024/02/22 05:16:25 PM, WARNING, mealpy.evolutionary_based.GA.BaseGA: Stopping criterion with maximum running time/time bound (TB) (seconds) occurred. End program!\n"
     ]
    },
    {
     "name": "stdout",
     "output_type": "stream",
     "text": [
      "Algorithm: BaseGA, with params: {'epoch': 100, 'pop_size': 300, 'pc': 0.95, 'pm': 0.01}, trial: 2, best fitness: 420.0903655060657\n",
      "Algorithm: BaseGA, with params: {'epoch': 100, 'pop_size': 300, 'pc': 0.95, 'pm': 0.01}, trial: 3, best fitness: 279.21084126557605\n",
      "Algorithm: BaseGA, with params: {'epoch': 100, 'pop_size': 300, 'pc': 0.95, 'pm': 0.01}, trial: 4, best fitness: 213.41270793783946\n"
     ]
    },
    {
     "name": "stderr",
     "output_type": "stream",
     "text": [
      "2024/02/22 05:16:25 PM, INFO, mealpy.evolutionary_based.GA.BaseGA: Solving single objective optimization problem.\n",
      "2024/02/22 05:16:25 PM, INFO, mealpy.evolutionary_based.GA.BaseGA: >>>Problem: Rosenbrock function, Epoch: 1, Current best: 493.82168755251604, Global best: 493.82168755251604, Runtime: 0.05083 seconds\n",
      "2024/02/22 05:16:25 PM, WARNING, mealpy.evolutionary_based.GA.BaseGA: Stopping criterion with maximum running time/time bound (TB) (seconds) occurred. End program!\n",
      "2024/02/22 05:16:25 PM, INFO, mealpy.evolutionary_based.GA.BaseGA: Solving single objective optimization problem.\n",
      "2024/02/22 05:16:25 PM, INFO, mealpy.evolutionary_based.GA.BaseGA: >>>Problem: Rosenbrock function, Epoch: 1, Current best: 66.98292402390932, Global best: 66.98292402390932, Runtime: 0.05214 seconds\n",
      "2024/02/22 05:16:25 PM, WARNING, mealpy.evolutionary_based.GA.BaseGA: Stopping criterion with maximum running time/time bound (TB) (seconds) occurred. End program!\n",
      "2024/02/22 05:16:25 PM, INFO, mealpy.evolutionary_based.GA.BaseGA: Solving single objective optimization problem.\n"
     ]
    },
    {
     "name": "stdout",
     "output_type": "stream",
     "text": [
      "Algorithm: BaseGA, with params: {'epoch': 100, 'pop_size': 300, 'pc': 0.95, 'pm': 0.01}, trial: 5, best fitness: 436.081632808891\n",
      "Algorithm: BaseGA, with params: {'epoch': 100, 'pop_size': 300, 'pc': 0.95, 'pm': 0.05}, trial: 1, best fitness: 493.82168755251604\n",
      "Algorithm: BaseGA, with params: {'epoch': 100, 'pop_size': 300, 'pc': 0.95, 'pm': 0.05}, trial: 2, best fitness: 66.98292402390932\n"
     ]
    },
    {
     "name": "stderr",
     "output_type": "stream",
     "text": [
      "2024/02/22 05:16:25 PM, INFO, mealpy.evolutionary_based.GA.BaseGA: >>>Problem: Rosenbrock function, Epoch: 1, Current best: 610.2970086509107, Global best: 610.2970086509107, Runtime: 0.05501 seconds\n",
      "2024/02/22 05:16:25 PM, WARNING, mealpy.evolutionary_based.GA.BaseGA: Stopping criterion with maximum running time/time bound (TB) (seconds) occurred. End program!\n",
      "2024/02/22 05:16:25 PM, INFO, mealpy.evolutionary_based.GA.BaseGA: Solving single objective optimization problem.\n",
      "2024/02/22 05:16:25 PM, INFO, mealpy.evolutionary_based.GA.BaseGA: >>>Problem: Rosenbrock function, Epoch: 1, Current best: 487.62836988855696, Global best: 487.62836988855696, Runtime: 0.05218 seconds\n",
      "2024/02/22 05:16:25 PM, WARNING, mealpy.evolutionary_based.GA.BaseGA: Stopping criterion with maximum running time/time bound (TB) (seconds) occurred. End program!\n",
      "2024/02/22 05:16:25 PM, INFO, mealpy.evolutionary_based.GA.BaseGA: Solving single objective optimization problem.\n",
      "2024/02/22 05:16:25 PM, INFO, mealpy.evolutionary_based.GA.BaseGA: >>>Problem: Rosenbrock function, Epoch: 1, Current best: 1062.526587208612, Global best: 1062.526587208612, Runtime: 0.05059 seconds\n",
      "2024/02/22 05:16:25 PM, WARNING, mealpy.evolutionary_based.GA.BaseGA: Stopping criterion with maximum running time/time bound (TB) (seconds) occurred. End program!\n",
      "2024/02/22 05:16:25 PM, INFO, mealpy.evolutionary_based.GA.BaseGA: Solving single objective optimization problem.\n"
     ]
    },
    {
     "name": "stdout",
     "output_type": "stream",
     "text": [
      "Algorithm: BaseGA, with params: {'epoch': 100, 'pop_size': 300, 'pc': 0.95, 'pm': 0.05}, trial: 3, best fitness: 610.2970086509107\n",
      "Algorithm: BaseGA, with params: {'epoch': 100, 'pop_size': 300, 'pc': 0.95, 'pm': 0.05}, trial: 4, best fitness: 487.62836988855696\n",
      "Algorithm: BaseGA, with params: {'epoch': 100, 'pop_size': 300, 'pc': 0.95, 'pm': 0.05}, trial: 5, best fitness: 1062.526587208612\n"
     ]
    },
    {
     "name": "stderr",
     "output_type": "stream",
     "text": [
      "2024/02/22 05:16:25 PM, INFO, mealpy.evolutionary_based.GA.BaseGA: >>>Problem: Rosenbrock function, Epoch: 1, Current best: 309.33925994087076, Global best: 309.33925994087076, Runtime: 0.05341 seconds\n",
      "2024/02/22 05:16:25 PM, WARNING, mealpy.evolutionary_based.GA.BaseGA: Stopping criterion with maximum running time/time bound (TB) (seconds) occurred. End program!\n",
      "2024/02/22 05:16:25 PM, INFO, mealpy.evolutionary_based.GA.BaseGA: Solving single objective optimization problem.\n",
      "2024/02/22 05:16:26 PM, INFO, mealpy.evolutionary_based.GA.BaseGA: >>>Problem: Rosenbrock function, Epoch: 1, Current best: 73.28450470778223, Global best: 73.28450470778223, Runtime: 0.05346 seconds\n",
      "2024/02/22 05:16:26 PM, WARNING, mealpy.evolutionary_based.GA.BaseGA: Stopping criterion with maximum running time/time bound (TB) (seconds) occurred. End program!\n",
      "2024/02/22 05:16:26 PM, INFO, mealpy.evolutionary_based.GA.BaseGA: Solving single objective optimization problem.\n",
      "2024/02/22 05:16:26 PM, INFO, mealpy.evolutionary_based.GA.BaseGA: >>>Problem: Rosenbrock function, Epoch: 1, Current best: 158.95311738124508, Global best: 158.95311738124508, Runtime: 0.05462 seconds\n",
      "2024/02/22 05:16:26 PM, WARNING, mealpy.evolutionary_based.GA.BaseGA: Stopping criterion with maximum running time/time bound (TB) (seconds) occurred. End program!\n",
      "2024/02/22 05:16:26 PM, INFO, mealpy.evolutionary_based.GA.BaseGA: Solving single objective optimization problem.\n"
     ]
    },
    {
     "name": "stdout",
     "output_type": "stream",
     "text": [
      "Algorithm: BaseGA, with params: {'epoch': 100, 'pop_size': 300, 'pc': 0.95, 'pm': 0.1}, trial: 1, best fitness: 309.33925994087076\n",
      "Algorithm: BaseGA, with params: {'epoch': 100, 'pop_size': 300, 'pc': 0.95, 'pm': 0.1}, trial: 2, best fitness: 73.28450470778223\n",
      "Algorithm: BaseGA, with params: {'epoch': 100, 'pop_size': 300, 'pc': 0.95, 'pm': 0.1}, trial: 3, best fitness: 158.95311738124508\n"
     ]
    },
    {
     "name": "stderr",
     "output_type": "stream",
     "text": [
      "2024/02/22 05:16:26 PM, INFO, mealpy.evolutionary_based.GA.BaseGA: >>>Problem: Rosenbrock function, Epoch: 1, Current best: 160.83867615794372, Global best: 160.83867615794372, Runtime: 0.05955 seconds\n",
      "2024/02/22 05:16:26 PM, WARNING, mealpy.evolutionary_based.GA.BaseGA: Stopping criterion with maximum running time/time bound (TB) (seconds) occurred. End program!\n",
      "2024/02/22 05:16:26 PM, INFO, mealpy.evolutionary_based.GA.BaseGA: Solving single objective optimization problem.\n",
      "2024/02/22 05:16:26 PM, INFO, mealpy.evolutionary_based.GA.BaseGA: >>>Problem: Rosenbrock function, Epoch: 1, Current best: 220.256636961273, Global best: 220.256636961273, Runtime: 0.05370 seconds\n",
      "2024/02/22 05:16:26 PM, WARNING, mealpy.evolutionary_based.GA.BaseGA: Stopping criterion with maximum running time/time bound (TB) (seconds) occurred. End program!\n",
      "2024/02/22 05:16:26 PM, INFO, mealpy.evolutionary_based.GA.BaseGA: Solving single objective optimization problem.\n",
      "2024/02/22 05:16:26 PM, INFO, mealpy.evolutionary_based.GA.BaseGA: >>>Problem: Rosenbrock function, Epoch: 1, Current best: 214.85453019048504, Global best: 214.85453019048504, Runtime: 0.05170 seconds\n",
      "2024/02/22 05:16:26 PM, WARNING, mealpy.evolutionary_based.GA.BaseGA: Stopping criterion with maximum running time/time bound (TB) (seconds) occurred. End program!\n",
      "2024/02/22 05:16:26 PM, INFO, mealpy.evolutionary_based.GA.BaseGA: Solving single objective optimization problem.\n"
     ]
    },
    {
     "name": "stdout",
     "output_type": "stream",
     "text": [
      "Algorithm: BaseGA, with params: {'epoch': 100, 'pop_size': 300, 'pc': 0.95, 'pm': 0.1}, trial: 4, best fitness: 160.83867615794372\n",
      "Algorithm: BaseGA, with params: {'epoch': 100, 'pop_size': 300, 'pc': 0.95, 'pm': 0.1}, trial: 5, best fitness: 220.256636961273\n",
      "Algorithm: BaseGA, with params: {'epoch': 100, 'pop_size': 300, 'pc': 0.95, 'pm': 0.2}, trial: 1, best fitness: 214.85453019048504\n"
     ]
    },
    {
     "name": "stderr",
     "output_type": "stream",
     "text": [
      "2024/02/22 05:16:26 PM, INFO, mealpy.evolutionary_based.GA.BaseGA: >>>Problem: Rosenbrock function, Epoch: 1, Current best: 1950.749392542014, Global best: 1950.749392542014, Runtime: 0.05276 seconds\n",
      "2024/02/22 05:16:26 PM, WARNING, mealpy.evolutionary_based.GA.BaseGA: Stopping criterion with maximum running time/time bound (TB) (seconds) occurred. End program!\n",
      "2024/02/22 05:16:26 PM, INFO, mealpy.evolutionary_based.GA.BaseGA: Solving single objective optimization problem.\n",
      "2024/02/22 05:16:26 PM, INFO, mealpy.evolutionary_based.GA.BaseGA: >>>Problem: Rosenbrock function, Epoch: 1, Current best: 467.3910322955489, Global best: 467.3910322955489, Runtime: 0.05148 seconds\n",
      "2024/02/22 05:16:26 PM, WARNING, mealpy.evolutionary_based.GA.BaseGA: Stopping criterion with maximum running time/time bound (TB) (seconds) occurred. End program!\n",
      "2024/02/22 05:16:26 PM, INFO, mealpy.evolutionary_based.GA.BaseGA: Solving single objective optimization problem.\n",
      "2024/02/22 05:16:26 PM, INFO, mealpy.evolutionary_based.GA.BaseGA: >>>Problem: Rosenbrock function, Epoch: 1, Current best: 414.48138132850147, Global best: 414.48138132850147, Runtime: 0.05093 seconds\n",
      "2024/02/22 05:16:26 PM, WARNING, mealpy.evolutionary_based.GA.BaseGA: Stopping criterion with maximum running time/time bound (TB) (seconds) occurred. End program!\n",
      "2024/02/22 05:16:26 PM, INFO, mealpy.evolutionary_based.GA.BaseGA: Solving single objective optimization problem.\n",
      "2024/02/22 05:16:26 PM, INFO, mealpy.evolutionary_based.GA.BaseGA: >>>Problem: Rosenbrock function, Epoch: 1, Current best: 372.2085514613127, Global best: 372.2085514613127, Runtime: 0.05017 seconds\n",
      "2024/02/22 05:16:26 PM, WARNING, mealpy.evolutionary_based.GA.BaseGA: Stopping criterion with maximum running time/time bound (TB) (seconds) occurred. End program!\n"
     ]
    },
    {
     "name": "stdout",
     "output_type": "stream",
     "text": [
      "Algorithm: BaseGA, with params: {'epoch': 100, 'pop_size': 300, 'pc': 0.95, 'pm': 0.2}, trial: 2, best fitness: 1950.749392542014\n",
      "Algorithm: BaseGA, with params: {'epoch': 100, 'pop_size': 300, 'pc': 0.95, 'pm': 0.2}, trial: 3, best fitness: 467.3910322955489\n",
      "Algorithm: BaseGA, with params: {'epoch': 100, 'pop_size': 300, 'pc': 0.95, 'pm': 0.2}, trial: 4, best fitness: 414.48138132850147\n"
     ]
    },
    {
     "name": "stderr",
     "output_type": "stream",
     "text": [
      "2024/02/22 05:16:26 PM, INFO, mealpy.evolutionary_based.GA.BaseGA: Solving single objective optimization problem.\n",
      "2024/02/22 05:16:26 PM, INFO, mealpy.evolutionary_based.GA.BaseGA: >>>Problem: Rosenbrock function, Epoch: 1, Current best: 198.19749714659395, Global best: 198.19749714659395, Runtime: 0.05103 seconds\n",
      "2024/02/22 05:16:26 PM, WARNING, mealpy.evolutionary_based.GA.BaseGA: Stopping criterion with maximum running time/time bound (TB) (seconds) occurred. End program!\n",
      "2024/02/22 05:16:26 PM, INFO, mealpy.evolutionary_based.GA.BaseGA: Solving single objective optimization problem.\n",
      "2024/02/22 05:16:26 PM, INFO, mealpy.evolutionary_based.GA.BaseGA: >>>Problem: Rosenbrock function, Epoch: 1, Current best: 252.03668139643386, Global best: 252.03668139643386, Runtime: 0.05036 seconds\n",
      "2024/02/22 05:16:26 PM, WARNING, mealpy.evolutionary_based.GA.BaseGA: Stopping criterion with maximum running time/time bound (TB) (seconds) occurred. End program!\n",
      "2024/02/22 05:16:26 PM, INFO, mealpy.evolutionary_based.GA.BaseGA: Solving single objective optimization problem.\n",
      "2024/02/22 05:16:26 PM, INFO, mealpy.evolutionary_based.GA.BaseGA: >>>Problem: Rosenbrock function, Epoch: 1, Current best: 505.74740718330446, Global best: 505.74740718330446, Runtime: 0.05204 seconds\n",
      "2024/02/22 05:16:26 PM, WARNING, mealpy.evolutionary_based.GA.BaseGA: Stopping criterion with maximum running time/time bound (TB) (seconds) occurred. End program!\n"
     ]
    },
    {
     "name": "stdout",
     "output_type": "stream",
     "text": [
      "Algorithm: BaseGA, with params: {'epoch': 100, 'pop_size': 300, 'pc': 0.95, 'pm': 0.2}, trial: 5, best fitness: 372.2085514613127\n",
      "Algorithm: BaseGA, with params: {'epoch': 100, 'pop_size': 300, 'pc': 0.9, 'pm': 0.01}, trial: 1, best fitness: 198.19749714659395\n",
      "Algorithm: BaseGA, with params: {'epoch': 100, 'pop_size': 300, 'pc': 0.9, 'pm': 0.01}, trial: 2, best fitness: 252.03668139643386\n"
     ]
    },
    {
     "name": "stderr",
     "output_type": "stream",
     "text": [
      "2024/02/22 05:16:26 PM, INFO, mealpy.evolutionary_based.GA.BaseGA: Solving single objective optimization problem.\n",
      "2024/02/22 05:16:26 PM, INFO, mealpy.evolutionary_based.GA.BaseGA: >>>Problem: Rosenbrock function, Epoch: 1, Current best: 43.540098464544265, Global best: 43.540098464544265, Runtime: 0.05020 seconds\n",
      "2024/02/22 05:16:26 PM, WARNING, mealpy.evolutionary_based.GA.BaseGA: Stopping criterion with maximum running time/time bound (TB) (seconds) occurred. End program!\n",
      "2024/02/22 05:16:26 PM, INFO, mealpy.evolutionary_based.GA.BaseGA: Solving single objective optimization problem.\n",
      "2024/02/22 05:16:26 PM, INFO, mealpy.evolutionary_based.GA.BaseGA: >>>Problem: Rosenbrock function, Epoch: 1, Current best: 745.7039594113542, Global best: 745.7039594113542, Runtime: 0.04976 seconds\n",
      "2024/02/22 05:16:26 PM, WARNING, mealpy.evolutionary_based.GA.BaseGA: Stopping criterion with maximum running time/time bound (TB) (seconds) occurred. End program!\n",
      "2024/02/22 05:16:26 PM, INFO, mealpy.evolutionary_based.GA.BaseGA: Solving single objective optimization problem.\n"
     ]
    },
    {
     "name": "stdout",
     "output_type": "stream",
     "text": [
      "Algorithm: BaseGA, with params: {'epoch': 100, 'pop_size': 300, 'pc': 0.9, 'pm': 0.01}, trial: 3, best fitness: 505.74740718330446\n",
      "Algorithm: BaseGA, with params: {'epoch': 100, 'pop_size': 300, 'pc': 0.9, 'pm': 0.01}, trial: 4, best fitness: 43.540098464544265\n",
      "Algorithm: BaseGA, with params: {'epoch': 100, 'pop_size': 300, 'pc': 0.9, 'pm': 0.01}, trial: 5, best fitness: 745.7039594113542\n"
     ]
    },
    {
     "name": "stderr",
     "output_type": "stream",
     "text": [
      "2024/02/22 05:16:27 PM, INFO, mealpy.evolutionary_based.GA.BaseGA: >>>Problem: Rosenbrock function, Epoch: 1, Current best: 674.0843934908789, Global best: 674.0843934908789, Runtime: 0.05473 seconds\n",
      "2024/02/22 05:16:27 PM, WARNING, mealpy.evolutionary_based.GA.BaseGA: Stopping criterion with maximum running time/time bound (TB) (seconds) occurred. End program!\n",
      "2024/02/22 05:16:27 PM, INFO, mealpy.evolutionary_based.GA.BaseGA: Solving single objective optimization problem.\n",
      "2024/02/22 05:16:27 PM, INFO, mealpy.evolutionary_based.GA.BaseGA: >>>Problem: Rosenbrock function, Epoch: 1, Current best: 430.267554242049, Global best: 430.267554242049, Runtime: 0.05450 seconds\n",
      "2024/02/22 05:16:27 PM, WARNING, mealpy.evolutionary_based.GA.BaseGA: Stopping criterion with maximum running time/time bound (TB) (seconds) occurred. End program!\n",
      "2024/02/22 05:16:27 PM, INFO, mealpy.evolutionary_based.GA.BaseGA: Solving single objective optimization problem.\n",
      "2024/02/22 05:16:27 PM, INFO, mealpy.evolutionary_based.GA.BaseGA: >>>Problem: Rosenbrock function, Epoch: 1, Current best: 113.02359285045767, Global best: 113.02359285045767, Runtime: 0.05253 seconds\n",
      "2024/02/22 05:16:27 PM, WARNING, mealpy.evolutionary_based.GA.BaseGA: Stopping criterion with maximum running time/time bound (TB) (seconds) occurred. End program!\n",
      "2024/02/22 05:16:27 PM, INFO, mealpy.evolutionary_based.GA.BaseGA: Solving single objective optimization problem.\n"
     ]
    },
    {
     "name": "stdout",
     "output_type": "stream",
     "text": [
      "Algorithm: BaseGA, with params: {'epoch': 100, 'pop_size': 300, 'pc': 0.9, 'pm': 0.05}, trial: 1, best fitness: 674.0843934908789\n",
      "Algorithm: BaseGA, with params: {'epoch': 100, 'pop_size': 300, 'pc': 0.9, 'pm': 0.05}, trial: 2, best fitness: 430.267554242049\n",
      "Algorithm: BaseGA, with params: {'epoch': 100, 'pop_size': 300, 'pc': 0.9, 'pm': 0.05}, trial: 3, best fitness: 113.02359285045767\n"
     ]
    },
    {
     "name": "stderr",
     "output_type": "stream",
     "text": [
      "2024/02/22 05:16:27 PM, INFO, mealpy.evolutionary_based.GA.BaseGA: >>>Problem: Rosenbrock function, Epoch: 1, Current best: 657.3637679353706, Global best: 657.3637679353706, Runtime: 0.05122 seconds\n",
      "2024/02/22 05:16:27 PM, WARNING, mealpy.evolutionary_based.GA.BaseGA: Stopping criterion with maximum running time/time bound (TB) (seconds) occurred. End program!\n",
      "2024/02/22 05:16:27 PM, INFO, mealpy.evolutionary_based.GA.BaseGA: Solving single objective optimization problem.\n",
      "2024/02/22 05:16:27 PM, INFO, mealpy.evolutionary_based.GA.BaseGA: >>>Problem: Rosenbrock function, Epoch: 1, Current best: 733.1221620890815, Global best: 733.1221620890815, Runtime: 0.05224 seconds\n",
      "2024/02/22 05:16:27 PM, WARNING, mealpy.evolutionary_based.GA.BaseGA: Stopping criterion with maximum running time/time bound (TB) (seconds) occurred. End program!\n",
      "2024/02/22 05:16:27 PM, INFO, mealpy.evolutionary_based.GA.BaseGA: Solving single objective optimization problem.\n",
      "2024/02/22 05:16:27 PM, INFO, mealpy.evolutionary_based.GA.BaseGA: >>>Problem: Rosenbrock function, Epoch: 1, Current best: 95.83746391929611, Global best: 95.83746391929611, Runtime: 0.04985 seconds\n",
      "2024/02/22 05:16:27 PM, WARNING, mealpy.evolutionary_based.GA.BaseGA: Stopping criterion with maximum running time/time bound (TB) (seconds) occurred. End program!\n",
      "2024/02/22 05:16:27 PM, INFO, mealpy.evolutionary_based.GA.BaseGA: Solving single objective optimization problem.\n"
     ]
    },
    {
     "name": "stdout",
     "output_type": "stream",
     "text": [
      "Algorithm: BaseGA, with params: {'epoch': 100, 'pop_size': 300, 'pc': 0.9, 'pm': 0.05}, trial: 4, best fitness: 657.3637679353706\n",
      "Algorithm: BaseGA, with params: {'epoch': 100, 'pop_size': 300, 'pc': 0.9, 'pm': 0.05}, trial: 5, best fitness: 733.1221620890815\n",
      "Algorithm: BaseGA, with params: {'epoch': 100, 'pop_size': 300, 'pc': 0.9, 'pm': 0.1}, trial: 1, best fitness: 95.83746391929611\n"
     ]
    },
    {
     "name": "stderr",
     "output_type": "stream",
     "text": [
      "2024/02/22 05:16:27 PM, INFO, mealpy.evolutionary_based.GA.BaseGA: >>>Problem: Rosenbrock function, Epoch: 1, Current best: 361.84409168505084, Global best: 361.84409168505084, Runtime: 0.05172 seconds\n",
      "2024/02/22 05:16:27 PM, WARNING, mealpy.evolutionary_based.GA.BaseGA: Stopping criterion with maximum running time/time bound (TB) (seconds) occurred. End program!\n",
      "2024/02/22 05:16:27 PM, INFO, mealpy.evolutionary_based.GA.BaseGA: Solving single objective optimization problem.\n",
      "2024/02/22 05:16:27 PM, INFO, mealpy.evolutionary_based.GA.BaseGA: >>>Problem: Rosenbrock function, Epoch: 1, Current best: 681.0115124785386, Global best: 681.0115124785386, Runtime: 0.05176 seconds\n",
      "2024/02/22 05:16:27 PM, WARNING, mealpy.evolutionary_based.GA.BaseGA: Stopping criterion with maximum running time/time bound (TB) (seconds) occurred. End program!\n",
      "2024/02/22 05:16:27 PM, INFO, mealpy.evolutionary_based.GA.BaseGA: Solving single objective optimization problem.\n",
      "2024/02/22 05:16:27 PM, INFO, mealpy.evolutionary_based.GA.BaseGA: >>>Problem: Rosenbrock function, Epoch: 1, Current best: 459.0211120522292, Global best: 459.0211120522292, Runtime: 0.05277 seconds\n",
      "2024/02/22 05:16:27 PM, WARNING, mealpy.evolutionary_based.GA.BaseGA: Stopping criterion with maximum running time/time bound (TB) (seconds) occurred. End program!\n",
      "2024/02/22 05:16:27 PM, INFO, mealpy.evolutionary_based.GA.BaseGA: Solving single objective optimization problem.\n"
     ]
    },
    {
     "name": "stdout",
     "output_type": "stream",
     "text": [
      "Algorithm: BaseGA, with params: {'epoch': 100, 'pop_size': 300, 'pc': 0.9, 'pm': 0.1}, trial: 2, best fitness: 361.84409168505084\n",
      "Algorithm: BaseGA, with params: {'epoch': 100, 'pop_size': 300, 'pc': 0.9, 'pm': 0.1}, trial: 3, best fitness: 681.0115124785386\n",
      "Algorithm: BaseGA, with params: {'epoch': 100, 'pop_size': 300, 'pc': 0.9, 'pm': 0.1}, trial: 4, best fitness: 459.0211120522292\n"
     ]
    },
    {
     "name": "stderr",
     "output_type": "stream",
     "text": [
      "2024/02/22 05:16:27 PM, INFO, mealpy.evolutionary_based.GA.BaseGA: >>>Problem: Rosenbrock function, Epoch: 1, Current best: 347.09686366543076, Global best: 347.09686366543076, Runtime: 0.05490 seconds\n",
      "2024/02/22 05:16:27 PM, WARNING, mealpy.evolutionary_based.GA.BaseGA: Stopping criterion with maximum running time/time bound (TB) (seconds) occurred. End program!\n",
      "2024/02/22 05:16:27 PM, INFO, mealpy.evolutionary_based.GA.BaseGA: Solving single objective optimization problem.\n",
      "2024/02/22 05:16:27 PM, INFO, mealpy.evolutionary_based.GA.BaseGA: >>>Problem: Rosenbrock function, Epoch: 1, Current best: 535.3311013770873, Global best: 535.3311013770873, Runtime: 0.05155 seconds\n",
      "2024/02/22 05:16:27 PM, WARNING, mealpy.evolutionary_based.GA.BaseGA: Stopping criterion with maximum running time/time bound (TB) (seconds) occurred. End program!\n",
      "2024/02/22 05:16:27 PM, INFO, mealpy.evolutionary_based.GA.BaseGA: Solving single objective optimization problem.\n",
      "2024/02/22 05:16:27 PM, INFO, mealpy.evolutionary_based.GA.BaseGA: >>>Problem: Rosenbrock function, Epoch: 1, Current best: 188.55213938697545, Global best: 188.55213938697545, Runtime: 0.05053 seconds\n",
      "2024/02/22 05:16:27 PM, WARNING, mealpy.evolutionary_based.GA.BaseGA: Stopping criterion with maximum running time/time bound (TB) (seconds) occurred. End program!\n",
      "2024/02/22 05:16:27 PM, INFO, mealpy.evolutionary_based.GA.BaseGA: Solving single objective optimization problem.\n",
      "2024/02/22 05:16:27 PM, INFO, mealpy.evolutionary_based.GA.BaseGA: >>>Problem: Rosenbrock function, Epoch: 1, Current best: 226.04687601499705, Global best: 226.04687601499705, Runtime: 0.04998 seconds\n",
      "2024/02/22 05:16:27 PM, WARNING, mealpy.evolutionary_based.GA.BaseGA: Stopping criterion with maximum running time/time bound (TB) (seconds) occurred. End program!\n"
     ]
    },
    {
     "name": "stdout",
     "output_type": "stream",
     "text": [
      "Algorithm: BaseGA, with params: {'epoch': 100, 'pop_size': 300, 'pc': 0.9, 'pm': 0.1}, trial: 5, best fitness: 347.09686366543076\n",
      "Algorithm: BaseGA, with params: {'epoch': 100, 'pop_size': 300, 'pc': 0.9, 'pm': 0.2}, trial: 1, best fitness: 535.3311013770873\n",
      "Algorithm: BaseGA, with params: {'epoch': 100, 'pop_size': 300, 'pc': 0.9, 'pm': 0.2}, trial: 2, best fitness: 188.55213938697545\n"
     ]
    },
    {
     "name": "stderr",
     "output_type": "stream",
     "text": [
      "2024/02/22 05:16:27 PM, INFO, mealpy.evolutionary_based.GA.BaseGA: Solving single objective optimization problem.\n",
      "2024/02/22 05:16:27 PM, INFO, mealpy.evolutionary_based.GA.BaseGA: >>>Problem: Rosenbrock function, Epoch: 1, Current best: 65.88866007422831, Global best: 65.88866007422831, Runtime: 0.05078 seconds\n",
      "2024/02/22 05:16:27 PM, WARNING, mealpy.evolutionary_based.GA.BaseGA: Stopping criterion with maximum running time/time bound (TB) (seconds) occurred. End program!\n",
      "2024/02/22 05:16:27 PM, INFO, mealpy.evolutionary_based.GA.BaseGA: Solving single objective optimization problem.\n",
      "2024/02/22 05:16:27 PM, INFO, mealpy.evolutionary_based.GA.BaseGA: >>>Problem: Rosenbrock function, Epoch: 1, Current best: 86.70707666845652, Global best: 86.70707666845652, Runtime: 0.04991 seconds\n",
      "2024/02/22 05:16:27 PM, WARNING, mealpy.evolutionary_based.GA.BaseGA: Stopping criterion with maximum running time/time bound (TB) (seconds) occurred. End program!\n",
      "2024/02/22 05:16:27 PM, INFO, mealpy.evolutionary_based.GA.BaseGA: Solving single objective optimization problem.\n",
      "2024/02/22 05:16:28 PM, INFO, mealpy.evolutionary_based.GA.BaseGA: >>>Problem: Rosenbrock function, Epoch: 1, Current best: 643.7892288027012, Global best: 643.7892288027012, Runtime: 0.05018 seconds\n",
      "2024/02/22 05:16:28 PM, WARNING, mealpy.evolutionary_based.GA.BaseGA: Stopping criterion with maximum running time/time bound (TB) (seconds) occurred. End program!\n"
     ]
    },
    {
     "name": "stdout",
     "output_type": "stream",
     "text": [
      "Algorithm: BaseGA, with params: {'epoch': 100, 'pop_size': 300, 'pc': 0.9, 'pm': 0.2}, trial: 3, best fitness: 226.04687601499705\n",
      "Algorithm: BaseGA, with params: {'epoch': 100, 'pop_size': 300, 'pc': 0.9, 'pm': 0.2}, trial: 4, best fitness: 65.88866007422831\n",
      "Algorithm: BaseGA, with params: {'epoch': 100, 'pop_size': 300, 'pc': 0.9, 'pm': 0.2}, trial: 5, best fitness: 86.70707666845652\n"
     ]
    },
    {
     "name": "stderr",
     "output_type": "stream",
     "text": [
      "2024/02/22 05:16:28 PM, INFO, mealpy.evolutionary_based.GA.BaseGA: Solving single objective optimization problem.\n",
      "2024/02/22 05:16:28 PM, INFO, mealpy.evolutionary_based.GA.BaseGA: >>>Problem: Rosenbrock function, Epoch: 1, Current best: 279.44581185980354, Global best: 279.44581185980354, Runtime: 0.05447 seconds\n",
      "2024/02/22 05:16:28 PM, WARNING, mealpy.evolutionary_based.GA.BaseGA: Stopping criterion with maximum running time/time bound (TB) (seconds) occurred. End program!\n",
      "2024/02/22 05:16:28 PM, INFO, mealpy.evolutionary_based.GA.BaseGA: Solving single objective optimization problem.\n",
      "2024/02/22 05:16:28 PM, INFO, mealpy.evolutionary_based.GA.BaseGA: >>>Problem: Rosenbrock function, Epoch: 1, Current best: 427.26076619271237, Global best: 427.26076619271237, Runtime: 0.05292 seconds\n",
      "2024/02/22 05:16:28 PM, WARNING, mealpy.evolutionary_based.GA.BaseGA: Stopping criterion with maximum running time/time bound (TB) (seconds) occurred. End program!\n",
      "2024/02/22 05:16:28 PM, INFO, mealpy.evolutionary_based.GA.BaseGA: Solving single objective optimization problem.\n"
     ]
    },
    {
     "name": "stdout",
     "output_type": "stream",
     "text": [
      "Algorithm: BaseGA, with params: {'epoch': 100, 'pop_size': 300, 'pc': 0.8, 'pm': 0.01}, trial: 1, best fitness: 643.7892288027012\n",
      "Algorithm: BaseGA, with params: {'epoch': 100, 'pop_size': 300, 'pc': 0.8, 'pm': 0.01}, trial: 2, best fitness: 279.44581185980354\n",
      "Algorithm: BaseGA, with params: {'epoch': 100, 'pop_size': 300, 'pc': 0.8, 'pm': 0.01}, trial: 3, best fitness: 427.26076619271237\n"
     ]
    },
    {
     "name": "stderr",
     "output_type": "stream",
     "text": [
      "2024/02/22 05:16:28 PM, INFO, mealpy.evolutionary_based.GA.BaseGA: >>>Problem: Rosenbrock function, Epoch: 1, Current best: 292.9802106014152, Global best: 292.9802106014152, Runtime: 0.05268 seconds\n",
      "2024/02/22 05:16:28 PM, WARNING, mealpy.evolutionary_based.GA.BaseGA: Stopping criterion with maximum running time/time bound (TB) (seconds) occurred. End program!\n",
      "2024/02/22 05:16:28 PM, INFO, mealpy.evolutionary_based.GA.BaseGA: Solving single objective optimization problem.\n",
      "2024/02/22 05:16:28 PM, INFO, mealpy.evolutionary_based.GA.BaseGA: >>>Problem: Rosenbrock function, Epoch: 1, Current best: 639.8900414694839, Global best: 639.8900414694839, Runtime: 0.05060 seconds\n",
      "2024/02/22 05:16:28 PM, WARNING, mealpy.evolutionary_based.GA.BaseGA: Stopping criterion with maximum running time/time bound (TB) (seconds) occurred. End program!\n",
      "2024/02/22 05:16:28 PM, INFO, mealpy.evolutionary_based.GA.BaseGA: Solving single objective optimization problem.\n",
      "2024/02/22 05:16:28 PM, INFO, mealpy.evolutionary_based.GA.BaseGA: >>>Problem: Rosenbrock function, Epoch: 1, Current best: 170.94604117471172, Global best: 170.94604117471172, Runtime: 0.04955 seconds\n",
      "2024/02/22 05:16:28 PM, WARNING, mealpy.evolutionary_based.GA.BaseGA: Stopping criterion with maximum running time/time bound (TB) (seconds) occurred. End program!\n",
      "2024/02/22 05:16:28 PM, INFO, mealpy.evolutionary_based.GA.BaseGA: Solving single objective optimization problem.\n"
     ]
    },
    {
     "name": "stdout",
     "output_type": "stream",
     "text": [
      "Algorithm: BaseGA, with params: {'epoch': 100, 'pop_size': 300, 'pc': 0.8, 'pm': 0.01}, trial: 4, best fitness: 292.9802106014152\n",
      "Algorithm: BaseGA, with params: {'epoch': 100, 'pop_size': 300, 'pc': 0.8, 'pm': 0.01}, trial: 5, best fitness: 639.8900414694839\n",
      "Algorithm: BaseGA, with params: {'epoch': 100, 'pop_size': 300, 'pc': 0.8, 'pm': 0.05}, trial: 1, best fitness: 170.94604117471172\n"
     ]
    },
    {
     "name": "stderr",
     "output_type": "stream",
     "text": [
      "2024/02/22 05:16:28 PM, INFO, mealpy.evolutionary_based.GA.BaseGA: >>>Problem: Rosenbrock function, Epoch: 1, Current best: 456.9196416655493, Global best: 456.9196416655493, Runtime: 0.05424 seconds\n",
      "2024/02/22 05:16:28 PM, WARNING, mealpy.evolutionary_based.GA.BaseGA: Stopping criterion with maximum running time/time bound (TB) (seconds) occurred. End program!\n",
      "2024/02/22 05:16:28 PM, INFO, mealpy.evolutionary_based.GA.BaseGA: Solving single objective optimization problem.\n",
      "2024/02/22 05:16:28 PM, INFO, mealpy.evolutionary_based.GA.BaseGA: >>>Problem: Rosenbrock function, Epoch: 1, Current best: 155.6187014910295, Global best: 155.6187014910295, Runtime: 0.05178 seconds\n",
      "2024/02/22 05:16:28 PM, WARNING, mealpy.evolutionary_based.GA.BaseGA: Stopping criterion with maximum running time/time bound (TB) (seconds) occurred. End program!\n",
      "2024/02/22 05:16:28 PM, INFO, mealpy.evolutionary_based.GA.BaseGA: Solving single objective optimization problem.\n",
      "2024/02/22 05:16:28 PM, INFO, mealpy.evolutionary_based.GA.BaseGA: >>>Problem: Rosenbrock function, Epoch: 1, Current best: 128.7415764340671, Global best: 128.7415764340671, Runtime: 0.05316 seconds\n",
      "2024/02/22 05:16:28 PM, WARNING, mealpy.evolutionary_based.GA.BaseGA: Stopping criterion with maximum running time/time bound (TB) (seconds) occurred. End program!\n",
      "2024/02/22 05:16:28 PM, INFO, mealpy.evolutionary_based.GA.BaseGA: Solving single objective optimization problem.\n"
     ]
    },
    {
     "name": "stdout",
     "output_type": "stream",
     "text": [
      "Algorithm: BaseGA, with params: {'epoch': 100, 'pop_size': 300, 'pc': 0.8, 'pm': 0.05}, trial: 2, best fitness: 456.9196416655493\n",
      "Algorithm: BaseGA, with params: {'epoch': 100, 'pop_size': 300, 'pc': 0.8, 'pm': 0.05}, trial: 3, best fitness: 155.6187014910295\n",
      "Algorithm: BaseGA, with params: {'epoch': 100, 'pop_size': 300, 'pc': 0.8, 'pm': 0.05}, trial: 4, best fitness: 128.7415764340671\n"
     ]
    },
    {
     "name": "stderr",
     "output_type": "stream",
     "text": [
      "2024/02/22 05:16:28 PM, INFO, mealpy.evolutionary_based.GA.BaseGA: >>>Problem: Rosenbrock function, Epoch: 1, Current best: 261.94635450323676, Global best: 261.94635450323676, Runtime: 0.05256 seconds\n",
      "2024/02/22 05:16:28 PM, WARNING, mealpy.evolutionary_based.GA.BaseGA: Stopping criterion with maximum running time/time bound (TB) (seconds) occurred. End program!\n",
      "2024/02/22 05:16:28 PM, INFO, mealpy.evolutionary_based.GA.BaseGA: Solving single objective optimization problem.\n",
      "2024/02/22 05:16:28 PM, INFO, mealpy.evolutionary_based.GA.BaseGA: >>>Problem: Rosenbrock function, Epoch: 1, Current best: 1622.6621285284568, Global best: 1622.6621285284568, Runtime: 0.04943 seconds\n",
      "2024/02/22 05:16:28 PM, WARNING, mealpy.evolutionary_based.GA.BaseGA: Stopping criterion with maximum running time/time bound (TB) (seconds) occurred. End program!\n",
      "2024/02/22 05:16:28 PM, INFO, mealpy.evolutionary_based.GA.BaseGA: Solving single objective optimization problem.\n",
      "2024/02/22 05:16:28 PM, INFO, mealpy.evolutionary_based.GA.BaseGA: >>>Problem: Rosenbrock function, Epoch: 1, Current best: 283.0097912646372, Global best: 283.0097912646372, Runtime: 0.05004 seconds\n",
      "2024/02/22 05:16:28 PM, WARNING, mealpy.evolutionary_based.GA.BaseGA: Stopping criterion with maximum running time/time bound (TB) (seconds) occurred. End program!\n",
      "2024/02/22 05:16:28 PM, INFO, mealpy.evolutionary_based.GA.BaseGA: Solving single objective optimization problem.\n"
     ]
    },
    {
     "name": "stdout",
     "output_type": "stream",
     "text": [
      "Algorithm: BaseGA, with params: {'epoch': 100, 'pop_size': 300, 'pc': 0.8, 'pm': 0.05}, trial: 5, best fitness: 261.94635450323676\n",
      "Algorithm: BaseGA, with params: {'epoch': 100, 'pop_size': 300, 'pc': 0.8, 'pm': 0.1}, trial: 1, best fitness: 1622.6621285284568\n",
      "Algorithm: BaseGA, with params: {'epoch': 100, 'pop_size': 300, 'pc': 0.8, 'pm': 0.1}, trial: 2, best fitness: 283.0097912646372\n"
     ]
    },
    {
     "name": "stderr",
     "output_type": "stream",
     "text": [
      "2024/02/22 05:16:28 PM, INFO, mealpy.evolutionary_based.GA.BaseGA: >>>Problem: Rosenbrock function, Epoch: 1, Current best: 1075.020939553667, Global best: 1075.020939553667, Runtime: 0.05136 seconds\n",
      "2024/02/22 05:16:28 PM, WARNING, mealpy.evolutionary_based.GA.BaseGA: Stopping criterion with maximum running time/time bound (TB) (seconds) occurred. End program!\n",
      "2024/02/22 05:16:28 PM, INFO, mealpy.evolutionary_based.GA.BaseGA: Solving single objective optimization problem.\n",
      "2024/02/22 05:16:28 PM, INFO, mealpy.evolutionary_based.GA.BaseGA: >>>Problem: Rosenbrock function, Epoch: 1, Current best: 777.8438357091852, Global best: 777.8438357091852, Runtime: 0.04978 seconds\n",
      "2024/02/22 05:16:28 PM, WARNING, mealpy.evolutionary_based.GA.BaseGA: Stopping criterion with maximum running time/time bound (TB) (seconds) occurred. End program!\n",
      "2024/02/22 05:16:28 PM, INFO, mealpy.evolutionary_based.GA.BaseGA: Solving single objective optimization problem.\n",
      "2024/02/22 05:16:29 PM, INFO, mealpy.evolutionary_based.GA.BaseGA: >>>Problem: Rosenbrock function, Epoch: 1, Current best: 421.22444449271376, Global best: 421.22444449271376, Runtime: 0.05211 seconds\n",
      "2024/02/22 05:16:29 PM, WARNING, mealpy.evolutionary_based.GA.BaseGA: Stopping criterion with maximum running time/time bound (TB) (seconds) occurred. End program!\n",
      "2024/02/22 05:16:29 PM, INFO, mealpy.evolutionary_based.GA.BaseGA: Solving single objective optimization problem.\n",
      "2024/02/22 05:16:29 PM, INFO, mealpy.evolutionary_based.GA.BaseGA: >>>Problem: Rosenbrock function, Epoch: 1, Current best: 167.99804616477712, Global best: 167.99804616477712, Runtime: 0.05076 seconds\n",
      "2024/02/22 05:16:29 PM, WARNING, mealpy.evolutionary_based.GA.BaseGA: Stopping criterion with maximum running time/time bound (TB) (seconds) occurred. End program!\n"
     ]
    },
    {
     "name": "stdout",
     "output_type": "stream",
     "text": [
      "Algorithm: BaseGA, with params: {'epoch': 100, 'pop_size': 300, 'pc': 0.8, 'pm': 0.1}, trial: 3, best fitness: 1075.020939553667\n",
      "Algorithm: BaseGA, with params: {'epoch': 100, 'pop_size': 300, 'pc': 0.8, 'pm': 0.1}, trial: 4, best fitness: 777.8438357091852\n",
      "Algorithm: BaseGA, with params: {'epoch': 100, 'pop_size': 300, 'pc': 0.8, 'pm': 0.1}, trial: 5, best fitness: 421.22444449271376\n"
     ]
    },
    {
     "name": "stderr",
     "output_type": "stream",
     "text": [
      "2024/02/22 05:16:29 PM, INFO, mealpy.evolutionary_based.GA.BaseGA: Solving single objective optimization problem.\n",
      "2024/02/22 05:16:29 PM, INFO, mealpy.evolutionary_based.GA.BaseGA: >>>Problem: Rosenbrock function, Epoch: 1, Current best: 557.069801316256, Global best: 557.069801316256, Runtime: 0.06215 seconds\n",
      "2024/02/22 05:16:29 PM, WARNING, mealpy.evolutionary_based.GA.BaseGA: Stopping criterion with maximum running time/time bound (TB) (seconds) occurred. End program!\n",
      "2024/02/22 05:16:29 PM, INFO, mealpy.evolutionary_based.GA.BaseGA: Solving single objective optimization problem.\n",
      "2024/02/22 05:16:29 PM, INFO, mealpy.evolutionary_based.GA.BaseGA: >>>Problem: Rosenbrock function, Epoch: 1, Current best: 654.5211477157172, Global best: 654.5211477157172, Runtime: 0.05361 seconds\n",
      "2024/02/22 05:16:29 PM, WARNING, mealpy.evolutionary_based.GA.BaseGA: Stopping criterion with maximum running time/time bound (TB) (seconds) occurred. End program!\n",
      "2024/02/22 05:16:29 PM, INFO, mealpy.evolutionary_based.GA.BaseGA: Solving single objective optimization problem.\n"
     ]
    },
    {
     "name": "stdout",
     "output_type": "stream",
     "text": [
      "Algorithm: BaseGA, with params: {'epoch': 100, 'pop_size': 300, 'pc': 0.8, 'pm': 0.2}, trial: 1, best fitness: 167.99804616477712\n",
      "Algorithm: BaseGA, with params: {'epoch': 100, 'pop_size': 300, 'pc': 0.8, 'pm': 0.2}, trial: 2, best fitness: 557.069801316256\n",
      "Algorithm: BaseGA, with params: {'epoch': 100, 'pop_size': 300, 'pc': 0.8, 'pm': 0.2}, trial: 3, best fitness: 654.5211477157172\n"
     ]
    },
    {
     "name": "stderr",
     "output_type": "stream",
     "text": [
      "2024/02/22 05:16:29 PM, INFO, mealpy.evolutionary_based.GA.BaseGA: >>>Problem: Rosenbrock function, Epoch: 1, Current best: 610.7056238947159, Global best: 610.7056238947159, Runtime: 0.05850 seconds\n",
      "2024/02/22 05:16:29 PM, WARNING, mealpy.evolutionary_based.GA.BaseGA: Stopping criterion with maximum running time/time bound (TB) (seconds) occurred. End program!\n",
      "2024/02/22 05:16:29 PM, INFO, mealpy.evolutionary_based.GA.BaseGA: Solving single objective optimization problem.\n",
      "2024/02/22 05:16:29 PM, INFO, mealpy.evolutionary_based.GA.BaseGA: >>>Problem: Rosenbrock function, Epoch: 1, Current best: 323.3257959566152, Global best: 323.3257959566152, Runtime: 0.05368 seconds\n",
      "2024/02/22 05:16:29 PM, WARNING, mealpy.evolutionary_based.GA.BaseGA: Stopping criterion with maximum running time/time bound (TB) (seconds) occurred. End program!\n",
      "2024/02/22 05:16:29 PM, INFO, mealpy.evolutionary_based.GA.BaseGA: Solving single objective optimization problem.\n",
      "2024/02/22 05:16:29 PM, INFO, mealpy.evolutionary_based.GA.BaseGA: >>>Problem: Rosenbrock function, Epoch: 1, Current best: 99.91174446997896, Global best: 99.91174446997896, Runtime: 0.05066 seconds\n",
      "2024/02/22 05:16:29 PM, WARNING, mealpy.evolutionary_based.GA.BaseGA: Stopping criterion with maximum running time/time bound (TB) (seconds) occurred. End program!\n",
      "2024/02/22 05:16:29 PM, INFO, mealpy.evolutionary_based.GA.BaseGA: Solving single objective optimization problem.\n",
      "2024/02/22 05:16:29 PM, INFO, mealpy.evolutionary_based.GA.BaseGA: >>>Problem: Rosenbrock function, Epoch: 1, Current best: 336.67424575504435, Global best: 336.67424575504435, Runtime: 0.05195 seconds\n"
     ]
    },
    {
     "name": "stdout",
     "output_type": "stream",
     "text": [
      "Algorithm: BaseGA, with params: {'epoch': 100, 'pop_size': 300, 'pc': 0.8, 'pm': 0.2}, trial: 4, best fitness: 610.7056238947159\n",
      "Algorithm: BaseGA, with params: {'epoch': 100, 'pop_size': 300, 'pc': 0.8, 'pm': 0.2}, trial: 5, best fitness: 323.3257959566152\n",
      "Algorithm: BaseGA, with params: {'epoch': 100, 'pop_size': 300, 'pc': 0.7, 'pm': 0.01}, trial: 1, best fitness: 99.91174446997896\n"
     ]
    },
    {
     "name": "stderr",
     "output_type": "stream",
     "text": [
      "2024/02/22 05:16:29 PM, WARNING, mealpy.evolutionary_based.GA.BaseGA: Stopping criterion with maximum running time/time bound (TB) (seconds) occurred. End program!\n",
      "2024/02/22 05:16:29 PM, INFO, mealpy.evolutionary_based.GA.BaseGA: Solving single objective optimization problem.\n",
      "2024/02/22 05:16:29 PM, INFO, mealpy.evolutionary_based.GA.BaseGA: >>>Problem: Rosenbrock function, Epoch: 1, Current best: 173.5400042061169, Global best: 173.5400042061169, Runtime: 0.05197 seconds\n",
      "2024/02/22 05:16:29 PM, WARNING, mealpy.evolutionary_based.GA.BaseGA: Stopping criterion with maximum running time/time bound (TB) (seconds) occurred. End program!\n",
      "2024/02/22 05:16:29 PM, INFO, mealpy.evolutionary_based.GA.BaseGA: Solving single objective optimization problem.\n",
      "2024/02/22 05:16:29 PM, INFO, mealpy.evolutionary_based.GA.BaseGA: >>>Problem: Rosenbrock function, Epoch: 1, Current best: 405.679409730308, Global best: 405.679409730308, Runtime: 0.04997 seconds\n",
      "2024/02/22 05:16:29 PM, WARNING, mealpy.evolutionary_based.GA.BaseGA: Stopping criterion with maximum running time/time bound (TB) (seconds) occurred. End program!\n",
      "2024/02/22 05:16:29 PM, INFO, mealpy.evolutionary_based.GA.BaseGA: Solving single objective optimization problem.\n"
     ]
    },
    {
     "name": "stdout",
     "output_type": "stream",
     "text": [
      "Algorithm: BaseGA, with params: {'epoch': 100, 'pop_size': 300, 'pc': 0.7, 'pm': 0.01}, trial: 2, best fitness: 336.67424575504435\n",
      "Algorithm: BaseGA, with params: {'epoch': 100, 'pop_size': 300, 'pc': 0.7, 'pm': 0.01}, trial: 3, best fitness: 173.5400042061169\n",
      "Algorithm: BaseGA, with params: {'epoch': 100, 'pop_size': 300, 'pc': 0.7, 'pm': 0.01}, trial: 4, best fitness: 405.679409730308\n"
     ]
    },
    {
     "name": "stderr",
     "output_type": "stream",
     "text": [
      "2024/02/22 05:16:29 PM, INFO, mealpy.evolutionary_based.GA.BaseGA: >>>Problem: Rosenbrock function, Epoch: 1, Current best: 475.40861820081074, Global best: 475.40861820081074, Runtime: 0.05616 seconds\n",
      "2024/02/22 05:16:29 PM, WARNING, mealpy.evolutionary_based.GA.BaseGA: Stopping criterion with maximum running time/time bound (TB) (seconds) occurred. End program!\n",
      "2024/02/22 05:16:29 PM, INFO, mealpy.evolutionary_based.GA.BaseGA: Solving single objective optimization problem.\n",
      "2024/02/22 05:16:29 PM, INFO, mealpy.evolutionary_based.GA.BaseGA: >>>Problem: Rosenbrock function, Epoch: 1, Current best: 460.96685185137585, Global best: 460.96685185137585, Runtime: 0.05250 seconds\n",
      "2024/02/22 05:16:29 PM, WARNING, mealpy.evolutionary_based.GA.BaseGA: Stopping criterion with maximum running time/time bound (TB) (seconds) occurred. End program!\n",
      "2024/02/22 05:16:29 PM, INFO, mealpy.evolutionary_based.GA.BaseGA: Solving single objective optimization problem.\n",
      "2024/02/22 05:16:29 PM, INFO, mealpy.evolutionary_based.GA.BaseGA: >>>Problem: Rosenbrock function, Epoch: 1, Current best: 465.78490257656017, Global best: 465.78490257656017, Runtime: 0.05128 seconds\n",
      "2024/02/22 05:16:29 PM, WARNING, mealpy.evolutionary_based.GA.BaseGA: Stopping criterion with maximum running time/time bound (TB) (seconds) occurred. End program!\n",
      "2024/02/22 05:16:29 PM, INFO, mealpy.evolutionary_based.GA.BaseGA: Solving single objective optimization problem.\n"
     ]
    },
    {
     "name": "stdout",
     "output_type": "stream",
     "text": [
      "Algorithm: BaseGA, with params: {'epoch': 100, 'pop_size': 300, 'pc': 0.7, 'pm': 0.01}, trial: 5, best fitness: 475.40861820081074\n",
      "Algorithm: BaseGA, with params: {'epoch': 100, 'pop_size': 300, 'pc': 0.7, 'pm': 0.05}, trial: 1, best fitness: 460.96685185137585\n",
      "Algorithm: BaseGA, with params: {'epoch': 100, 'pop_size': 300, 'pc': 0.7, 'pm': 0.05}, trial: 2, best fitness: 465.78490257656017\n"
     ]
    },
    {
     "name": "stderr",
     "output_type": "stream",
     "text": [
      "2024/02/22 05:16:29 PM, INFO, mealpy.evolutionary_based.GA.BaseGA: >>>Problem: Rosenbrock function, Epoch: 1, Current best: 480.67575072927207, Global best: 480.67575072927207, Runtime: 0.05321 seconds\n",
      "2024/02/22 05:16:29 PM, WARNING, mealpy.evolutionary_based.GA.BaseGA: Stopping criterion with maximum running time/time bound (TB) (seconds) occurred. End program!\n",
      "2024/02/22 05:16:29 PM, INFO, mealpy.evolutionary_based.GA.BaseGA: Solving single objective optimization problem.\n",
      "2024/02/22 05:16:30 PM, INFO, mealpy.evolutionary_based.GA.BaseGA: >>>Problem: Rosenbrock function, Epoch: 1, Current best: 250.91143435851677, Global best: 250.91143435851677, Runtime: 0.05116 seconds\n",
      "2024/02/22 05:16:30 PM, WARNING, mealpy.evolutionary_based.GA.BaseGA: Stopping criterion with maximum running time/time bound (TB) (seconds) occurred. End program!\n",
      "2024/02/22 05:16:30 PM, INFO, mealpy.evolutionary_based.GA.BaseGA: Solving single objective optimization problem.\n",
      "2024/02/22 05:16:30 PM, INFO, mealpy.evolutionary_based.GA.BaseGA: >>>Problem: Rosenbrock function, Epoch: 1, Current best: 315.8346971240458, Global best: 315.8346971240458, Runtime: 0.05247 seconds\n",
      "2024/02/22 05:16:30 PM, WARNING, mealpy.evolutionary_based.GA.BaseGA: Stopping criterion with maximum running time/time bound (TB) (seconds) occurred. End program!\n",
      "2024/02/22 05:16:30 PM, INFO, mealpy.evolutionary_based.GA.BaseGA: Solving single objective optimization problem.\n"
     ]
    },
    {
     "name": "stdout",
     "output_type": "stream",
     "text": [
      "Algorithm: BaseGA, with params: {'epoch': 100, 'pop_size': 300, 'pc': 0.7, 'pm': 0.05}, trial: 3, best fitness: 480.67575072927207\n",
      "Algorithm: BaseGA, with params: {'epoch': 100, 'pop_size': 300, 'pc': 0.7, 'pm': 0.05}, trial: 4, best fitness: 250.91143435851677\n",
      "Algorithm: BaseGA, with params: {'epoch': 100, 'pop_size': 300, 'pc': 0.7, 'pm': 0.05}, trial: 5, best fitness: 315.8346971240458\n"
     ]
    },
    {
     "name": "stderr",
     "output_type": "stream",
     "text": [
      "2024/02/22 05:16:30 PM, INFO, mealpy.evolutionary_based.GA.BaseGA: >>>Problem: Rosenbrock function, Epoch: 1, Current best: 421.61365359238533, Global best: 421.61365359238533, Runtime: 0.07044 seconds\n",
      "2024/02/22 05:16:30 PM, WARNING, mealpy.evolutionary_based.GA.BaseGA: Stopping criterion with maximum running time/time bound (TB) (seconds) occurred. End program!\n",
      "2024/02/22 05:16:30 PM, INFO, mealpy.evolutionary_based.GA.BaseGA: Solving single objective optimization problem.\n",
      "2024/02/22 05:16:30 PM, INFO, mealpy.evolutionary_based.GA.BaseGA: >>>Problem: Rosenbrock function, Epoch: 1, Current best: 1174.1457174389022, Global best: 1174.1457174389022, Runtime: 0.06100 seconds\n",
      "2024/02/22 05:16:30 PM, WARNING, mealpy.evolutionary_based.GA.BaseGA: Stopping criterion with maximum running time/time bound (TB) (seconds) occurred. End program!\n",
      "2024/02/22 05:16:30 PM, INFO, mealpy.evolutionary_based.GA.BaseGA: Solving single objective optimization problem.\n",
      "2024/02/22 05:16:30 PM, INFO, mealpy.evolutionary_based.GA.BaseGA: >>>Problem: Rosenbrock function, Epoch: 1, Current best: 372.1216302098024, Global best: 372.1216302098024, Runtime: 0.05455 seconds\n",
      "2024/02/22 05:16:30 PM, WARNING, mealpy.evolutionary_based.GA.BaseGA: Stopping criterion with maximum running time/time bound (TB) (seconds) occurred. End program!\n",
      "2024/02/22 05:16:30 PM, INFO, mealpy.evolutionary_based.GA.BaseGA: Solving single objective optimization problem.\n"
     ]
    },
    {
     "name": "stdout",
     "output_type": "stream",
     "text": [
      "Algorithm: BaseGA, with params: {'epoch': 100, 'pop_size': 300, 'pc': 0.7, 'pm': 0.1}, trial: 1, best fitness: 421.61365359238533\n",
      "Algorithm: BaseGA, with params: {'epoch': 100, 'pop_size': 300, 'pc': 0.7, 'pm': 0.1}, trial: 2, best fitness: 1174.1457174389022\n",
      "Algorithm: BaseGA, with params: {'epoch': 100, 'pop_size': 300, 'pc': 0.7, 'pm': 0.1}, trial: 3, best fitness: 372.1216302098024\n"
     ]
    },
    {
     "name": "stderr",
     "output_type": "stream",
     "text": [
      "2024/02/22 05:16:30 PM, INFO, mealpy.evolutionary_based.GA.BaseGA: >>>Problem: Rosenbrock function, Epoch: 1, Current best: 27.14297477699402, Global best: 27.14297477699402, Runtime: 0.05458 seconds\n",
      "2024/02/22 05:16:30 PM, WARNING, mealpy.evolutionary_based.GA.BaseGA: Stopping criterion with maximum running time/time bound (TB) (seconds) occurred. End program!\n",
      "2024/02/22 05:16:30 PM, INFO, mealpy.evolutionary_based.GA.BaseGA: Solving single objective optimization problem.\n",
      "2024/02/22 05:16:30 PM, INFO, mealpy.evolutionary_based.GA.BaseGA: >>>Problem: Rosenbrock function, Epoch: 1, Current best: 51.82352223706461, Global best: 51.82352223706461, Runtime: 0.05709 seconds\n",
      "2024/02/22 05:16:30 PM, WARNING, mealpy.evolutionary_based.GA.BaseGA: Stopping criterion with maximum running time/time bound (TB) (seconds) occurred. End program!\n",
      "2024/02/22 05:16:30 PM, INFO, mealpy.evolutionary_based.GA.BaseGA: Solving single objective optimization problem.\n",
      "2024/02/22 05:16:30 PM, INFO, mealpy.evolutionary_based.GA.BaseGA: >>>Problem: Rosenbrock function, Epoch: 1, Current best: 505.84205432756175, Global best: 505.84205432756175, Runtime: 0.05287 seconds\n",
      "2024/02/22 05:16:30 PM, WARNING, mealpy.evolutionary_based.GA.BaseGA: Stopping criterion with maximum running time/time bound (TB) (seconds) occurred. End program!\n",
      "2024/02/22 05:16:30 PM, INFO, mealpy.evolutionary_based.GA.BaseGA: Solving single objective optimization problem.\n"
     ]
    },
    {
     "name": "stdout",
     "output_type": "stream",
     "text": [
      "Algorithm: BaseGA, with params: {'epoch': 100, 'pop_size': 300, 'pc': 0.7, 'pm': 0.1}, trial: 4, best fitness: 27.14297477699402\n",
      "Algorithm: BaseGA, with params: {'epoch': 100, 'pop_size': 300, 'pc': 0.7, 'pm': 0.1}, trial: 5, best fitness: 51.82352223706461\n",
      "Algorithm: BaseGA, with params: {'epoch': 100, 'pop_size': 300, 'pc': 0.7, 'pm': 0.2}, trial: 1, best fitness: 505.84205432756175\n"
     ]
    },
    {
     "name": "stderr",
     "output_type": "stream",
     "text": [
      "2024/02/22 05:16:30 PM, INFO, mealpy.evolutionary_based.GA.BaseGA: >>>Problem: Rosenbrock function, Epoch: 1, Current best: 299.35110105467567, Global best: 299.35110105467567, Runtime: 0.05278 seconds\n",
      "2024/02/22 05:16:30 PM, WARNING, mealpy.evolutionary_based.GA.BaseGA: Stopping criterion with maximum running time/time bound (TB) (seconds) occurred. End program!\n",
      "2024/02/22 05:16:30 PM, INFO, mealpy.evolutionary_based.GA.BaseGA: Solving single objective optimization problem.\n",
      "2024/02/22 05:16:30 PM, INFO, mealpy.evolutionary_based.GA.BaseGA: >>>Problem: Rosenbrock function, Epoch: 1, Current best: 434.52043244689753, Global best: 434.52043244689753, Runtime: 0.05029 seconds\n",
      "2024/02/22 05:16:30 PM, WARNING, mealpy.evolutionary_based.GA.BaseGA: Stopping criterion with maximum running time/time bound (TB) (seconds) occurred. End program!\n",
      "2024/02/22 05:16:30 PM, INFO, mealpy.evolutionary_based.GA.BaseGA: Solving single objective optimization problem.\n",
      "2024/02/22 05:16:30 PM, INFO, mealpy.evolutionary_based.GA.BaseGA: >>>Problem: Rosenbrock function, Epoch: 1, Current best: 694.3207821873223, Global best: 694.3207821873223, Runtime: 0.05074 seconds\n",
      "2024/02/22 05:16:30 PM, WARNING, mealpy.evolutionary_based.GA.BaseGA: Stopping criterion with maximum running time/time bound (TB) (seconds) occurred. End program!\n",
      "2024/02/22 05:16:30 PM, INFO, mealpy.evolutionary_based.GA.BaseGA: Solving single objective optimization problem.\n",
      "2024/02/22 05:16:30 PM, INFO, mealpy.evolutionary_based.GA.BaseGA: >>>Problem: Rosenbrock function, Epoch: 1, Current best: 1149.7876825460608, Global best: 1149.7876825460608, Runtime: 0.05187 seconds\n",
      "2024/02/22 05:16:30 PM, WARNING, mealpy.evolutionary_based.GA.BaseGA: Stopping criterion with maximum running time/time bound (TB) (seconds) occurred. End program!\n"
     ]
    },
    {
     "name": "stdout",
     "output_type": "stream",
     "text": [
      "Algorithm: BaseGA, with params: {'epoch': 100, 'pop_size': 300, 'pc': 0.7, 'pm': 0.2}, trial: 2, best fitness: 299.35110105467567\n",
      "Algorithm: BaseGA, with params: {'epoch': 100, 'pop_size': 300, 'pc': 0.7, 'pm': 0.2}, trial: 3, best fitness: 434.52043244689753\n",
      "Algorithm: BaseGA, with params: {'epoch': 100, 'pop_size': 300, 'pc': 0.7, 'pm': 0.2}, trial: 4, best fitness: 694.3207821873223\n"
     ]
    },
    {
     "name": "stderr",
     "output_type": "stream",
     "text": [
      "2024/02/22 05:16:30 PM, INFO, mealpy.evolutionary_based.GA.BaseGA: Solving single objective optimization problem.\n",
      "2024/02/22 05:16:30 PM, INFO, mealpy.evolutionary_based.GA.BaseGA: >>>Problem: Rosenbrock function, Epoch: 1, Current best: 149.96345154909244, Global best: 149.96345154909244, Runtime: 0.11065 seconds\n",
      "2024/02/22 05:16:30 PM, WARNING, mealpy.evolutionary_based.GA.BaseGA: Stopping criterion with maximum running time/time bound (TB) (seconds) occurred. End program!\n",
      "2024/02/22 05:16:30 PM, INFO, mealpy.evolutionary_based.GA.BaseGA: Solving single objective optimization problem.\n"
     ]
    },
    {
     "name": "stdout",
     "output_type": "stream",
     "text": [
      "Algorithm: BaseGA, with params: {'epoch': 100, 'pop_size': 300, 'pc': 0.7, 'pm': 0.2}, trial: 5, best fitness: 1149.7876825460608\n",
      "Algorithm: BaseGA, with params: {'epoch': 100, 'pop_size': 500, 'pc': 0.95, 'pm': 0.01}, trial: 1, best fitness: 149.96345154909244\n"
     ]
    },
    {
     "name": "stderr",
     "output_type": "stream",
     "text": [
      "2024/02/22 05:16:31 PM, INFO, mealpy.evolutionary_based.GA.BaseGA: >>>Problem: Rosenbrock function, Epoch: 1, Current best: 716.5305103525583, Global best: 716.5305103525583, Runtime: 0.11361 seconds\n",
      "2024/02/22 05:16:31 PM, WARNING, mealpy.evolutionary_based.GA.BaseGA: Stopping criterion with maximum running time/time bound (TB) (seconds) occurred. End program!\n",
      "2024/02/22 05:16:31 PM, INFO, mealpy.evolutionary_based.GA.BaseGA: Solving single objective optimization problem.\n",
      "2024/02/22 05:16:31 PM, INFO, mealpy.evolutionary_based.GA.BaseGA: >>>Problem: Rosenbrock function, Epoch: 1, Current best: 950.7461456502585, Global best: 950.7461456502585, Runtime: 0.11834 seconds\n",
      "2024/02/22 05:16:31 PM, WARNING, mealpy.evolutionary_based.GA.BaseGA: Stopping criterion with maximum running time/time bound (TB) (seconds) occurred. End program!\n",
      "2024/02/22 05:16:31 PM, INFO, mealpy.evolutionary_based.GA.BaseGA: Solving single objective optimization problem.\n"
     ]
    },
    {
     "name": "stdout",
     "output_type": "stream",
     "text": [
      "Algorithm: BaseGA, with params: {'epoch': 100, 'pop_size': 500, 'pc': 0.95, 'pm': 0.01}, trial: 2, best fitness: 716.5305103525583\n",
      "Algorithm: BaseGA, with params: {'epoch': 100, 'pop_size': 500, 'pc': 0.95, 'pm': 0.01}, trial: 3, best fitness: 950.7461456502585\n"
     ]
    },
    {
     "name": "stderr",
     "output_type": "stream",
     "text": [
      "2024/02/22 05:16:31 PM, INFO, mealpy.evolutionary_based.GA.BaseGA: >>>Problem: Rosenbrock function, Epoch: 1, Current best: 81.07693622440101, Global best: 81.07693622440101, Runtime: 0.11178 seconds\n",
      "2024/02/22 05:16:31 PM, WARNING, mealpy.evolutionary_based.GA.BaseGA: Stopping criterion with maximum running time/time bound (TB) (seconds) occurred. End program!\n",
      "2024/02/22 05:16:31 PM, INFO, mealpy.evolutionary_based.GA.BaseGA: Solving single objective optimization problem.\n",
      "2024/02/22 05:16:31 PM, INFO, mealpy.evolutionary_based.GA.BaseGA: >>>Problem: Rosenbrock function, Epoch: 1, Current best: 289.08124775626413, Global best: 289.08124775626413, Runtime: 0.15478 seconds\n",
      "2024/02/22 05:16:31 PM, WARNING, mealpy.evolutionary_based.GA.BaseGA: Stopping criterion with maximum running time/time bound (TB) (seconds) occurred. End program!\n"
     ]
    },
    {
     "name": "stdout",
     "output_type": "stream",
     "text": [
      "Algorithm: BaseGA, with params: {'epoch': 100, 'pop_size': 500, 'pc': 0.95, 'pm': 0.01}, trial: 4, best fitness: 81.07693622440101\n"
     ]
    },
    {
     "name": "stderr",
     "output_type": "stream",
     "text": [
      "2024/02/22 05:16:31 PM, INFO, mealpy.evolutionary_based.GA.BaseGA: Solving single objective optimization problem.\n",
      "2024/02/22 05:16:31 PM, INFO, mealpy.evolutionary_based.GA.BaseGA: >>>Problem: Rosenbrock function, Epoch: 1, Current best: 143.55160572155046, Global best: 143.55160572155046, Runtime: 0.10996 seconds\n",
      "2024/02/22 05:16:31 PM, WARNING, mealpy.evolutionary_based.GA.BaseGA: Stopping criterion with maximum running time/time bound (TB) (seconds) occurred. End program!\n",
      "2024/02/22 05:16:31 PM, INFO, mealpy.evolutionary_based.GA.BaseGA: Solving single objective optimization problem.\n"
     ]
    },
    {
     "name": "stdout",
     "output_type": "stream",
     "text": [
      "Algorithm: BaseGA, with params: {'epoch': 100, 'pop_size': 500, 'pc': 0.95, 'pm': 0.01}, trial: 5, best fitness: 289.08124775626413\n",
      "Algorithm: BaseGA, with params: {'epoch': 100, 'pop_size': 500, 'pc': 0.95, 'pm': 0.05}, trial: 1, best fitness: 143.55160572155046\n"
     ]
    },
    {
     "name": "stderr",
     "output_type": "stream",
     "text": [
      "2024/02/22 05:16:31 PM, INFO, mealpy.evolutionary_based.GA.BaseGA: >>>Problem: Rosenbrock function, Epoch: 1, Current best: 220.58181862455305, Global best: 220.58181862455305, Runtime: 0.13106 seconds\n",
      "2024/02/22 05:16:31 PM, WARNING, mealpy.evolutionary_based.GA.BaseGA: Stopping criterion with maximum running time/time bound (TB) (seconds) occurred. End program!\n",
      "2024/02/22 05:16:31 PM, INFO, mealpy.evolutionary_based.GA.BaseGA: Solving single objective optimization problem.\n",
      "2024/02/22 05:16:32 PM, INFO, mealpy.evolutionary_based.GA.BaseGA: >>>Problem: Rosenbrock function, Epoch: 1, Current best: 172.78624247829222, Global best: 172.78624247829222, Runtime: 0.11849 seconds\n",
      "2024/02/22 05:16:32 PM, WARNING, mealpy.evolutionary_based.GA.BaseGA: Stopping criterion with maximum running time/time bound (TB) (seconds) occurred. End program!\n",
      "2024/02/22 05:16:32 PM, INFO, mealpy.evolutionary_based.GA.BaseGA: Solving single objective optimization problem.\n"
     ]
    },
    {
     "name": "stdout",
     "output_type": "stream",
     "text": [
      "Algorithm: BaseGA, with params: {'epoch': 100, 'pop_size': 500, 'pc': 0.95, 'pm': 0.05}, trial: 2, best fitness: 220.58181862455305\n",
      "Algorithm: BaseGA, with params: {'epoch': 100, 'pop_size': 500, 'pc': 0.95, 'pm': 0.05}, trial: 3, best fitness: 172.78624247829222\n"
     ]
    },
    {
     "name": "stderr",
     "output_type": "stream",
     "text": [
      "2024/02/22 05:16:32 PM, INFO, mealpy.evolutionary_based.GA.BaseGA: >>>Problem: Rosenbrock function, Epoch: 1, Current best: 487.6258944903003, Global best: 487.6258944903003, Runtime: 0.12422 seconds\n",
      "2024/02/22 05:16:32 PM, WARNING, mealpy.evolutionary_based.GA.BaseGA: Stopping criterion with maximum running time/time bound (TB) (seconds) occurred. End program!\n",
      "2024/02/22 05:16:32 PM, INFO, mealpy.evolutionary_based.GA.BaseGA: Solving single objective optimization problem.\n",
      "2024/02/22 05:16:32 PM, INFO, mealpy.evolutionary_based.GA.BaseGA: >>>Problem: Rosenbrock function, Epoch: 1, Current best: 71.32681480777336, Global best: 71.32681480777336, Runtime: 0.10972 seconds\n",
      "2024/02/22 05:16:32 PM, WARNING, mealpy.evolutionary_based.GA.BaseGA: Stopping criterion with maximum running time/time bound (TB) (seconds) occurred. End program!\n",
      "2024/02/22 05:16:32 PM, INFO, mealpy.evolutionary_based.GA.BaseGA: Solving single objective optimization problem.\n"
     ]
    },
    {
     "name": "stdout",
     "output_type": "stream",
     "text": [
      "Algorithm: BaseGA, with params: {'epoch': 100, 'pop_size': 500, 'pc': 0.95, 'pm': 0.05}, trial: 4, best fitness: 487.6258944903003\n",
      "Algorithm: BaseGA, with params: {'epoch': 100, 'pop_size': 500, 'pc': 0.95, 'pm': 0.05}, trial: 5, best fitness: 71.32681480777336\n"
     ]
    },
    {
     "name": "stderr",
     "output_type": "stream",
     "text": [
      "2024/02/22 05:16:32 PM, INFO, mealpy.evolutionary_based.GA.BaseGA: >>>Problem: Rosenbrock function, Epoch: 1, Current best: 229.24699643154864, Global best: 229.24699643154864, Runtime: 0.11064 seconds\n",
      "2024/02/22 05:16:32 PM, WARNING, mealpy.evolutionary_based.GA.BaseGA: Stopping criterion with maximum running time/time bound (TB) (seconds) occurred. End program!\n",
      "2024/02/22 05:16:32 PM, INFO, mealpy.evolutionary_based.GA.BaseGA: Solving single objective optimization problem.\n",
      "2024/02/22 05:16:32 PM, INFO, mealpy.evolutionary_based.GA.BaseGA: >>>Problem: Rosenbrock function, Epoch: 1, Current best: 281.4057062658594, Global best: 281.4057062658594, Runtime: 0.10915 seconds\n",
      "2024/02/22 05:16:32 PM, WARNING, mealpy.evolutionary_based.GA.BaseGA: Stopping criterion with maximum running time/time bound (TB) (seconds) occurred. End program!\n",
      "2024/02/22 05:16:32 PM, INFO, mealpy.evolutionary_based.GA.BaseGA: Solving single objective optimization problem.\n"
     ]
    },
    {
     "name": "stdout",
     "output_type": "stream",
     "text": [
      "Algorithm: BaseGA, with params: {'epoch': 100, 'pop_size': 500, 'pc': 0.95, 'pm': 0.1}, trial: 1, best fitness: 229.24699643154864\n",
      "Algorithm: BaseGA, with params: {'epoch': 100, 'pop_size': 500, 'pc': 0.95, 'pm': 0.1}, trial: 2, best fitness: 281.4057062658594\n"
     ]
    },
    {
     "name": "stderr",
     "output_type": "stream",
     "text": [
      "2024/02/22 05:16:32 PM, INFO, mealpy.evolutionary_based.GA.BaseGA: >>>Problem: Rosenbrock function, Epoch: 1, Current best: 35.80622867431384, Global best: 35.80622867431384, Runtime: 0.11304 seconds\n",
      "2024/02/22 05:16:32 PM, WARNING, mealpy.evolutionary_based.GA.BaseGA: Stopping criterion with maximum running time/time bound (TB) (seconds) occurred. End program!\n",
      "2024/02/22 05:16:32 PM, INFO, mealpy.evolutionary_based.GA.BaseGA: Solving single objective optimization problem.\n",
      "2024/02/22 05:16:32 PM, INFO, mealpy.evolutionary_based.GA.BaseGA: >>>Problem: Rosenbrock function, Epoch: 1, Current best: 611.0854896059958, Global best: 611.0854896059958, Runtime: 0.11662 seconds\n",
      "2024/02/22 05:16:32 PM, WARNING, mealpy.evolutionary_based.GA.BaseGA: Stopping criterion with maximum running time/time bound (TB) (seconds) occurred. End program!\n",
      "2024/02/22 05:16:32 PM, INFO, mealpy.evolutionary_based.GA.BaseGA: Solving single objective optimization problem.\n"
     ]
    },
    {
     "name": "stdout",
     "output_type": "stream",
     "text": [
      "Algorithm: BaseGA, with params: {'epoch': 100, 'pop_size': 500, 'pc': 0.95, 'pm': 0.1}, trial: 3, best fitness: 35.80622867431384\n",
      "Algorithm: BaseGA, with params: {'epoch': 100, 'pop_size': 500, 'pc': 0.95, 'pm': 0.1}, trial: 4, best fitness: 611.0854896059958\n"
     ]
    },
    {
     "name": "stderr",
     "output_type": "stream",
     "text": [
      "2024/02/22 05:16:33 PM, INFO, mealpy.evolutionary_based.GA.BaseGA: >>>Problem: Rosenbrock function, Epoch: 1, Current best: 78.73760055904657, Global best: 78.73760055904657, Runtime: 0.11247 seconds\n",
      "2024/02/22 05:16:33 PM, WARNING, mealpy.evolutionary_based.GA.BaseGA: Stopping criterion with maximum running time/time bound (TB) (seconds) occurred. End program!\n",
      "2024/02/22 05:16:33 PM, INFO, mealpy.evolutionary_based.GA.BaseGA: Solving single objective optimization problem.\n",
      "2024/02/22 05:16:33 PM, INFO, mealpy.evolutionary_based.GA.BaseGA: >>>Problem: Rosenbrock function, Epoch: 1, Current best: 200.57785329943783, Global best: 200.57785329943783, Runtime: 0.11117 seconds\n",
      "2024/02/22 05:16:33 PM, WARNING, mealpy.evolutionary_based.GA.BaseGA: Stopping criterion with maximum running time/time bound (TB) (seconds) occurred. End program!\n",
      "2024/02/22 05:16:33 PM, INFO, mealpy.evolutionary_based.GA.BaseGA: Solving single objective optimization problem.\n"
     ]
    },
    {
     "name": "stdout",
     "output_type": "stream",
     "text": [
      "Algorithm: BaseGA, with params: {'epoch': 100, 'pop_size': 500, 'pc': 0.95, 'pm': 0.1}, trial: 5, best fitness: 78.73760055904657\n",
      "Algorithm: BaseGA, with params: {'epoch': 100, 'pop_size': 500, 'pc': 0.95, 'pm': 0.2}, trial: 1, best fitness: 200.57785329943783\n"
     ]
    },
    {
     "name": "stderr",
     "output_type": "stream",
     "text": [
      "2024/02/22 05:16:33 PM, INFO, mealpy.evolutionary_based.GA.BaseGA: >>>Problem: Rosenbrock function, Epoch: 1, Current best: 634.9792475021238, Global best: 634.9792475021238, Runtime: 0.11318 seconds\n",
      "2024/02/22 05:16:33 PM, WARNING, mealpy.evolutionary_based.GA.BaseGA: Stopping criterion with maximum running time/time bound (TB) (seconds) occurred. End program!\n",
      "2024/02/22 05:16:33 PM, INFO, mealpy.evolutionary_based.GA.BaseGA: Solving single objective optimization problem.\n",
      "2024/02/22 05:16:33 PM, INFO, mealpy.evolutionary_based.GA.BaseGA: >>>Problem: Rosenbrock function, Epoch: 1, Current best: 286.36875170625814, Global best: 286.36875170625814, Runtime: 0.11040 seconds\n",
      "2024/02/22 05:16:33 PM, WARNING, mealpy.evolutionary_based.GA.BaseGA: Stopping criterion with maximum running time/time bound (TB) (seconds) occurred. End program!\n",
      "2024/02/22 05:16:33 PM, INFO, mealpy.evolutionary_based.GA.BaseGA: Solving single objective optimization problem.\n"
     ]
    },
    {
     "name": "stdout",
     "output_type": "stream",
     "text": [
      "Algorithm: BaseGA, with params: {'epoch': 100, 'pop_size': 500, 'pc': 0.95, 'pm': 0.2}, trial: 2, best fitness: 634.9792475021238\n",
      "Algorithm: BaseGA, with params: {'epoch': 100, 'pop_size': 500, 'pc': 0.95, 'pm': 0.2}, trial: 3, best fitness: 286.36875170625814\n"
     ]
    },
    {
     "name": "stderr",
     "output_type": "stream",
     "text": [
      "2024/02/22 05:16:33 PM, INFO, mealpy.evolutionary_based.GA.BaseGA: >>>Problem: Rosenbrock function, Epoch: 1, Current best: 243.1966593138274, Global best: 243.1966593138274, Runtime: 0.11309 seconds\n",
      "2024/02/22 05:16:33 PM, WARNING, mealpy.evolutionary_based.GA.BaseGA: Stopping criterion with maximum running time/time bound (TB) (seconds) occurred. End program!\n",
      "2024/02/22 05:16:33 PM, INFO, mealpy.evolutionary_based.GA.BaseGA: Solving single objective optimization problem.\n",
      "2024/02/22 05:16:33 PM, INFO, mealpy.evolutionary_based.GA.BaseGA: >>>Problem: Rosenbrock function, Epoch: 1, Current best: 265.3511223962387, Global best: 265.3511223962387, Runtime: 0.11223 seconds\n",
      "2024/02/22 05:16:33 PM, WARNING, mealpy.evolutionary_based.GA.BaseGA: Stopping criterion with maximum running time/time bound (TB) (seconds) occurred. End program!\n",
      "2024/02/22 05:16:33 PM, INFO, mealpy.evolutionary_based.GA.BaseGA: Solving single objective optimization problem.\n"
     ]
    },
    {
     "name": "stdout",
     "output_type": "stream",
     "text": [
      "Algorithm: BaseGA, with params: {'epoch': 100, 'pop_size': 500, 'pc': 0.95, 'pm': 0.2}, trial: 4, best fitness: 243.1966593138274\n",
      "Algorithm: BaseGA, with params: {'epoch': 100, 'pop_size': 500, 'pc': 0.95, 'pm': 0.2}, trial: 5, best fitness: 265.3511223962387\n"
     ]
    },
    {
     "name": "stderr",
     "output_type": "stream",
     "text": [
      "2024/02/22 05:16:33 PM, INFO, mealpy.evolutionary_based.GA.BaseGA: >>>Problem: Rosenbrock function, Epoch: 1, Current best: 438.26676724512015, Global best: 438.26676724512015, Runtime: 0.11145 seconds\n",
      "2024/02/22 05:16:33 PM, WARNING, mealpy.evolutionary_based.GA.BaseGA: Stopping criterion with maximum running time/time bound (TB) (seconds) occurred. End program!\n",
      "2024/02/22 05:16:33 PM, INFO, mealpy.evolutionary_based.GA.BaseGA: Solving single objective optimization problem.\n",
      "2024/02/22 05:16:33 PM, INFO, mealpy.evolutionary_based.GA.BaseGA: >>>Problem: Rosenbrock function, Epoch: 1, Current best: 187.45994209376138, Global best: 187.45994209376138, Runtime: 0.11036 seconds\n",
      "2024/02/22 05:16:33 PM, WARNING, mealpy.evolutionary_based.GA.BaseGA: Stopping criterion with maximum running time/time bound (TB) (seconds) occurred. End program!\n",
      "2024/02/22 05:16:33 PM, INFO, mealpy.evolutionary_based.GA.BaseGA: Solving single objective optimization problem.\n"
     ]
    },
    {
     "name": "stdout",
     "output_type": "stream",
     "text": [
      "Algorithm: BaseGA, with params: {'epoch': 100, 'pop_size': 500, 'pc': 0.9, 'pm': 0.01}, trial: 1, best fitness: 438.26676724512015\n",
      "Algorithm: BaseGA, with params: {'epoch': 100, 'pop_size': 500, 'pc': 0.9, 'pm': 0.01}, trial: 2, best fitness: 187.45994209376138\n"
     ]
    },
    {
     "name": "stderr",
     "output_type": "stream",
     "text": [
      "2024/02/22 05:16:34 PM, INFO, mealpy.evolutionary_based.GA.BaseGA: >>>Problem: Rosenbrock function, Epoch: 1, Current best: 157.77727117212856, Global best: 157.77727117212856, Runtime: 0.11368 seconds\n",
      "2024/02/22 05:16:34 PM, WARNING, mealpy.evolutionary_based.GA.BaseGA: Stopping criterion with maximum running time/time bound (TB) (seconds) occurred. End program!\n",
      "2024/02/22 05:16:34 PM, INFO, mealpy.evolutionary_based.GA.BaseGA: Solving single objective optimization problem.\n",
      "2024/02/22 05:16:34 PM, INFO, mealpy.evolutionary_based.GA.BaseGA: >>>Problem: Rosenbrock function, Epoch: 1, Current best: 61.5754547512303, Global best: 61.5754547512303, Runtime: 0.11252 seconds\n",
      "2024/02/22 05:16:34 PM, WARNING, mealpy.evolutionary_based.GA.BaseGA: Stopping criterion with maximum running time/time bound (TB) (seconds) occurred. End program!\n",
      "2024/02/22 05:16:34 PM, INFO, mealpy.evolutionary_based.GA.BaseGA: Solving single objective optimization problem.\n"
     ]
    },
    {
     "name": "stdout",
     "output_type": "stream",
     "text": [
      "Algorithm: BaseGA, with params: {'epoch': 100, 'pop_size': 500, 'pc': 0.9, 'pm': 0.01}, trial: 3, best fitness: 157.77727117212856\n",
      "Algorithm: BaseGA, with params: {'epoch': 100, 'pop_size': 500, 'pc': 0.9, 'pm': 0.01}, trial: 4, best fitness: 61.5754547512303\n"
     ]
    },
    {
     "name": "stderr",
     "output_type": "stream",
     "text": [
      "2024/02/22 05:16:34 PM, INFO, mealpy.evolutionary_based.GA.BaseGA: >>>Problem: Rosenbrock function, Epoch: 1, Current best: 178.7638693267195, Global best: 178.7638693267195, Runtime: 0.11190 seconds\n",
      "2024/02/22 05:16:34 PM, WARNING, mealpy.evolutionary_based.GA.BaseGA: Stopping criterion with maximum running time/time bound (TB) (seconds) occurred. End program!\n",
      "2024/02/22 05:16:34 PM, INFO, mealpy.evolutionary_based.GA.BaseGA: Solving single objective optimization problem.\n",
      "2024/02/22 05:16:34 PM, INFO, mealpy.evolutionary_based.GA.BaseGA: >>>Problem: Rosenbrock function, Epoch: 1, Current best: 397.95122429638593, Global best: 397.95122429638593, Runtime: 0.10886 seconds\n",
      "2024/02/22 05:16:34 PM, WARNING, mealpy.evolutionary_based.GA.BaseGA: Stopping criterion with maximum running time/time bound (TB) (seconds) occurred. End program!\n",
      "2024/02/22 05:16:34 PM, INFO, mealpy.evolutionary_based.GA.BaseGA: Solving single objective optimization problem.\n"
     ]
    },
    {
     "name": "stdout",
     "output_type": "stream",
     "text": [
      "Algorithm: BaseGA, with params: {'epoch': 100, 'pop_size': 500, 'pc': 0.9, 'pm': 0.01}, trial: 5, best fitness: 178.7638693267195\n",
      "Algorithm: BaseGA, with params: {'epoch': 100, 'pop_size': 500, 'pc': 0.9, 'pm': 0.05}, trial: 1, best fitness: 397.95122429638593\n"
     ]
    },
    {
     "name": "stderr",
     "output_type": "stream",
     "text": [
      "2024/02/22 05:16:34 PM, INFO, mealpy.evolutionary_based.GA.BaseGA: >>>Problem: Rosenbrock function, Epoch: 1, Current best: 84.64921264775431, Global best: 84.64921264775431, Runtime: 0.11288 seconds\n",
      "2024/02/22 05:16:34 PM, WARNING, mealpy.evolutionary_based.GA.BaseGA: Stopping criterion with maximum running time/time bound (TB) (seconds) occurred. End program!\n",
      "2024/02/22 05:16:34 PM, INFO, mealpy.evolutionary_based.GA.BaseGA: Solving single objective optimization problem.\n",
      "2024/02/22 05:16:34 PM, INFO, mealpy.evolutionary_based.GA.BaseGA: >>>Problem: Rosenbrock function, Epoch: 1, Current best: 57.893801065425315, Global best: 57.893801065425315, Runtime: 0.11135 seconds\n",
      "2024/02/22 05:16:34 PM, WARNING, mealpy.evolutionary_based.GA.BaseGA: Stopping criterion with maximum running time/time bound (TB) (seconds) occurred. End program!\n",
      "2024/02/22 05:16:34 PM, INFO, mealpy.evolutionary_based.GA.BaseGA: Solving single objective optimization problem.\n"
     ]
    },
    {
     "name": "stdout",
     "output_type": "stream",
     "text": [
      "Algorithm: BaseGA, with params: {'epoch': 100, 'pop_size': 500, 'pc': 0.9, 'pm': 0.05}, trial: 2, best fitness: 84.64921264775431\n",
      "Algorithm: BaseGA, with params: {'epoch': 100, 'pop_size': 500, 'pc': 0.9, 'pm': 0.05}, trial: 3, best fitness: 57.893801065425315\n"
     ]
    },
    {
     "name": "stderr",
     "output_type": "stream",
     "text": [
      "2024/02/22 05:16:34 PM, INFO, mealpy.evolutionary_based.GA.BaseGA: >>>Problem: Rosenbrock function, Epoch: 1, Current best: 177.26647010241427, Global best: 177.26647010241427, Runtime: 0.11354 seconds\n",
      "2024/02/22 05:16:34 PM, WARNING, mealpy.evolutionary_based.GA.BaseGA: Stopping criterion with maximum running time/time bound (TB) (seconds) occurred. End program!\n",
      "2024/02/22 05:16:34 PM, INFO, mealpy.evolutionary_based.GA.BaseGA: Solving single objective optimization problem.\n",
      "2024/02/22 05:16:35 PM, INFO, mealpy.evolutionary_based.GA.BaseGA: >>>Problem: Rosenbrock function, Epoch: 1, Current best: 190.9301371022757, Global best: 190.9301371022757, Runtime: 0.11125 seconds\n",
      "2024/02/22 05:16:35 PM, WARNING, mealpy.evolutionary_based.GA.BaseGA: Stopping criterion with maximum running time/time bound (TB) (seconds) occurred. End program!\n",
      "2024/02/22 05:16:35 PM, INFO, mealpy.evolutionary_based.GA.BaseGA: Solving single objective optimization problem.\n"
     ]
    },
    {
     "name": "stdout",
     "output_type": "stream",
     "text": [
      "Algorithm: BaseGA, with params: {'epoch': 100, 'pop_size': 500, 'pc': 0.9, 'pm': 0.05}, trial: 4, best fitness: 177.26647010241427\n",
      "Algorithm: BaseGA, with params: {'epoch': 100, 'pop_size': 500, 'pc': 0.9, 'pm': 0.05}, trial: 5, best fitness: 190.9301371022757\n"
     ]
    },
    {
     "name": "stderr",
     "output_type": "stream",
     "text": [
      "2024/02/22 05:16:35 PM, INFO, mealpy.evolutionary_based.GA.BaseGA: >>>Problem: Rosenbrock function, Epoch: 1, Current best: 120.273404411143, Global best: 120.273404411143, Runtime: 0.13797 seconds\n",
      "2024/02/22 05:16:35 PM, WARNING, mealpy.evolutionary_based.GA.BaseGA: Stopping criterion with maximum running time/time bound (TB) (seconds) occurred. End program!\n",
      "2024/02/22 05:16:35 PM, INFO, mealpy.evolutionary_based.GA.BaseGA: Solving single objective optimization problem.\n",
      "2024/02/22 05:16:35 PM, INFO, mealpy.evolutionary_based.GA.BaseGA: >>>Problem: Rosenbrock function, Epoch: 1, Current best: 123.5358916938569, Global best: 123.5358916938569, Runtime: 0.11929 seconds\n",
      "2024/02/22 05:16:35 PM, WARNING, mealpy.evolutionary_based.GA.BaseGA: Stopping criterion with maximum running time/time bound (TB) (seconds) occurred. End program!\n",
      "2024/02/22 05:16:35 PM, INFO, mealpy.evolutionary_based.GA.BaseGA: Solving single objective optimization problem.\n"
     ]
    },
    {
     "name": "stdout",
     "output_type": "stream",
     "text": [
      "Algorithm: BaseGA, with params: {'epoch': 100, 'pop_size': 500, 'pc': 0.9, 'pm': 0.1}, trial: 1, best fitness: 120.273404411143\n",
      "Algorithm: BaseGA, with params: {'epoch': 100, 'pop_size': 500, 'pc': 0.9, 'pm': 0.1}, trial: 2, best fitness: 123.5358916938569\n"
     ]
    },
    {
     "name": "stderr",
     "output_type": "stream",
     "text": [
      "2024/02/22 05:16:35 PM, INFO, mealpy.evolutionary_based.GA.BaseGA: >>>Problem: Rosenbrock function, Epoch: 1, Current best: 384.90741381894907, Global best: 384.90741381894907, Runtime: 0.11145 seconds\n",
      "2024/02/22 05:16:35 PM, WARNING, mealpy.evolutionary_based.GA.BaseGA: Stopping criterion with maximum running time/time bound (TB) (seconds) occurred. End program!\n",
      "2024/02/22 05:16:35 PM, INFO, mealpy.evolutionary_based.GA.BaseGA: Solving single objective optimization problem.\n",
      "2024/02/22 05:16:35 PM, INFO, mealpy.evolutionary_based.GA.BaseGA: >>>Problem: Rosenbrock function, Epoch: 1, Current best: 925.2981663851405, Global best: 925.2981663851405, Runtime: 0.10644 seconds\n",
      "2024/02/22 05:16:35 PM, WARNING, mealpy.evolutionary_based.GA.BaseGA: Stopping criterion with maximum running time/time bound (TB) (seconds) occurred. End program!\n",
      "2024/02/22 05:16:35 PM, INFO, mealpy.evolutionary_based.GA.BaseGA: Solving single objective optimization problem.\n"
     ]
    },
    {
     "name": "stdout",
     "output_type": "stream",
     "text": [
      "Algorithm: BaseGA, with params: {'epoch': 100, 'pop_size': 500, 'pc': 0.9, 'pm': 0.1}, trial: 3, best fitness: 384.90741381894907\n",
      "Algorithm: BaseGA, with params: {'epoch': 100, 'pop_size': 500, 'pc': 0.9, 'pm': 0.1}, trial: 4, best fitness: 925.2981663851405\n"
     ]
    },
    {
     "name": "stderr",
     "output_type": "stream",
     "text": [
      "2024/02/22 05:16:35 PM, INFO, mealpy.evolutionary_based.GA.BaseGA: >>>Problem: Rosenbrock function, Epoch: 1, Current best: 185.47203800819224, Global best: 185.47203800819224, Runtime: 0.11294 seconds\n",
      "2024/02/22 05:16:35 PM, WARNING, mealpy.evolutionary_based.GA.BaseGA: Stopping criterion with maximum running time/time bound (TB) (seconds) occurred. End program!\n",
      "2024/02/22 05:16:35 PM, INFO, mealpy.evolutionary_based.GA.BaseGA: Solving single objective optimization problem.\n",
      "2024/02/22 05:16:35 PM, INFO, mealpy.evolutionary_based.GA.BaseGA: >>>Problem: Rosenbrock function, Epoch: 1, Current best: 255.29067661993832, Global best: 255.29067661993832, Runtime: 0.10735 seconds\n",
      "2024/02/22 05:16:35 PM, WARNING, mealpy.evolutionary_based.GA.BaseGA: Stopping criterion with maximum running time/time bound (TB) (seconds) occurred. End program!\n",
      "2024/02/22 05:16:35 PM, INFO, mealpy.evolutionary_based.GA.BaseGA: Solving single objective optimization problem.\n"
     ]
    },
    {
     "name": "stdout",
     "output_type": "stream",
     "text": [
      "Algorithm: BaseGA, with params: {'epoch': 100, 'pop_size': 500, 'pc': 0.9, 'pm': 0.1}, trial: 5, best fitness: 185.47203800819224\n",
      "Algorithm: BaseGA, with params: {'epoch': 100, 'pop_size': 500, 'pc': 0.9, 'pm': 0.2}, trial: 1, best fitness: 255.29067661993832\n"
     ]
    },
    {
     "name": "stderr",
     "output_type": "stream",
     "text": [
      "2024/02/22 05:16:36 PM, INFO, mealpy.evolutionary_based.GA.BaseGA: >>>Problem: Rosenbrock function, Epoch: 1, Current best: 144.84745464538298, Global best: 144.84745464538298, Runtime: 0.11120 seconds\n",
      "2024/02/22 05:16:36 PM, WARNING, mealpy.evolutionary_based.GA.BaseGA: Stopping criterion with maximum running time/time bound (TB) (seconds) occurred. End program!\n",
      "2024/02/22 05:16:36 PM, INFO, mealpy.evolutionary_based.GA.BaseGA: Solving single objective optimization problem.\n",
      "2024/02/22 05:16:36 PM, INFO, mealpy.evolutionary_based.GA.BaseGA: >>>Problem: Rosenbrock function, Epoch: 1, Current best: 47.002976268319856, Global best: 47.002976268319856, Runtime: 0.10961 seconds\n",
      "2024/02/22 05:16:36 PM, WARNING, mealpy.evolutionary_based.GA.BaseGA: Stopping criterion with maximum running time/time bound (TB) (seconds) occurred. End program!\n",
      "2024/02/22 05:16:36 PM, INFO, mealpy.evolutionary_based.GA.BaseGA: Solving single objective optimization problem.\n"
     ]
    },
    {
     "name": "stdout",
     "output_type": "stream",
     "text": [
      "Algorithm: BaseGA, with params: {'epoch': 100, 'pop_size': 500, 'pc': 0.9, 'pm': 0.2}, trial: 2, best fitness: 144.84745464538298\n",
      "Algorithm: BaseGA, with params: {'epoch': 100, 'pop_size': 500, 'pc': 0.9, 'pm': 0.2}, trial: 3, best fitness: 47.002976268319856\n"
     ]
    },
    {
     "name": "stderr",
     "output_type": "stream",
     "text": [
      "2024/02/22 05:16:36 PM, INFO, mealpy.evolutionary_based.GA.BaseGA: >>>Problem: Rosenbrock function, Epoch: 1, Current best: 359.53268806369533, Global best: 359.53268806369533, Runtime: 0.11352 seconds\n",
      "2024/02/22 05:16:36 PM, WARNING, mealpy.evolutionary_based.GA.BaseGA: Stopping criterion with maximum running time/time bound (TB) (seconds) occurred. End program!\n",
      "2024/02/22 05:16:36 PM, INFO, mealpy.evolutionary_based.GA.BaseGA: Solving single objective optimization problem.\n",
      "2024/02/22 05:16:36 PM, INFO, mealpy.evolutionary_based.GA.BaseGA: >>>Problem: Rosenbrock function, Epoch: 1, Current best: 165.07951529606777, Global best: 165.07951529606777, Runtime: 0.10838 seconds\n",
      "2024/02/22 05:16:36 PM, WARNING, mealpy.evolutionary_based.GA.BaseGA: Stopping criterion with maximum running time/time bound (TB) (seconds) occurred. End program!\n",
      "2024/02/22 05:16:36 PM, INFO, mealpy.evolutionary_based.GA.BaseGA: Solving single objective optimization problem.\n"
     ]
    },
    {
     "name": "stdout",
     "output_type": "stream",
     "text": [
      "Algorithm: BaseGA, with params: {'epoch': 100, 'pop_size': 500, 'pc': 0.9, 'pm': 0.2}, trial: 4, best fitness: 359.53268806369533\n",
      "Algorithm: BaseGA, with params: {'epoch': 100, 'pop_size': 500, 'pc': 0.9, 'pm': 0.2}, trial: 5, best fitness: 165.07951529606777\n"
     ]
    },
    {
     "name": "stderr",
     "output_type": "stream",
     "text": [
      "2024/02/22 05:16:36 PM, INFO, mealpy.evolutionary_based.GA.BaseGA: >>>Problem: Rosenbrock function, Epoch: 1, Current best: 65.52296303516539, Global best: 65.52296303516539, Runtime: 0.10994 seconds\n",
      "2024/02/22 05:16:36 PM, WARNING, mealpy.evolutionary_based.GA.BaseGA: Stopping criterion with maximum running time/time bound (TB) (seconds) occurred. End program!\n",
      "2024/02/22 05:16:36 PM, INFO, mealpy.evolutionary_based.GA.BaseGA: Solving single objective optimization problem.\n",
      "2024/02/22 05:16:36 PM, INFO, mealpy.evolutionary_based.GA.BaseGA: >>>Problem: Rosenbrock function, Epoch: 1, Current best: 274.5532911618097, Global best: 274.5532911618097, Runtime: 0.10847 seconds\n",
      "2024/02/22 05:16:36 PM, WARNING, mealpy.evolutionary_based.GA.BaseGA: Stopping criterion with maximum running time/time bound (TB) (seconds) occurred. End program!\n",
      "2024/02/22 05:16:36 PM, INFO, mealpy.evolutionary_based.GA.BaseGA: Solving single objective optimization problem.\n"
     ]
    },
    {
     "name": "stdout",
     "output_type": "stream",
     "text": [
      "Algorithm: BaseGA, with params: {'epoch': 100, 'pop_size': 500, 'pc': 0.8, 'pm': 0.01}, trial: 1, best fitness: 65.52296303516539\n",
      "Algorithm: BaseGA, with params: {'epoch': 100, 'pop_size': 500, 'pc': 0.8, 'pm': 0.01}, trial: 2, best fitness: 274.5532911618097\n"
     ]
    },
    {
     "name": "stderr",
     "output_type": "stream",
     "text": [
      "2024/02/22 05:16:36 PM, INFO, mealpy.evolutionary_based.GA.BaseGA: >>>Problem: Rosenbrock function, Epoch: 1, Current best: 334.5706514207711, Global best: 334.5706514207711, Runtime: 0.10907 seconds\n",
      "2024/02/22 05:16:36 PM, WARNING, mealpy.evolutionary_based.GA.BaseGA: Stopping criterion with maximum running time/time bound (TB) (seconds) occurred. End program!\n",
      "2024/02/22 05:16:36 PM, INFO, mealpy.evolutionary_based.GA.BaseGA: Solving single objective optimization problem.\n",
      "2024/02/22 05:16:37 PM, INFO, mealpy.evolutionary_based.GA.BaseGA: >>>Problem: Rosenbrock function, Epoch: 1, Current best: 133.97043427594508, Global best: 133.97043427594508, Runtime: 0.10713 seconds\n",
      "2024/02/22 05:16:37 PM, WARNING, mealpy.evolutionary_based.GA.BaseGA: Stopping criterion with maximum running time/time bound (TB) (seconds) occurred. End program!\n",
      "2024/02/22 05:16:37 PM, INFO, mealpy.evolutionary_based.GA.BaseGA: Solving single objective optimization problem.\n"
     ]
    },
    {
     "name": "stdout",
     "output_type": "stream",
     "text": [
      "Algorithm: BaseGA, with params: {'epoch': 100, 'pop_size': 500, 'pc': 0.8, 'pm': 0.01}, trial: 3, best fitness: 334.5706514207711\n",
      "Algorithm: BaseGA, with params: {'epoch': 100, 'pop_size': 500, 'pc': 0.8, 'pm': 0.01}, trial: 4, best fitness: 133.97043427594508\n"
     ]
    },
    {
     "name": "stderr",
     "output_type": "stream",
     "text": [
      "2024/02/22 05:16:37 PM, INFO, mealpy.evolutionary_based.GA.BaseGA: >>>Problem: Rosenbrock function, Epoch: 1, Current best: 113.44880046337092, Global best: 113.44880046337092, Runtime: 0.11477 seconds\n",
      "2024/02/22 05:16:37 PM, WARNING, mealpy.evolutionary_based.GA.BaseGA: Stopping criterion with maximum running time/time bound (TB) (seconds) occurred. End program!\n",
      "2024/02/22 05:16:37 PM, INFO, mealpy.evolutionary_based.GA.BaseGA: Solving single objective optimization problem.\n",
      "2024/02/22 05:16:37 PM, INFO, mealpy.evolutionary_based.GA.BaseGA: >>>Problem: Rosenbrock function, Epoch: 1, Current best: 188.22256365115265, Global best: 188.22256365115265, Runtime: 0.10983 seconds\n",
      "2024/02/22 05:16:37 PM, WARNING, mealpy.evolutionary_based.GA.BaseGA: Stopping criterion with maximum running time/time bound (TB) (seconds) occurred. End program!\n",
      "2024/02/22 05:16:37 PM, INFO, mealpy.evolutionary_based.GA.BaseGA: Solving single objective optimization problem.\n"
     ]
    },
    {
     "name": "stdout",
     "output_type": "stream",
     "text": [
      "Algorithm: BaseGA, with params: {'epoch': 100, 'pop_size': 500, 'pc': 0.8, 'pm': 0.01}, trial: 5, best fitness: 113.44880046337092\n",
      "Algorithm: BaseGA, with params: {'epoch': 100, 'pop_size': 500, 'pc': 0.8, 'pm': 0.05}, trial: 1, best fitness: 188.22256365115265\n"
     ]
    },
    {
     "name": "stderr",
     "output_type": "stream",
     "text": [
      "2024/02/22 05:16:37 PM, INFO, mealpy.evolutionary_based.GA.BaseGA: >>>Problem: Rosenbrock function, Epoch: 1, Current best: 571.9570657679552, Global best: 571.9570657679552, Runtime: 0.11762 seconds\n",
      "2024/02/22 05:16:37 PM, WARNING, mealpy.evolutionary_based.GA.BaseGA: Stopping criterion with maximum running time/time bound (TB) (seconds) occurred. End program!\n",
      "2024/02/22 05:16:37 PM, INFO, mealpy.evolutionary_based.GA.BaseGA: Solving single objective optimization problem.\n",
      "2024/02/22 05:16:37 PM, INFO, mealpy.evolutionary_based.GA.BaseGA: >>>Problem: Rosenbrock function, Epoch: 1, Current best: 199.84452861069317, Global best: 199.84452861069317, Runtime: 0.11159 seconds\n",
      "2024/02/22 05:16:37 PM, WARNING, mealpy.evolutionary_based.GA.BaseGA: Stopping criterion with maximum running time/time bound (TB) (seconds) occurred. End program!\n",
      "2024/02/22 05:16:37 PM, INFO, mealpy.evolutionary_based.GA.BaseGA: Solving single objective optimization problem.\n"
     ]
    },
    {
     "name": "stdout",
     "output_type": "stream",
     "text": [
      "Algorithm: BaseGA, with params: {'epoch': 100, 'pop_size': 500, 'pc': 0.8, 'pm': 0.05}, trial: 2, best fitness: 571.9570657679552\n",
      "Algorithm: BaseGA, with params: {'epoch': 100, 'pop_size': 500, 'pc': 0.8, 'pm': 0.05}, trial: 3, best fitness: 199.84452861069317\n"
     ]
    },
    {
     "name": "stderr",
     "output_type": "stream",
     "text": [
      "2024/02/22 05:16:37 PM, INFO, mealpy.evolutionary_based.GA.BaseGA: >>>Problem: Rosenbrock function, Epoch: 1, Current best: 239.45445418245697, Global best: 239.45445418245697, Runtime: 0.10959 seconds\n",
      "2024/02/22 05:16:37 PM, WARNING, mealpy.evolutionary_based.GA.BaseGA: Stopping criterion with maximum running time/time bound (TB) (seconds) occurred. End program!\n",
      "2024/02/22 05:16:37 PM, INFO, mealpy.evolutionary_based.GA.BaseGA: Solving single objective optimization problem.\n",
      "2024/02/22 05:16:37 PM, INFO, mealpy.evolutionary_based.GA.BaseGA: >>>Problem: Rosenbrock function, Epoch: 1, Current best: 384.15660423228286, Global best: 384.15660423228286, Runtime: 0.10405 seconds\n",
      "2024/02/22 05:16:37 PM, WARNING, mealpy.evolutionary_based.GA.BaseGA: Stopping criterion with maximum running time/time bound (TB) (seconds) occurred. End program!\n",
      "2024/02/22 05:16:37 PM, INFO, mealpy.evolutionary_based.GA.BaseGA: Solving single objective optimization problem.\n"
     ]
    },
    {
     "name": "stdout",
     "output_type": "stream",
     "text": [
      "Algorithm: BaseGA, with params: {'epoch': 100, 'pop_size': 500, 'pc': 0.8, 'pm': 0.05}, trial: 4, best fitness: 239.45445418245697\n",
      "Algorithm: BaseGA, with params: {'epoch': 100, 'pop_size': 500, 'pc': 0.8, 'pm': 0.05}, trial: 5, best fitness: 384.15660423228286\n"
     ]
    },
    {
     "name": "stderr",
     "output_type": "stream",
     "text": [
      "2024/02/22 05:16:38 PM, INFO, mealpy.evolutionary_based.GA.BaseGA: >>>Problem: Rosenbrock function, Epoch: 1, Current best: 143.70120692158594, Global best: 143.70120692158594, Runtime: 0.11350 seconds\n",
      "2024/02/22 05:16:38 PM, WARNING, mealpy.evolutionary_based.GA.BaseGA: Stopping criterion with maximum running time/time bound (TB) (seconds) occurred. End program!\n",
      "2024/02/22 05:16:38 PM, INFO, mealpy.evolutionary_based.GA.BaseGA: Solving single objective optimization problem.\n",
      "2024/02/22 05:16:38 PM, INFO, mealpy.evolutionary_based.GA.BaseGA: >>>Problem: Rosenbrock function, Epoch: 1, Current best: 111.17766653736768, Global best: 111.17766653736768, Runtime: 0.10928 seconds\n",
      "2024/02/22 05:16:38 PM, WARNING, mealpy.evolutionary_based.GA.BaseGA: Stopping criterion with maximum running time/time bound (TB) (seconds) occurred. End program!\n",
      "2024/02/22 05:16:38 PM, INFO, mealpy.evolutionary_based.GA.BaseGA: Solving single objective optimization problem.\n"
     ]
    },
    {
     "name": "stdout",
     "output_type": "stream",
     "text": [
      "Algorithm: BaseGA, with params: {'epoch': 100, 'pop_size': 500, 'pc': 0.8, 'pm': 0.1}, trial: 1, best fitness: 143.70120692158594\n",
      "Algorithm: BaseGA, with params: {'epoch': 100, 'pop_size': 500, 'pc': 0.8, 'pm': 0.1}, trial: 2, best fitness: 111.17766653736768\n"
     ]
    },
    {
     "name": "stderr",
     "output_type": "stream",
     "text": [
      "2024/02/22 05:16:38 PM, INFO, mealpy.evolutionary_based.GA.BaseGA: >>>Problem: Rosenbrock function, Epoch: 1, Current best: 275.1216754814153, Global best: 275.1216754814153, Runtime: 0.10372 seconds\n",
      "2024/02/22 05:16:38 PM, WARNING, mealpy.evolutionary_based.GA.BaseGA: Stopping criterion with maximum running time/time bound (TB) (seconds) occurred. End program!\n",
      "2024/02/22 05:16:38 PM, INFO, mealpy.evolutionary_based.GA.BaseGA: Solving single objective optimization problem.\n",
      "2024/02/22 05:16:38 PM, INFO, mealpy.evolutionary_based.GA.BaseGA: >>>Problem: Rosenbrock function, Epoch: 1, Current best: 339.8964689478399, Global best: 339.8964689478399, Runtime: 0.10125 seconds\n",
      "2024/02/22 05:16:38 PM, WARNING, mealpy.evolutionary_based.GA.BaseGA: Stopping criterion with maximum running time/time bound (TB) (seconds) occurred. End program!\n",
      "2024/02/22 05:16:38 PM, INFO, mealpy.evolutionary_based.GA.BaseGA: Solving single objective optimization problem.\n"
     ]
    },
    {
     "name": "stdout",
     "output_type": "stream",
     "text": [
      "Algorithm: BaseGA, with params: {'epoch': 100, 'pop_size': 500, 'pc': 0.8, 'pm': 0.1}, trial: 3, best fitness: 275.1216754814153\n",
      "Algorithm: BaseGA, with params: {'epoch': 100, 'pop_size': 500, 'pc': 0.8, 'pm': 0.1}, trial: 4, best fitness: 339.8964689478399\n"
     ]
    },
    {
     "name": "stderr",
     "output_type": "stream",
     "text": [
      "2024/02/22 05:16:38 PM, INFO, mealpy.evolutionary_based.GA.BaseGA: >>>Problem: Rosenbrock function, Epoch: 1, Current best: 372.47895416289003, Global best: 372.47895416289003, Runtime: 0.10539 seconds\n",
      "2024/02/22 05:16:38 PM, WARNING, mealpy.evolutionary_based.GA.BaseGA: Stopping criterion with maximum running time/time bound (TB) (seconds) occurred. End program!\n",
      "2024/02/22 05:16:38 PM, INFO, mealpy.evolutionary_based.GA.BaseGA: Solving single objective optimization problem.\n",
      "2024/02/22 05:16:38 PM, INFO, mealpy.evolutionary_based.GA.BaseGA: >>>Problem: Rosenbrock function, Epoch: 1, Current best: 669.2666317988136, Global best: 669.2666317988136, Runtime: 0.10340 seconds\n",
      "2024/02/22 05:16:38 PM, WARNING, mealpy.evolutionary_based.GA.BaseGA: Stopping criterion with maximum running time/time bound (TB) (seconds) occurred. End program!\n",
      "2024/02/22 05:16:38 PM, INFO, mealpy.evolutionary_based.GA.BaseGA: Solving single objective optimization problem.\n"
     ]
    },
    {
     "name": "stdout",
     "output_type": "stream",
     "text": [
      "Algorithm: BaseGA, with params: {'epoch': 100, 'pop_size': 500, 'pc': 0.8, 'pm': 0.1}, trial: 5, best fitness: 372.47895416289003\n",
      "Algorithm: BaseGA, with params: {'epoch': 100, 'pop_size': 500, 'pc': 0.8, 'pm': 0.2}, trial: 1, best fitness: 669.2666317988136\n"
     ]
    },
    {
     "name": "stderr",
     "output_type": "stream",
     "text": [
      "2024/02/22 05:16:38 PM, INFO, mealpy.evolutionary_based.GA.BaseGA: >>>Problem: Rosenbrock function, Epoch: 1, Current best: 232.61600771390783, Global best: 232.61600771390783, Runtime: 0.10477 seconds\n",
      "2024/02/22 05:16:38 PM, WARNING, mealpy.evolutionary_based.GA.BaseGA: Stopping criterion with maximum running time/time bound (TB) (seconds) occurred. End program!\n",
      "2024/02/22 05:16:38 PM, INFO, mealpy.evolutionary_based.GA.BaseGA: Solving single objective optimization problem.\n",
      "2024/02/22 05:16:39 PM, INFO, mealpy.evolutionary_based.GA.BaseGA: >>>Problem: Rosenbrock function, Epoch: 1, Current best: 336.5984358671432, Global best: 336.5984358671432, Runtime: 0.10194 seconds\n",
      "2024/02/22 05:16:39 PM, WARNING, mealpy.evolutionary_based.GA.BaseGA: Stopping criterion with maximum running time/time bound (TB) (seconds) occurred. End program!\n",
      "2024/02/22 05:16:39 PM, INFO, mealpy.evolutionary_based.GA.BaseGA: Solving single objective optimization problem.\n"
     ]
    },
    {
     "name": "stdout",
     "output_type": "stream",
     "text": [
      "Algorithm: BaseGA, with params: {'epoch': 100, 'pop_size': 500, 'pc': 0.8, 'pm': 0.2}, trial: 2, best fitness: 232.61600771390783\n",
      "Algorithm: BaseGA, with params: {'epoch': 100, 'pop_size': 500, 'pc': 0.8, 'pm': 0.2}, trial: 3, best fitness: 336.5984358671432\n"
     ]
    },
    {
     "name": "stderr",
     "output_type": "stream",
     "text": [
      "2024/02/22 05:16:39 PM, INFO, mealpy.evolutionary_based.GA.BaseGA: >>>Problem: Rosenbrock function, Epoch: 1, Current best: 131.88106735419169, Global best: 131.88106735419169, Runtime: 0.10240 seconds\n",
      "2024/02/22 05:16:39 PM, WARNING, mealpy.evolutionary_based.GA.BaseGA: Stopping criterion with maximum running time/time bound (TB) (seconds) occurred. End program!\n",
      "2024/02/22 05:16:39 PM, INFO, mealpy.evolutionary_based.GA.BaseGA: Solving single objective optimization problem.\n",
      "2024/02/22 05:16:39 PM, INFO, mealpy.evolutionary_based.GA.BaseGA: >>>Problem: Rosenbrock function, Epoch: 1, Current best: 215.61417921130078, Global best: 215.61417921130078, Runtime: 0.10628 seconds\n",
      "2024/02/22 05:16:39 PM, WARNING, mealpy.evolutionary_based.GA.BaseGA: Stopping criterion with maximum running time/time bound (TB) (seconds) occurred. End program!\n",
      "2024/02/22 05:16:39 PM, INFO, mealpy.evolutionary_based.GA.BaseGA: Solving single objective optimization problem.\n"
     ]
    },
    {
     "name": "stdout",
     "output_type": "stream",
     "text": [
      "Algorithm: BaseGA, with params: {'epoch': 100, 'pop_size': 500, 'pc': 0.8, 'pm': 0.2}, trial: 4, best fitness: 131.88106735419169\n",
      "Algorithm: BaseGA, with params: {'epoch': 100, 'pop_size': 500, 'pc': 0.8, 'pm': 0.2}, trial: 5, best fitness: 215.61417921130078\n"
     ]
    },
    {
     "name": "stderr",
     "output_type": "stream",
     "text": [
      "2024/02/22 05:16:39 PM, INFO, mealpy.evolutionary_based.GA.BaseGA: >>>Problem: Rosenbrock function, Epoch: 1, Current best: 335.09886378144523, Global best: 335.09886378144523, Runtime: 0.10329 seconds\n",
      "2024/02/22 05:16:39 PM, WARNING, mealpy.evolutionary_based.GA.BaseGA: Stopping criterion with maximum running time/time bound (TB) (seconds) occurred. End program!\n",
      "2024/02/22 05:16:39 PM, INFO, mealpy.evolutionary_based.GA.BaseGA: Solving single objective optimization problem.\n",
      "2024/02/22 05:16:39 PM, INFO, mealpy.evolutionary_based.GA.BaseGA: >>>Problem: Rosenbrock function, Epoch: 1, Current best: 616.7156454467447, Global best: 616.7156454467447, Runtime: 0.13967 seconds\n",
      "2024/02/22 05:16:39 PM, WARNING, mealpy.evolutionary_based.GA.BaseGA: Stopping criterion with maximum running time/time bound (TB) (seconds) occurred. End program!\n",
      "2024/02/22 05:16:39 PM, INFO, mealpy.evolutionary_based.GA.BaseGA: Solving single objective optimization problem.\n"
     ]
    },
    {
     "name": "stdout",
     "output_type": "stream",
     "text": [
      "Algorithm: BaseGA, with params: {'epoch': 100, 'pop_size': 500, 'pc': 0.7, 'pm': 0.01}, trial: 1, best fitness: 335.09886378144523\n",
      "Algorithm: BaseGA, with params: {'epoch': 100, 'pop_size': 500, 'pc': 0.7, 'pm': 0.01}, trial: 2, best fitness: 616.7156454467447\n"
     ]
    },
    {
     "name": "stderr",
     "output_type": "stream",
     "text": [
      "2024/02/22 05:16:39 PM, INFO, mealpy.evolutionary_based.GA.BaseGA: >>>Problem: Rosenbrock function, Epoch: 1, Current best: 75.54949641063754, Global best: 75.54949641063754, Runtime: 0.10268 seconds\n",
      "2024/02/22 05:16:39 PM, WARNING, mealpy.evolutionary_based.GA.BaseGA: Stopping criterion with maximum running time/time bound (TB) (seconds) occurred. End program!\n",
      "2024/02/22 05:16:39 PM, INFO, mealpy.evolutionary_based.GA.BaseGA: Solving single objective optimization problem.\n",
      "2024/02/22 05:16:39 PM, INFO, mealpy.evolutionary_based.GA.BaseGA: >>>Problem: Rosenbrock function, Epoch: 1, Current best: 134.2748543196934, Global best: 134.2748543196934, Runtime: 0.10247 seconds\n",
      "2024/02/22 05:16:39 PM, WARNING, mealpy.evolutionary_based.GA.BaseGA: Stopping criterion with maximum running time/time bound (TB) (seconds) occurred. End program!\n",
      "2024/02/22 05:16:39 PM, INFO, mealpy.evolutionary_based.GA.BaseGA: Solving single objective optimization problem.\n"
     ]
    },
    {
     "name": "stdout",
     "output_type": "stream",
     "text": [
      "Algorithm: BaseGA, with params: {'epoch': 100, 'pop_size': 500, 'pc': 0.7, 'pm': 0.01}, trial: 3, best fitness: 75.54949641063754\n",
      "Algorithm: BaseGA, with params: {'epoch': 100, 'pop_size': 500, 'pc': 0.7, 'pm': 0.01}, trial: 4, best fitness: 134.2748543196934\n"
     ]
    },
    {
     "name": "stderr",
     "output_type": "stream",
     "text": [
      "2024/02/22 05:16:39 PM, INFO, mealpy.evolutionary_based.GA.BaseGA: >>>Problem: Rosenbrock function, Epoch: 1, Current best: 452.3065933632304, Global best: 452.3065933632304, Runtime: 0.10178 seconds\n",
      "2024/02/22 05:16:39 PM, WARNING, mealpy.evolutionary_based.GA.BaseGA: Stopping criterion with maximum running time/time bound (TB) (seconds) occurred. End program!\n",
      "2024/02/22 05:16:39 PM, INFO, mealpy.evolutionary_based.GA.BaseGA: Solving single objective optimization problem.\n",
      "2024/02/22 05:16:40 PM, INFO, mealpy.evolutionary_based.GA.BaseGA: >>>Problem: Rosenbrock function, Epoch: 1, Current best: 518.369305206507, Global best: 518.369305206507, Runtime: 0.10198 seconds\n",
      "2024/02/22 05:16:40 PM, WARNING, mealpy.evolutionary_based.GA.BaseGA: Stopping criterion with maximum running time/time bound (TB) (seconds) occurred. End program!\n",
      "2024/02/22 05:16:40 PM, INFO, mealpy.evolutionary_based.GA.BaseGA: Solving single objective optimization problem.\n"
     ]
    },
    {
     "name": "stdout",
     "output_type": "stream",
     "text": [
      "Algorithm: BaseGA, with params: {'epoch': 100, 'pop_size': 500, 'pc': 0.7, 'pm': 0.01}, trial: 5, best fitness: 452.3065933632304\n",
      "Algorithm: BaseGA, with params: {'epoch': 100, 'pop_size': 500, 'pc': 0.7, 'pm': 0.05}, trial: 1, best fitness: 518.369305206507\n"
     ]
    },
    {
     "name": "stderr",
     "output_type": "stream",
     "text": [
      "2024/02/22 05:16:40 PM, INFO, mealpy.evolutionary_based.GA.BaseGA: >>>Problem: Rosenbrock function, Epoch: 1, Current best: 193.13227301483977, Global best: 193.13227301483977, Runtime: 0.10298 seconds\n",
      "2024/02/22 05:16:40 PM, WARNING, mealpy.evolutionary_based.GA.BaseGA: Stopping criterion with maximum running time/time bound (TB) (seconds) occurred. End program!\n",
      "2024/02/22 05:16:40 PM, INFO, mealpy.evolutionary_based.GA.BaseGA: Solving single objective optimization problem.\n",
      "2024/02/22 05:16:40 PM, INFO, mealpy.evolutionary_based.GA.BaseGA: >>>Problem: Rosenbrock function, Epoch: 1, Current best: 61.59406742702823, Global best: 61.59406742702823, Runtime: 0.10146 seconds\n",
      "2024/02/22 05:16:40 PM, WARNING, mealpy.evolutionary_based.GA.BaseGA: Stopping criterion with maximum running time/time bound (TB) (seconds) occurred. End program!\n",
      "2024/02/22 05:16:40 PM, INFO, mealpy.evolutionary_based.GA.BaseGA: Solving single objective optimization problem.\n"
     ]
    },
    {
     "name": "stdout",
     "output_type": "stream",
     "text": [
      "Algorithm: BaseGA, with params: {'epoch': 100, 'pop_size': 500, 'pc': 0.7, 'pm': 0.05}, trial: 2, best fitness: 193.13227301483977\n",
      "Algorithm: BaseGA, with params: {'epoch': 100, 'pop_size': 500, 'pc': 0.7, 'pm': 0.05}, trial: 3, best fitness: 61.59406742702823\n"
     ]
    },
    {
     "name": "stderr",
     "output_type": "stream",
     "text": [
      "2024/02/22 05:16:40 PM, INFO, mealpy.evolutionary_based.GA.BaseGA: >>>Problem: Rosenbrock function, Epoch: 1, Current best: 570.7977831895766, Global best: 570.7977831895766, Runtime: 0.10349 seconds\n",
      "2024/02/22 05:16:40 PM, WARNING, mealpy.evolutionary_based.GA.BaseGA: Stopping criterion with maximum running time/time bound (TB) (seconds) occurred. End program!\n",
      "2024/02/22 05:16:40 PM, INFO, mealpy.evolutionary_based.GA.BaseGA: Solving single objective optimization problem.\n",
      "2024/02/22 05:16:40 PM, INFO, mealpy.evolutionary_based.GA.BaseGA: >>>Problem: Rosenbrock function, Epoch: 1, Current best: 228.68303869129466, Global best: 228.68303869129466, Runtime: 0.10199 seconds\n",
      "2024/02/22 05:16:40 PM, WARNING, mealpy.evolutionary_based.GA.BaseGA: Stopping criterion with maximum running time/time bound (TB) (seconds) occurred. End program!\n",
      "2024/02/22 05:16:40 PM, INFO, mealpy.evolutionary_based.GA.BaseGA: Solving single objective optimization problem.\n"
     ]
    },
    {
     "name": "stdout",
     "output_type": "stream",
     "text": [
      "Algorithm: BaseGA, with params: {'epoch': 100, 'pop_size': 500, 'pc': 0.7, 'pm': 0.05}, trial: 4, best fitness: 570.7977831895766\n",
      "Algorithm: BaseGA, with params: {'epoch': 100, 'pop_size': 500, 'pc': 0.7, 'pm': 0.05}, trial: 5, best fitness: 228.68303869129466\n"
     ]
    },
    {
     "name": "stderr",
     "output_type": "stream",
     "text": [
      "2024/02/22 05:16:40 PM, INFO, mealpy.evolutionary_based.GA.BaseGA: >>>Problem: Rosenbrock function, Epoch: 1, Current best: 62.27035398054301, Global best: 62.27035398054301, Runtime: 0.10076 seconds\n",
      "2024/02/22 05:16:40 PM, WARNING, mealpy.evolutionary_based.GA.BaseGA: Stopping criterion with maximum running time/time bound (TB) (seconds) occurred. End program!\n",
      "2024/02/22 05:16:40 PM, INFO, mealpy.evolutionary_based.GA.BaseGA: Solving single objective optimization problem.\n",
      "2024/02/22 05:16:40 PM, INFO, mealpy.evolutionary_based.GA.BaseGA: >>>Problem: Rosenbrock function, Epoch: 1, Current best: 264.2903237038479, Global best: 264.2903237038479, Runtime: 0.10283 seconds\n",
      "2024/02/22 05:16:40 PM, WARNING, mealpy.evolutionary_based.GA.BaseGA: Stopping criterion with maximum running time/time bound (TB) (seconds) occurred. End program!\n",
      "2024/02/22 05:16:40 PM, INFO, mealpy.evolutionary_based.GA.BaseGA: Solving single objective optimization problem.\n"
     ]
    },
    {
     "name": "stdout",
     "output_type": "stream",
     "text": [
      "Algorithm: BaseGA, with params: {'epoch': 100, 'pop_size': 500, 'pc': 0.7, 'pm': 0.1}, trial: 1, best fitness: 62.27035398054301\n",
      "Algorithm: BaseGA, with params: {'epoch': 100, 'pop_size': 500, 'pc': 0.7, 'pm': 0.1}, trial: 2, best fitness: 264.2903237038479\n"
     ]
    },
    {
     "name": "stderr",
     "output_type": "stream",
     "text": [
      "2024/02/22 05:16:40 PM, INFO, mealpy.evolutionary_based.GA.BaseGA: >>>Problem: Rosenbrock function, Epoch: 1, Current best: 264.11443600550547, Global best: 264.11443600550547, Runtime: 0.10361 seconds\n",
      "2024/02/22 05:16:40 PM, WARNING, mealpy.evolutionary_based.GA.BaseGA: Stopping criterion with maximum running time/time bound (TB) (seconds) occurred. End program!\n",
      "2024/02/22 05:16:41 PM, INFO, mealpy.evolutionary_based.GA.BaseGA: Solving single objective optimization problem.\n",
      "2024/02/22 05:16:41 PM, INFO, mealpy.evolutionary_based.GA.BaseGA: >>>Problem: Rosenbrock function, Epoch: 1, Current best: 264.6273051917258, Global best: 264.6273051917258, Runtime: 0.10168 seconds\n",
      "2024/02/22 05:16:41 PM, WARNING, mealpy.evolutionary_based.GA.BaseGA: Stopping criterion with maximum running time/time bound (TB) (seconds) occurred. End program!\n",
      "2024/02/22 05:16:41 PM, INFO, mealpy.evolutionary_based.GA.BaseGA: Solving single objective optimization problem.\n"
     ]
    },
    {
     "name": "stdout",
     "output_type": "stream",
     "text": [
      "Algorithm: BaseGA, with params: {'epoch': 100, 'pop_size': 500, 'pc': 0.7, 'pm': 0.1}, trial: 3, best fitness: 264.11443600550547\n",
      "Algorithm: BaseGA, with params: {'epoch': 100, 'pop_size': 500, 'pc': 0.7, 'pm': 0.1}, trial: 4, best fitness: 264.6273051917258\n"
     ]
    },
    {
     "name": "stderr",
     "output_type": "stream",
     "text": [
      "2024/02/22 05:16:41 PM, INFO, mealpy.evolutionary_based.GA.BaseGA: >>>Problem: Rosenbrock function, Epoch: 1, Current best: 332.0999162662443, Global best: 332.0999162662443, Runtime: 0.10471 seconds\n",
      "2024/02/22 05:16:41 PM, WARNING, mealpy.evolutionary_based.GA.BaseGA: Stopping criterion with maximum running time/time bound (TB) (seconds) occurred. End program!\n",
      "2024/02/22 05:16:41 PM, INFO, mealpy.evolutionary_based.GA.BaseGA: Solving single objective optimization problem.\n",
      "2024/02/22 05:16:41 PM, INFO, mealpy.evolutionary_based.GA.BaseGA: >>>Problem: Rosenbrock function, Epoch: 1, Current best: 529.8912241961845, Global best: 529.8912241961845, Runtime: 0.10276 seconds\n",
      "2024/02/22 05:16:41 PM, WARNING, mealpy.evolutionary_based.GA.BaseGA: Stopping criterion with maximum running time/time bound (TB) (seconds) occurred. End program!\n",
      "2024/02/22 05:16:41 PM, INFO, mealpy.evolutionary_based.GA.BaseGA: Solving single objective optimization problem.\n"
     ]
    },
    {
     "name": "stdout",
     "output_type": "stream",
     "text": [
      "Algorithm: BaseGA, with params: {'epoch': 100, 'pop_size': 500, 'pc': 0.7, 'pm': 0.1}, trial: 5, best fitness: 332.0999162662443\n",
      "Algorithm: BaseGA, with params: {'epoch': 100, 'pop_size': 500, 'pc': 0.7, 'pm': 0.2}, trial: 1, best fitness: 529.8912241961845\n"
     ]
    },
    {
     "name": "stderr",
     "output_type": "stream",
     "text": [
      "2024/02/22 05:16:41 PM, INFO, mealpy.evolutionary_based.GA.BaseGA: >>>Problem: Rosenbrock function, Epoch: 1, Current best: 234.6775200897701, Global best: 234.6775200897701, Runtime: 0.10230 seconds\n",
      "2024/02/22 05:16:41 PM, WARNING, mealpy.evolutionary_based.GA.BaseGA: Stopping criterion with maximum running time/time bound (TB) (seconds) occurred. End program!\n",
      "2024/02/22 05:16:41 PM, INFO, mealpy.evolutionary_based.GA.BaseGA: Solving single objective optimization problem.\n",
      "2024/02/22 05:16:41 PM, INFO, mealpy.evolutionary_based.GA.BaseGA: >>>Problem: Rosenbrock function, Epoch: 1, Current best: 89.8144147123831, Global best: 89.8144147123831, Runtime: 0.13810 seconds\n",
      "2024/02/22 05:16:41 PM, WARNING, mealpy.evolutionary_based.GA.BaseGA: Stopping criterion with maximum running time/time bound (TB) (seconds) occurred. End program!\n",
      "2024/02/22 05:16:41 PM, INFO, mealpy.evolutionary_based.GA.BaseGA: Solving single objective optimization problem.\n"
     ]
    },
    {
     "name": "stdout",
     "output_type": "stream",
     "text": [
      "Algorithm: BaseGA, with params: {'epoch': 100, 'pop_size': 500, 'pc': 0.7, 'pm': 0.2}, trial: 2, best fitness: 234.6775200897701\n",
      "Algorithm: BaseGA, with params: {'epoch': 100, 'pop_size': 500, 'pc': 0.7, 'pm': 0.2}, trial: 3, best fitness: 89.8144147123831\n"
     ]
    },
    {
     "name": "stderr",
     "output_type": "stream",
     "text": [
      "2024/02/22 05:16:41 PM, INFO, mealpy.evolutionary_based.GA.BaseGA: >>>Problem: Rosenbrock function, Epoch: 1, Current best: 379.08842642514713, Global best: 379.08842642514713, Runtime: 0.10389 seconds\n",
      "2024/02/22 05:16:41 PM, WARNING, mealpy.evolutionary_based.GA.BaseGA: Stopping criterion with maximum running time/time bound (TB) (seconds) occurred. End program!\n",
      "2024/02/22 05:16:41 PM, INFO, mealpy.evolutionary_based.GA.BaseGA: Solving single objective optimization problem.\n",
      "2024/02/22 05:16:41 PM, INFO, mealpy.evolutionary_based.GA.BaseGA: >>>Problem: Rosenbrock function, Epoch: 1, Current best: 365.0954293895474, Global best: 365.0954293895474, Runtime: 0.10147 seconds\n",
      "2024/02/22 05:16:41 PM, WARNING, mealpy.evolutionary_based.GA.BaseGA: Stopping criterion with maximum running time/time bound (TB) (seconds) occurred. End program!\n",
      "2024/02/22 05:16:41 PM, INFO, mealpy.evolutionary_based.GA.BaseGA: Solving single objective optimization problem.\n",
      "2024/02/22 05:16:41 PM, INFO, mealpy.evolutionary_based.GA.BaseGA: >>>Problem: Rosenbrock function, Epoch: 1, Current best: 2661.7676266337953, Global best: 2661.7676266337953, Runtime: 0.01601 seconds\n",
      "2024/02/22 05:16:41 PM, WARNING, mealpy.evolutionary_based.GA.BaseGA: Stopping criterion with maximum running time/time bound (TB) (seconds) occurred. End program!\n",
      "2024/02/22 05:16:41 PM, INFO, mealpy.evolutionary_based.GA.BaseGA: Solving single objective optimization problem.\n",
      "2024/02/22 05:16:41 PM, INFO, mealpy.evolutionary_based.GA.BaseGA: >>>Problem: Rosenbrock function, Epoch: 1, Current best: 799.0002565461082, Global best: 799.0002565461082, Runtime: 0.01622 seconds\n",
      "2024/02/22 05:16:41 PM, WARNING, mealpy.evolutionary_based.GA.BaseGA: Stopping criterion with maximum running time/time bound (TB) (seconds) occurred. End program!\n",
      "2024/02/22 05:16:41 PM, INFO, mealpy.evolutionary_based.GA.BaseGA: Solving single objective optimization problem.\n",
      "2024/02/22 05:16:42 PM, INFO, mealpy.evolutionary_based.GA.BaseGA: >>>Problem: Rosenbrock function, Epoch: 1, Current best: 1230.934487014522, Global best: 1230.934487014522, Runtime: 0.01425 seconds\n"
     ]
    },
    {
     "name": "stdout",
     "output_type": "stream",
     "text": [
      "Algorithm: BaseGA, with params: {'epoch': 100, 'pop_size': 500, 'pc': 0.7, 'pm': 0.2}, trial: 4, best fitness: 379.08842642514713\n",
      "Algorithm: BaseGA, with params: {'epoch': 100, 'pop_size': 500, 'pc': 0.7, 'pm': 0.2}, trial: 5, best fitness: 365.0954293895474\n",
      "Algorithm: BaseGA, with params: {'epoch': 300, 'pop_size': 100, 'pc': 0.95, 'pm': 0.01}, trial: 1, best fitness: 2661.7676266337953\n",
      "Algorithm: BaseGA, with params: {'epoch': 300, 'pop_size': 100, 'pc': 0.95, 'pm': 0.01}, trial: 2, best fitness: 799.0002565461082\n"
     ]
    },
    {
     "name": "stderr",
     "output_type": "stream",
     "text": [
      "2024/02/22 05:16:42 PM, WARNING, mealpy.evolutionary_based.GA.BaseGA: Stopping criterion with maximum running time/time bound (TB) (seconds) occurred. End program!\n",
      "2024/02/22 05:16:42 PM, INFO, mealpy.evolutionary_based.GA.BaseGA: Solving single objective optimization problem.\n",
      "2024/02/22 05:16:42 PM, INFO, mealpy.evolutionary_based.GA.BaseGA: >>>Problem: Rosenbrock function, Epoch: 1, Current best: 5532.986198489574, Global best: 5532.986198489574, Runtime: 0.01679 seconds\n",
      "2024/02/22 05:16:42 PM, WARNING, mealpy.evolutionary_based.GA.BaseGA: Stopping criterion with maximum running time/time bound (TB) (seconds) occurred. End program!\n",
      "2024/02/22 05:16:42 PM, INFO, mealpy.evolutionary_based.GA.BaseGA: Solving single objective optimization problem.\n",
      "2024/02/22 05:16:42 PM, INFO, mealpy.evolutionary_based.GA.BaseGA: >>>Problem: Rosenbrock function, Epoch: 1, Current best: 66.98540929162479, Global best: 66.98540929162479, Runtime: 0.01419 seconds\n",
      "2024/02/22 05:16:42 PM, WARNING, mealpy.evolutionary_based.GA.BaseGA: Stopping criterion with maximum running time/time bound (TB) (seconds) occurred. End program!\n",
      "2024/02/22 05:16:42 PM, INFO, mealpy.evolutionary_based.GA.BaseGA: Solving single objective optimization problem.\n",
      "2024/02/22 05:16:42 PM, INFO, mealpy.evolutionary_based.GA.BaseGA: >>>Problem: Rosenbrock function, Epoch: 1, Current best: 1177.7715221837377, Global best: 1177.7715221837377, Runtime: 0.01549 seconds\n",
      "2024/02/22 05:16:42 PM, WARNING, mealpy.evolutionary_based.GA.BaseGA: Stopping criterion with maximum running time/time bound (TB) (seconds) occurred. End program!\n",
      "2024/02/22 05:16:42 PM, INFO, mealpy.evolutionary_based.GA.BaseGA: Solving single objective optimization problem.\n",
      "2024/02/22 05:16:42 PM, INFO, mealpy.evolutionary_based.GA.BaseGA: >>>Problem: Rosenbrock function, Epoch: 1, Current best: 755.365584123955, Global best: 755.365584123955, Runtime: 0.01464 seconds\n",
      "2024/02/22 05:16:42 PM, WARNING, mealpy.evolutionary_based.GA.BaseGA: Stopping criterion with maximum running time/time bound (TB) (seconds) occurred. End program!\n",
      "2024/02/22 05:16:42 PM, INFO, mealpy.evolutionary_based.GA.BaseGA: Solving single objective optimization problem.\n",
      "2024/02/22 05:16:42 PM, INFO, mealpy.evolutionary_based.GA.BaseGA: >>>Problem: Rosenbrock function, Epoch: 1, Current best: 2806.112198066862, Global best: 2806.112198066862, Runtime: 0.01453 seconds\n",
      "2024/02/22 05:16:42 PM, WARNING, mealpy.evolutionary_based.GA.BaseGA: Stopping criterion with maximum running time/time bound (TB) (seconds) occurred. End program!\n",
      "2024/02/22 05:16:42 PM, INFO, mealpy.evolutionary_based.GA.BaseGA: Solving single objective optimization problem.\n",
      "2024/02/22 05:16:42 PM, INFO, mealpy.evolutionary_based.GA.BaseGA: >>>Problem: Rosenbrock function, Epoch: 1, Current best: 724.2730143287376, Global best: 724.2730143287376, Runtime: 0.01457 seconds\n",
      "2024/02/22 05:16:42 PM, WARNING, mealpy.evolutionary_based.GA.BaseGA: Stopping criterion with maximum running time/time bound (TB) (seconds) occurred. End program!\n",
      "2024/02/22 05:16:42 PM, INFO, mealpy.evolutionary_based.GA.BaseGA: Solving single objective optimization problem.\n",
      "2024/02/22 05:16:42 PM, INFO, mealpy.evolutionary_based.GA.BaseGA: >>>Problem: Rosenbrock function, Epoch: 1, Current best: 752.5113628394522, Global best: 752.5113628394522, Runtime: 0.01658 seconds\n",
      "2024/02/22 05:16:42 PM, WARNING, mealpy.evolutionary_based.GA.BaseGA: Stopping criterion with maximum running time/time bound (TB) (seconds) occurred. End program!\n",
      "2024/02/22 05:16:42 PM, INFO, mealpy.evolutionary_based.GA.BaseGA: Solving single objective optimization problem.\n",
      "2024/02/22 05:16:42 PM, INFO, mealpy.evolutionary_based.GA.BaseGA: >>>Problem: Rosenbrock function, Epoch: 1, Current best: 3110.0560982198717, Global best: 3110.0560982198717, Runtime: 0.01376 seconds\n",
      "2024/02/22 05:16:42 PM, WARNING, mealpy.evolutionary_based.GA.BaseGA: Stopping criterion with maximum running time/time bound (TB) (seconds) occurred. End program!\n",
      "2024/02/22 05:16:42 PM, INFO, mealpy.evolutionary_based.GA.BaseGA: Solving single objective optimization problem.\n"
     ]
    },
    {
     "name": "stdout",
     "output_type": "stream",
     "text": [
      "Algorithm: BaseGA, with params: {'epoch': 300, 'pop_size': 100, 'pc': 0.95, 'pm': 0.01}, trial: 3, best fitness: 1230.934487014522\n",
      "Algorithm: BaseGA, with params: {'epoch': 300, 'pop_size': 100, 'pc': 0.95, 'pm': 0.01}, trial: 4, best fitness: 5532.986198489574\n",
      "Algorithm: BaseGA, with params: {'epoch': 300, 'pop_size': 100, 'pc': 0.95, 'pm': 0.01}, trial: 5, best fitness: 66.98540929162479\n",
      "Algorithm: BaseGA, with params: {'epoch': 300, 'pop_size': 100, 'pc': 0.95, 'pm': 0.05}, trial: 1, best fitness: 1177.7715221837377\n",
      "Algorithm: BaseGA, with params: {'epoch': 300, 'pop_size': 100, 'pc': 0.95, 'pm': 0.05}, trial: 2, best fitness: 755.365584123955\n",
      "Algorithm: BaseGA, with params: {'epoch': 300, 'pop_size': 100, 'pc': 0.95, 'pm': 0.05}, trial: 3, best fitness: 2806.112198066862\n",
      "Algorithm: BaseGA, with params: {'epoch': 300, 'pop_size': 100, 'pc': 0.95, 'pm': 0.05}, trial: 4, best fitness: 724.2730143287376\n",
      "Algorithm: BaseGA, with params: {'epoch': 300, 'pop_size': 100, 'pc': 0.95, 'pm': 0.05}, trial: 5, best fitness: 752.5113628394522\n",
      "Algorithm: BaseGA, with params: {'epoch': 300, 'pop_size': 100, 'pc': 0.95, 'pm': 0.1}, trial: 1, best fitness: 3110.0560982198717\n"
     ]
    },
    {
     "name": "stderr",
     "output_type": "stream",
     "text": [
      "2024/02/22 05:16:42 PM, INFO, mealpy.evolutionary_based.GA.BaseGA: >>>Problem: Rosenbrock function, Epoch: 1, Current best: 587.0258018118394, Global best: 587.0258018118394, Runtime: 0.01675 seconds\n",
      "2024/02/22 05:16:42 PM, WARNING, mealpy.evolutionary_based.GA.BaseGA: Stopping criterion with maximum running time/time bound (TB) (seconds) occurred. End program!\n",
      "2024/02/22 05:16:42 PM, INFO, mealpy.evolutionary_based.GA.BaseGA: Solving single objective optimization problem.\n",
      "2024/02/22 05:16:42 PM, INFO, mealpy.evolutionary_based.GA.BaseGA: >>>Problem: Rosenbrock function, Epoch: 1, Current best: 434.6506718362645, Global best: 434.6506718362645, Runtime: 0.01403 seconds\n",
      "2024/02/22 05:16:42 PM, WARNING, mealpy.evolutionary_based.GA.BaseGA: Stopping criterion with maximum running time/time bound (TB) (seconds) occurred. End program!\n",
      "2024/02/22 05:16:42 PM, INFO, mealpy.evolutionary_based.GA.BaseGA: Solving single objective optimization problem.\n",
      "2024/02/22 05:16:42 PM, INFO, mealpy.evolutionary_based.GA.BaseGA: >>>Problem: Rosenbrock function, Epoch: 1, Current best: 231.17896337939823, Global best: 231.17896337939823, Runtime: 0.01410 seconds\n",
      "2024/02/22 05:16:42 PM, WARNING, mealpy.evolutionary_based.GA.BaseGA: Stopping criterion with maximum running time/time bound (TB) (seconds) occurred. End program!\n",
      "2024/02/22 05:16:42 PM, INFO, mealpy.evolutionary_based.GA.BaseGA: Solving single objective optimization problem.\n",
      "2024/02/22 05:16:42 PM, INFO, mealpy.evolutionary_based.GA.BaseGA: >>>Problem: Rosenbrock function, Epoch: 1, Current best: 2284.0750569985794, Global best: 2284.0750569985794, Runtime: 0.01925 seconds\n",
      "2024/02/22 05:16:42 PM, WARNING, mealpy.evolutionary_based.GA.BaseGA: Stopping criterion with maximum running time/time bound (TB) (seconds) occurred. End program!\n",
      "2024/02/22 05:16:42 PM, INFO, mealpy.evolutionary_based.GA.BaseGA: Solving single objective optimization problem.\n",
      "2024/02/22 05:16:42 PM, INFO, mealpy.evolutionary_based.GA.BaseGA: >>>Problem: Rosenbrock function, Epoch: 1, Current best: 1963.3551096122924, Global best: 1963.3551096122924, Runtime: 0.01642 seconds\n",
      "2024/02/22 05:16:42 PM, WARNING, mealpy.evolutionary_based.GA.BaseGA: Stopping criterion with maximum running time/time bound (TB) (seconds) occurred. End program!\n",
      "2024/02/22 05:16:42 PM, INFO, mealpy.evolutionary_based.GA.BaseGA: Solving single objective optimization problem.\n",
      "2024/02/22 05:16:42 PM, INFO, mealpy.evolutionary_based.GA.BaseGA: >>>Problem: Rosenbrock function, Epoch: 1, Current best: 1423.2497213986587, Global best: 1423.2497213986587, Runtime: 0.01437 seconds\n",
      "2024/02/22 05:16:42 PM, WARNING, mealpy.evolutionary_based.GA.BaseGA: Stopping criterion with maximum running time/time bound (TB) (seconds) occurred. End program!\n",
      "2024/02/22 05:16:42 PM, INFO, mealpy.evolutionary_based.GA.BaseGA: Solving single objective optimization problem.\n",
      "2024/02/22 05:16:42 PM, INFO, mealpy.evolutionary_based.GA.BaseGA: >>>Problem: Rosenbrock function, Epoch: 1, Current best: 2386.2658464132455, Global best: 2386.2658464132455, Runtime: 0.01608 seconds\n",
      "2024/02/22 05:16:42 PM, WARNING, mealpy.evolutionary_based.GA.BaseGA: Stopping criterion with maximum running time/time bound (TB) (seconds) occurred. End program!\n",
      "2024/02/22 05:16:42 PM, INFO, mealpy.evolutionary_based.GA.BaseGA: Solving single objective optimization problem.\n",
      "2024/02/22 05:16:42 PM, INFO, mealpy.evolutionary_based.GA.BaseGA: >>>Problem: Rosenbrock function, Epoch: 1, Current best: 2096.8926067848215, Global best: 2096.8926067848215, Runtime: 0.01566 seconds\n",
      "2024/02/22 05:16:42 PM, WARNING, mealpy.evolutionary_based.GA.BaseGA: Stopping criterion with maximum running time/time bound (TB) (seconds) occurred. End program!\n",
      "2024/02/22 05:16:42 PM, INFO, mealpy.evolutionary_based.GA.BaseGA: Solving single objective optimization problem.\n",
      "2024/02/22 05:16:42 PM, INFO, mealpy.evolutionary_based.GA.BaseGA: >>>Problem: Rosenbrock function, Epoch: 1, Current best: 3434.1708475425307, Global best: 3434.1708475425307, Runtime: 0.01421 seconds\n"
     ]
    },
    {
     "name": "stdout",
     "output_type": "stream",
     "text": [
      "Algorithm: BaseGA, with params: {'epoch': 300, 'pop_size': 100, 'pc': 0.95, 'pm': 0.1}, trial: 2, best fitness: 587.0258018118394\n",
      "Algorithm: BaseGA, with params: {'epoch': 300, 'pop_size': 100, 'pc': 0.95, 'pm': 0.1}, trial: 3, best fitness: 434.6506718362645\n",
      "Algorithm: BaseGA, with params: {'epoch': 300, 'pop_size': 100, 'pc': 0.95, 'pm': 0.1}, trial: 4, best fitness: 231.17896337939823\n",
      "Algorithm: BaseGA, with params: {'epoch': 300, 'pop_size': 100, 'pc': 0.95, 'pm': 0.1}, trial: 5, best fitness: 2284.0750569985794\n",
      "Algorithm: BaseGA, with params: {'epoch': 300, 'pop_size': 100, 'pc': 0.95, 'pm': 0.2}, trial: 1, best fitness: 1963.3551096122924\n",
      "Algorithm: BaseGA, with params: {'epoch': 300, 'pop_size': 100, 'pc': 0.95, 'pm': 0.2}, trial: 2, best fitness: 1423.2497213986587\n",
      "Algorithm: BaseGA, with params: {'epoch': 300, 'pop_size': 100, 'pc': 0.95, 'pm': 0.2}, trial: 3, best fitness: 2386.2658464132455\n",
      "Algorithm: BaseGA, with params: {'epoch': 300, 'pop_size': 100, 'pc': 0.95, 'pm': 0.2}, trial: 4, best fitness: 2096.8926067848215\n"
     ]
    },
    {
     "name": "stderr",
     "output_type": "stream",
     "text": [
      "2024/02/22 05:16:42 PM, WARNING, mealpy.evolutionary_based.GA.BaseGA: Stopping criterion with maximum running time/time bound (TB) (seconds) occurred. End program!\n",
      "2024/02/22 05:16:42 PM, INFO, mealpy.evolutionary_based.GA.BaseGA: Solving single objective optimization problem.\n",
      "2024/02/22 05:16:42 PM, INFO, mealpy.evolutionary_based.GA.BaseGA: >>>Problem: Rosenbrock function, Epoch: 1, Current best: 949.2551139922159, Global best: 949.2551139922159, Runtime: 0.01527 seconds\n",
      "2024/02/22 05:16:42 PM, WARNING, mealpy.evolutionary_based.GA.BaseGA: Stopping criterion with maximum running time/time bound (TB) (seconds) occurred. End program!\n",
      "2024/02/22 05:16:42 PM, INFO, mealpy.evolutionary_based.GA.BaseGA: Solving single objective optimization problem.\n",
      "2024/02/22 05:16:42 PM, INFO, mealpy.evolutionary_based.GA.BaseGA: >>>Problem: Rosenbrock function, Epoch: 1, Current best: 1224.7058605837583, Global best: 1224.7058605837583, Runtime: 0.01417 seconds\n",
      "2024/02/22 05:16:42 PM, WARNING, mealpy.evolutionary_based.GA.BaseGA: Stopping criterion with maximum running time/time bound (TB) (seconds) occurred. End program!\n",
      "2024/02/22 05:16:42 PM, INFO, mealpy.evolutionary_based.GA.BaseGA: Solving single objective optimization problem.\n",
      "2024/02/22 05:16:42 PM, INFO, mealpy.evolutionary_based.GA.BaseGA: >>>Problem: Rosenbrock function, Epoch: 1, Current best: 1327.5985401912935, Global best: 1327.5985401912935, Runtime: 0.01673 seconds\n",
      "2024/02/22 05:16:42 PM, WARNING, mealpy.evolutionary_based.GA.BaseGA: Stopping criterion with maximum running time/time bound (TB) (seconds) occurred. End program!\n",
      "2024/02/22 05:16:42 PM, INFO, mealpy.evolutionary_based.GA.BaseGA: Solving single objective optimization problem.\n",
      "2024/02/22 05:16:42 PM, INFO, mealpy.evolutionary_based.GA.BaseGA: >>>Problem: Rosenbrock function, Epoch: 1, Current best: 900.7365081573273, Global best: 900.7365081573273, Runtime: 0.01619 seconds\n",
      "2024/02/22 05:16:42 PM, WARNING, mealpy.evolutionary_based.GA.BaseGA: Stopping criterion with maximum running time/time bound (TB) (seconds) occurred. End program!\n",
      "2024/02/22 05:16:42 PM, INFO, mealpy.evolutionary_based.GA.BaseGA: Solving single objective optimization problem.\n",
      "2024/02/22 05:16:42 PM, INFO, mealpy.evolutionary_based.GA.BaseGA: >>>Problem: Rosenbrock function, Epoch: 1, Current best: 1365.357153370444, Global best: 1365.357153370444, Runtime: 0.01557 seconds\n",
      "2024/02/22 05:16:42 PM, WARNING, mealpy.evolutionary_based.GA.BaseGA: Stopping criterion with maximum running time/time bound (TB) (seconds) occurred. End program!\n",
      "2024/02/22 05:16:42 PM, INFO, mealpy.evolutionary_based.GA.BaseGA: Solving single objective optimization problem.\n",
      "2024/02/22 05:16:42 PM, INFO, mealpy.evolutionary_based.GA.BaseGA: >>>Problem: Rosenbrock function, Epoch: 1, Current best: 1357.1264527745398, Global best: 1357.1264527745398, Runtime: 0.01401 seconds\n",
      "2024/02/22 05:16:42 PM, WARNING, mealpy.evolutionary_based.GA.BaseGA: Stopping criterion with maximum running time/time bound (TB) (seconds) occurred. End program!\n",
      "2024/02/22 05:16:42 PM, INFO, mealpy.evolutionary_based.GA.BaseGA: Solving single objective optimization problem.\n",
      "2024/02/22 05:16:42 PM, INFO, mealpy.evolutionary_based.GA.BaseGA: >>>Problem: Rosenbrock function, Epoch: 1, Current best: 1604.7519573512936, Global best: 1604.7519573512936, Runtime: 0.01583 seconds\n",
      "2024/02/22 05:16:42 PM, WARNING, mealpy.evolutionary_based.GA.BaseGA: Stopping criterion with maximum running time/time bound (TB) (seconds) occurred. End program!\n",
      "2024/02/22 05:16:42 PM, INFO, mealpy.evolutionary_based.GA.BaseGA: Solving single objective optimization problem.\n"
     ]
    },
    {
     "name": "stdout",
     "output_type": "stream",
     "text": [
      "Algorithm: BaseGA, with params: {'epoch': 300, 'pop_size': 100, 'pc': 0.95, 'pm': 0.2}, trial: 5, best fitness: 3434.1708475425307\n",
      "Algorithm: BaseGA, with params: {'epoch': 300, 'pop_size': 100, 'pc': 0.9, 'pm': 0.01}, trial: 1, best fitness: 949.2551139922159\n",
      "Algorithm: BaseGA, with params: {'epoch': 300, 'pop_size': 100, 'pc': 0.9, 'pm': 0.01}, trial: 2, best fitness: 1224.7058605837583\n",
      "Algorithm: BaseGA, with params: {'epoch': 300, 'pop_size': 100, 'pc': 0.9, 'pm': 0.01}, trial: 3, best fitness: 1327.5985401912935\n",
      "Algorithm: BaseGA, with params: {'epoch': 300, 'pop_size': 100, 'pc': 0.9, 'pm': 0.01}, trial: 4, best fitness: 900.7365081573273\n",
      "Algorithm: BaseGA, with params: {'epoch': 300, 'pop_size': 100, 'pc': 0.9, 'pm': 0.01}, trial: 5, best fitness: 1365.357153370444\n",
      "Algorithm: BaseGA, with params: {'epoch': 300, 'pop_size': 100, 'pc': 0.9, 'pm': 0.05}, trial: 1, best fitness: 1357.1264527745398\n",
      "Algorithm: BaseGA, with params: {'epoch': 300, 'pop_size': 100, 'pc': 0.9, 'pm': 0.05}, trial: 2, best fitness: 1604.7519573512936\n"
     ]
    },
    {
     "name": "stderr",
     "output_type": "stream",
     "text": [
      "2024/02/22 05:16:42 PM, INFO, mealpy.evolutionary_based.GA.BaseGA: >>>Problem: Rosenbrock function, Epoch: 1, Current best: 495.8132450819225, Global best: 495.8132450819225, Runtime: 0.01560 seconds\n",
      "2024/02/22 05:16:42 PM, WARNING, mealpy.evolutionary_based.GA.BaseGA: Stopping criterion with maximum running time/time bound (TB) (seconds) occurred. End program!\n",
      "2024/02/22 05:16:42 PM, INFO, mealpy.evolutionary_based.GA.BaseGA: Solving single objective optimization problem.\n",
      "2024/02/22 05:16:42 PM, INFO, mealpy.evolutionary_based.GA.BaseGA: >>>Problem: Rosenbrock function, Epoch: 1, Current best: 1056.0615860283624, Global best: 1056.0615860283624, Runtime: 0.01697 seconds\n",
      "2024/02/22 05:16:42 PM, WARNING, mealpy.evolutionary_based.GA.BaseGA: Stopping criterion with maximum running time/time bound (TB) (seconds) occurred. End program!\n",
      "2024/02/22 05:16:42 PM, INFO, mealpy.evolutionary_based.GA.BaseGA: Solving single objective optimization problem.\n",
      "2024/02/22 05:16:42 PM, INFO, mealpy.evolutionary_based.GA.BaseGA: >>>Problem: Rosenbrock function, Epoch: 1, Current best: 1675.54445443223, Global best: 1675.54445443223, Runtime: 0.01574 seconds\n",
      "2024/02/22 05:16:42 PM, WARNING, mealpy.evolutionary_based.GA.BaseGA: Stopping criterion with maximum running time/time bound (TB) (seconds) occurred. End program!\n",
      "2024/02/22 05:16:42 PM, INFO, mealpy.evolutionary_based.GA.BaseGA: Solving single objective optimization problem.\n",
      "2024/02/22 05:16:42 PM, INFO, mealpy.evolutionary_based.GA.BaseGA: >>>Problem: Rosenbrock function, Epoch: 1, Current best: 1528.2792096171163, Global best: 1528.2792096171163, Runtime: 0.01623 seconds\n",
      "2024/02/22 05:16:42 PM, WARNING, mealpy.evolutionary_based.GA.BaseGA: Stopping criterion with maximum running time/time bound (TB) (seconds) occurred. End program!\n",
      "2024/02/22 05:16:42 PM, INFO, mealpy.evolutionary_based.GA.BaseGA: Solving single objective optimization problem.\n",
      "2024/02/22 05:16:42 PM, INFO, mealpy.evolutionary_based.GA.BaseGA: >>>Problem: Rosenbrock function, Epoch: 1, Current best: 1643.8029512620656, Global best: 1643.8029512620656, Runtime: 0.01615 seconds\n",
      "2024/02/22 05:16:42 PM, WARNING, mealpy.evolutionary_based.GA.BaseGA: Stopping criterion with maximum running time/time bound (TB) (seconds) occurred. End program!\n",
      "2024/02/22 05:16:42 PM, INFO, mealpy.evolutionary_based.GA.BaseGA: Solving single objective optimization problem.\n",
      "2024/02/22 05:16:42 PM, INFO, mealpy.evolutionary_based.GA.BaseGA: >>>Problem: Rosenbrock function, Epoch: 1, Current best: 1129.8808334857933, Global best: 1129.8808334857933, Runtime: 0.01618 seconds\n",
      "2024/02/22 05:16:42 PM, WARNING, mealpy.evolutionary_based.GA.BaseGA: Stopping criterion with maximum running time/time bound (TB) (seconds) occurred. End program!\n",
      "2024/02/22 05:16:42 PM, INFO, mealpy.evolutionary_based.GA.BaseGA: Solving single objective optimization problem.\n",
      "2024/02/22 05:16:42 PM, INFO, mealpy.evolutionary_based.GA.BaseGA: >>>Problem: Rosenbrock function, Epoch: 1, Current best: 4768.091479418997, Global best: 4768.091479418997, Runtime: 0.01650 seconds\n",
      "2024/02/22 05:16:42 PM, WARNING, mealpy.evolutionary_based.GA.BaseGA: Stopping criterion with maximum running time/time bound (TB) (seconds) occurred. End program!\n",
      "2024/02/22 05:16:42 PM, INFO, mealpy.evolutionary_based.GA.BaseGA: Solving single objective optimization problem.\n",
      "2024/02/22 05:16:42 PM, INFO, mealpy.evolutionary_based.GA.BaseGA: >>>Problem: Rosenbrock function, Epoch: 1, Current best: 244.94931741296926, Global best: 244.94931741296926, Runtime: 0.01781 seconds\n",
      "2024/02/22 05:16:42 PM, WARNING, mealpy.evolutionary_based.GA.BaseGA: Stopping criterion with maximum running time/time bound (TB) (seconds) occurred. End program!\n",
      "2024/02/22 05:16:42 PM, INFO, mealpy.evolutionary_based.GA.BaseGA: Solving single objective optimization problem.\n",
      "2024/02/22 05:16:42 PM, INFO, mealpy.evolutionary_based.GA.BaseGA: >>>Problem: Rosenbrock function, Epoch: 1, Current best: 219.4288185325946, Global best: 219.4288185325946, Runtime: 0.01359 seconds\n",
      "2024/02/22 05:16:42 PM, WARNING, mealpy.evolutionary_based.GA.BaseGA: Stopping criterion with maximum running time/time bound (TB) (seconds) occurred. End program!\n"
     ]
    },
    {
     "name": "stdout",
     "output_type": "stream",
     "text": [
      "Algorithm: BaseGA, with params: {'epoch': 300, 'pop_size': 100, 'pc': 0.9, 'pm': 0.05}, trial: 3, best fitness: 495.8132450819225\n",
      "Algorithm: BaseGA, with params: {'epoch': 300, 'pop_size': 100, 'pc': 0.9, 'pm': 0.05}, trial: 4, best fitness: 1056.0615860283624\n",
      "Algorithm: BaseGA, with params: {'epoch': 300, 'pop_size': 100, 'pc': 0.9, 'pm': 0.05}, trial: 5, best fitness: 1675.54445443223\n",
      "Algorithm: BaseGA, with params: {'epoch': 300, 'pop_size': 100, 'pc': 0.9, 'pm': 0.1}, trial: 1, best fitness: 1528.2792096171163\n",
      "Algorithm: BaseGA, with params: {'epoch': 300, 'pop_size': 100, 'pc': 0.9, 'pm': 0.1}, trial: 2, best fitness: 1643.8029512620656\n",
      "Algorithm: BaseGA, with params: {'epoch': 300, 'pop_size': 100, 'pc': 0.9, 'pm': 0.1}, trial: 3, best fitness: 1129.8808334857933\n",
      "Algorithm: BaseGA, with params: {'epoch': 300, 'pop_size': 100, 'pc': 0.9, 'pm': 0.1}, trial: 4, best fitness: 4768.091479418997\n",
      "Algorithm: BaseGA, with params: {'epoch': 300, 'pop_size': 100, 'pc': 0.9, 'pm': 0.1}, trial: 5, best fitness: 244.94931741296926\n"
     ]
    },
    {
     "name": "stderr",
     "output_type": "stream",
     "text": [
      "2024/02/22 05:16:42 PM, INFO, mealpy.evolutionary_based.GA.BaseGA: Solving single objective optimization problem.\n",
      "2024/02/22 05:16:42 PM, INFO, mealpy.evolutionary_based.GA.BaseGA: >>>Problem: Rosenbrock function, Epoch: 1, Current best: 1329.610723800888, Global best: 1329.610723800888, Runtime: 0.01616 seconds\n",
      "2024/02/22 05:16:42 PM, WARNING, mealpy.evolutionary_based.GA.BaseGA: Stopping criterion with maximum running time/time bound (TB) (seconds) occurred. End program!\n",
      "2024/02/22 05:16:42 PM, INFO, mealpy.evolutionary_based.GA.BaseGA: Solving single objective optimization problem.\n",
      "2024/02/22 05:16:42 PM, INFO, mealpy.evolutionary_based.GA.BaseGA: >>>Problem: Rosenbrock function, Epoch: 1, Current best: 1767.564749546261, Global best: 1767.564749546261, Runtime: 0.01423 seconds\n",
      "2024/02/22 05:16:42 PM, WARNING, mealpy.evolutionary_based.GA.BaseGA: Stopping criterion with maximum running time/time bound (TB) (seconds) occurred. End program!\n",
      "2024/02/22 05:16:42 PM, INFO, mealpy.evolutionary_based.GA.BaseGA: Solving single objective optimization problem.\n",
      "2024/02/22 05:16:42 PM, INFO, mealpy.evolutionary_based.GA.BaseGA: >>>Problem: Rosenbrock function, Epoch: 1, Current best: 2845.7394898934485, Global best: 2845.7394898934485, Runtime: 0.01650 seconds\n",
      "2024/02/22 05:16:42 PM, WARNING, mealpy.evolutionary_based.GA.BaseGA: Stopping criterion with maximum running time/time bound (TB) (seconds) occurred. End program!\n",
      "2024/02/22 05:16:42 PM, INFO, mealpy.evolutionary_based.GA.BaseGA: Solving single objective optimization problem.\n",
      "2024/02/22 05:16:42 PM, INFO, mealpy.evolutionary_based.GA.BaseGA: >>>Problem: Rosenbrock function, Epoch: 1, Current best: 470.65215548306617, Global best: 470.65215548306617, Runtime: 0.01465 seconds\n",
      "2024/02/22 05:16:42 PM, WARNING, mealpy.evolutionary_based.GA.BaseGA: Stopping criterion with maximum running time/time bound (TB) (seconds) occurred. End program!\n",
      "2024/02/22 05:16:42 PM, INFO, mealpy.evolutionary_based.GA.BaseGA: Solving single objective optimization problem.\n",
      "2024/02/22 05:16:42 PM, INFO, mealpy.evolutionary_based.GA.BaseGA: >>>Problem: Rosenbrock function, Epoch: 1, Current best: 593.529458397336, Global best: 593.529458397336, Runtime: 0.01651 seconds\n",
      "2024/02/22 05:16:42 PM, WARNING, mealpy.evolutionary_based.GA.BaseGA: Stopping criterion with maximum running time/time bound (TB) (seconds) occurred. End program!\n",
      "2024/02/22 05:16:42 PM, INFO, mealpy.evolutionary_based.GA.BaseGA: Solving single objective optimization problem.\n",
      "2024/02/22 05:16:42 PM, INFO, mealpy.evolutionary_based.GA.BaseGA: >>>Problem: Rosenbrock function, Epoch: 1, Current best: 293.89088025893477, Global best: 293.89088025893477, Runtime: 0.01563 seconds\n",
      "2024/02/22 05:16:42 PM, WARNING, mealpy.evolutionary_based.GA.BaseGA: Stopping criterion with maximum running time/time bound (TB) (seconds) occurred. End program!\n",
      "2024/02/22 05:16:42 PM, INFO, mealpy.evolutionary_based.GA.BaseGA: Solving single objective optimization problem.\n",
      "2024/02/22 05:16:42 PM, INFO, mealpy.evolutionary_based.GA.BaseGA: >>>Problem: Rosenbrock function, Epoch: 1, Current best: 327.8608806989422, Global best: 327.8608806989422, Runtime: 0.01458 seconds\n",
      "2024/02/22 05:16:42 PM, WARNING, mealpy.evolutionary_based.GA.BaseGA: Stopping criterion with maximum running time/time bound (TB) (seconds) occurred. End program!\n",
      "2024/02/22 05:16:42 PM, INFO, mealpy.evolutionary_based.GA.BaseGA: Solving single objective optimization problem.\n",
      "2024/02/22 05:16:42 PM, INFO, mealpy.evolutionary_based.GA.BaseGA: >>>Problem: Rosenbrock function, Epoch: 1, Current best: 3176.4872323550953, Global best: 3176.4872323550953, Runtime: 0.01525 seconds\n",
      "2024/02/22 05:16:42 PM, WARNING, mealpy.evolutionary_based.GA.BaseGA: Stopping criterion with maximum running time/time bound (TB) (seconds) occurred. End program!\n",
      "2024/02/22 05:16:42 PM, INFO, mealpy.evolutionary_based.GA.BaseGA: Solving single objective optimization problem.\n"
     ]
    },
    {
     "name": "stdout",
     "output_type": "stream",
     "text": [
      "Algorithm: BaseGA, with params: {'epoch': 300, 'pop_size': 100, 'pc': 0.9, 'pm': 0.2}, trial: 1, best fitness: 219.4288185325946\n",
      "Algorithm: BaseGA, with params: {'epoch': 300, 'pop_size': 100, 'pc': 0.9, 'pm': 0.2}, trial: 2, best fitness: 1329.610723800888\n",
      "Algorithm: BaseGA, with params: {'epoch': 300, 'pop_size': 100, 'pc': 0.9, 'pm': 0.2}, trial: 3, best fitness: 1767.564749546261\n",
      "Algorithm: BaseGA, with params: {'epoch': 300, 'pop_size': 100, 'pc': 0.9, 'pm': 0.2}, trial: 4, best fitness: 2845.7394898934485\n",
      "Algorithm: BaseGA, with params: {'epoch': 300, 'pop_size': 100, 'pc': 0.9, 'pm': 0.2}, trial: 5, best fitness: 470.65215548306617\n",
      "Algorithm: BaseGA, with params: {'epoch': 300, 'pop_size': 100, 'pc': 0.8, 'pm': 0.01}, trial: 1, best fitness: 593.529458397336\n",
      "Algorithm: BaseGA, with params: {'epoch': 300, 'pop_size': 100, 'pc': 0.8, 'pm': 0.01}, trial: 2, best fitness: 293.89088025893477\n",
      "Algorithm: BaseGA, with params: {'epoch': 300, 'pop_size': 100, 'pc': 0.8, 'pm': 0.01}, trial: 3, best fitness: 327.8608806989422\n",
      "Algorithm: BaseGA, with params: {'epoch': 300, 'pop_size': 100, 'pc': 0.8, 'pm': 0.01}, trial: 4, best fitness: 3176.4872323550953\n"
     ]
    },
    {
     "name": "stderr",
     "output_type": "stream",
     "text": [
      "2024/02/22 05:16:42 PM, INFO, mealpy.evolutionary_based.GA.BaseGA: >>>Problem: Rosenbrock function, Epoch: 1, Current best: 260.00946568225373, Global best: 260.00946568225373, Runtime: 0.01468 seconds\n",
      "2024/02/22 05:16:43 PM, WARNING, mealpy.evolutionary_based.GA.BaseGA: Stopping criterion with maximum running time/time bound (TB) (seconds) occurred. End program!\n",
      "2024/02/22 05:16:43 PM, INFO, mealpy.evolutionary_based.GA.BaseGA: Solving single objective optimization problem.\n",
      "2024/02/22 05:16:43 PM, INFO, mealpy.evolutionary_based.GA.BaseGA: >>>Problem: Rosenbrock function, Epoch: 1, Current best: 286.25658752303104, Global best: 286.25658752303104, Runtime: 0.01667 seconds\n",
      "2024/02/22 05:16:43 PM, WARNING, mealpy.evolutionary_based.GA.BaseGA: Stopping criterion with maximum running time/time bound (TB) (seconds) occurred. End program!\n",
      "2024/02/22 05:16:43 PM, INFO, mealpy.evolutionary_based.GA.BaseGA: Solving single objective optimization problem.\n",
      "2024/02/22 05:16:43 PM, INFO, mealpy.evolutionary_based.GA.BaseGA: >>>Problem: Rosenbrock function, Epoch: 1, Current best: 4919.147636723217, Global best: 4919.147636723217, Runtime: 0.01507 seconds\n",
      "2024/02/22 05:16:43 PM, WARNING, mealpy.evolutionary_based.GA.BaseGA: Stopping criterion with maximum running time/time bound (TB) (seconds) occurred. End program!\n",
      "2024/02/22 05:16:43 PM, INFO, mealpy.evolutionary_based.GA.BaseGA: Solving single objective optimization problem.\n",
      "2024/02/22 05:16:43 PM, INFO, mealpy.evolutionary_based.GA.BaseGA: >>>Problem: Rosenbrock function, Epoch: 1, Current best: 1954.6023582592863, Global best: 1954.6023582592863, Runtime: 0.01697 seconds\n",
      "2024/02/22 05:16:43 PM, WARNING, mealpy.evolutionary_based.GA.BaseGA: Stopping criterion with maximum running time/time bound (TB) (seconds) occurred. End program!\n",
      "2024/02/22 05:16:43 PM, INFO, mealpy.evolutionary_based.GA.BaseGA: Solving single objective optimization problem.\n",
      "2024/02/22 05:16:43 PM, INFO, mealpy.evolutionary_based.GA.BaseGA: >>>Problem: Rosenbrock function, Epoch: 1, Current best: 772.0166379987254, Global best: 772.0166379987254, Runtime: 0.01520 seconds\n",
      "2024/02/22 05:16:43 PM, WARNING, mealpy.evolutionary_based.GA.BaseGA: Stopping criterion with maximum running time/time bound (TB) (seconds) occurred. End program!\n",
      "2024/02/22 05:16:43 PM, INFO, mealpy.evolutionary_based.GA.BaseGA: Solving single objective optimization problem.\n",
      "2024/02/22 05:16:43 PM, INFO, mealpy.evolutionary_based.GA.BaseGA: >>>Problem: Rosenbrock function, Epoch: 1, Current best: 176.05274924932382, Global best: 176.05274924932382, Runtime: 0.01493 seconds\n",
      "2024/02/22 05:16:43 PM, WARNING, mealpy.evolutionary_based.GA.BaseGA: Stopping criterion with maximum running time/time bound (TB) (seconds) occurred. End program!\n",
      "2024/02/22 05:16:43 PM, INFO, mealpy.evolutionary_based.GA.BaseGA: Solving single objective optimization problem.\n",
      "2024/02/22 05:16:43 PM, INFO, mealpy.evolutionary_based.GA.BaseGA: >>>Problem: Rosenbrock function, Epoch: 1, Current best: 864.9588234662308, Global best: 864.9588234662308, Runtime: 0.01466 seconds\n",
      "2024/02/22 05:16:43 PM, WARNING, mealpy.evolutionary_based.GA.BaseGA: Stopping criterion with maximum running time/time bound (TB) (seconds) occurred. End program!\n",
      "2024/02/22 05:16:43 PM, INFO, mealpy.evolutionary_based.GA.BaseGA: Solving single objective optimization problem.\n",
      "2024/02/22 05:16:43 PM, INFO, mealpy.evolutionary_based.GA.BaseGA: >>>Problem: Rosenbrock function, Epoch: 1, Current best: 1658.4765933862068, Global best: 1658.4765933862068, Runtime: 0.01543 seconds\n",
      "2024/02/22 05:16:43 PM, WARNING, mealpy.evolutionary_based.GA.BaseGA: Stopping criterion with maximum running time/time bound (TB) (seconds) occurred. End program!\n",
      "2024/02/22 05:16:43 PM, INFO, mealpy.evolutionary_based.GA.BaseGA: Solving single objective optimization problem.\n"
     ]
    },
    {
     "name": "stdout",
     "output_type": "stream",
     "text": [
      "Algorithm: BaseGA, with params: {'epoch': 300, 'pop_size': 100, 'pc': 0.8, 'pm': 0.01}, trial: 5, best fitness: 260.00946568225373\n",
      "Algorithm: BaseGA, with params: {'epoch': 300, 'pop_size': 100, 'pc': 0.8, 'pm': 0.05}, trial: 1, best fitness: 286.25658752303104\n",
      "Algorithm: BaseGA, with params: {'epoch': 300, 'pop_size': 100, 'pc': 0.8, 'pm': 0.05}, trial: 2, best fitness: 4919.147636723217\n",
      "Algorithm: BaseGA, with params: {'epoch': 300, 'pop_size': 100, 'pc': 0.8, 'pm': 0.05}, trial: 3, best fitness: 1954.6023582592863\n",
      "Algorithm: BaseGA, with params: {'epoch': 300, 'pop_size': 100, 'pc': 0.8, 'pm': 0.05}, trial: 4, best fitness: 772.0166379987254\n",
      "Algorithm: BaseGA, with params: {'epoch': 300, 'pop_size': 100, 'pc': 0.8, 'pm': 0.05}, trial: 5, best fitness: 176.05274924932382\n",
      "Algorithm: BaseGA, with params: {'epoch': 300, 'pop_size': 100, 'pc': 0.8, 'pm': 0.1}, trial: 1, best fitness: 864.9588234662308\n",
      "Algorithm: BaseGA, with params: {'epoch': 300, 'pop_size': 100, 'pc': 0.8, 'pm': 0.1}, trial: 2, best fitness: 1658.4765933862068\n"
     ]
    },
    {
     "name": "stderr",
     "output_type": "stream",
     "text": [
      "2024/02/22 05:16:43 PM, INFO, mealpy.evolutionary_based.GA.BaseGA: >>>Problem: Rosenbrock function, Epoch: 1, Current best: 572.2276151461137, Global best: 572.2276151461137, Runtime: 0.01800 seconds\n",
      "2024/02/22 05:16:43 PM, WARNING, mealpy.evolutionary_based.GA.BaseGA: Stopping criterion with maximum running time/time bound (TB) (seconds) occurred. End program!\n",
      "2024/02/22 05:16:43 PM, INFO, mealpy.evolutionary_based.GA.BaseGA: Solving single objective optimization problem.\n",
      "2024/02/22 05:16:43 PM, INFO, mealpy.evolutionary_based.GA.BaseGA: >>>Problem: Rosenbrock function, Epoch: 1, Current best: 275.5374074193359, Global best: 275.5374074193359, Runtime: 0.01448 seconds\n",
      "2024/02/22 05:16:43 PM, WARNING, mealpy.evolutionary_based.GA.BaseGA: Stopping criterion with maximum running time/time bound (TB) (seconds) occurred. End program!\n",
      "2024/02/22 05:16:43 PM, INFO, mealpy.evolutionary_based.GA.BaseGA: Solving single objective optimization problem.\n",
      "2024/02/22 05:16:43 PM, INFO, mealpy.evolutionary_based.GA.BaseGA: >>>Problem: Rosenbrock function, Epoch: 1, Current best: 730.992821179666, Global best: 730.992821179666, Runtime: 0.01490 seconds\n",
      "2024/02/22 05:16:43 PM, WARNING, mealpy.evolutionary_based.GA.BaseGA: Stopping criterion with maximum running time/time bound (TB) (seconds) occurred. End program!\n",
      "2024/02/22 05:16:43 PM, INFO, mealpy.evolutionary_based.GA.BaseGA: Solving single objective optimization problem.\n",
      "2024/02/22 05:16:43 PM, INFO, mealpy.evolutionary_based.GA.BaseGA: >>>Problem: Rosenbrock function, Epoch: 1, Current best: 692.6739498874794, Global best: 692.6739498874794, Runtime: 0.01570 seconds\n",
      "2024/02/22 05:16:43 PM, WARNING, mealpy.evolutionary_based.GA.BaseGA: Stopping criterion with maximum running time/time bound (TB) (seconds) occurred. End program!\n",
      "2024/02/22 05:16:43 PM, INFO, mealpy.evolutionary_based.GA.BaseGA: Solving single objective optimization problem.\n",
      "2024/02/22 05:16:43 PM, INFO, mealpy.evolutionary_based.GA.BaseGA: >>>Problem: Rosenbrock function, Epoch: 1, Current best: 514.7911143438461, Global best: 514.7911143438461, Runtime: 0.01619 seconds\n",
      "2024/02/22 05:16:43 PM, WARNING, mealpy.evolutionary_based.GA.BaseGA: Stopping criterion with maximum running time/time bound (TB) (seconds) occurred. End program!\n",
      "2024/02/22 05:16:43 PM, INFO, mealpy.evolutionary_based.GA.BaseGA: Solving single objective optimization problem.\n",
      "2024/02/22 05:16:43 PM, INFO, mealpy.evolutionary_based.GA.BaseGA: >>>Problem: Rosenbrock function, Epoch: 1, Current best: 2301.465156130818, Global best: 2301.465156130818, Runtime: 0.01651 seconds\n",
      "2024/02/22 05:16:43 PM, WARNING, mealpy.evolutionary_based.GA.BaseGA: Stopping criterion with maximum running time/time bound (TB) (seconds) occurred. End program!\n",
      "2024/02/22 05:16:43 PM, INFO, mealpy.evolutionary_based.GA.BaseGA: Solving single objective optimization problem.\n",
      "2024/02/22 05:16:43 PM, INFO, mealpy.evolutionary_based.GA.BaseGA: >>>Problem: Rosenbrock function, Epoch: 1, Current best: 1653.5006185702282, Global best: 1653.5006185702282, Runtime: 0.01703 seconds\n",
      "2024/02/22 05:16:43 PM, WARNING, mealpy.evolutionary_based.GA.BaseGA: Stopping criterion with maximum running time/time bound (TB) (seconds) occurred. End program!\n",
      "2024/02/22 05:16:43 PM, INFO, mealpy.evolutionary_based.GA.BaseGA: Solving single objective optimization problem.\n",
      "2024/02/22 05:16:43 PM, INFO, mealpy.evolutionary_based.GA.BaseGA: >>>Problem: Rosenbrock function, Epoch: 1, Current best: 1292.1203263868433, Global best: 1292.1203263868433, Runtime: 0.01778 seconds\n",
      "2024/02/22 05:16:43 PM, WARNING, mealpy.evolutionary_based.GA.BaseGA: Stopping criterion with maximum running time/time bound (TB) (seconds) occurred. End program!\n",
      "2024/02/22 05:16:43 PM, INFO, mealpy.evolutionary_based.GA.BaseGA: Solving single objective optimization problem.\n"
     ]
    },
    {
     "name": "stdout",
     "output_type": "stream",
     "text": [
      "Algorithm: BaseGA, with params: {'epoch': 300, 'pop_size': 100, 'pc': 0.8, 'pm': 0.1}, trial: 3, best fitness: 572.2276151461137\n",
      "Algorithm: BaseGA, with params: {'epoch': 300, 'pop_size': 100, 'pc': 0.8, 'pm': 0.1}, trial: 4, best fitness: 275.5374074193359\n",
      "Algorithm: BaseGA, with params: {'epoch': 300, 'pop_size': 100, 'pc': 0.8, 'pm': 0.1}, trial: 5, best fitness: 730.992821179666\n",
      "Algorithm: BaseGA, with params: {'epoch': 300, 'pop_size': 100, 'pc': 0.8, 'pm': 0.2}, trial: 1, best fitness: 692.6739498874794\n",
      "Algorithm: BaseGA, with params: {'epoch': 300, 'pop_size': 100, 'pc': 0.8, 'pm': 0.2}, trial: 2, best fitness: 514.7911143438461\n",
      "Algorithm: BaseGA, with params: {'epoch': 300, 'pop_size': 100, 'pc': 0.8, 'pm': 0.2}, trial: 3, best fitness: 2301.465156130818\n",
      "Algorithm: BaseGA, with params: {'epoch': 300, 'pop_size': 100, 'pc': 0.8, 'pm': 0.2}, trial: 4, best fitness: 1653.5006185702282\n",
      "Algorithm: BaseGA, with params: {'epoch': 300, 'pop_size': 100, 'pc': 0.8, 'pm': 0.2}, trial: 5, best fitness: 1292.1203263868433\n"
     ]
    },
    {
     "name": "stderr",
     "output_type": "stream",
     "text": [
      "2024/02/22 05:16:43 PM, INFO, mealpy.evolutionary_based.GA.BaseGA: >>>Problem: Rosenbrock function, Epoch: 1, Current best: 1955.0284404665845, Global best: 1955.0284404665845, Runtime: 0.01714 seconds\n",
      "2024/02/22 05:16:43 PM, WARNING, mealpy.evolutionary_based.GA.BaseGA: Stopping criterion with maximum running time/time bound (TB) (seconds) occurred. End program!\n",
      "2024/02/22 05:16:43 PM, INFO, mealpy.evolutionary_based.GA.BaseGA: Solving single objective optimization problem.\n",
      "2024/02/22 05:16:43 PM, INFO, mealpy.evolutionary_based.GA.BaseGA: >>>Problem: Rosenbrock function, Epoch: 1, Current best: 2934.879297962518, Global best: 2934.879297962518, Runtime: 0.01437 seconds\n",
      "2024/02/22 05:16:43 PM, WARNING, mealpy.evolutionary_based.GA.BaseGA: Stopping criterion with maximum running time/time bound (TB) (seconds) occurred. End program!\n",
      "2024/02/22 05:16:43 PM, INFO, mealpy.evolutionary_based.GA.BaseGA: Solving single objective optimization problem.\n",
      "2024/02/22 05:16:43 PM, INFO, mealpy.evolutionary_based.GA.BaseGA: >>>Problem: Rosenbrock function, Epoch: 1, Current best: 416.8060962400044, Global best: 416.8060962400044, Runtime: 0.01463 seconds\n",
      "2024/02/22 05:16:43 PM, WARNING, mealpy.evolutionary_based.GA.BaseGA: Stopping criterion with maximum running time/time bound (TB) (seconds) occurred. End program!\n",
      "2024/02/22 05:16:43 PM, INFO, mealpy.evolutionary_based.GA.BaseGA: Solving single objective optimization problem.\n",
      "2024/02/22 05:16:43 PM, INFO, mealpy.evolutionary_based.GA.BaseGA: >>>Problem: Rosenbrock function, Epoch: 1, Current best: 297.9388374114463, Global best: 297.9388374114463, Runtime: 0.01450 seconds\n",
      "2024/02/22 05:16:43 PM, WARNING, mealpy.evolutionary_based.GA.BaseGA: Stopping criterion with maximum running time/time bound (TB) (seconds) occurred. End program!\n",
      "2024/02/22 05:16:43 PM, INFO, mealpy.evolutionary_based.GA.BaseGA: Solving single objective optimization problem.\n",
      "2024/02/22 05:16:43 PM, INFO, mealpy.evolutionary_based.GA.BaseGA: >>>Problem: Rosenbrock function, Epoch: 1, Current best: 3295.504761467444, Global best: 3295.504761467444, Runtime: 0.01406 seconds\n",
      "2024/02/22 05:16:43 PM, WARNING, mealpy.evolutionary_based.GA.BaseGA: Stopping criterion with maximum running time/time bound (TB) (seconds) occurred. End program!\n",
      "2024/02/22 05:16:43 PM, INFO, mealpy.evolutionary_based.GA.BaseGA: Solving single objective optimization problem.\n",
      "2024/02/22 05:16:43 PM, INFO, mealpy.evolutionary_based.GA.BaseGA: >>>Problem: Rosenbrock function, Epoch: 1, Current best: 656.0119776503766, Global best: 656.0119776503766, Runtime: 0.01763 seconds\n",
      "2024/02/22 05:16:43 PM, WARNING, mealpy.evolutionary_based.GA.BaseGA: Stopping criterion with maximum running time/time bound (TB) (seconds) occurred. End program!\n",
      "2024/02/22 05:16:43 PM, INFO, mealpy.evolutionary_based.GA.BaseGA: Solving single objective optimization problem.\n",
      "2024/02/22 05:16:43 PM, INFO, mealpy.evolutionary_based.GA.BaseGA: >>>Problem: Rosenbrock function, Epoch: 1, Current best: 482.32066869140425, Global best: 482.32066869140425, Runtime: 0.01597 seconds\n",
      "2024/02/22 05:16:43 PM, WARNING, mealpy.evolutionary_based.GA.BaseGA: Stopping criterion with maximum running time/time bound (TB) (seconds) occurred. End program!\n",
      "2024/02/22 05:16:43 PM, INFO, mealpy.evolutionary_based.GA.BaseGA: Solving single objective optimization problem.\n",
      "2024/02/22 05:16:43 PM, INFO, mealpy.evolutionary_based.GA.BaseGA: >>>Problem: Rosenbrock function, Epoch: 1, Current best: 464.7099760315278, Global best: 464.7099760315278, Runtime: 0.01691 seconds\n",
      "2024/02/22 05:16:43 PM, WARNING, mealpy.evolutionary_based.GA.BaseGA: Stopping criterion with maximum running time/time bound (TB) (seconds) occurred. End program!\n",
      "2024/02/22 05:16:43 PM, INFO, mealpy.evolutionary_based.GA.BaseGA: Solving single objective optimization problem.\n",
      "2024/02/22 05:16:43 PM, INFO, mealpy.evolutionary_based.GA.BaseGA: >>>Problem: Rosenbrock function, Epoch: 1, Current best: 196.20355138558168, Global best: 196.20355138558168, Runtime: 0.02265 seconds\n",
      "2024/02/22 05:16:43 PM, WARNING, mealpy.evolutionary_based.GA.BaseGA: Stopping criterion with maximum running time/time bound (TB) (seconds) occurred. End program!\n"
     ]
    },
    {
     "name": "stdout",
     "output_type": "stream",
     "text": [
      "Algorithm: BaseGA, with params: {'epoch': 300, 'pop_size': 100, 'pc': 0.7, 'pm': 0.01}, trial: 1, best fitness: 1955.0284404665845\n",
      "Algorithm: BaseGA, with params: {'epoch': 300, 'pop_size': 100, 'pc': 0.7, 'pm': 0.01}, trial: 2, best fitness: 2934.879297962518\n",
      "Algorithm: BaseGA, with params: {'epoch': 300, 'pop_size': 100, 'pc': 0.7, 'pm': 0.01}, trial: 3, best fitness: 416.8060962400044\n",
      "Algorithm: BaseGA, with params: {'epoch': 300, 'pop_size': 100, 'pc': 0.7, 'pm': 0.01}, trial: 4, best fitness: 297.9388374114463\n",
      "Algorithm: BaseGA, with params: {'epoch': 300, 'pop_size': 100, 'pc': 0.7, 'pm': 0.01}, trial: 5, best fitness: 3295.504761467444\n",
      "Algorithm: BaseGA, with params: {'epoch': 300, 'pop_size': 100, 'pc': 0.7, 'pm': 0.05}, trial: 1, best fitness: 656.0119776503766\n",
      "Algorithm: BaseGA, with params: {'epoch': 300, 'pop_size': 100, 'pc': 0.7, 'pm': 0.05}, trial: 2, best fitness: 482.32066869140425\n",
      "Algorithm: BaseGA, with params: {'epoch': 300, 'pop_size': 100, 'pc': 0.7, 'pm': 0.05}, trial: 3, best fitness: 464.7099760315278\n"
     ]
    },
    {
     "name": "stderr",
     "output_type": "stream",
     "text": [
      "2024/02/22 05:16:43 PM, INFO, mealpy.evolutionary_based.GA.BaseGA: Solving single objective optimization problem.\n",
      "2024/02/22 05:16:43 PM, INFO, mealpy.evolutionary_based.GA.BaseGA: >>>Problem: Rosenbrock function, Epoch: 1, Current best: 83.88532003972631, Global best: 83.88532003972631, Runtime: 0.01723 seconds\n",
      "2024/02/22 05:16:43 PM, WARNING, mealpy.evolutionary_based.GA.BaseGA: Stopping criterion with maximum running time/time bound (TB) (seconds) occurred. End program!\n",
      "2024/02/22 05:16:43 PM, INFO, mealpy.evolutionary_based.GA.BaseGA: Solving single objective optimization problem.\n",
      "2024/02/22 05:16:43 PM, INFO, mealpy.evolutionary_based.GA.BaseGA: >>>Problem: Rosenbrock function, Epoch: 1, Current best: 981.2392390154796, Global best: 981.2392390154796, Runtime: 0.01567 seconds\n",
      "2024/02/22 05:16:43 PM, WARNING, mealpy.evolutionary_based.GA.BaseGA: Stopping criterion with maximum running time/time bound (TB) (seconds) occurred. End program!\n",
      "2024/02/22 05:16:43 PM, INFO, mealpy.evolutionary_based.GA.BaseGA: Solving single objective optimization problem.\n",
      "2024/02/22 05:16:43 PM, INFO, mealpy.evolutionary_based.GA.BaseGA: >>>Problem: Rosenbrock function, Epoch: 1, Current best: 557.4560839979382, Global best: 557.4560839979382, Runtime: 0.01781 seconds\n",
      "2024/02/22 05:16:43 PM, WARNING, mealpy.evolutionary_based.GA.BaseGA: Stopping criterion with maximum running time/time bound (TB) (seconds) occurred. End program!\n",
      "2024/02/22 05:16:43 PM, INFO, mealpy.evolutionary_based.GA.BaseGA: Solving single objective optimization problem.\n",
      "2024/02/22 05:16:43 PM, INFO, mealpy.evolutionary_based.GA.BaseGA: >>>Problem: Rosenbrock function, Epoch: 1, Current best: 220.94479938318912, Global best: 220.94479938318912, Runtime: 0.01594 seconds\n",
      "2024/02/22 05:16:43 PM, WARNING, mealpy.evolutionary_based.GA.BaseGA: Stopping criterion with maximum running time/time bound (TB) (seconds) occurred. End program!\n",
      "2024/02/22 05:16:43 PM, INFO, mealpy.evolutionary_based.GA.BaseGA: Solving single objective optimization problem.\n",
      "2024/02/22 05:16:43 PM, INFO, mealpy.evolutionary_based.GA.BaseGA: >>>Problem: Rosenbrock function, Epoch: 1, Current best: 806.338315349238, Global best: 806.338315349238, Runtime: 0.01592 seconds\n",
      "2024/02/22 05:16:43 PM, WARNING, mealpy.evolutionary_based.GA.BaseGA: Stopping criterion with maximum running time/time bound (TB) (seconds) occurred. End program!\n",
      "2024/02/22 05:16:43 PM, INFO, mealpy.evolutionary_based.GA.BaseGA: Solving single objective optimization problem.\n",
      "2024/02/22 05:16:43 PM, INFO, mealpy.evolutionary_based.GA.BaseGA: >>>Problem: Rosenbrock function, Epoch: 1, Current best: 708.3612969794589, Global best: 708.3612969794589, Runtime: 0.01440 seconds\n",
      "2024/02/22 05:16:43 PM, WARNING, mealpy.evolutionary_based.GA.BaseGA: Stopping criterion with maximum running time/time bound (TB) (seconds) occurred. End program!\n",
      "2024/02/22 05:16:43 PM, INFO, mealpy.evolutionary_based.GA.BaseGA: Solving single objective optimization problem.\n",
      "2024/02/22 05:16:43 PM, INFO, mealpy.evolutionary_based.GA.BaseGA: >>>Problem: Rosenbrock function, Epoch: 1, Current best: 2457.3767564558034, Global best: 2457.3767564558034, Runtime: 0.01523 seconds\n",
      "2024/02/22 05:16:43 PM, WARNING, mealpy.evolutionary_based.GA.BaseGA: Stopping criterion with maximum running time/time bound (TB) (seconds) occurred. End program!\n",
      "2024/02/22 05:16:43 PM, INFO, mealpy.evolutionary_based.GA.BaseGA: Solving single objective optimization problem.\n",
      "2024/02/22 05:16:43 PM, INFO, mealpy.evolutionary_based.GA.BaseGA: >>>Problem: Rosenbrock function, Epoch: 1, Current best: 225.4482204072244, Global best: 225.4482204072244, Runtime: 0.01448 seconds\n"
     ]
    },
    {
     "name": "stdout",
     "output_type": "stream",
     "text": [
      "Algorithm: BaseGA, with params: {'epoch': 300, 'pop_size': 100, 'pc': 0.7, 'pm': 0.05}, trial: 4, best fitness: 196.20355138558168\n",
      "Algorithm: BaseGA, with params: {'epoch': 300, 'pop_size': 100, 'pc': 0.7, 'pm': 0.05}, trial: 5, best fitness: 83.88532003972631\n",
      "Algorithm: BaseGA, with params: {'epoch': 300, 'pop_size': 100, 'pc': 0.7, 'pm': 0.1}, trial: 1, best fitness: 981.2392390154796\n",
      "Algorithm: BaseGA, with params: {'epoch': 300, 'pop_size': 100, 'pc': 0.7, 'pm': 0.1}, trial: 2, best fitness: 557.4560839979382\n",
      "Algorithm: BaseGA, with params: {'epoch': 300, 'pop_size': 100, 'pc': 0.7, 'pm': 0.1}, trial: 3, best fitness: 220.94479938318912\n",
      "Algorithm: BaseGA, with params: {'epoch': 300, 'pop_size': 100, 'pc': 0.7, 'pm': 0.1}, trial: 4, best fitness: 806.338315349238\n",
      "Algorithm: BaseGA, with params: {'epoch': 300, 'pop_size': 100, 'pc': 0.7, 'pm': 0.1}, trial: 5, best fitness: 708.3612969794589\n",
      "Algorithm: BaseGA, with params: {'epoch': 300, 'pop_size': 100, 'pc': 0.7, 'pm': 0.2}, trial: 1, best fitness: 2457.3767564558034\n"
     ]
    },
    {
     "name": "stderr",
     "output_type": "stream",
     "text": [
      "2024/02/22 05:16:43 PM, WARNING, mealpy.evolutionary_based.GA.BaseGA: Stopping criterion with maximum running time/time bound (TB) (seconds) occurred. End program!\n",
      "2024/02/22 05:16:43 PM, INFO, mealpy.evolutionary_based.GA.BaseGA: Solving single objective optimization problem.\n",
      "2024/02/22 05:16:43 PM, INFO, mealpy.evolutionary_based.GA.BaseGA: >>>Problem: Rosenbrock function, Epoch: 1, Current best: 329.82026230614593, Global best: 329.82026230614593, Runtime: 0.01407 seconds\n",
      "2024/02/22 05:16:43 PM, WARNING, mealpy.evolutionary_based.GA.BaseGA: Stopping criterion with maximum running time/time bound (TB) (seconds) occurred. End program!\n",
      "2024/02/22 05:16:43 PM, INFO, mealpy.evolutionary_based.GA.BaseGA: Solving single objective optimization problem.\n",
      "2024/02/22 05:16:43 PM, INFO, mealpy.evolutionary_based.GA.BaseGA: >>>Problem: Rosenbrock function, Epoch: 1, Current best: 3012.265364366889, Global best: 3012.265364366889, Runtime: 0.01405 seconds\n",
      "2024/02/22 05:16:43 PM, WARNING, mealpy.evolutionary_based.GA.BaseGA: Stopping criterion with maximum running time/time bound (TB) (seconds) occurred. End program!\n",
      "2024/02/22 05:16:43 PM, INFO, mealpy.evolutionary_based.GA.BaseGA: Solving single objective optimization problem.\n",
      "2024/02/22 05:16:43 PM, INFO, mealpy.evolutionary_based.GA.BaseGA: >>>Problem: Rosenbrock function, Epoch: 1, Current best: 5143.756823905251, Global best: 5143.756823905251, Runtime: 0.01489 seconds\n",
      "2024/02/22 05:16:43 PM, WARNING, mealpy.evolutionary_based.GA.BaseGA: Stopping criterion with maximum running time/time bound (TB) (seconds) occurred. End program!\n",
      "2024/02/22 05:16:43 PM, INFO, mealpy.evolutionary_based.GA.BaseGA: Solving single objective optimization problem.\n",
      "2024/02/22 05:16:43 PM, INFO, mealpy.evolutionary_based.GA.BaseGA: >>>Problem: Rosenbrock function, Epoch: 1, Current best: 34.89107682212853, Global best: 34.89107682212853, Runtime: 0.05272 seconds\n",
      "2024/02/22 05:16:43 PM, WARNING, mealpy.evolutionary_based.GA.BaseGA: Stopping criterion with maximum running time/time bound (TB) (seconds) occurred. End program!\n",
      "2024/02/22 05:16:43 PM, INFO, mealpy.evolutionary_based.GA.BaseGA: Solving single objective optimization problem.\n",
      "2024/02/22 05:16:43 PM, INFO, mealpy.evolutionary_based.GA.BaseGA: >>>Problem: Rosenbrock function, Epoch: 1, Current best: 263.6249772147643, Global best: 263.6249772147643, Runtime: 0.05337 seconds\n"
     ]
    },
    {
     "name": "stdout",
     "output_type": "stream",
     "text": [
      "Algorithm: BaseGA, with params: {'epoch': 300, 'pop_size': 100, 'pc': 0.7, 'pm': 0.2}, trial: 2, best fitness: 225.4482204072244\n",
      "Algorithm: BaseGA, with params: {'epoch': 300, 'pop_size': 100, 'pc': 0.7, 'pm': 0.2}, trial: 3, best fitness: 329.82026230614593\n",
      "Algorithm: BaseGA, with params: {'epoch': 300, 'pop_size': 100, 'pc': 0.7, 'pm': 0.2}, trial: 4, best fitness: 3012.265364366889\n",
      "Algorithm: BaseGA, with params: {'epoch': 300, 'pop_size': 100, 'pc': 0.7, 'pm': 0.2}, trial: 5, best fitness: 5143.756823905251\n",
      "Algorithm: BaseGA, with params: {'epoch': 300, 'pop_size': 300, 'pc': 0.95, 'pm': 0.01}, trial: 1, best fitness: 34.89107682212853\n"
     ]
    },
    {
     "name": "stderr",
     "output_type": "stream",
     "text": [
      "2024/02/22 05:16:43 PM, WARNING, mealpy.evolutionary_based.GA.BaseGA: Stopping criterion with maximum running time/time bound (TB) (seconds) occurred. End program!\n",
      "2024/02/22 05:16:43 PM, INFO, mealpy.evolutionary_based.GA.BaseGA: Solving single objective optimization problem.\n",
      "2024/02/22 05:16:44 PM, INFO, mealpy.evolutionary_based.GA.BaseGA: >>>Problem: Rosenbrock function, Epoch: 1, Current best: 324.8141908700468, Global best: 324.8141908700468, Runtime: 0.05768 seconds\n",
      "2024/02/22 05:16:44 PM, WARNING, mealpy.evolutionary_based.GA.BaseGA: Stopping criterion with maximum running time/time bound (TB) (seconds) occurred. End program!\n",
      "2024/02/22 05:16:44 PM, INFO, mealpy.evolutionary_based.GA.BaseGA: Solving single objective optimization problem.\n",
      "2024/02/22 05:16:44 PM, INFO, mealpy.evolutionary_based.GA.BaseGA: >>>Problem: Rosenbrock function, Epoch: 1, Current best: 126.86938279205435, Global best: 126.86938279205435, Runtime: 0.05343 seconds\n",
      "2024/02/22 05:16:44 PM, WARNING, mealpy.evolutionary_based.GA.BaseGA: Stopping criterion with maximum running time/time bound (TB) (seconds) occurred. End program!\n",
      "2024/02/22 05:16:44 PM, INFO, mealpy.evolutionary_based.GA.BaseGA: Solving single objective optimization problem.\n"
     ]
    },
    {
     "name": "stdout",
     "output_type": "stream",
     "text": [
      "Algorithm: BaseGA, with params: {'epoch': 300, 'pop_size': 300, 'pc': 0.95, 'pm': 0.01}, trial: 2, best fitness: 263.6249772147643\n",
      "Algorithm: BaseGA, with params: {'epoch': 300, 'pop_size': 300, 'pc': 0.95, 'pm': 0.01}, trial: 3, best fitness: 324.8141908700468\n",
      "Algorithm: BaseGA, with params: {'epoch': 300, 'pop_size': 300, 'pc': 0.95, 'pm': 0.01}, trial: 4, best fitness: 126.86938279205435\n"
     ]
    },
    {
     "name": "stderr",
     "output_type": "stream",
     "text": [
      "2024/02/22 05:16:44 PM, INFO, mealpy.evolutionary_based.GA.BaseGA: >>>Problem: Rosenbrock function, Epoch: 1, Current best: 458.6333050543817, Global best: 458.6333050543817, Runtime: 0.05372 seconds\n",
      "2024/02/22 05:16:44 PM, WARNING, mealpy.evolutionary_based.GA.BaseGA: Stopping criterion with maximum running time/time bound (TB) (seconds) occurred. End program!\n",
      "2024/02/22 05:16:44 PM, INFO, mealpy.evolutionary_based.GA.BaseGA: Solving single objective optimization problem.\n",
      "2024/02/22 05:16:44 PM, INFO, mealpy.evolutionary_based.GA.BaseGA: >>>Problem: Rosenbrock function, Epoch: 1, Current best: 728.5732594750413, Global best: 728.5732594750413, Runtime: 0.05352 seconds\n",
      "2024/02/22 05:16:44 PM, WARNING, mealpy.evolutionary_based.GA.BaseGA: Stopping criterion with maximum running time/time bound (TB) (seconds) occurred. End program!\n",
      "2024/02/22 05:16:44 PM, INFO, mealpy.evolutionary_based.GA.BaseGA: Solving single objective optimization problem.\n",
      "2024/02/22 05:16:44 PM, INFO, mealpy.evolutionary_based.GA.BaseGA: >>>Problem: Rosenbrock function, Epoch: 1, Current best: 793.1090588157641, Global best: 793.1090588157641, Runtime: 0.05446 seconds\n",
      "2024/02/22 05:16:44 PM, WARNING, mealpy.evolutionary_based.GA.BaseGA: Stopping criterion with maximum running time/time bound (TB) (seconds) occurred. End program!\n",
      "2024/02/22 05:16:44 PM, INFO, mealpy.evolutionary_based.GA.BaseGA: Solving single objective optimization problem.\n"
     ]
    },
    {
     "name": "stdout",
     "output_type": "stream",
     "text": [
      "Algorithm: BaseGA, with params: {'epoch': 300, 'pop_size': 300, 'pc': 0.95, 'pm': 0.01}, trial: 5, best fitness: 458.6333050543817\n",
      "Algorithm: BaseGA, with params: {'epoch': 300, 'pop_size': 300, 'pc': 0.95, 'pm': 0.05}, trial: 1, best fitness: 728.5732594750413\n",
      "Algorithm: BaseGA, with params: {'epoch': 300, 'pop_size': 300, 'pc': 0.95, 'pm': 0.05}, trial: 2, best fitness: 793.1090588157641\n"
     ]
    },
    {
     "name": "stderr",
     "output_type": "stream",
     "text": [
      "2024/02/22 05:16:44 PM, INFO, mealpy.evolutionary_based.GA.BaseGA: >>>Problem: Rosenbrock function, Epoch: 1, Current best: 227.396067157344, Global best: 227.396067157344, Runtime: 0.05506 seconds\n",
      "2024/02/22 05:16:44 PM, WARNING, mealpy.evolutionary_based.GA.BaseGA: Stopping criterion with maximum running time/time bound (TB) (seconds) occurred. End program!\n",
      "2024/02/22 05:16:44 PM, INFO, mealpy.evolutionary_based.GA.BaseGA: Solving single objective optimization problem.\n",
      "2024/02/22 05:16:44 PM, INFO, mealpy.evolutionary_based.GA.BaseGA: >>>Problem: Rosenbrock function, Epoch: 1, Current best: 415.2709062864441, Global best: 415.2709062864441, Runtime: 0.05428 seconds\n",
      "2024/02/22 05:16:44 PM, WARNING, mealpy.evolutionary_based.GA.BaseGA: Stopping criterion with maximum running time/time bound (TB) (seconds) occurred. End program!\n",
      "2024/02/22 05:16:44 PM, INFO, mealpy.evolutionary_based.GA.BaseGA: Solving single objective optimization problem.\n",
      "2024/02/22 05:16:44 PM, INFO, mealpy.evolutionary_based.GA.BaseGA: >>>Problem: Rosenbrock function, Epoch: 1, Current best: 212.79976021759177, Global best: 212.79976021759177, Runtime: 0.05738 seconds\n",
      "2024/02/22 05:16:44 PM, WARNING, mealpy.evolutionary_based.GA.BaseGA: Stopping criterion with maximum running time/time bound (TB) (seconds) occurred. End program!\n",
      "2024/02/22 05:16:44 PM, INFO, mealpy.evolutionary_based.GA.BaseGA: Solving single objective optimization problem.\n"
     ]
    },
    {
     "name": "stdout",
     "output_type": "stream",
     "text": [
      "Algorithm: BaseGA, with params: {'epoch': 300, 'pop_size': 300, 'pc': 0.95, 'pm': 0.05}, trial: 3, best fitness: 227.396067157344\n",
      "Algorithm: BaseGA, with params: {'epoch': 300, 'pop_size': 300, 'pc': 0.95, 'pm': 0.05}, trial: 4, best fitness: 415.2709062864441\n",
      "Algorithm: BaseGA, with params: {'epoch': 300, 'pop_size': 300, 'pc': 0.95, 'pm': 0.05}, trial: 5, best fitness: 212.79976021759177\n"
     ]
    },
    {
     "name": "stderr",
     "output_type": "stream",
     "text": [
      "2024/02/22 05:16:44 PM, INFO, mealpy.evolutionary_based.GA.BaseGA: >>>Problem: Rosenbrock function, Epoch: 1, Current best: 540.31495966182, Global best: 540.31495966182, Runtime: 0.05527 seconds\n",
      "2024/02/22 05:16:44 PM, WARNING, mealpy.evolutionary_based.GA.BaseGA: Stopping criterion with maximum running time/time bound (TB) (seconds) occurred. End program!\n",
      "2024/02/22 05:16:44 PM, INFO, mealpy.evolutionary_based.GA.BaseGA: Solving single objective optimization problem.\n",
      "2024/02/22 05:16:44 PM, INFO, mealpy.evolutionary_based.GA.BaseGA: >>>Problem: Rosenbrock function, Epoch: 1, Current best: 828.403910145026, Global best: 828.403910145026, Runtime: 0.05309 seconds\n",
      "2024/02/22 05:16:44 PM, WARNING, mealpy.evolutionary_based.GA.BaseGA: Stopping criterion with maximum running time/time bound (TB) (seconds) occurred. End program!\n",
      "2024/02/22 05:16:44 PM, INFO, mealpy.evolutionary_based.GA.BaseGA: Solving single objective optimization problem.\n",
      "2024/02/22 05:16:44 PM, INFO, mealpy.evolutionary_based.GA.BaseGA: >>>Problem: Rosenbrock function, Epoch: 1, Current best: 178.00675159765618, Global best: 178.00675159765618, Runtime: 0.05632 seconds\n",
      "2024/02/22 05:16:44 PM, WARNING, mealpy.evolutionary_based.GA.BaseGA: Stopping criterion with maximum running time/time bound (TB) (seconds) occurred. End program!\n",
      "2024/02/22 05:16:44 PM, INFO, mealpy.evolutionary_based.GA.BaseGA: Solving single objective optimization problem.\n"
     ]
    },
    {
     "name": "stdout",
     "output_type": "stream",
     "text": [
      "Algorithm: BaseGA, with params: {'epoch': 300, 'pop_size': 300, 'pc': 0.95, 'pm': 0.1}, trial: 1, best fitness: 540.31495966182\n",
      "Algorithm: BaseGA, with params: {'epoch': 300, 'pop_size': 300, 'pc': 0.95, 'pm': 0.1}, trial: 2, best fitness: 828.403910145026\n",
      "Algorithm: BaseGA, with params: {'epoch': 300, 'pop_size': 300, 'pc': 0.95, 'pm': 0.1}, trial: 3, best fitness: 178.00675159765618\n"
     ]
    },
    {
     "name": "stderr",
     "output_type": "stream",
     "text": [
      "2024/02/22 05:16:44 PM, INFO, mealpy.evolutionary_based.GA.BaseGA: >>>Problem: Rosenbrock function, Epoch: 1, Current best: 484.06898058459524, Global best: 484.06898058459524, Runtime: 0.06941 seconds\n",
      "2024/02/22 05:16:44 PM, WARNING, mealpy.evolutionary_based.GA.BaseGA: Stopping criterion with maximum running time/time bound (TB) (seconds) occurred. End program!\n",
      "2024/02/22 05:16:44 PM, INFO, mealpy.evolutionary_based.GA.BaseGA: Solving single objective optimization problem.\n",
      "2024/02/22 05:16:44 PM, INFO, mealpy.evolutionary_based.GA.BaseGA: >>>Problem: Rosenbrock function, Epoch: 1, Current best: 236.16347571845347, Global best: 236.16347571845347, Runtime: 0.05973 seconds\n",
      "2024/02/22 05:16:44 PM, WARNING, mealpy.evolutionary_based.GA.BaseGA: Stopping criterion with maximum running time/time bound (TB) (seconds) occurred. End program!\n",
      "2024/02/22 05:16:44 PM, INFO, mealpy.evolutionary_based.GA.BaseGA: Solving single objective optimization problem.\n",
      "2024/02/22 05:16:45 PM, INFO, mealpy.evolutionary_based.GA.BaseGA: >>>Problem: Rosenbrock function, Epoch: 1, Current best: 498.7821140252245, Global best: 498.7821140252245, Runtime: 0.05712 seconds\n",
      "2024/02/22 05:16:45 PM, WARNING, mealpy.evolutionary_based.GA.BaseGA: Stopping criterion with maximum running time/time bound (TB) (seconds) occurred. End program!\n",
      "2024/02/22 05:16:45 PM, INFO, mealpy.evolutionary_based.GA.BaseGA: Solving single objective optimization problem.\n"
     ]
    },
    {
     "name": "stdout",
     "output_type": "stream",
     "text": [
      "Algorithm: BaseGA, with params: {'epoch': 300, 'pop_size': 300, 'pc': 0.95, 'pm': 0.1}, trial: 4, best fitness: 484.06898058459524\n",
      "Algorithm: BaseGA, with params: {'epoch': 300, 'pop_size': 300, 'pc': 0.95, 'pm': 0.1}, trial: 5, best fitness: 236.16347571845347\n",
      "Algorithm: BaseGA, with params: {'epoch': 300, 'pop_size': 300, 'pc': 0.95, 'pm': 0.2}, trial: 1, best fitness: 498.7821140252245\n"
     ]
    },
    {
     "name": "stderr",
     "output_type": "stream",
     "text": [
      "2024/02/22 05:16:45 PM, INFO, mealpy.evolutionary_based.GA.BaseGA: >>>Problem: Rosenbrock function, Epoch: 1, Current best: 280.5346703277537, Global best: 280.5346703277537, Runtime: 0.05650 seconds\n",
      "2024/02/22 05:16:45 PM, WARNING, mealpy.evolutionary_based.GA.BaseGA: Stopping criterion with maximum running time/time bound (TB) (seconds) occurred. End program!\n",
      "2024/02/22 05:16:45 PM, INFO, mealpy.evolutionary_based.GA.BaseGA: Solving single objective optimization problem.\n",
      "2024/02/22 05:16:45 PM, INFO, mealpy.evolutionary_based.GA.BaseGA: >>>Problem: Rosenbrock function, Epoch: 1, Current best: 279.8281084052571, Global best: 279.8281084052571, Runtime: 0.05815 seconds\n",
      "2024/02/22 05:16:45 PM, WARNING, mealpy.evolutionary_based.GA.BaseGA: Stopping criterion with maximum running time/time bound (TB) (seconds) occurred. End program!\n",
      "2024/02/22 05:16:45 PM, INFO, mealpy.evolutionary_based.GA.BaseGA: Solving single objective optimization problem.\n",
      "2024/02/22 05:16:45 PM, INFO, mealpy.evolutionary_based.GA.BaseGA: >>>Problem: Rosenbrock function, Epoch: 1, Current best: 320.0563587310446, Global best: 320.0563587310446, Runtime: 0.05414 seconds\n",
      "2024/02/22 05:16:45 PM, WARNING, mealpy.evolutionary_based.GA.BaseGA: Stopping criterion with maximum running time/time bound (TB) (seconds) occurred. End program!\n",
      "2024/02/22 05:16:45 PM, INFO, mealpy.evolutionary_based.GA.BaseGA: Solving single objective optimization problem.\n"
     ]
    },
    {
     "name": "stdout",
     "output_type": "stream",
     "text": [
      "Algorithm: BaseGA, with params: {'epoch': 300, 'pop_size': 300, 'pc': 0.95, 'pm': 0.2}, trial: 2, best fitness: 280.5346703277537\n",
      "Algorithm: BaseGA, with params: {'epoch': 300, 'pop_size': 300, 'pc': 0.95, 'pm': 0.2}, trial: 3, best fitness: 279.8281084052571\n",
      "Algorithm: BaseGA, with params: {'epoch': 300, 'pop_size': 300, 'pc': 0.95, 'pm': 0.2}, trial: 4, best fitness: 320.0563587310446\n"
     ]
    },
    {
     "name": "stderr",
     "output_type": "stream",
     "text": [
      "2024/02/22 05:16:45 PM, INFO, mealpy.evolutionary_based.GA.BaseGA: >>>Problem: Rosenbrock function, Epoch: 1, Current best: 182.9117086816478, Global best: 182.9117086816478, Runtime: 0.06021 seconds\n",
      "2024/02/22 05:16:45 PM, WARNING, mealpy.evolutionary_based.GA.BaseGA: Stopping criterion with maximum running time/time bound (TB) (seconds) occurred. End program!\n",
      "2024/02/22 05:16:45 PM, INFO, mealpy.evolutionary_based.GA.BaseGA: Solving single objective optimization problem.\n",
      "2024/02/22 05:16:45 PM, INFO, mealpy.evolutionary_based.GA.BaseGA: >>>Problem: Rosenbrock function, Epoch: 1, Current best: 921.6434473212664, Global best: 921.6434473212664, Runtime: 0.05286 seconds\n",
      "2024/02/22 05:16:45 PM, WARNING, mealpy.evolutionary_based.GA.BaseGA: Stopping criterion with maximum running time/time bound (TB) (seconds) occurred. End program!\n",
      "2024/02/22 05:16:45 PM, INFO, mealpy.evolutionary_based.GA.BaseGA: Solving single objective optimization problem.\n",
      "2024/02/22 05:16:45 PM, INFO, mealpy.evolutionary_based.GA.BaseGA: >>>Problem: Rosenbrock function, Epoch: 1, Current best: 522.2604716775461, Global best: 522.2604716775461, Runtime: 0.05385 seconds\n",
      "2024/02/22 05:16:45 PM, WARNING, mealpy.evolutionary_based.GA.BaseGA: Stopping criterion with maximum running time/time bound (TB) (seconds) occurred. End program!\n",
      "2024/02/22 05:16:45 PM, INFO, mealpy.evolutionary_based.GA.BaseGA: Solving single objective optimization problem.\n",
      "2024/02/22 05:16:45 PM, INFO, mealpy.evolutionary_based.GA.BaseGA: >>>Problem: Rosenbrock function, Epoch: 1, Current best: 413.9803610078459, Global best: 413.9803610078459, Runtime: 0.05484 seconds\n"
     ]
    },
    {
     "name": "stdout",
     "output_type": "stream",
     "text": [
      "Algorithm: BaseGA, with params: {'epoch': 300, 'pop_size': 300, 'pc': 0.95, 'pm': 0.2}, trial: 5, best fitness: 182.9117086816478\n",
      "Algorithm: BaseGA, with params: {'epoch': 300, 'pop_size': 300, 'pc': 0.9, 'pm': 0.01}, trial: 1, best fitness: 921.6434473212664\n",
      "Algorithm: BaseGA, with params: {'epoch': 300, 'pop_size': 300, 'pc': 0.9, 'pm': 0.01}, trial: 2, best fitness: 522.2604716775461\n"
     ]
    },
    {
     "name": "stderr",
     "output_type": "stream",
     "text": [
      "2024/02/22 05:16:45 PM, WARNING, mealpy.evolutionary_based.GA.BaseGA: Stopping criterion with maximum running time/time bound (TB) (seconds) occurred. End program!\n",
      "2024/02/22 05:16:45 PM, INFO, mealpy.evolutionary_based.GA.BaseGA: Solving single objective optimization problem.\n",
      "2024/02/22 05:16:45 PM, INFO, mealpy.evolutionary_based.GA.BaseGA: >>>Problem: Rosenbrock function, Epoch: 1, Current best: 157.69840265129153, Global best: 157.69840265129153, Runtime: 0.05359 seconds\n",
      "2024/02/22 05:16:45 PM, WARNING, mealpy.evolutionary_based.GA.BaseGA: Stopping criterion with maximum running time/time bound (TB) (seconds) occurred. End program!\n",
      "2024/02/22 05:16:45 PM, INFO, mealpy.evolutionary_based.GA.BaseGA: Solving single objective optimization problem.\n",
      "2024/02/22 05:16:45 PM, INFO, mealpy.evolutionary_based.GA.BaseGA: >>>Problem: Rosenbrock function, Epoch: 1, Current best: 567.6054818445419, Global best: 567.6054818445419, Runtime: 0.05304 seconds\n",
      "2024/02/22 05:16:45 PM, WARNING, mealpy.evolutionary_based.GA.BaseGA: Stopping criterion with maximum running time/time bound (TB) (seconds) occurred. End program!\n",
      "2024/02/22 05:16:45 PM, INFO, mealpy.evolutionary_based.GA.BaseGA: Solving single objective optimization problem.\n"
     ]
    },
    {
     "name": "stdout",
     "output_type": "stream",
     "text": [
      "Algorithm: BaseGA, with params: {'epoch': 300, 'pop_size': 300, 'pc': 0.9, 'pm': 0.01}, trial: 3, best fitness: 413.9803610078459\n",
      "Algorithm: BaseGA, with params: {'epoch': 300, 'pop_size': 300, 'pc': 0.9, 'pm': 0.01}, trial: 4, best fitness: 157.69840265129153\n",
      "Algorithm: BaseGA, with params: {'epoch': 300, 'pop_size': 300, 'pc': 0.9, 'pm': 0.01}, trial: 5, best fitness: 567.6054818445419\n"
     ]
    },
    {
     "name": "stderr",
     "output_type": "stream",
     "text": [
      "2024/02/22 05:16:45 PM, INFO, mealpy.evolutionary_based.GA.BaseGA: >>>Problem: Rosenbrock function, Epoch: 1, Current best: 209.508787460712, Global best: 209.508787460712, Runtime: 0.05417 seconds\n",
      "2024/02/22 05:16:45 PM, WARNING, mealpy.evolutionary_based.GA.BaseGA: Stopping criterion with maximum running time/time bound (TB) (seconds) occurred. End program!\n",
      "2024/02/22 05:16:45 PM, INFO, mealpy.evolutionary_based.GA.BaseGA: Solving single objective optimization problem.\n",
      "2024/02/22 05:16:45 PM, INFO, mealpy.evolutionary_based.GA.BaseGA: >>>Problem: Rosenbrock function, Epoch: 1, Current best: 152.4598081234483, Global best: 152.4598081234483, Runtime: 0.05435 seconds\n",
      "2024/02/22 05:16:45 PM, WARNING, mealpy.evolutionary_based.GA.BaseGA: Stopping criterion with maximum running time/time bound (TB) (seconds) occurred. End program!\n",
      "2024/02/22 05:16:45 PM, INFO, mealpy.evolutionary_based.GA.BaseGA: Solving single objective optimization problem.\n",
      "2024/02/22 05:16:45 PM, INFO, mealpy.evolutionary_based.GA.BaseGA: >>>Problem: Rosenbrock function, Epoch: 1, Current best: 474.9668562446234, Global best: 474.9668562446234, Runtime: 0.05312 seconds\n",
      "2024/02/22 05:16:45 PM, WARNING, mealpy.evolutionary_based.GA.BaseGA: Stopping criterion with maximum running time/time bound (TB) (seconds) occurred. End program!\n",
      "2024/02/22 05:16:45 PM, INFO, mealpy.evolutionary_based.GA.BaseGA: Solving single objective optimization problem.\n"
     ]
    },
    {
     "name": "stdout",
     "output_type": "stream",
     "text": [
      "Algorithm: BaseGA, with params: {'epoch': 300, 'pop_size': 300, 'pc': 0.9, 'pm': 0.05}, trial: 1, best fitness: 209.508787460712\n",
      "Algorithm: BaseGA, with params: {'epoch': 300, 'pop_size': 300, 'pc': 0.9, 'pm': 0.05}, trial: 2, best fitness: 152.4598081234483\n",
      "Algorithm: BaseGA, with params: {'epoch': 300, 'pop_size': 300, 'pc': 0.9, 'pm': 0.05}, trial: 3, best fitness: 474.9668562446234\n"
     ]
    },
    {
     "name": "stderr",
     "output_type": "stream",
     "text": [
      "2024/02/22 05:16:46 PM, INFO, mealpy.evolutionary_based.GA.BaseGA: >>>Problem: Rosenbrock function, Epoch: 1, Current best: 102.70323455937655, Global best: 102.70323455937655, Runtime: 0.05732 seconds\n",
      "2024/02/22 05:16:46 PM, WARNING, mealpy.evolutionary_based.GA.BaseGA: Stopping criterion with maximum running time/time bound (TB) (seconds) occurred. End program!\n",
      "2024/02/22 05:16:46 PM, INFO, mealpy.evolutionary_based.GA.BaseGA: Solving single objective optimization problem.\n",
      "2024/02/22 05:16:46 PM, INFO, mealpy.evolutionary_based.GA.BaseGA: >>>Problem: Rosenbrock function, Epoch: 1, Current best: 330.94937047412253, Global best: 330.94937047412253, Runtime: 0.05496 seconds\n",
      "2024/02/22 05:16:46 PM, WARNING, mealpy.evolutionary_based.GA.BaseGA: Stopping criterion with maximum running time/time bound (TB) (seconds) occurred. End program!\n",
      "2024/02/22 05:16:46 PM, INFO, mealpy.evolutionary_based.GA.BaseGA: Solving single objective optimization problem.\n",
      "2024/02/22 05:16:46 PM, INFO, mealpy.evolutionary_based.GA.BaseGA: >>>Problem: Rosenbrock function, Epoch: 1, Current best: 308.1076843836721, Global best: 308.1076843836721, Runtime: 0.05484 seconds\n",
      "2024/02/22 05:16:46 PM, WARNING, mealpy.evolutionary_based.GA.BaseGA: Stopping criterion with maximum running time/time bound (TB) (seconds) occurred. End program!\n",
      "2024/02/22 05:16:46 PM, INFO, mealpy.evolutionary_based.GA.BaseGA: Solving single objective optimization problem.\n"
     ]
    },
    {
     "name": "stdout",
     "output_type": "stream",
     "text": [
      "Algorithm: BaseGA, with params: {'epoch': 300, 'pop_size': 300, 'pc': 0.9, 'pm': 0.05}, trial: 4, best fitness: 102.70323455937655\n",
      "Algorithm: BaseGA, with params: {'epoch': 300, 'pop_size': 300, 'pc': 0.9, 'pm': 0.05}, trial: 5, best fitness: 330.94937047412253\n",
      "Algorithm: BaseGA, with params: {'epoch': 300, 'pop_size': 300, 'pc': 0.9, 'pm': 0.1}, trial: 1, best fitness: 308.1076843836721\n"
     ]
    },
    {
     "name": "stderr",
     "output_type": "stream",
     "text": [
      "2024/02/22 05:16:46 PM, INFO, mealpy.evolutionary_based.GA.BaseGA: >>>Problem: Rosenbrock function, Epoch: 1, Current best: 358.56064861702146, Global best: 358.56064861702146, Runtime: 0.05516 seconds\n",
      "2024/02/22 05:16:46 PM, WARNING, mealpy.evolutionary_based.GA.BaseGA: Stopping criterion with maximum running time/time bound (TB) (seconds) occurred. End program!\n",
      "2024/02/22 05:16:46 PM, INFO, mealpy.evolutionary_based.GA.BaseGA: Solving single objective optimization problem.\n",
      "2024/02/22 05:16:46 PM, INFO, mealpy.evolutionary_based.GA.BaseGA: >>>Problem: Rosenbrock function, Epoch: 1, Current best: 1124.6002521457463, Global best: 1124.6002521457463, Runtime: 0.05612 seconds\n",
      "2024/02/22 05:16:46 PM, WARNING, mealpy.evolutionary_based.GA.BaseGA: Stopping criterion with maximum running time/time bound (TB) (seconds) occurred. End program!\n",
      "2024/02/22 05:16:46 PM, INFO, mealpy.evolutionary_based.GA.BaseGA: Solving single objective optimization problem.\n",
      "2024/02/22 05:16:46 PM, INFO, mealpy.evolutionary_based.GA.BaseGA: >>>Problem: Rosenbrock function, Epoch: 1, Current best: 301.49405116493995, Global best: 301.49405116493995, Runtime: 0.05974 seconds\n",
      "2024/02/22 05:16:46 PM, WARNING, mealpy.evolutionary_based.GA.BaseGA: Stopping criterion with maximum running time/time bound (TB) (seconds) occurred. End program!\n",
      "2024/02/22 05:16:46 PM, INFO, mealpy.evolutionary_based.GA.BaseGA: Solving single objective optimization problem.\n"
     ]
    },
    {
     "name": "stdout",
     "output_type": "stream",
     "text": [
      "Algorithm: BaseGA, with params: {'epoch': 300, 'pop_size': 300, 'pc': 0.9, 'pm': 0.1}, trial: 2, best fitness: 358.56064861702146\n",
      "Algorithm: BaseGA, with params: {'epoch': 300, 'pop_size': 300, 'pc': 0.9, 'pm': 0.1}, trial: 3, best fitness: 1124.6002521457463\n",
      "Algorithm: BaseGA, with params: {'epoch': 300, 'pop_size': 300, 'pc': 0.9, 'pm': 0.1}, trial: 4, best fitness: 301.49405116493995\n"
     ]
    },
    {
     "name": "stderr",
     "output_type": "stream",
     "text": [
      "2024/02/22 05:16:46 PM, INFO, mealpy.evolutionary_based.GA.BaseGA: >>>Problem: Rosenbrock function, Epoch: 1, Current best: 192.01711308138522, Global best: 192.01711308138522, Runtime: 0.05858 seconds\n",
      "2024/02/22 05:16:46 PM, WARNING, mealpy.evolutionary_based.GA.BaseGA: Stopping criterion with maximum running time/time bound (TB) (seconds) occurred. End program!\n",
      "2024/02/22 05:16:46 PM, INFO, mealpy.evolutionary_based.GA.BaseGA: Solving single objective optimization problem.\n",
      "2024/02/22 05:16:46 PM, INFO, mealpy.evolutionary_based.GA.BaseGA: >>>Problem: Rosenbrock function, Epoch: 1, Current best: 127.59197094902191, Global best: 127.59197094902191, Runtime: 0.05517 seconds\n",
      "2024/02/22 05:16:46 PM, WARNING, mealpy.evolutionary_based.GA.BaseGA: Stopping criterion with maximum running time/time bound (TB) (seconds) occurred. End program!\n",
      "2024/02/22 05:16:46 PM, INFO, mealpy.evolutionary_based.GA.BaseGA: Solving single objective optimization problem.\n",
      "2024/02/22 05:16:46 PM, INFO, mealpy.evolutionary_based.GA.BaseGA: >>>Problem: Rosenbrock function, Epoch: 1, Current best: 439.7422433250074, Global best: 439.7422433250074, Runtime: 0.05658 seconds\n",
      "2024/02/22 05:16:46 PM, WARNING, mealpy.evolutionary_based.GA.BaseGA: Stopping criterion with maximum running time/time bound (TB) (seconds) occurred. End program!\n",
      "2024/02/22 05:16:46 PM, INFO, mealpy.evolutionary_based.GA.BaseGA: Solving single objective optimization problem.\n"
     ]
    },
    {
     "name": "stdout",
     "output_type": "stream",
     "text": [
      "Algorithm: BaseGA, with params: {'epoch': 300, 'pop_size': 300, 'pc': 0.9, 'pm': 0.1}, trial: 5, best fitness: 192.01711308138522\n",
      "Algorithm: BaseGA, with params: {'epoch': 300, 'pop_size': 300, 'pc': 0.9, 'pm': 0.2}, trial: 1, best fitness: 127.59197094902191\n",
      "Algorithm: BaseGA, with params: {'epoch': 300, 'pop_size': 300, 'pc': 0.9, 'pm': 0.2}, trial: 2, best fitness: 439.7422433250074\n"
     ]
    },
    {
     "name": "stderr",
     "output_type": "stream",
     "text": [
      "2024/02/22 05:16:46 PM, INFO, mealpy.evolutionary_based.GA.BaseGA: >>>Problem: Rosenbrock function, Epoch: 1, Current best: 139.1268711093103, Global best: 139.1268711093103, Runtime: 0.05917 seconds\n",
      "2024/02/22 05:16:46 PM, WARNING, mealpy.evolutionary_based.GA.BaseGA: Stopping criterion with maximum running time/time bound (TB) (seconds) occurred. End program!\n",
      "2024/02/22 05:16:46 PM, INFO, mealpy.evolutionary_based.GA.BaseGA: Solving single objective optimization problem.\n",
      "2024/02/22 05:16:46 PM, INFO, mealpy.evolutionary_based.GA.BaseGA: >>>Problem: Rosenbrock function, Epoch: 1, Current best: 493.3391283463685, Global best: 493.3391283463685, Runtime: 0.05682 seconds\n",
      "2024/02/22 05:16:46 PM, WARNING, mealpy.evolutionary_based.GA.BaseGA: Stopping criterion with maximum running time/time bound (TB) (seconds) occurred. End program!\n",
      "2024/02/22 05:16:46 PM, INFO, mealpy.evolutionary_based.GA.BaseGA: Solving single objective optimization problem.\n",
      "2024/02/22 05:16:46 PM, INFO, mealpy.evolutionary_based.GA.BaseGA: >>>Problem: Rosenbrock function, Epoch: 1, Current best: 1623.8359050495692, Global best: 1623.8359050495692, Runtime: 0.05445 seconds\n",
      "2024/02/22 05:16:46 PM, WARNING, mealpy.evolutionary_based.GA.BaseGA: Stopping criterion with maximum running time/time bound (TB) (seconds) occurred. End program!\n",
      "2024/02/22 05:16:46 PM, INFO, mealpy.evolutionary_based.GA.BaseGA: Solving single objective optimization problem.\n"
     ]
    },
    {
     "name": "stdout",
     "output_type": "stream",
     "text": [
      "Algorithm: BaseGA, with params: {'epoch': 300, 'pop_size': 300, 'pc': 0.9, 'pm': 0.2}, trial: 3, best fitness: 139.1268711093103\n",
      "Algorithm: BaseGA, with params: {'epoch': 300, 'pop_size': 300, 'pc': 0.9, 'pm': 0.2}, trial: 4, best fitness: 493.3391283463685\n",
      "Algorithm: BaseGA, with params: {'epoch': 300, 'pop_size': 300, 'pc': 0.9, 'pm': 0.2}, trial: 5, best fitness: 1623.8359050495692\n"
     ]
    },
    {
     "name": "stderr",
     "output_type": "stream",
     "text": [
      "2024/02/22 05:16:46 PM, INFO, mealpy.evolutionary_based.GA.BaseGA: >>>Problem: Rosenbrock function, Epoch: 1, Current best: 749.4403671991672, Global best: 749.4403671991672, Runtime: 0.06149 seconds\n",
      "2024/02/22 05:16:46 PM, WARNING, mealpy.evolutionary_based.GA.BaseGA: Stopping criterion with maximum running time/time bound (TB) (seconds) occurred. End program!\n",
      "2024/02/22 05:16:46 PM, INFO, mealpy.evolutionary_based.GA.BaseGA: Solving single objective optimization problem.\n",
      "2024/02/22 05:16:46 PM, INFO, mealpy.evolutionary_based.GA.BaseGA: >>>Problem: Rosenbrock function, Epoch: 1, Current best: 374.89004699986083, Global best: 374.89004699986083, Runtime: 0.05441 seconds\n",
      "2024/02/22 05:16:46 PM, WARNING, mealpy.evolutionary_based.GA.BaseGA: Stopping criterion with maximum running time/time bound (TB) (seconds) occurred. End program!\n",
      "2024/02/22 05:16:46 PM, INFO, mealpy.evolutionary_based.GA.BaseGA: Solving single objective optimization problem.\n",
      "2024/02/22 05:16:47 PM, INFO, mealpy.evolutionary_based.GA.BaseGA: >>>Problem: Rosenbrock function, Epoch: 1, Current best: 315.07508995549296, Global best: 315.07508995549296, Runtime: 0.05706 seconds\n",
      "2024/02/22 05:16:47 PM, WARNING, mealpy.evolutionary_based.GA.BaseGA: Stopping criterion with maximum running time/time bound (TB) (seconds) occurred. End program!\n",
      "2024/02/22 05:16:47 PM, INFO, mealpy.evolutionary_based.GA.BaseGA: Solving single objective optimization problem.\n"
     ]
    },
    {
     "name": "stdout",
     "output_type": "stream",
     "text": [
      "Algorithm: BaseGA, with params: {'epoch': 300, 'pop_size': 300, 'pc': 0.8, 'pm': 0.01}, trial: 1, best fitness: 749.4403671991672\n",
      "Algorithm: BaseGA, with params: {'epoch': 300, 'pop_size': 300, 'pc': 0.8, 'pm': 0.01}, trial: 2, best fitness: 374.89004699986083\n",
      "Algorithm: BaseGA, with params: {'epoch': 300, 'pop_size': 300, 'pc': 0.8, 'pm': 0.01}, trial: 3, best fitness: 315.07508995549296\n"
     ]
    },
    {
     "name": "stderr",
     "output_type": "stream",
     "text": [
      "2024/02/22 05:16:47 PM, INFO, mealpy.evolutionary_based.GA.BaseGA: >>>Problem: Rosenbrock function, Epoch: 1, Current best: 229.89588557810114, Global best: 229.89588557810114, Runtime: 0.05587 seconds\n",
      "2024/02/22 05:16:47 PM, WARNING, mealpy.evolutionary_based.GA.BaseGA: Stopping criterion with maximum running time/time bound (TB) (seconds) occurred. End program!\n",
      "2024/02/22 05:16:47 PM, INFO, mealpy.evolutionary_based.GA.BaseGA: Solving single objective optimization problem.\n",
      "2024/02/22 05:16:47 PM, INFO, mealpy.evolutionary_based.GA.BaseGA: >>>Problem: Rosenbrock function, Epoch: 1, Current best: 178.74235628982558, Global best: 178.74235628982558, Runtime: 0.05739 seconds\n",
      "2024/02/22 05:16:47 PM, WARNING, mealpy.evolutionary_based.GA.BaseGA: Stopping criterion with maximum running time/time bound (TB) (seconds) occurred. End program!\n",
      "2024/02/22 05:16:47 PM, INFO, mealpy.evolutionary_based.GA.BaseGA: Solving single objective optimization problem.\n",
      "2024/02/22 05:16:47 PM, INFO, mealpy.evolutionary_based.GA.BaseGA: >>>Problem: Rosenbrock function, Epoch: 1, Current best: 335.5455993416951, Global best: 335.5455993416951, Runtime: 0.05465 seconds\n",
      "2024/02/22 05:16:47 PM, WARNING, mealpy.evolutionary_based.GA.BaseGA: Stopping criterion with maximum running time/time bound (TB) (seconds) occurred. End program!\n",
      "2024/02/22 05:16:47 PM, INFO, mealpy.evolutionary_based.GA.BaseGA: Solving single objective optimization problem.\n"
     ]
    },
    {
     "name": "stdout",
     "output_type": "stream",
     "text": [
      "Algorithm: BaseGA, with params: {'epoch': 300, 'pop_size': 300, 'pc': 0.8, 'pm': 0.01}, trial: 4, best fitness: 229.89588557810114\n",
      "Algorithm: BaseGA, with params: {'epoch': 300, 'pop_size': 300, 'pc': 0.8, 'pm': 0.01}, trial: 5, best fitness: 178.74235628982558\n",
      "Algorithm: BaseGA, with params: {'epoch': 300, 'pop_size': 300, 'pc': 0.8, 'pm': 0.05}, trial: 1, best fitness: 335.5455993416951\n"
     ]
    },
    {
     "name": "stderr",
     "output_type": "stream",
     "text": [
      "2024/02/22 05:16:47 PM, INFO, mealpy.evolutionary_based.GA.BaseGA: >>>Problem: Rosenbrock function, Epoch: 1, Current best: 79.95579592384706, Global best: 79.95579592384706, Runtime: 0.05968 seconds\n",
      "2024/02/22 05:16:47 PM, WARNING, mealpy.evolutionary_based.GA.BaseGA: Stopping criterion with maximum running time/time bound (TB) (seconds) occurred. End program!\n",
      "2024/02/22 05:16:47 PM, INFO, mealpy.evolutionary_based.GA.BaseGA: Solving single objective optimization problem.\n",
      "2024/02/22 05:16:47 PM, INFO, mealpy.evolutionary_based.GA.BaseGA: >>>Problem: Rosenbrock function, Epoch: 1, Current best: 430.728700662945, Global best: 430.728700662945, Runtime: 0.05277 seconds\n",
      "2024/02/22 05:16:47 PM, WARNING, mealpy.evolutionary_based.GA.BaseGA: Stopping criterion with maximum running time/time bound (TB) (seconds) occurred. End program!\n",
      "2024/02/22 05:16:47 PM, INFO, mealpy.evolutionary_based.GA.BaseGA: Solving single objective optimization problem.\n",
      "2024/02/22 05:16:47 PM, INFO, mealpy.evolutionary_based.GA.BaseGA: >>>Problem: Rosenbrock function, Epoch: 1, Current best: 267.6452666778655, Global best: 267.6452666778655, Runtime: 0.05627 seconds\n",
      "2024/02/22 05:16:47 PM, WARNING, mealpy.evolutionary_based.GA.BaseGA: Stopping criterion with maximum running time/time bound (TB) (seconds) occurred. End program!\n",
      "2024/02/22 05:16:47 PM, INFO, mealpy.evolutionary_based.GA.BaseGA: Solving single objective optimization problem.\n"
     ]
    },
    {
     "name": "stdout",
     "output_type": "stream",
     "text": [
      "Algorithm: BaseGA, with params: {'epoch': 300, 'pop_size': 300, 'pc': 0.8, 'pm': 0.05}, trial: 2, best fitness: 79.95579592384706\n",
      "Algorithm: BaseGA, with params: {'epoch': 300, 'pop_size': 300, 'pc': 0.8, 'pm': 0.05}, trial: 3, best fitness: 430.728700662945\n",
      "Algorithm: BaseGA, with params: {'epoch': 300, 'pop_size': 300, 'pc': 0.8, 'pm': 0.05}, trial: 4, best fitness: 267.6452666778655\n"
     ]
    },
    {
     "name": "stderr",
     "output_type": "stream",
     "text": [
      "2024/02/22 05:16:47 PM, INFO, mealpy.evolutionary_based.GA.BaseGA: >>>Problem: Rosenbrock function, Epoch: 1, Current best: 130.88027613235965, Global best: 130.88027613235965, Runtime: 0.05658 seconds\n",
      "2024/02/22 05:16:47 PM, WARNING, mealpy.evolutionary_based.GA.BaseGA: Stopping criterion with maximum running time/time bound (TB) (seconds) occurred. End program!\n",
      "2024/02/22 05:16:47 PM, INFO, mealpy.evolutionary_based.GA.BaseGA: Solving single objective optimization problem.\n",
      "2024/02/22 05:16:47 PM, INFO, mealpy.evolutionary_based.GA.BaseGA: >>>Problem: Rosenbrock function, Epoch: 1, Current best: 20.698118840084888, Global best: 20.698118840084888, Runtime: 0.05639 seconds\n",
      "2024/02/22 05:16:47 PM, WARNING, mealpy.evolutionary_based.GA.BaseGA: Stopping criterion with maximum running time/time bound (TB) (seconds) occurred. End program!\n",
      "2024/02/22 05:16:47 PM, INFO, mealpy.evolutionary_based.GA.BaseGA: Solving single objective optimization problem.\n",
      "2024/02/22 05:16:47 PM, INFO, mealpy.evolutionary_based.GA.BaseGA: >>>Problem: Rosenbrock function, Epoch: 1, Current best: 254.7200280724578, Global best: 254.7200280724578, Runtime: 0.05476 seconds\n",
      "2024/02/22 05:16:47 PM, WARNING, mealpy.evolutionary_based.GA.BaseGA: Stopping criterion with maximum running time/time bound (TB) (seconds) occurred. End program!\n",
      "2024/02/22 05:16:47 PM, INFO, mealpy.evolutionary_based.GA.BaseGA: Solving single objective optimization problem.\n"
     ]
    },
    {
     "name": "stdout",
     "output_type": "stream",
     "text": [
      "Algorithm: BaseGA, with params: {'epoch': 300, 'pop_size': 300, 'pc': 0.8, 'pm': 0.05}, trial: 5, best fitness: 130.88027613235965\n",
      "Algorithm: BaseGA, with params: {'epoch': 300, 'pop_size': 300, 'pc': 0.8, 'pm': 0.1}, trial: 1, best fitness: 20.698118840084888\n",
      "Algorithm: BaseGA, with params: {'epoch': 300, 'pop_size': 300, 'pc': 0.8, 'pm': 0.1}, trial: 2, best fitness: 254.7200280724578\n"
     ]
    },
    {
     "name": "stderr",
     "output_type": "stream",
     "text": [
      "2024/02/22 05:16:47 PM, INFO, mealpy.evolutionary_based.GA.BaseGA: >>>Problem: Rosenbrock function, Epoch: 1, Current best: 528.101062837129, Global best: 528.101062837129, Runtime: 0.05519 seconds\n",
      "2024/02/22 05:16:47 PM, WARNING, mealpy.evolutionary_based.GA.BaseGA: Stopping criterion with maximum running time/time bound (TB) (seconds) occurred. End program!\n",
      "2024/02/22 05:16:47 PM, INFO, mealpy.evolutionary_based.GA.BaseGA: Solving single objective optimization problem.\n",
      "2024/02/22 05:16:47 PM, INFO, mealpy.evolutionary_based.GA.BaseGA: >>>Problem: Rosenbrock function, Epoch: 1, Current best: 165.8466393920225, Global best: 165.8466393920225, Runtime: 0.05314 seconds\n",
      "2024/02/22 05:16:47 PM, WARNING, mealpy.evolutionary_based.GA.BaseGA: Stopping criterion with maximum running time/time bound (TB) (seconds) occurred. End program!\n",
      "2024/02/22 05:16:47 PM, INFO, mealpy.evolutionary_based.GA.BaseGA: Solving single objective optimization problem.\n",
      "2024/02/22 05:16:47 PM, INFO, mealpy.evolutionary_based.GA.BaseGA: >>>Problem: Rosenbrock function, Epoch: 1, Current best: 332.1042406788261, Global best: 332.1042406788261, Runtime: 0.05450 seconds\n",
      "2024/02/22 05:16:47 PM, WARNING, mealpy.evolutionary_based.GA.BaseGA: Stopping criterion with maximum running time/time bound (TB) (seconds) occurred. End program!\n",
      "2024/02/22 05:16:47 PM, INFO, mealpy.evolutionary_based.GA.BaseGA: Solving single objective optimization problem.\n"
     ]
    },
    {
     "name": "stdout",
     "output_type": "stream",
     "text": [
      "Algorithm: BaseGA, with params: {'epoch': 300, 'pop_size': 300, 'pc': 0.8, 'pm': 0.1}, trial: 3, best fitness: 528.101062837129\n",
      "Algorithm: BaseGA, with params: {'epoch': 300, 'pop_size': 300, 'pc': 0.8, 'pm': 0.1}, trial: 4, best fitness: 165.8466393920225\n",
      "Algorithm: BaseGA, with params: {'epoch': 300, 'pop_size': 300, 'pc': 0.8, 'pm': 0.1}, trial: 5, best fitness: 332.1042406788261\n"
     ]
    },
    {
     "name": "stderr",
     "output_type": "stream",
     "text": [
      "2024/02/22 05:16:48 PM, INFO, mealpy.evolutionary_based.GA.BaseGA: >>>Problem: Rosenbrock function, Epoch: 1, Current best: 473.5534360355497, Global best: 473.5534360355497, Runtime: 0.05381 seconds\n",
      "2024/02/22 05:16:48 PM, WARNING, mealpy.evolutionary_based.GA.BaseGA: Stopping criterion with maximum running time/time bound (TB) (seconds) occurred. End program!\n",
      "2024/02/22 05:16:48 PM, INFO, mealpy.evolutionary_based.GA.BaseGA: Solving single objective optimization problem.\n",
      "2024/02/22 05:16:48 PM, INFO, mealpy.evolutionary_based.GA.BaseGA: >>>Problem: Rosenbrock function, Epoch: 1, Current best: 822.5337541847011, Global best: 822.5337541847011, Runtime: 0.05078 seconds\n",
      "2024/02/22 05:16:48 PM, WARNING, mealpy.evolutionary_based.GA.BaseGA: Stopping criterion with maximum running time/time bound (TB) (seconds) occurred. End program!\n",
      "2024/02/22 05:16:48 PM, INFO, mealpy.evolutionary_based.GA.BaseGA: Solving single objective optimization problem.\n",
      "2024/02/22 05:16:48 PM, INFO, mealpy.evolutionary_based.GA.BaseGA: >>>Problem: Rosenbrock function, Epoch: 1, Current best: 350.2759313305943, Global best: 350.2759313305943, Runtime: 0.05123 seconds\n",
      "2024/02/22 05:16:48 PM, WARNING, mealpy.evolutionary_based.GA.BaseGA: Stopping criterion with maximum running time/time bound (TB) (seconds) occurred. End program!\n",
      "2024/02/22 05:16:48 PM, INFO, mealpy.evolutionary_based.GA.BaseGA: Solving single objective optimization problem.\n",
      "2024/02/22 05:16:48 PM, INFO, mealpy.evolutionary_based.GA.BaseGA: >>>Problem: Rosenbrock function, Epoch: 1, Current best: 610.2404687638825, Global best: 610.2404687638825, Runtime: 0.05216 seconds\n"
     ]
    },
    {
     "name": "stdout",
     "output_type": "stream",
     "text": [
      "Algorithm: BaseGA, with params: {'epoch': 300, 'pop_size': 300, 'pc': 0.8, 'pm': 0.2}, trial: 1, best fitness: 473.5534360355497\n",
      "Algorithm: BaseGA, with params: {'epoch': 300, 'pop_size': 300, 'pc': 0.8, 'pm': 0.2}, trial: 2, best fitness: 822.5337541847011\n",
      "Algorithm: BaseGA, with params: {'epoch': 300, 'pop_size': 300, 'pc': 0.8, 'pm': 0.2}, trial: 3, best fitness: 350.2759313305943\n"
     ]
    },
    {
     "name": "stderr",
     "output_type": "stream",
     "text": [
      "2024/02/22 05:16:48 PM, WARNING, mealpy.evolutionary_based.GA.BaseGA: Stopping criterion with maximum running time/time bound (TB) (seconds) occurred. End program!\n",
      "2024/02/22 05:16:48 PM, INFO, mealpy.evolutionary_based.GA.BaseGA: Solving single objective optimization problem.\n",
      "2024/02/22 05:16:48 PM, INFO, mealpy.evolutionary_based.GA.BaseGA: >>>Problem: Rosenbrock function, Epoch: 1, Current best: 647.8049260228292, Global best: 647.8049260228292, Runtime: 0.05320 seconds\n",
      "2024/02/22 05:16:48 PM, WARNING, mealpy.evolutionary_based.GA.BaseGA: Stopping criterion with maximum running time/time bound (TB) (seconds) occurred. End program!\n",
      "2024/02/22 05:16:48 PM, INFO, mealpy.evolutionary_based.GA.BaseGA: Solving single objective optimization problem.\n",
      "2024/02/22 05:16:48 PM, INFO, mealpy.evolutionary_based.GA.BaseGA: >>>Problem: Rosenbrock function, Epoch: 1, Current best: 996.2455178097991, Global best: 996.2455178097991, Runtime: 0.05497 seconds\n",
      "2024/02/22 05:16:48 PM, WARNING, mealpy.evolutionary_based.GA.BaseGA: Stopping criterion with maximum running time/time bound (TB) (seconds) occurred. End program!\n",
      "2024/02/22 05:16:48 PM, INFO, mealpy.evolutionary_based.GA.BaseGA: Solving single objective optimization problem.\n"
     ]
    },
    {
     "name": "stdout",
     "output_type": "stream",
     "text": [
      "Algorithm: BaseGA, with params: {'epoch': 300, 'pop_size': 300, 'pc': 0.8, 'pm': 0.2}, trial: 4, best fitness: 610.2404687638825\n",
      "Algorithm: BaseGA, with params: {'epoch': 300, 'pop_size': 300, 'pc': 0.8, 'pm': 0.2}, trial: 5, best fitness: 647.8049260228292\n",
      "Algorithm: BaseGA, with params: {'epoch': 300, 'pop_size': 300, 'pc': 0.7, 'pm': 0.01}, trial: 1, best fitness: 996.2455178097991\n"
     ]
    },
    {
     "name": "stderr",
     "output_type": "stream",
     "text": [
      "2024/02/22 05:16:48 PM, INFO, mealpy.evolutionary_based.GA.BaseGA: >>>Problem: Rosenbrock function, Epoch: 1, Current best: 591.4193602679802, Global best: 591.4193602679802, Runtime: 0.05532 seconds\n",
      "2024/02/22 05:16:48 PM, WARNING, mealpy.evolutionary_based.GA.BaseGA: Stopping criterion with maximum running time/time bound (TB) (seconds) occurred. End program!\n",
      "2024/02/22 05:16:48 PM, INFO, mealpy.evolutionary_based.GA.BaseGA: Solving single objective optimization problem.\n",
      "2024/02/22 05:16:48 PM, INFO, mealpy.evolutionary_based.GA.BaseGA: >>>Problem: Rosenbrock function, Epoch: 1, Current best: 1107.877780676693, Global best: 1107.877780676693, Runtime: 0.05598 seconds\n",
      "2024/02/22 05:16:48 PM, WARNING, mealpy.evolutionary_based.GA.BaseGA: Stopping criterion with maximum running time/time bound (TB) (seconds) occurred. End program!\n",
      "2024/02/22 05:16:48 PM, INFO, mealpy.evolutionary_based.GA.BaseGA: Solving single objective optimization problem.\n",
      "2024/02/22 05:16:48 PM, INFO, mealpy.evolutionary_based.GA.BaseGA: >>>Problem: Rosenbrock function, Epoch: 1, Current best: 203.61711208189956, Global best: 203.61711208189956, Runtime: 0.05120 seconds\n",
      "2024/02/22 05:16:48 PM, WARNING, mealpy.evolutionary_based.GA.BaseGA: Stopping criterion with maximum running time/time bound (TB) (seconds) occurred. End program!\n",
      "2024/02/22 05:16:48 PM, INFO, mealpy.evolutionary_based.GA.BaseGA: Solving single objective optimization problem.\n"
     ]
    },
    {
     "name": "stdout",
     "output_type": "stream",
     "text": [
      "Algorithm: BaseGA, with params: {'epoch': 300, 'pop_size': 300, 'pc': 0.7, 'pm': 0.01}, trial: 2, best fitness: 591.4193602679802\n",
      "Algorithm: BaseGA, with params: {'epoch': 300, 'pop_size': 300, 'pc': 0.7, 'pm': 0.01}, trial: 3, best fitness: 1107.877780676693\n",
      "Algorithm: BaseGA, with params: {'epoch': 300, 'pop_size': 300, 'pc': 0.7, 'pm': 0.01}, trial: 4, best fitness: 203.61711208189956\n"
     ]
    },
    {
     "name": "stderr",
     "output_type": "stream",
     "text": [
      "2024/02/22 05:16:48 PM, INFO, mealpy.evolutionary_based.GA.BaseGA: >>>Problem: Rosenbrock function, Epoch: 1, Current best: 343.02491855781, Global best: 343.02491855781, Runtime: 0.05370 seconds\n",
      "2024/02/22 05:16:48 PM, WARNING, mealpy.evolutionary_based.GA.BaseGA: Stopping criterion with maximum running time/time bound (TB) (seconds) occurred. End program!\n",
      "2024/02/22 05:16:48 PM, INFO, mealpy.evolutionary_based.GA.BaseGA: Solving single objective optimization problem.\n",
      "2024/02/22 05:16:48 PM, INFO, mealpy.evolutionary_based.GA.BaseGA: >>>Problem: Rosenbrock function, Epoch: 1, Current best: 156.38315095789775, Global best: 156.38315095789775, Runtime: 0.05053 seconds\n",
      "2024/02/22 05:16:48 PM, WARNING, mealpy.evolutionary_based.GA.BaseGA: Stopping criterion with maximum running time/time bound (TB) (seconds) occurred. End program!\n",
      "2024/02/22 05:16:48 PM, INFO, mealpy.evolutionary_based.GA.BaseGA: Solving single objective optimization problem.\n",
      "2024/02/22 05:16:48 PM, INFO, mealpy.evolutionary_based.GA.BaseGA: >>>Problem: Rosenbrock function, Epoch: 1, Current best: 564.5127983755341, Global best: 564.5127983755341, Runtime: 0.05287 seconds\n",
      "2024/02/22 05:16:48 PM, WARNING, mealpy.evolutionary_based.GA.BaseGA: Stopping criterion with maximum running time/time bound (TB) (seconds) occurred. End program!\n",
      "2024/02/22 05:16:48 PM, INFO, mealpy.evolutionary_based.GA.BaseGA: Solving single objective optimization problem.\n",
      "2024/02/22 05:16:48 PM, INFO, mealpy.evolutionary_based.GA.BaseGA: >>>Problem: Rosenbrock function, Epoch: 1, Current best: 643.7818889796719, Global best: 643.7818889796719, Runtime: 0.05147 seconds\n"
     ]
    },
    {
     "name": "stdout",
     "output_type": "stream",
     "text": [
      "Algorithm: BaseGA, with params: {'epoch': 300, 'pop_size': 300, 'pc': 0.7, 'pm': 0.01}, trial: 5, best fitness: 343.02491855781\n",
      "Algorithm: BaseGA, with params: {'epoch': 300, 'pop_size': 300, 'pc': 0.7, 'pm': 0.05}, trial: 1, best fitness: 156.38315095789775\n",
      "Algorithm: BaseGA, with params: {'epoch': 300, 'pop_size': 300, 'pc': 0.7, 'pm': 0.05}, trial: 2, best fitness: 564.5127983755341\n"
     ]
    },
    {
     "name": "stderr",
     "output_type": "stream",
     "text": [
      "2024/02/22 05:16:48 PM, WARNING, mealpy.evolutionary_based.GA.BaseGA: Stopping criterion with maximum running time/time bound (TB) (seconds) occurred. End program!\n",
      "2024/02/22 05:16:48 PM, INFO, mealpy.evolutionary_based.GA.BaseGA: Solving single objective optimization problem.\n",
      "2024/02/22 05:16:48 PM, INFO, mealpy.evolutionary_based.GA.BaseGA: >>>Problem: Rosenbrock function, Epoch: 1, Current best: 91.79995584237875, Global best: 91.79995584237875, Runtime: 0.05355 seconds\n",
      "2024/02/22 05:16:48 PM, WARNING, mealpy.evolutionary_based.GA.BaseGA: Stopping criterion with maximum running time/time bound (TB) (seconds) occurred. End program!\n",
      "2024/02/22 05:16:48 PM, INFO, mealpy.evolutionary_based.GA.BaseGA: Solving single objective optimization problem.\n",
      "2024/02/22 05:16:49 PM, INFO, mealpy.evolutionary_based.GA.BaseGA: >>>Problem: Rosenbrock function, Epoch: 1, Current best: 143.13345675224934, Global best: 143.13345675224934, Runtime: 0.05096 seconds\n",
      "2024/02/22 05:16:49 PM, WARNING, mealpy.evolutionary_based.GA.BaseGA: Stopping criterion with maximum running time/time bound (TB) (seconds) occurred. End program!\n",
      "2024/02/22 05:16:49 PM, INFO, mealpy.evolutionary_based.GA.BaseGA: Solving single objective optimization problem.\n"
     ]
    },
    {
     "name": "stdout",
     "output_type": "stream",
     "text": [
      "Algorithm: BaseGA, with params: {'epoch': 300, 'pop_size': 300, 'pc': 0.7, 'pm': 0.05}, trial: 3, best fitness: 643.7818889796719\n",
      "Algorithm: BaseGA, with params: {'epoch': 300, 'pop_size': 300, 'pc': 0.7, 'pm': 0.05}, trial: 4, best fitness: 91.79995584237875\n",
      "Algorithm: BaseGA, with params: {'epoch': 300, 'pop_size': 300, 'pc': 0.7, 'pm': 0.05}, trial: 5, best fitness: 143.13345675224934\n"
     ]
    },
    {
     "name": "stderr",
     "output_type": "stream",
     "text": [
      "2024/02/22 05:16:49 PM, INFO, mealpy.evolutionary_based.GA.BaseGA: >>>Problem: Rosenbrock function, Epoch: 1, Current best: 795.7998076522555, Global best: 795.7998076522555, Runtime: 0.05159 seconds\n",
      "2024/02/22 05:16:49 PM, WARNING, mealpy.evolutionary_based.GA.BaseGA: Stopping criterion with maximum running time/time bound (TB) (seconds) occurred. End program!\n",
      "2024/02/22 05:16:49 PM, INFO, mealpy.evolutionary_based.GA.BaseGA: Solving single objective optimization problem.\n",
      "2024/02/22 05:16:49 PM, INFO, mealpy.evolutionary_based.GA.BaseGA: >>>Problem: Rosenbrock function, Epoch: 1, Current best: 372.78855483772554, Global best: 372.78855483772554, Runtime: 0.05786 seconds\n",
      "2024/02/22 05:16:49 PM, WARNING, mealpy.evolutionary_based.GA.BaseGA: Stopping criterion with maximum running time/time bound (TB) (seconds) occurred. End program!\n",
      "2024/02/22 05:16:49 PM, INFO, mealpy.evolutionary_based.GA.BaseGA: Solving single objective optimization problem.\n",
      "2024/02/22 05:16:49 PM, INFO, mealpy.evolutionary_based.GA.BaseGA: >>>Problem: Rosenbrock function, Epoch: 1, Current best: 349.8934967470069, Global best: 349.8934967470069, Runtime: 0.06015 seconds\n",
      "2024/02/22 05:16:49 PM, WARNING, mealpy.evolutionary_based.GA.BaseGA: Stopping criterion with maximum running time/time bound (TB) (seconds) occurred. End program!\n",
      "2024/02/22 05:16:49 PM, INFO, mealpy.evolutionary_based.GA.BaseGA: Solving single objective optimization problem.\n"
     ]
    },
    {
     "name": "stdout",
     "output_type": "stream",
     "text": [
      "Algorithm: BaseGA, with params: {'epoch': 300, 'pop_size': 300, 'pc': 0.7, 'pm': 0.1}, trial: 1, best fitness: 795.7998076522555\n",
      "Algorithm: BaseGA, with params: {'epoch': 300, 'pop_size': 300, 'pc': 0.7, 'pm': 0.1}, trial: 2, best fitness: 372.78855483772554\n",
      "Algorithm: BaseGA, with params: {'epoch': 300, 'pop_size': 300, 'pc': 0.7, 'pm': 0.1}, trial: 3, best fitness: 349.8934967470069\n"
     ]
    },
    {
     "name": "stderr",
     "output_type": "stream",
     "text": [
      "2024/02/22 05:16:49 PM, INFO, mealpy.evolutionary_based.GA.BaseGA: >>>Problem: Rosenbrock function, Epoch: 1, Current best: 255.51019151814594, Global best: 255.51019151814594, Runtime: 0.06595 seconds\n",
      "2024/02/22 05:16:49 PM, WARNING, mealpy.evolutionary_based.GA.BaseGA: Stopping criterion with maximum running time/time bound (TB) (seconds) occurred. End program!\n",
      "2024/02/22 05:16:49 PM, INFO, mealpy.evolutionary_based.GA.BaseGA: Solving single objective optimization problem.\n",
      "2024/02/22 05:16:49 PM, INFO, mealpy.evolutionary_based.GA.BaseGA: >>>Problem: Rosenbrock function, Epoch: 1, Current best: 572.5897849096999, Global best: 572.5897849096999, Runtime: 0.05669 seconds\n",
      "2024/02/22 05:16:49 PM, WARNING, mealpy.evolutionary_based.GA.BaseGA: Stopping criterion with maximum running time/time bound (TB) (seconds) occurred. End program!\n",
      "2024/02/22 05:16:49 PM, INFO, mealpy.evolutionary_based.GA.BaseGA: Solving single objective optimization problem.\n",
      "2024/02/22 05:16:49 PM, INFO, mealpy.evolutionary_based.GA.BaseGA: >>>Problem: Rosenbrock function, Epoch: 1, Current best: 617.9977696375577, Global best: 617.9977696375577, Runtime: 0.05562 seconds\n",
      "2024/02/22 05:16:49 PM, WARNING, mealpy.evolutionary_based.GA.BaseGA: Stopping criterion with maximum running time/time bound (TB) (seconds) occurred. End program!\n",
      "2024/02/22 05:16:49 PM, INFO, mealpy.evolutionary_based.GA.BaseGA: Solving single objective optimization problem.\n"
     ]
    },
    {
     "name": "stdout",
     "output_type": "stream",
     "text": [
      "Algorithm: BaseGA, with params: {'epoch': 300, 'pop_size': 300, 'pc': 0.7, 'pm': 0.1}, trial: 4, best fitness: 255.51019151814594\n",
      "Algorithm: BaseGA, with params: {'epoch': 300, 'pop_size': 300, 'pc': 0.7, 'pm': 0.1}, trial: 5, best fitness: 572.5897849096999\n",
      "Algorithm: BaseGA, with params: {'epoch': 300, 'pop_size': 300, 'pc': 0.7, 'pm': 0.2}, trial: 1, best fitness: 617.9977696375577\n"
     ]
    },
    {
     "name": "stderr",
     "output_type": "stream",
     "text": [
      "2024/02/22 05:16:49 PM, INFO, mealpy.evolutionary_based.GA.BaseGA: >>>Problem: Rosenbrock function, Epoch: 1, Current best: 902.4524174968011, Global best: 902.4524174968011, Runtime: 0.05366 seconds\n",
      "2024/02/22 05:16:49 PM, WARNING, mealpy.evolutionary_based.GA.BaseGA: Stopping criterion with maximum running time/time bound (TB) (seconds) occurred. End program!\n",
      "2024/02/22 05:16:49 PM, INFO, mealpy.evolutionary_based.GA.BaseGA: Solving single objective optimization problem.\n",
      "2024/02/22 05:16:49 PM, INFO, mealpy.evolutionary_based.GA.BaseGA: >>>Problem: Rosenbrock function, Epoch: 1, Current best: 206.22156113740704, Global best: 206.22156113740704, Runtime: 0.05054 seconds\n",
      "2024/02/22 05:16:49 PM, WARNING, mealpy.evolutionary_based.GA.BaseGA: Stopping criterion with maximum running time/time bound (TB) (seconds) occurred. End program!\n",
      "2024/02/22 05:16:49 PM, INFO, mealpy.evolutionary_based.GA.BaseGA: Solving single objective optimization problem.\n",
      "2024/02/22 05:16:49 PM, INFO, mealpy.evolutionary_based.GA.BaseGA: >>>Problem: Rosenbrock function, Epoch: 1, Current best: 836.4155715932924, Global best: 836.4155715932924, Runtime: 0.05049 seconds\n",
      "2024/02/22 05:16:49 PM, WARNING, mealpy.evolutionary_based.GA.BaseGA: Stopping criterion with maximum running time/time bound (TB) (seconds) occurred. End program!\n",
      "2024/02/22 05:16:49 PM, INFO, mealpy.evolutionary_based.GA.BaseGA: Solving single objective optimization problem.\n"
     ]
    },
    {
     "name": "stdout",
     "output_type": "stream",
     "text": [
      "Algorithm: BaseGA, with params: {'epoch': 300, 'pop_size': 300, 'pc': 0.7, 'pm': 0.2}, trial: 2, best fitness: 902.4524174968011\n",
      "Algorithm: BaseGA, with params: {'epoch': 300, 'pop_size': 300, 'pc': 0.7, 'pm': 0.2}, trial: 3, best fitness: 206.22156113740704\n",
      "Algorithm: BaseGA, with params: {'epoch': 300, 'pop_size': 300, 'pc': 0.7, 'pm': 0.2}, trial: 4, best fitness: 836.4155715932924\n"
     ]
    },
    {
     "name": "stderr",
     "output_type": "stream",
     "text": [
      "2024/02/22 05:16:49 PM, INFO, mealpy.evolutionary_based.GA.BaseGA: >>>Problem: Rosenbrock function, Epoch: 1, Current best: 510.5956134144484, Global best: 510.5956134144484, Runtime: 0.05605 seconds\n",
      "2024/02/22 05:16:49 PM, WARNING, mealpy.evolutionary_based.GA.BaseGA: Stopping criterion with maximum running time/time bound (TB) (seconds) occurred. End program!\n",
      "2024/02/22 05:16:49 PM, INFO, mealpy.evolutionary_based.GA.BaseGA: Solving single objective optimization problem.\n",
      "2024/02/22 05:16:49 PM, INFO, mealpy.evolutionary_based.GA.BaseGA: >>>Problem: Rosenbrock function, Epoch: 1, Current best: 170.026057485186, Global best: 170.026057485186, Runtime: 0.10297 seconds\n",
      "2024/02/22 05:16:49 PM, WARNING, mealpy.evolutionary_based.GA.BaseGA: Stopping criterion with maximum running time/time bound (TB) (seconds) occurred. End program!\n",
      "2024/02/22 05:16:49 PM, INFO, mealpy.evolutionary_based.GA.BaseGA: Solving single objective optimization problem.\n"
     ]
    },
    {
     "name": "stdout",
     "output_type": "stream",
     "text": [
      "Algorithm: BaseGA, with params: {'epoch': 300, 'pop_size': 300, 'pc': 0.7, 'pm': 0.2}, trial: 5, best fitness: 510.5956134144484\n",
      "Algorithm: BaseGA, with params: {'epoch': 300, 'pop_size': 500, 'pc': 0.95, 'pm': 0.01}, trial: 1, best fitness: 170.026057485186\n"
     ]
    },
    {
     "name": "stderr",
     "output_type": "stream",
     "text": [
      "2024/02/22 05:16:50 PM, INFO, mealpy.evolutionary_based.GA.BaseGA: >>>Problem: Rosenbrock function, Epoch: 1, Current best: 97.99909617333262, Global best: 97.99909617333262, Runtime: 0.10467 seconds\n",
      "2024/02/22 05:16:50 PM, WARNING, mealpy.evolutionary_based.GA.BaseGA: Stopping criterion with maximum running time/time bound (TB) (seconds) occurred. End program!\n",
      "2024/02/22 05:16:50 PM, INFO, mealpy.evolutionary_based.GA.BaseGA: Solving single objective optimization problem.\n",
      "2024/02/22 05:16:50 PM, INFO, mealpy.evolutionary_based.GA.BaseGA: >>>Problem: Rosenbrock function, Epoch: 1, Current best: 787.9290059003574, Global best: 787.9290059003574, Runtime: 0.10375 seconds\n",
      "2024/02/22 05:16:50 PM, WARNING, mealpy.evolutionary_based.GA.BaseGA: Stopping criterion with maximum running time/time bound (TB) (seconds) occurred. End program!\n",
      "2024/02/22 05:16:50 PM, INFO, mealpy.evolutionary_based.GA.BaseGA: Solving single objective optimization problem.\n"
     ]
    },
    {
     "name": "stdout",
     "output_type": "stream",
     "text": [
      "Algorithm: BaseGA, with params: {'epoch': 300, 'pop_size': 500, 'pc': 0.95, 'pm': 0.01}, trial: 2, best fitness: 97.99909617333262\n",
      "Algorithm: BaseGA, with params: {'epoch': 300, 'pop_size': 500, 'pc': 0.95, 'pm': 0.01}, trial: 3, best fitness: 787.9290059003574\n"
     ]
    },
    {
     "name": "stderr",
     "output_type": "stream",
     "text": [
      "2024/02/22 05:16:50 PM, INFO, mealpy.evolutionary_based.GA.BaseGA: >>>Problem: Rosenbrock function, Epoch: 1, Current best: 88.438284862959, Global best: 88.438284862959, Runtime: 0.10677 seconds\n",
      "2024/02/22 05:16:50 PM, WARNING, mealpy.evolutionary_based.GA.BaseGA: Stopping criterion with maximum running time/time bound (TB) (seconds) occurred. End program!\n",
      "2024/02/22 05:16:50 PM, INFO, mealpy.evolutionary_based.GA.BaseGA: Solving single objective optimization problem.\n",
      "2024/02/22 05:16:50 PM, INFO, mealpy.evolutionary_based.GA.BaseGA: >>>Problem: Rosenbrock function, Epoch: 1, Current best: 205.01603749867323, Global best: 205.01603749867323, Runtime: 0.10622 seconds\n",
      "2024/02/22 05:16:50 PM, WARNING, mealpy.evolutionary_based.GA.BaseGA: Stopping criterion with maximum running time/time bound (TB) (seconds) occurred. End program!\n",
      "2024/02/22 05:16:50 PM, INFO, mealpy.evolutionary_based.GA.BaseGA: Solving single objective optimization problem.\n"
     ]
    },
    {
     "name": "stdout",
     "output_type": "stream",
     "text": [
      "Algorithm: BaseGA, with params: {'epoch': 300, 'pop_size': 500, 'pc': 0.95, 'pm': 0.01}, trial: 4, best fitness: 88.438284862959\n",
      "Algorithm: BaseGA, with params: {'epoch': 300, 'pop_size': 500, 'pc': 0.95, 'pm': 0.01}, trial: 5, best fitness: 205.01603749867323\n"
     ]
    },
    {
     "name": "stderr",
     "output_type": "stream",
     "text": [
      "2024/02/22 05:16:50 PM, INFO, mealpy.evolutionary_based.GA.BaseGA: >>>Problem: Rosenbrock function, Epoch: 1, Current best: 213.6430202882047, Global best: 213.6430202882047, Runtime: 0.10653 seconds\n",
      "2024/02/22 05:16:50 PM, WARNING, mealpy.evolutionary_based.GA.BaseGA: Stopping criterion with maximum running time/time bound (TB) (seconds) occurred. End program!\n",
      "2024/02/22 05:16:50 PM, INFO, mealpy.evolutionary_based.GA.BaseGA: Solving single objective optimization problem.\n",
      "2024/02/22 05:16:50 PM, INFO, mealpy.evolutionary_based.GA.BaseGA: >>>Problem: Rosenbrock function, Epoch: 1, Current best: 41.705663147197775, Global best: 41.705663147197775, Runtime: 0.10570 seconds\n",
      "2024/02/22 05:16:50 PM, WARNING, mealpy.evolutionary_based.GA.BaseGA: Stopping criterion with maximum running time/time bound (TB) (seconds) occurred. End program!\n",
      "2024/02/22 05:16:50 PM, INFO, mealpy.evolutionary_based.GA.BaseGA: Solving single objective optimization problem.\n"
     ]
    },
    {
     "name": "stdout",
     "output_type": "stream",
     "text": [
      "Algorithm: BaseGA, with params: {'epoch': 300, 'pop_size': 500, 'pc': 0.95, 'pm': 0.05}, trial: 1, best fitness: 213.6430202882047\n",
      "Algorithm: BaseGA, with params: {'epoch': 300, 'pop_size': 500, 'pc': 0.95, 'pm': 0.05}, trial: 2, best fitness: 41.705663147197775\n"
     ]
    },
    {
     "name": "stderr",
     "output_type": "stream",
     "text": [
      "2024/02/22 05:16:50 PM, INFO, mealpy.evolutionary_based.GA.BaseGA: >>>Problem: Rosenbrock function, Epoch: 1, Current best: 177.80644352592427, Global best: 177.80644352592427, Runtime: 0.10604 seconds\n",
      "2024/02/22 05:16:50 PM, WARNING, mealpy.evolutionary_based.GA.BaseGA: Stopping criterion with maximum running time/time bound (TB) (seconds) occurred. End program!\n",
      "2024/02/22 05:16:50 PM, INFO, mealpy.evolutionary_based.GA.BaseGA: Solving single objective optimization problem.\n",
      "2024/02/22 05:16:50 PM, INFO, mealpy.evolutionary_based.GA.BaseGA: >>>Problem: Rosenbrock function, Epoch: 1, Current best: 332.822995296488, Global best: 332.822995296488, Runtime: 0.10578 seconds\n",
      "2024/02/22 05:16:50 PM, WARNING, mealpy.evolutionary_based.GA.BaseGA: Stopping criterion with maximum running time/time bound (TB) (seconds) occurred. End program!\n",
      "2024/02/22 05:16:50 PM, INFO, mealpy.evolutionary_based.GA.BaseGA: Solving single objective optimization problem.\n"
     ]
    },
    {
     "name": "stdout",
     "output_type": "stream",
     "text": [
      "Algorithm: BaseGA, with params: {'epoch': 300, 'pop_size': 500, 'pc': 0.95, 'pm': 0.05}, trial: 3, best fitness: 177.80644352592427\n",
      "Algorithm: BaseGA, with params: {'epoch': 300, 'pop_size': 500, 'pc': 0.95, 'pm': 0.05}, trial: 4, best fitness: 332.822995296488\n"
     ]
    },
    {
     "name": "stderr",
     "output_type": "stream",
     "text": [
      "2024/02/22 05:16:51 PM, INFO, mealpy.evolutionary_based.GA.BaseGA: >>>Problem: Rosenbrock function, Epoch: 1, Current best: 163.8858773599694, Global best: 163.8858773599694, Runtime: 0.10684 seconds\n",
      "2024/02/22 05:16:51 PM, WARNING, mealpy.evolutionary_based.GA.BaseGA: Stopping criterion with maximum running time/time bound (TB) (seconds) occurred. End program!\n",
      "2024/02/22 05:16:51 PM, INFO, mealpy.evolutionary_based.GA.BaseGA: Solving single objective optimization problem.\n",
      "2024/02/22 05:16:51 PM, INFO, mealpy.evolutionary_based.GA.BaseGA: >>>Problem: Rosenbrock function, Epoch: 1, Current best: 326.48270961674274, Global best: 326.48270961674274, Runtime: 0.10556 seconds\n",
      "2024/02/22 05:16:51 PM, WARNING, mealpy.evolutionary_based.GA.BaseGA: Stopping criterion with maximum running time/time bound (TB) (seconds) occurred. End program!\n",
      "2024/02/22 05:16:51 PM, INFO, mealpy.evolutionary_based.GA.BaseGA: Solving single objective optimization problem.\n"
     ]
    },
    {
     "name": "stdout",
     "output_type": "stream",
     "text": [
      "Algorithm: BaseGA, with params: {'epoch': 300, 'pop_size': 500, 'pc': 0.95, 'pm': 0.05}, trial: 5, best fitness: 163.8858773599694\n",
      "Algorithm: BaseGA, with params: {'epoch': 300, 'pop_size': 500, 'pc': 0.95, 'pm': 0.1}, trial: 1, best fitness: 326.48270961674274\n"
     ]
    },
    {
     "name": "stderr",
     "output_type": "stream",
     "text": [
      "2024/02/22 05:16:51 PM, INFO, mealpy.evolutionary_based.GA.BaseGA: >>>Problem: Rosenbrock function, Epoch: 1, Current best: 40.35787349260401, Global best: 40.35787349260401, Runtime: 0.10761 seconds\n",
      "2024/02/22 05:16:51 PM, WARNING, mealpy.evolutionary_based.GA.BaseGA: Stopping criterion with maximum running time/time bound (TB) (seconds) occurred. End program!\n",
      "2024/02/22 05:16:51 PM, INFO, mealpy.evolutionary_based.GA.BaseGA: Solving single objective optimization problem.\n",
      "2024/02/22 05:16:51 PM, INFO, mealpy.evolutionary_based.GA.BaseGA: >>>Problem: Rosenbrock function, Epoch: 1, Current best: 97.5635327379965, Global best: 97.5635327379965, Runtime: 0.10591 seconds\n",
      "2024/02/22 05:16:51 PM, WARNING, mealpy.evolutionary_based.GA.BaseGA: Stopping criterion with maximum running time/time bound (TB) (seconds) occurred. End program!\n",
      "2024/02/22 05:16:51 PM, INFO, mealpy.evolutionary_based.GA.BaseGA: Solving single objective optimization problem.\n"
     ]
    },
    {
     "name": "stdout",
     "output_type": "stream",
     "text": [
      "Algorithm: BaseGA, with params: {'epoch': 300, 'pop_size': 500, 'pc': 0.95, 'pm': 0.1}, trial: 2, best fitness: 40.35787349260401\n",
      "Algorithm: BaseGA, with params: {'epoch': 300, 'pop_size': 500, 'pc': 0.95, 'pm': 0.1}, trial: 3, best fitness: 97.5635327379965\n"
     ]
    },
    {
     "name": "stderr",
     "output_type": "stream",
     "text": [
      "2024/02/22 05:16:51 PM, INFO, mealpy.evolutionary_based.GA.BaseGA: >>>Problem: Rosenbrock function, Epoch: 1, Current best: 677.9659917171344, Global best: 677.9659917171344, Runtime: 0.12392 seconds\n",
      "2024/02/22 05:16:51 PM, WARNING, mealpy.evolutionary_based.GA.BaseGA: Stopping criterion with maximum running time/time bound (TB) (seconds) occurred. End program!\n",
      "2024/02/22 05:16:51 PM, INFO, mealpy.evolutionary_based.GA.BaseGA: Solving single objective optimization problem.\n",
      "2024/02/22 05:16:51 PM, INFO, mealpy.evolutionary_based.GA.BaseGA: >>>Problem: Rosenbrock function, Epoch: 1, Current best: 309.28930552126553, Global best: 309.28930552126553, Runtime: 0.11088 seconds\n",
      "2024/02/22 05:16:51 PM, WARNING, mealpy.evolutionary_based.GA.BaseGA: Stopping criterion with maximum running time/time bound (TB) (seconds) occurred. End program!\n",
      "2024/02/22 05:16:51 PM, INFO, mealpy.evolutionary_based.GA.BaseGA: Solving single objective optimization problem.\n"
     ]
    },
    {
     "name": "stdout",
     "output_type": "stream",
     "text": [
      "Algorithm: BaseGA, with params: {'epoch': 300, 'pop_size': 500, 'pc': 0.95, 'pm': 0.1}, trial: 4, best fitness: 677.9659917171344\n",
      "Algorithm: BaseGA, with params: {'epoch': 300, 'pop_size': 500, 'pc': 0.95, 'pm': 0.1}, trial: 5, best fitness: 309.28930552126553\n"
     ]
    },
    {
     "name": "stderr",
     "output_type": "stream",
     "text": [
      "2024/02/22 05:16:51 PM, INFO, mealpy.evolutionary_based.GA.BaseGA: >>>Problem: Rosenbrock function, Epoch: 1, Current best: 58.59037428037786, Global best: 58.59037428037786, Runtime: 0.11085 seconds\n",
      "2024/02/22 05:16:51 PM, WARNING, mealpy.evolutionary_based.GA.BaseGA: Stopping criterion with maximum running time/time bound (TB) (seconds) occurred. End program!\n",
      "2024/02/22 05:16:51 PM, INFO, mealpy.evolutionary_based.GA.BaseGA: Solving single objective optimization problem.\n",
      "2024/02/22 05:16:52 PM, INFO, mealpy.evolutionary_based.GA.BaseGA: >>>Problem: Rosenbrock function, Epoch: 1, Current best: 268.58407263770033, Global best: 268.58407263770033, Runtime: 0.10738 seconds\n",
      "2024/02/22 05:16:52 PM, WARNING, mealpy.evolutionary_based.GA.BaseGA: Stopping criterion with maximum running time/time bound (TB) (seconds) occurred. End program!\n",
      "2024/02/22 05:16:52 PM, INFO, mealpy.evolutionary_based.GA.BaseGA: Solving single objective optimization problem.\n"
     ]
    },
    {
     "name": "stdout",
     "output_type": "stream",
     "text": [
      "Algorithm: BaseGA, with params: {'epoch': 300, 'pop_size': 500, 'pc': 0.95, 'pm': 0.2}, trial: 1, best fitness: 58.59037428037786\n",
      "Algorithm: BaseGA, with params: {'epoch': 300, 'pop_size': 500, 'pc': 0.95, 'pm': 0.2}, trial: 2, best fitness: 268.58407263770033\n"
     ]
    },
    {
     "name": "stderr",
     "output_type": "stream",
     "text": [
      "2024/02/22 05:16:52 PM, INFO, mealpy.evolutionary_based.GA.BaseGA: >>>Problem: Rosenbrock function, Epoch: 1, Current best: 113.96574311247457, Global best: 113.96574311247457, Runtime: 0.10881 seconds\n",
      "2024/02/22 05:16:52 PM, WARNING, mealpy.evolutionary_based.GA.BaseGA: Stopping criterion with maximum running time/time bound (TB) (seconds) occurred. End program!\n",
      "2024/02/22 05:16:52 PM, INFO, mealpy.evolutionary_based.GA.BaseGA: Solving single objective optimization problem.\n",
      "2024/02/22 05:16:52 PM, INFO, mealpy.evolutionary_based.GA.BaseGA: >>>Problem: Rosenbrock function, Epoch: 1, Current best: 352.40698125835706, Global best: 352.40698125835706, Runtime: 0.10564 seconds\n",
      "2024/02/22 05:16:52 PM, WARNING, mealpy.evolutionary_based.GA.BaseGA: Stopping criterion with maximum running time/time bound (TB) (seconds) occurred. End program!\n",
      "2024/02/22 05:16:52 PM, INFO, mealpy.evolutionary_based.GA.BaseGA: Solving single objective optimization problem.\n"
     ]
    },
    {
     "name": "stdout",
     "output_type": "stream",
     "text": [
      "Algorithm: BaseGA, with params: {'epoch': 300, 'pop_size': 500, 'pc': 0.95, 'pm': 0.2}, trial: 3, best fitness: 113.96574311247457\n",
      "Algorithm: BaseGA, with params: {'epoch': 300, 'pop_size': 500, 'pc': 0.95, 'pm': 0.2}, trial: 4, best fitness: 352.40698125835706\n"
     ]
    },
    {
     "name": "stderr",
     "output_type": "stream",
     "text": [
      "2024/02/22 05:16:52 PM, INFO, mealpy.evolutionary_based.GA.BaseGA: >>>Problem: Rosenbrock function, Epoch: 1, Current best: 419.7869188522776, Global best: 419.7869188522776, Runtime: 0.11688 seconds\n",
      "2024/02/22 05:16:52 PM, WARNING, mealpy.evolutionary_based.GA.BaseGA: Stopping criterion with maximum running time/time bound (TB) (seconds) occurred. End program!\n",
      "2024/02/22 05:16:52 PM, INFO, mealpy.evolutionary_based.GA.BaseGA: Solving single objective optimization problem.\n",
      "2024/02/22 05:16:52 PM, INFO, mealpy.evolutionary_based.GA.BaseGA: >>>Problem: Rosenbrock function, Epoch: 1, Current best: 152.50544903086734, Global best: 152.50544903086734, Runtime: 0.10324 seconds\n",
      "2024/02/22 05:16:52 PM, WARNING, mealpy.evolutionary_based.GA.BaseGA: Stopping criterion with maximum running time/time bound (TB) (seconds) occurred. End program!\n",
      "2024/02/22 05:16:52 PM, INFO, mealpy.evolutionary_based.GA.BaseGA: Solving single objective optimization problem.\n"
     ]
    },
    {
     "name": "stdout",
     "output_type": "stream",
     "text": [
      "Algorithm: BaseGA, with params: {'epoch': 300, 'pop_size': 500, 'pc': 0.95, 'pm': 0.2}, trial: 5, best fitness: 419.7869188522776\n",
      "Algorithm: BaseGA, with params: {'epoch': 300, 'pop_size': 500, 'pc': 0.9, 'pm': 0.01}, trial: 1, best fitness: 152.50544903086734\n"
     ]
    },
    {
     "name": "stderr",
     "output_type": "stream",
     "text": [
      "2024/02/22 05:16:52 PM, INFO, mealpy.evolutionary_based.GA.BaseGA: >>>Problem: Rosenbrock function, Epoch: 1, Current best: 306.1981997929129, Global best: 306.1981997929129, Runtime: 0.10547 seconds\n",
      "2024/02/22 05:16:52 PM, WARNING, mealpy.evolutionary_based.GA.BaseGA: Stopping criterion with maximum running time/time bound (TB) (seconds) occurred. End program!\n",
      "2024/02/22 05:16:52 PM, INFO, mealpy.evolutionary_based.GA.BaseGA: Solving single objective optimization problem.\n",
      "2024/02/22 05:16:52 PM, INFO, mealpy.evolutionary_based.GA.BaseGA: >>>Problem: Rosenbrock function, Epoch: 1, Current best: 261.6008945649611, Global best: 261.6008945649611, Runtime: 0.10504 seconds\n",
      "2024/02/22 05:16:52 PM, WARNING, mealpy.evolutionary_based.GA.BaseGA: Stopping criterion with maximum running time/time bound (TB) (seconds) occurred. End program!\n",
      "2024/02/22 05:16:52 PM, INFO, mealpy.evolutionary_based.GA.BaseGA: Solving single objective optimization problem.\n"
     ]
    },
    {
     "name": "stdout",
     "output_type": "stream",
     "text": [
      "Algorithm: BaseGA, with params: {'epoch': 300, 'pop_size': 500, 'pc': 0.9, 'pm': 0.01}, trial: 2, best fitness: 306.1981997929129\n",
      "Algorithm: BaseGA, with params: {'epoch': 300, 'pop_size': 500, 'pc': 0.9, 'pm': 0.01}, trial: 3, best fitness: 261.6008945649611\n"
     ]
    },
    {
     "name": "stderr",
     "output_type": "stream",
     "text": [
      "2024/02/22 05:16:53 PM, INFO, mealpy.evolutionary_based.GA.BaseGA: >>>Problem: Rosenbrock function, Epoch: 1, Current best: 83.62141842992015, Global best: 83.62141842992015, Runtime: 0.10664 seconds\n",
      "2024/02/22 05:16:53 PM, WARNING, mealpy.evolutionary_based.GA.BaseGA: Stopping criterion with maximum running time/time bound (TB) (seconds) occurred. End program!\n",
      "2024/02/22 05:16:53 PM, INFO, mealpy.evolutionary_based.GA.BaseGA: Solving single objective optimization problem.\n",
      "2024/02/22 05:16:53 PM, INFO, mealpy.evolutionary_based.GA.BaseGA: >>>Problem: Rosenbrock function, Epoch: 1, Current best: 358.7008762847525, Global best: 358.7008762847525, Runtime: 0.15284 seconds\n"
     ]
    },
    {
     "name": "stdout",
     "output_type": "stream",
     "text": [
      "Algorithm: BaseGA, with params: {'epoch': 300, 'pop_size': 500, 'pc': 0.9, 'pm': 0.01}, trial: 4, best fitness: 83.62141842992015\n"
     ]
    },
    {
     "name": "stderr",
     "output_type": "stream",
     "text": [
      "2024/02/22 05:16:53 PM, WARNING, mealpy.evolutionary_based.GA.BaseGA: Stopping criterion with maximum running time/time bound (TB) (seconds) occurred. End program!\n",
      "2024/02/22 05:16:53 PM, INFO, mealpy.evolutionary_based.GA.BaseGA: Solving single objective optimization problem.\n",
      "2024/02/22 05:16:53 PM, INFO, mealpy.evolutionary_based.GA.BaseGA: >>>Problem: Rosenbrock function, Epoch: 1, Current best: 140.69421599354982, Global best: 140.69421599354982, Runtime: 0.11393 seconds\n",
      "2024/02/22 05:16:53 PM, WARNING, mealpy.evolutionary_based.GA.BaseGA: Stopping criterion with maximum running time/time bound (TB) (seconds) occurred. End program!\n",
      "2024/02/22 05:16:53 PM, INFO, mealpy.evolutionary_based.GA.BaseGA: Solving single objective optimization problem.\n"
     ]
    },
    {
     "name": "stdout",
     "output_type": "stream",
     "text": [
      "Algorithm: BaseGA, with params: {'epoch': 300, 'pop_size': 500, 'pc': 0.9, 'pm': 0.01}, trial: 5, best fitness: 358.7008762847525\n",
      "Algorithm: BaseGA, with params: {'epoch': 300, 'pop_size': 500, 'pc': 0.9, 'pm': 0.05}, trial: 1, best fitness: 140.69421599354982\n"
     ]
    },
    {
     "name": "stderr",
     "output_type": "stream",
     "text": [
      "2024/02/22 05:16:53 PM, INFO, mealpy.evolutionary_based.GA.BaseGA: >>>Problem: Rosenbrock function, Epoch: 1, Current best: 313.42264558256034, Global best: 313.42264558256034, Runtime: 0.11162 seconds\n",
      "2024/02/22 05:16:53 PM, WARNING, mealpy.evolutionary_based.GA.BaseGA: Stopping criterion with maximum running time/time bound (TB) (seconds) occurred. End program!\n",
      "2024/02/22 05:16:53 PM, INFO, mealpy.evolutionary_based.GA.BaseGA: Solving single objective optimization problem.\n",
      "2024/02/22 05:16:53 PM, INFO, mealpy.evolutionary_based.GA.BaseGA: >>>Problem: Rosenbrock function, Epoch: 1, Current best: 52.11455889143644, Global best: 52.11455889143644, Runtime: 0.10739 seconds\n",
      "2024/02/22 05:16:53 PM, WARNING, mealpy.evolutionary_based.GA.BaseGA: Stopping criterion with maximum running time/time bound (TB) (seconds) occurred. End program!\n",
      "2024/02/22 05:16:53 PM, INFO, mealpy.evolutionary_based.GA.BaseGA: Solving single objective optimization problem.\n"
     ]
    },
    {
     "name": "stdout",
     "output_type": "stream",
     "text": [
      "Algorithm: BaseGA, with params: {'epoch': 300, 'pop_size': 500, 'pc': 0.9, 'pm': 0.05}, trial: 2, best fitness: 313.42264558256034\n",
      "Algorithm: BaseGA, with params: {'epoch': 300, 'pop_size': 500, 'pc': 0.9, 'pm': 0.05}, trial: 3, best fitness: 52.11455889143644\n"
     ]
    },
    {
     "name": "stderr",
     "output_type": "stream",
     "text": [
      "2024/02/22 05:16:53 PM, INFO, mealpy.evolutionary_based.GA.BaseGA: >>>Problem: Rosenbrock function, Epoch: 1, Current best: 323.76000983311224, Global best: 323.76000983311224, Runtime: 0.11163 seconds\n",
      "2024/02/22 05:16:53 PM, WARNING, mealpy.evolutionary_based.GA.BaseGA: Stopping criterion with maximum running time/time bound (TB) (seconds) occurred. End program!\n",
      "2024/02/22 05:16:53 PM, INFO, mealpy.evolutionary_based.GA.BaseGA: Solving single objective optimization problem.\n",
      "2024/02/22 05:16:53 PM, INFO, mealpy.evolutionary_based.GA.BaseGA: >>>Problem: Rosenbrock function, Epoch: 1, Current best: 67.42232551722839, Global best: 67.42232551722839, Runtime: 0.10795 seconds\n",
      "2024/02/22 05:16:53 PM, WARNING, mealpy.evolutionary_based.GA.BaseGA: Stopping criterion with maximum running time/time bound (TB) (seconds) occurred. End program!\n",
      "2024/02/22 05:16:53 PM, INFO, mealpy.evolutionary_based.GA.BaseGA: Solving single objective optimization problem.\n"
     ]
    },
    {
     "name": "stdout",
     "output_type": "stream",
     "text": [
      "Algorithm: BaseGA, with params: {'epoch': 300, 'pop_size': 500, 'pc': 0.9, 'pm': 0.05}, trial: 4, best fitness: 323.76000983311224\n",
      "Algorithm: BaseGA, with params: {'epoch': 300, 'pop_size': 500, 'pc': 0.9, 'pm': 0.05}, trial: 5, best fitness: 67.42232551722839\n"
     ]
    },
    {
     "name": "stderr",
     "output_type": "stream",
     "text": [
      "2024/02/22 05:16:54 PM, INFO, mealpy.evolutionary_based.GA.BaseGA: >>>Problem: Rosenbrock function, Epoch: 1, Current best: 166.00680488538723, Global best: 166.00680488538723, Runtime: 0.10955 seconds\n",
      "2024/02/22 05:16:54 PM, WARNING, mealpy.evolutionary_based.GA.BaseGA: Stopping criterion with maximum running time/time bound (TB) (seconds) occurred. End program!\n",
      "2024/02/22 05:16:54 PM, INFO, mealpy.evolutionary_based.GA.BaseGA: Solving single objective optimization problem.\n",
      "2024/02/22 05:16:54 PM, INFO, mealpy.evolutionary_based.GA.BaseGA: >>>Problem: Rosenbrock function, Epoch: 1, Current best: 378.43540958600784, Global best: 378.43540958600784, Runtime: 0.10906 seconds\n",
      "2024/02/22 05:16:54 PM, WARNING, mealpy.evolutionary_based.GA.BaseGA: Stopping criterion with maximum running time/time bound (TB) (seconds) occurred. End program!\n",
      "2024/02/22 05:16:54 PM, INFO, mealpy.evolutionary_based.GA.BaseGA: Solving single objective optimization problem.\n"
     ]
    },
    {
     "name": "stdout",
     "output_type": "stream",
     "text": [
      "Algorithm: BaseGA, with params: {'epoch': 300, 'pop_size': 500, 'pc': 0.9, 'pm': 0.1}, trial: 1, best fitness: 166.00680488538723\n",
      "Algorithm: BaseGA, with params: {'epoch': 300, 'pop_size': 500, 'pc': 0.9, 'pm': 0.1}, trial: 2, best fitness: 378.43540958600784\n"
     ]
    },
    {
     "name": "stderr",
     "output_type": "stream",
     "text": [
      "2024/02/22 05:16:54 PM, INFO, mealpy.evolutionary_based.GA.BaseGA: >>>Problem: Rosenbrock function, Epoch: 1, Current best: 67.12679644421982, Global best: 67.12679644421982, Runtime: 0.11006 seconds\n",
      "2024/02/22 05:16:54 PM, WARNING, mealpy.evolutionary_based.GA.BaseGA: Stopping criterion with maximum running time/time bound (TB) (seconds) occurred. End program!\n",
      "2024/02/22 05:16:54 PM, INFO, mealpy.evolutionary_based.GA.BaseGA: Solving single objective optimization problem.\n",
      "2024/02/22 05:16:54 PM, INFO, mealpy.evolutionary_based.GA.BaseGA: >>>Problem: Rosenbrock function, Epoch: 1, Current best: 268.3177308279052, Global best: 268.3177308279052, Runtime: 0.11101 seconds\n",
      "2024/02/22 05:16:54 PM, WARNING, mealpy.evolutionary_based.GA.BaseGA: Stopping criterion with maximum running time/time bound (TB) (seconds) occurred. End program!\n",
      "2024/02/22 05:16:54 PM, INFO, mealpy.evolutionary_based.GA.BaseGA: Solving single objective optimization problem.\n"
     ]
    },
    {
     "name": "stdout",
     "output_type": "stream",
     "text": [
      "Algorithm: BaseGA, with params: {'epoch': 300, 'pop_size': 500, 'pc': 0.9, 'pm': 0.1}, trial: 3, best fitness: 67.12679644421982\n",
      "Algorithm: BaseGA, with params: {'epoch': 300, 'pop_size': 500, 'pc': 0.9, 'pm': 0.1}, trial: 4, best fitness: 268.3177308279052\n"
     ]
    },
    {
     "name": "stderr",
     "output_type": "stream",
     "text": [
      "2024/02/22 05:16:54 PM, INFO, mealpy.evolutionary_based.GA.BaseGA: >>>Problem: Rosenbrock function, Epoch: 1, Current best: 83.3473295616507, Global best: 83.3473295616507, Runtime: 0.13720 seconds\n",
      "2024/02/22 05:16:54 PM, WARNING, mealpy.evolutionary_based.GA.BaseGA: Stopping criterion with maximum running time/time bound (TB) (seconds) occurred. End program!\n",
      "2024/02/22 05:16:54 PM, INFO, mealpy.evolutionary_based.GA.BaseGA: Solving single objective optimization problem.\n",
      "2024/02/22 05:16:54 PM, INFO, mealpy.evolutionary_based.GA.BaseGA: >>>Problem: Rosenbrock function, Epoch: 1, Current best: 137.51709309646785, Global best: 137.51709309646785, Runtime: 0.11106 seconds\n",
      "2024/02/22 05:16:54 PM, WARNING, mealpy.evolutionary_based.GA.BaseGA: Stopping criterion with maximum running time/time bound (TB) (seconds) occurred. End program!\n",
      "2024/02/22 05:16:54 PM, INFO, mealpy.evolutionary_based.GA.BaseGA: Solving single objective optimization problem.\n"
     ]
    },
    {
     "name": "stdout",
     "output_type": "stream",
     "text": [
      "Algorithm: BaseGA, with params: {'epoch': 300, 'pop_size': 500, 'pc': 0.9, 'pm': 0.1}, trial: 5, best fitness: 83.3473295616507\n",
      "Algorithm: BaseGA, with params: {'epoch': 300, 'pop_size': 500, 'pc': 0.9, 'pm': 0.2}, trial: 1, best fitness: 137.51709309646785\n"
     ]
    },
    {
     "name": "stderr",
     "output_type": "stream",
     "text": [
      "2024/02/22 05:16:54 PM, INFO, mealpy.evolutionary_based.GA.BaseGA: >>>Problem: Rosenbrock function, Epoch: 1, Current best: 271.65469705038504, Global best: 271.65469705038504, Runtime: 0.11205 seconds\n",
      "2024/02/22 05:16:54 PM, WARNING, mealpy.evolutionary_based.GA.BaseGA: Stopping criterion with maximum running time/time bound (TB) (seconds) occurred. End program!\n",
      "2024/02/22 05:16:54 PM, INFO, mealpy.evolutionary_based.GA.BaseGA: Solving single objective optimization problem.\n",
      "2024/02/22 05:16:55 PM, INFO, mealpy.evolutionary_based.GA.BaseGA: >>>Problem: Rosenbrock function, Epoch: 1, Current best: 78.8967579021308, Global best: 78.8967579021308, Runtime: 0.10825 seconds\n",
      "2024/02/22 05:16:55 PM, WARNING, mealpy.evolutionary_based.GA.BaseGA: Stopping criterion with maximum running time/time bound (TB) (seconds) occurred. End program!\n",
      "2024/02/22 05:16:55 PM, INFO, mealpy.evolutionary_based.GA.BaseGA: Solving single objective optimization problem.\n"
     ]
    },
    {
     "name": "stdout",
     "output_type": "stream",
     "text": [
      "Algorithm: BaseGA, with params: {'epoch': 300, 'pop_size': 500, 'pc': 0.9, 'pm': 0.2}, trial: 2, best fitness: 271.65469705038504\n",
      "Algorithm: BaseGA, with params: {'epoch': 300, 'pop_size': 500, 'pc': 0.9, 'pm': 0.2}, trial: 3, best fitness: 78.8967579021308\n"
     ]
    },
    {
     "name": "stderr",
     "output_type": "stream",
     "text": [
      "2024/02/22 05:16:55 PM, INFO, mealpy.evolutionary_based.GA.BaseGA: >>>Problem: Rosenbrock function, Epoch: 1, Current best: 41.68263897073137, Global best: 41.68263897073137, Runtime: 0.11462 seconds\n",
      "2024/02/22 05:16:55 PM, WARNING, mealpy.evolutionary_based.GA.BaseGA: Stopping criterion with maximum running time/time bound (TB) (seconds) occurred. End program!\n",
      "2024/02/22 05:16:55 PM, INFO, mealpy.evolutionary_based.GA.BaseGA: Solving single objective optimization problem.\n",
      "2024/02/22 05:16:55 PM, INFO, mealpy.evolutionary_based.GA.BaseGA: >>>Problem: Rosenbrock function, Epoch: 1, Current best: 337.4155213459166, Global best: 337.4155213459166, Runtime: 0.10696 seconds\n",
      "2024/02/22 05:16:55 PM, WARNING, mealpy.evolutionary_based.GA.BaseGA: Stopping criterion with maximum running time/time bound (TB) (seconds) occurred. End program!\n",
      "2024/02/22 05:16:55 PM, INFO, mealpy.evolutionary_based.GA.BaseGA: Solving single objective optimization problem.\n"
     ]
    },
    {
     "name": "stdout",
     "output_type": "stream",
     "text": [
      "Algorithm: BaseGA, with params: {'epoch': 300, 'pop_size': 500, 'pc': 0.9, 'pm': 0.2}, trial: 4, best fitness: 41.68263897073137\n",
      "Algorithm: BaseGA, with params: {'epoch': 300, 'pop_size': 500, 'pc': 0.9, 'pm': 0.2}, trial: 5, best fitness: 337.4155213459166\n"
     ]
    },
    {
     "name": "stderr",
     "output_type": "stream",
     "text": [
      "2024/02/22 05:16:55 PM, INFO, mealpy.evolutionary_based.GA.BaseGA: >>>Problem: Rosenbrock function, Epoch: 1, Current best: 109.54085090182518, Global best: 109.54085090182518, Runtime: 0.11712 seconds\n",
      "2024/02/22 05:16:55 PM, WARNING, mealpy.evolutionary_based.GA.BaseGA: Stopping criterion with maximum running time/time bound (TB) (seconds) occurred. End program!\n",
      "2024/02/22 05:16:55 PM, INFO, mealpy.evolutionary_based.GA.BaseGA: Solving single objective optimization problem.\n",
      "2024/02/22 05:16:55 PM, INFO, mealpy.evolutionary_based.GA.BaseGA: >>>Problem: Rosenbrock function, Epoch: 1, Current best: 106.71396773528784, Global best: 106.71396773528784, Runtime: 0.10987 seconds\n",
      "2024/02/22 05:16:55 PM, WARNING, mealpy.evolutionary_based.GA.BaseGA: Stopping criterion with maximum running time/time bound (TB) (seconds) occurred. End program!\n",
      "2024/02/22 05:16:55 PM, INFO, mealpy.evolutionary_based.GA.BaseGA: Solving single objective optimization problem.\n"
     ]
    },
    {
     "name": "stdout",
     "output_type": "stream",
     "text": [
      "Algorithm: BaseGA, with params: {'epoch': 300, 'pop_size': 500, 'pc': 0.8, 'pm': 0.01}, trial: 1, best fitness: 109.54085090182518\n",
      "Algorithm: BaseGA, with params: {'epoch': 300, 'pop_size': 500, 'pc': 0.8, 'pm': 0.01}, trial: 2, best fitness: 106.71396773528784\n"
     ]
    },
    {
     "name": "stderr",
     "output_type": "stream",
     "text": [
      "2024/02/22 05:16:55 PM, INFO, mealpy.evolutionary_based.GA.BaseGA: >>>Problem: Rosenbrock function, Epoch: 1, Current best: 508.2300734024449, Global best: 508.2300734024449, Runtime: 0.10754 seconds\n",
      "2024/02/22 05:16:55 PM, WARNING, mealpy.evolutionary_based.GA.BaseGA: Stopping criterion with maximum running time/time bound (TB) (seconds) occurred. End program!\n",
      "2024/02/22 05:16:55 PM, INFO, mealpy.evolutionary_based.GA.BaseGA: Solving single objective optimization problem.\n",
      "2024/02/22 05:16:55 PM, INFO, mealpy.evolutionary_based.GA.BaseGA: >>>Problem: Rosenbrock function, Epoch: 1, Current best: 185.8594253506097, Global best: 185.8594253506097, Runtime: 0.10514 seconds\n",
      "2024/02/22 05:16:55 PM, WARNING, mealpy.evolutionary_based.GA.BaseGA: Stopping criterion with maximum running time/time bound (TB) (seconds) occurred. End program!\n",
      "2024/02/22 05:16:55 PM, INFO, mealpy.evolutionary_based.GA.BaseGA: Solving single objective optimization problem.\n"
     ]
    },
    {
     "name": "stdout",
     "output_type": "stream",
     "text": [
      "Algorithm: BaseGA, with params: {'epoch': 300, 'pop_size': 500, 'pc': 0.8, 'pm': 0.01}, trial: 3, best fitness: 508.2300734024449\n",
      "Algorithm: BaseGA, with params: {'epoch': 300, 'pop_size': 500, 'pc': 0.8, 'pm': 0.01}, trial: 4, best fitness: 185.8594253506097\n"
     ]
    },
    {
     "name": "stderr",
     "output_type": "stream",
     "text": [
      "2024/02/22 05:16:55 PM, INFO, mealpy.evolutionary_based.GA.BaseGA: >>>Problem: Rosenbrock function, Epoch: 1, Current best: 434.9744430397529, Global best: 434.9744430397529, Runtime: 0.10813 seconds\n",
      "2024/02/22 05:16:55 PM, WARNING, mealpy.evolutionary_based.GA.BaseGA: Stopping criterion with maximum running time/time bound (TB) (seconds) occurred. End program!\n",
      "2024/02/22 05:16:55 PM, INFO, mealpy.evolutionary_based.GA.BaseGA: Solving single objective optimization problem.\n",
      "2024/02/22 05:16:56 PM, INFO, mealpy.evolutionary_based.GA.BaseGA: >>>Problem: Rosenbrock function, Epoch: 1, Current best: 128.20746297034563, Global best: 128.20746297034563, Runtime: 0.10891 seconds\n",
      "2024/02/22 05:16:56 PM, WARNING, mealpy.evolutionary_based.GA.BaseGA: Stopping criterion with maximum running time/time bound (TB) (seconds) occurred. End program!\n",
      "2024/02/22 05:16:56 PM, INFO, mealpy.evolutionary_based.GA.BaseGA: Solving single objective optimization problem.\n"
     ]
    },
    {
     "name": "stdout",
     "output_type": "stream",
     "text": [
      "Algorithm: BaseGA, with params: {'epoch': 300, 'pop_size': 500, 'pc': 0.8, 'pm': 0.01}, trial: 5, best fitness: 434.9744430397529\n",
      "Algorithm: BaseGA, with params: {'epoch': 300, 'pop_size': 500, 'pc': 0.8, 'pm': 0.05}, trial: 1, best fitness: 128.20746297034563\n"
     ]
    },
    {
     "name": "stderr",
     "output_type": "stream",
     "text": [
      "2024/02/22 05:16:56 PM, INFO, mealpy.evolutionary_based.GA.BaseGA: >>>Problem: Rosenbrock function, Epoch: 1, Current best: 444.8733146342678, Global best: 444.8733146342678, Runtime: 0.12236 seconds\n",
      "2024/02/22 05:16:56 PM, WARNING, mealpy.evolutionary_based.GA.BaseGA: Stopping criterion with maximum running time/time bound (TB) (seconds) occurred. End program!\n",
      "2024/02/22 05:16:56 PM, INFO, mealpy.evolutionary_based.GA.BaseGA: Solving single objective optimization problem.\n",
      "2024/02/22 05:16:56 PM, INFO, mealpy.evolutionary_based.GA.BaseGA: >>>Problem: Rosenbrock function, Epoch: 1, Current best: 300.2824682963352, Global best: 300.2824682963352, Runtime: 0.11235 seconds\n",
      "2024/02/22 05:16:56 PM, WARNING, mealpy.evolutionary_based.GA.BaseGA: Stopping criterion with maximum running time/time bound (TB) (seconds) occurred. End program!\n",
      "2024/02/22 05:16:56 PM, INFO, mealpy.evolutionary_based.GA.BaseGA: Solving single objective optimization problem.\n"
     ]
    },
    {
     "name": "stdout",
     "output_type": "stream",
     "text": [
      "Algorithm: BaseGA, with params: {'epoch': 300, 'pop_size': 500, 'pc': 0.8, 'pm': 0.05}, trial: 2, best fitness: 444.8733146342678\n",
      "Algorithm: BaseGA, with params: {'epoch': 300, 'pop_size': 500, 'pc': 0.8, 'pm': 0.05}, trial: 3, best fitness: 300.2824682963352\n"
     ]
    },
    {
     "name": "stderr",
     "output_type": "stream",
     "text": [
      "2024/02/22 05:16:56 PM, INFO, mealpy.evolutionary_based.GA.BaseGA: >>>Problem: Rosenbrock function, Epoch: 1, Current best: 356.5916188108861, Global best: 356.5916188108861, Runtime: 0.11335 seconds\n",
      "2024/02/22 05:16:56 PM, WARNING, mealpy.evolutionary_based.GA.BaseGA: Stopping criterion with maximum running time/time bound (TB) (seconds) occurred. End program!\n",
      "2024/02/22 05:16:56 PM, INFO, mealpy.evolutionary_based.GA.BaseGA: Solving single objective optimization problem.\n",
      "2024/02/22 05:16:56 PM, INFO, mealpy.evolutionary_based.GA.BaseGA: >>>Problem: Rosenbrock function, Epoch: 1, Current best: 426.3824531938745, Global best: 426.3824531938745, Runtime: 0.10738 seconds\n",
      "2024/02/22 05:16:56 PM, WARNING, mealpy.evolutionary_based.GA.BaseGA: Stopping criterion with maximum running time/time bound (TB) (seconds) occurred. End program!\n",
      "2024/02/22 05:16:56 PM, INFO, mealpy.evolutionary_based.GA.BaseGA: Solving single objective optimization problem.\n"
     ]
    },
    {
     "name": "stdout",
     "output_type": "stream",
     "text": [
      "Algorithm: BaseGA, with params: {'epoch': 300, 'pop_size': 500, 'pc': 0.8, 'pm': 0.05}, trial: 4, best fitness: 356.5916188108861\n",
      "Algorithm: BaseGA, with params: {'epoch': 300, 'pop_size': 500, 'pc': 0.8, 'pm': 0.05}, trial: 5, best fitness: 426.3824531938745\n"
     ]
    },
    {
     "name": "stderr",
     "output_type": "stream",
     "text": [
      "2024/02/22 05:16:56 PM, INFO, mealpy.evolutionary_based.GA.BaseGA: >>>Problem: Rosenbrock function, Epoch: 1, Current best: 682.300747341573, Global best: 682.300747341573, Runtime: 0.11332 seconds\n",
      "2024/02/22 05:16:56 PM, WARNING, mealpy.evolutionary_based.GA.BaseGA: Stopping criterion with maximum running time/time bound (TB) (seconds) occurred. End program!\n",
      "2024/02/22 05:16:56 PM, INFO, mealpy.evolutionary_based.GA.BaseGA: Solving single objective optimization problem.\n",
      "2024/02/22 05:16:56 PM, INFO, mealpy.evolutionary_based.GA.BaseGA: >>>Problem: Rosenbrock function, Epoch: 1, Current best: 150.6718135179775, Global best: 150.6718135179775, Runtime: 0.11161 seconds\n",
      "2024/02/22 05:16:56 PM, WARNING, mealpy.evolutionary_based.GA.BaseGA: Stopping criterion with maximum running time/time bound (TB) (seconds) occurred. End program!\n",
      "2024/02/22 05:16:56 PM, INFO, mealpy.evolutionary_based.GA.BaseGA: Solving single objective optimization problem.\n"
     ]
    },
    {
     "name": "stdout",
     "output_type": "stream",
     "text": [
      "Algorithm: BaseGA, with params: {'epoch': 300, 'pop_size': 500, 'pc': 0.8, 'pm': 0.1}, trial: 1, best fitness: 682.300747341573\n",
      "Algorithm: BaseGA, with params: {'epoch': 300, 'pop_size': 500, 'pc': 0.8, 'pm': 0.1}, trial: 2, best fitness: 150.6718135179775\n"
     ]
    },
    {
     "name": "stderr",
     "output_type": "stream",
     "text": [
      "2024/02/22 05:16:57 PM, INFO, mealpy.evolutionary_based.GA.BaseGA: >>>Problem: Rosenbrock function, Epoch: 1, Current best: 79.56168934240804, Global best: 79.56168934240804, Runtime: 0.11162 seconds\n",
      "2024/02/22 05:16:57 PM, WARNING, mealpy.evolutionary_based.GA.BaseGA: Stopping criterion with maximum running time/time bound (TB) (seconds) occurred. End program!\n",
      "2024/02/22 05:16:57 PM, INFO, mealpy.evolutionary_based.GA.BaseGA: Solving single objective optimization problem.\n",
      "2024/02/22 05:16:57 PM, INFO, mealpy.evolutionary_based.GA.BaseGA: >>>Problem: Rosenbrock function, Epoch: 1, Current best: 160.3827586697962, Global best: 160.3827586697962, Runtime: 0.10964 seconds\n",
      "2024/02/22 05:16:57 PM, WARNING, mealpy.evolutionary_based.GA.BaseGA: Stopping criterion with maximum running time/time bound (TB) (seconds) occurred. End program!\n",
      "2024/02/22 05:16:57 PM, INFO, mealpy.evolutionary_based.GA.BaseGA: Solving single objective optimization problem.\n"
     ]
    },
    {
     "name": "stdout",
     "output_type": "stream",
     "text": [
      "Algorithm: BaseGA, with params: {'epoch': 300, 'pop_size': 500, 'pc': 0.8, 'pm': 0.1}, trial: 3, best fitness: 79.56168934240804\n",
      "Algorithm: BaseGA, with params: {'epoch': 300, 'pop_size': 500, 'pc': 0.8, 'pm': 0.1}, trial: 4, best fitness: 160.3827586697962\n"
     ]
    },
    {
     "name": "stderr",
     "output_type": "stream",
     "text": [
      "2024/02/22 05:16:57 PM, INFO, mealpy.evolutionary_based.GA.BaseGA: >>>Problem: Rosenbrock function, Epoch: 1, Current best: 671.3127442262224, Global best: 671.3127442262224, Runtime: 0.11259 seconds\n",
      "2024/02/22 05:16:57 PM, WARNING, mealpy.evolutionary_based.GA.BaseGA: Stopping criterion with maximum running time/time bound (TB) (seconds) occurred. End program!\n",
      "2024/02/22 05:16:57 PM, INFO, mealpy.evolutionary_based.GA.BaseGA: Solving single objective optimization problem.\n",
      "2024/02/22 05:16:57 PM, INFO, mealpy.evolutionary_based.GA.BaseGA: >>>Problem: Rosenbrock function, Epoch: 1, Current best: 109.07040556283224, Global best: 109.07040556283224, Runtime: 0.11670 seconds\n",
      "2024/02/22 05:16:57 PM, WARNING, mealpy.evolutionary_based.GA.BaseGA: Stopping criterion with maximum running time/time bound (TB) (seconds) occurred. End program!\n",
      "2024/02/22 05:16:57 PM, INFO, mealpy.evolutionary_based.GA.BaseGA: Solving single objective optimization problem.\n"
     ]
    },
    {
     "name": "stdout",
     "output_type": "stream",
     "text": [
      "Algorithm: BaseGA, with params: {'epoch': 300, 'pop_size': 500, 'pc': 0.8, 'pm': 0.1}, trial: 5, best fitness: 671.3127442262224\n",
      "Algorithm: BaseGA, with params: {'epoch': 300, 'pop_size': 500, 'pc': 0.8, 'pm': 0.2}, trial: 1, best fitness: 109.07040556283224\n"
     ]
    },
    {
     "name": "stderr",
     "output_type": "stream",
     "text": [
      "2024/02/22 05:16:57 PM, INFO, mealpy.evolutionary_based.GA.BaseGA: >>>Problem: Rosenbrock function, Epoch: 1, Current best: 378.8620445861386, Global best: 378.8620445861386, Runtime: 0.11217 seconds\n",
      "2024/02/22 05:16:57 PM, WARNING, mealpy.evolutionary_based.GA.BaseGA: Stopping criterion with maximum running time/time bound (TB) (seconds) occurred. End program!\n",
      "2024/02/22 05:16:57 PM, INFO, mealpy.evolutionary_based.GA.BaseGA: Solving single objective optimization problem.\n",
      "2024/02/22 05:16:57 PM, INFO, mealpy.evolutionary_based.GA.BaseGA: >>>Problem: Rosenbrock function, Epoch: 1, Current best: 357.8985201902674, Global best: 357.8985201902674, Runtime: 0.11028 seconds\n",
      "2024/02/22 05:16:57 PM, WARNING, mealpy.evolutionary_based.GA.BaseGA: Stopping criterion with maximum running time/time bound (TB) (seconds) occurred. End program!\n",
      "2024/02/22 05:16:57 PM, INFO, mealpy.evolutionary_based.GA.BaseGA: Solving single objective optimization problem.\n"
     ]
    },
    {
     "name": "stdout",
     "output_type": "stream",
     "text": [
      "Algorithm: BaseGA, with params: {'epoch': 300, 'pop_size': 500, 'pc': 0.8, 'pm': 0.2}, trial: 2, best fitness: 378.8620445861386\n",
      "Algorithm: BaseGA, with params: {'epoch': 300, 'pop_size': 500, 'pc': 0.8, 'pm': 0.2}, trial: 3, best fitness: 357.8985201902674\n"
     ]
    },
    {
     "name": "stderr",
     "output_type": "stream",
     "text": [
      "2024/02/22 05:16:57 PM, INFO, mealpy.evolutionary_based.GA.BaseGA: >>>Problem: Rosenbrock function, Epoch: 1, Current best: 310.6672109481031, Global best: 310.6672109481031, Runtime: 0.11316 seconds\n",
      "2024/02/22 05:16:57 PM, WARNING, mealpy.evolutionary_based.GA.BaseGA: Stopping criterion with maximum running time/time bound (TB) (seconds) occurred. End program!\n",
      "2024/02/22 05:16:57 PM, INFO, mealpy.evolutionary_based.GA.BaseGA: Solving single objective optimization problem.\n",
      "2024/02/22 05:16:58 PM, INFO, mealpy.evolutionary_based.GA.BaseGA: >>>Problem: Rosenbrock function, Epoch: 1, Current best: 212.41278393059315, Global best: 212.41278393059315, Runtime: 0.10899 seconds\n",
      "2024/02/22 05:16:58 PM, WARNING, mealpy.evolutionary_based.GA.BaseGA: Stopping criterion with maximum running time/time bound (TB) (seconds) occurred. End program!\n",
      "2024/02/22 05:16:58 PM, INFO, mealpy.evolutionary_based.GA.BaseGA: Solving single objective optimization problem.\n"
     ]
    },
    {
     "name": "stdout",
     "output_type": "stream",
     "text": [
      "Algorithm: BaseGA, with params: {'epoch': 300, 'pop_size': 500, 'pc': 0.8, 'pm': 0.2}, trial: 4, best fitness: 310.6672109481031\n",
      "Algorithm: BaseGA, with params: {'epoch': 300, 'pop_size': 500, 'pc': 0.8, 'pm': 0.2}, trial: 5, best fitness: 212.41278393059315\n"
     ]
    },
    {
     "name": "stderr",
     "output_type": "stream",
     "text": [
      "2024/02/22 05:16:58 PM, INFO, mealpy.evolutionary_based.GA.BaseGA: >>>Problem: Rosenbrock function, Epoch: 1, Current best: 167.38755305398394, Global best: 167.38755305398394, Runtime: 0.10389 seconds\n",
      "2024/02/22 05:16:58 PM, WARNING, mealpy.evolutionary_based.GA.BaseGA: Stopping criterion with maximum running time/time bound (TB) (seconds) occurred. End program!\n",
      "2024/02/22 05:16:58 PM, INFO, mealpy.evolutionary_based.GA.BaseGA: Solving single objective optimization problem.\n",
      "2024/02/22 05:16:58 PM, INFO, mealpy.evolutionary_based.GA.BaseGA: >>>Problem: Rosenbrock function, Epoch: 1, Current best: 101.38275760554826, Global best: 101.38275760554826, Runtime: 0.10326 seconds\n",
      "2024/02/22 05:16:58 PM, WARNING, mealpy.evolutionary_based.GA.BaseGA: Stopping criterion with maximum running time/time bound (TB) (seconds) occurred. End program!\n",
      "2024/02/22 05:16:58 PM, INFO, mealpy.evolutionary_based.GA.BaseGA: Solving single objective optimization problem.\n"
     ]
    },
    {
     "name": "stdout",
     "output_type": "stream",
     "text": [
      "Algorithm: BaseGA, with params: {'epoch': 300, 'pop_size': 500, 'pc': 0.7, 'pm': 0.01}, trial: 1, best fitness: 167.38755305398394\n",
      "Algorithm: BaseGA, with params: {'epoch': 300, 'pop_size': 500, 'pc': 0.7, 'pm': 0.01}, trial: 2, best fitness: 101.38275760554826\n"
     ]
    },
    {
     "name": "stderr",
     "output_type": "stream",
     "text": [
      "2024/02/22 05:16:58 PM, INFO, mealpy.evolutionary_based.GA.BaseGA: >>>Problem: Rosenbrock function, Epoch: 1, Current best: 120.74882644424389, Global best: 120.74882644424389, Runtime: 0.10706 seconds\n",
      "2024/02/22 05:16:58 PM, WARNING, mealpy.evolutionary_based.GA.BaseGA: Stopping criterion with maximum running time/time bound (TB) (seconds) occurred. End program!\n",
      "2024/02/22 05:16:58 PM, INFO, mealpy.evolutionary_based.GA.BaseGA: Solving single objective optimization problem.\n",
      "2024/02/22 05:16:58 PM, INFO, mealpy.evolutionary_based.GA.BaseGA: >>>Problem: Rosenbrock function, Epoch: 1, Current best: 167.6701543258892, Global best: 167.6701543258892, Runtime: 0.10208 seconds\n",
      "2024/02/22 05:16:58 PM, WARNING, mealpy.evolutionary_based.GA.BaseGA: Stopping criterion with maximum running time/time bound (TB) (seconds) occurred. End program!\n",
      "2024/02/22 05:16:58 PM, INFO, mealpy.evolutionary_based.GA.BaseGA: Solving single objective optimization problem.\n"
     ]
    },
    {
     "name": "stdout",
     "output_type": "stream",
     "text": [
      "Algorithm: BaseGA, with params: {'epoch': 300, 'pop_size': 500, 'pc': 0.7, 'pm': 0.01}, trial: 3, best fitness: 120.74882644424389\n",
      "Algorithm: BaseGA, with params: {'epoch': 300, 'pop_size': 500, 'pc': 0.7, 'pm': 0.01}, trial: 4, best fitness: 167.6701543258892\n"
     ]
    },
    {
     "name": "stderr",
     "output_type": "stream",
     "text": [
      "2024/02/22 05:16:58 PM, INFO, mealpy.evolutionary_based.GA.BaseGA: >>>Problem: Rosenbrock function, Epoch: 1, Current best: 311.57962331007843, Global best: 311.57962331007843, Runtime: 0.10249 seconds\n",
      "2024/02/22 05:16:58 PM, WARNING, mealpy.evolutionary_based.GA.BaseGA: Stopping criterion with maximum running time/time bound (TB) (seconds) occurred. End program!\n",
      "2024/02/22 05:16:58 PM, INFO, mealpy.evolutionary_based.GA.BaseGA: Solving single objective optimization problem.\n",
      "2024/02/22 05:16:58 PM, INFO, mealpy.evolutionary_based.GA.BaseGA: >>>Problem: Rosenbrock function, Epoch: 1, Current best: 215.19778381494717, Global best: 215.19778381494717, Runtime: 0.10046 seconds\n",
      "2024/02/22 05:16:58 PM, WARNING, mealpy.evolutionary_based.GA.BaseGA: Stopping criterion with maximum running time/time bound (TB) (seconds) occurred. End program!\n",
      "2024/02/22 05:16:58 PM, INFO, mealpy.evolutionary_based.GA.BaseGA: Solving single objective optimization problem.\n"
     ]
    },
    {
     "name": "stdout",
     "output_type": "stream",
     "text": [
      "Algorithm: BaseGA, with params: {'epoch': 300, 'pop_size': 500, 'pc': 0.7, 'pm': 0.01}, trial: 5, best fitness: 311.57962331007843\n",
      "Algorithm: BaseGA, with params: {'epoch': 300, 'pop_size': 500, 'pc': 0.7, 'pm': 0.05}, trial: 1, best fitness: 215.19778381494717\n"
     ]
    },
    {
     "name": "stderr",
     "output_type": "stream",
     "text": [
      "2024/02/22 05:16:59 PM, INFO, mealpy.evolutionary_based.GA.BaseGA: >>>Problem: Rosenbrock function, Epoch: 1, Current best: 378.4522625012163, Global best: 378.4522625012163, Runtime: 0.10392 seconds\n",
      "2024/02/22 05:16:59 PM, WARNING, mealpy.evolutionary_based.GA.BaseGA: Stopping criterion with maximum running time/time bound (TB) (seconds) occurred. End program!\n",
      "2024/02/22 05:16:59 PM, INFO, mealpy.evolutionary_based.GA.BaseGA: Solving single objective optimization problem.\n",
      "2024/02/22 05:16:59 PM, INFO, mealpy.evolutionary_based.GA.BaseGA: >>>Problem: Rosenbrock function, Epoch: 1, Current best: 171.50536284998884, Global best: 171.50536284998884, Runtime: 0.10034 seconds\n",
      "2024/02/22 05:16:59 PM, WARNING, mealpy.evolutionary_based.GA.BaseGA: Stopping criterion with maximum running time/time bound (TB) (seconds) occurred. End program!\n",
      "2024/02/22 05:16:59 PM, INFO, mealpy.evolutionary_based.GA.BaseGA: Solving single objective optimization problem.\n"
     ]
    },
    {
     "name": "stdout",
     "output_type": "stream",
     "text": [
      "Algorithm: BaseGA, with params: {'epoch': 300, 'pop_size': 500, 'pc': 0.7, 'pm': 0.05}, trial: 2, best fitness: 378.4522625012163\n",
      "Algorithm: BaseGA, with params: {'epoch': 300, 'pop_size': 500, 'pc': 0.7, 'pm': 0.05}, trial: 3, best fitness: 171.50536284998884\n"
     ]
    },
    {
     "name": "stderr",
     "output_type": "stream",
     "text": [
      "2024/02/22 05:16:59 PM, INFO, mealpy.evolutionary_based.GA.BaseGA: >>>Problem: Rosenbrock function, Epoch: 1, Current best: 56.766718202499874, Global best: 56.766718202499874, Runtime: 0.10747 seconds\n",
      "2024/02/22 05:16:59 PM, WARNING, mealpy.evolutionary_based.GA.BaseGA: Stopping criterion with maximum running time/time bound (TB) (seconds) occurred. End program!\n",
      "2024/02/22 05:16:59 PM, INFO, mealpy.evolutionary_based.GA.BaseGA: Solving single objective optimization problem.\n",
      "2024/02/22 05:16:59 PM, INFO, mealpy.evolutionary_based.GA.BaseGA: >>>Problem: Rosenbrock function, Epoch: 1, Current best: 253.87001786698156, Global best: 253.87001786698156, Runtime: 0.10319 seconds\n",
      "2024/02/22 05:16:59 PM, WARNING, mealpy.evolutionary_based.GA.BaseGA: Stopping criterion with maximum running time/time bound (TB) (seconds) occurred. End program!\n",
      "2024/02/22 05:16:59 PM, INFO, mealpy.evolutionary_based.GA.BaseGA: Solving single objective optimization problem.\n"
     ]
    },
    {
     "name": "stdout",
     "output_type": "stream",
     "text": [
      "Algorithm: BaseGA, with params: {'epoch': 300, 'pop_size': 500, 'pc': 0.7, 'pm': 0.05}, trial: 4, best fitness: 56.766718202499874\n",
      "Algorithm: BaseGA, with params: {'epoch': 300, 'pop_size': 500, 'pc': 0.7, 'pm': 0.05}, trial: 5, best fitness: 253.87001786698156\n"
     ]
    },
    {
     "name": "stderr",
     "output_type": "stream",
     "text": [
      "2024/02/22 05:16:59 PM, INFO, mealpy.evolutionary_based.GA.BaseGA: >>>Problem: Rosenbrock function, Epoch: 1, Current best: 405.338844284456, Global best: 405.338844284456, Runtime: 0.10505 seconds\n",
      "2024/02/22 05:16:59 PM, WARNING, mealpy.evolutionary_based.GA.BaseGA: Stopping criterion with maximum running time/time bound (TB) (seconds) occurred. End program!\n",
      "2024/02/22 05:16:59 PM, INFO, mealpy.evolutionary_based.GA.BaseGA: Solving single objective optimization problem.\n",
      "2024/02/22 05:16:59 PM, INFO, mealpy.evolutionary_based.GA.BaseGA: >>>Problem: Rosenbrock function, Epoch: 1, Current best: 106.8396346710963, Global best: 106.8396346710963, Runtime: 0.09954 seconds\n",
      "2024/02/22 05:16:59 PM, WARNING, mealpy.evolutionary_based.GA.BaseGA: Stopping criterion with maximum running time/time bound (TB) (seconds) occurred. End program!\n",
      "2024/02/22 05:16:59 PM, INFO, mealpy.evolutionary_based.GA.BaseGA: Solving single objective optimization problem.\n"
     ]
    },
    {
     "name": "stdout",
     "output_type": "stream",
     "text": [
      "Algorithm: BaseGA, with params: {'epoch': 300, 'pop_size': 500, 'pc': 0.7, 'pm': 0.1}, trial: 1, best fitness: 405.338844284456\n",
      "Algorithm: BaseGA, with params: {'epoch': 300, 'pop_size': 500, 'pc': 0.7, 'pm': 0.1}, trial: 2, best fitness: 106.8396346710963\n"
     ]
    },
    {
     "name": "stderr",
     "output_type": "stream",
     "text": [
      "2024/02/22 05:16:59 PM, INFO, mealpy.evolutionary_based.GA.BaseGA: >>>Problem: Rosenbrock function, Epoch: 1, Current best: 415.8181033783914, Global best: 415.8181033783914, Runtime: 0.10366 seconds\n",
      "2024/02/22 05:16:59 PM, WARNING, mealpy.evolutionary_based.GA.BaseGA: Stopping criterion with maximum running time/time bound (TB) (seconds) occurred. End program!\n",
      "2024/02/22 05:16:59 PM, INFO, mealpy.evolutionary_based.GA.BaseGA: Solving single objective optimization problem.\n",
      "2024/02/22 05:16:59 PM, INFO, mealpy.evolutionary_based.GA.BaseGA: >>>Problem: Rosenbrock function, Epoch: 1, Current best: 322.6443298964111, Global best: 322.6443298964111, Runtime: 0.11965 seconds\n",
      "2024/02/22 05:16:59 PM, WARNING, mealpy.evolutionary_based.GA.BaseGA: Stopping criterion with maximum running time/time bound (TB) (seconds) occurred. End program!\n",
      "2024/02/22 05:16:59 PM, INFO, mealpy.evolutionary_based.GA.BaseGA: Solving single objective optimization problem.\n"
     ]
    },
    {
     "name": "stdout",
     "output_type": "stream",
     "text": [
      "Algorithm: BaseGA, with params: {'epoch': 300, 'pop_size': 500, 'pc': 0.7, 'pm': 0.1}, trial: 3, best fitness: 415.8181033783914\n",
      "Algorithm: BaseGA, with params: {'epoch': 300, 'pop_size': 500, 'pc': 0.7, 'pm': 0.1}, trial: 4, best fitness: 322.6443298964111\n"
     ]
    },
    {
     "name": "stderr",
     "output_type": "stream",
     "text": [
      "2024/02/22 05:17:00 PM, INFO, mealpy.evolutionary_based.GA.BaseGA: >>>Problem: Rosenbrock function, Epoch: 1, Current best: 108.30273801816843, Global best: 108.30273801816843, Runtime: 0.10889 seconds\n",
      "2024/02/22 05:17:00 PM, WARNING, mealpy.evolutionary_based.GA.BaseGA: Stopping criterion with maximum running time/time bound (TB) (seconds) occurred. End program!\n",
      "2024/02/22 05:17:00 PM, INFO, mealpy.evolutionary_based.GA.BaseGA: Solving single objective optimization problem.\n",
      "2024/02/22 05:17:00 PM, INFO, mealpy.evolutionary_based.GA.BaseGA: >>>Problem: Rosenbrock function, Epoch: 1, Current best: 315.9473814052294, Global best: 315.9473814052294, Runtime: 0.10165 seconds\n",
      "2024/02/22 05:17:00 PM, WARNING, mealpy.evolutionary_based.GA.BaseGA: Stopping criterion with maximum running time/time bound (TB) (seconds) occurred. End program!\n",
      "2024/02/22 05:17:00 PM, INFO, mealpy.evolutionary_based.GA.BaseGA: Solving single objective optimization problem.\n"
     ]
    },
    {
     "name": "stdout",
     "output_type": "stream",
     "text": [
      "Algorithm: BaseGA, with params: {'epoch': 300, 'pop_size': 500, 'pc': 0.7, 'pm': 0.1}, trial: 5, best fitness: 108.30273801816843\n",
      "Algorithm: BaseGA, with params: {'epoch': 300, 'pop_size': 500, 'pc': 0.7, 'pm': 0.2}, trial: 1, best fitness: 315.9473814052294\n"
     ]
    },
    {
     "name": "stderr",
     "output_type": "stream",
     "text": [
      "2024/02/22 05:17:00 PM, INFO, mealpy.evolutionary_based.GA.BaseGA: >>>Problem: Rosenbrock function, Epoch: 1, Current best: 21.554119834891345, Global best: 21.554119834891345, Runtime: 0.10485 seconds\n",
      "2024/02/22 05:17:00 PM, WARNING, mealpy.evolutionary_based.GA.BaseGA: Stopping criterion with maximum running time/time bound (TB) (seconds) occurred. End program!\n",
      "2024/02/22 05:17:00 PM, INFO, mealpy.evolutionary_based.GA.BaseGA: Solving single objective optimization problem.\n",
      "2024/02/22 05:17:00 PM, INFO, mealpy.evolutionary_based.GA.BaseGA: >>>Problem: Rosenbrock function, Epoch: 1, Current best: 204.81106403150648, Global best: 204.81106403150648, Runtime: 0.10734 seconds\n",
      "2024/02/22 05:17:00 PM, WARNING, mealpy.evolutionary_based.GA.BaseGA: Stopping criterion with maximum running time/time bound (TB) (seconds) occurred. End program!\n",
      "2024/02/22 05:17:00 PM, INFO, mealpy.evolutionary_based.GA.BaseGA: Solving single objective optimization problem.\n"
     ]
    },
    {
     "name": "stdout",
     "output_type": "stream",
     "text": [
      "Algorithm: BaseGA, with params: {'epoch': 300, 'pop_size': 500, 'pc': 0.7, 'pm': 0.2}, trial: 2, best fitness: 21.554119834891345\n",
      "Algorithm: BaseGA, with params: {'epoch': 300, 'pop_size': 500, 'pc': 0.7, 'pm': 0.2}, trial: 3, best fitness: 204.81106403150648\n"
     ]
    },
    {
     "name": "stderr",
     "output_type": "stream",
     "text": [
      "2024/02/22 05:17:00 PM, INFO, mealpy.evolutionary_based.GA.BaseGA: >>>Problem: Rosenbrock function, Epoch: 1, Current best: 696.2181079990717, Global best: 696.2181079990717, Runtime: 0.10388 seconds\n",
      "2024/02/22 05:17:00 PM, WARNING, mealpy.evolutionary_based.GA.BaseGA: Stopping criterion with maximum running time/time bound (TB) (seconds) occurred. End program!\n",
      "2024/02/22 05:17:00 PM, INFO, mealpy.evolutionary_based.GA.BaseGA: Solving single objective optimization problem.\n",
      "2024/02/22 05:17:00 PM, INFO, mealpy.evolutionary_based.GA.BaseGA: >>>Problem: Rosenbrock function, Epoch: 1, Current best: 202.76419098496334, Global best: 202.76419098496334, Runtime: 0.10245 seconds\n",
      "2024/02/22 05:17:00 PM, WARNING, mealpy.evolutionary_based.GA.BaseGA: Stopping criterion with maximum running time/time bound (TB) (seconds) occurred. End program!\n",
      "2024/02/22 05:17:00 PM, INFO, mealpy.evolutionary_based.GA.BaseGA: Solving single objective optimization problem.\n",
      "2024/02/22 05:17:00 PM, INFO, mealpy.evolutionary_based.GA.BaseGA: >>>Problem: Rosenbrock function, Epoch: 1, Current best: 543.6211172645478, Global best: 543.6211172645478, Runtime: 0.01411 seconds\n",
      "2024/02/22 05:17:00 PM, WARNING, mealpy.evolutionary_based.GA.BaseGA: Stopping criterion with maximum running time/time bound (TB) (seconds) occurred. End program!\n",
      "2024/02/22 05:17:00 PM, INFO, mealpy.evolutionary_based.GA.BaseGA: Solving single objective optimization problem.\n",
      "2024/02/22 05:17:00 PM, INFO, mealpy.evolutionary_based.GA.BaseGA: >>>Problem: Rosenbrock function, Epoch: 1, Current best: 609.3608447593143, Global best: 609.3608447593143, Runtime: 0.01554 seconds\n",
      "2024/02/22 05:17:00 PM, WARNING, mealpy.evolutionary_based.GA.BaseGA: Stopping criterion with maximum running time/time bound (TB) (seconds) occurred. End program!\n",
      "2024/02/22 05:17:00 PM, INFO, mealpy.evolutionary_based.GA.BaseGA: Solving single objective optimization problem.\n"
     ]
    },
    {
     "name": "stdout",
     "output_type": "stream",
     "text": [
      "Algorithm: BaseGA, with params: {'epoch': 300, 'pop_size': 500, 'pc': 0.7, 'pm': 0.2}, trial: 4, best fitness: 696.2181079990717\n",
      "Algorithm: BaseGA, with params: {'epoch': 300, 'pop_size': 500, 'pc': 0.7, 'pm': 0.2}, trial: 5, best fitness: 202.76419098496334\n",
      "Algorithm: BaseGA, with params: {'epoch': 500, 'pop_size': 100, 'pc': 0.95, 'pm': 0.01}, trial: 1, best fitness: 543.6211172645478\n",
      "Algorithm: BaseGA, with params: {'epoch': 500, 'pop_size': 100, 'pc': 0.95, 'pm': 0.01}, trial: 2, best fitness: 609.3608447593143\n"
     ]
    },
    {
     "name": "stderr",
     "output_type": "stream",
     "text": [
      "2024/02/22 05:17:00 PM, INFO, mealpy.evolutionary_based.GA.BaseGA: >>>Problem: Rosenbrock function, Epoch: 1, Current best: 1777.1628508246524, Global best: 1777.1628508246524, Runtime: 0.01585 seconds\n",
      "2024/02/22 05:17:00 PM, WARNING, mealpy.evolutionary_based.GA.BaseGA: Stopping criterion with maximum running time/time bound (TB) (seconds) occurred. End program!\n",
      "2024/02/22 05:17:00 PM, INFO, mealpy.evolutionary_based.GA.BaseGA: Solving single objective optimization problem.\n",
      "2024/02/22 05:17:00 PM, INFO, mealpy.evolutionary_based.GA.BaseGA: >>>Problem: Rosenbrock function, Epoch: 1, Current best: 457.116643416818, Global best: 457.116643416818, Runtime: 0.01408 seconds\n",
      "2024/02/22 05:17:00 PM, WARNING, mealpy.evolutionary_based.GA.BaseGA: Stopping criterion with maximum running time/time bound (TB) (seconds) occurred. End program!\n",
      "2024/02/22 05:17:00 PM, INFO, mealpy.evolutionary_based.GA.BaseGA: Solving single objective optimization problem.\n",
      "2024/02/22 05:17:00 PM, INFO, mealpy.evolutionary_based.GA.BaseGA: >>>Problem: Rosenbrock function, Epoch: 1, Current best: 1492.1570773675471, Global best: 1492.1570773675471, Runtime: 0.01655 seconds\n",
      "2024/02/22 05:17:00 PM, WARNING, mealpy.evolutionary_based.GA.BaseGA: Stopping criterion with maximum running time/time bound (TB) (seconds) occurred. End program!\n",
      "2024/02/22 05:17:00 PM, INFO, mealpy.evolutionary_based.GA.BaseGA: Solving single objective optimization problem.\n",
      "2024/02/22 05:17:00 PM, INFO, mealpy.evolutionary_based.GA.BaseGA: >>>Problem: Rosenbrock function, Epoch: 1, Current best: 1160.0968790164698, Global best: 1160.0968790164698, Runtime: 0.01404 seconds\n",
      "2024/02/22 05:17:00 PM, WARNING, mealpy.evolutionary_based.GA.BaseGA: Stopping criterion with maximum running time/time bound (TB) (seconds) occurred. End program!\n",
      "2024/02/22 05:17:00 PM, INFO, mealpy.evolutionary_based.GA.BaseGA: Solving single objective optimization problem.\n",
      "2024/02/22 05:17:00 PM, INFO, mealpy.evolutionary_based.GA.BaseGA: >>>Problem: Rosenbrock function, Epoch: 1, Current best: 2008.13979899877, Global best: 2008.13979899877, Runtime: 0.01621 seconds\n",
      "2024/02/22 05:17:00 PM, WARNING, mealpy.evolutionary_based.GA.BaseGA: Stopping criterion with maximum running time/time bound (TB) (seconds) occurred. End program!\n",
      "2024/02/22 05:17:00 PM, INFO, mealpy.evolutionary_based.GA.BaseGA: Solving single objective optimization problem.\n",
      "2024/02/22 05:17:00 PM, INFO, mealpy.evolutionary_based.GA.BaseGA: >>>Problem: Rosenbrock function, Epoch: 1, Current best: 1039.1942667203912, Global best: 1039.1942667203912, Runtime: 0.01385 seconds\n",
      "2024/02/22 05:17:00 PM, WARNING, mealpy.evolutionary_based.GA.BaseGA: Stopping criterion with maximum running time/time bound (TB) (seconds) occurred. End program!\n",
      "2024/02/22 05:17:00 PM, INFO, mealpy.evolutionary_based.GA.BaseGA: Solving single objective optimization problem.\n",
      "2024/02/22 05:17:00 PM, INFO, mealpy.evolutionary_based.GA.BaseGA: >>>Problem: Rosenbrock function, Epoch: 1, Current best: 496.5979778684148, Global best: 496.5979778684148, Runtime: 0.01475 seconds\n",
      "2024/02/22 05:17:00 PM, WARNING, mealpy.evolutionary_based.GA.BaseGA: Stopping criterion with maximum running time/time bound (TB) (seconds) occurred. End program!\n",
      "2024/02/22 05:17:00 PM, INFO, mealpy.evolutionary_based.GA.BaseGA: Solving single objective optimization problem.\n",
      "2024/02/22 05:17:01 PM, INFO, mealpy.evolutionary_based.GA.BaseGA: >>>Problem: Rosenbrock function, Epoch: 1, Current best: 1541.6497463380947, Global best: 1541.6497463380947, Runtime: 0.01420 seconds\n",
      "2024/02/22 05:17:01 PM, WARNING, mealpy.evolutionary_based.GA.BaseGA: Stopping criterion with maximum running time/time bound (TB) (seconds) occurred. End program!\n",
      "2024/02/22 05:17:01 PM, INFO, mealpy.evolutionary_based.GA.BaseGA: Solving single objective optimization problem.\n",
      "2024/02/22 05:17:01 PM, INFO, mealpy.evolutionary_based.GA.BaseGA: >>>Problem: Rosenbrock function, Epoch: 1, Current best: 865.6868432019543, Global best: 865.6868432019543, Runtime: 0.01655 seconds\n",
      "2024/02/22 05:17:01 PM, WARNING, mealpy.evolutionary_based.GA.BaseGA: Stopping criterion with maximum running time/time bound (TB) (seconds) occurred. End program!\n",
      "2024/02/22 05:17:01 PM, INFO, mealpy.evolutionary_based.GA.BaseGA: Solving single objective optimization problem.\n"
     ]
    },
    {
     "name": "stdout",
     "output_type": "stream",
     "text": [
      "Algorithm: BaseGA, with params: {'epoch': 500, 'pop_size': 100, 'pc': 0.95, 'pm': 0.01}, trial: 3, best fitness: 1777.1628508246524\n",
      "Algorithm: BaseGA, with params: {'epoch': 500, 'pop_size': 100, 'pc': 0.95, 'pm': 0.01}, trial: 4, best fitness: 457.116643416818\n",
      "Algorithm: BaseGA, with params: {'epoch': 500, 'pop_size': 100, 'pc': 0.95, 'pm': 0.01}, trial: 5, best fitness: 1492.1570773675471\n",
      "Algorithm: BaseGA, with params: {'epoch': 500, 'pop_size': 100, 'pc': 0.95, 'pm': 0.05}, trial: 1, best fitness: 1160.0968790164698\n",
      "Algorithm: BaseGA, with params: {'epoch': 500, 'pop_size': 100, 'pc': 0.95, 'pm': 0.05}, trial: 2, best fitness: 2008.13979899877\n",
      "Algorithm: BaseGA, with params: {'epoch': 500, 'pop_size': 100, 'pc': 0.95, 'pm': 0.05}, trial: 3, best fitness: 1039.1942667203912\n",
      "Algorithm: BaseGA, with params: {'epoch': 500, 'pop_size': 100, 'pc': 0.95, 'pm': 0.05}, trial: 4, best fitness: 496.5979778684148\n",
      "Algorithm: BaseGA, with params: {'epoch': 500, 'pop_size': 100, 'pc': 0.95, 'pm': 0.05}, trial: 5, best fitness: 1541.6497463380947\n",
      "Algorithm: BaseGA, with params: {'epoch': 500, 'pop_size': 100, 'pc': 0.95, 'pm': 0.1}, trial: 1, best fitness: 865.6868432019543\n"
     ]
    },
    {
     "name": "stderr",
     "output_type": "stream",
     "text": [
      "2024/02/22 05:17:01 PM, INFO, mealpy.evolutionary_based.GA.BaseGA: >>>Problem: Rosenbrock function, Epoch: 1, Current best: 729.7199099522792, Global best: 729.7199099522792, Runtime: 0.01667 seconds\n",
      "2024/02/22 05:17:01 PM, WARNING, mealpy.evolutionary_based.GA.BaseGA: Stopping criterion with maximum running time/time bound (TB) (seconds) occurred. End program!\n",
      "2024/02/22 05:17:01 PM, INFO, mealpy.evolutionary_based.GA.BaseGA: Solving single objective optimization problem.\n",
      "2024/02/22 05:17:01 PM, INFO, mealpy.evolutionary_based.GA.BaseGA: >>>Problem: Rosenbrock function, Epoch: 1, Current best: 893.6567945025965, Global best: 893.6567945025965, Runtime: 0.01520 seconds\n",
      "2024/02/22 05:17:01 PM, WARNING, mealpy.evolutionary_based.GA.BaseGA: Stopping criterion with maximum running time/time bound (TB) (seconds) occurred. End program!\n",
      "2024/02/22 05:17:01 PM, INFO, mealpy.evolutionary_based.GA.BaseGA: Solving single objective optimization problem.\n",
      "2024/02/22 05:17:01 PM, INFO, mealpy.evolutionary_based.GA.BaseGA: >>>Problem: Rosenbrock function, Epoch: 1, Current best: 813.1157855313184, Global best: 813.1157855313184, Runtime: 0.01551 seconds\n",
      "2024/02/22 05:17:01 PM, WARNING, mealpy.evolutionary_based.GA.BaseGA: Stopping criterion with maximum running time/time bound (TB) (seconds) occurred. End program!\n",
      "2024/02/22 05:17:01 PM, INFO, mealpy.evolutionary_based.GA.BaseGA: Solving single objective optimization problem.\n",
      "2024/02/22 05:17:01 PM, INFO, mealpy.evolutionary_based.GA.BaseGA: >>>Problem: Rosenbrock function, Epoch: 1, Current best: 1176.3389578033903, Global best: 1176.3389578033903, Runtime: 0.01517 seconds\n",
      "2024/02/22 05:17:01 PM, WARNING, mealpy.evolutionary_based.GA.BaseGA: Stopping criterion with maximum running time/time bound (TB) (seconds) occurred. End program!\n",
      "2024/02/22 05:17:01 PM, INFO, mealpy.evolutionary_based.GA.BaseGA: Solving single objective optimization problem.\n",
      "2024/02/22 05:17:01 PM, INFO, mealpy.evolutionary_based.GA.BaseGA: >>>Problem: Rosenbrock function, Epoch: 1, Current best: 4712.940676498731, Global best: 3474.8512450158723, Runtime: 0.01703 seconds\n",
      "2024/02/22 05:17:01 PM, WARNING, mealpy.evolutionary_based.GA.BaseGA: Stopping criterion with maximum running time/time bound (TB) (seconds) occurred. End program!\n",
      "2024/02/22 05:17:01 PM, INFO, mealpy.evolutionary_based.GA.BaseGA: Solving single objective optimization problem.\n",
      "2024/02/22 05:17:01 PM, INFO, mealpy.evolutionary_based.GA.BaseGA: >>>Problem: Rosenbrock function, Epoch: 1, Current best: 1081.4603889965115, Global best: 1081.4603889965115, Runtime: 0.01441 seconds\n",
      "2024/02/22 05:17:01 PM, WARNING, mealpy.evolutionary_based.GA.BaseGA: Stopping criterion with maximum running time/time bound (TB) (seconds) occurred. End program!\n",
      "2024/02/22 05:17:01 PM, INFO, mealpy.evolutionary_based.GA.BaseGA: Solving single objective optimization problem.\n",
      "2024/02/22 05:17:01 PM, INFO, mealpy.evolutionary_based.GA.BaseGA: >>>Problem: Rosenbrock function, Epoch: 1, Current best: 906.925208278256, Global best: 906.925208278256, Runtime: 0.01619 seconds\n",
      "2024/02/22 05:17:01 PM, WARNING, mealpy.evolutionary_based.GA.BaseGA: Stopping criterion with maximum running time/time bound (TB) (seconds) occurred. End program!\n",
      "2024/02/22 05:17:01 PM, INFO, mealpy.evolutionary_based.GA.BaseGA: Solving single objective optimization problem.\n",
      "2024/02/22 05:17:01 PM, INFO, mealpy.evolutionary_based.GA.BaseGA: >>>Problem: Rosenbrock function, Epoch: 1, Current best: 1583.4521493819614, Global best: 758.3016175305638, Runtime: 0.01686 seconds\n",
      "2024/02/22 05:17:01 PM, WARNING, mealpy.evolutionary_based.GA.BaseGA: Stopping criterion with maximum running time/time bound (TB) (seconds) occurred. End program!\n",
      "2024/02/22 05:17:01 PM, INFO, mealpy.evolutionary_based.GA.BaseGA: Solving single objective optimization problem.\n",
      "2024/02/22 05:17:01 PM, INFO, mealpy.evolutionary_based.GA.BaseGA: >>>Problem: Rosenbrock function, Epoch: 1, Current best: 895.1017811518294, Global best: 895.1017811518294, Runtime: 0.01662 seconds\n"
     ]
    },
    {
     "name": "stdout",
     "output_type": "stream",
     "text": [
      "Algorithm: BaseGA, with params: {'epoch': 500, 'pop_size': 100, 'pc': 0.95, 'pm': 0.1}, trial: 2, best fitness: 729.7199099522792\n",
      "Algorithm: BaseGA, with params: {'epoch': 500, 'pop_size': 100, 'pc': 0.95, 'pm': 0.1}, trial: 3, best fitness: 893.6567945025965\n",
      "Algorithm: BaseGA, with params: {'epoch': 500, 'pop_size': 100, 'pc': 0.95, 'pm': 0.1}, trial: 4, best fitness: 813.1157855313184\n",
      "Algorithm: BaseGA, with params: {'epoch': 500, 'pop_size': 100, 'pc': 0.95, 'pm': 0.1}, trial: 5, best fitness: 1176.3389578033903\n",
      "Algorithm: BaseGA, with params: {'epoch': 500, 'pop_size': 100, 'pc': 0.95, 'pm': 0.2}, trial: 1, best fitness: 3474.8512450158723\n",
      "Algorithm: BaseGA, with params: {'epoch': 500, 'pop_size': 100, 'pc': 0.95, 'pm': 0.2}, trial: 2, best fitness: 1081.4603889965115\n",
      "Algorithm: BaseGA, with params: {'epoch': 500, 'pop_size': 100, 'pc': 0.95, 'pm': 0.2}, trial: 3, best fitness: 906.925208278256\n",
      "Algorithm: BaseGA, with params: {'epoch': 500, 'pop_size': 100, 'pc': 0.95, 'pm': 0.2}, trial: 4, best fitness: 758.3016175305638\n"
     ]
    },
    {
     "name": "stderr",
     "output_type": "stream",
     "text": [
      "2024/02/22 05:17:01 PM, WARNING, mealpy.evolutionary_based.GA.BaseGA: Stopping criterion with maximum running time/time bound (TB) (seconds) occurred. End program!\n",
      "2024/02/22 05:17:01 PM, INFO, mealpy.evolutionary_based.GA.BaseGA: Solving single objective optimization problem.\n",
      "2024/02/22 05:17:01 PM, INFO, mealpy.evolutionary_based.GA.BaseGA: >>>Problem: Rosenbrock function, Epoch: 1, Current best: 122.52499492563675, Global best: 122.52499492563675, Runtime: 0.01372 seconds\n",
      "2024/02/22 05:17:01 PM, WARNING, mealpy.evolutionary_based.GA.BaseGA: Stopping criterion with maximum running time/time bound (TB) (seconds) occurred. End program!\n",
      "2024/02/22 05:17:01 PM, INFO, mealpy.evolutionary_based.GA.BaseGA: Solving single objective optimization problem.\n",
      "2024/02/22 05:17:01 PM, INFO, mealpy.evolutionary_based.GA.BaseGA: >>>Problem: Rosenbrock function, Epoch: 1, Current best: 1855.9337957442842, Global best: 1855.9337957442842, Runtime: 0.01470 seconds\n",
      "2024/02/22 05:17:01 PM, WARNING, mealpy.evolutionary_based.GA.BaseGA: Stopping criterion with maximum running time/time bound (TB) (seconds) occurred. End program!\n",
      "2024/02/22 05:17:01 PM, INFO, mealpy.evolutionary_based.GA.BaseGA: Solving single objective optimization problem.\n",
      "2024/02/22 05:17:01 PM, INFO, mealpy.evolutionary_based.GA.BaseGA: >>>Problem: Rosenbrock function, Epoch: 1, Current best: 664.0326893397846, Global best: 664.0326893397846, Runtime: 0.01694 seconds\n",
      "2024/02/22 05:17:01 PM, WARNING, mealpy.evolutionary_based.GA.BaseGA: Stopping criterion with maximum running time/time bound (TB) (seconds) occurred. End program!\n",
      "2024/02/22 05:17:01 PM, INFO, mealpy.evolutionary_based.GA.BaseGA: Solving single objective optimization problem.\n",
      "2024/02/22 05:17:01 PM, INFO, mealpy.evolutionary_based.GA.BaseGA: >>>Problem: Rosenbrock function, Epoch: 1, Current best: 333.18772740245674, Global best: 333.18772740245674, Runtime: 0.01520 seconds\n",
      "2024/02/22 05:17:01 PM, WARNING, mealpy.evolutionary_based.GA.BaseGA: Stopping criterion with maximum running time/time bound (TB) (seconds) occurred. End program!\n",
      "2024/02/22 05:17:01 PM, INFO, mealpy.evolutionary_based.GA.BaseGA: Solving single objective optimization problem.\n",
      "2024/02/22 05:17:01 PM, INFO, mealpy.evolutionary_based.GA.BaseGA: >>>Problem: Rosenbrock function, Epoch: 1, Current best: 1340.6280246682618, Global best: 1340.6280246682618, Runtime: 0.01658 seconds\n",
      "2024/02/22 05:17:01 PM, WARNING, mealpy.evolutionary_based.GA.BaseGA: Stopping criterion with maximum running time/time bound (TB) (seconds) occurred. End program!\n",
      "2024/02/22 05:17:01 PM, INFO, mealpy.evolutionary_based.GA.BaseGA: Solving single objective optimization problem.\n",
      "2024/02/22 05:17:01 PM, INFO, mealpy.evolutionary_based.GA.BaseGA: >>>Problem: Rosenbrock function, Epoch: 1, Current best: 1700.4663445500003, Global best: 1700.4663445500003, Runtime: 0.01394 seconds\n",
      "2024/02/22 05:17:01 PM, WARNING, mealpy.evolutionary_based.GA.BaseGA: Stopping criterion with maximum running time/time bound (TB) (seconds) occurred. End program!\n",
      "2024/02/22 05:17:01 PM, INFO, mealpy.evolutionary_based.GA.BaseGA: Solving single objective optimization problem.\n",
      "2024/02/22 05:17:01 PM, INFO, mealpy.evolutionary_based.GA.BaseGA: >>>Problem: Rosenbrock function, Epoch: 1, Current best: 2027.395848406106, Global best: 2027.395848406106, Runtime: 0.01489 seconds\n",
      "2024/02/22 05:17:01 PM, WARNING, mealpy.evolutionary_based.GA.BaseGA: Stopping criterion with maximum running time/time bound (TB) (seconds) occurred. End program!\n",
      "2024/02/22 05:17:01 PM, INFO, mealpy.evolutionary_based.GA.BaseGA: Solving single objective optimization problem.\n",
      "2024/02/22 05:17:01 PM, INFO, mealpy.evolutionary_based.GA.BaseGA: >>>Problem: Rosenbrock function, Epoch: 1, Current best: 695.3268320689804, Global best: 695.3268320689804, Runtime: 0.01629 seconds\n",
      "2024/02/22 05:17:01 PM, WARNING, mealpy.evolutionary_based.GA.BaseGA: Stopping criterion with maximum running time/time bound (TB) (seconds) occurred. End program!\n",
      "2024/02/22 05:17:01 PM, INFO, mealpy.evolutionary_based.GA.BaseGA: Solving single objective optimization problem.\n"
     ]
    },
    {
     "name": "stdout",
     "output_type": "stream",
     "text": [
      "Algorithm: BaseGA, with params: {'epoch': 500, 'pop_size': 100, 'pc': 0.95, 'pm': 0.2}, trial: 5, best fitness: 895.1017811518294\n",
      "Algorithm: BaseGA, with params: {'epoch': 500, 'pop_size': 100, 'pc': 0.9, 'pm': 0.01}, trial: 1, best fitness: 122.52499492563675\n",
      "Algorithm: BaseGA, with params: {'epoch': 500, 'pop_size': 100, 'pc': 0.9, 'pm': 0.01}, trial: 2, best fitness: 1855.9337957442842\n",
      "Algorithm: BaseGA, with params: {'epoch': 500, 'pop_size': 100, 'pc': 0.9, 'pm': 0.01}, trial: 3, best fitness: 664.0326893397846\n",
      "Algorithm: BaseGA, with params: {'epoch': 500, 'pop_size': 100, 'pc': 0.9, 'pm': 0.01}, trial: 4, best fitness: 333.18772740245674\n",
      "Algorithm: BaseGA, with params: {'epoch': 500, 'pop_size': 100, 'pc': 0.9, 'pm': 0.01}, trial: 5, best fitness: 1340.6280246682618\n",
      "Algorithm: BaseGA, with params: {'epoch': 500, 'pop_size': 100, 'pc': 0.9, 'pm': 0.05}, trial: 1, best fitness: 1700.4663445500003\n",
      "Algorithm: BaseGA, with params: {'epoch': 500, 'pop_size': 100, 'pc': 0.9, 'pm': 0.05}, trial: 2, best fitness: 2027.395848406106\n",
      "Algorithm: BaseGA, with params: {'epoch': 500, 'pop_size': 100, 'pc': 0.9, 'pm': 0.05}, trial: 3, best fitness: 695.3268320689804\n"
     ]
    },
    {
     "name": "stderr",
     "output_type": "stream",
     "text": [
      "2024/02/22 05:17:01 PM, INFO, mealpy.evolutionary_based.GA.BaseGA: >>>Problem: Rosenbrock function, Epoch: 1, Current best: 3042.0196512634698, Global best: 3042.0196512634698, Runtime: 0.01513 seconds\n",
      "2024/02/22 05:17:01 PM, WARNING, mealpy.evolutionary_based.GA.BaseGA: Stopping criterion with maximum running time/time bound (TB) (seconds) occurred. End program!\n",
      "2024/02/22 05:17:01 PM, INFO, mealpy.evolutionary_based.GA.BaseGA: Solving single objective optimization problem.\n",
      "2024/02/22 05:17:01 PM, INFO, mealpy.evolutionary_based.GA.BaseGA: >>>Problem: Rosenbrock function, Epoch: 1, Current best: 7150.6360730116085, Global best: 7150.6360730116085, Runtime: 0.01474 seconds\n",
      "2024/02/22 05:17:01 PM, WARNING, mealpy.evolutionary_based.GA.BaseGA: Stopping criterion with maximum running time/time bound (TB) (seconds) occurred. End program!\n",
      "2024/02/22 05:17:01 PM, INFO, mealpy.evolutionary_based.GA.BaseGA: Solving single objective optimization problem.\n",
      "2024/02/22 05:17:01 PM, INFO, mealpy.evolutionary_based.GA.BaseGA: >>>Problem: Rosenbrock function, Epoch: 1, Current best: 4012.6690510715152, Global best: 3616.3035977825184, Runtime: 0.01480 seconds\n",
      "2024/02/22 05:17:01 PM, WARNING, mealpy.evolutionary_based.GA.BaseGA: Stopping criterion with maximum running time/time bound (TB) (seconds) occurred. End program!\n",
      "2024/02/22 05:17:01 PM, INFO, mealpy.evolutionary_based.GA.BaseGA: Solving single objective optimization problem.\n",
      "2024/02/22 05:17:01 PM, INFO, mealpy.evolutionary_based.GA.BaseGA: >>>Problem: Rosenbrock function, Epoch: 1, Current best: 2769.8896605443206, Global best: 2769.8896605443206, Runtime: 0.01616 seconds\n",
      "2024/02/22 05:17:01 PM, WARNING, mealpy.evolutionary_based.GA.BaseGA: Stopping criterion with maximum running time/time bound (TB) (seconds) occurred. End program!\n",
      "2024/02/22 05:17:01 PM, INFO, mealpy.evolutionary_based.GA.BaseGA: Solving single objective optimization problem.\n",
      "2024/02/22 05:17:01 PM, INFO, mealpy.evolutionary_based.GA.BaseGA: >>>Problem: Rosenbrock function, Epoch: 1, Current best: 1443.112385306896, Global best: 1443.112385306896, Runtime: 0.01539 seconds\n",
      "2024/02/22 05:17:01 PM, WARNING, mealpy.evolutionary_based.GA.BaseGA: Stopping criterion with maximum running time/time bound (TB) (seconds) occurred. End program!\n",
      "2024/02/22 05:17:01 PM, INFO, mealpy.evolutionary_based.GA.BaseGA: Solving single objective optimization problem.\n",
      "2024/02/22 05:17:01 PM, INFO, mealpy.evolutionary_based.GA.BaseGA: >>>Problem: Rosenbrock function, Epoch: 1, Current best: 507.8153042396347, Global best: 507.8153042396347, Runtime: 0.01592 seconds\n",
      "2024/02/22 05:17:01 PM, WARNING, mealpy.evolutionary_based.GA.BaseGA: Stopping criterion with maximum running time/time bound (TB) (seconds) occurred. End program!\n",
      "2024/02/22 05:17:01 PM, INFO, mealpy.evolutionary_based.GA.BaseGA: Solving single objective optimization problem.\n",
      "2024/02/22 05:17:01 PM, INFO, mealpy.evolutionary_based.GA.BaseGA: >>>Problem: Rosenbrock function, Epoch: 1, Current best: 264.28871120114053, Global best: 264.28871120114053, Runtime: 0.01671 seconds\n",
      "2024/02/22 05:17:01 PM, WARNING, mealpy.evolutionary_based.GA.BaseGA: Stopping criterion with maximum running time/time bound (TB) (seconds) occurred. End program!\n",
      "2024/02/22 05:17:01 PM, INFO, mealpy.evolutionary_based.GA.BaseGA: Solving single objective optimization problem.\n",
      "2024/02/22 05:17:01 PM, INFO, mealpy.evolutionary_based.GA.BaseGA: >>>Problem: Rosenbrock function, Epoch: 1, Current best: 531.7379260847595, Global best: 531.7379260847595, Runtime: 0.01376 seconds\n",
      "2024/02/22 05:17:01 PM, WARNING, mealpy.evolutionary_based.GA.BaseGA: Stopping criterion with maximum running time/time bound (TB) (seconds) occurred. End program!\n",
      "2024/02/22 05:17:01 PM, INFO, mealpy.evolutionary_based.GA.BaseGA: Solving single objective optimization problem.\n",
      "2024/02/22 05:17:01 PM, INFO, mealpy.evolutionary_based.GA.BaseGA: >>>Problem: Rosenbrock function, Epoch: 1, Current best: 648.1576944258464, Global best: 648.1576944258464, Runtime: 0.01835 seconds\n",
      "2024/02/22 05:17:01 PM, WARNING, mealpy.evolutionary_based.GA.BaseGA: Stopping criterion with maximum running time/time bound (TB) (seconds) occurred. End program!\n"
     ]
    },
    {
     "name": "stdout",
     "output_type": "stream",
     "text": [
      "Algorithm: BaseGA, with params: {'epoch': 500, 'pop_size': 100, 'pc': 0.9, 'pm': 0.05}, trial: 4, best fitness: 3042.0196512634698\n",
      "Algorithm: BaseGA, with params: {'epoch': 500, 'pop_size': 100, 'pc': 0.9, 'pm': 0.05}, trial: 5, best fitness: 7150.6360730116085\n",
      "Algorithm: BaseGA, with params: {'epoch': 500, 'pop_size': 100, 'pc': 0.9, 'pm': 0.1}, trial: 1, best fitness: 3616.3035977825184\n",
      "Algorithm: BaseGA, with params: {'epoch': 500, 'pop_size': 100, 'pc': 0.9, 'pm': 0.1}, trial: 2, best fitness: 2769.8896605443206\n",
      "Algorithm: BaseGA, with params: {'epoch': 500, 'pop_size': 100, 'pc': 0.9, 'pm': 0.1}, trial: 3, best fitness: 1443.112385306896\n",
      "Algorithm: BaseGA, with params: {'epoch': 500, 'pop_size': 100, 'pc': 0.9, 'pm': 0.1}, trial: 4, best fitness: 507.8153042396347\n",
      "Algorithm: BaseGA, with params: {'epoch': 500, 'pop_size': 100, 'pc': 0.9, 'pm': 0.1}, trial: 5, best fitness: 264.28871120114053\n",
      "Algorithm: BaseGA, with params: {'epoch': 500, 'pop_size': 100, 'pc': 0.9, 'pm': 0.2}, trial: 1, best fitness: 531.7379260847595\n"
     ]
    },
    {
     "name": "stderr",
     "output_type": "stream",
     "text": [
      "2024/02/22 05:17:01 PM, INFO, mealpy.evolutionary_based.GA.BaseGA: Solving single objective optimization problem.\n",
      "2024/02/22 05:17:01 PM, INFO, mealpy.evolutionary_based.GA.BaseGA: >>>Problem: Rosenbrock function, Epoch: 1, Current best: 1496.4436392736748, Global best: 1496.4436392736748, Runtime: 0.01418 seconds\n",
      "2024/02/22 05:17:01 PM, WARNING, mealpy.evolutionary_based.GA.BaseGA: Stopping criterion with maximum running time/time bound (TB) (seconds) occurred. End program!\n",
      "2024/02/22 05:17:01 PM, INFO, mealpy.evolutionary_based.GA.BaseGA: Solving single objective optimization problem.\n",
      "2024/02/22 05:17:01 PM, INFO, mealpy.evolutionary_based.GA.BaseGA: >>>Problem: Rosenbrock function, Epoch: 1, Current best: 4091.2661595462196, Global best: 4091.2661595462196, Runtime: 0.01656 seconds\n",
      "2024/02/22 05:17:01 PM, WARNING, mealpy.evolutionary_based.GA.BaseGA: Stopping criterion with maximum running time/time bound (TB) (seconds) occurred. End program!\n",
      "2024/02/22 05:17:01 PM, INFO, mealpy.evolutionary_based.GA.BaseGA: Solving single objective optimization problem.\n",
      "2024/02/22 05:17:01 PM, INFO, mealpy.evolutionary_based.GA.BaseGA: >>>Problem: Rosenbrock function, Epoch: 1, Current best: 317.07571214735293, Global best: 317.07571214735293, Runtime: 0.01669 seconds\n",
      "2024/02/22 05:17:01 PM, WARNING, mealpy.evolutionary_based.GA.BaseGA: Stopping criterion with maximum running time/time bound (TB) (seconds) occurred. End program!\n",
      "2024/02/22 05:17:01 PM, INFO, mealpy.evolutionary_based.GA.BaseGA: Solving single objective optimization problem.\n",
      "2024/02/22 05:17:01 PM, INFO, mealpy.evolutionary_based.GA.BaseGA: >>>Problem: Rosenbrock function, Epoch: 1, Current best: 546.4270307626914, Global best: 546.4270307626914, Runtime: 0.01600 seconds\n",
      "2024/02/22 05:17:01 PM, WARNING, mealpy.evolutionary_based.GA.BaseGA: Stopping criterion with maximum running time/time bound (TB) (seconds) occurred. End program!\n",
      "2024/02/22 05:17:01 PM, INFO, mealpy.evolutionary_based.GA.BaseGA: Solving single objective optimization problem.\n",
      "2024/02/22 05:17:01 PM, INFO, mealpy.evolutionary_based.GA.BaseGA: >>>Problem: Rosenbrock function, Epoch: 1, Current best: 2295.86619754389, Global best: 2295.86619754389, Runtime: 0.01434 seconds\n",
      "2024/02/22 05:17:01 PM, WARNING, mealpy.evolutionary_based.GA.BaseGA: Stopping criterion with maximum running time/time bound (TB) (seconds) occurred. End program!\n",
      "2024/02/22 05:17:01 PM, INFO, mealpy.evolutionary_based.GA.BaseGA: Solving single objective optimization problem.\n",
      "2024/02/22 05:17:01 PM, INFO, mealpy.evolutionary_based.GA.BaseGA: >>>Problem: Rosenbrock function, Epoch: 1, Current best: 3422.730250735294, Global best: 3422.730250735294, Runtime: 0.01559 seconds\n",
      "2024/02/22 05:17:01 PM, WARNING, mealpy.evolutionary_based.GA.BaseGA: Stopping criterion with maximum running time/time bound (TB) (seconds) occurred. End program!\n",
      "2024/02/22 05:17:01 PM, INFO, mealpy.evolutionary_based.GA.BaseGA: Solving single objective optimization problem.\n",
      "2024/02/22 05:17:01 PM, INFO, mealpy.evolutionary_based.GA.BaseGA: >>>Problem: Rosenbrock function, Epoch: 1, Current best: 3807.294817130824, Global best: 3807.294817130824, Runtime: 0.01584 seconds\n",
      "2024/02/22 05:17:01 PM, WARNING, mealpy.evolutionary_based.GA.BaseGA: Stopping criterion with maximum running time/time bound (TB) (seconds) occurred. End program!\n",
      "2024/02/22 05:17:01 PM, INFO, mealpy.evolutionary_based.GA.BaseGA: Solving single objective optimization problem.\n"
     ]
    },
    {
     "name": "stdout",
     "output_type": "stream",
     "text": [
      "Algorithm: BaseGA, with params: {'epoch': 500, 'pop_size': 100, 'pc': 0.9, 'pm': 0.2}, trial: 2, best fitness: 648.1576944258464\n",
      "Algorithm: BaseGA, with params: {'epoch': 500, 'pop_size': 100, 'pc': 0.9, 'pm': 0.2}, trial: 3, best fitness: 1496.4436392736748\n",
      "Algorithm: BaseGA, with params: {'epoch': 500, 'pop_size': 100, 'pc': 0.9, 'pm': 0.2}, trial: 4, best fitness: 4091.2661595462196\n",
      "Algorithm: BaseGA, with params: {'epoch': 500, 'pop_size': 100, 'pc': 0.9, 'pm': 0.2}, trial: 5, best fitness: 317.07571214735293\n",
      "Algorithm: BaseGA, with params: {'epoch': 500, 'pop_size': 100, 'pc': 0.8, 'pm': 0.01}, trial: 1, best fitness: 546.4270307626914\n",
      "Algorithm: BaseGA, with params: {'epoch': 500, 'pop_size': 100, 'pc': 0.8, 'pm': 0.01}, trial: 2, best fitness: 2295.86619754389\n",
      "Algorithm: BaseGA, with params: {'epoch': 500, 'pop_size': 100, 'pc': 0.8, 'pm': 0.01}, trial: 3, best fitness: 3422.730250735294\n",
      "Algorithm: BaseGA, with params: {'epoch': 500, 'pop_size': 100, 'pc': 0.8, 'pm': 0.01}, trial: 4, best fitness: 3807.294817130824\n"
     ]
    },
    {
     "name": "stderr",
     "output_type": "stream",
     "text": [
      "2024/02/22 05:17:01 PM, INFO, mealpy.evolutionary_based.GA.BaseGA: >>>Problem: Rosenbrock function, Epoch: 1, Current best: 1869.2075019231359, Global best: 1869.2075019231359, Runtime: 0.01645 seconds\n",
      "2024/02/22 05:17:01 PM, WARNING, mealpy.evolutionary_based.GA.BaseGA: Stopping criterion with maximum running time/time bound (TB) (seconds) occurred. End program!\n",
      "2024/02/22 05:17:01 PM, INFO, mealpy.evolutionary_based.GA.BaseGA: Solving single objective optimization problem.\n",
      "2024/02/22 05:17:01 PM, INFO, mealpy.evolutionary_based.GA.BaseGA: >>>Problem: Rosenbrock function, Epoch: 1, Current best: 3104.539952851962, Global best: 3104.539952851962, Runtime: 0.01610 seconds\n",
      "2024/02/22 05:17:01 PM, WARNING, mealpy.evolutionary_based.GA.BaseGA: Stopping criterion with maximum running time/time bound (TB) (seconds) occurred. End program!\n",
      "2024/02/22 05:17:01 PM, INFO, mealpy.evolutionary_based.GA.BaseGA: Solving single objective optimization problem.\n",
      "2024/02/22 05:17:01 PM, INFO, mealpy.evolutionary_based.GA.BaseGA: >>>Problem: Rosenbrock function, Epoch: 1, Current best: 1177.2650768845663, Global best: 1177.2650768845663, Runtime: 0.01544 seconds\n",
      "2024/02/22 05:17:01 PM, WARNING, mealpy.evolutionary_based.GA.BaseGA: Stopping criterion with maximum running time/time bound (TB) (seconds) occurred. End program!\n",
      "2024/02/22 05:17:01 PM, INFO, mealpy.evolutionary_based.GA.BaseGA: Solving single objective optimization problem.\n",
      "2024/02/22 05:17:01 PM, INFO, mealpy.evolutionary_based.GA.BaseGA: >>>Problem: Rosenbrock function, Epoch: 1, Current best: 1375.5611384949807, Global best: 1375.5611384949807, Runtime: 0.01425 seconds\n",
      "2024/02/22 05:17:01 PM, WARNING, mealpy.evolutionary_based.GA.BaseGA: Stopping criterion with maximum running time/time bound (TB) (seconds) occurred. End program!\n",
      "2024/02/22 05:17:01 PM, INFO, mealpy.evolutionary_based.GA.BaseGA: Solving single objective optimization problem.\n",
      "2024/02/22 05:17:01 PM, INFO, mealpy.evolutionary_based.GA.BaseGA: >>>Problem: Rosenbrock function, Epoch: 1, Current best: 1744.8211870502791, Global best: 1744.8211870502791, Runtime: 0.01664 seconds\n",
      "2024/02/22 05:17:01 PM, WARNING, mealpy.evolutionary_based.GA.BaseGA: Stopping criterion with maximum running time/time bound (TB) (seconds) occurred. End program!\n",
      "2024/02/22 05:17:01 PM, INFO, mealpy.evolutionary_based.GA.BaseGA: Solving single objective optimization problem.\n",
      "2024/02/22 05:17:01 PM, INFO, mealpy.evolutionary_based.GA.BaseGA: >>>Problem: Rosenbrock function, Epoch: 1, Current best: 3328.528085032503, Global best: 3328.528085032503, Runtime: 0.01487 seconds\n",
      "2024/02/22 05:17:01 PM, WARNING, mealpy.evolutionary_based.GA.BaseGA: Stopping criterion with maximum running time/time bound (TB) (seconds) occurred. End program!\n",
      "2024/02/22 05:17:01 PM, INFO, mealpy.evolutionary_based.GA.BaseGA: Solving single objective optimization problem.\n",
      "2024/02/22 05:17:01 PM, INFO, mealpy.evolutionary_based.GA.BaseGA: >>>Problem: Rosenbrock function, Epoch: 1, Current best: 3894.5046728424004, Global best: 3894.5046728424004, Runtime: 0.01430 seconds\n",
      "2024/02/22 05:17:01 PM, WARNING, mealpy.evolutionary_based.GA.BaseGA: Stopping criterion with maximum running time/time bound (TB) (seconds) occurred. End program!\n",
      "2024/02/22 05:17:01 PM, INFO, mealpy.evolutionary_based.GA.BaseGA: Solving single objective optimization problem.\n",
      "2024/02/22 05:17:01 PM, INFO, mealpy.evolutionary_based.GA.BaseGA: >>>Problem: Rosenbrock function, Epoch: 1, Current best: 408.6317034730919, Global best: 408.6317034730919, Runtime: 0.01384 seconds\n",
      "2024/02/22 05:17:01 PM, WARNING, mealpy.evolutionary_based.GA.BaseGA: Stopping criterion with maximum running time/time bound (TB) (seconds) occurred. End program!\n",
      "2024/02/22 05:17:01 PM, INFO, mealpy.evolutionary_based.GA.BaseGA: Solving single objective optimization problem.\n",
      "2024/02/22 05:17:02 PM, INFO, mealpy.evolutionary_based.GA.BaseGA: >>>Problem: Rosenbrock function, Epoch: 1, Current best: 914.1982268319624, Global best: 914.1982268319624, Runtime: 0.01559 seconds\n",
      "2024/02/22 05:17:02 PM, WARNING, mealpy.evolutionary_based.GA.BaseGA: Stopping criterion with maximum running time/time bound (TB) (seconds) occurred. End program!\n"
     ]
    },
    {
     "name": "stdout",
     "output_type": "stream",
     "text": [
      "Algorithm: BaseGA, with params: {'epoch': 500, 'pop_size': 100, 'pc': 0.8, 'pm': 0.01}, trial: 5, best fitness: 1869.2075019231359\n",
      "Algorithm: BaseGA, with params: {'epoch': 500, 'pop_size': 100, 'pc': 0.8, 'pm': 0.05}, trial: 1, best fitness: 3104.539952851962\n",
      "Algorithm: BaseGA, with params: {'epoch': 500, 'pop_size': 100, 'pc': 0.8, 'pm': 0.05}, trial: 2, best fitness: 1177.2650768845663\n",
      "Algorithm: BaseGA, with params: {'epoch': 500, 'pop_size': 100, 'pc': 0.8, 'pm': 0.05}, trial: 3, best fitness: 1375.5611384949807\n",
      "Algorithm: BaseGA, with params: {'epoch': 500, 'pop_size': 100, 'pc': 0.8, 'pm': 0.05}, trial: 4, best fitness: 1744.8211870502791\n",
      "Algorithm: BaseGA, with params: {'epoch': 500, 'pop_size': 100, 'pc': 0.8, 'pm': 0.05}, trial: 5, best fitness: 3328.528085032503\n",
      "Algorithm: BaseGA, with params: {'epoch': 500, 'pop_size': 100, 'pc': 0.8, 'pm': 0.1}, trial: 1, best fitness: 3894.5046728424004\n",
      "Algorithm: BaseGA, with params: {'epoch': 500, 'pop_size': 100, 'pc': 0.8, 'pm': 0.1}, trial: 2, best fitness: 408.6317034730919\n"
     ]
    },
    {
     "name": "stderr",
     "output_type": "stream",
     "text": [
      "2024/02/22 05:17:02 PM, INFO, mealpy.evolutionary_based.GA.BaseGA: Solving single objective optimization problem.\n",
      "2024/02/22 05:17:02 PM, INFO, mealpy.evolutionary_based.GA.BaseGA: >>>Problem: Rosenbrock function, Epoch: 1, Current best: 641.0705191831448, Global best: 641.0705191831448, Runtime: 0.01489 seconds\n",
      "2024/02/22 05:17:02 PM, WARNING, mealpy.evolutionary_based.GA.BaseGA: Stopping criterion with maximum running time/time bound (TB) (seconds) occurred. End program!\n",
      "2024/02/22 05:17:02 PM, INFO, mealpy.evolutionary_based.GA.BaseGA: Solving single objective optimization problem.\n",
      "2024/02/22 05:17:02 PM, INFO, mealpy.evolutionary_based.GA.BaseGA: >>>Problem: Rosenbrock function, Epoch: 1, Current best: 3491.1841738555195, Global best: 3491.1841738555195, Runtime: 0.01537 seconds\n",
      "2024/02/22 05:17:02 PM, WARNING, mealpy.evolutionary_based.GA.BaseGA: Stopping criterion with maximum running time/time bound (TB) (seconds) occurred. End program!\n",
      "2024/02/22 05:17:02 PM, INFO, mealpy.evolutionary_based.GA.BaseGA: Solving single objective optimization problem.\n",
      "2024/02/22 05:17:02 PM, INFO, mealpy.evolutionary_based.GA.BaseGA: >>>Problem: Rosenbrock function, Epoch: 1, Current best: 395.05868224324945, Global best: 395.05868224324945, Runtime: 0.01390 seconds\n",
      "2024/02/22 05:17:02 PM, WARNING, mealpy.evolutionary_based.GA.BaseGA: Stopping criterion with maximum running time/time bound (TB) (seconds) occurred. End program!\n",
      "2024/02/22 05:17:02 PM, INFO, mealpy.evolutionary_based.GA.BaseGA: Solving single objective optimization problem.\n",
      "2024/02/22 05:17:02 PM, INFO, mealpy.evolutionary_based.GA.BaseGA: >>>Problem: Rosenbrock function, Epoch: 1, Current best: 687.375509650922, Global best: 687.375509650922, Runtime: 0.01697 seconds\n",
      "2024/02/22 05:17:02 PM, WARNING, mealpy.evolutionary_based.GA.BaseGA: Stopping criterion with maximum running time/time bound (TB) (seconds) occurred. End program!\n",
      "2024/02/22 05:17:02 PM, INFO, mealpy.evolutionary_based.GA.BaseGA: Solving single objective optimization problem.\n",
      "2024/02/22 05:17:02 PM, INFO, mealpy.evolutionary_based.GA.BaseGA: >>>Problem: Rosenbrock function, Epoch: 1, Current best: 246.78157036011376, Global best: 246.78157036011376, Runtime: 0.01400 seconds\n",
      "2024/02/22 05:17:02 PM, WARNING, mealpy.evolutionary_based.GA.BaseGA: Stopping criterion with maximum running time/time bound (TB) (seconds) occurred. End program!\n",
      "2024/02/22 05:17:02 PM, INFO, mealpy.evolutionary_based.GA.BaseGA: Solving single objective optimization problem.\n",
      "2024/02/22 05:17:02 PM, INFO, mealpy.evolutionary_based.GA.BaseGA: >>>Problem: Rosenbrock function, Epoch: 1, Current best: 607.3483844935105, Global best: 607.3483844935105, Runtime: 0.01681 seconds\n",
      "2024/02/22 05:17:02 PM, WARNING, mealpy.evolutionary_based.GA.BaseGA: Stopping criterion with maximum running time/time bound (TB) (seconds) occurred. End program!\n",
      "2024/02/22 05:17:02 PM, INFO, mealpy.evolutionary_based.GA.BaseGA: Solving single objective optimization problem.\n",
      "2024/02/22 05:17:02 PM, INFO, mealpy.evolutionary_based.GA.BaseGA: >>>Problem: Rosenbrock function, Epoch: 1, Current best: 2589.1896186062945, Global best: 2589.1896186062945, Runtime: 0.01674 seconds\n",
      "2024/02/22 05:17:02 PM, WARNING, mealpy.evolutionary_based.GA.BaseGA: Stopping criterion with maximum running time/time bound (TB) (seconds) occurred. End program!\n",
      "2024/02/22 05:17:02 PM, INFO, mealpy.evolutionary_based.GA.BaseGA: Solving single objective optimization problem.\n",
      "2024/02/22 05:17:02 PM, INFO, mealpy.evolutionary_based.GA.BaseGA: >>>Problem: Rosenbrock function, Epoch: 1, Current best: 1400.2591448731848, Global best: 1400.2591448731848, Runtime: 0.01441 seconds\n",
      "2024/02/22 05:17:02 PM, WARNING, mealpy.evolutionary_based.GA.BaseGA: Stopping criterion with maximum running time/time bound (TB) (seconds) occurred. End program!\n"
     ]
    },
    {
     "name": "stdout",
     "output_type": "stream",
     "text": [
      "Algorithm: BaseGA, with params: {'epoch': 500, 'pop_size': 100, 'pc': 0.8, 'pm': 0.1}, trial: 3, best fitness: 914.1982268319624\n",
      "Algorithm: BaseGA, with params: {'epoch': 500, 'pop_size': 100, 'pc': 0.8, 'pm': 0.1}, trial: 4, best fitness: 641.0705191831448\n",
      "Algorithm: BaseGA, with params: {'epoch': 500, 'pop_size': 100, 'pc': 0.8, 'pm': 0.1}, trial: 5, best fitness: 3491.1841738555195\n",
      "Algorithm: BaseGA, with params: {'epoch': 500, 'pop_size': 100, 'pc': 0.8, 'pm': 0.2}, trial: 1, best fitness: 395.05868224324945\n",
      "Algorithm: BaseGA, with params: {'epoch': 500, 'pop_size': 100, 'pc': 0.8, 'pm': 0.2}, trial: 2, best fitness: 687.375509650922\n",
      "Algorithm: BaseGA, with params: {'epoch': 500, 'pop_size': 100, 'pc': 0.8, 'pm': 0.2}, trial: 3, best fitness: 246.78157036011376\n",
      "Algorithm: BaseGA, with params: {'epoch': 500, 'pop_size': 100, 'pc': 0.8, 'pm': 0.2}, trial: 4, best fitness: 607.3483844935105\n",
      "Algorithm: BaseGA, with params: {'epoch': 500, 'pop_size': 100, 'pc': 0.8, 'pm': 0.2}, trial: 5, best fitness: 2589.1896186062945\n"
     ]
    },
    {
     "name": "stderr",
     "output_type": "stream",
     "text": [
      "2024/02/22 05:17:02 PM, INFO, mealpy.evolutionary_based.GA.BaseGA: Solving single objective optimization problem.\n",
      "2024/02/22 05:17:02 PM, INFO, mealpy.evolutionary_based.GA.BaseGA: >>>Problem: Rosenbrock function, Epoch: 1, Current best: 1015.9182253606102, Global best: 1015.9182253606102, Runtime: 0.01327 seconds\n",
      "2024/02/22 05:17:02 PM, WARNING, mealpy.evolutionary_based.GA.BaseGA: Stopping criterion with maximum running time/time bound (TB) (seconds) occurred. End program!\n",
      "2024/02/22 05:17:02 PM, INFO, mealpy.evolutionary_based.GA.BaseGA: Solving single objective optimization problem.\n",
      "2024/02/22 05:17:02 PM, INFO, mealpy.evolutionary_based.GA.BaseGA: >>>Problem: Rosenbrock function, Epoch: 1, Current best: 802.137575449004, Global best: 802.137575449004, Runtime: 0.01459 seconds\n",
      "2024/02/22 05:17:02 PM, WARNING, mealpy.evolutionary_based.GA.BaseGA: Stopping criterion with maximum running time/time bound (TB) (seconds) occurred. End program!\n",
      "2024/02/22 05:17:02 PM, INFO, mealpy.evolutionary_based.GA.BaseGA: Solving single objective optimization problem.\n",
      "2024/02/22 05:17:02 PM, INFO, mealpy.evolutionary_based.GA.BaseGA: >>>Problem: Rosenbrock function, Epoch: 1, Current best: 2478.12998520295, Global best: 2478.12998520295, Runtime: 0.01389 seconds\n",
      "2024/02/22 05:17:02 PM, WARNING, mealpy.evolutionary_based.GA.BaseGA: Stopping criterion with maximum running time/time bound (TB) (seconds) occurred. End program!\n",
      "2024/02/22 05:17:02 PM, INFO, mealpy.evolutionary_based.GA.BaseGA: Solving single objective optimization problem.\n",
      "2024/02/22 05:17:02 PM, INFO, mealpy.evolutionary_based.GA.BaseGA: >>>Problem: Rosenbrock function, Epoch: 1, Current best: 320.7388578334782, Global best: 320.7388578334782, Runtime: 0.01375 seconds\n",
      "2024/02/22 05:17:02 PM, WARNING, mealpy.evolutionary_based.GA.BaseGA: Stopping criterion with maximum running time/time bound (TB) (seconds) occurred. End program!\n",
      "2024/02/22 05:17:02 PM, INFO, mealpy.evolutionary_based.GA.BaseGA: Solving single objective optimization problem.\n",
      "2024/02/22 05:17:02 PM, INFO, mealpy.evolutionary_based.GA.BaseGA: >>>Problem: Rosenbrock function, Epoch: 1, Current best: 352.6701596357137, Global best: 352.6701596357137, Runtime: 0.01615 seconds\n",
      "2024/02/22 05:17:02 PM, WARNING, mealpy.evolutionary_based.GA.BaseGA: Stopping criterion with maximum running time/time bound (TB) (seconds) occurred. End program!\n",
      "2024/02/22 05:17:02 PM, INFO, mealpy.evolutionary_based.GA.BaseGA: Solving single objective optimization problem.\n",
      "2024/02/22 05:17:02 PM, INFO, mealpy.evolutionary_based.GA.BaseGA: >>>Problem: Rosenbrock function, Epoch: 1, Current best: 3945.0734048135696, Global best: 3945.0734048135696, Runtime: 0.01494 seconds\n",
      "2024/02/22 05:17:02 PM, WARNING, mealpy.evolutionary_based.GA.BaseGA: Stopping criterion with maximum running time/time bound (TB) (seconds) occurred. End program!\n",
      "2024/02/22 05:17:02 PM, INFO, mealpy.evolutionary_based.GA.BaseGA: Solving single objective optimization problem.\n",
      "2024/02/22 05:17:02 PM, INFO, mealpy.evolutionary_based.GA.BaseGA: >>>Problem: Rosenbrock function, Epoch: 1, Current best: 916.8512343515287, Global best: 916.8512343515287, Runtime: 0.01393 seconds\n",
      "2024/02/22 05:17:02 PM, WARNING, mealpy.evolutionary_based.GA.BaseGA: Stopping criterion with maximum running time/time bound (TB) (seconds) occurred. End program!\n",
      "2024/02/22 05:17:02 PM, INFO, mealpy.evolutionary_based.GA.BaseGA: Solving single objective optimization problem.\n",
      "2024/02/22 05:17:02 PM, INFO, mealpy.evolutionary_based.GA.BaseGA: >>>Problem: Rosenbrock function, Epoch: 1, Current best: 453.9764971897957, Global best: 453.9764971897957, Runtime: 0.01609 seconds\n",
      "2024/02/22 05:17:02 PM, WARNING, mealpy.evolutionary_based.GA.BaseGA: Stopping criterion with maximum running time/time bound (TB) (seconds) occurred. End program!\n",
      "2024/02/22 05:17:02 PM, INFO, mealpy.evolutionary_based.GA.BaseGA: Solving single objective optimization problem.\n",
      "2024/02/22 05:17:02 PM, INFO, mealpy.evolutionary_based.GA.BaseGA: >>>Problem: Rosenbrock function, Epoch: 1, Current best: 599.8743331228725, Global best: 599.8743331228725, Runtime: 0.01359 seconds\n",
      "2024/02/22 05:17:02 PM, WARNING, mealpy.evolutionary_based.GA.BaseGA: Stopping criterion with maximum running time/time bound (TB) (seconds) occurred. End program!\n"
     ]
    },
    {
     "name": "stdout",
     "output_type": "stream",
     "text": [
      "Algorithm: BaseGA, with params: {'epoch': 500, 'pop_size': 100, 'pc': 0.7, 'pm': 0.01}, trial: 1, best fitness: 1400.2591448731848\n",
      "Algorithm: BaseGA, with params: {'epoch': 500, 'pop_size': 100, 'pc': 0.7, 'pm': 0.01}, trial: 2, best fitness: 1015.9182253606102\n",
      "Algorithm: BaseGA, with params: {'epoch': 500, 'pop_size': 100, 'pc': 0.7, 'pm': 0.01}, trial: 3, best fitness: 802.137575449004\n",
      "Algorithm: BaseGA, with params: {'epoch': 500, 'pop_size': 100, 'pc': 0.7, 'pm': 0.01}, trial: 4, best fitness: 2478.12998520295\n",
      "Algorithm: BaseGA, with params: {'epoch': 500, 'pop_size': 100, 'pc': 0.7, 'pm': 0.01}, trial: 5, best fitness: 320.7388578334782\n",
      "Algorithm: BaseGA, with params: {'epoch': 500, 'pop_size': 100, 'pc': 0.7, 'pm': 0.05}, trial: 1, best fitness: 352.6701596357137\n",
      "Algorithm: BaseGA, with params: {'epoch': 500, 'pop_size': 100, 'pc': 0.7, 'pm': 0.05}, trial: 2, best fitness: 3945.0734048135696\n",
      "Algorithm: BaseGA, with params: {'epoch': 500, 'pop_size': 100, 'pc': 0.7, 'pm': 0.05}, trial: 3, best fitness: 916.8512343515287\n",
      "Algorithm: BaseGA, with params: {'epoch': 500, 'pop_size': 100, 'pc': 0.7, 'pm': 0.05}, trial: 4, best fitness: 453.9764971897957\n"
     ]
    },
    {
     "name": "stderr",
     "output_type": "stream",
     "text": [
      "2024/02/22 05:17:02 PM, INFO, mealpy.evolutionary_based.GA.BaseGA: Solving single objective optimization problem.\n",
      "2024/02/22 05:17:02 PM, INFO, mealpy.evolutionary_based.GA.BaseGA: >>>Problem: Rosenbrock function, Epoch: 1, Current best: 543.6420675366683, Global best: 543.6420675366683, Runtime: 0.01328 seconds\n",
      "2024/02/22 05:17:02 PM, WARNING, mealpy.evolutionary_based.GA.BaseGA: Stopping criterion with maximum running time/time bound (TB) (seconds) occurred. End program!\n",
      "2024/02/22 05:17:02 PM, INFO, mealpy.evolutionary_based.GA.BaseGA: Solving single objective optimization problem.\n",
      "2024/02/22 05:17:02 PM, INFO, mealpy.evolutionary_based.GA.BaseGA: >>>Problem: Rosenbrock function, Epoch: 1, Current best: 1603.3463240622514, Global best: 1603.3463240622514, Runtime: 0.01633 seconds\n",
      "2024/02/22 05:17:02 PM, WARNING, mealpy.evolutionary_based.GA.BaseGA: Stopping criterion with maximum running time/time bound (TB) (seconds) occurred. End program!\n",
      "2024/02/22 05:17:02 PM, INFO, mealpy.evolutionary_based.GA.BaseGA: Solving single objective optimization problem.\n",
      "2024/02/22 05:17:02 PM, INFO, mealpy.evolutionary_based.GA.BaseGA: >>>Problem: Rosenbrock function, Epoch: 1, Current best: 634.2458120072458, Global best: 634.2458120072458, Runtime: 0.01564 seconds\n",
      "2024/02/22 05:17:02 PM, WARNING, mealpy.evolutionary_based.GA.BaseGA: Stopping criterion with maximum running time/time bound (TB) (seconds) occurred. End program!\n",
      "2024/02/22 05:17:02 PM, INFO, mealpy.evolutionary_based.GA.BaseGA: Solving single objective optimization problem.\n",
      "2024/02/22 05:17:02 PM, INFO, mealpy.evolutionary_based.GA.BaseGA: >>>Problem: Rosenbrock function, Epoch: 1, Current best: 94.67896473195749, Global best: 94.67896473195749, Runtime: 0.01598 seconds\n",
      "2024/02/22 05:17:02 PM, WARNING, mealpy.evolutionary_based.GA.BaseGA: Stopping criterion with maximum running time/time bound (TB) (seconds) occurred. End program!\n",
      "2024/02/22 05:17:02 PM, INFO, mealpy.evolutionary_based.GA.BaseGA: Solving single objective optimization problem.\n",
      "2024/02/22 05:17:02 PM, INFO, mealpy.evolutionary_based.GA.BaseGA: >>>Problem: Rosenbrock function, Epoch: 1, Current best: 1190.6531329528136, Global best: 1190.6531329528136, Runtime: 0.01400 seconds\n",
      "2024/02/22 05:17:02 PM, WARNING, mealpy.evolutionary_based.GA.BaseGA: Stopping criterion with maximum running time/time bound (TB) (seconds) occurred. End program!\n",
      "2024/02/22 05:17:02 PM, INFO, mealpy.evolutionary_based.GA.BaseGA: Solving single objective optimization problem.\n",
      "2024/02/22 05:17:02 PM, INFO, mealpy.evolutionary_based.GA.BaseGA: >>>Problem: Rosenbrock function, Epoch: 1, Current best: 178.6747411320505, Global best: 178.6747411320505, Runtime: 0.01705 seconds\n",
      "2024/02/22 05:17:02 PM, WARNING, mealpy.evolutionary_based.GA.BaseGA: Stopping criterion with maximum running time/time bound (TB) (seconds) occurred. End program!\n",
      "2024/02/22 05:17:02 PM, INFO, mealpy.evolutionary_based.GA.BaseGA: Solving single objective optimization problem.\n",
      "2024/02/22 05:17:02 PM, INFO, mealpy.evolutionary_based.GA.BaseGA: >>>Problem: Rosenbrock function, Epoch: 1, Current best: 1034.084261967468, Global best: 1034.084261967468, Runtime: 0.01615 seconds\n",
      "2024/02/22 05:17:02 PM, WARNING, mealpy.evolutionary_based.GA.BaseGA: Stopping criterion with maximum running time/time bound (TB) (seconds) occurred. End program!\n",
      "2024/02/22 05:17:02 PM, INFO, mealpy.evolutionary_based.GA.BaseGA: Solving single objective optimization problem.\n"
     ]
    },
    {
     "name": "stdout",
     "output_type": "stream",
     "text": [
      "Algorithm: BaseGA, with params: {'epoch': 500, 'pop_size': 100, 'pc': 0.7, 'pm': 0.05}, trial: 5, best fitness: 599.8743331228725\n",
      "Algorithm: BaseGA, with params: {'epoch': 500, 'pop_size': 100, 'pc': 0.7, 'pm': 0.1}, trial: 1, best fitness: 543.6420675366683\n",
      "Algorithm: BaseGA, with params: {'epoch': 500, 'pop_size': 100, 'pc': 0.7, 'pm': 0.1}, trial: 2, best fitness: 1603.3463240622514\n",
      "Algorithm: BaseGA, with params: {'epoch': 500, 'pop_size': 100, 'pc': 0.7, 'pm': 0.1}, trial: 3, best fitness: 634.2458120072458\n",
      "Algorithm: BaseGA, with params: {'epoch': 500, 'pop_size': 100, 'pc': 0.7, 'pm': 0.1}, trial: 4, best fitness: 94.67896473195749\n",
      "Algorithm: BaseGA, with params: {'epoch': 500, 'pop_size': 100, 'pc': 0.7, 'pm': 0.1}, trial: 5, best fitness: 1190.6531329528136\n",
      "Algorithm: BaseGA, with params: {'epoch': 500, 'pop_size': 100, 'pc': 0.7, 'pm': 0.2}, trial: 1, best fitness: 178.6747411320505\n",
      "Algorithm: BaseGA, with params: {'epoch': 500, 'pop_size': 100, 'pc': 0.7, 'pm': 0.2}, trial: 2, best fitness: 1034.084261967468\n"
     ]
    },
    {
     "name": "stderr",
     "output_type": "stream",
     "text": [
      "2024/02/22 05:17:02 PM, INFO, mealpy.evolutionary_based.GA.BaseGA: >>>Problem: Rosenbrock function, Epoch: 1, Current best: 1887.3113644056111, Global best: 1887.3113644056111, Runtime: 0.01719 seconds\n",
      "2024/02/22 05:17:02 PM, WARNING, mealpy.evolutionary_based.GA.BaseGA: Stopping criterion with maximum running time/time bound (TB) (seconds) occurred. End program!\n",
      "2024/02/22 05:17:02 PM, INFO, mealpy.evolutionary_based.GA.BaseGA: Solving single objective optimization problem.\n",
      "2024/02/22 05:17:02 PM, INFO, mealpy.evolutionary_based.GA.BaseGA: >>>Problem: Rosenbrock function, Epoch: 1, Current best: 918.0490927780711, Global best: 918.0490927780711, Runtime: 0.01550 seconds\n",
      "2024/02/22 05:17:02 PM, WARNING, mealpy.evolutionary_based.GA.BaseGA: Stopping criterion with maximum running time/time bound (TB) (seconds) occurred. End program!\n",
      "2024/02/22 05:17:02 PM, INFO, mealpy.evolutionary_based.GA.BaseGA: Solving single objective optimization problem.\n",
      "2024/02/22 05:17:02 PM, INFO, mealpy.evolutionary_based.GA.BaseGA: >>>Problem: Rosenbrock function, Epoch: 1, Current best: 1115.503494731999, Global best: 1115.503494731999, Runtime: 0.01536 seconds\n",
      "2024/02/22 05:17:02 PM, WARNING, mealpy.evolutionary_based.GA.BaseGA: Stopping criterion with maximum running time/time bound (TB) (seconds) occurred. End program!\n",
      "2024/02/22 05:17:02 PM, INFO, mealpy.evolutionary_based.GA.BaseGA: Solving single objective optimization problem.\n",
      "2024/02/22 05:17:02 PM, INFO, mealpy.evolutionary_based.GA.BaseGA: >>>Problem: Rosenbrock function, Epoch: 1, Current best: 411.9223498841352, Global best: 411.9223498841352, Runtime: 0.05156 seconds\n",
      "2024/02/22 05:17:02 PM, WARNING, mealpy.evolutionary_based.GA.BaseGA: Stopping criterion with maximum running time/time bound (TB) (seconds) occurred. End program!\n",
      "2024/02/22 05:17:02 PM, INFO, mealpy.evolutionary_based.GA.BaseGA: Solving single objective optimization problem.\n",
      "2024/02/22 05:17:02 PM, INFO, mealpy.evolutionary_based.GA.BaseGA: >>>Problem: Rosenbrock function, Epoch: 1, Current best: 165.2842700004772, Global best: 165.2842700004772, Runtime: 0.05230 seconds\n",
      "2024/02/22 05:17:02 PM, WARNING, mealpy.evolutionary_based.GA.BaseGA: Stopping criterion with maximum running time/time bound (TB) (seconds) occurred. End program!\n"
     ]
    },
    {
     "name": "stdout",
     "output_type": "stream",
     "text": [
      "Algorithm: BaseGA, with params: {'epoch': 500, 'pop_size': 100, 'pc': 0.7, 'pm': 0.2}, trial: 3, best fitness: 1887.3113644056111\n",
      "Algorithm: BaseGA, with params: {'epoch': 500, 'pop_size': 100, 'pc': 0.7, 'pm': 0.2}, trial: 4, best fitness: 918.0490927780711\n",
      "Algorithm: BaseGA, with params: {'epoch': 500, 'pop_size': 100, 'pc': 0.7, 'pm': 0.2}, trial: 5, best fitness: 1115.503494731999\n",
      "Algorithm: BaseGA, with params: {'epoch': 500, 'pop_size': 300, 'pc': 0.95, 'pm': 0.01}, trial: 1, best fitness: 411.9223498841352\n"
     ]
    },
    {
     "name": "stderr",
     "output_type": "stream",
     "text": [
      "2024/02/22 05:17:02 PM, INFO, mealpy.evolutionary_based.GA.BaseGA: Solving single objective optimization problem.\n",
      "2024/02/22 05:17:02 PM, INFO, mealpy.evolutionary_based.GA.BaseGA: >>>Problem: Rosenbrock function, Epoch: 1, Current best: 294.61265362079394, Global best: 294.61265362079394, Runtime: 0.05506 seconds\n",
      "2024/02/22 05:17:02 PM, WARNING, mealpy.evolutionary_based.GA.BaseGA: Stopping criterion with maximum running time/time bound (TB) (seconds) occurred. End program!\n",
      "2024/02/22 05:17:02 PM, INFO, mealpy.evolutionary_based.GA.BaseGA: Solving single objective optimization problem.\n",
      "2024/02/22 05:17:02 PM, INFO, mealpy.evolutionary_based.GA.BaseGA: >>>Problem: Rosenbrock function, Epoch: 1, Current best: 155.64871338751325, Global best: 155.64871338751325, Runtime: 0.05189 seconds\n",
      "2024/02/22 05:17:02 PM, WARNING, mealpy.evolutionary_based.GA.BaseGA: Stopping criterion with maximum running time/time bound (TB) (seconds) occurred. End program!\n",
      "2024/02/22 05:17:02 PM, INFO, mealpy.evolutionary_based.GA.BaseGA: Solving single objective optimization problem.\n"
     ]
    },
    {
     "name": "stdout",
     "output_type": "stream",
     "text": [
      "Algorithm: BaseGA, with params: {'epoch': 500, 'pop_size': 300, 'pc': 0.95, 'pm': 0.01}, trial: 2, best fitness: 165.2842700004772\n",
      "Algorithm: BaseGA, with params: {'epoch': 500, 'pop_size': 300, 'pc': 0.95, 'pm': 0.01}, trial: 3, best fitness: 294.61265362079394\n",
      "Algorithm: BaseGA, with params: {'epoch': 500, 'pop_size': 300, 'pc': 0.95, 'pm': 0.01}, trial: 4, best fitness: 155.64871338751325\n"
     ]
    },
    {
     "name": "stderr",
     "output_type": "stream",
     "text": [
      "2024/02/22 05:17:02 PM, INFO, mealpy.evolutionary_based.GA.BaseGA: >>>Problem: Rosenbrock function, Epoch: 1, Current best: 324.91425796585247, Global best: 324.91425796585247, Runtime: 0.05320 seconds\n",
      "2024/02/22 05:17:02 PM, WARNING, mealpy.evolutionary_based.GA.BaseGA: Stopping criterion with maximum running time/time bound (TB) (seconds) occurred. End program!\n",
      "2024/02/22 05:17:02 PM, INFO, mealpy.evolutionary_based.GA.BaseGA: Solving single objective optimization problem.\n",
      "2024/02/22 05:17:03 PM, INFO, mealpy.evolutionary_based.GA.BaseGA: >>>Problem: Rosenbrock function, Epoch: 1, Current best: 660.6103081060697, Global best: 660.6103081060697, Runtime: 0.05281 seconds\n",
      "2024/02/22 05:17:03 PM, WARNING, mealpy.evolutionary_based.GA.BaseGA: Stopping criterion with maximum running time/time bound (TB) (seconds) occurred. End program!\n",
      "2024/02/22 05:17:03 PM, INFO, mealpy.evolutionary_based.GA.BaseGA: Solving single objective optimization problem.\n",
      "2024/02/22 05:17:03 PM, INFO, mealpy.evolutionary_based.GA.BaseGA: >>>Problem: Rosenbrock function, Epoch: 1, Current best: 560.7747140477384, Global best: 560.7747140477384, Runtime: 0.05110 seconds\n",
      "2024/02/22 05:17:03 PM, WARNING, mealpy.evolutionary_based.GA.BaseGA: Stopping criterion with maximum running time/time bound (TB) (seconds) occurred. End program!\n",
      "2024/02/22 05:17:03 PM, INFO, mealpy.evolutionary_based.GA.BaseGA: Solving single objective optimization problem.\n",
      "2024/02/22 05:17:03 PM, INFO, mealpy.evolutionary_based.GA.BaseGA: >>>Problem: Rosenbrock function, Epoch: 1, Current best: 75.09589040092634, Global best: 75.09589040092634, Runtime: 0.05145 seconds\n"
     ]
    },
    {
     "name": "stdout",
     "output_type": "stream",
     "text": [
      "Algorithm: BaseGA, with params: {'epoch': 500, 'pop_size': 300, 'pc': 0.95, 'pm': 0.01}, trial: 5, best fitness: 324.91425796585247\n",
      "Algorithm: BaseGA, with params: {'epoch': 500, 'pop_size': 300, 'pc': 0.95, 'pm': 0.05}, trial: 1, best fitness: 660.6103081060697\n",
      "Algorithm: BaseGA, with params: {'epoch': 500, 'pop_size': 300, 'pc': 0.95, 'pm': 0.05}, trial: 2, best fitness: 560.7747140477384\n"
     ]
    },
    {
     "name": "stderr",
     "output_type": "stream",
     "text": [
      "2024/02/22 05:17:03 PM, WARNING, mealpy.evolutionary_based.GA.BaseGA: Stopping criterion with maximum running time/time bound (TB) (seconds) occurred. End program!\n",
      "2024/02/22 05:17:03 PM, INFO, mealpy.evolutionary_based.GA.BaseGA: Solving single objective optimization problem.\n",
      "2024/02/22 05:17:03 PM, INFO, mealpy.evolutionary_based.GA.BaseGA: >>>Problem: Rosenbrock function, Epoch: 1, Current best: 173.27754941592434, Global best: 173.27754941592434, Runtime: 0.05637 seconds\n",
      "2024/02/22 05:17:03 PM, WARNING, mealpy.evolutionary_based.GA.BaseGA: Stopping criterion with maximum running time/time bound (TB) (seconds) occurred. End program!\n",
      "2024/02/22 05:17:03 PM, INFO, mealpy.evolutionary_based.GA.BaseGA: Solving single objective optimization problem.\n",
      "2024/02/22 05:17:03 PM, INFO, mealpy.evolutionary_based.GA.BaseGA: >>>Problem: Rosenbrock function, Epoch: 1, Current best: 494.4541511965223, Global best: 494.4541511965223, Runtime: 0.05764 seconds\n",
      "2024/02/22 05:17:03 PM, WARNING, mealpy.evolutionary_based.GA.BaseGA: Stopping criterion with maximum running time/time bound (TB) (seconds) occurred. End program!\n",
      "2024/02/22 05:17:03 PM, INFO, mealpy.evolutionary_based.GA.BaseGA: Solving single objective optimization problem.\n"
     ]
    },
    {
     "name": "stdout",
     "output_type": "stream",
     "text": [
      "Algorithm: BaseGA, with params: {'epoch': 500, 'pop_size': 300, 'pc': 0.95, 'pm': 0.05}, trial: 3, best fitness: 75.09589040092634\n",
      "Algorithm: BaseGA, with params: {'epoch': 500, 'pop_size': 300, 'pc': 0.95, 'pm': 0.05}, trial: 4, best fitness: 173.27754941592434\n",
      "Algorithm: BaseGA, with params: {'epoch': 500, 'pop_size': 300, 'pc': 0.95, 'pm': 0.05}, trial: 5, best fitness: 494.4541511965223\n"
     ]
    },
    {
     "name": "stderr",
     "output_type": "stream",
     "text": [
      "2024/02/22 05:17:03 PM, INFO, mealpy.evolutionary_based.GA.BaseGA: >>>Problem: Rosenbrock function, Epoch: 1, Current best: 268.19439768547295, Global best: 268.19439768547295, Runtime: 0.05971 seconds\n",
      "2024/02/22 05:17:03 PM, WARNING, mealpy.evolutionary_based.GA.BaseGA: Stopping criterion with maximum running time/time bound (TB) (seconds) occurred. End program!\n",
      "2024/02/22 05:17:03 PM, INFO, mealpy.evolutionary_based.GA.BaseGA: Solving single objective optimization problem.\n",
      "2024/02/22 05:17:03 PM, INFO, mealpy.evolutionary_based.GA.BaseGA: >>>Problem: Rosenbrock function, Epoch: 1, Current best: 363.75696463207885, Global best: 363.75696463207885, Runtime: 0.05491 seconds\n",
      "2024/02/22 05:17:03 PM, WARNING, mealpy.evolutionary_based.GA.BaseGA: Stopping criterion with maximum running time/time bound (TB) (seconds) occurred. End program!\n",
      "2024/02/22 05:17:03 PM, INFO, mealpy.evolutionary_based.GA.BaseGA: Solving single objective optimization problem.\n",
      "2024/02/22 05:17:03 PM, INFO, mealpy.evolutionary_based.GA.BaseGA: >>>Problem: Rosenbrock function, Epoch: 1, Current best: 210.90703650245607, Global best: 210.90703650245607, Runtime: 0.05604 seconds\n",
      "2024/02/22 05:17:03 PM, WARNING, mealpy.evolutionary_based.GA.BaseGA: Stopping criterion with maximum running time/time bound (TB) (seconds) occurred. End program!\n",
      "2024/02/22 05:17:03 PM, INFO, mealpy.evolutionary_based.GA.BaseGA: Solving single objective optimization problem.\n"
     ]
    },
    {
     "name": "stdout",
     "output_type": "stream",
     "text": [
      "Algorithm: BaseGA, with params: {'epoch': 500, 'pop_size': 300, 'pc': 0.95, 'pm': 0.1}, trial: 1, best fitness: 268.19439768547295\n",
      "Algorithm: BaseGA, with params: {'epoch': 500, 'pop_size': 300, 'pc': 0.95, 'pm': 0.1}, trial: 2, best fitness: 363.75696463207885\n",
      "Algorithm: BaseGA, with params: {'epoch': 500, 'pop_size': 300, 'pc': 0.95, 'pm': 0.1}, trial: 3, best fitness: 210.90703650245607\n"
     ]
    },
    {
     "name": "stderr",
     "output_type": "stream",
     "text": [
      "2024/02/22 05:17:03 PM, INFO, mealpy.evolutionary_based.GA.BaseGA: >>>Problem: Rosenbrock function, Epoch: 1, Current best: 463.8471751951625, Global best: 463.8471751951625, Runtime: 0.05611 seconds\n",
      "2024/02/22 05:17:03 PM, WARNING, mealpy.evolutionary_based.GA.BaseGA: Stopping criterion with maximum running time/time bound (TB) (seconds) occurred. End program!\n",
      "2024/02/22 05:17:03 PM, INFO, mealpy.evolutionary_based.GA.BaseGA: Solving single objective optimization problem.\n",
      "2024/02/22 05:17:03 PM, INFO, mealpy.evolutionary_based.GA.BaseGA: >>>Problem: Rosenbrock function, Epoch: 1, Current best: 326.44834278757656, Global best: 326.44834278757656, Runtime: 0.05347 seconds\n",
      "2024/02/22 05:17:03 PM, WARNING, mealpy.evolutionary_based.GA.BaseGA: Stopping criterion with maximum running time/time bound (TB) (seconds) occurred. End program!\n",
      "2024/02/22 05:17:03 PM, INFO, mealpy.evolutionary_based.GA.BaseGA: Solving single objective optimization problem.\n",
      "2024/02/22 05:17:03 PM, INFO, mealpy.evolutionary_based.GA.BaseGA: >>>Problem: Rosenbrock function, Epoch: 1, Current best: 697.2326429500783, Global best: 697.2326429500783, Runtime: 0.05620 seconds\n",
      "2024/02/22 05:17:03 PM, WARNING, mealpy.evolutionary_based.GA.BaseGA: Stopping criterion with maximum running time/time bound (TB) (seconds) occurred. End program!\n",
      "2024/02/22 05:17:03 PM, INFO, mealpy.evolutionary_based.GA.BaseGA: Solving single objective optimization problem.\n"
     ]
    },
    {
     "name": "stdout",
     "output_type": "stream",
     "text": [
      "Algorithm: BaseGA, with params: {'epoch': 500, 'pop_size': 300, 'pc': 0.95, 'pm': 0.1}, trial: 4, best fitness: 463.8471751951625\n",
      "Algorithm: BaseGA, with params: {'epoch': 500, 'pop_size': 300, 'pc': 0.95, 'pm': 0.1}, trial: 5, best fitness: 326.44834278757656\n",
      "Algorithm: BaseGA, with params: {'epoch': 500, 'pop_size': 300, 'pc': 0.95, 'pm': 0.2}, trial: 1, best fitness: 697.2326429500783\n"
     ]
    },
    {
     "name": "stderr",
     "output_type": "stream",
     "text": [
      "2024/02/22 05:17:03 PM, INFO, mealpy.evolutionary_based.GA.BaseGA: >>>Problem: Rosenbrock function, Epoch: 1, Current best: 176.54314325922815, Global best: 176.54314325922815, Runtime: 0.05675 seconds\n",
      "2024/02/22 05:17:03 PM, WARNING, mealpy.evolutionary_based.GA.BaseGA: Stopping criterion with maximum running time/time bound (TB) (seconds) occurred. End program!\n",
      "2024/02/22 05:17:03 PM, INFO, mealpy.evolutionary_based.GA.BaseGA: Solving single objective optimization problem.\n",
      "2024/02/22 05:17:03 PM, INFO, mealpy.evolutionary_based.GA.BaseGA: >>>Problem: Rosenbrock function, Epoch: 1, Current best: 37.783883149307215, Global best: 37.783883149307215, Runtime: 0.05732 seconds\n",
      "2024/02/22 05:17:03 PM, WARNING, mealpy.evolutionary_based.GA.BaseGA: Stopping criterion with maximum running time/time bound (TB) (seconds) occurred. End program!\n",
      "2024/02/22 05:17:03 PM, INFO, mealpy.evolutionary_based.GA.BaseGA: Solving single objective optimization problem.\n",
      "2024/02/22 05:17:04 PM, INFO, mealpy.evolutionary_based.GA.BaseGA: >>>Problem: Rosenbrock function, Epoch: 1, Current best: 463.8165439764853, Global best: 463.8165439764853, Runtime: 0.05406 seconds\n",
      "2024/02/22 05:17:04 PM, WARNING, mealpy.evolutionary_based.GA.BaseGA: Stopping criterion with maximum running time/time bound (TB) (seconds) occurred. End program!\n",
      "2024/02/22 05:17:04 PM, INFO, mealpy.evolutionary_based.GA.BaseGA: Solving single objective optimization problem.\n"
     ]
    },
    {
     "name": "stdout",
     "output_type": "stream",
     "text": [
      "Algorithm: BaseGA, with params: {'epoch': 500, 'pop_size': 300, 'pc': 0.95, 'pm': 0.2}, trial: 2, best fitness: 176.54314325922815\n",
      "Algorithm: BaseGA, with params: {'epoch': 500, 'pop_size': 300, 'pc': 0.95, 'pm': 0.2}, trial: 3, best fitness: 37.783883149307215\n",
      "Algorithm: BaseGA, with params: {'epoch': 500, 'pop_size': 300, 'pc': 0.95, 'pm': 0.2}, trial: 4, best fitness: 463.8165439764853\n"
     ]
    },
    {
     "name": "stderr",
     "output_type": "stream",
     "text": [
      "2024/02/22 05:17:04 PM, INFO, mealpy.evolutionary_based.GA.BaseGA: >>>Problem: Rosenbrock function, Epoch: 1, Current best: 802.1487771652621, Global best: 802.1487771652621, Runtime: 0.05532 seconds\n",
      "2024/02/22 05:17:04 PM, WARNING, mealpy.evolutionary_based.GA.BaseGA: Stopping criterion with maximum running time/time bound (TB) (seconds) occurred. End program!\n",
      "2024/02/22 05:17:04 PM, INFO, mealpy.evolutionary_based.GA.BaseGA: Solving single objective optimization problem.\n",
      "2024/02/22 05:17:04 PM, INFO, mealpy.evolutionary_based.GA.BaseGA: >>>Problem: Rosenbrock function, Epoch: 1, Current best: 285.24547055772604, Global best: 285.24547055772604, Runtime: 0.05338 seconds\n",
      "2024/02/22 05:17:04 PM, WARNING, mealpy.evolutionary_based.GA.BaseGA: Stopping criterion with maximum running time/time bound (TB) (seconds) occurred. End program!\n",
      "2024/02/22 05:17:04 PM, INFO, mealpy.evolutionary_based.GA.BaseGA: Solving single objective optimization problem.\n",
      "2024/02/22 05:17:04 PM, INFO, mealpy.evolutionary_based.GA.BaseGA: >>>Problem: Rosenbrock function, Epoch: 1, Current best: 237.08249840806496, Global best: 237.08249840806496, Runtime: 0.07418 seconds\n",
      "2024/02/22 05:17:04 PM, WARNING, mealpy.evolutionary_based.GA.BaseGA: Stopping criterion with maximum running time/time bound (TB) (seconds) occurred. End program!\n",
      "2024/02/22 05:17:04 PM, INFO, mealpy.evolutionary_based.GA.BaseGA: Solving single objective optimization problem.\n"
     ]
    },
    {
     "name": "stdout",
     "output_type": "stream",
     "text": [
      "Algorithm: BaseGA, with params: {'epoch': 500, 'pop_size': 300, 'pc': 0.95, 'pm': 0.2}, trial: 5, best fitness: 802.1487771652621\n",
      "Algorithm: BaseGA, with params: {'epoch': 500, 'pop_size': 300, 'pc': 0.9, 'pm': 0.01}, trial: 1, best fitness: 285.24547055772604\n",
      "Algorithm: BaseGA, with params: {'epoch': 500, 'pop_size': 300, 'pc': 0.9, 'pm': 0.01}, trial: 2, best fitness: 237.08249840806496\n"
     ]
    },
    {
     "name": "stderr",
     "output_type": "stream",
     "text": [
      "2024/02/22 05:17:04 PM, INFO, mealpy.evolutionary_based.GA.BaseGA: >>>Problem: Rosenbrock function, Epoch: 1, Current best: 603.9126439753277, Global best: 603.9126439753277, Runtime: 0.07300 seconds\n",
      "2024/02/22 05:17:04 PM, WARNING, mealpy.evolutionary_based.GA.BaseGA: Stopping criterion with maximum running time/time bound (TB) (seconds) occurred. End program!\n",
      "2024/02/22 05:17:04 PM, INFO, mealpy.evolutionary_based.GA.BaseGA: Solving single objective optimization problem.\n",
      "2024/02/22 05:17:04 PM, INFO, mealpy.evolutionary_based.GA.BaseGA: >>>Problem: Rosenbrock function, Epoch: 1, Current best: 409.3261046473789, Global best: 409.3261046473789, Runtime: 0.06731 seconds\n",
      "2024/02/22 05:17:04 PM, WARNING, mealpy.evolutionary_based.GA.BaseGA: Stopping criterion with maximum running time/time bound (TB) (seconds) occurred. End program!\n",
      "2024/02/22 05:17:04 PM, INFO, mealpy.evolutionary_based.GA.BaseGA: Solving single objective optimization problem.\n",
      "2024/02/22 05:17:04 PM, INFO, mealpy.evolutionary_based.GA.BaseGA: >>>Problem: Rosenbrock function, Epoch: 1, Current best: 307.7636738699334, Global best: 307.7636738699334, Runtime: 0.05746 seconds\n",
      "2024/02/22 05:17:04 PM, WARNING, mealpy.evolutionary_based.GA.BaseGA: Stopping criterion with maximum running time/time bound (TB) (seconds) occurred. End program!\n",
      "2024/02/22 05:17:04 PM, INFO, mealpy.evolutionary_based.GA.BaseGA: Solving single objective optimization problem.\n"
     ]
    },
    {
     "name": "stdout",
     "output_type": "stream",
     "text": [
      "Algorithm: BaseGA, with params: {'epoch': 500, 'pop_size': 300, 'pc': 0.9, 'pm': 0.01}, trial: 3, best fitness: 603.9126439753277\n",
      "Algorithm: BaseGA, with params: {'epoch': 500, 'pop_size': 300, 'pc': 0.9, 'pm': 0.01}, trial: 4, best fitness: 409.3261046473789\n",
      "Algorithm: BaseGA, with params: {'epoch': 500, 'pop_size': 300, 'pc': 0.9, 'pm': 0.01}, trial: 5, best fitness: 307.7636738699334\n"
     ]
    },
    {
     "name": "stderr",
     "output_type": "stream",
     "text": [
      "2024/02/22 05:17:04 PM, INFO, mealpy.evolutionary_based.GA.BaseGA: >>>Problem: Rosenbrock function, Epoch: 1, Current best: 748.4639366057096, Global best: 748.4639366057096, Runtime: 0.05933 seconds\n",
      "2024/02/22 05:17:04 PM, WARNING, mealpy.evolutionary_based.GA.BaseGA: Stopping criterion with maximum running time/time bound (TB) (seconds) occurred. End program!\n",
      "2024/02/22 05:17:04 PM, INFO, mealpy.evolutionary_based.GA.BaseGA: Solving single objective optimization problem.\n",
      "2024/02/22 05:17:04 PM, INFO, mealpy.evolutionary_based.GA.BaseGA: >>>Problem: Rosenbrock function, Epoch: 1, Current best: 804.5635249305042, Global best: 804.5635249305042, Runtime: 0.06844 seconds\n",
      "2024/02/22 05:17:04 PM, WARNING, mealpy.evolutionary_based.GA.BaseGA: Stopping criterion with maximum running time/time bound (TB) (seconds) occurred. End program!\n",
      "2024/02/22 05:17:04 PM, INFO, mealpy.evolutionary_based.GA.BaseGA: Solving single objective optimization problem.\n",
      "2024/02/22 05:17:04 PM, INFO, mealpy.evolutionary_based.GA.BaseGA: >>>Problem: Rosenbrock function, Epoch: 1, Current best: 244.37014590523358, Global best: 244.37014590523358, Runtime: 0.05454 seconds\n",
      "2024/02/22 05:17:04 PM, WARNING, mealpy.evolutionary_based.GA.BaseGA: Stopping criterion with maximum running time/time bound (TB) (seconds) occurred. End program!\n",
      "2024/02/22 05:17:04 PM, INFO, mealpy.evolutionary_based.GA.BaseGA: Solving single objective optimization problem.\n"
     ]
    },
    {
     "name": "stdout",
     "output_type": "stream",
     "text": [
      "Algorithm: BaseGA, with params: {'epoch': 500, 'pop_size': 300, 'pc': 0.9, 'pm': 0.05}, trial: 1, best fitness: 748.4639366057096\n",
      "Algorithm: BaseGA, with params: {'epoch': 500, 'pop_size': 300, 'pc': 0.9, 'pm': 0.05}, trial: 2, best fitness: 804.5635249305042\n",
      "Algorithm: BaseGA, with params: {'epoch': 500, 'pop_size': 300, 'pc': 0.9, 'pm': 0.05}, trial: 3, best fitness: 244.37014590523358\n"
     ]
    },
    {
     "name": "stderr",
     "output_type": "stream",
     "text": [
      "2024/02/22 05:17:04 PM, INFO, mealpy.evolutionary_based.GA.BaseGA: >>>Problem: Rosenbrock function, Epoch: 1, Current best: 185.59217764666852, Global best: 185.59217764666852, Runtime: 0.05577 seconds\n",
      "2024/02/22 05:17:04 PM, WARNING, mealpy.evolutionary_based.GA.BaseGA: Stopping criterion with maximum running time/time bound (TB) (seconds) occurred. End program!\n",
      "2024/02/22 05:17:04 PM, INFO, mealpy.evolutionary_based.GA.BaseGA: Solving single objective optimization problem.\n",
      "2024/02/22 05:17:04 PM, INFO, mealpy.evolutionary_based.GA.BaseGA: >>>Problem: Rosenbrock function, Epoch: 1, Current best: 257.8482670444015, Global best: 257.8482670444015, Runtime: 0.05399 seconds\n",
      "2024/02/22 05:17:04 PM, WARNING, mealpy.evolutionary_based.GA.BaseGA: Stopping criterion with maximum running time/time bound (TB) (seconds) occurred. End program!\n",
      "2024/02/22 05:17:04 PM, INFO, mealpy.evolutionary_based.GA.BaseGA: Solving single objective optimization problem.\n",
      "2024/02/22 05:17:04 PM, INFO, mealpy.evolutionary_based.GA.BaseGA: >>>Problem: Rosenbrock function, Epoch: 1, Current best: 326.1592157199408, Global best: 326.1592157199408, Runtime: 0.05195 seconds\n",
      "2024/02/22 05:17:04 PM, WARNING, mealpy.evolutionary_based.GA.BaseGA: Stopping criterion with maximum running time/time bound (TB) (seconds) occurred. End program!\n",
      "2024/02/22 05:17:05 PM, INFO, mealpy.evolutionary_based.GA.BaseGA: Solving single objective optimization problem.\n"
     ]
    },
    {
     "name": "stdout",
     "output_type": "stream",
     "text": [
      "Algorithm: BaseGA, with params: {'epoch': 500, 'pop_size': 300, 'pc': 0.9, 'pm': 0.05}, trial: 4, best fitness: 185.59217764666852\n",
      "Algorithm: BaseGA, with params: {'epoch': 500, 'pop_size': 300, 'pc': 0.9, 'pm': 0.05}, trial: 5, best fitness: 257.8482670444015\n",
      "Algorithm: BaseGA, with params: {'epoch': 500, 'pop_size': 300, 'pc': 0.9, 'pm': 0.1}, trial: 1, best fitness: 326.1592157199408\n"
     ]
    },
    {
     "name": "stderr",
     "output_type": "stream",
     "text": [
      "2024/02/22 05:17:05 PM, INFO, mealpy.evolutionary_based.GA.BaseGA: >>>Problem: Rosenbrock function, Epoch: 1, Current best: 435.25460382108406, Global best: 435.25460382108406, Runtime: 0.05278 seconds\n",
      "2024/02/22 05:17:05 PM, WARNING, mealpy.evolutionary_based.GA.BaseGA: Stopping criterion with maximum running time/time bound (TB) (seconds) occurred. End program!\n",
      "2024/02/22 05:17:05 PM, INFO, mealpy.evolutionary_based.GA.BaseGA: Solving single objective optimization problem.\n",
      "2024/02/22 05:17:05 PM, INFO, mealpy.evolutionary_based.GA.BaseGA: >>>Problem: Rosenbrock function, Epoch: 1, Current best: 551.3512603981926, Global best: 551.3512603981926, Runtime: 0.05624 seconds\n",
      "2024/02/22 05:17:05 PM, WARNING, mealpy.evolutionary_based.GA.BaseGA: Stopping criterion with maximum running time/time bound (TB) (seconds) occurred. End program!\n",
      "2024/02/22 05:17:05 PM, INFO, mealpy.evolutionary_based.GA.BaseGA: Solving single objective optimization problem.\n",
      "2024/02/22 05:17:05 PM, INFO, mealpy.evolutionary_based.GA.BaseGA: >>>Problem: Rosenbrock function, Epoch: 1, Current best: 222.35886138758426, Global best: 222.35886138758426, Runtime: 0.05401 seconds\n",
      "2024/02/22 05:17:05 PM, WARNING, mealpy.evolutionary_based.GA.BaseGA: Stopping criterion with maximum running time/time bound (TB) (seconds) occurred. End program!\n",
      "2024/02/22 05:17:05 PM, INFO, mealpy.evolutionary_based.GA.BaseGA: Solving single objective optimization problem.\n"
     ]
    },
    {
     "name": "stdout",
     "output_type": "stream",
     "text": [
      "Algorithm: BaseGA, with params: {'epoch': 500, 'pop_size': 300, 'pc': 0.9, 'pm': 0.1}, trial: 2, best fitness: 435.25460382108406\n",
      "Algorithm: BaseGA, with params: {'epoch': 500, 'pop_size': 300, 'pc': 0.9, 'pm': 0.1}, trial: 3, best fitness: 551.3512603981926\n",
      "Algorithm: BaseGA, with params: {'epoch': 500, 'pop_size': 300, 'pc': 0.9, 'pm': 0.1}, trial: 4, best fitness: 222.35886138758426\n"
     ]
    },
    {
     "name": "stderr",
     "output_type": "stream",
     "text": [
      "2024/02/22 05:17:05 PM, INFO, mealpy.evolutionary_based.GA.BaseGA: >>>Problem: Rosenbrock function, Epoch: 1, Current best: 272.7616253900775, Global best: 272.7616253900775, Runtime: 0.05505 seconds\n",
      "2024/02/22 05:17:05 PM, WARNING, mealpy.evolutionary_based.GA.BaseGA: Stopping criterion with maximum running time/time bound (TB) (seconds) occurred. End program!\n",
      "2024/02/22 05:17:05 PM, INFO, mealpy.evolutionary_based.GA.BaseGA: Solving single objective optimization problem.\n",
      "2024/02/22 05:17:05 PM, INFO, mealpy.evolutionary_based.GA.BaseGA: >>>Problem: Rosenbrock function, Epoch: 1, Current best: 371.15915537520385, Global best: 371.15915537520385, Runtime: 0.06019 seconds\n",
      "2024/02/22 05:17:05 PM, WARNING, mealpy.evolutionary_based.GA.BaseGA: Stopping criterion with maximum running time/time bound (TB) (seconds) occurred. End program!\n",
      "2024/02/22 05:17:05 PM, INFO, mealpy.evolutionary_based.GA.BaseGA: Solving single objective optimization problem.\n",
      "2024/02/22 05:17:05 PM, INFO, mealpy.evolutionary_based.GA.BaseGA: >>>Problem: Rosenbrock function, Epoch: 1, Current best: 285.54859124908836, Global best: 285.54859124908836, Runtime: 0.05560 seconds\n",
      "2024/02/22 05:17:05 PM, WARNING, mealpy.evolutionary_based.GA.BaseGA: Stopping criterion with maximum running time/time bound (TB) (seconds) occurred. End program!\n",
      "2024/02/22 05:17:05 PM, INFO, mealpy.evolutionary_based.GA.BaseGA: Solving single objective optimization problem.\n"
     ]
    },
    {
     "name": "stdout",
     "output_type": "stream",
     "text": [
      "Algorithm: BaseGA, with params: {'epoch': 500, 'pop_size': 300, 'pc': 0.9, 'pm': 0.1}, trial: 5, best fitness: 272.7616253900775\n",
      "Algorithm: BaseGA, with params: {'epoch': 500, 'pop_size': 300, 'pc': 0.9, 'pm': 0.2}, trial: 1, best fitness: 371.15915537520385\n",
      "Algorithm: BaseGA, with params: {'epoch': 500, 'pop_size': 300, 'pc': 0.9, 'pm': 0.2}, trial: 2, best fitness: 285.54859124908836\n"
     ]
    },
    {
     "name": "stderr",
     "output_type": "stream",
     "text": [
      "2024/02/22 05:17:05 PM, INFO, mealpy.evolutionary_based.GA.BaseGA: >>>Problem: Rosenbrock function, Epoch: 1, Current best: 388.7951342179111, Global best: 388.7951342179111, Runtime: 0.05646 seconds\n",
      "2024/02/22 05:17:05 PM, WARNING, mealpy.evolutionary_based.GA.BaseGA: Stopping criterion with maximum running time/time bound (TB) (seconds) occurred. End program!\n",
      "2024/02/22 05:17:05 PM, INFO, mealpy.evolutionary_based.GA.BaseGA: Solving single objective optimization problem.\n",
      "2024/02/22 05:17:05 PM, INFO, mealpy.evolutionary_based.GA.BaseGA: >>>Problem: Rosenbrock function, Epoch: 1, Current best: 118.43354620811202, Global best: 118.43354620811202, Runtime: 0.05994 seconds\n",
      "2024/02/22 05:17:05 PM, WARNING, mealpy.evolutionary_based.GA.BaseGA: Stopping criterion with maximum running time/time bound (TB) (seconds) occurred. End program!\n",
      "2024/02/22 05:17:05 PM, INFO, mealpy.evolutionary_based.GA.BaseGA: Solving single objective optimization problem.\n",
      "2024/02/22 05:17:05 PM, INFO, mealpy.evolutionary_based.GA.BaseGA: >>>Problem: Rosenbrock function, Epoch: 1, Current best: 89.32690747400648, Global best: 89.32690747400648, Runtime: 0.05366 seconds\n",
      "2024/02/22 05:17:05 PM, WARNING, mealpy.evolutionary_based.GA.BaseGA: Stopping criterion with maximum running time/time bound (TB) (seconds) occurred. End program!\n",
      "2024/02/22 05:17:05 PM, INFO, mealpy.evolutionary_based.GA.BaseGA: Solving single objective optimization problem.\n"
     ]
    },
    {
     "name": "stdout",
     "output_type": "stream",
     "text": [
      "Algorithm: BaseGA, with params: {'epoch': 500, 'pop_size': 300, 'pc': 0.9, 'pm': 0.2}, trial: 3, best fitness: 388.7951342179111\n",
      "Algorithm: BaseGA, with params: {'epoch': 500, 'pop_size': 300, 'pc': 0.9, 'pm': 0.2}, trial: 4, best fitness: 118.43354620811202\n",
      "Algorithm: BaseGA, with params: {'epoch': 500, 'pop_size': 300, 'pc': 0.9, 'pm': 0.2}, trial: 5, best fitness: 89.32690747400648\n"
     ]
    },
    {
     "name": "stderr",
     "output_type": "stream",
     "text": [
      "2024/02/22 05:17:05 PM, INFO, mealpy.evolutionary_based.GA.BaseGA: >>>Problem: Rosenbrock function, Epoch: 1, Current best: 472.19680735122455, Global best: 472.19680735122455, Runtime: 0.05291 seconds\n",
      "2024/02/22 05:17:05 PM, WARNING, mealpy.evolutionary_based.GA.BaseGA: Stopping criterion with maximum running time/time bound (TB) (seconds) occurred. End program!\n",
      "2024/02/22 05:17:05 PM, INFO, mealpy.evolutionary_based.GA.BaseGA: Solving single objective optimization problem.\n",
      "2024/02/22 05:17:05 PM, INFO, mealpy.evolutionary_based.GA.BaseGA: >>>Problem: Rosenbrock function, Epoch: 1, Current best: 479.7875872372251, Global best: 479.7875872372251, Runtime: 0.05758 seconds\n",
      "2024/02/22 05:17:05 PM, WARNING, mealpy.evolutionary_based.GA.BaseGA: Stopping criterion with maximum running time/time bound (TB) (seconds) occurred. End program!\n",
      "2024/02/22 05:17:05 PM, INFO, mealpy.evolutionary_based.GA.BaseGA: Solving single objective optimization problem.\n",
      "2024/02/22 05:17:05 PM, INFO, mealpy.evolutionary_based.GA.BaseGA: >>>Problem: Rosenbrock function, Epoch: 1, Current best: 189.2600003666394, Global best: 189.2600003666394, Runtime: 0.05387 seconds\n",
      "2024/02/22 05:17:05 PM, WARNING, mealpy.evolutionary_based.GA.BaseGA: Stopping criterion with maximum running time/time bound (TB) (seconds) occurred. End program!\n",
      "2024/02/22 05:17:05 PM, INFO, mealpy.evolutionary_based.GA.BaseGA: Solving single objective optimization problem.\n"
     ]
    },
    {
     "name": "stdout",
     "output_type": "stream",
     "text": [
      "Algorithm: BaseGA, with params: {'epoch': 500, 'pop_size': 300, 'pc': 0.8, 'pm': 0.01}, trial: 1, best fitness: 472.19680735122455\n",
      "Algorithm: BaseGA, with params: {'epoch': 500, 'pop_size': 300, 'pc': 0.8, 'pm': 0.01}, trial: 2, best fitness: 479.7875872372251\n",
      "Algorithm: BaseGA, with params: {'epoch': 500, 'pop_size': 300, 'pc': 0.8, 'pm': 0.01}, trial: 3, best fitness: 189.2600003666394\n"
     ]
    },
    {
     "name": "stderr",
     "output_type": "stream",
     "text": [
      "2024/02/22 05:17:05 PM, INFO, mealpy.evolutionary_based.GA.BaseGA: >>>Problem: Rosenbrock function, Epoch: 1, Current best: 116.9917982707806, Global best: 116.9917982707806, Runtime: 0.05618 seconds\n",
      "2024/02/22 05:17:05 PM, WARNING, mealpy.evolutionary_based.GA.BaseGA: Stopping criterion with maximum running time/time bound (TB) (seconds) occurred. End program!\n",
      "2024/02/22 05:17:05 PM, INFO, mealpy.evolutionary_based.GA.BaseGA: Solving single objective optimization problem.\n",
      "2024/02/22 05:17:06 PM, INFO, mealpy.evolutionary_based.GA.BaseGA: >>>Problem: Rosenbrock function, Epoch: 1, Current best: 477.1569795788233, Global best: 477.1569795788233, Runtime: 0.05423 seconds\n",
      "2024/02/22 05:17:06 PM, WARNING, mealpy.evolutionary_based.GA.BaseGA: Stopping criterion with maximum running time/time bound (TB) (seconds) occurred. End program!\n",
      "2024/02/22 05:17:06 PM, INFO, mealpy.evolutionary_based.GA.BaseGA: Solving single objective optimization problem.\n",
      "2024/02/22 05:17:06 PM, INFO, mealpy.evolutionary_based.GA.BaseGA: >>>Problem: Rosenbrock function, Epoch: 1, Current best: 497.798215758856, Global best: 497.798215758856, Runtime: 0.05668 seconds\n",
      "2024/02/22 05:17:06 PM, WARNING, mealpy.evolutionary_based.GA.BaseGA: Stopping criterion with maximum running time/time bound (TB) (seconds) occurred. End program!\n",
      "2024/02/22 05:17:06 PM, INFO, mealpy.evolutionary_based.GA.BaseGA: Solving single objective optimization problem.\n"
     ]
    },
    {
     "name": "stdout",
     "output_type": "stream",
     "text": [
      "Algorithm: BaseGA, with params: {'epoch': 500, 'pop_size': 300, 'pc': 0.8, 'pm': 0.01}, trial: 4, best fitness: 116.9917982707806\n",
      "Algorithm: BaseGA, with params: {'epoch': 500, 'pop_size': 300, 'pc': 0.8, 'pm': 0.01}, trial: 5, best fitness: 477.1569795788233\n",
      "Algorithm: BaseGA, with params: {'epoch': 500, 'pop_size': 300, 'pc': 0.8, 'pm': 0.05}, trial: 1, best fitness: 497.798215758856\n"
     ]
    },
    {
     "name": "stderr",
     "output_type": "stream",
     "text": [
      "2024/02/22 05:17:06 PM, INFO, mealpy.evolutionary_based.GA.BaseGA: >>>Problem: Rosenbrock function, Epoch: 1, Current best: 151.3316614904188, Global best: 151.3316614904188, Runtime: 0.05402 seconds\n",
      "2024/02/22 05:17:06 PM, WARNING, mealpy.evolutionary_based.GA.BaseGA: Stopping criterion with maximum running time/time bound (TB) (seconds) occurred. End program!\n",
      "2024/02/22 05:17:06 PM, INFO, mealpy.evolutionary_based.GA.BaseGA: Solving single objective optimization problem.\n",
      "2024/02/22 05:17:06 PM, INFO, mealpy.evolutionary_based.GA.BaseGA: >>>Problem: Rosenbrock function, Epoch: 1, Current best: 793.5101155473423, Global best: 793.5101155473423, Runtime: 0.05429 seconds\n",
      "2024/02/22 05:17:06 PM, WARNING, mealpy.evolutionary_based.GA.BaseGA: Stopping criterion with maximum running time/time bound (TB) (seconds) occurred. End program!\n",
      "2024/02/22 05:17:06 PM, INFO, mealpy.evolutionary_based.GA.BaseGA: Solving single objective optimization problem.\n",
      "2024/02/22 05:17:06 PM, INFO, mealpy.evolutionary_based.GA.BaseGA: >>>Problem: Rosenbrock function, Epoch: 1, Current best: 296.96148695277077, Global best: 296.96148695277077, Runtime: 0.05635 seconds\n",
      "2024/02/22 05:17:06 PM, WARNING, mealpy.evolutionary_based.GA.BaseGA: Stopping criterion with maximum running time/time bound (TB) (seconds) occurred. End program!\n",
      "2024/02/22 05:17:06 PM, INFO, mealpy.evolutionary_based.GA.BaseGA: Solving single objective optimization problem.\n"
     ]
    },
    {
     "name": "stdout",
     "output_type": "stream",
     "text": [
      "Algorithm: BaseGA, with params: {'epoch': 500, 'pop_size': 300, 'pc': 0.8, 'pm': 0.05}, trial: 2, best fitness: 151.3316614904188\n",
      "Algorithm: BaseGA, with params: {'epoch': 500, 'pop_size': 300, 'pc': 0.8, 'pm': 0.05}, trial: 3, best fitness: 793.5101155473423\n",
      "Algorithm: BaseGA, with params: {'epoch': 500, 'pop_size': 300, 'pc': 0.8, 'pm': 0.05}, trial: 4, best fitness: 296.96148695277077\n"
     ]
    },
    {
     "name": "stderr",
     "output_type": "stream",
     "text": [
      "2024/02/22 05:17:06 PM, INFO, mealpy.evolutionary_based.GA.BaseGA: >>>Problem: Rosenbrock function, Epoch: 1, Current best: 435.04212530294154, Global best: 435.04212530294154, Runtime: 0.05361 seconds\n",
      "2024/02/22 05:17:06 PM, WARNING, mealpy.evolutionary_based.GA.BaseGA: Stopping criterion with maximum running time/time bound (TB) (seconds) occurred. End program!\n",
      "2024/02/22 05:17:06 PM, INFO, mealpy.evolutionary_based.GA.BaseGA: Solving single objective optimization problem.\n",
      "2024/02/22 05:17:06 PM, INFO, mealpy.evolutionary_based.GA.BaseGA: >>>Problem: Rosenbrock function, Epoch: 1, Current best: 486.1695277468273, Global best: 486.1695277468273, Runtime: 0.05362 seconds\n",
      "2024/02/22 05:17:06 PM, WARNING, mealpy.evolutionary_based.GA.BaseGA: Stopping criterion with maximum running time/time bound (TB) (seconds) occurred. End program!\n",
      "2024/02/22 05:17:06 PM, INFO, mealpy.evolutionary_based.GA.BaseGA: Solving single objective optimization problem.\n",
      "2024/02/22 05:17:06 PM, INFO, mealpy.evolutionary_based.GA.BaseGA: >>>Problem: Rosenbrock function, Epoch: 1, Current best: 721.3920477670285, Global best: 721.3920477670285, Runtime: 0.05545 seconds\n",
      "2024/02/22 05:17:06 PM, WARNING, mealpy.evolutionary_based.GA.BaseGA: Stopping criterion with maximum running time/time bound (TB) (seconds) occurred. End program!\n",
      "2024/02/22 05:17:06 PM, INFO, mealpy.evolutionary_based.GA.BaseGA: Solving single objective optimization problem.\n"
     ]
    },
    {
     "name": "stdout",
     "output_type": "stream",
     "text": [
      "Algorithm: BaseGA, with params: {'epoch': 500, 'pop_size': 300, 'pc': 0.8, 'pm': 0.05}, trial: 5, best fitness: 435.04212530294154\n",
      "Algorithm: BaseGA, with params: {'epoch': 500, 'pop_size': 300, 'pc': 0.8, 'pm': 0.1}, trial: 1, best fitness: 486.1695277468273\n",
      "Algorithm: BaseGA, with params: {'epoch': 500, 'pop_size': 300, 'pc': 0.8, 'pm': 0.1}, trial: 2, best fitness: 721.3920477670285\n"
     ]
    },
    {
     "name": "stderr",
     "output_type": "stream",
     "text": [
      "2024/02/22 05:17:06 PM, INFO, mealpy.evolutionary_based.GA.BaseGA: >>>Problem: Rosenbrock function, Epoch: 1, Current best: 544.6269056376841, Global best: 544.6269056376841, Runtime: 0.05536 seconds\n",
      "2024/02/22 05:17:06 PM, WARNING, mealpy.evolutionary_based.GA.BaseGA: Stopping criterion with maximum running time/time bound (TB) (seconds) occurred. End program!\n",
      "2024/02/22 05:17:06 PM, INFO, mealpy.evolutionary_based.GA.BaseGA: Solving single objective optimization problem.\n",
      "2024/02/22 05:17:06 PM, INFO, mealpy.evolutionary_based.GA.BaseGA: >>>Problem: Rosenbrock function, Epoch: 1, Current best: 314.08608640686504, Global best: 314.08608640686504, Runtime: 0.05511 seconds\n",
      "2024/02/22 05:17:06 PM, WARNING, mealpy.evolutionary_based.GA.BaseGA: Stopping criterion with maximum running time/time bound (TB) (seconds) occurred. End program!\n",
      "2024/02/22 05:17:06 PM, INFO, mealpy.evolutionary_based.GA.BaseGA: Solving single objective optimization problem.\n",
      "2024/02/22 05:17:06 PM, INFO, mealpy.evolutionary_based.GA.BaseGA: >>>Problem: Rosenbrock function, Epoch: 1, Current best: 87.67559120330246, Global best: 87.67559120330246, Runtime: 0.05247 seconds\n",
      "2024/02/22 05:17:06 PM, WARNING, mealpy.evolutionary_based.GA.BaseGA: Stopping criterion with maximum running time/time bound (TB) (seconds) occurred. End program!\n",
      "2024/02/22 05:17:06 PM, INFO, mealpy.evolutionary_based.GA.BaseGA: Solving single objective optimization problem.\n"
     ]
    },
    {
     "name": "stdout",
     "output_type": "stream",
     "text": [
      "Algorithm: BaseGA, with params: {'epoch': 500, 'pop_size': 300, 'pc': 0.8, 'pm': 0.1}, trial: 3, best fitness: 544.6269056376841\n",
      "Algorithm: BaseGA, with params: {'epoch': 500, 'pop_size': 300, 'pc': 0.8, 'pm': 0.1}, trial: 4, best fitness: 314.08608640686504\n",
      "Algorithm: BaseGA, with params: {'epoch': 500, 'pop_size': 300, 'pc': 0.8, 'pm': 0.1}, trial: 5, best fitness: 87.67559120330246\n"
     ]
    },
    {
     "name": "stderr",
     "output_type": "stream",
     "text": [
      "2024/02/22 05:17:06 PM, INFO, mealpy.evolutionary_based.GA.BaseGA: >>>Problem: Rosenbrock function, Epoch: 1, Current best: 166.32381748328584, Global best: 166.32381748328584, Runtime: 0.05386 seconds\n",
      "2024/02/22 05:17:06 PM, WARNING, mealpy.evolutionary_based.GA.BaseGA: Stopping criterion with maximum running time/time bound (TB) (seconds) occurred. End program!\n",
      "2024/02/22 05:17:06 PM, INFO, mealpy.evolutionary_based.GA.BaseGA: Solving single objective optimization problem.\n",
      "2024/02/22 05:17:06 PM, INFO, mealpy.evolutionary_based.GA.BaseGA: >>>Problem: Rosenbrock function, Epoch: 1, Current best: 135.31625164346562, Global best: 135.31625164346562, Runtime: 0.05495 seconds\n",
      "2024/02/22 05:17:06 PM, WARNING, mealpy.evolutionary_based.GA.BaseGA: Stopping criterion with maximum running time/time bound (TB) (seconds) occurred. End program!\n",
      "2024/02/22 05:17:06 PM, INFO, mealpy.evolutionary_based.GA.BaseGA: Solving single objective optimization problem.\n",
      "2024/02/22 05:17:06 PM, INFO, mealpy.evolutionary_based.GA.BaseGA: >>>Problem: Rosenbrock function, Epoch: 1, Current best: 811.8055859881003, Global best: 811.8055859881003, Runtime: 0.05279 seconds\n",
      "2024/02/22 05:17:06 PM, WARNING, mealpy.evolutionary_based.GA.BaseGA: Stopping criterion with maximum running time/time bound (TB) (seconds) occurred. End program!\n",
      "2024/02/22 05:17:06 PM, INFO, mealpy.evolutionary_based.GA.BaseGA: Solving single objective optimization problem.\n"
     ]
    },
    {
     "name": "stdout",
     "output_type": "stream",
     "text": [
      "Algorithm: BaseGA, with params: {'epoch': 500, 'pop_size': 300, 'pc': 0.8, 'pm': 0.2}, trial: 1, best fitness: 166.32381748328584\n",
      "Algorithm: BaseGA, with params: {'epoch': 500, 'pop_size': 300, 'pc': 0.8, 'pm': 0.2}, trial: 2, best fitness: 135.31625164346562\n",
      "Algorithm: BaseGA, with params: {'epoch': 500, 'pop_size': 300, 'pc': 0.8, 'pm': 0.2}, trial: 3, best fitness: 811.8055859881003\n"
     ]
    },
    {
     "name": "stderr",
     "output_type": "stream",
     "text": [
      "2024/02/22 05:17:07 PM, INFO, mealpy.evolutionary_based.GA.BaseGA: >>>Problem: Rosenbrock function, Epoch: 1, Current best: 399.81520535334334, Global best: 399.81520535334334, Runtime: 0.05268 seconds\n",
      "2024/02/22 05:17:07 PM, WARNING, mealpy.evolutionary_based.GA.BaseGA: Stopping criterion with maximum running time/time bound (TB) (seconds) occurred. End program!\n",
      "2024/02/22 05:17:07 PM, INFO, mealpy.evolutionary_based.GA.BaseGA: Solving single objective optimization problem.\n",
      "2024/02/22 05:17:07 PM, INFO, mealpy.evolutionary_based.GA.BaseGA: >>>Problem: Rosenbrock function, Epoch: 1, Current best: 143.39771895671524, Global best: 143.39771895671524, Runtime: 0.05332 seconds\n",
      "2024/02/22 05:17:07 PM, WARNING, mealpy.evolutionary_based.GA.BaseGA: Stopping criterion with maximum running time/time bound (TB) (seconds) occurred. End program!\n",
      "2024/02/22 05:17:07 PM, INFO, mealpy.evolutionary_based.GA.BaseGA: Solving single objective optimization problem.\n",
      "2024/02/22 05:17:07 PM, INFO, mealpy.evolutionary_based.GA.BaseGA: >>>Problem: Rosenbrock function, Epoch: 1, Current best: 158.09793986893078, Global best: 158.09793986893078, Runtime: 0.05276 seconds\n",
      "2024/02/22 05:17:07 PM, WARNING, mealpy.evolutionary_based.GA.BaseGA: Stopping criterion with maximum running time/time bound (TB) (seconds) occurred. End program!\n",
      "2024/02/22 05:17:07 PM, INFO, mealpy.evolutionary_based.GA.BaseGA: Solving single objective optimization problem.\n",
      "2024/02/22 05:17:07 PM, INFO, mealpy.evolutionary_based.GA.BaseGA: >>>Problem: Rosenbrock function, Epoch: 1, Current best: 728.3776983283436, Global best: 728.3776983283436, Runtime: 0.05376 seconds\n"
     ]
    },
    {
     "name": "stdout",
     "output_type": "stream",
     "text": [
      "Algorithm: BaseGA, with params: {'epoch': 500, 'pop_size': 300, 'pc': 0.8, 'pm': 0.2}, trial: 4, best fitness: 399.81520535334334\n",
      "Algorithm: BaseGA, with params: {'epoch': 500, 'pop_size': 300, 'pc': 0.8, 'pm': 0.2}, trial: 5, best fitness: 143.39771895671524\n",
      "Algorithm: BaseGA, with params: {'epoch': 500, 'pop_size': 300, 'pc': 0.7, 'pm': 0.01}, trial: 1, best fitness: 158.09793986893078\n"
     ]
    },
    {
     "name": "stderr",
     "output_type": "stream",
     "text": [
      "2024/02/22 05:17:07 PM, WARNING, mealpy.evolutionary_based.GA.BaseGA: Stopping criterion with maximum running time/time bound (TB) (seconds) occurred. End program!\n",
      "2024/02/22 05:17:07 PM, INFO, mealpy.evolutionary_based.GA.BaseGA: Solving single objective optimization problem.\n",
      "2024/02/22 05:17:07 PM, INFO, mealpy.evolutionary_based.GA.BaseGA: >>>Problem: Rosenbrock function, Epoch: 1, Current best: 76.59137195530904, Global best: 76.59137195530904, Runtime: 0.05261 seconds\n",
      "2024/02/22 05:17:07 PM, WARNING, mealpy.evolutionary_based.GA.BaseGA: Stopping criterion with maximum running time/time bound (TB) (seconds) occurred. End program!\n",
      "2024/02/22 05:17:07 PM, INFO, mealpy.evolutionary_based.GA.BaseGA: Solving single objective optimization problem.\n",
      "2024/02/22 05:17:07 PM, INFO, mealpy.evolutionary_based.GA.BaseGA: >>>Problem: Rosenbrock function, Epoch: 1, Current best: 123.75968888671218, Global best: 123.75968888671218, Runtime: 0.05265 seconds\n",
      "2024/02/22 05:17:07 PM, WARNING, mealpy.evolutionary_based.GA.BaseGA: Stopping criterion with maximum running time/time bound (TB) (seconds) occurred. End program!\n",
      "2024/02/22 05:17:07 PM, INFO, mealpy.evolutionary_based.GA.BaseGA: Solving single objective optimization problem.\n"
     ]
    },
    {
     "name": "stdout",
     "output_type": "stream",
     "text": [
      "Algorithm: BaseGA, with params: {'epoch': 500, 'pop_size': 300, 'pc': 0.7, 'pm': 0.01}, trial: 2, best fitness: 728.3776983283436\n",
      "Algorithm: BaseGA, with params: {'epoch': 500, 'pop_size': 300, 'pc': 0.7, 'pm': 0.01}, trial: 3, best fitness: 76.59137195530904\n",
      "Algorithm: BaseGA, with params: {'epoch': 500, 'pop_size': 300, 'pc': 0.7, 'pm': 0.01}, trial: 4, best fitness: 123.75968888671218\n"
     ]
    },
    {
     "name": "stderr",
     "output_type": "stream",
     "text": [
      "2024/02/22 05:17:07 PM, INFO, mealpy.evolutionary_based.GA.BaseGA: >>>Problem: Rosenbrock function, Epoch: 1, Current best: 44.14204800574438, Global best: 44.14204800574438, Runtime: 0.05559 seconds\n",
      "2024/02/22 05:17:07 PM, WARNING, mealpy.evolutionary_based.GA.BaseGA: Stopping criterion with maximum running time/time bound (TB) (seconds) occurred. End program!\n",
      "2024/02/22 05:17:07 PM, INFO, mealpy.evolutionary_based.GA.BaseGA: Solving single objective optimization problem.\n",
      "2024/02/22 05:17:07 PM, INFO, mealpy.evolutionary_based.GA.BaseGA: >>>Problem: Rosenbrock function, Epoch: 1, Current best: 131.15583557381808, Global best: 131.15583557381808, Runtime: 0.05291 seconds\n",
      "2024/02/22 05:17:07 PM, WARNING, mealpy.evolutionary_based.GA.BaseGA: Stopping criterion with maximum running time/time bound (TB) (seconds) occurred. End program!\n",
      "2024/02/22 05:17:07 PM, INFO, mealpy.evolutionary_based.GA.BaseGA: Solving single objective optimization problem.\n",
      "2024/02/22 05:17:07 PM, INFO, mealpy.evolutionary_based.GA.BaseGA: >>>Problem: Rosenbrock function, Epoch: 1, Current best: 23.73846356634742, Global best: 23.73846356634742, Runtime: 0.05352 seconds\n",
      "2024/02/22 05:17:07 PM, WARNING, mealpy.evolutionary_based.GA.BaseGA: Stopping criterion with maximum running time/time bound (TB) (seconds) occurred. End program!\n",
      "2024/02/22 05:17:07 PM, INFO, mealpy.evolutionary_based.GA.BaseGA: Solving single objective optimization problem.\n"
     ]
    },
    {
     "name": "stdout",
     "output_type": "stream",
     "text": [
      "Algorithm: BaseGA, with params: {'epoch': 500, 'pop_size': 300, 'pc': 0.7, 'pm': 0.01}, trial: 5, best fitness: 44.14204800574438\n",
      "Algorithm: BaseGA, with params: {'epoch': 500, 'pop_size': 300, 'pc': 0.7, 'pm': 0.05}, trial: 1, best fitness: 131.15583557381808\n",
      "Algorithm: BaseGA, with params: {'epoch': 500, 'pop_size': 300, 'pc': 0.7, 'pm': 0.05}, trial: 2, best fitness: 23.73846356634742\n"
     ]
    },
    {
     "name": "stderr",
     "output_type": "stream",
     "text": [
      "2024/02/22 05:17:07 PM, INFO, mealpy.evolutionary_based.GA.BaseGA: >>>Problem: Rosenbrock function, Epoch: 1, Current best: 469.9642499640991, Global best: 469.9642499640991, Runtime: 0.05468 seconds\n",
      "2024/02/22 05:17:07 PM, WARNING, mealpy.evolutionary_based.GA.BaseGA: Stopping criterion with maximum running time/time bound (TB) (seconds) occurred. End program!\n",
      "2024/02/22 05:17:07 PM, INFO, mealpy.evolutionary_based.GA.BaseGA: Solving single objective optimization problem.\n",
      "2024/02/22 05:17:07 PM, INFO, mealpy.evolutionary_based.GA.BaseGA: >>>Problem: Rosenbrock function, Epoch: 1, Current best: 1216.1507740287293, Global best: 1216.1507740287293, Runtime: 0.05371 seconds\n",
      "2024/02/22 05:17:07 PM, WARNING, mealpy.evolutionary_based.GA.BaseGA: Stopping criterion with maximum running time/time bound (TB) (seconds) occurred. End program!\n",
      "2024/02/22 05:17:07 PM, INFO, mealpy.evolutionary_based.GA.BaseGA: Solving single objective optimization problem.\n",
      "2024/02/22 05:17:07 PM, INFO, mealpy.evolutionary_based.GA.BaseGA: >>>Problem: Rosenbrock function, Epoch: 1, Current best: 372.2946592636144, Global best: 372.2946592636144, Runtime: 0.05336 seconds\n",
      "2024/02/22 05:17:07 PM, WARNING, mealpy.evolutionary_based.GA.BaseGA: Stopping criterion with maximum running time/time bound (TB) (seconds) occurred. End program!\n",
      "2024/02/22 05:17:07 PM, INFO, mealpy.evolutionary_based.GA.BaseGA: Solving single objective optimization problem.\n"
     ]
    },
    {
     "name": "stdout",
     "output_type": "stream",
     "text": [
      "Algorithm: BaseGA, with params: {'epoch': 500, 'pop_size': 300, 'pc': 0.7, 'pm': 0.05}, trial: 3, best fitness: 469.9642499640991\n",
      "Algorithm: BaseGA, with params: {'epoch': 500, 'pop_size': 300, 'pc': 0.7, 'pm': 0.05}, trial: 4, best fitness: 1216.1507740287293\n",
      "Algorithm: BaseGA, with params: {'epoch': 500, 'pop_size': 300, 'pc': 0.7, 'pm': 0.05}, trial: 5, best fitness: 372.2946592636144\n"
     ]
    },
    {
     "name": "stderr",
     "output_type": "stream",
     "text": [
      "2024/02/22 05:17:07 PM, INFO, mealpy.evolutionary_based.GA.BaseGA: >>>Problem: Rosenbrock function, Epoch: 1, Current best: 220.72825181862584, Global best: 220.72825181862584, Runtime: 0.05533 seconds\n",
      "2024/02/22 05:17:07 PM, WARNING, mealpy.evolutionary_based.GA.BaseGA: Stopping criterion with maximum running time/time bound (TB) (seconds) occurred. End program!\n",
      "2024/02/22 05:17:07 PM, INFO, mealpy.evolutionary_based.GA.BaseGA: Solving single objective optimization problem.\n",
      "2024/02/22 05:17:08 PM, INFO, mealpy.evolutionary_based.GA.BaseGA: >>>Problem: Rosenbrock function, Epoch: 1, Current best: 1527.2447612334665, Global best: 1527.2447612334665, Runtime: 0.05340 seconds\n",
      "2024/02/22 05:17:08 PM, WARNING, mealpy.evolutionary_based.GA.BaseGA: Stopping criterion with maximum running time/time bound (TB) (seconds) occurred. End program!\n",
      "2024/02/22 05:17:08 PM, INFO, mealpy.evolutionary_based.GA.BaseGA: Solving single objective optimization problem.\n",
      "2024/02/22 05:17:08 PM, INFO, mealpy.evolutionary_based.GA.BaseGA: >>>Problem: Rosenbrock function, Epoch: 1, Current best: 1155.700829509956, Global best: 1155.700829509956, Runtime: 0.06170 seconds\n",
      "2024/02/22 05:17:08 PM, WARNING, mealpy.evolutionary_based.GA.BaseGA: Stopping criterion with maximum running time/time bound (TB) (seconds) occurred. End program!\n",
      "2024/02/22 05:17:08 PM, INFO, mealpy.evolutionary_based.GA.BaseGA: Solving single objective optimization problem.\n"
     ]
    },
    {
     "name": "stdout",
     "output_type": "stream",
     "text": [
      "Algorithm: BaseGA, with params: {'epoch': 500, 'pop_size': 300, 'pc': 0.7, 'pm': 0.1}, trial: 1, best fitness: 220.72825181862584\n",
      "Algorithm: BaseGA, with params: {'epoch': 500, 'pop_size': 300, 'pc': 0.7, 'pm': 0.1}, trial: 2, best fitness: 1527.2447612334665\n",
      "Algorithm: BaseGA, with params: {'epoch': 500, 'pop_size': 300, 'pc': 0.7, 'pm': 0.1}, trial: 3, best fitness: 1155.700829509956\n"
     ]
    },
    {
     "name": "stderr",
     "output_type": "stream",
     "text": [
      "2024/02/22 05:17:08 PM, INFO, mealpy.evolutionary_based.GA.BaseGA: >>>Problem: Rosenbrock function, Epoch: 1, Current best: 281.5464650917388, Global best: 281.5464650917388, Runtime: 0.05430 seconds\n",
      "2024/02/22 05:17:08 PM, WARNING, mealpy.evolutionary_based.GA.BaseGA: Stopping criterion with maximum running time/time bound (TB) (seconds) occurred. End program!\n",
      "2024/02/22 05:17:08 PM, INFO, mealpy.evolutionary_based.GA.BaseGA: Solving single objective optimization problem.\n",
      "2024/02/22 05:17:08 PM, INFO, mealpy.evolutionary_based.GA.BaseGA: >>>Problem: Rosenbrock function, Epoch: 1, Current best: 228.19417894348516, Global best: 228.19417894348516, Runtime: 0.05508 seconds\n",
      "2024/02/22 05:17:08 PM, WARNING, mealpy.evolutionary_based.GA.BaseGA: Stopping criterion with maximum running time/time bound (TB) (seconds) occurred. End program!\n",
      "2024/02/22 05:17:08 PM, INFO, mealpy.evolutionary_based.GA.BaseGA: Solving single objective optimization problem.\n",
      "2024/02/22 05:17:08 PM, INFO, mealpy.evolutionary_based.GA.BaseGA: >>>Problem: Rosenbrock function, Epoch: 1, Current best: 909.2781140258021, Global best: 909.2781140258021, Runtime: 0.05139 seconds\n",
      "2024/02/22 05:17:08 PM, WARNING, mealpy.evolutionary_based.GA.BaseGA: Stopping criterion with maximum running time/time bound (TB) (seconds) occurred. End program!\n",
      "2024/02/22 05:17:08 PM, INFO, mealpy.evolutionary_based.GA.BaseGA: Solving single objective optimization problem.\n"
     ]
    },
    {
     "name": "stdout",
     "output_type": "stream",
     "text": [
      "Algorithm: BaseGA, with params: {'epoch': 500, 'pop_size': 300, 'pc': 0.7, 'pm': 0.1}, trial: 4, best fitness: 281.5464650917388\n",
      "Algorithm: BaseGA, with params: {'epoch': 500, 'pop_size': 300, 'pc': 0.7, 'pm': 0.1}, trial: 5, best fitness: 228.19417894348516\n",
      "Algorithm: BaseGA, with params: {'epoch': 500, 'pop_size': 300, 'pc': 0.7, 'pm': 0.2}, trial: 1, best fitness: 909.2781140258021\n"
     ]
    },
    {
     "name": "stderr",
     "output_type": "stream",
     "text": [
      "2024/02/22 05:17:08 PM, INFO, mealpy.evolutionary_based.GA.BaseGA: >>>Problem: Rosenbrock function, Epoch: 1, Current best: 490.417051410848, Global best: 490.417051410848, Runtime: 0.05442 seconds\n",
      "2024/02/22 05:17:08 PM, WARNING, mealpy.evolutionary_based.GA.BaseGA: Stopping criterion with maximum running time/time bound (TB) (seconds) occurred. End program!\n",
      "2024/02/22 05:17:08 PM, INFO, mealpy.evolutionary_based.GA.BaseGA: Solving single objective optimization problem.\n",
      "2024/02/22 05:17:08 PM, INFO, mealpy.evolutionary_based.GA.BaseGA: >>>Problem: Rosenbrock function, Epoch: 1, Current best: 216.82541858903855, Global best: 216.82541858903855, Runtime: 0.08971 seconds\n",
      "2024/02/22 05:17:08 PM, WARNING, mealpy.evolutionary_based.GA.BaseGA: Stopping criterion with maximum running time/time bound (TB) (seconds) occurred. End program!\n",
      "2024/02/22 05:17:08 PM, INFO, mealpy.evolutionary_based.GA.BaseGA: Solving single objective optimization problem.\n",
      "2024/02/22 05:17:08 PM, INFO, mealpy.evolutionary_based.GA.BaseGA: >>>Problem: Rosenbrock function, Epoch: 1, Current best: 603.8111321505185, Global best: 603.8111321505185, Runtime: 0.05172 seconds\n"
     ]
    },
    {
     "name": "stdout",
     "output_type": "stream",
     "text": [
      "Algorithm: BaseGA, with params: {'epoch': 500, 'pop_size': 300, 'pc': 0.7, 'pm': 0.2}, trial: 2, best fitness: 490.417051410848\n",
      "Algorithm: BaseGA, with params: {'epoch': 500, 'pop_size': 300, 'pc': 0.7, 'pm': 0.2}, trial: 3, best fitness: 216.82541858903855\n"
     ]
    },
    {
     "name": "stderr",
     "output_type": "stream",
     "text": [
      "2024/02/22 05:17:08 PM, WARNING, mealpy.evolutionary_based.GA.BaseGA: Stopping criterion with maximum running time/time bound (TB) (seconds) occurred. End program!\n",
      "2024/02/22 05:17:08 PM, INFO, mealpy.evolutionary_based.GA.BaseGA: Solving single objective optimization problem.\n",
      "2024/02/22 05:17:08 PM, INFO, mealpy.evolutionary_based.GA.BaseGA: >>>Problem: Rosenbrock function, Epoch: 1, Current best: 115.56147629004978, Global best: 115.56147629004978, Runtime: 0.05246 seconds\n",
      "2024/02/22 05:17:08 PM, WARNING, mealpy.evolutionary_based.GA.BaseGA: Stopping criterion with maximum running time/time bound (TB) (seconds) occurred. End program!\n",
      "2024/02/22 05:17:08 PM, INFO, mealpy.evolutionary_based.GA.BaseGA: Solving single objective optimization problem.\n",
      "2024/02/22 05:17:08 PM, INFO, mealpy.evolutionary_based.GA.BaseGA: >>>Problem: Rosenbrock function, Epoch: 1, Current best: 249.53108754730144, Global best: 249.53108754730144, Runtime: 0.10264 seconds\n"
     ]
    },
    {
     "name": "stdout",
     "output_type": "stream",
     "text": [
      "Algorithm: BaseGA, with params: {'epoch': 500, 'pop_size': 300, 'pc': 0.7, 'pm': 0.2}, trial: 4, best fitness: 603.8111321505185\n",
      "Algorithm: BaseGA, with params: {'epoch': 500, 'pop_size': 300, 'pc': 0.7, 'pm': 0.2}, trial: 5, best fitness: 115.56147629004978\n"
     ]
    },
    {
     "name": "stderr",
     "output_type": "stream",
     "text": [
      "2024/02/22 05:17:08 PM, WARNING, mealpy.evolutionary_based.GA.BaseGA: Stopping criterion with maximum running time/time bound (TB) (seconds) occurred. End program!\n",
      "2024/02/22 05:17:08 PM, INFO, mealpy.evolutionary_based.GA.BaseGA: Solving single objective optimization problem.\n",
      "2024/02/22 05:17:08 PM, INFO, mealpy.evolutionary_based.GA.BaseGA: >>>Problem: Rosenbrock function, Epoch: 1, Current best: 383.61223162276434, Global best: 383.61223162276434, Runtime: 0.10492 seconds\n",
      "2024/02/22 05:17:08 PM, WARNING, mealpy.evolutionary_based.GA.BaseGA: Stopping criterion with maximum running time/time bound (TB) (seconds) occurred. End program!\n",
      "2024/02/22 05:17:08 PM, INFO, mealpy.evolutionary_based.GA.BaseGA: Solving single objective optimization problem.\n"
     ]
    },
    {
     "name": "stdout",
     "output_type": "stream",
     "text": [
      "Algorithm: BaseGA, with params: {'epoch': 500, 'pop_size': 500, 'pc': 0.95, 'pm': 0.01}, trial: 1, best fitness: 249.53108754730144\n",
      "Algorithm: BaseGA, with params: {'epoch': 500, 'pop_size': 500, 'pc': 0.95, 'pm': 0.01}, trial: 2, best fitness: 383.61223162276434\n"
     ]
    },
    {
     "name": "stderr",
     "output_type": "stream",
     "text": [
      "2024/02/22 05:17:09 PM, INFO, mealpy.evolutionary_based.GA.BaseGA: >>>Problem: Rosenbrock function, Epoch: 1, Current best: 290.41111576855525, Global best: 290.41111576855525, Runtime: 0.10625 seconds\n",
      "2024/02/22 05:17:09 PM, WARNING, mealpy.evolutionary_based.GA.BaseGA: Stopping criterion with maximum running time/time bound (TB) (seconds) occurred. End program!\n",
      "2024/02/22 05:17:09 PM, INFO, mealpy.evolutionary_based.GA.BaseGA: Solving single objective optimization problem.\n",
      "2024/02/22 05:17:09 PM, INFO, mealpy.evolutionary_based.GA.BaseGA: >>>Problem: Rosenbrock function, Epoch: 1, Current best: 372.5882732418081, Global best: 372.5882732418081, Runtime: 0.10386 seconds\n",
      "2024/02/22 05:17:09 PM, WARNING, mealpy.evolutionary_based.GA.BaseGA: Stopping criterion with maximum running time/time bound (TB) (seconds) occurred. End program!\n",
      "2024/02/22 05:17:09 PM, INFO, mealpy.evolutionary_based.GA.BaseGA: Solving single objective optimization problem.\n"
     ]
    },
    {
     "name": "stdout",
     "output_type": "stream",
     "text": [
      "Algorithm: BaseGA, with params: {'epoch': 500, 'pop_size': 500, 'pc': 0.95, 'pm': 0.01}, trial: 3, best fitness: 290.41111576855525\n",
      "Algorithm: BaseGA, with params: {'epoch': 500, 'pop_size': 500, 'pc': 0.95, 'pm': 0.01}, trial: 4, best fitness: 372.5882732418081\n"
     ]
    },
    {
     "name": "stderr",
     "output_type": "stream",
     "text": [
      "2024/02/22 05:17:09 PM, INFO, mealpy.evolutionary_based.GA.BaseGA: >>>Problem: Rosenbrock function, Epoch: 1, Current best: 284.568164803268, Global best: 284.568164803268, Runtime: 0.10835 seconds\n",
      "2024/02/22 05:17:09 PM, WARNING, mealpy.evolutionary_based.GA.BaseGA: Stopping criterion with maximum running time/time bound (TB) (seconds) occurred. End program!\n",
      "2024/02/22 05:17:09 PM, INFO, mealpy.evolutionary_based.GA.BaseGA: Solving single objective optimization problem.\n",
      "2024/02/22 05:17:09 PM, INFO, mealpy.evolutionary_based.GA.BaseGA: >>>Problem: Rosenbrock function, Epoch: 1, Current best: 299.0302171755493, Global best: 299.0302171755493, Runtime: 0.10590 seconds\n",
      "2024/02/22 05:17:09 PM, WARNING, mealpy.evolutionary_based.GA.BaseGA: Stopping criterion with maximum running time/time bound (TB) (seconds) occurred. End program!\n",
      "2024/02/22 05:17:09 PM, INFO, mealpy.evolutionary_based.GA.BaseGA: Solving single objective optimization problem.\n"
     ]
    },
    {
     "name": "stdout",
     "output_type": "stream",
     "text": [
      "Algorithm: BaseGA, with params: {'epoch': 500, 'pop_size': 500, 'pc': 0.95, 'pm': 0.01}, trial: 5, best fitness: 284.568164803268\n",
      "Algorithm: BaseGA, with params: {'epoch': 500, 'pop_size': 500, 'pc': 0.95, 'pm': 0.05}, trial: 1, best fitness: 299.0302171755493\n"
     ]
    },
    {
     "name": "stderr",
     "output_type": "stream",
     "text": [
      "2024/02/22 05:17:09 PM, INFO, mealpy.evolutionary_based.GA.BaseGA: >>>Problem: Rosenbrock function, Epoch: 1, Current best: 316.76362079580207, Global best: 316.76362079580207, Runtime: 0.10663 seconds\n",
      "2024/02/22 05:17:09 PM, WARNING, mealpy.evolutionary_based.GA.BaseGA: Stopping criterion with maximum running time/time bound (TB) (seconds) occurred. End program!\n",
      "2024/02/22 05:17:09 PM, INFO, mealpy.evolutionary_based.GA.BaseGA: Solving single objective optimization problem.\n",
      "2024/02/22 05:17:09 PM, INFO, mealpy.evolutionary_based.GA.BaseGA: >>>Problem: Rosenbrock function, Epoch: 1, Current best: 108.44003587878774, Global best: 108.44003587878774, Runtime: 0.12311 seconds\n",
      "2024/02/22 05:17:09 PM, WARNING, mealpy.evolutionary_based.GA.BaseGA: Stopping criterion with maximum running time/time bound (TB) (seconds) occurred. End program!\n",
      "2024/02/22 05:17:09 PM, INFO, mealpy.evolutionary_based.GA.BaseGA: Solving single objective optimization problem.\n"
     ]
    },
    {
     "name": "stdout",
     "output_type": "stream",
     "text": [
      "Algorithm: BaseGA, with params: {'epoch': 500, 'pop_size': 500, 'pc': 0.95, 'pm': 0.05}, trial: 2, best fitness: 316.76362079580207\n",
      "Algorithm: BaseGA, with params: {'epoch': 500, 'pop_size': 500, 'pc': 0.95, 'pm': 0.05}, trial: 3, best fitness: 108.44003587878774\n"
     ]
    },
    {
     "name": "stderr",
     "output_type": "stream",
     "text": [
      "2024/02/22 05:17:09 PM, INFO, mealpy.evolutionary_based.GA.BaseGA: >>>Problem: Rosenbrock function, Epoch: 1, Current best: 86.79370902041296, Global best: 86.79370902041296, Runtime: 0.11049 seconds\n",
      "2024/02/22 05:17:09 PM, WARNING, mealpy.evolutionary_based.GA.BaseGA: Stopping criterion with maximum running time/time bound (TB) (seconds) occurred. End program!\n",
      "2024/02/22 05:17:09 PM, INFO, mealpy.evolutionary_based.GA.BaseGA: Solving single objective optimization problem.\n",
      "2024/02/22 05:17:09 PM, INFO, mealpy.evolutionary_based.GA.BaseGA: >>>Problem: Rosenbrock function, Epoch: 1, Current best: 211.464355131716, Global best: 211.464355131716, Runtime: 0.10493 seconds\n",
      "2024/02/22 05:17:09 PM, WARNING, mealpy.evolutionary_based.GA.BaseGA: Stopping criterion with maximum running time/time bound (TB) (seconds) occurred. End program!\n",
      "2024/02/22 05:17:09 PM, INFO, mealpy.evolutionary_based.GA.BaseGA: Solving single objective optimization problem.\n"
     ]
    },
    {
     "name": "stdout",
     "output_type": "stream",
     "text": [
      "Algorithm: BaseGA, with params: {'epoch': 500, 'pop_size': 500, 'pc': 0.95, 'pm': 0.05}, trial: 4, best fitness: 86.79370902041296\n",
      "Algorithm: BaseGA, with params: {'epoch': 500, 'pop_size': 500, 'pc': 0.95, 'pm': 0.05}, trial: 5, best fitness: 211.464355131716\n"
     ]
    },
    {
     "name": "stderr",
     "output_type": "stream",
     "text": [
      "2024/02/22 05:17:10 PM, INFO, mealpy.evolutionary_based.GA.BaseGA: >>>Problem: Rosenbrock function, Epoch: 1, Current best: 233.43132165847436, Global best: 233.43132165847436, Runtime: 0.10974 seconds\n",
      "2024/02/22 05:17:10 PM, WARNING, mealpy.evolutionary_based.GA.BaseGA: Stopping criterion with maximum running time/time bound (TB) (seconds) occurred. End program!\n",
      "2024/02/22 05:17:10 PM, INFO, mealpy.evolutionary_based.GA.BaseGA: Solving single objective optimization problem.\n",
      "2024/02/22 05:17:10 PM, INFO, mealpy.evolutionary_based.GA.BaseGA: >>>Problem: Rosenbrock function, Epoch: 1, Current best: 450.5327799759195, Global best: 450.5327799759195, Runtime: 0.10412 seconds\n",
      "2024/02/22 05:17:10 PM, WARNING, mealpy.evolutionary_based.GA.BaseGA: Stopping criterion with maximum running time/time bound (TB) (seconds) occurred. End program!\n",
      "2024/02/22 05:17:10 PM, INFO, mealpy.evolutionary_based.GA.BaseGA: Solving single objective optimization problem.\n"
     ]
    },
    {
     "name": "stdout",
     "output_type": "stream",
     "text": [
      "Algorithm: BaseGA, with params: {'epoch': 500, 'pop_size': 500, 'pc': 0.95, 'pm': 0.1}, trial: 1, best fitness: 233.43132165847436\n",
      "Algorithm: BaseGA, with params: {'epoch': 500, 'pop_size': 500, 'pc': 0.95, 'pm': 0.1}, trial: 2, best fitness: 450.5327799759195\n"
     ]
    },
    {
     "name": "stderr",
     "output_type": "stream",
     "text": [
      "2024/02/22 05:17:10 PM, INFO, mealpy.evolutionary_based.GA.BaseGA: >>>Problem: Rosenbrock function, Epoch: 1, Current best: 147.50672100995652, Global best: 147.50672100995652, Runtime: 0.10814 seconds\n",
      "2024/02/22 05:17:10 PM, WARNING, mealpy.evolutionary_based.GA.BaseGA: Stopping criterion with maximum running time/time bound (TB) (seconds) occurred. End program!\n",
      "2024/02/22 05:17:10 PM, INFO, mealpy.evolutionary_based.GA.BaseGA: Solving single objective optimization problem.\n",
      "2024/02/22 05:17:10 PM, INFO, mealpy.evolutionary_based.GA.BaseGA: >>>Problem: Rosenbrock function, Epoch: 1, Current best: 168.78216651660884, Global best: 168.78216651660884, Runtime: 0.10464 seconds\n",
      "2024/02/22 05:17:10 PM, WARNING, mealpy.evolutionary_based.GA.BaseGA: Stopping criterion with maximum running time/time bound (TB) (seconds) occurred. End program!\n",
      "2024/02/22 05:17:10 PM, INFO, mealpy.evolutionary_based.GA.BaseGA: Solving single objective optimization problem.\n"
     ]
    },
    {
     "name": "stdout",
     "output_type": "stream",
     "text": [
      "Algorithm: BaseGA, with params: {'epoch': 500, 'pop_size': 500, 'pc': 0.95, 'pm': 0.1}, trial: 3, best fitness: 147.50672100995652\n",
      "Algorithm: BaseGA, with params: {'epoch': 500, 'pop_size': 500, 'pc': 0.95, 'pm': 0.1}, trial: 4, best fitness: 168.78216651660884\n"
     ]
    },
    {
     "name": "stderr",
     "output_type": "stream",
     "text": [
      "2024/02/22 05:17:10 PM, INFO, mealpy.evolutionary_based.GA.BaseGA: >>>Problem: Rosenbrock function, Epoch: 1, Current best: 285.34790726556133, Global best: 285.34790726556133, Runtime: 0.10883 seconds\n",
      "2024/02/22 05:17:10 PM, WARNING, mealpy.evolutionary_based.GA.BaseGA: Stopping criterion with maximum running time/time bound (TB) (seconds) occurred. End program!\n",
      "2024/02/22 05:17:10 PM, INFO, mealpy.evolutionary_based.GA.BaseGA: Solving single objective optimization problem.\n",
      "2024/02/22 05:17:10 PM, INFO, mealpy.evolutionary_based.GA.BaseGA: >>>Problem: Rosenbrock function, Epoch: 1, Current best: 281.10570369540517, Global best: 281.10570369540517, Runtime: 0.10562 seconds\n",
      "2024/02/22 05:17:10 PM, WARNING, mealpy.evolutionary_based.GA.BaseGA: Stopping criterion with maximum running time/time bound (TB) (seconds) occurred. End program!\n",
      "2024/02/22 05:17:10 PM, INFO, mealpy.evolutionary_based.GA.BaseGA: Solving single objective optimization problem.\n"
     ]
    },
    {
     "name": "stdout",
     "output_type": "stream",
     "text": [
      "Algorithm: BaseGA, with params: {'epoch': 500, 'pop_size': 500, 'pc': 0.95, 'pm': 0.1}, trial: 5, best fitness: 285.34790726556133\n",
      "Algorithm: BaseGA, with params: {'epoch': 500, 'pop_size': 500, 'pc': 0.95, 'pm': 0.2}, trial: 1, best fitness: 281.10570369540517\n"
     ]
    },
    {
     "name": "stderr",
     "output_type": "stream",
     "text": [
      "2024/02/22 05:17:10 PM, INFO, mealpy.evolutionary_based.GA.BaseGA: >>>Problem: Rosenbrock function, Epoch: 1, Current best: 159.53907194908874, Global best: 159.53907194908874, Runtime: 0.11428 seconds\n",
      "2024/02/22 05:17:10 PM, WARNING, mealpy.evolutionary_based.GA.BaseGA: Stopping criterion with maximum running time/time bound (TB) (seconds) occurred. End program!\n",
      "2024/02/22 05:17:10 PM, INFO, mealpy.evolutionary_based.GA.BaseGA: Solving single objective optimization problem.\n",
      "2024/02/22 05:17:11 PM, INFO, mealpy.evolutionary_based.GA.BaseGA: >>>Problem: Rosenbrock function, Epoch: 1, Current best: 588.3402415715839, Global best: 588.3402415715839, Runtime: 0.10513 seconds\n",
      "2024/02/22 05:17:11 PM, WARNING, mealpy.evolutionary_based.GA.BaseGA: Stopping criterion with maximum running time/time bound (TB) (seconds) occurred. End program!\n",
      "2024/02/22 05:17:11 PM, INFO, mealpy.evolutionary_based.GA.BaseGA: Solving single objective optimization problem.\n"
     ]
    },
    {
     "name": "stdout",
     "output_type": "stream",
     "text": [
      "Algorithm: BaseGA, with params: {'epoch': 500, 'pop_size': 500, 'pc': 0.95, 'pm': 0.2}, trial: 2, best fitness: 159.53907194908874\n",
      "Algorithm: BaseGA, with params: {'epoch': 500, 'pop_size': 500, 'pc': 0.95, 'pm': 0.2}, trial: 3, best fitness: 588.3402415715839\n"
     ]
    },
    {
     "name": "stderr",
     "output_type": "stream",
     "text": [
      "2024/02/22 05:17:11 PM, INFO, mealpy.evolutionary_based.GA.BaseGA: >>>Problem: Rosenbrock function, Epoch: 1, Current best: 281.4841878195617, Global best: 281.4841878195617, Runtime: 0.10616 seconds\n",
      "2024/02/22 05:17:11 PM, WARNING, mealpy.evolutionary_based.GA.BaseGA: Stopping criterion with maximum running time/time bound (TB) (seconds) occurred. End program!\n",
      "2024/02/22 05:17:11 PM, INFO, mealpy.evolutionary_based.GA.BaseGA: Solving single objective optimization problem.\n",
      "2024/02/22 05:17:11 PM, INFO, mealpy.evolutionary_based.GA.BaseGA: >>>Problem: Rosenbrock function, Epoch: 1, Current best: 108.15564437353268, Global best: 108.15564437353268, Runtime: 0.10490 seconds\n",
      "2024/02/22 05:17:11 PM, WARNING, mealpy.evolutionary_based.GA.BaseGA: Stopping criterion with maximum running time/time bound (TB) (seconds) occurred. End program!\n",
      "2024/02/22 05:17:11 PM, INFO, mealpy.evolutionary_based.GA.BaseGA: Solving single objective optimization problem.\n"
     ]
    },
    {
     "name": "stdout",
     "output_type": "stream",
     "text": [
      "Algorithm: BaseGA, with params: {'epoch': 500, 'pop_size': 500, 'pc': 0.95, 'pm': 0.2}, trial: 4, best fitness: 281.4841878195617\n",
      "Algorithm: BaseGA, with params: {'epoch': 500, 'pop_size': 500, 'pc': 0.95, 'pm': 0.2}, trial: 5, best fitness: 108.15564437353268\n"
     ]
    },
    {
     "name": "stderr",
     "output_type": "stream",
     "text": [
      "2024/02/22 05:17:11 PM, INFO, mealpy.evolutionary_based.GA.BaseGA: >>>Problem: Rosenbrock function, Epoch: 1, Current best: 104.71037886083198, Global best: 104.71037886083198, Runtime: 0.12486 seconds\n",
      "2024/02/22 05:17:11 PM, WARNING, mealpy.evolutionary_based.GA.BaseGA: Stopping criterion with maximum running time/time bound (TB) (seconds) occurred. End program!\n",
      "2024/02/22 05:17:11 PM, INFO, mealpy.evolutionary_based.GA.BaseGA: Solving single objective optimization problem.\n",
      "2024/02/22 05:17:11 PM, INFO, mealpy.evolutionary_based.GA.BaseGA: >>>Problem: Rosenbrock function, Epoch: 1, Current best: 112.03721112958544, Global best: 112.03721112958544, Runtime: 0.10705 seconds\n",
      "2024/02/22 05:17:11 PM, WARNING, mealpy.evolutionary_based.GA.BaseGA: Stopping criterion with maximum running time/time bound (TB) (seconds) occurred. End program!\n",
      "2024/02/22 05:17:11 PM, INFO, mealpy.evolutionary_based.GA.BaseGA: Solving single objective optimization problem.\n"
     ]
    },
    {
     "name": "stdout",
     "output_type": "stream",
     "text": [
      "Algorithm: BaseGA, with params: {'epoch': 500, 'pop_size': 500, 'pc': 0.9, 'pm': 0.01}, trial: 1, best fitness: 104.71037886083198\n",
      "Algorithm: BaseGA, with params: {'epoch': 500, 'pop_size': 500, 'pc': 0.9, 'pm': 0.01}, trial: 2, best fitness: 112.03721112958544\n"
     ]
    },
    {
     "name": "stderr",
     "output_type": "stream",
     "text": [
      "2024/02/22 05:17:11 PM, INFO, mealpy.evolutionary_based.GA.BaseGA: >>>Problem: Rosenbrock function, Epoch: 1, Current best: 393.2954108985898, Global best: 393.2954108985898, Runtime: 0.10561 seconds\n",
      "2024/02/22 05:17:11 PM, WARNING, mealpy.evolutionary_based.GA.BaseGA: Stopping criterion with maximum running time/time bound (TB) (seconds) occurred. End program!\n",
      "2024/02/22 05:17:11 PM, INFO, mealpy.evolutionary_based.GA.BaseGA: Solving single objective optimization problem.\n",
      "2024/02/22 05:17:11 PM, INFO, mealpy.evolutionary_based.GA.BaseGA: >>>Problem: Rosenbrock function, Epoch: 1, Current best: 74.84870855988365, Global best: 74.84870855988365, Runtime: 0.10229 seconds\n",
      "2024/02/22 05:17:11 PM, WARNING, mealpy.evolutionary_based.GA.BaseGA: Stopping criterion with maximum running time/time bound (TB) (seconds) occurred. End program!\n",
      "2024/02/22 05:17:11 PM, INFO, mealpy.evolutionary_based.GA.BaseGA: Solving single objective optimization problem.\n"
     ]
    },
    {
     "name": "stdout",
     "output_type": "stream",
     "text": [
      "Algorithm: BaseGA, with params: {'epoch': 500, 'pop_size': 500, 'pc': 0.9, 'pm': 0.01}, trial: 3, best fitness: 393.2954108985898\n",
      "Algorithm: BaseGA, with params: {'epoch': 500, 'pop_size': 500, 'pc': 0.9, 'pm': 0.01}, trial: 4, best fitness: 74.84870855988365\n"
     ]
    },
    {
     "name": "stderr",
     "output_type": "stream",
     "text": [
      "2024/02/22 05:17:12 PM, INFO, mealpy.evolutionary_based.GA.BaseGA: >>>Problem: Rosenbrock function, Epoch: 1, Current best: 146.639311550279, Global best: 146.639311550279, Runtime: 0.10420 seconds\n",
      "2024/02/22 05:17:12 PM, WARNING, mealpy.evolutionary_based.GA.BaseGA: Stopping criterion with maximum running time/time bound (TB) (seconds) occurred. End program!\n",
      "2024/02/22 05:17:12 PM, INFO, mealpy.evolutionary_based.GA.BaseGA: Solving single objective optimization problem.\n",
      "2024/02/22 05:17:12 PM, INFO, mealpy.evolutionary_based.GA.BaseGA: >>>Problem: Rosenbrock function, Epoch: 1, Current best: 204.3570278049375, Global best: 204.3570278049375, Runtime: 0.10405 seconds\n",
      "2024/02/22 05:17:12 PM, WARNING, mealpy.evolutionary_based.GA.BaseGA: Stopping criterion with maximum running time/time bound (TB) (seconds) occurred. End program!\n",
      "2024/02/22 05:17:12 PM, INFO, mealpy.evolutionary_based.GA.BaseGA: Solving single objective optimization problem.\n"
     ]
    },
    {
     "name": "stdout",
     "output_type": "stream",
     "text": [
      "Algorithm: BaseGA, with params: {'epoch': 500, 'pop_size': 500, 'pc': 0.9, 'pm': 0.01}, trial: 5, best fitness: 146.639311550279\n",
      "Algorithm: BaseGA, with params: {'epoch': 500, 'pop_size': 500, 'pc': 0.9, 'pm': 0.05}, trial: 1, best fitness: 204.3570278049375\n"
     ]
    },
    {
     "name": "stderr",
     "output_type": "stream",
     "text": [
      "2024/02/22 05:17:12 PM, INFO, mealpy.evolutionary_based.GA.BaseGA: >>>Problem: Rosenbrock function, Epoch: 1, Current best: 402.8049254233964, Global best: 402.8049254233964, Runtime: 0.11277 seconds\n",
      "2024/02/22 05:17:12 PM, WARNING, mealpy.evolutionary_based.GA.BaseGA: Stopping criterion with maximum running time/time bound (TB) (seconds) occurred. End program!\n",
      "2024/02/22 05:17:12 PM, INFO, mealpy.evolutionary_based.GA.BaseGA: Solving single objective optimization problem.\n",
      "2024/02/22 05:17:12 PM, INFO, mealpy.evolutionary_based.GA.BaseGA: >>>Problem: Rosenbrock function, Epoch: 1, Current best: 97.89750301738343, Global best: 97.89750301738343, Runtime: 0.10416 seconds\n",
      "2024/02/22 05:17:12 PM, WARNING, mealpy.evolutionary_based.GA.BaseGA: Stopping criterion with maximum running time/time bound (TB) (seconds) occurred. End program!\n",
      "2024/02/22 05:17:12 PM, INFO, mealpy.evolutionary_based.GA.BaseGA: Solving single objective optimization problem.\n"
     ]
    },
    {
     "name": "stdout",
     "output_type": "stream",
     "text": [
      "Algorithm: BaseGA, with params: {'epoch': 500, 'pop_size': 500, 'pc': 0.9, 'pm': 0.05}, trial: 2, best fitness: 402.8049254233964\n",
      "Algorithm: BaseGA, with params: {'epoch': 500, 'pop_size': 500, 'pc': 0.9, 'pm': 0.05}, trial: 3, best fitness: 97.89750301738343\n"
     ]
    },
    {
     "name": "stderr",
     "output_type": "stream",
     "text": [
      "2024/02/22 05:17:12 PM, INFO, mealpy.evolutionary_based.GA.BaseGA: >>>Problem: Rosenbrock function, Epoch: 1, Current best: 46.363723279767896, Global best: 46.363723279767896, Runtime: 0.10679 seconds\n",
      "2024/02/22 05:17:12 PM, WARNING, mealpy.evolutionary_based.GA.BaseGA: Stopping criterion with maximum running time/time bound (TB) (seconds) occurred. End program!\n",
      "2024/02/22 05:17:12 PM, INFO, mealpy.evolutionary_based.GA.BaseGA: Solving single objective optimization problem.\n",
      "2024/02/22 05:17:12 PM, INFO, mealpy.evolutionary_based.GA.BaseGA: >>>Problem: Rosenbrock function, Epoch: 1, Current best: 106.54235918921091, Global best: 106.54235918921091, Runtime: 0.10742 seconds\n",
      "2024/02/22 05:17:12 PM, WARNING, mealpy.evolutionary_based.GA.BaseGA: Stopping criterion with maximum running time/time bound (TB) (seconds) occurred. End program!\n",
      "2024/02/22 05:17:12 PM, INFO, mealpy.evolutionary_based.GA.BaseGA: Solving single objective optimization problem.\n"
     ]
    },
    {
     "name": "stdout",
     "output_type": "stream",
     "text": [
      "Algorithm: BaseGA, with params: {'epoch': 500, 'pop_size': 500, 'pc': 0.9, 'pm': 0.05}, trial: 4, best fitness: 46.363723279767896\n",
      "Algorithm: BaseGA, with params: {'epoch': 500, 'pop_size': 500, 'pc': 0.9, 'pm': 0.05}, trial: 5, best fitness: 106.54235918921091\n"
     ]
    },
    {
     "name": "stderr",
     "output_type": "stream",
     "text": [
      "2024/02/22 05:17:12 PM, INFO, mealpy.evolutionary_based.GA.BaseGA: >>>Problem: Rosenbrock function, Epoch: 1, Current best: 167.13506083980872, Global best: 167.13506083980872, Runtime: 0.10498 seconds\n",
      "2024/02/22 05:17:12 PM, WARNING, mealpy.evolutionary_based.GA.BaseGA: Stopping criterion with maximum running time/time bound (TB) (seconds) occurred. End program!\n",
      "2024/02/22 05:17:12 PM, INFO, mealpy.evolutionary_based.GA.BaseGA: Solving single objective optimization problem.\n",
      "2024/02/22 05:17:12 PM, INFO, mealpy.evolutionary_based.GA.BaseGA: >>>Problem: Rosenbrock function, Epoch: 1, Current best: 236.68432884672058, Global best: 236.68432884672058, Runtime: 0.10609 seconds\n",
      "2024/02/22 05:17:12 PM, WARNING, mealpy.evolutionary_based.GA.BaseGA: Stopping criterion with maximum running time/time bound (TB) (seconds) occurred. End program!\n",
      "2024/02/22 05:17:12 PM, INFO, mealpy.evolutionary_based.GA.BaseGA: Solving single objective optimization problem.\n"
     ]
    },
    {
     "name": "stdout",
     "output_type": "stream",
     "text": [
      "Algorithm: BaseGA, with params: {'epoch': 500, 'pop_size': 500, 'pc': 0.9, 'pm': 0.1}, trial: 1, best fitness: 167.13506083980872\n",
      "Algorithm: BaseGA, with params: {'epoch': 500, 'pop_size': 500, 'pc': 0.9, 'pm': 0.1}, trial: 2, best fitness: 236.68432884672058\n"
     ]
    },
    {
     "name": "stderr",
     "output_type": "stream",
     "text": [
      "2024/02/22 05:17:13 PM, INFO, mealpy.evolutionary_based.GA.BaseGA: >>>Problem: Rosenbrock function, Epoch: 1, Current best: 323.6087593878909, Global best: 323.6087593878909, Runtime: 0.10669 seconds\n",
      "2024/02/22 05:17:13 PM, WARNING, mealpy.evolutionary_based.GA.BaseGA: Stopping criterion with maximum running time/time bound (TB) (seconds) occurred. End program!\n",
      "2024/02/22 05:17:13 PM, INFO, mealpy.evolutionary_based.GA.BaseGA: Solving single objective optimization problem.\n",
      "2024/02/22 05:17:13 PM, INFO, mealpy.evolutionary_based.GA.BaseGA: >>>Problem: Rosenbrock function, Epoch: 1, Current best: 267.6389352850397, Global best: 267.6389352850397, Runtime: 0.10217 seconds\n",
      "2024/02/22 05:17:13 PM, WARNING, mealpy.evolutionary_based.GA.BaseGA: Stopping criterion with maximum running time/time bound (TB) (seconds) occurred. End program!\n",
      "2024/02/22 05:17:13 PM, INFO, mealpy.evolutionary_based.GA.BaseGA: Solving single objective optimization problem.\n"
     ]
    },
    {
     "name": "stdout",
     "output_type": "stream",
     "text": [
      "Algorithm: BaseGA, with params: {'epoch': 500, 'pop_size': 500, 'pc': 0.9, 'pm': 0.1}, trial: 3, best fitness: 323.6087593878909\n",
      "Algorithm: BaseGA, with params: {'epoch': 500, 'pop_size': 500, 'pc': 0.9, 'pm': 0.1}, trial: 4, best fitness: 267.6389352850397\n"
     ]
    },
    {
     "name": "stderr",
     "output_type": "stream",
     "text": [
      "2024/02/22 05:17:13 PM, INFO, mealpy.evolutionary_based.GA.BaseGA: >>>Problem: Rosenbrock function, Epoch: 1, Current best: 155.94272516010554, Global best: 155.94272516010554, Runtime: 0.11135 seconds\n",
      "2024/02/22 05:17:13 PM, WARNING, mealpy.evolutionary_based.GA.BaseGA: Stopping criterion with maximum running time/time bound (TB) (seconds) occurred. End program!\n",
      "2024/02/22 05:17:13 PM, INFO, mealpy.evolutionary_based.GA.BaseGA: Solving single objective optimization problem.\n",
      "2024/02/22 05:17:13 PM, INFO, mealpy.evolutionary_based.GA.BaseGA: >>>Problem: Rosenbrock function, Epoch: 1, Current best: 108.66470333909837, Global best: 108.66470333909837, Runtime: 0.10290 seconds\n",
      "2024/02/22 05:17:13 PM, WARNING, mealpy.evolutionary_based.GA.BaseGA: Stopping criterion with maximum running time/time bound (TB) (seconds) occurred. End program!\n",
      "2024/02/22 05:17:13 PM, INFO, mealpy.evolutionary_based.GA.BaseGA: Solving single objective optimization problem.\n"
     ]
    },
    {
     "name": "stdout",
     "output_type": "stream",
     "text": [
      "Algorithm: BaseGA, with params: {'epoch': 500, 'pop_size': 500, 'pc': 0.9, 'pm': 0.1}, trial: 5, best fitness: 155.94272516010554\n",
      "Algorithm: BaseGA, with params: {'epoch': 500, 'pop_size': 500, 'pc': 0.9, 'pm': 0.2}, trial: 1, best fitness: 108.66470333909837\n"
     ]
    },
    {
     "name": "stderr",
     "output_type": "stream",
     "text": [
      "2024/02/22 05:17:13 PM, INFO, mealpy.evolutionary_based.GA.BaseGA: >>>Problem: Rosenbrock function, Epoch: 1, Current best: 405.5605354285843, Global best: 405.5605354285843, Runtime: 0.10719 seconds\n",
      "2024/02/22 05:17:13 PM, WARNING, mealpy.evolutionary_based.GA.BaseGA: Stopping criterion with maximum running time/time bound (TB) (seconds) occurred. End program!\n",
      "2024/02/22 05:17:13 PM, INFO, mealpy.evolutionary_based.GA.BaseGA: Solving single objective optimization problem.\n",
      "2024/02/22 05:17:13 PM, INFO, mealpy.evolutionary_based.GA.BaseGA: >>>Problem: Rosenbrock function, Epoch: 1, Current best: 51.906750528444746, Global best: 51.906750528444746, Runtime: 0.11452 seconds\n",
      "2024/02/22 05:17:13 PM, WARNING, mealpy.evolutionary_based.GA.BaseGA: Stopping criterion with maximum running time/time bound (TB) (seconds) occurred. End program!\n",
      "2024/02/22 05:17:13 PM, INFO, mealpy.evolutionary_based.GA.BaseGA: Solving single objective optimization problem.\n"
     ]
    },
    {
     "name": "stdout",
     "output_type": "stream",
     "text": [
      "Algorithm: BaseGA, with params: {'epoch': 500, 'pop_size': 500, 'pc': 0.9, 'pm': 0.2}, trial: 2, best fitness: 405.5605354285843\n",
      "Algorithm: BaseGA, with params: {'epoch': 500, 'pop_size': 500, 'pc': 0.9, 'pm': 0.2}, trial: 3, best fitness: 51.906750528444746\n"
     ]
    },
    {
     "name": "stderr",
     "output_type": "stream",
     "text": [
      "2024/02/22 05:17:13 PM, INFO, mealpy.evolutionary_based.GA.BaseGA: >>>Problem: Rosenbrock function, Epoch: 1, Current best: 125.18204451212537, Global best: 125.18204451212537, Runtime: 0.12218 seconds\n",
      "2024/02/22 05:17:13 PM, WARNING, mealpy.evolutionary_based.GA.BaseGA: Stopping criterion with maximum running time/time bound (TB) (seconds) occurred. End program!\n",
      "2024/02/22 05:17:13 PM, INFO, mealpy.evolutionary_based.GA.BaseGA: Solving single objective optimization problem.\n",
      "2024/02/22 05:17:14 PM, INFO, mealpy.evolutionary_based.GA.BaseGA: >>>Problem: Rosenbrock function, Epoch: 1, Current best: 556.1765034447478, Global best: 556.1765034447478, Runtime: 0.10873 seconds\n",
      "2024/02/22 05:17:14 PM, WARNING, mealpy.evolutionary_based.GA.BaseGA: Stopping criterion with maximum running time/time bound (TB) (seconds) occurred. End program!\n",
      "2024/02/22 05:17:14 PM, INFO, mealpy.evolutionary_based.GA.BaseGA: Solving single objective optimization problem.\n"
     ]
    },
    {
     "name": "stdout",
     "output_type": "stream",
     "text": [
      "Algorithm: BaseGA, with params: {'epoch': 500, 'pop_size': 500, 'pc': 0.9, 'pm': 0.2}, trial: 4, best fitness: 125.18204451212537\n",
      "Algorithm: BaseGA, with params: {'epoch': 500, 'pop_size': 500, 'pc': 0.9, 'pm': 0.2}, trial: 5, best fitness: 556.1765034447478\n"
     ]
    },
    {
     "name": "stderr",
     "output_type": "stream",
     "text": [
      "2024/02/22 05:17:14 PM, INFO, mealpy.evolutionary_based.GA.BaseGA: >>>Problem: Rosenbrock function, Epoch: 1, Current best: 81.53026079757095, Global best: 81.53026079757095, Runtime: 0.10370 seconds\n",
      "2024/02/22 05:17:14 PM, WARNING, mealpy.evolutionary_based.GA.BaseGA: Stopping criterion with maximum running time/time bound (TB) (seconds) occurred. End program!\n",
      "2024/02/22 05:17:14 PM, INFO, mealpy.evolutionary_based.GA.BaseGA: Solving single objective optimization problem.\n",
      "2024/02/22 05:17:14 PM, INFO, mealpy.evolutionary_based.GA.BaseGA: >>>Problem: Rosenbrock function, Epoch: 1, Current best: 299.0601245511268, Global best: 299.0601245511268, Runtime: 0.10498 seconds\n",
      "2024/02/22 05:17:14 PM, WARNING, mealpy.evolutionary_based.GA.BaseGA: Stopping criterion with maximum running time/time bound (TB) (seconds) occurred. End program!\n",
      "2024/02/22 05:17:14 PM, INFO, mealpy.evolutionary_based.GA.BaseGA: Solving single objective optimization problem.\n"
     ]
    },
    {
     "name": "stdout",
     "output_type": "stream",
     "text": [
      "Algorithm: BaseGA, with params: {'epoch': 500, 'pop_size': 500, 'pc': 0.8, 'pm': 0.01}, trial: 1, best fitness: 81.53026079757095\n",
      "Algorithm: BaseGA, with params: {'epoch': 500, 'pop_size': 500, 'pc': 0.8, 'pm': 0.01}, trial: 2, best fitness: 299.0601245511268\n"
     ]
    },
    {
     "name": "stderr",
     "output_type": "stream",
     "text": [
      "2024/02/22 05:17:14 PM, INFO, mealpy.evolutionary_based.GA.BaseGA: >>>Problem: Rosenbrock function, Epoch: 1, Current best: 202.74897051019568, Global best: 202.74897051019568, Runtime: 0.10466 seconds\n",
      "2024/02/22 05:17:14 PM, WARNING, mealpy.evolutionary_based.GA.BaseGA: Stopping criterion with maximum running time/time bound (TB) (seconds) occurred. End program!\n",
      "2024/02/22 05:17:14 PM, INFO, mealpy.evolutionary_based.GA.BaseGA: Solving single objective optimization problem.\n",
      "2024/02/22 05:17:14 PM, INFO, mealpy.evolutionary_based.GA.BaseGA: >>>Problem: Rosenbrock function, Epoch: 1, Current best: 553.9255889301162, Global best: 553.9255889301162, Runtime: 0.10373 seconds\n",
      "2024/02/22 05:17:14 PM, WARNING, mealpy.evolutionary_based.GA.BaseGA: Stopping criterion with maximum running time/time bound (TB) (seconds) occurred. End program!\n",
      "2024/02/22 05:17:14 PM, INFO, mealpy.evolutionary_based.GA.BaseGA: Solving single objective optimization problem.\n"
     ]
    },
    {
     "name": "stdout",
     "output_type": "stream",
     "text": [
      "Algorithm: BaseGA, with params: {'epoch': 500, 'pop_size': 500, 'pc': 0.8, 'pm': 0.01}, trial: 3, best fitness: 202.74897051019568\n",
      "Algorithm: BaseGA, with params: {'epoch': 500, 'pop_size': 500, 'pc': 0.8, 'pm': 0.01}, trial: 4, best fitness: 553.9255889301162\n"
     ]
    },
    {
     "name": "stderr",
     "output_type": "stream",
     "text": [
      "2024/02/22 05:17:14 PM, INFO, mealpy.evolutionary_based.GA.BaseGA: >>>Problem: Rosenbrock function, Epoch: 1, Current best: 62.18195338700358, Global best: 62.18195338700358, Runtime: 0.10798 seconds\n",
      "2024/02/22 05:17:14 PM, WARNING, mealpy.evolutionary_based.GA.BaseGA: Stopping criterion with maximum running time/time bound (TB) (seconds) occurred. End program!\n",
      "2024/02/22 05:17:14 PM, INFO, mealpy.evolutionary_based.GA.BaseGA: Solving single objective optimization problem.\n",
      "2024/02/22 05:17:14 PM, INFO, mealpy.evolutionary_based.GA.BaseGA: >>>Problem: Rosenbrock function, Epoch: 1, Current best: 184.45758454980364, Global best: 184.45758454980364, Runtime: 0.10280 seconds\n",
      "2024/02/22 05:17:14 PM, WARNING, mealpy.evolutionary_based.GA.BaseGA: Stopping criterion with maximum running time/time bound (TB) (seconds) occurred. End program!\n",
      "2024/02/22 05:17:14 PM, INFO, mealpy.evolutionary_based.GA.BaseGA: Solving single objective optimization problem.\n"
     ]
    },
    {
     "name": "stdout",
     "output_type": "stream",
     "text": [
      "Algorithm: BaseGA, with params: {'epoch': 500, 'pop_size': 500, 'pc': 0.8, 'pm': 0.01}, trial: 5, best fitness: 62.18195338700358\n",
      "Algorithm: BaseGA, with params: {'epoch': 500, 'pop_size': 500, 'pc': 0.8, 'pm': 0.05}, trial: 1, best fitness: 184.45758454980364\n"
     ]
    },
    {
     "name": "stderr",
     "output_type": "stream",
     "text": [
      "2024/02/22 05:17:15 PM, INFO, mealpy.evolutionary_based.GA.BaseGA: >>>Problem: Rosenbrock function, Epoch: 1, Current best: 352.27468396721576, Global best: 352.27468396721576, Runtime: 0.10558 seconds\n",
      "2024/02/22 05:17:15 PM, WARNING, mealpy.evolutionary_based.GA.BaseGA: Stopping criterion with maximum running time/time bound (TB) (seconds) occurred. End program!\n",
      "2024/02/22 05:17:15 PM, INFO, mealpy.evolutionary_based.GA.BaseGA: Solving single objective optimization problem.\n",
      "2024/02/22 05:17:15 PM, INFO, mealpy.evolutionary_based.GA.BaseGA: >>>Problem: Rosenbrock function, Epoch: 1, Current best: 208.6849891102478, Global best: 208.6849891102478, Runtime: 0.10240 seconds\n",
      "2024/02/22 05:17:15 PM, WARNING, mealpy.evolutionary_based.GA.BaseGA: Stopping criterion with maximum running time/time bound (TB) (seconds) occurred. End program!\n",
      "2024/02/22 05:17:15 PM, INFO, mealpy.evolutionary_based.GA.BaseGA: Solving single objective optimization problem.\n"
     ]
    },
    {
     "name": "stdout",
     "output_type": "stream",
     "text": [
      "Algorithm: BaseGA, with params: {'epoch': 500, 'pop_size': 500, 'pc': 0.8, 'pm': 0.05}, trial: 2, best fitness: 352.27468396721576\n",
      "Algorithm: BaseGA, with params: {'epoch': 500, 'pop_size': 500, 'pc': 0.8, 'pm': 0.05}, trial: 3, best fitness: 208.6849891102478\n"
     ]
    },
    {
     "name": "stderr",
     "output_type": "stream",
     "text": [
      "2024/02/22 05:17:15 PM, INFO, mealpy.evolutionary_based.GA.BaseGA: >>>Problem: Rosenbrock function, Epoch: 1, Current best: 637.9066548686271, Global best: 637.9066548686271, Runtime: 0.10477 seconds\n",
      "2024/02/22 05:17:15 PM, WARNING, mealpy.evolutionary_based.GA.BaseGA: Stopping criterion with maximum running time/time bound (TB) (seconds) occurred. End program!\n",
      "2024/02/22 05:17:15 PM, INFO, mealpy.evolutionary_based.GA.BaseGA: Solving single objective optimization problem.\n",
      "2024/02/22 05:17:15 PM, INFO, mealpy.evolutionary_based.GA.BaseGA: >>>Problem: Rosenbrock function, Epoch: 1, Current best: 244.9362035792464, Global best: 244.9362035792464, Runtime: 0.10504 seconds\n",
      "2024/02/22 05:17:15 PM, WARNING, mealpy.evolutionary_based.GA.BaseGA: Stopping criterion with maximum running time/time bound (TB) (seconds) occurred. End program!\n",
      "2024/02/22 05:17:15 PM, INFO, mealpy.evolutionary_based.GA.BaseGA: Solving single objective optimization problem.\n"
     ]
    },
    {
     "name": "stdout",
     "output_type": "stream",
     "text": [
      "Algorithm: BaseGA, with params: {'epoch': 500, 'pop_size': 500, 'pc': 0.8, 'pm': 0.05}, trial: 4, best fitness: 637.9066548686271\n",
      "Algorithm: BaseGA, with params: {'epoch': 500, 'pop_size': 500, 'pc': 0.8, 'pm': 0.05}, trial: 5, best fitness: 244.9362035792464\n"
     ]
    },
    {
     "name": "stderr",
     "output_type": "stream",
     "text": [
      "2024/02/22 05:17:15 PM, INFO, mealpy.evolutionary_based.GA.BaseGA: >>>Problem: Rosenbrock function, Epoch: 1, Current best: 365.0245121927236, Global best: 365.0245121927236, Runtime: 0.10662 seconds\n",
      "2024/02/22 05:17:15 PM, WARNING, mealpy.evolutionary_based.GA.BaseGA: Stopping criterion with maximum running time/time bound (TB) (seconds) occurred. End program!\n",
      "2024/02/22 05:17:15 PM, INFO, mealpy.evolutionary_based.GA.BaseGA: Solving single objective optimization problem.\n",
      "2024/02/22 05:17:15 PM, INFO, mealpy.evolutionary_based.GA.BaseGA: >>>Problem: Rosenbrock function, Epoch: 1, Current best: 109.34903067251668, Global best: 109.34903067251668, Runtime: 0.10421 seconds\n",
      "2024/02/22 05:17:15 PM, WARNING, mealpy.evolutionary_based.GA.BaseGA: Stopping criterion with maximum running time/time bound (TB) (seconds) occurred. End program!\n",
      "2024/02/22 05:17:15 PM, INFO, mealpy.evolutionary_based.GA.BaseGA: Solving single objective optimization problem.\n"
     ]
    },
    {
     "name": "stdout",
     "output_type": "stream",
     "text": [
      "Algorithm: BaseGA, with params: {'epoch': 500, 'pop_size': 500, 'pc': 0.8, 'pm': 0.1}, trial: 1, best fitness: 365.0245121927236\n",
      "Algorithm: BaseGA, with params: {'epoch': 500, 'pop_size': 500, 'pc': 0.8, 'pm': 0.1}, trial: 2, best fitness: 109.34903067251668\n"
     ]
    },
    {
     "name": "stderr",
     "output_type": "stream",
     "text": [
      "2024/02/22 05:17:15 PM, INFO, mealpy.evolutionary_based.GA.BaseGA: >>>Problem: Rosenbrock function, Epoch: 1, Current best: 206.2526765917884, Global best: 206.2526765917884, Runtime: 0.10570 seconds\n",
      "2024/02/22 05:17:15 PM, WARNING, mealpy.evolutionary_based.GA.BaseGA: Stopping criterion with maximum running time/time bound (TB) (seconds) occurred. End program!\n",
      "2024/02/22 05:17:15 PM, INFO, mealpy.evolutionary_based.GA.BaseGA: Solving single objective optimization problem.\n",
      "2024/02/22 05:17:15 PM, INFO, mealpy.evolutionary_based.GA.BaseGA: >>>Problem: Rosenbrock function, Epoch: 1, Current best: 399.7975412491087, Global best: 399.7975412491087, Runtime: 0.10550 seconds\n",
      "2024/02/22 05:17:15 PM, WARNING, mealpy.evolutionary_based.GA.BaseGA: Stopping criterion with maximum running time/time bound (TB) (seconds) occurred. End program!\n",
      "2024/02/22 05:17:15 PM, INFO, mealpy.evolutionary_based.GA.BaseGA: Solving single objective optimization problem.\n"
     ]
    },
    {
     "name": "stdout",
     "output_type": "stream",
     "text": [
      "Algorithm: BaseGA, with params: {'epoch': 500, 'pop_size': 500, 'pc': 0.8, 'pm': 0.1}, trial: 3, best fitness: 206.2526765917884\n",
      "Algorithm: BaseGA, with params: {'epoch': 500, 'pop_size': 500, 'pc': 0.8, 'pm': 0.1}, trial: 4, best fitness: 399.7975412491087\n"
     ]
    },
    {
     "name": "stderr",
     "output_type": "stream",
     "text": [
      "2024/02/22 05:17:16 PM, INFO, mealpy.evolutionary_based.GA.BaseGA: >>>Problem: Rosenbrock function, Epoch: 1, Current best: 398.4564710656314, Global best: 398.4564710656314, Runtime: 0.10619 seconds\n",
      "2024/02/22 05:17:16 PM, WARNING, mealpy.evolutionary_based.GA.BaseGA: Stopping criterion with maximum running time/time bound (TB) (seconds) occurred. End program!\n",
      "2024/02/22 05:17:16 PM, INFO, mealpy.evolutionary_based.GA.BaseGA: Solving single objective optimization problem.\n",
      "2024/02/22 05:17:16 PM, INFO, mealpy.evolutionary_based.GA.BaseGA: >>>Problem: Rosenbrock function, Epoch: 1, Current best: 54.61948272447926, Global best: 54.61948272447926, Runtime: 0.10220 seconds\n",
      "2024/02/22 05:17:16 PM, WARNING, mealpy.evolutionary_based.GA.BaseGA: Stopping criterion with maximum running time/time bound (TB) (seconds) occurred. End program!\n",
      "2024/02/22 05:17:16 PM, INFO, mealpy.evolutionary_based.GA.BaseGA: Solving single objective optimization problem.\n"
     ]
    },
    {
     "name": "stdout",
     "output_type": "stream",
     "text": [
      "Algorithm: BaseGA, with params: {'epoch': 500, 'pop_size': 500, 'pc': 0.8, 'pm': 0.1}, trial: 5, best fitness: 398.4564710656314\n",
      "Algorithm: BaseGA, with params: {'epoch': 500, 'pop_size': 500, 'pc': 0.8, 'pm': 0.2}, trial: 1, best fitness: 54.61948272447926\n"
     ]
    },
    {
     "name": "stderr",
     "output_type": "stream",
     "text": [
      "2024/02/22 05:17:16 PM, INFO, mealpy.evolutionary_based.GA.BaseGA: >>>Problem: Rosenbrock function, Epoch: 1, Current best: 147.72235646854787, Global best: 147.72235646854787, Runtime: 0.10873 seconds\n",
      "2024/02/22 05:17:16 PM, WARNING, mealpy.evolutionary_based.GA.BaseGA: Stopping criterion with maximum running time/time bound (TB) (seconds) occurred. End program!\n",
      "2024/02/22 05:17:16 PM, INFO, mealpy.evolutionary_based.GA.BaseGA: Solving single objective optimization problem.\n",
      "2024/02/22 05:17:16 PM, INFO, mealpy.evolutionary_based.GA.BaseGA: >>>Problem: Rosenbrock function, Epoch: 1, Current best: 335.19591138542523, Global best: 335.19591138542523, Runtime: 0.10357 seconds\n",
      "2024/02/22 05:17:16 PM, WARNING, mealpy.evolutionary_based.GA.BaseGA: Stopping criterion with maximum running time/time bound (TB) (seconds) occurred. End program!\n",
      "2024/02/22 05:17:16 PM, INFO, mealpy.evolutionary_based.GA.BaseGA: Solving single objective optimization problem.\n"
     ]
    },
    {
     "name": "stdout",
     "output_type": "stream",
     "text": [
      "Algorithm: BaseGA, with params: {'epoch': 500, 'pop_size': 500, 'pc': 0.8, 'pm': 0.2}, trial: 2, best fitness: 147.72235646854787\n",
      "Algorithm: BaseGA, with params: {'epoch': 500, 'pop_size': 500, 'pc': 0.8, 'pm': 0.2}, trial: 3, best fitness: 335.19591138542523\n"
     ]
    },
    {
     "name": "stderr",
     "output_type": "stream",
     "text": [
      "2024/02/22 05:17:16 PM, INFO, mealpy.evolutionary_based.GA.BaseGA: >>>Problem: Rosenbrock function, Epoch: 1, Current best: 414.56166038870595, Global best: 414.56166038870595, Runtime: 0.10465 seconds\n",
      "2024/02/22 05:17:16 PM, WARNING, mealpy.evolutionary_based.GA.BaseGA: Stopping criterion with maximum running time/time bound (TB) (seconds) occurred. End program!\n",
      "2024/02/22 05:17:16 PM, INFO, mealpy.evolutionary_based.GA.BaseGA: Solving single objective optimization problem.\n",
      "2024/02/22 05:17:16 PM, INFO, mealpy.evolutionary_based.GA.BaseGA: >>>Problem: Rosenbrock function, Epoch: 1, Current best: 460.55898017911755, Global best: 460.55898017911755, Runtime: 0.10476 seconds\n",
      "2024/02/22 05:17:16 PM, WARNING, mealpy.evolutionary_based.GA.BaseGA: Stopping criterion with maximum running time/time bound (TB) (seconds) occurred. End program!\n",
      "2024/02/22 05:17:16 PM, INFO, mealpy.evolutionary_based.GA.BaseGA: Solving single objective optimization problem.\n"
     ]
    },
    {
     "name": "stdout",
     "output_type": "stream",
     "text": [
      "Algorithm: BaseGA, with params: {'epoch': 500, 'pop_size': 500, 'pc': 0.8, 'pm': 0.2}, trial: 4, best fitness: 414.56166038870595\n",
      "Algorithm: BaseGA, with params: {'epoch': 500, 'pop_size': 500, 'pc': 0.8, 'pm': 0.2}, trial: 5, best fitness: 460.55898017911755\n"
     ]
    },
    {
     "name": "stderr",
     "output_type": "stream",
     "text": [
      "2024/02/22 05:17:16 PM, INFO, mealpy.evolutionary_based.GA.BaseGA: >>>Problem: Rosenbrock function, Epoch: 1, Current best: 147.81501304415707, Global best: 147.81501304415707, Runtime: 0.10577 seconds\n",
      "2024/02/22 05:17:16 PM, WARNING, mealpy.evolutionary_based.GA.BaseGA: Stopping criterion with maximum running time/time bound (TB) (seconds) occurred. End program!\n",
      "2024/02/22 05:17:16 PM, INFO, mealpy.evolutionary_based.GA.BaseGA: Solving single objective optimization problem.\n",
      "2024/02/22 05:17:17 PM, INFO, mealpy.evolutionary_based.GA.BaseGA: >>>Problem: Rosenbrock function, Epoch: 1, Current best: 49.4988443983939, Global best: 49.4988443983939, Runtime: 0.10533 seconds\n",
      "2024/02/22 05:17:17 PM, WARNING, mealpy.evolutionary_based.GA.BaseGA: Stopping criterion with maximum running time/time bound (TB) (seconds) occurred. End program!\n",
      "2024/02/22 05:17:17 PM, INFO, mealpy.evolutionary_based.GA.BaseGA: Solving single objective optimization problem.\n"
     ]
    },
    {
     "name": "stdout",
     "output_type": "stream",
     "text": [
      "Algorithm: BaseGA, with params: {'epoch': 500, 'pop_size': 500, 'pc': 0.7, 'pm': 0.01}, trial: 1, best fitness: 147.81501304415707\n",
      "Algorithm: BaseGA, with params: {'epoch': 500, 'pop_size': 500, 'pc': 0.7, 'pm': 0.01}, trial: 2, best fitness: 49.4988443983939\n"
     ]
    },
    {
     "name": "stderr",
     "output_type": "stream",
     "text": [
      "2024/02/22 05:17:17 PM, INFO, mealpy.evolutionary_based.GA.BaseGA: >>>Problem: Rosenbrock function, Epoch: 1, Current best: 410.94712744697995, Global best: 410.94712744697995, Runtime: 0.10569 seconds\n",
      "2024/02/22 05:17:17 PM, WARNING, mealpy.evolutionary_based.GA.BaseGA: Stopping criterion with maximum running time/time bound (TB) (seconds) occurred. End program!\n",
      "2024/02/22 05:17:17 PM, INFO, mealpy.evolutionary_based.GA.BaseGA: Solving single objective optimization problem.\n",
      "2024/02/22 05:17:17 PM, INFO, mealpy.evolutionary_based.GA.BaseGA: >>>Problem: Rosenbrock function, Epoch: 1, Current best: 31.882190270608955, Global best: 31.882190270608955, Runtime: 0.10686 seconds\n",
      "2024/02/22 05:17:17 PM, WARNING, mealpy.evolutionary_based.GA.BaseGA: Stopping criterion with maximum running time/time bound (TB) (seconds) occurred. End program!\n",
      "2024/02/22 05:17:17 PM, INFO, mealpy.evolutionary_based.GA.BaseGA: Solving single objective optimization problem.\n"
     ]
    },
    {
     "name": "stdout",
     "output_type": "stream",
     "text": [
      "Algorithm: BaseGA, with params: {'epoch': 500, 'pop_size': 500, 'pc': 0.7, 'pm': 0.01}, trial: 3, best fitness: 410.94712744697995\n",
      "Algorithm: BaseGA, with params: {'epoch': 500, 'pop_size': 500, 'pc': 0.7, 'pm': 0.01}, trial: 4, best fitness: 31.882190270608955\n"
     ]
    },
    {
     "name": "stderr",
     "output_type": "stream",
     "text": [
      "2024/02/22 05:17:17 PM, INFO, mealpy.evolutionary_based.GA.BaseGA: >>>Problem: Rosenbrock function, Epoch: 1, Current best: 177.27050140798977, Global best: 177.27050140798977, Runtime: 0.10689 seconds\n",
      "2024/02/22 05:17:17 PM, WARNING, mealpy.evolutionary_based.GA.BaseGA: Stopping criterion with maximum running time/time bound (TB) (seconds) occurred. End program!\n",
      "2024/02/22 05:17:17 PM, INFO, mealpy.evolutionary_based.GA.BaseGA: Solving single objective optimization problem.\n",
      "2024/02/22 05:17:17 PM, INFO, mealpy.evolutionary_based.GA.BaseGA: >>>Problem: Rosenbrock function, Epoch: 1, Current best: 791.7398776156443, Global best: 791.7398776156443, Runtime: 0.10533 seconds\n",
      "2024/02/22 05:17:17 PM, WARNING, mealpy.evolutionary_based.GA.BaseGA: Stopping criterion with maximum running time/time bound (TB) (seconds) occurred. End program!\n",
      "2024/02/22 05:17:17 PM, INFO, mealpy.evolutionary_based.GA.BaseGA: Solving single objective optimization problem.\n"
     ]
    },
    {
     "name": "stdout",
     "output_type": "stream",
     "text": [
      "Algorithm: BaseGA, with params: {'epoch': 500, 'pop_size': 500, 'pc': 0.7, 'pm': 0.01}, trial: 5, best fitness: 177.27050140798977\n",
      "Algorithm: BaseGA, with params: {'epoch': 500, 'pop_size': 500, 'pc': 0.7, 'pm': 0.05}, trial: 1, best fitness: 791.7398776156443\n"
     ]
    },
    {
     "name": "stderr",
     "output_type": "stream",
     "text": [
      "2024/02/22 05:17:17 PM, INFO, mealpy.evolutionary_based.GA.BaseGA: >>>Problem: Rosenbrock function, Epoch: 1, Current best: 81.046902557299, Global best: 81.046902557299, Runtime: 0.11553 seconds\n",
      "2024/02/22 05:17:17 PM, WARNING, mealpy.evolutionary_based.GA.BaseGA: Stopping criterion with maximum running time/time bound (TB) (seconds) occurred. End program!\n",
      "2024/02/22 05:17:17 PM, INFO, mealpy.evolutionary_based.GA.BaseGA: Solving single objective optimization problem.\n",
      "2024/02/22 05:17:17 PM, INFO, mealpy.evolutionary_based.GA.BaseGA: >>>Problem: Rosenbrock function, Epoch: 1, Current best: 252.9784618070275, Global best: 252.9784618070275, Runtime: 0.10159 seconds\n",
      "2024/02/22 05:17:17 PM, WARNING, mealpy.evolutionary_based.GA.BaseGA: Stopping criterion with maximum running time/time bound (TB) (seconds) occurred. End program!\n",
      "2024/02/22 05:17:17 PM, INFO, mealpy.evolutionary_based.GA.BaseGA: Solving single objective optimization problem.\n"
     ]
    },
    {
     "name": "stdout",
     "output_type": "stream",
     "text": [
      "Algorithm: BaseGA, with params: {'epoch': 500, 'pop_size': 500, 'pc': 0.7, 'pm': 0.05}, trial: 2, best fitness: 81.046902557299\n",
      "Algorithm: BaseGA, with params: {'epoch': 500, 'pop_size': 500, 'pc': 0.7, 'pm': 0.05}, trial: 3, best fitness: 252.9784618070275\n"
     ]
    },
    {
     "name": "stderr",
     "output_type": "stream",
     "text": [
      "2024/02/22 05:17:17 PM, INFO, mealpy.evolutionary_based.GA.BaseGA: >>>Problem: Rosenbrock function, Epoch: 1, Current best: 179.57118507704178, Global best: 179.57118507704178, Runtime: 0.14311 seconds\n",
      "2024/02/22 05:17:17 PM, WARNING, mealpy.evolutionary_based.GA.BaseGA: Stopping criterion with maximum running time/time bound (TB) (seconds) occurred. End program!\n",
      "2024/02/22 05:17:17 PM, INFO, mealpy.evolutionary_based.GA.BaseGA: Solving single objective optimization problem.\n",
      "2024/02/22 05:17:18 PM, INFO, mealpy.evolutionary_based.GA.BaseGA: >>>Problem: Rosenbrock function, Epoch: 1, Current best: 339.71735443574823, Global best: 339.71735443574823, Runtime: 0.10401 seconds\n",
      "2024/02/22 05:17:18 PM, WARNING, mealpy.evolutionary_based.GA.BaseGA: Stopping criterion with maximum running time/time bound (TB) (seconds) occurred. End program!\n",
      "2024/02/22 05:17:18 PM, INFO, mealpy.evolutionary_based.GA.BaseGA: Solving single objective optimization problem.\n"
     ]
    },
    {
     "name": "stdout",
     "output_type": "stream",
     "text": [
      "Algorithm: BaseGA, with params: {'epoch': 500, 'pop_size': 500, 'pc': 0.7, 'pm': 0.05}, trial: 4, best fitness: 179.57118507704178\n",
      "Algorithm: BaseGA, with params: {'epoch': 500, 'pop_size': 500, 'pc': 0.7, 'pm': 0.05}, trial: 5, best fitness: 339.71735443574823\n"
     ]
    },
    {
     "name": "stderr",
     "output_type": "stream",
     "text": [
      "2024/02/22 05:17:18 PM, INFO, mealpy.evolutionary_based.GA.BaseGA: >>>Problem: Rosenbrock function, Epoch: 1, Current best: 385.6392596643223, Global best: 385.6392596643223, Runtime: 0.10457 seconds\n",
      "2024/02/22 05:17:18 PM, WARNING, mealpy.evolutionary_based.GA.BaseGA: Stopping criterion with maximum running time/time bound (TB) (seconds) occurred. End program!\n",
      "2024/02/22 05:17:18 PM, INFO, mealpy.evolutionary_based.GA.BaseGA: Solving single objective optimization problem.\n",
      "2024/02/22 05:17:18 PM, INFO, mealpy.evolutionary_based.GA.BaseGA: >>>Problem: Rosenbrock function, Epoch: 1, Current best: 115.99782967042695, Global best: 115.99782967042695, Runtime: 0.10361 seconds\n",
      "2024/02/22 05:17:18 PM, WARNING, mealpy.evolutionary_based.GA.BaseGA: Stopping criterion with maximum running time/time bound (TB) (seconds) occurred. End program!\n",
      "2024/02/22 05:17:18 PM, INFO, mealpy.evolutionary_based.GA.BaseGA: Solving single objective optimization problem.\n"
     ]
    },
    {
     "name": "stdout",
     "output_type": "stream",
     "text": [
      "Algorithm: BaseGA, with params: {'epoch': 500, 'pop_size': 500, 'pc': 0.7, 'pm': 0.1}, trial: 1, best fitness: 385.6392596643223\n",
      "Algorithm: BaseGA, with params: {'epoch': 500, 'pop_size': 500, 'pc': 0.7, 'pm': 0.1}, trial: 2, best fitness: 115.99782967042695\n"
     ]
    },
    {
     "name": "stderr",
     "output_type": "stream",
     "text": [
      "2024/02/22 05:17:18 PM, INFO, mealpy.evolutionary_based.GA.BaseGA: >>>Problem: Rosenbrock function, Epoch: 1, Current best: 392.1657483522763, Global best: 392.1657483522763, Runtime: 0.10389 seconds\n",
      "2024/02/22 05:17:18 PM, WARNING, mealpy.evolutionary_based.GA.BaseGA: Stopping criterion with maximum running time/time bound (TB) (seconds) occurred. End program!\n",
      "2024/02/22 05:17:18 PM, INFO, mealpy.evolutionary_based.GA.BaseGA: Solving single objective optimization problem.\n",
      "2024/02/22 05:17:18 PM, INFO, mealpy.evolutionary_based.GA.BaseGA: >>>Problem: Rosenbrock function, Epoch: 1, Current best: 56.888608758245084, Global best: 56.888608758245084, Runtime: 0.10177 seconds\n",
      "2024/02/22 05:17:18 PM, WARNING, mealpy.evolutionary_based.GA.BaseGA: Stopping criterion with maximum running time/time bound (TB) (seconds) occurred. End program!\n",
      "2024/02/22 05:17:18 PM, INFO, mealpy.evolutionary_based.GA.BaseGA: Solving single objective optimization problem.\n"
     ]
    },
    {
     "name": "stdout",
     "output_type": "stream",
     "text": [
      "Algorithm: BaseGA, with params: {'epoch': 500, 'pop_size': 500, 'pc': 0.7, 'pm': 0.1}, trial: 3, best fitness: 392.1657483522763\n",
      "Algorithm: BaseGA, with params: {'epoch': 500, 'pop_size': 500, 'pc': 0.7, 'pm': 0.1}, trial: 4, best fitness: 56.888608758245084\n"
     ]
    },
    {
     "name": "stderr",
     "output_type": "stream",
     "text": [
      "2024/02/22 05:17:18 PM, INFO, mealpy.evolutionary_based.GA.BaseGA: >>>Problem: Rosenbrock function, Epoch: 1, Current best: 47.14574622889873, Global best: 47.14574622889873, Runtime: 0.10755 seconds\n",
      "2024/02/22 05:17:18 PM, WARNING, mealpy.evolutionary_based.GA.BaseGA: Stopping criterion with maximum running time/time bound (TB) (seconds) occurred. End program!\n",
      "2024/02/22 05:17:18 PM, INFO, mealpy.evolutionary_based.GA.BaseGA: Solving single objective optimization problem.\n",
      "2024/02/22 05:17:18 PM, INFO, mealpy.evolutionary_based.GA.BaseGA: >>>Problem: Rosenbrock function, Epoch: 1, Current best: 312.74627774993195, Global best: 312.74627774993195, Runtime: 0.10119 seconds\n",
      "2024/02/22 05:17:18 PM, WARNING, mealpy.evolutionary_based.GA.BaseGA: Stopping criterion with maximum running time/time bound (TB) (seconds) occurred. End program!\n",
      "2024/02/22 05:17:18 PM, INFO, mealpy.evolutionary_based.GA.BaseGA: Solving single objective optimization problem.\n"
     ]
    },
    {
     "name": "stdout",
     "output_type": "stream",
     "text": [
      "Algorithm: BaseGA, with params: {'epoch': 500, 'pop_size': 500, 'pc': 0.7, 'pm': 0.1}, trial: 5, best fitness: 47.14574622889873\n",
      "Algorithm: BaseGA, with params: {'epoch': 500, 'pop_size': 500, 'pc': 0.7, 'pm': 0.2}, trial: 1, best fitness: 312.74627774993195\n"
     ]
    },
    {
     "name": "stderr",
     "output_type": "stream",
     "text": [
      "2024/02/22 05:17:19 PM, INFO, mealpy.evolutionary_based.GA.BaseGA: >>>Problem: Rosenbrock function, Epoch: 1, Current best: 62.367333853306846, Global best: 62.367333853306846, Runtime: 0.10473 seconds\n",
      "2024/02/22 05:17:19 PM, WARNING, mealpy.evolutionary_based.GA.BaseGA: Stopping criterion with maximum running time/time bound (TB) (seconds) occurred. End program!\n",
      "2024/02/22 05:17:19 PM, INFO, mealpy.evolutionary_based.GA.BaseGA: Solving single objective optimization problem.\n",
      "2024/02/22 05:17:19 PM, INFO, mealpy.evolutionary_based.GA.BaseGA: >>>Problem: Rosenbrock function, Epoch: 1, Current best: 277.9242169335095, Global best: 277.9242169335095, Runtime: 0.10160 seconds\n",
      "2024/02/22 05:17:19 PM, WARNING, mealpy.evolutionary_based.GA.BaseGA: Stopping criterion with maximum running time/time bound (TB) (seconds) occurred. End program!\n",
      "2024/02/22 05:17:19 PM, INFO, mealpy.evolutionary_based.GA.BaseGA: Solving single objective optimization problem.\n"
     ]
    },
    {
     "name": "stdout",
     "output_type": "stream",
     "text": [
      "Algorithm: BaseGA, with params: {'epoch': 500, 'pop_size': 500, 'pc': 0.7, 'pm': 0.2}, trial: 2, best fitness: 62.367333853306846\n",
      "Algorithm: BaseGA, with params: {'epoch': 500, 'pop_size': 500, 'pc': 0.7, 'pm': 0.2}, trial: 3, best fitness: 277.9242169335095\n"
     ]
    },
    {
     "name": "stderr",
     "output_type": "stream",
     "text": [
      "2024/02/22 05:17:19 PM, INFO, mealpy.evolutionary_based.GA.BaseGA: >>>Problem: Rosenbrock function, Epoch: 1, Current best: 58.74325850569453, Global best: 58.74325850569453, Runtime: 0.11968 seconds\n",
      "2024/02/22 05:17:19 PM, WARNING, mealpy.evolutionary_based.GA.BaseGA: Stopping criterion with maximum running time/time bound (TB) (seconds) occurred. End program!\n",
      "2024/02/22 05:17:19 PM, INFO, mealpy.evolutionary_based.GA.BaseGA: Solving single objective optimization problem.\n",
      "2024/02/22 05:17:19 PM, INFO, mealpy.evolutionary_based.GA.BaseGA: >>>Problem: Rosenbrock function, Epoch: 1, Current best: 512.3144530909714, Global best: 512.3144530909714, Runtime: 0.11172 seconds\n",
      "2024/02/22 05:17:19 PM, WARNING, mealpy.evolutionary_based.GA.BaseGA: Stopping criterion with maximum running time/time bound (TB) (seconds) occurred. End program!\n"
     ]
    },
    {
     "name": "stdout",
     "output_type": "stream",
     "text": [
      "Algorithm: BaseGA, with params: {'epoch': 500, 'pop_size': 500, 'pc': 0.7, 'pm': 0.2}, trial: 4, best fitness: 58.74325850569453\n",
      "Algorithm: BaseGA, with params: {'epoch': 500, 'pop_size': 500, 'pc': 0.7, 'pm': 0.2}, trial: 5, best fitness: 512.3144530909714\n",
      "------------------------------------\n",
      "------------------------------------\n",
      "Best parameter: {'epoch': 500, 'pop_size': 500, 'pc': 0.7, 'pm': 0.01}\n",
      "Best score: 163.4827353136259\n",
      "Best Optimizer: BaseGA(epoch=500, pop_size=500, pc=0.7, pm=0.01)\n"
     ]
    }
   ],
   "source": [
    "## Try to run this optimizer on this problem 5 times (n_trials = 5). \n",
    "## Get the best model by mean value of all trials\n",
    "tuner.execute(problem=prob, n_trials=5, termination=term)\n",
    "\n",
    "## Better to save the tunning results to CSV for later usage\n",
    "tuner.export_results()\n",
    "\n",
    "## Also better to draw the figures that are available.\n",
    "tuner.export_figures()\n",
    "\n",
    "\n",
    "print(\"------------------------------------\")\n",
    "print(\"------------------------------------\")\n",
    "## Print out the best pameters\n",
    "print(f\"Best parameter: {tuner.best_params}\")\n",
    "\n",
    "## Print out the best score of the best parameter\n",
    "print(f\"Best score: {tuner.best_score}\")\n",
    "\n",
    "## Print out the algorithm with the best parameter\n",
    "print(f\"Best Optimizer: {tuner.best_algorithm}\")"
   ]
  },
  {
   "cell_type": "code",
   "execution_count": 9,
   "metadata": {},
   "outputs": [
    {
     "name": "stdout",
     "output_type": "stream",
     "text": [
      "Best parameter: {'epoch': 500, 'pop_size': 500, 'pc': 0.7, 'pm': 0.01}\n",
      "Best score: 163.4827353136259\n",
      "Best Optimizer: BaseGA(epoch=500, pop_size=500, pc=0.7, pm=0.01)\n"
     ]
    }
   ],
   "source": [
    "## Print out the best pameters\n",
    "print(f\"Best parameter: {tuner.best_params}\")\n",
    "\n",
    "## Print out the best score of the best parameter\n",
    "print(f\"Best score: {tuner.best_score}\")\n",
    "\n",
    "## Print out the algorithm with the best parameter\n",
    "print(f\"Best Optimizer: {tuner.best_algorithm}\")"
   ]
  },
  {
   "cell_type": "code",
   "execution_count": 10,
   "metadata": {},
   "outputs": [
    {
     "data": {
      "text/plain": [
       "<mealpy.tuner.Tuner at 0x24f05f5ab90>"
      ]
     },
     "execution_count": 10,
     "metadata": {},
     "output_type": "execute_result"
    }
   ],
   "source": [
    "tuner # add . to find all the stored items"
   ]
  },
  {
   "cell_type": "code",
   "execution_count": 11,
   "metadata": {},
   "outputs": [
    {
     "name": "stderr",
     "output_type": "stream",
     "text": [
      "2024/02/22 05:21:19 PM, INFO, mealpy.evolutionary_based.GA.BaseGA: Solving single objective optimization problem.\n"
     ]
    },
    {
     "name": "stderr",
     "output_type": "stream",
     "text": [
      "2024/02/22 05:21:19 PM, INFO, mealpy.evolutionary_based.GA.BaseGA: >>>Problem: Rosenbrock function, Epoch: 1, Current best: 171.7685943626116, Global best: 171.7685943626116, Runtime: 0.11263 seconds\n",
      "2024/02/22 05:21:20 PM, INFO, mealpy.evolutionary_based.GA.BaseGA: >>>Problem: Rosenbrock function, Epoch: 2, Current best: 163.21861570879335, Global best: 163.21861570879335, Runtime: 0.10752 seconds\n",
      "2024/02/22 05:21:20 PM, INFO, mealpy.evolutionary_based.GA.BaseGA: >>>Problem: Rosenbrock function, Epoch: 3, Current best: 158.0721422083103, Global best: 158.0721422083103, Runtime: 0.10621 seconds\n",
      "2024/02/22 05:21:20 PM, INFO, mealpy.evolutionary_based.GA.BaseGA: >>>Problem: Rosenbrock function, Epoch: 4, Current best: 158.0721422083103, Global best: 158.0721422083103, Runtime: 0.10368 seconds\n",
      "2024/02/22 05:21:20 PM, INFO, mealpy.evolutionary_based.GA.BaseGA: >>>Problem: Rosenbrock function, Epoch: 5, Current best: 154.80729191422617, Global best: 154.80729191422617, Runtime: 0.10304 seconds\n",
      "2024/02/22 05:21:20 PM, INFO, mealpy.evolutionary_based.GA.BaseGA: >>>Problem: Rosenbrock function, Epoch: 6, Current best: 150.0854904593573, Global best: 150.0854904593573, Runtime: 0.10088 seconds\n",
      "2024/02/22 05:21:20 PM, INFO, mealpy.evolutionary_based.GA.BaseGA: >>>Problem: Rosenbrock function, Epoch: 7, Current best: 146.82064016527315, Global best: 146.82064016527315, Runtime: 0.10565 seconds\n",
      "2024/02/22 05:21:20 PM, INFO, mealpy.evolutionary_based.GA.BaseGA: >>>Problem: Rosenbrock function, Epoch: 8, Current best: 108.86393598607837, Global best: 108.86393598607837, Runtime: 0.10435 seconds\n",
      "2024/02/22 05:21:20 PM, INFO, mealpy.evolutionary_based.GA.BaseGA: >>>Problem: Rosenbrock function, Epoch: 9, Current best: 108.86393598607837, Global best: 108.86393598607837, Runtime: 0.10266 seconds\n",
      "2024/02/22 05:21:20 PM, INFO, mealpy.evolutionary_based.GA.BaseGA: >>>Problem: Rosenbrock function, Epoch: 10, Current best: 108.86393598607837, Global best: 108.86393598607837, Runtime: 0.10939 seconds\n",
      "2024/02/22 05:21:20 PM, INFO, mealpy.evolutionary_based.GA.BaseGA: >>>Problem: Rosenbrock function, Epoch: 11, Current best: 108.86393598607837, Global best: 108.86393598607837, Runtime: 0.10323 seconds\n",
      "2024/02/22 05:21:21 PM, INFO, mealpy.evolutionary_based.GA.BaseGA: >>>Problem: Rosenbrock function, Epoch: 12, Current best: 101.79585349443173, Global best: 101.79585349443173, Runtime: 0.10400 seconds\n",
      "2024/02/22 05:21:21 PM, INFO, mealpy.evolutionary_based.GA.BaseGA: >>>Problem: Rosenbrock function, Epoch: 13, Current best: 101.79585349443173, Global best: 101.79585349443173, Runtime: 0.10370 seconds\n",
      "2024/02/22 05:21:21 PM, INFO, mealpy.evolutionary_based.GA.BaseGA: >>>Problem: Rosenbrock function, Epoch: 14, Current best: 101.55537379974415, Global best: 101.55537379974415, Runtime: 0.10422 seconds\n",
      "2024/02/22 05:21:21 PM, INFO, mealpy.evolutionary_based.GA.BaseGA: >>>Problem: Rosenbrock function, Epoch: 15, Current best: 90.1923289011371, Global best: 90.1923289011371, Runtime: 0.10260 seconds\n",
      "2024/02/22 05:21:21 PM, INFO, mealpy.evolutionary_based.GA.BaseGA: >>>Problem: Rosenbrock function, Epoch: 16, Current best: 84.43818511877807, Global best: 84.43818511877807, Runtime: 0.12912 seconds\n",
      "2024/02/22 05:21:21 PM, INFO, mealpy.evolutionary_based.GA.BaseGA: >>>Problem: Rosenbrock function, Epoch: 17, Current best: 84.43818511877807, Global best: 84.43818511877807, Runtime: 0.12749 seconds\n",
      "2024/02/22 05:21:21 PM, INFO, mealpy.evolutionary_based.GA.BaseGA: >>>Problem: Rosenbrock function, Epoch: 18, Current best: 82.87699154446855, Global best: 82.87699154446855, Runtime: 0.10623 seconds\n",
      "2024/02/22 05:21:21 PM, INFO, mealpy.evolutionary_based.GA.BaseGA: >>>Problem: Rosenbrock function, Epoch: 19, Current best: 82.87699154446855, Global best: 82.87699154446855, Runtime: 0.10576 seconds\n",
      "2024/02/22 05:21:21 PM, INFO, mealpy.evolutionary_based.GA.BaseGA: >>>Problem: Rosenbrock function, Epoch: 20, Current best: 37.87859930592411, Global best: 37.87859930592411, Runtime: 0.10312 seconds\n",
      "2024/02/22 05:21:22 PM, INFO, mealpy.evolutionary_based.GA.BaseGA: >>>Problem: Rosenbrock function, Epoch: 21, Current best: 37.87859930592411, Global best: 37.87859930592411, Runtime: 0.10416 seconds\n",
      "2024/02/22 05:21:22 PM, INFO, mealpy.evolutionary_based.GA.BaseGA: >>>Problem: Rosenbrock function, Epoch: 22, Current best: 37.87859930592411, Global best: 37.87859930592411, Runtime: 0.11683 seconds\n",
      "2024/02/22 05:21:22 PM, INFO, mealpy.evolutionary_based.GA.BaseGA: >>>Problem: Rosenbrock function, Epoch: 23, Current best: 37.87859930592411, Global best: 37.87859930592411, Runtime: 0.10884 seconds\n",
      "2024/02/22 05:21:22 PM, INFO, mealpy.evolutionary_based.GA.BaseGA: >>>Problem: Rosenbrock function, Epoch: 24, Current best: 37.87859930592411, Global best: 37.87859930592411, Runtime: 0.10640 seconds\n",
      "2024/02/22 05:21:22 PM, INFO, mealpy.evolutionary_based.GA.BaseGA: >>>Problem: Rosenbrock function, Epoch: 25, Current best: 37.87859930592411, Global best: 37.87859930592411, Runtime: 0.11293 seconds\n",
      "2024/02/22 05:21:22 PM, INFO, mealpy.evolutionary_based.GA.BaseGA: >>>Problem: Rosenbrock function, Epoch: 26, Current best: 4.824345887770322, Global best: 4.824345887770322, Runtime: 0.10796 seconds\n",
      "2024/02/22 05:21:22 PM, INFO, mealpy.evolutionary_based.GA.BaseGA: >>>Problem: Rosenbrock function, Epoch: 27, Current best: 4.824345887770322, Global best: 4.824345887770322, Runtime: 0.10846 seconds\n",
      "2024/02/22 05:21:22 PM, INFO, mealpy.evolutionary_based.GA.BaseGA: >>>Problem: Rosenbrock function, Epoch: 28, Current best: 4.824345887770322, Global best: 4.824345887770322, Runtime: 0.11024 seconds\n",
      "2024/02/22 05:21:22 PM, INFO, mealpy.evolutionary_based.GA.BaseGA: >>>Problem: Rosenbrock function, Epoch: 29, Current best: 4.824345887770322, Global best: 4.824345887770322, Runtime: 0.10528 seconds\n",
      "2024/02/22 05:21:23 PM, INFO, mealpy.evolutionary_based.GA.BaseGA: >>>Problem: Rosenbrock function, Epoch: 30, Current best: 4.824345887770322, Global best: 4.824345887770322, Runtime: 0.10937 seconds\n",
      "2024/02/22 05:21:23 PM, INFO, mealpy.evolutionary_based.GA.BaseGA: >>>Problem: Rosenbrock function, Epoch: 31, Current best: 4.824345887770322, Global best: 4.824345887770322, Runtime: 0.10784 seconds\n",
      "2024/02/22 05:21:23 PM, INFO, mealpy.evolutionary_based.GA.BaseGA: >>>Problem: Rosenbrock function, Epoch: 32, Current best: 4.824345887770322, Global best: 4.824345887770322, Runtime: 0.10777 seconds\n",
      "2024/02/22 05:21:23 PM, INFO, mealpy.evolutionary_based.GA.BaseGA: >>>Problem: Rosenbrock function, Epoch: 33, Current best: 3.2295787149369994, Global best: 3.2295787149369994, Runtime: 0.10700 seconds\n",
      "2024/02/22 05:21:23 PM, INFO, mealpy.evolutionary_based.GA.BaseGA: >>>Problem: Rosenbrock function, Epoch: 34, Current best: 3.2295787149369994, Global best: 3.2295787149369994, Runtime: 0.11145 seconds\n",
      "2024/02/22 05:21:23 PM, INFO, mealpy.evolutionary_based.GA.BaseGA: >>>Problem: Rosenbrock function, Epoch: 35, Current best: 3.2295787149369994, Global best: 3.2295787149369994, Runtime: 0.10862 seconds\n",
      "2024/02/22 05:21:23 PM, INFO, mealpy.evolutionary_based.GA.BaseGA: >>>Problem: Rosenbrock function, Epoch: 36, Current best: 2.774566527007374, Global best: 2.774566527007374, Runtime: 0.10949 seconds\n",
      "2024/02/22 05:21:23 PM, INFO, mealpy.evolutionary_based.GA.BaseGA: >>>Problem: Rosenbrock function, Epoch: 37, Current best: 2.774566527007374, Global best: 2.774566527007374, Runtime: 0.10588 seconds\n",
      "2024/02/22 05:21:23 PM, INFO, mealpy.evolutionary_based.GA.BaseGA: >>>Problem: Rosenbrock function, Epoch: 38, Current best: 2.774566527007374, Global best: 2.774566527007374, Runtime: 0.10710 seconds\n",
      "2024/02/22 05:21:24 PM, INFO, mealpy.evolutionary_based.GA.BaseGA: >>>Problem: Rosenbrock function, Epoch: 39, Current best: 2.774566527007374, Global best: 2.774566527007374, Runtime: 0.10798 seconds\n",
      "2024/02/22 05:21:24 PM, INFO, mealpy.evolutionary_based.GA.BaseGA: >>>Problem: Rosenbrock function, Epoch: 40, Current best: 2.774566527007374, Global best: 2.774566527007374, Runtime: 0.10537 seconds\n",
      "2024/02/22 05:21:24 PM, INFO, mealpy.evolutionary_based.GA.BaseGA: >>>Problem: Rosenbrock function, Epoch: 41, Current best: 2.774566527007374, Global best: 2.774566527007374, Runtime: 0.10586 seconds\n",
      "2024/02/22 05:21:24 PM, INFO, mealpy.evolutionary_based.GA.BaseGA: >>>Problem: Rosenbrock function, Epoch: 42, Current best: 2.774566527007374, Global best: 2.774566527007374, Runtime: 0.10652 seconds\n",
      "2024/02/22 05:21:24 PM, INFO, mealpy.evolutionary_based.GA.BaseGA: >>>Problem: Rosenbrock function, Epoch: 43, Current best: 2.774566527007374, Global best: 2.774566527007374, Runtime: 0.10676 seconds\n",
      "2024/02/22 05:21:24 PM, INFO, mealpy.evolutionary_based.GA.BaseGA: >>>Problem: Rosenbrock function, Epoch: 44, Current best: 2.6455411221588863, Global best: 2.6455411221588863, Runtime: 0.11104 seconds\n",
      "2024/02/22 05:21:24 PM, INFO, mealpy.evolutionary_based.GA.BaseGA: >>>Problem: Rosenbrock function, Epoch: 45, Current best: 2.6455411221588863, Global best: 2.6455411221588863, Runtime: 0.10607 seconds\n",
      "2024/02/22 05:21:24 PM, INFO, mealpy.evolutionary_based.GA.BaseGA: >>>Problem: Rosenbrock function, Epoch: 46, Current best: 2.6455411221588863, Global best: 2.6455411221588863, Runtime: 0.11015 seconds\n",
      "2024/02/22 05:21:24 PM, INFO, mealpy.evolutionary_based.GA.BaseGA: >>>Problem: Rosenbrock function, Epoch: 47, Current best: 2.6455411221588863, Global best: 2.6455411221588863, Runtime: 0.10601 seconds\n",
      "2024/02/22 05:21:25 PM, INFO, mealpy.evolutionary_based.GA.BaseGA: >>>Problem: Rosenbrock function, Epoch: 48, Current best: 2.6455411221588863, Global best: 2.6455411221588863, Runtime: 0.11011 seconds\n",
      "2024/02/22 05:21:25 PM, INFO, mealpy.evolutionary_based.GA.BaseGA: >>>Problem: Rosenbrock function, Epoch: 49, Current best: 2.6455411221588863, Global best: 2.6455411221588863, Runtime: 0.10718 seconds\n",
      "2024/02/22 05:21:25 PM, INFO, mealpy.evolutionary_based.GA.BaseGA: >>>Problem: Rosenbrock function, Epoch: 50, Current best: 2.6455411221588863, Global best: 2.6455411221588863, Runtime: 0.10654 seconds\n",
      "2024/02/22 05:21:25 PM, INFO, mealpy.evolutionary_based.GA.BaseGA: >>>Problem: Rosenbrock function, Epoch: 51, Current best: 2.6455411221588863, Global best: 2.6455411221588863, Runtime: 0.11038 seconds\n",
      "2024/02/22 05:21:25 PM, INFO, mealpy.evolutionary_based.GA.BaseGA: >>>Problem: Rosenbrock function, Epoch: 52, Current best: 2.6455411221588863, Global best: 2.6455411221588863, Runtime: 0.10644 seconds\n",
      "2024/02/22 05:21:25 PM, INFO, mealpy.evolutionary_based.GA.BaseGA: >>>Problem: Rosenbrock function, Epoch: 53, Current best: 2.6455411221588863, Global best: 2.6455411221588863, Runtime: 0.11118 seconds\n",
      "2024/02/22 05:21:25 PM, INFO, mealpy.evolutionary_based.GA.BaseGA: >>>Problem: Rosenbrock function, Epoch: 54, Current best: 2.6455411221588863, Global best: 2.6455411221588863, Runtime: 0.10875 seconds\n",
      "2024/02/22 05:21:25 PM, INFO, mealpy.evolutionary_based.GA.BaseGA: >>>Problem: Rosenbrock function, Epoch: 55, Current best: 2.6455411221588863, Global best: 2.6455411221588863, Runtime: 0.10635 seconds\n",
      "2024/02/22 05:21:25 PM, INFO, mealpy.evolutionary_based.GA.BaseGA: >>>Problem: Rosenbrock function, Epoch: 56, Current best: 2.6455411221588863, Global best: 2.6455411221588863, Runtime: 0.10713 seconds\n",
      "2024/02/22 05:21:26 PM, INFO, mealpy.evolutionary_based.GA.BaseGA: >>>Problem: Rosenbrock function, Epoch: 57, Current best: 2.6455411221588863, Global best: 2.6455411221588863, Runtime: 0.10681 seconds\n",
      "2024/02/22 05:21:26 PM, INFO, mealpy.evolutionary_based.GA.BaseGA: >>>Problem: Rosenbrock function, Epoch: 58, Current best: 2.6455411221588863, Global best: 2.6455411221588863, Runtime: 0.10389 seconds\n",
      "2024/02/22 05:21:26 PM, INFO, mealpy.evolutionary_based.GA.BaseGA: >>>Problem: Rosenbrock function, Epoch: 59, Current best: 2.6455411221588863, Global best: 2.6455411221588863, Runtime: 0.10896 seconds\n",
      "2024/02/22 05:21:26 PM, INFO, mealpy.evolutionary_based.GA.BaseGA: >>>Problem: Rosenbrock function, Epoch: 60, Current best: 2.6455411221588863, Global best: 2.6455411221588863, Runtime: 0.10460 seconds\n",
      "2024/02/22 05:21:26 PM, INFO, mealpy.evolutionary_based.GA.BaseGA: >>>Problem: Rosenbrock function, Epoch: 61, Current best: 2.6455411221588863, Global best: 2.6455411221588863, Runtime: 0.10909 seconds\n",
      "2024/02/22 05:21:26 PM, INFO, mealpy.evolutionary_based.GA.BaseGA: >>>Problem: Rosenbrock function, Epoch: 62, Current best: 2.6455411221588863, Global best: 2.6455411221588863, Runtime: 0.11110 seconds\n",
      "2024/02/22 05:21:26 PM, INFO, mealpy.evolutionary_based.GA.BaseGA: >>>Problem: Rosenbrock function, Epoch: 63, Current best: 2.6455411221588863, Global best: 2.6455411221588863, Runtime: 0.10397 seconds\n",
      "2024/02/22 05:21:26 PM, INFO, mealpy.evolutionary_based.GA.BaseGA: >>>Problem: Rosenbrock function, Epoch: 64, Current best: 2.6455411221588863, Global best: 2.6455411221588863, Runtime: 0.13566 seconds\n",
      "2024/02/22 05:21:26 PM, INFO, mealpy.evolutionary_based.GA.BaseGA: >>>Problem: Rosenbrock function, Epoch: 65, Current best: 2.6455411221588863, Global best: 2.6455411221588863, Runtime: 0.11450 seconds\n",
      "2024/02/22 05:21:27 PM, INFO, mealpy.evolutionary_based.GA.BaseGA: >>>Problem: Rosenbrock function, Epoch: 66, Current best: 2.6455411221588863, Global best: 2.6455411221588863, Runtime: 0.10593 seconds\n",
      "2024/02/22 05:21:27 PM, INFO, mealpy.evolutionary_based.GA.BaseGA: >>>Problem: Rosenbrock function, Epoch: 67, Current best: 2.6455411221588863, Global best: 2.6455411221588863, Runtime: 0.10445 seconds\n",
      "2024/02/22 05:21:27 PM, INFO, mealpy.evolutionary_based.GA.BaseGA: >>>Problem: Rosenbrock function, Epoch: 68, Current best: 2.6455411221588863, Global best: 2.6455411221588863, Runtime: 0.10277 seconds\n",
      "2024/02/22 05:21:27 PM, INFO, mealpy.evolutionary_based.GA.BaseGA: >>>Problem: Rosenbrock function, Epoch: 69, Current best: 2.6455411221588863, Global best: 2.6455411221588863, Runtime: 0.10234 seconds\n",
      "2024/02/22 05:21:27 PM, INFO, mealpy.evolutionary_based.GA.BaseGA: >>>Problem: Rosenbrock function, Epoch: 70, Current best: 2.631282652175192, Global best: 2.631282652175192, Runtime: 0.10121 seconds\n",
      "2024/02/22 05:21:27 PM, INFO, mealpy.evolutionary_based.GA.BaseGA: >>>Problem: Rosenbrock function, Epoch: 71, Current best: 2.631282652175192, Global best: 2.631282652175192, Runtime: 0.10401 seconds\n",
      "2024/02/22 05:21:27 PM, INFO, mealpy.evolutionary_based.GA.BaseGA: >>>Problem: Rosenbrock function, Epoch: 72, Current best: 1.6631878977913448, Global best: 1.6631878977913448, Runtime: 0.10233 seconds\n",
      "2024/02/22 05:21:27 PM, INFO, mealpy.evolutionary_based.GA.BaseGA: >>>Problem: Rosenbrock function, Epoch: 73, Current best: 1.6618886745982, Global best: 1.6618886745982, Runtime: 0.10548 seconds\n",
      "2024/02/22 05:21:27 PM, INFO, mealpy.evolutionary_based.GA.BaseGA: >>>Problem: Rosenbrock function, Epoch: 74, Current best: 1.6618886745982, Global best: 1.6618886745982, Runtime: 0.10163 seconds\n",
      "2024/02/22 05:21:27 PM, INFO, mealpy.evolutionary_based.GA.BaseGA: >>>Problem: Rosenbrock function, Epoch: 75, Current best: 1.6618886745982, Global best: 1.6618886745982, Runtime: 0.10240 seconds\n",
      "2024/02/22 05:21:28 PM, INFO, mealpy.evolutionary_based.GA.BaseGA: >>>Problem: Rosenbrock function, Epoch: 76, Current best: 1.6618886745982, Global best: 1.6618886745982, Runtime: 0.10190 seconds\n",
      "2024/02/22 05:21:28 PM, INFO, mealpy.evolutionary_based.GA.BaseGA: >>>Problem: Rosenbrock function, Epoch: 77, Current best: 1.6618886745982, Global best: 1.6618886745982, Runtime: 0.10068 seconds\n",
      "2024/02/22 05:21:28 PM, INFO, mealpy.evolutionary_based.GA.BaseGA: >>>Problem: Rosenbrock function, Epoch: 78, Current best: 1.6618886745982, Global best: 1.6618886745982, Runtime: 0.10236 seconds\n",
      "2024/02/22 05:21:28 PM, INFO, mealpy.evolutionary_based.GA.BaseGA: >>>Problem: Rosenbrock function, Epoch: 79, Current best: 1.6618886745982, Global best: 1.6618886745982, Runtime: 0.10330 seconds\n",
      "2024/02/22 05:21:28 PM, INFO, mealpy.evolutionary_based.GA.BaseGA: >>>Problem: Rosenbrock function, Epoch: 80, Current best: 1.6618886745982, Global best: 1.6618886745982, Runtime: 0.10051 seconds\n",
      "2024/02/22 05:21:28 PM, INFO, mealpy.evolutionary_based.GA.BaseGA: >>>Problem: Rosenbrock function, Epoch: 81, Current best: 1.6618886745982, Global best: 1.6618886745982, Runtime: 0.10381 seconds\n",
      "2024/02/22 05:21:28 PM, INFO, mealpy.evolutionary_based.GA.BaseGA: >>>Problem: Rosenbrock function, Epoch: 82, Current best: 1.6618886745982, Global best: 1.6618886745982, Runtime: 0.10043 seconds\n",
      "2024/02/22 05:21:28 PM, INFO, mealpy.evolutionary_based.GA.BaseGA: >>>Problem: Rosenbrock function, Epoch: 83, Current best: 1.6618886745982, Global best: 1.6618886745982, Runtime: 0.10181 seconds\n",
      "2024/02/22 05:21:28 PM, INFO, mealpy.evolutionary_based.GA.BaseGA: >>>Problem: Rosenbrock function, Epoch: 84, Current best: 1.6618886745982, Global best: 1.6618886745982, Runtime: 0.10209 seconds\n",
      "2024/02/22 05:21:29 PM, INFO, mealpy.evolutionary_based.GA.BaseGA: >>>Problem: Rosenbrock function, Epoch: 85, Current best: 1.6618886745982, Global best: 1.6618886745982, Runtime: 0.10090 seconds\n",
      "2024/02/22 05:21:29 PM, INFO, mealpy.evolutionary_based.GA.BaseGA: >>>Problem: Rosenbrock function, Epoch: 86, Current best: 1.6618886745982, Global best: 1.6618886745982, Runtime: 0.10112 seconds\n",
      "2024/02/22 05:21:29 PM, INFO, mealpy.evolutionary_based.GA.BaseGA: >>>Problem: Rosenbrock function, Epoch: 87, Current best: 1.6618886745982, Global best: 1.6618886745982, Runtime: 0.10112 seconds\n",
      "2024/02/22 05:21:29 PM, INFO, mealpy.evolutionary_based.GA.BaseGA: >>>Problem: Rosenbrock function, Epoch: 88, Current best: 1.6618886745982, Global best: 1.6618886745982, Runtime: 0.10069 seconds\n",
      "2024/02/22 05:21:29 PM, INFO, mealpy.evolutionary_based.GA.BaseGA: >>>Problem: Rosenbrock function, Epoch: 89, Current best: 1.6618886745982, Global best: 1.6618886745982, Runtime: 0.09988 seconds\n",
      "2024/02/22 05:21:29 PM, INFO, mealpy.evolutionary_based.GA.BaseGA: >>>Problem: Rosenbrock function, Epoch: 90, Current best: 1.6618886745982, Global best: 1.6618886745982, Runtime: 0.09981 seconds\n",
      "2024/02/22 05:21:29 PM, INFO, mealpy.evolutionary_based.GA.BaseGA: >>>Problem: Rosenbrock function, Epoch: 91, Current best: 1.6618886745982, Global best: 1.6618886745982, Runtime: 0.10365 seconds\n",
      "2024/02/22 05:21:29 PM, INFO, mealpy.evolutionary_based.GA.BaseGA: >>>Problem: Rosenbrock function, Epoch: 92, Current best: 1.6618886745982, Global best: 1.6618886745982, Runtime: 0.10453 seconds\n",
      "2024/02/22 05:21:29 PM, INFO, mealpy.evolutionary_based.GA.BaseGA: >>>Problem: Rosenbrock function, Epoch: 93, Current best: 1.6618886745982, Global best: 1.6618886745982, Runtime: 0.10217 seconds\n",
      "2024/02/22 05:21:29 PM, INFO, mealpy.evolutionary_based.GA.BaseGA: >>>Problem: Rosenbrock function, Epoch: 94, Current best: 1.6618886745982, Global best: 1.6618886745982, Runtime: 0.10119 seconds\n",
      "2024/02/22 05:21:30 PM, INFO, mealpy.evolutionary_based.GA.BaseGA: >>>Problem: Rosenbrock function, Epoch: 95, Current best: 1.6618886745982, Global best: 1.6618886745982, Runtime: 0.09974 seconds\n",
      "2024/02/22 05:21:30 PM, INFO, mealpy.evolutionary_based.GA.BaseGA: >>>Problem: Rosenbrock function, Epoch: 96, Current best: 1.6618886745982, Global best: 1.6618886745982, Runtime: 0.10210 seconds\n",
      "2024/02/22 05:21:30 PM, INFO, mealpy.evolutionary_based.GA.BaseGA: >>>Problem: Rosenbrock function, Epoch: 97, Current best: 1.6618886745982, Global best: 1.6618886745982, Runtime: 0.10000 seconds\n",
      "2024/02/22 05:21:30 PM, INFO, mealpy.evolutionary_based.GA.BaseGA: >>>Problem: Rosenbrock function, Epoch: 98, Current best: 1.6618886745982, Global best: 1.6618886745982, Runtime: 0.10079 seconds\n",
      "2024/02/22 05:21:30 PM, INFO, mealpy.evolutionary_based.GA.BaseGA: >>>Problem: Rosenbrock function, Epoch: 99, Current best: 1.6618886745982, Global best: 1.6618886745982, Runtime: 0.10114 seconds\n",
      "2024/02/22 05:21:30 PM, INFO, mealpy.evolutionary_based.GA.BaseGA: >>>Problem: Rosenbrock function, Epoch: 100, Current best: 1.6618886745982, Global best: 1.6618886745982, Runtime: 0.10264 seconds\n",
      "2024/02/22 05:21:30 PM, INFO, mealpy.evolutionary_based.GA.BaseGA: >>>Problem: Rosenbrock function, Epoch: 101, Current best: 1.6618886745982, Global best: 1.6618886745982, Runtime: 0.10414 seconds\n",
      "2024/02/22 05:21:30 PM, INFO, mealpy.evolutionary_based.GA.BaseGA: >>>Problem: Rosenbrock function, Epoch: 102, Current best: 1.6618886745982, Global best: 1.6618886745982, Runtime: 0.10446 seconds\n",
      "2024/02/22 05:21:30 PM, INFO, mealpy.evolutionary_based.GA.BaseGA: >>>Problem: Rosenbrock function, Epoch: 103, Current best: 1.6618886745982, Global best: 1.6618886745982, Runtime: 0.10253 seconds\n",
      "2024/02/22 05:21:30 PM, INFO, mealpy.evolutionary_based.GA.BaseGA: >>>Problem: Rosenbrock function, Epoch: 104, Current best: 1.6618886745982, Global best: 1.6618886745982, Runtime: 0.10065 seconds\n",
      "2024/02/22 05:21:31 PM, INFO, mealpy.evolutionary_based.GA.BaseGA: >>>Problem: Rosenbrock function, Epoch: 105, Current best: 1.15120417189083, Global best: 1.15120417189083, Runtime: 0.10016 seconds\n",
      "2024/02/22 05:21:31 PM, INFO, mealpy.evolutionary_based.GA.BaseGA: >>>Problem: Rosenbrock function, Epoch: 106, Current best: 1.15120417189083, Global best: 1.15120417189083, Runtime: 0.10309 seconds\n",
      "2024/02/22 05:21:31 PM, INFO, mealpy.evolutionary_based.GA.BaseGA: >>>Problem: Rosenbrock function, Epoch: 107, Current best: 1.15120417189083, Global best: 1.15120417189083, Runtime: 0.11162 seconds\n",
      "2024/02/22 05:21:31 PM, INFO, mealpy.evolutionary_based.GA.BaseGA: >>>Problem: Rosenbrock function, Epoch: 108, Current best: 1.15120417189083, Global best: 1.15120417189083, Runtime: 0.11244 seconds\n",
      "2024/02/22 05:21:31 PM, INFO, mealpy.evolutionary_based.GA.BaseGA: >>>Problem: Rosenbrock function, Epoch: 109, Current best: 1.15120417189083, Global best: 1.15120417189083, Runtime: 0.11124 seconds\n",
      "2024/02/22 05:21:31 PM, INFO, mealpy.evolutionary_based.GA.BaseGA: >>>Problem: Rosenbrock function, Epoch: 110, Current best: 1.15120417189083, Global best: 1.15120417189083, Runtime: 0.12402 seconds\n",
      "2024/02/22 05:21:31 PM, INFO, mealpy.evolutionary_based.GA.BaseGA: >>>Problem: Rosenbrock function, Epoch: 111, Current best: 1.15120417189083, Global best: 1.15120417189083, Runtime: 0.11327 seconds\n",
      "2024/02/22 05:21:31 PM, INFO, mealpy.evolutionary_based.GA.BaseGA: >>>Problem: Rosenbrock function, Epoch: 112, Current best: 1.15120417189083, Global best: 1.15120417189083, Runtime: 0.11719 seconds\n",
      "2024/02/22 05:21:31 PM, INFO, mealpy.evolutionary_based.GA.BaseGA: >>>Problem: Rosenbrock function, Epoch: 113, Current best: 1.15120417189083, Global best: 1.15120417189083, Runtime: 0.10151 seconds\n",
      "2024/02/22 05:21:32 PM, INFO, mealpy.evolutionary_based.GA.BaseGA: >>>Problem: Rosenbrock function, Epoch: 114, Current best: 1.15120417189083, Global best: 1.15120417189083, Runtime: 0.10527 seconds\n",
      "2024/02/22 05:21:32 PM, INFO, mealpy.evolutionary_based.GA.BaseGA: >>>Problem: Rosenbrock function, Epoch: 115, Current best: 1.15120417189083, Global best: 1.15120417189083, Runtime: 0.10442 seconds\n",
      "2024/02/22 05:21:32 PM, INFO, mealpy.evolutionary_based.GA.BaseGA: >>>Problem: Rosenbrock function, Epoch: 116, Current best: 1.15120417189083, Global best: 1.15120417189083, Runtime: 0.10171 seconds\n",
      "2024/02/22 05:21:32 PM, INFO, mealpy.evolutionary_based.GA.BaseGA: >>>Problem: Rosenbrock function, Epoch: 117, Current best: 1.15120417189083, Global best: 1.15120417189083, Runtime: 0.10412 seconds\n",
      "2024/02/22 05:21:32 PM, INFO, mealpy.evolutionary_based.GA.BaseGA: >>>Problem: Rosenbrock function, Epoch: 118, Current best: 1.15120417189083, Global best: 1.15120417189083, Runtime: 0.10732 seconds\n",
      "2024/02/22 05:21:32 PM, INFO, mealpy.evolutionary_based.GA.BaseGA: >>>Problem: Rosenbrock function, Epoch: 119, Current best: 1.15120417189083, Global best: 1.15120417189083, Runtime: 0.10654 seconds\n",
      "2024/02/22 05:21:32 PM, INFO, mealpy.evolutionary_based.GA.BaseGA: >>>Problem: Rosenbrock function, Epoch: 120, Current best: 1.15120417189083, Global best: 1.15120417189083, Runtime: 0.11465 seconds\n",
      "2024/02/22 05:21:32 PM, INFO, mealpy.evolutionary_based.GA.BaseGA: >>>Problem: Rosenbrock function, Epoch: 121, Current best: 1.15120417189083, Global best: 1.15120417189083, Runtime: 0.10922 seconds\n",
      "2024/02/22 05:21:32 PM, INFO, mealpy.evolutionary_based.GA.BaseGA: >>>Problem: Rosenbrock function, Epoch: 122, Current best: 1.15120417189083, Global best: 1.15120417189083, Runtime: 0.10442 seconds\n",
      "2024/02/22 05:21:33 PM, INFO, mealpy.evolutionary_based.GA.BaseGA: >>>Problem: Rosenbrock function, Epoch: 123, Current best: 1.15120417189083, Global best: 1.15120417189083, Runtime: 0.10718 seconds\n",
      "2024/02/22 05:21:33 PM, INFO, mealpy.evolutionary_based.GA.BaseGA: >>>Problem: Rosenbrock function, Epoch: 124, Current best: 1.15120417189083, Global best: 1.15120417189083, Runtime: 0.10545 seconds\n",
      "2024/02/22 05:21:33 PM, INFO, mealpy.evolutionary_based.GA.BaseGA: >>>Problem: Rosenbrock function, Epoch: 125, Current best: 1.15120417189083, Global best: 1.15120417189083, Runtime: 0.10645 seconds\n",
      "2024/02/22 05:21:33 PM, INFO, mealpy.evolutionary_based.GA.BaseGA: >>>Problem: Rosenbrock function, Epoch: 126, Current best: 1.15120417189083, Global best: 1.15120417189083, Runtime: 0.10893 seconds\n",
      "2024/02/22 05:21:33 PM, INFO, mealpy.evolutionary_based.GA.BaseGA: >>>Problem: Rosenbrock function, Epoch: 127, Current best: 1.15120417189083, Global best: 1.15120417189083, Runtime: 0.10780 seconds\n",
      "2024/02/22 05:21:33 PM, INFO, mealpy.evolutionary_based.GA.BaseGA: >>>Problem: Rosenbrock function, Epoch: 128, Current best: 1.15120417189083, Global best: 1.15120417189083, Runtime: 0.10635 seconds\n",
      "2024/02/22 05:21:33 PM, INFO, mealpy.evolutionary_based.GA.BaseGA: >>>Problem: Rosenbrock function, Epoch: 129, Current best: 1.15120417189083, Global best: 1.15120417189083, Runtime: 0.11042 seconds\n",
      "2024/02/22 05:21:33 PM, INFO, mealpy.evolutionary_based.GA.BaseGA: >>>Problem: Rosenbrock function, Epoch: 130, Current best: 1.15120417189083, Global best: 1.15120417189083, Runtime: 0.10629 seconds\n",
      "2024/02/22 05:21:33 PM, INFO, mealpy.evolutionary_based.GA.BaseGA: >>>Problem: Rosenbrock function, Epoch: 131, Current best: 1.15120417189083, Global best: 1.15120417189083, Runtime: 0.10817 seconds\n",
      "2024/02/22 05:21:34 PM, INFO, mealpy.evolutionary_based.GA.BaseGA: >>>Problem: Rosenbrock function, Epoch: 132, Current best: 1.15120417189083, Global best: 1.15120417189083, Runtime: 0.10619 seconds\n",
      "2024/02/22 05:21:34 PM, INFO, mealpy.evolutionary_based.GA.BaseGA: >>>Problem: Rosenbrock function, Epoch: 133, Current best: 1.15120417189083, Global best: 1.15120417189083, Runtime: 0.10673 seconds\n",
      "2024/02/22 05:21:34 PM, INFO, mealpy.evolutionary_based.GA.BaseGA: >>>Problem: Rosenbrock function, Epoch: 134, Current best: 1.15120417189083, Global best: 1.15120417189083, Runtime: 0.10675 seconds\n",
      "2024/02/22 05:21:34 PM, INFO, mealpy.evolutionary_based.GA.BaseGA: >>>Problem: Rosenbrock function, Epoch: 135, Current best: 1.15120417189083, Global best: 1.15120417189083, Runtime: 0.10719 seconds\n",
      "2024/02/22 05:21:34 PM, INFO, mealpy.evolutionary_based.GA.BaseGA: >>>Problem: Rosenbrock function, Epoch: 136, Current best: 1.15120417189083, Global best: 1.15120417189083, Runtime: 0.10689 seconds\n",
      "2024/02/22 05:21:34 PM, INFO, mealpy.evolutionary_based.GA.BaseGA: >>>Problem: Rosenbrock function, Epoch: 137, Current best: 1.15120417189083, Global best: 1.15120417189083, Runtime: 0.10705 seconds\n",
      "2024/02/22 05:21:34 PM, INFO, mealpy.evolutionary_based.GA.BaseGA: >>>Problem: Rosenbrock function, Epoch: 138, Current best: 1.15120417189083, Global best: 1.15120417189083, Runtime: 0.10954 seconds\n",
      "2024/02/22 05:21:34 PM, INFO, mealpy.evolutionary_based.GA.BaseGA: >>>Problem: Rosenbrock function, Epoch: 139, Current best: 1.15120417189083, Global best: 1.15120417189083, Runtime: 0.10679 seconds\n",
      "2024/02/22 05:21:34 PM, INFO, mealpy.evolutionary_based.GA.BaseGA: >>>Problem: Rosenbrock function, Epoch: 140, Current best: 1.15120417189083, Global best: 1.15120417189083, Runtime: 0.10824 seconds\n",
      "2024/02/22 05:21:35 PM, INFO, mealpy.evolutionary_based.GA.BaseGA: >>>Problem: Rosenbrock function, Epoch: 141, Current best: 1.15120417189083, Global best: 1.15120417189083, Runtime: 0.10494 seconds\n",
      "2024/02/22 05:21:37 PM, INFO, mealpy.evolutionary_based.GA.BaseGA: >>>Problem: Rosenbrock function, Epoch: 142, Current best: 1.15120417189083, Global best: 1.15120417189083, Runtime: 2.18664 seconds\n",
      "2024/02/22 05:21:37 PM, INFO, mealpy.evolutionary_based.GA.BaseGA: >>>Problem: Rosenbrock function, Epoch: 143, Current best: 1.15120417189083, Global best: 1.15120417189083, Runtime: 0.10853 seconds\n",
      "2024/02/22 05:21:37 PM, INFO, mealpy.evolutionary_based.GA.BaseGA: >>>Problem: Rosenbrock function, Epoch: 144, Current best: 0.7860140805517791, Global best: 0.7860140805517791, Runtime: 0.11512 seconds\n",
      "2024/02/22 05:21:37 PM, INFO, mealpy.evolutionary_based.GA.BaseGA: >>>Problem: Rosenbrock function, Epoch: 145, Current best: 0.7860140805517791, Global best: 0.7860140805517791, Runtime: 0.11763 seconds\n",
      "2024/02/22 05:21:37 PM, INFO, mealpy.evolutionary_based.GA.BaseGA: >>>Problem: Rosenbrock function, Epoch: 146, Current best: 0.49393389705296376, Global best: 0.49393389705296376, Runtime: 0.11413 seconds\n",
      "2024/02/22 05:21:37 PM, INFO, mealpy.evolutionary_based.GA.BaseGA: >>>Problem: Rosenbrock function, Epoch: 147, Current best: 0.49393389705296376, Global best: 0.49393389705296376, Runtime: 0.10317 seconds\n",
      "2024/02/22 05:21:37 PM, INFO, mealpy.evolutionary_based.GA.BaseGA: >>>Problem: Rosenbrock function, Epoch: 148, Current best: 0.49393389705296376, Global best: 0.49393389705296376, Runtime: 0.10628 seconds\n",
      "2024/02/22 05:21:37 PM, INFO, mealpy.evolutionary_based.GA.BaseGA: >>>Problem: Rosenbrock function, Epoch: 149, Current best: 0.49393389705296376, Global best: 0.49393389705296376, Runtime: 0.09973 seconds\n",
      "2024/02/22 05:21:38 PM, INFO, mealpy.evolutionary_based.GA.BaseGA: >>>Problem: Rosenbrock function, Epoch: 150, Current best: 0.49393389705296376, Global best: 0.49393389705296376, Runtime: 0.10041 seconds\n",
      "2024/02/22 05:21:38 PM, INFO, mealpy.evolutionary_based.GA.BaseGA: >>>Problem: Rosenbrock function, Epoch: 151, Current best: 0.49393389705296376, Global best: 0.49393389705296376, Runtime: 0.09934 seconds\n",
      "2024/02/22 05:21:38 PM, INFO, mealpy.evolutionary_based.GA.BaseGA: >>>Problem: Rosenbrock function, Epoch: 152, Current best: 0.49393389705296376, Global best: 0.49393389705296376, Runtime: 0.09903 seconds\n",
      "2024/02/22 05:21:38 PM, INFO, mealpy.evolutionary_based.GA.BaseGA: >>>Problem: Rosenbrock function, Epoch: 153, Current best: 0.49393389705296376, Global best: 0.49393389705296376, Runtime: 0.10118 seconds\n",
      "2024/02/22 05:21:38 PM, INFO, mealpy.evolutionary_based.GA.BaseGA: >>>Problem: Rosenbrock function, Epoch: 154, Current best: 0.49393389705296376, Global best: 0.49393389705296376, Runtime: 0.09910 seconds\n",
      "2024/02/22 05:21:38 PM, INFO, mealpy.evolutionary_based.GA.BaseGA: >>>Problem: Rosenbrock function, Epoch: 155, Current best: 0.49393389705296376, Global best: 0.49393389705296376, Runtime: 0.10039 seconds\n",
      "2024/02/22 05:21:38 PM, INFO, mealpy.evolutionary_based.GA.BaseGA: >>>Problem: Rosenbrock function, Epoch: 156, Current best: 0.49393389705296376, Global best: 0.49393389705296376, Runtime: 0.09981 seconds\n",
      "2024/02/22 05:21:38 PM, INFO, mealpy.evolutionary_based.GA.BaseGA: >>>Problem: Rosenbrock function, Epoch: 157, Current best: 0.49393389705296376, Global best: 0.49393389705296376, Runtime: 0.10219 seconds\n",
      "2024/02/22 05:21:38 PM, INFO, mealpy.evolutionary_based.GA.BaseGA: >>>Problem: Rosenbrock function, Epoch: 158, Current best: 0.49393389705296376, Global best: 0.49393389705296376, Runtime: 0.10003 seconds\n",
      "2024/02/22 05:21:38 PM, INFO, mealpy.evolutionary_based.GA.BaseGA: >>>Problem: Rosenbrock function, Epoch: 159, Current best: 0.40681434192017313, Global best: 0.40681434192017313, Runtime: 0.10014 seconds\n",
      "2024/02/22 05:21:39 PM, INFO, mealpy.evolutionary_based.GA.BaseGA: >>>Problem: Rosenbrock function, Epoch: 160, Current best: 0.40681434192017313, Global best: 0.40681434192017313, Runtime: 0.09913 seconds\n",
      "2024/02/22 05:21:39 PM, INFO, mealpy.evolutionary_based.GA.BaseGA: >>>Problem: Rosenbrock function, Epoch: 161, Current best: 0.40681434192017313, Global best: 0.40681434192017313, Runtime: 0.10229 seconds\n",
      "2024/02/22 05:21:39 PM, INFO, mealpy.evolutionary_based.GA.BaseGA: >>>Problem: Rosenbrock function, Epoch: 162, Current best: 0.40681434192017313, Global best: 0.40681434192017313, Runtime: 0.10027 seconds\n",
      "2024/02/22 05:21:39 PM, INFO, mealpy.evolutionary_based.GA.BaseGA: >>>Problem: Rosenbrock function, Epoch: 163, Current best: 0.40681434192017313, Global best: 0.40681434192017313, Runtime: 0.09802 seconds\n",
      "2024/02/22 05:21:39 PM, INFO, mealpy.evolutionary_based.GA.BaseGA: >>>Problem: Rosenbrock function, Epoch: 164, Current best: 0.40681434192017313, Global best: 0.40681434192017313, Runtime: 0.10004 seconds\n",
      "2024/02/22 05:21:39 PM, INFO, mealpy.evolutionary_based.GA.BaseGA: >>>Problem: Rosenbrock function, Epoch: 165, Current best: 0.40681434192017313, Global best: 0.40681434192017313, Runtime: 0.10004 seconds\n",
      "2024/02/22 05:21:39 PM, INFO, mealpy.evolutionary_based.GA.BaseGA: >>>Problem: Rosenbrock function, Epoch: 166, Current best: 0.40681434192017313, Global best: 0.40681434192017313, Runtime: 0.10286 seconds\n",
      "2024/02/22 05:21:39 PM, INFO, mealpy.evolutionary_based.GA.BaseGA: >>>Problem: Rosenbrock function, Epoch: 167, Current best: 0.40681434192017313, Global best: 0.40681434192017313, Runtime: 0.10037 seconds\n",
      "2024/02/22 05:21:39 PM, INFO, mealpy.evolutionary_based.GA.BaseGA: >>>Problem: Rosenbrock function, Epoch: 168, Current best: 0.40681434192017313, Global best: 0.40681434192017313, Runtime: 0.10175 seconds\n",
      "2024/02/22 05:21:40 PM, INFO, mealpy.evolutionary_based.GA.BaseGA: >>>Problem: Rosenbrock function, Epoch: 169, Current best: 0.40681434192017313, Global best: 0.40681434192017313, Runtime: 0.10112 seconds\n",
      "2024/02/22 05:21:40 PM, INFO, mealpy.evolutionary_based.GA.BaseGA: >>>Problem: Rosenbrock function, Epoch: 170, Current best: 0.40681434192017313, Global best: 0.40681434192017313, Runtime: 0.09956 seconds\n",
      "2024/02/22 05:21:40 PM, INFO, mealpy.evolutionary_based.GA.BaseGA: >>>Problem: Rosenbrock function, Epoch: 171, Current best: 0.40681434192017313, Global best: 0.40681434192017313, Runtime: 0.09863 seconds\n",
      "2024/02/22 05:21:40 PM, INFO, mealpy.evolutionary_based.GA.BaseGA: >>>Problem: Rosenbrock function, Epoch: 172, Current best: 0.40681434192017313, Global best: 0.40681434192017313, Runtime: 0.09985 seconds\n",
      "2024/02/22 05:21:40 PM, INFO, mealpy.evolutionary_based.GA.BaseGA: >>>Problem: Rosenbrock function, Epoch: 173, Current best: 0.40681434192017313, Global best: 0.40681434192017313, Runtime: 0.10050 seconds\n",
      "2024/02/22 05:21:40 PM, INFO, mealpy.evolutionary_based.GA.BaseGA: >>>Problem: Rosenbrock function, Epoch: 174, Current best: 0.40681434192017313, Global best: 0.40681434192017313, Runtime: 0.10016 seconds\n",
      "2024/02/22 05:21:40 PM, INFO, mealpy.evolutionary_based.GA.BaseGA: >>>Problem: Rosenbrock function, Epoch: 175, Current best: 0.40681434192017313, Global best: 0.40681434192017313, Runtime: 0.10007 seconds\n",
      "2024/02/22 05:21:40 PM, INFO, mealpy.evolutionary_based.GA.BaseGA: >>>Problem: Rosenbrock function, Epoch: 176, Current best: 0.40681434192017313, Global best: 0.40681434192017313, Runtime: 0.10140 seconds\n",
      "2024/02/22 05:21:40 PM, INFO, mealpy.evolutionary_based.GA.BaseGA: >>>Problem: Rosenbrock function, Epoch: 177, Current best: 0.40681434192017313, Global best: 0.40681434192017313, Runtime: 0.10242 seconds\n",
      "2024/02/22 05:21:40 PM, INFO, mealpy.evolutionary_based.GA.BaseGA: >>>Problem: Rosenbrock function, Epoch: 178, Current best: 0.40681434192017313, Global best: 0.40681434192017313, Runtime: 0.10083 seconds\n",
      "2024/02/22 05:21:41 PM, INFO, mealpy.evolutionary_based.GA.BaseGA: >>>Problem: Rosenbrock function, Epoch: 179, Current best: 0.40681434192017313, Global best: 0.40681434192017313, Runtime: 0.10178 seconds\n",
      "2024/02/22 05:21:41 PM, INFO, mealpy.evolutionary_based.GA.BaseGA: >>>Problem: Rosenbrock function, Epoch: 180, Current best: 0.40681434192017313, Global best: 0.40681434192017313, Runtime: 0.09838 seconds\n",
      "2024/02/22 05:21:41 PM, INFO, mealpy.evolutionary_based.GA.BaseGA: >>>Problem: Rosenbrock function, Epoch: 181, Current best: 0.40681434192017313, Global best: 0.40681434192017313, Runtime: 0.10052 seconds\n",
      "2024/02/22 05:21:41 PM, INFO, mealpy.evolutionary_based.GA.BaseGA: >>>Problem: Rosenbrock function, Epoch: 182, Current best: 0.40681434192017313, Global best: 0.40681434192017313, Runtime: 0.10165 seconds\n",
      "2024/02/22 05:21:41 PM, INFO, mealpy.evolutionary_based.GA.BaseGA: >>>Problem: Rosenbrock function, Epoch: 183, Current best: 0.40681434192017313, Global best: 0.40681434192017313, Runtime: 0.09929 seconds\n",
      "2024/02/22 05:21:41 PM, INFO, mealpy.evolutionary_based.GA.BaseGA: >>>Problem: Rosenbrock function, Epoch: 184, Current best: 0.40681434192017313, Global best: 0.40681434192017313, Runtime: 0.11456 seconds\n",
      "2024/02/22 05:21:41 PM, INFO, mealpy.evolutionary_based.GA.BaseGA: >>>Problem: Rosenbrock function, Epoch: 185, Current best: 0.40681434192017313, Global best: 0.40681434192017313, Runtime: 0.11606 seconds\n",
      "2024/02/22 05:21:41 PM, INFO, mealpy.evolutionary_based.GA.BaseGA: >>>Problem: Rosenbrock function, Epoch: 186, Current best: 0.40681434192017313, Global best: 0.40681434192017313, Runtime: 0.11172 seconds\n",
      "2024/02/22 05:21:41 PM, INFO, mealpy.evolutionary_based.GA.BaseGA: >>>Problem: Rosenbrock function, Epoch: 187, Current best: 0.40681434192017313, Global best: 0.40681434192017313, Runtime: 0.10285 seconds\n",
      "2024/02/22 05:21:41 PM, INFO, mealpy.evolutionary_based.GA.BaseGA: >>>Problem: Rosenbrock function, Epoch: 188, Current best: 0.40681434192017313, Global best: 0.40681434192017313, Runtime: 0.09988 seconds\n",
      "2024/02/22 05:21:42 PM, INFO, mealpy.evolutionary_based.GA.BaseGA: >>>Problem: Rosenbrock function, Epoch: 189, Current best: 0.40681434192017313, Global best: 0.40681434192017313, Runtime: 0.10093 seconds\n",
      "2024/02/22 05:21:42 PM, INFO, mealpy.evolutionary_based.GA.BaseGA: >>>Problem: Rosenbrock function, Epoch: 190, Current best: 0.40681434192017313, Global best: 0.40681434192017313, Runtime: 0.10033 seconds\n",
      "2024/02/22 05:21:42 PM, INFO, mealpy.evolutionary_based.GA.BaseGA: >>>Problem: Rosenbrock function, Epoch: 191, Current best: 0.30403330395164024, Global best: 0.30403330395164024, Runtime: 0.10006 seconds\n",
      "2024/02/22 05:21:42 PM, INFO, mealpy.evolutionary_based.GA.BaseGA: >>>Problem: Rosenbrock function, Epoch: 192, Current best: 0.30403330395164024, Global best: 0.30403330395164024, Runtime: 0.15433 seconds\n",
      "2024/02/22 05:21:42 PM, INFO, mealpy.evolutionary_based.GA.BaseGA: >>>Problem: Rosenbrock function, Epoch: 193, Current best: 0.30403330395164024, Global best: 0.30403330395164024, Runtime: 0.10000 seconds\n",
      "2024/02/22 05:21:42 PM, INFO, mealpy.evolutionary_based.GA.BaseGA: >>>Problem: Rosenbrock function, Epoch: 194, Current best: 0.30403330395164024, Global best: 0.30403330395164024, Runtime: 0.10660 seconds\n",
      "2024/02/22 05:21:42 PM, INFO, mealpy.evolutionary_based.GA.BaseGA: >>>Problem: Rosenbrock function, Epoch: 195, Current best: 0.30403330395164024, Global best: 0.30403330395164024, Runtime: 0.10984 seconds\n",
      "2024/02/22 05:21:42 PM, INFO, mealpy.evolutionary_based.GA.BaseGA: >>>Problem: Rosenbrock function, Epoch: 196, Current best: 0.30403330395164024, Global best: 0.30403330395164024, Runtime: 0.12312 seconds\n",
      "2024/02/22 05:21:42 PM, INFO, mealpy.evolutionary_based.GA.BaseGA: >>>Problem: Rosenbrock function, Epoch: 197, Current best: 0.30403330395164024, Global best: 0.30403330395164024, Runtime: 0.11279 seconds\n",
      "2024/02/22 05:21:43 PM, INFO, mealpy.evolutionary_based.GA.BaseGA: >>>Problem: Rosenbrock function, Epoch: 198, Current best: 0.24032397958172547, Global best: 0.24032397958172547, Runtime: 0.10877 seconds\n",
      "2024/02/22 05:21:43 PM, INFO, mealpy.evolutionary_based.GA.BaseGA: >>>Problem: Rosenbrock function, Epoch: 199, Current best: 0.24032397958172547, Global best: 0.24032397958172547, Runtime: 0.10451 seconds\n",
      "2024/02/22 05:21:43 PM, INFO, mealpy.evolutionary_based.GA.BaseGA: >>>Problem: Rosenbrock function, Epoch: 200, Current best: 0.24032397958172547, Global best: 0.24032397958172547, Runtime: 0.10517 seconds\n",
      "2024/02/22 05:21:43 PM, INFO, mealpy.evolutionary_based.GA.BaseGA: >>>Problem: Rosenbrock function, Epoch: 201, Current best: 0.24032397958172547, Global best: 0.24032397958172547, Runtime: 0.10477 seconds\n",
      "2024/02/22 05:21:43 PM, INFO, mealpy.evolutionary_based.GA.BaseGA: >>>Problem: Rosenbrock function, Epoch: 202, Current best: 0.24032397958172547, Global best: 0.24032397958172547, Runtime: 0.10443 seconds\n",
      "2024/02/22 05:21:43 PM, INFO, mealpy.evolutionary_based.GA.BaseGA: >>>Problem: Rosenbrock function, Epoch: 203, Current best: 0.24032397958172547, Global best: 0.24032397958172547, Runtime: 0.10883 seconds\n",
      "2024/02/22 05:21:43 PM, INFO, mealpy.evolutionary_based.GA.BaseGA: >>>Problem: Rosenbrock function, Epoch: 204, Current best: 0.24032397958172547, Global best: 0.24032397958172547, Runtime: 0.10652 seconds\n",
      "2024/02/22 05:21:43 PM, INFO, mealpy.evolutionary_based.GA.BaseGA: >>>Problem: Rosenbrock function, Epoch: 205, Current best: 0.24032397958172547, Global best: 0.24032397958172547, Runtime: 0.10876 seconds\n",
      "2024/02/22 05:21:43 PM, INFO, mealpy.evolutionary_based.GA.BaseGA: >>>Problem: Rosenbrock function, Epoch: 206, Current best: 0.24032397958172547, Global best: 0.24032397958172547, Runtime: 0.10612 seconds\n",
      "2024/02/22 05:21:44 PM, INFO, mealpy.evolutionary_based.GA.BaseGA: >>>Problem: Rosenbrock function, Epoch: 207, Current best: 0.24032397958172547, Global best: 0.24032397958172547, Runtime: 0.10978 seconds\n",
      "2024/02/22 05:21:44 PM, INFO, mealpy.evolutionary_based.GA.BaseGA: >>>Problem: Rosenbrock function, Epoch: 208, Current best: 0.24032397958172547, Global best: 0.24032397958172547, Runtime: 0.10621 seconds\n",
      "2024/02/22 05:21:44 PM, INFO, mealpy.evolutionary_based.GA.BaseGA: >>>Problem: Rosenbrock function, Epoch: 209, Current best: 0.24032397958172547, Global best: 0.24032397958172547, Runtime: 0.10562 seconds\n",
      "2024/02/22 05:21:44 PM, INFO, mealpy.evolutionary_based.GA.BaseGA: >>>Problem: Rosenbrock function, Epoch: 210, Current best: 0.24032397958172547, Global best: 0.24032397958172547, Runtime: 0.10464 seconds\n",
      "2024/02/22 05:21:44 PM, INFO, mealpy.evolutionary_based.GA.BaseGA: >>>Problem: Rosenbrock function, Epoch: 211, Current best: 0.24032397958172547, Global best: 0.24032397958172547, Runtime: 0.10612 seconds\n",
      "2024/02/22 05:21:44 PM, INFO, mealpy.evolutionary_based.GA.BaseGA: >>>Problem: Rosenbrock function, Epoch: 212, Current best: 0.24032397958172547, Global best: 0.24032397958172547, Runtime: 0.10549 seconds\n",
      "2024/02/22 05:21:44 PM, INFO, mealpy.evolutionary_based.GA.BaseGA: >>>Problem: Rosenbrock function, Epoch: 213, Current best: 0.24032397958172547, Global best: 0.24032397958172547, Runtime: 0.10472 seconds\n",
      "2024/02/22 05:21:44 PM, INFO, mealpy.evolutionary_based.GA.BaseGA: >>>Problem: Rosenbrock function, Epoch: 214, Current best: 0.24032397958172547, Global best: 0.24032397958172547, Runtime: 0.11260 seconds\n",
      "2024/02/22 05:21:44 PM, INFO, mealpy.evolutionary_based.GA.BaseGA: >>>Problem: Rosenbrock function, Epoch: 215, Current best: 0.24032397958172547, Global best: 0.24032397958172547, Runtime: 0.10877 seconds\n",
      "2024/02/22 05:21:45 PM, INFO, mealpy.evolutionary_based.GA.BaseGA: >>>Problem: Rosenbrock function, Epoch: 216, Current best: 0.24032397958172547, Global best: 0.24032397958172547, Runtime: 0.10729 seconds\n",
      "2024/02/22 05:21:45 PM, INFO, mealpy.evolutionary_based.GA.BaseGA: >>>Problem: Rosenbrock function, Epoch: 217, Current best: 0.24032397958172547, Global best: 0.24032397958172547, Runtime: 0.10689 seconds\n",
      "2024/02/22 05:21:45 PM, INFO, mealpy.evolutionary_based.GA.BaseGA: >>>Problem: Rosenbrock function, Epoch: 218, Current best: 0.24032397958172547, Global best: 0.24032397958172547, Runtime: 0.10596 seconds\n",
      "2024/02/22 05:21:45 PM, INFO, mealpy.evolutionary_based.GA.BaseGA: >>>Problem: Rosenbrock function, Epoch: 219, Current best: 0.24032397958172547, Global best: 0.24032397958172547, Runtime: 0.10756 seconds\n",
      "2024/02/22 05:21:45 PM, INFO, mealpy.evolutionary_based.GA.BaseGA: >>>Problem: Rosenbrock function, Epoch: 220, Current best: 0.24032397958172547, Global best: 0.24032397958172547, Runtime: 0.10701 seconds\n",
      "2024/02/22 05:21:45 PM, INFO, mealpy.evolutionary_based.GA.BaseGA: >>>Problem: Rosenbrock function, Epoch: 221, Current best: 0.24032397958172547, Global best: 0.24032397958172547, Runtime: 0.10950 seconds\n",
      "2024/02/22 05:21:45 PM, INFO, mealpy.evolutionary_based.GA.BaseGA: >>>Problem: Rosenbrock function, Epoch: 222, Current best: 0.24032397958172547, Global best: 0.24032397958172547, Runtime: 0.10744 seconds\n",
      "2024/02/22 05:21:45 PM, INFO, mealpy.evolutionary_based.GA.BaseGA: >>>Problem: Rosenbrock function, Epoch: 223, Current best: 0.24032397958172547, Global best: 0.24032397958172547, Runtime: 0.11034 seconds\n",
      "2024/02/22 05:21:45 PM, INFO, mealpy.evolutionary_based.GA.BaseGA: >>>Problem: Rosenbrock function, Epoch: 224, Current best: 0.24032397958172547, Global best: 0.24032397958172547, Runtime: 0.10261 seconds\n",
      "2024/02/22 05:21:46 PM, INFO, mealpy.evolutionary_based.GA.BaseGA: >>>Problem: Rosenbrock function, Epoch: 225, Current best: 0.24032397958172547, Global best: 0.24032397958172547, Runtime: 0.10406 seconds\n",
      "2024/02/22 05:21:46 PM, INFO, mealpy.evolutionary_based.GA.BaseGA: >>>Problem: Rosenbrock function, Epoch: 226, Current best: 0.24032397958172547, Global best: 0.24032397958172547, Runtime: 0.10609 seconds\n",
      "2024/02/22 05:21:46 PM, INFO, mealpy.evolutionary_based.GA.BaseGA: >>>Problem: Rosenbrock function, Epoch: 227, Current best: 0.24032397958172547, Global best: 0.24032397958172547, Runtime: 0.10215 seconds\n",
      "2024/02/22 05:21:46 PM, INFO, mealpy.evolutionary_based.GA.BaseGA: >>>Problem: Rosenbrock function, Epoch: 228, Current best: 0.24032397958172547, Global best: 0.24032397958172547, Runtime: 0.10325 seconds\n",
      "2024/02/22 05:21:46 PM, INFO, mealpy.evolutionary_based.GA.BaseGA: >>>Problem: Rosenbrock function, Epoch: 229, Current best: 0.24032397958172547, Global best: 0.24032397958172547, Runtime: 0.10452 seconds\n",
      "2024/02/22 05:21:46 PM, INFO, mealpy.evolutionary_based.GA.BaseGA: >>>Problem: Rosenbrock function, Epoch: 230, Current best: 0.24032397958172547, Global best: 0.24032397958172547, Runtime: 0.10527 seconds\n",
      "2024/02/22 05:21:46 PM, INFO, mealpy.evolutionary_based.GA.BaseGA: >>>Problem: Rosenbrock function, Epoch: 231, Current best: 0.24032397958172547, Global best: 0.24032397958172547, Runtime: 0.10380 seconds\n",
      "2024/02/22 05:21:46 PM, INFO, mealpy.evolutionary_based.GA.BaseGA: >>>Problem: Rosenbrock function, Epoch: 232, Current best: 0.24032397958172547, Global best: 0.24032397958172547, Runtime: 0.10432 seconds\n",
      "2024/02/22 05:21:46 PM, INFO, mealpy.evolutionary_based.GA.BaseGA: >>>Problem: Rosenbrock function, Epoch: 233, Current best: 0.23898599837369117, Global best: 0.23898599837369117, Runtime: 0.10904 seconds\n",
      "2024/02/22 05:21:46 PM, INFO, mealpy.evolutionary_based.GA.BaseGA: >>>Problem: Rosenbrock function, Epoch: 234, Current best: 0.23898599837369117, Global best: 0.23898599837369117, Runtime: 0.10205 seconds\n",
      "2024/02/22 05:21:47 PM, INFO, mealpy.evolutionary_based.GA.BaseGA: >>>Problem: Rosenbrock function, Epoch: 235, Current best: 0.23898599837369117, Global best: 0.23898599837369117, Runtime: 0.10335 seconds\n",
      "2024/02/22 05:21:47 PM, INFO, mealpy.evolutionary_based.GA.BaseGA: >>>Problem: Rosenbrock function, Epoch: 236, Current best: 0.23898599837369117, Global best: 0.23898599837369117, Runtime: 0.10532 seconds\n",
      "2024/02/22 05:21:47 PM, INFO, mealpy.evolutionary_based.GA.BaseGA: >>>Problem: Rosenbrock function, Epoch: 237, Current best: 0.23898599837369117, Global best: 0.23898599837369117, Runtime: 0.10940 seconds\n",
      "2024/02/22 05:21:47 PM, INFO, mealpy.evolutionary_based.GA.BaseGA: >>>Problem: Rosenbrock function, Epoch: 238, Current best: 0.23898599837369117, Global best: 0.23898599837369117, Runtime: 0.10313 seconds\n",
      "2024/02/22 05:21:47 PM, INFO, mealpy.evolutionary_based.GA.BaseGA: >>>Problem: Rosenbrock function, Epoch: 239, Current best: 0.23898599837369117, Global best: 0.23898599837369117, Runtime: 0.10381 seconds\n",
      "2024/02/22 05:21:47 PM, INFO, mealpy.evolutionary_based.GA.BaseGA: >>>Problem: Rosenbrock function, Epoch: 240, Current best: 0.23898599837369117, Global best: 0.23898599837369117, Runtime: 0.10532 seconds\n",
      "2024/02/22 05:21:47 PM, INFO, mealpy.evolutionary_based.GA.BaseGA: >>>Problem: Rosenbrock function, Epoch: 241, Current best: 0.23898599837369117, Global best: 0.23898599837369117, Runtime: 0.09781 seconds\n",
      "2024/02/22 05:21:47 PM, INFO, mealpy.evolutionary_based.GA.BaseGA: >>>Problem: Rosenbrock function, Epoch: 242, Current best: 0.23898599837369117, Global best: 0.23898599837369117, Runtime: 0.15723 seconds\n",
      "2024/02/22 05:21:47 PM, INFO, mealpy.evolutionary_based.GA.BaseGA: >>>Problem: Rosenbrock function, Epoch: 243, Current best: 0.23898599837369117, Global best: 0.23898599837369117, Runtime: 0.09999 seconds\n",
      "2024/02/22 05:21:48 PM, INFO, mealpy.evolutionary_based.GA.BaseGA: >>>Problem: Rosenbrock function, Epoch: 244, Current best: 0.23898599837369117, Global best: 0.23898599837369117, Runtime: 0.10228 seconds\n",
      "2024/02/22 05:21:48 PM, INFO, mealpy.evolutionary_based.GA.BaseGA: >>>Problem: Rosenbrock function, Epoch: 245, Current best: 0.23898599837369117, Global best: 0.23898599837369117, Runtime: 0.10155 seconds\n",
      "2024/02/22 05:21:48 PM, INFO, mealpy.evolutionary_based.GA.BaseGA: >>>Problem: Rosenbrock function, Epoch: 246, Current best: 0.23898599837369117, Global best: 0.23898599837369117, Runtime: 0.09953 seconds\n",
      "2024/02/22 05:21:48 PM, INFO, mealpy.evolutionary_based.GA.BaseGA: >>>Problem: Rosenbrock function, Epoch: 247, Current best: 0.23898599837369117, Global best: 0.23898599837369117, Runtime: 0.10252 seconds\n",
      "2024/02/22 05:21:48 PM, INFO, mealpy.evolutionary_based.GA.BaseGA: >>>Problem: Rosenbrock function, Epoch: 248, Current best: 0.23898599837369117, Global best: 0.23898599837369117, Runtime: 0.09990 seconds\n",
      "2024/02/22 05:21:48 PM, INFO, mealpy.evolutionary_based.GA.BaseGA: >>>Problem: Rosenbrock function, Epoch: 249, Current best: 0.23898599837369117, Global best: 0.23898599837369117, Runtime: 0.09995 seconds\n",
      "2024/02/22 05:21:48 PM, INFO, mealpy.evolutionary_based.GA.BaseGA: >>>Problem: Rosenbrock function, Epoch: 250, Current best: 0.23898599837369117, Global best: 0.23898599837369117, Runtime: 0.10276 seconds\n",
      "2024/02/22 05:21:48 PM, INFO, mealpy.evolutionary_based.GA.BaseGA: >>>Problem: Rosenbrock function, Epoch: 251, Current best: 0.23898599837369117, Global best: 0.23898599837369117, Runtime: 0.10580 seconds\n",
      "2024/02/22 05:21:48 PM, INFO, mealpy.evolutionary_based.GA.BaseGA: >>>Problem: Rosenbrock function, Epoch: 252, Current best: 0.23898599837369117, Global best: 0.23898599837369117, Runtime: 0.09990 seconds\n",
      "2024/02/22 05:21:48 PM, INFO, mealpy.evolutionary_based.GA.BaseGA: >>>Problem: Rosenbrock function, Epoch: 253, Current best: 0.23898599837369117, Global best: 0.23898599837369117, Runtime: 0.10171 seconds\n",
      "2024/02/22 05:21:49 PM, INFO, mealpy.evolutionary_based.GA.BaseGA: >>>Problem: Rosenbrock function, Epoch: 254, Current best: 0.23898599837369117, Global best: 0.23898599837369117, Runtime: 0.10235 seconds\n",
      "2024/02/22 05:21:49 PM, INFO, mealpy.evolutionary_based.GA.BaseGA: >>>Problem: Rosenbrock function, Epoch: 255, Current best: 0.23898599837369117, Global best: 0.23898599837369117, Runtime: 0.09845 seconds\n",
      "2024/02/22 05:21:49 PM, INFO, mealpy.evolutionary_based.GA.BaseGA: >>>Problem: Rosenbrock function, Epoch: 256, Current best: 0.23898599837369117, Global best: 0.23898599837369117, Runtime: 0.09869 seconds\n",
      "2024/02/22 05:21:49 PM, INFO, mealpy.evolutionary_based.GA.BaseGA: >>>Problem: Rosenbrock function, Epoch: 257, Current best: 0.23898599837369117, Global best: 0.23898599837369117, Runtime: 0.09946 seconds\n",
      "2024/02/22 05:21:49 PM, INFO, mealpy.evolutionary_based.GA.BaseGA: >>>Problem: Rosenbrock function, Epoch: 258, Current best: 0.23898599837369117, Global best: 0.23898599837369117, Runtime: 0.10083 seconds\n",
      "2024/02/22 05:21:49 PM, INFO, mealpy.evolutionary_based.GA.BaseGA: >>>Problem: Rosenbrock function, Epoch: 259, Current best: 0.23898599837369117, Global best: 0.23898599837369117, Runtime: 0.09734 seconds\n",
      "2024/02/22 05:21:49 PM, INFO, mealpy.evolutionary_based.GA.BaseGA: >>>Problem: Rosenbrock function, Epoch: 260, Current best: 0.23898599837369117, Global best: 0.23898599837369117, Runtime: 0.10062 seconds\n",
      "2024/02/22 05:21:49 PM, INFO, mealpy.evolutionary_based.GA.BaseGA: >>>Problem: Rosenbrock function, Epoch: 261, Current best: 0.23898599837369117, Global best: 0.23898599837369117, Runtime: 0.10421 seconds\n",
      "2024/02/22 05:21:49 PM, INFO, mealpy.evolutionary_based.GA.BaseGA: >>>Problem: Rosenbrock function, Epoch: 262, Current best: 0.23898599837369117, Global best: 0.23898599837369117, Runtime: 0.09906 seconds\n",
      "2024/02/22 05:21:50 PM, INFO, mealpy.evolutionary_based.GA.BaseGA: >>>Problem: Rosenbrock function, Epoch: 263, Current best: 0.23898599837369117, Global best: 0.23898599837369117, Runtime: 0.09878 seconds\n",
      "2024/02/22 05:21:50 PM, INFO, mealpy.evolutionary_based.GA.BaseGA: >>>Problem: Rosenbrock function, Epoch: 264, Current best: 0.23898599837369117, Global best: 0.23898599837369117, Runtime: 0.09950 seconds\n",
      "2024/02/22 05:21:50 PM, INFO, mealpy.evolutionary_based.GA.BaseGA: >>>Problem: Rosenbrock function, Epoch: 265, Current best: 0.23898599837369117, Global best: 0.23898599837369117, Runtime: 0.09908 seconds\n",
      "2024/02/22 05:21:50 PM, INFO, mealpy.evolutionary_based.GA.BaseGA: >>>Problem: Rosenbrock function, Epoch: 266, Current best: 0.23898599837369117, Global best: 0.23898599837369117, Runtime: 0.09758 seconds\n",
      "2024/02/22 05:21:50 PM, INFO, mealpy.evolutionary_based.GA.BaseGA: >>>Problem: Rosenbrock function, Epoch: 267, Current best: 0.23898599837369117, Global best: 0.23898599837369117, Runtime: 0.09928 seconds\n",
      "2024/02/22 05:21:50 PM, INFO, mealpy.evolutionary_based.GA.BaseGA: >>>Problem: Rosenbrock function, Epoch: 268, Current best: 0.23898599837369117, Global best: 0.23898599837369117, Runtime: 0.09784 seconds\n",
      "2024/02/22 05:21:50 PM, INFO, mealpy.evolutionary_based.GA.BaseGA: >>>Problem: Rosenbrock function, Epoch: 269, Current best: 0.23898599837369117, Global best: 0.23898599837369117, Runtime: 0.09941 seconds\n",
      "2024/02/22 05:21:50 PM, INFO, mealpy.evolutionary_based.GA.BaseGA: >>>Problem: Rosenbrock function, Epoch: 270, Current best: 0.23898599837369117, Global best: 0.23898599837369117, Runtime: 0.10174 seconds\n",
      "2024/02/22 05:21:50 PM, INFO, mealpy.evolutionary_based.GA.BaseGA: >>>Problem: Rosenbrock function, Epoch: 271, Current best: 0.23898599837369117, Global best: 0.23898599837369117, Runtime: 0.09891 seconds\n",
      "2024/02/22 05:21:50 PM, INFO, mealpy.evolutionary_based.GA.BaseGA: >>>Problem: Rosenbrock function, Epoch: 272, Current best: 0.23898599837369117, Global best: 0.23898599837369117, Runtime: 0.10270 seconds\n",
      "2024/02/22 05:21:51 PM, INFO, mealpy.evolutionary_based.GA.BaseGA: >>>Problem: Rosenbrock function, Epoch: 273, Current best: 0.23898599837369117, Global best: 0.23898599837369117, Runtime: 0.09970 seconds\n",
      "2024/02/22 05:21:51 PM, INFO, mealpy.evolutionary_based.GA.BaseGA: >>>Problem: Rosenbrock function, Epoch: 274, Current best: 0.23898599837369117, Global best: 0.23898599837369117, Runtime: 0.09823 seconds\n",
      "2024/02/22 05:21:51 PM, INFO, mealpy.evolutionary_based.GA.BaseGA: >>>Problem: Rosenbrock function, Epoch: 275, Current best: 0.23898599837369117, Global best: 0.23898599837369117, Runtime: 0.10752 seconds\n",
      "2024/02/22 05:21:51 PM, INFO, mealpy.evolutionary_based.GA.BaseGA: >>>Problem: Rosenbrock function, Epoch: 276, Current best: 0.23898599837369117, Global best: 0.23898599837369117, Runtime: 0.09720 seconds\n",
      "2024/02/22 05:21:51 PM, INFO, mealpy.evolutionary_based.GA.BaseGA: >>>Problem: Rosenbrock function, Epoch: 277, Current best: 0.23898599837369117, Global best: 0.23898599837369117, Runtime: 0.09848 seconds\n",
      "2024/02/22 05:21:51 PM, INFO, mealpy.evolutionary_based.GA.BaseGA: >>>Problem: Rosenbrock function, Epoch: 278, Current best: 0.23898599837369117, Global best: 0.23898599837369117, Runtime: 0.09935 seconds\n",
      "2024/02/22 05:21:51 PM, INFO, mealpy.evolutionary_based.GA.BaseGA: >>>Problem: Rosenbrock function, Epoch: 279, Current best: 0.23898599837369117, Global best: 0.23898599837369117, Runtime: 0.10083 seconds\n",
      "2024/02/22 05:21:51 PM, INFO, mealpy.evolutionary_based.GA.BaseGA: >>>Problem: Rosenbrock function, Epoch: 280, Current best: 0.23898599837369117, Global best: 0.23898599837369117, Runtime: 0.10084 seconds\n",
      "2024/02/22 05:21:51 PM, INFO, mealpy.evolutionary_based.GA.BaseGA: >>>Problem: Rosenbrock function, Epoch: 281, Current best: 0.23898599837369117, Global best: 0.23898599837369117, Runtime: 0.09873 seconds\n",
      "2024/02/22 05:21:51 PM, INFO, mealpy.evolutionary_based.GA.BaseGA: >>>Problem: Rosenbrock function, Epoch: 282, Current best: 0.23898599837369117, Global best: 0.23898599837369117, Runtime: 0.10365 seconds\n",
      "2024/02/22 05:21:52 PM, INFO, mealpy.evolutionary_based.GA.BaseGA: >>>Problem: Rosenbrock function, Epoch: 283, Current best: 0.23898599837369117, Global best: 0.23898599837369117, Runtime: 0.09865 seconds\n",
      "2024/02/22 05:21:52 PM, INFO, mealpy.evolutionary_based.GA.BaseGA: >>>Problem: Rosenbrock function, Epoch: 284, Current best: 0.23898599837369117, Global best: 0.23898599837369117, Runtime: 0.10063 seconds\n",
      "2024/02/22 05:21:52 PM, INFO, mealpy.evolutionary_based.GA.BaseGA: >>>Problem: Rosenbrock function, Epoch: 285, Current best: 0.23898599837369117, Global best: 0.23898599837369117, Runtime: 0.10295 seconds\n",
      "2024/02/22 05:21:52 PM, INFO, mealpy.evolutionary_based.GA.BaseGA: >>>Problem: Rosenbrock function, Epoch: 286, Current best: 0.23898599837369117, Global best: 0.23898599837369117, Runtime: 0.10042 seconds\n",
      "2024/02/22 05:21:52 PM, INFO, mealpy.evolutionary_based.GA.BaseGA: >>>Problem: Rosenbrock function, Epoch: 287, Current best: 0.23898599837369117, Global best: 0.23898599837369117, Runtime: 0.09781 seconds\n",
      "2024/02/22 05:21:52 PM, INFO, mealpy.evolutionary_based.GA.BaseGA: >>>Problem: Rosenbrock function, Epoch: 288, Current best: 0.23898599837369117, Global best: 0.23898599837369117, Runtime: 0.09911 seconds\n",
      "2024/02/22 05:21:52 PM, INFO, mealpy.evolutionary_based.GA.BaseGA: >>>Problem: Rosenbrock function, Epoch: 289, Current best: 0.23898599837369117, Global best: 0.23898599837369117, Runtime: 0.09771 seconds\n",
      "2024/02/22 05:21:52 PM, INFO, mealpy.evolutionary_based.GA.BaseGA: >>>Problem: Rosenbrock function, Epoch: 290, Current best: 0.23898599837369117, Global best: 0.23898599837369117, Runtime: 0.09976 seconds\n",
      "2024/02/22 05:21:52 PM, INFO, mealpy.evolutionary_based.GA.BaseGA: >>>Problem: Rosenbrock function, Epoch: 291, Current best: 0.23898599837369117, Global best: 0.23898599837369117, Runtime: 0.10189 seconds\n",
      "2024/02/22 05:21:52 PM, INFO, mealpy.evolutionary_based.GA.BaseGA: >>>Problem: Rosenbrock function, Epoch: 292, Current best: 0.23898599837369117, Global best: 0.23898599837369117, Runtime: 0.15627 seconds\n",
      "2024/02/22 05:21:53 PM, INFO, mealpy.evolutionary_based.GA.BaseGA: >>>Problem: Rosenbrock function, Epoch: 293, Current best: 0.23898599837369117, Global best: 0.23898599837369117, Runtime: 0.09803 seconds\n",
      "2024/02/22 05:21:53 PM, INFO, mealpy.evolutionary_based.GA.BaseGA: >>>Problem: Rosenbrock function, Epoch: 294, Current best: 0.23898599837369117, Global best: 0.23898599837369117, Runtime: 0.09785 seconds\n",
      "2024/02/22 05:21:53 PM, INFO, mealpy.evolutionary_based.GA.BaseGA: >>>Problem: Rosenbrock function, Epoch: 295, Current best: 0.16053575966926215, Global best: 0.16053575966926215, Runtime: 0.09908 seconds\n",
      "2024/02/22 05:21:53 PM, INFO, mealpy.evolutionary_based.GA.BaseGA: >>>Problem: Rosenbrock function, Epoch: 296, Current best: 0.16053575966926215, Global best: 0.16053575966926215, Runtime: 0.09936 seconds\n",
      "2024/02/22 05:21:53 PM, INFO, mealpy.evolutionary_based.GA.BaseGA: >>>Problem: Rosenbrock function, Epoch: 297, Current best: 0.16053575966926215, Global best: 0.16053575966926215, Runtime: 0.09916 seconds\n",
      "2024/02/22 05:21:53 PM, INFO, mealpy.evolutionary_based.GA.BaseGA: >>>Problem: Rosenbrock function, Epoch: 298, Current best: 0.16053575966926215, Global best: 0.16053575966926215, Runtime: 0.09952 seconds\n",
      "2024/02/22 05:21:53 PM, INFO, mealpy.evolutionary_based.GA.BaseGA: >>>Problem: Rosenbrock function, Epoch: 299, Current best: 0.16053575966926215, Global best: 0.16053575966926215, Runtime: 0.09980 seconds\n",
      "2024/02/22 05:21:53 PM, INFO, mealpy.evolutionary_based.GA.BaseGA: >>>Problem: Rosenbrock function, Epoch: 300, Current best: 0.16053575966926215, Global best: 0.16053575966926215, Runtime: 0.10181 seconds\n",
      "2024/02/22 05:21:53 PM, INFO, mealpy.evolutionary_based.GA.BaseGA: >>>Problem: Rosenbrock function, Epoch: 301, Current best: 0.16053575966926215, Global best: 0.16053575966926215, Runtime: 0.10215 seconds\n",
      "2024/02/22 05:21:54 PM, INFO, mealpy.evolutionary_based.GA.BaseGA: >>>Problem: Rosenbrock function, Epoch: 302, Current best: 0.16053575966926215, Global best: 0.16053575966926215, Runtime: 0.10045 seconds\n",
      "2024/02/22 05:21:54 PM, INFO, mealpy.evolutionary_based.GA.BaseGA: >>>Problem: Rosenbrock function, Epoch: 303, Current best: 0.16053575966926215, Global best: 0.16053575966926215, Runtime: 0.09847 seconds\n",
      "2024/02/22 05:21:54 PM, INFO, mealpy.evolutionary_based.GA.BaseGA: >>>Problem: Rosenbrock function, Epoch: 304, Current best: 0.16053575966926215, Global best: 0.16053575966926215, Runtime: 0.09917 seconds\n",
      "2024/02/22 05:21:54 PM, INFO, mealpy.evolutionary_based.GA.BaseGA: >>>Problem: Rosenbrock function, Epoch: 305, Current best: 0.16053575966926215, Global best: 0.16053575966926215, Runtime: 0.09921 seconds\n",
      "2024/02/22 05:21:54 PM, INFO, mealpy.evolutionary_based.GA.BaseGA: >>>Problem: Rosenbrock function, Epoch: 306, Current best: 0.16053575966926215, Global best: 0.16053575966926215, Runtime: 0.09872 seconds\n",
      "2024/02/22 05:21:54 PM, INFO, mealpy.evolutionary_based.GA.BaseGA: >>>Problem: Rosenbrock function, Epoch: 307, Current best: 0.16053575966926215, Global best: 0.16053575966926215, Runtime: 0.09708 seconds\n",
      "2024/02/22 05:21:54 PM, INFO, mealpy.evolutionary_based.GA.BaseGA: >>>Problem: Rosenbrock function, Epoch: 308, Current best: 0.16053575966926215, Global best: 0.16053575966926215, Runtime: 0.09962 seconds\n",
      "2024/02/22 05:21:54 PM, INFO, mealpy.evolutionary_based.GA.BaseGA: >>>Problem: Rosenbrock function, Epoch: 309, Current best: 0.16053575966926215, Global best: 0.16053575966926215, Runtime: 0.10185 seconds\n",
      "2024/02/22 05:21:54 PM, INFO, mealpy.evolutionary_based.GA.BaseGA: >>>Problem: Rosenbrock function, Epoch: 310, Current best: 0.16053575966926215, Global best: 0.16053575966926215, Runtime: 0.09904 seconds\n",
      "2024/02/22 05:21:54 PM, INFO, mealpy.evolutionary_based.GA.BaseGA: >>>Problem: Rosenbrock function, Epoch: 311, Current best: 0.16053575966926215, Global best: 0.16053575966926215, Runtime: 0.10299 seconds\n",
      "2024/02/22 05:21:55 PM, INFO, mealpy.evolutionary_based.GA.BaseGA: >>>Problem: Rosenbrock function, Epoch: 312, Current best: 0.16053575966926215, Global best: 0.16053575966926215, Runtime: 0.10061 seconds\n",
      "2024/02/22 05:21:55 PM, INFO, mealpy.evolutionary_based.GA.BaseGA: >>>Problem: Rosenbrock function, Epoch: 313, Current best: 0.16053575966926215, Global best: 0.16053575966926215, Runtime: 0.10055 seconds\n",
      "2024/02/22 05:21:55 PM, INFO, mealpy.evolutionary_based.GA.BaseGA: >>>Problem: Rosenbrock function, Epoch: 314, Current best: 0.16053575966926215, Global best: 0.16053575966926215, Runtime: 0.09877 seconds\n",
      "2024/02/22 05:21:55 PM, INFO, mealpy.evolutionary_based.GA.BaseGA: >>>Problem: Rosenbrock function, Epoch: 315, Current best: 0.16053575966926215, Global best: 0.16053575966926215, Runtime: 0.09821 seconds\n",
      "2024/02/22 05:21:55 PM, INFO, mealpy.evolutionary_based.GA.BaseGA: >>>Problem: Rosenbrock function, Epoch: 316, Current best: 0.16053575966926215, Global best: 0.16053575966926215, Runtime: 0.09864 seconds\n",
      "2024/02/22 05:21:55 PM, INFO, mealpy.evolutionary_based.GA.BaseGA: >>>Problem: Rosenbrock function, Epoch: 317, Current best: 0.16053575966926215, Global best: 0.16053575966926215, Runtime: 0.10032 seconds\n",
      "2024/02/22 05:21:55 PM, INFO, mealpy.evolutionary_based.GA.BaseGA: >>>Problem: Rosenbrock function, Epoch: 318, Current best: 0.16053575966926215, Global best: 0.16053575966926215, Runtime: 0.09833 seconds\n",
      "2024/02/22 05:21:55 PM, INFO, mealpy.evolutionary_based.GA.BaseGA: >>>Problem: Rosenbrock function, Epoch: 319, Current best: 0.16053575966926215, Global best: 0.16053575966926215, Runtime: 0.09965 seconds\n",
      "2024/02/22 05:21:55 PM, INFO, mealpy.evolutionary_based.GA.BaseGA: >>>Problem: Rosenbrock function, Epoch: 320, Current best: 0.16053575966926215, Global best: 0.16053575966926215, Runtime: 0.09964 seconds\n",
      "2024/02/22 05:21:55 PM, INFO, mealpy.evolutionary_based.GA.BaseGA: >>>Problem: Rosenbrock function, Epoch: 321, Current best: 0.16053575966926215, Global best: 0.16053575966926215, Runtime: 0.10118 seconds\n",
      "2024/02/22 05:21:56 PM, INFO, mealpy.evolutionary_based.GA.BaseGA: >>>Problem: Rosenbrock function, Epoch: 322, Current best: 0.16053575966926215, Global best: 0.16053575966926215, Runtime: 0.09929 seconds\n",
      "2024/02/22 05:21:56 PM, INFO, mealpy.evolutionary_based.GA.BaseGA: >>>Problem: Rosenbrock function, Epoch: 323, Current best: 0.16053575966926215, Global best: 0.16053575966926215, Runtime: 0.09856 seconds\n",
      "2024/02/22 05:21:56 PM, INFO, mealpy.evolutionary_based.GA.BaseGA: >>>Problem: Rosenbrock function, Epoch: 324, Current best: 0.16053575966926215, Global best: 0.16053575966926215, Runtime: 0.09829 seconds\n",
      "2024/02/22 05:21:56 PM, INFO, mealpy.evolutionary_based.GA.BaseGA: >>>Problem: Rosenbrock function, Epoch: 325, Current best: 0.16053575966926215, Global best: 0.16053575966926215, Runtime: 0.09899 seconds\n",
      "2024/02/22 05:21:56 PM, INFO, mealpy.evolutionary_based.GA.BaseGA: >>>Problem: Rosenbrock function, Epoch: 326, Current best: 0.16053575966926215, Global best: 0.16053575966926215, Runtime: 0.09949 seconds\n",
      "2024/02/22 05:21:56 PM, INFO, mealpy.evolutionary_based.GA.BaseGA: >>>Problem: Rosenbrock function, Epoch: 327, Current best: 0.16053575966926215, Global best: 0.16053575966926215, Runtime: 0.09917 seconds\n",
      "2024/02/22 05:21:56 PM, INFO, mealpy.evolutionary_based.GA.BaseGA: >>>Problem: Rosenbrock function, Epoch: 328, Current best: 0.16053575966926215, Global best: 0.16053575966926215, Runtime: 0.09827 seconds\n",
      "2024/02/22 05:21:56 PM, INFO, mealpy.evolutionary_based.GA.BaseGA: >>>Problem: Rosenbrock function, Epoch: 329, Current best: 0.16053575966926215, Global best: 0.16053575966926215, Runtime: 0.09864 seconds\n",
      "2024/02/22 05:21:56 PM, INFO, mealpy.evolutionary_based.GA.BaseGA: >>>Problem: Rosenbrock function, Epoch: 330, Current best: 0.16053575966926215, Global best: 0.16053575966926215, Runtime: 0.09898 seconds\n",
      "2024/02/22 05:21:56 PM, INFO, mealpy.evolutionary_based.GA.BaseGA: >>>Problem: Rosenbrock function, Epoch: 331, Current best: 0.16053575966926215, Global best: 0.16053575966926215, Runtime: 0.10093 seconds\n",
      "2024/02/22 05:21:57 PM, INFO, mealpy.evolutionary_based.GA.BaseGA: >>>Problem: Rosenbrock function, Epoch: 332, Current best: 0.16053575966926215, Global best: 0.16053575966926215, Runtime: 0.09961 seconds\n",
      "2024/02/22 05:21:57 PM, INFO, mealpy.evolutionary_based.GA.BaseGA: >>>Problem: Rosenbrock function, Epoch: 333, Current best: 0.16053575966926215, Global best: 0.16053575966926215, Runtime: 0.10019 seconds\n",
      "2024/02/22 05:21:57 PM, INFO, mealpy.evolutionary_based.GA.BaseGA: >>>Problem: Rosenbrock function, Epoch: 334, Current best: 0.16053575966926215, Global best: 0.16053575966926215, Runtime: 0.09819 seconds\n",
      "2024/02/22 05:21:57 PM, INFO, mealpy.evolutionary_based.GA.BaseGA: >>>Problem: Rosenbrock function, Epoch: 335, Current best: 0.16053575966926215, Global best: 0.16053575966926215, Runtime: 0.09761 seconds\n",
      "2024/02/22 05:21:57 PM, INFO, mealpy.evolutionary_based.GA.BaseGA: >>>Problem: Rosenbrock function, Epoch: 336, Current best: 0.16053575966926215, Global best: 0.16053575966926215, Runtime: 0.09731 seconds\n",
      "2024/02/22 05:21:57 PM, INFO, mealpy.evolutionary_based.GA.BaseGA: >>>Problem: Rosenbrock function, Epoch: 337, Current best: 0.16053575966926215, Global best: 0.16053575966926215, Runtime: 0.09843 seconds\n",
      "2024/02/22 05:21:57 PM, INFO, mealpy.evolutionary_based.GA.BaseGA: >>>Problem: Rosenbrock function, Epoch: 338, Current best: 0.16053575966926215, Global best: 0.16053575966926215, Runtime: 0.09972 seconds\n",
      "2024/02/22 05:21:57 PM, INFO, mealpy.evolutionary_based.GA.BaseGA: >>>Problem: Rosenbrock function, Epoch: 339, Current best: 0.16053575966926215, Global best: 0.16053575966926215, Runtime: 0.10000 seconds\n",
      "2024/02/22 05:21:57 PM, INFO, mealpy.evolutionary_based.GA.BaseGA: >>>Problem: Rosenbrock function, Epoch: 340, Current best: 0.16053575966926215, Global best: 0.16053575966926215, Runtime: 0.09876 seconds\n",
      "2024/02/22 05:21:57 PM, INFO, mealpy.evolutionary_based.GA.BaseGA: >>>Problem: Rosenbrock function, Epoch: 341, Current best: 0.16053575966926215, Global best: 0.16053575966926215, Runtime: 0.10174 seconds\n",
      "2024/02/22 05:21:58 PM, INFO, mealpy.evolutionary_based.GA.BaseGA: >>>Problem: Rosenbrock function, Epoch: 342, Current best: 0.16053575966926215, Global best: 0.16053575966926215, Runtime: 0.15258 seconds\n",
      "2024/02/22 05:21:58 PM, INFO, mealpy.evolutionary_based.GA.BaseGA: >>>Problem: Rosenbrock function, Epoch: 343, Current best: 0.16053575966926215, Global best: 0.16053575966926215, Runtime: 0.09951 seconds\n",
      "2024/02/22 05:21:58 PM, INFO, mealpy.evolutionary_based.GA.BaseGA: >>>Problem: Rosenbrock function, Epoch: 344, Current best: 0.16053575966926215, Global best: 0.16053575966926215, Runtime: 0.09708 seconds\n",
      "2024/02/22 05:21:58 PM, INFO, mealpy.evolutionary_based.GA.BaseGA: >>>Problem: Rosenbrock function, Epoch: 345, Current best: 0.16053575966926215, Global best: 0.16053575966926215, Runtime: 0.09946 seconds\n",
      "2024/02/22 05:21:58 PM, INFO, mealpy.evolutionary_based.GA.BaseGA: >>>Problem: Rosenbrock function, Epoch: 346, Current best: 0.16053575966926215, Global best: 0.16053575966926215, Runtime: 0.11354 seconds\n",
      "2024/02/22 05:21:58 PM, INFO, mealpy.evolutionary_based.GA.BaseGA: >>>Problem: Rosenbrock function, Epoch: 347, Current best: 0.16053575966926215, Global best: 0.16053575966926215, Runtime: 0.09944 seconds\n",
      "2024/02/22 05:21:58 PM, INFO, mealpy.evolutionary_based.GA.BaseGA: >>>Problem: Rosenbrock function, Epoch: 348, Current best: 0.16053575966926215, Global best: 0.16053575966926215, Runtime: 0.09735 seconds\n",
      "2024/02/22 05:21:58 PM, INFO, mealpy.evolutionary_based.GA.BaseGA: >>>Problem: Rosenbrock function, Epoch: 349, Current best: 0.16053575966926215, Global best: 0.16053575966926215, Runtime: 0.09904 seconds\n",
      "2024/02/22 05:21:58 PM, INFO, mealpy.evolutionary_based.GA.BaseGA: >>>Problem: Rosenbrock function, Epoch: 350, Current best: 0.16053575966926215, Global best: 0.16053575966926215, Runtime: 0.09899 seconds\n",
      "2024/02/22 05:21:58 PM, INFO, mealpy.evolutionary_based.GA.BaseGA: >>>Problem: Rosenbrock function, Epoch: 351, Current best: 0.16053575966926215, Global best: 0.16053575966926215, Runtime: 0.10219 seconds\n",
      "2024/02/22 05:21:59 PM, INFO, mealpy.evolutionary_based.GA.BaseGA: >>>Problem: Rosenbrock function, Epoch: 352, Current best: 0.16053575966926215, Global best: 0.16053575966926215, Runtime: 0.10124 seconds\n",
      "2024/02/22 05:21:59 PM, INFO, mealpy.evolutionary_based.GA.BaseGA: >>>Problem: Rosenbrock function, Epoch: 353, Current best: 0.16053575966926215, Global best: 0.16053575966926215, Runtime: 0.09953 seconds\n",
      "2024/02/22 05:21:59 PM, INFO, mealpy.evolutionary_based.GA.BaseGA: >>>Problem: Rosenbrock function, Epoch: 354, Current best: 0.16053575966926215, Global best: 0.16053575966926215, Runtime: 0.09983 seconds\n",
      "2024/02/22 05:21:59 PM, INFO, mealpy.evolutionary_based.GA.BaseGA: >>>Problem: Rosenbrock function, Epoch: 355, Current best: 0.16053575966926215, Global best: 0.16053575966926215, Runtime: 0.09685 seconds\n",
      "2024/02/22 05:21:59 PM, INFO, mealpy.evolutionary_based.GA.BaseGA: >>>Problem: Rosenbrock function, Epoch: 356, Current best: 0.16053575966926215, Global best: 0.16053575966926215, Runtime: 0.09739 seconds\n",
      "2024/02/22 05:21:59 PM, INFO, mealpy.evolutionary_based.GA.BaseGA: >>>Problem: Rosenbrock function, Epoch: 357, Current best: 0.16053575966926215, Global best: 0.16053575966926215, Runtime: 0.09886 seconds\n",
      "2024/02/22 05:21:59 PM, INFO, mealpy.evolutionary_based.GA.BaseGA: >>>Problem: Rosenbrock function, Epoch: 358, Current best: 0.16053575966926215, Global best: 0.16053575966926215, Runtime: 0.10007 seconds\n",
      "2024/02/22 05:21:59 PM, INFO, mealpy.evolutionary_based.GA.BaseGA: >>>Problem: Rosenbrock function, Epoch: 359, Current best: 0.16053575966926215, Global best: 0.16053575966926215, Runtime: 0.10020 seconds\n",
      "2024/02/22 05:21:59 PM, INFO, mealpy.evolutionary_based.GA.BaseGA: >>>Problem: Rosenbrock function, Epoch: 360, Current best: 0.16053575966926215, Global best: 0.16053575966926215, Runtime: 0.09839 seconds\n",
      "2024/02/22 05:22:00 PM, INFO, mealpy.evolutionary_based.GA.BaseGA: >>>Problem: Rosenbrock function, Epoch: 361, Current best: 0.16053575966926215, Global best: 0.16053575966926215, Runtime: 0.10051 seconds\n",
      "2024/02/22 05:22:00 PM, INFO, mealpy.evolutionary_based.GA.BaseGA: >>>Problem: Rosenbrock function, Epoch: 362, Current best: 0.16053575966926215, Global best: 0.16053575966926215, Runtime: 0.10557 seconds\n",
      "2024/02/22 05:22:00 PM, INFO, mealpy.evolutionary_based.GA.BaseGA: >>>Problem: Rosenbrock function, Epoch: 363, Current best: 0.16053575966926215, Global best: 0.16053575966926215, Runtime: 0.09688 seconds\n",
      "2024/02/22 05:22:00 PM, INFO, mealpy.evolutionary_based.GA.BaseGA: >>>Problem: Rosenbrock function, Epoch: 364, Current best: 0.16053575966926215, Global best: 0.16053575966926215, Runtime: 0.10055 seconds\n",
      "2024/02/22 05:22:00 PM, INFO, mealpy.evolutionary_based.GA.BaseGA: >>>Problem: Rosenbrock function, Epoch: 365, Current best: 0.16053575966926215, Global best: 0.16053575966926215, Runtime: 0.10024 seconds\n",
      "2024/02/22 05:22:00 PM, INFO, mealpy.evolutionary_based.GA.BaseGA: >>>Problem: Rosenbrock function, Epoch: 366, Current best: 0.16053575966926215, Global best: 0.16053575966926215, Runtime: 0.09979 seconds\n",
      "2024/02/22 05:22:00 PM, INFO, mealpy.evolutionary_based.GA.BaseGA: >>>Problem: Rosenbrock function, Epoch: 367, Current best: 0.16053575966926215, Global best: 0.16053575966926215, Runtime: 0.10114 seconds\n",
      "2024/02/22 05:22:00 PM, INFO, mealpy.evolutionary_based.GA.BaseGA: >>>Problem: Rosenbrock function, Epoch: 368, Current best: 0.16053575966926215, Global best: 0.16053575966926215, Runtime: 0.10129 seconds\n",
      "2024/02/22 05:22:00 PM, INFO, mealpy.evolutionary_based.GA.BaseGA: >>>Problem: Rosenbrock function, Epoch: 369, Current best: 0.16053575966926215, Global best: 0.16053575966926215, Runtime: 0.09981 seconds\n",
      "2024/02/22 05:22:00 PM, INFO, mealpy.evolutionary_based.GA.BaseGA: >>>Problem: Rosenbrock function, Epoch: 370, Current best: 0.16053575966926215, Global best: 0.16053575966926215, Runtime: 0.09746 seconds\n",
      "2024/02/22 05:22:01 PM, INFO, mealpy.evolutionary_based.GA.BaseGA: >>>Problem: Rosenbrock function, Epoch: 371, Current best: 0.16053575966926215, Global best: 0.16053575966926215, Runtime: 0.10678 seconds\n",
      "2024/02/22 05:22:01 PM, INFO, mealpy.evolutionary_based.GA.BaseGA: >>>Problem: Rosenbrock function, Epoch: 372, Current best: 0.16053575966926215, Global best: 0.16053575966926215, Runtime: 0.09945 seconds\n",
      "2024/02/22 05:22:01 PM, INFO, mealpy.evolutionary_based.GA.BaseGA: >>>Problem: Rosenbrock function, Epoch: 373, Current best: 0.16053575966926215, Global best: 0.16053575966926215, Runtime: 0.09719 seconds\n",
      "2024/02/22 05:22:01 PM, INFO, mealpy.evolutionary_based.GA.BaseGA: >>>Problem: Rosenbrock function, Epoch: 374, Current best: 0.16053575966926215, Global best: 0.16053575966926215, Runtime: 0.09965 seconds\n",
      "2024/02/22 05:22:01 PM, INFO, mealpy.evolutionary_based.GA.BaseGA: >>>Problem: Rosenbrock function, Epoch: 375, Current best: 0.16053575966926215, Global best: 0.16053575966926215, Runtime: 0.09806 seconds\n",
      "2024/02/22 05:22:01 PM, INFO, mealpy.evolutionary_based.GA.BaseGA: >>>Problem: Rosenbrock function, Epoch: 376, Current best: 0.16053575966926215, Global best: 0.16053575966926215, Runtime: 0.09963 seconds\n",
      "2024/02/22 05:22:01 PM, INFO, mealpy.evolutionary_based.GA.BaseGA: >>>Problem: Rosenbrock function, Epoch: 377, Current best: 0.16053575966926215, Global best: 0.16053575966926215, Runtime: 0.10068 seconds\n",
      "2024/02/22 05:22:01 PM, INFO, mealpy.evolutionary_based.GA.BaseGA: >>>Problem: Rosenbrock function, Epoch: 378, Current best: 0.16053575966926215, Global best: 0.16053575966926215, Runtime: 0.09849 seconds\n",
      "2024/02/22 05:22:01 PM, INFO, mealpy.evolutionary_based.GA.BaseGA: >>>Problem: Rosenbrock function, Epoch: 379, Current best: 0.16053575966926215, Global best: 0.16053575966926215, Runtime: 0.10248 seconds\n",
      "2024/02/22 05:22:01 PM, INFO, mealpy.evolutionary_based.GA.BaseGA: >>>Problem: Rosenbrock function, Epoch: 380, Current best: 0.16053575966926215, Global best: 0.16053575966926215, Runtime: 0.09852 seconds\n",
      "2024/02/22 05:22:02 PM, INFO, mealpy.evolutionary_based.GA.BaseGA: >>>Problem: Rosenbrock function, Epoch: 381, Current best: 0.16053575966926215, Global best: 0.16053575966926215, Runtime: 0.10361 seconds\n",
      "2024/02/22 05:22:02 PM, INFO, mealpy.evolutionary_based.GA.BaseGA: >>>Problem: Rosenbrock function, Epoch: 382, Current best: 0.16053575966926215, Global best: 0.16053575966926215, Runtime: 0.10204 seconds\n",
      "2024/02/22 05:22:02 PM, INFO, mealpy.evolutionary_based.GA.BaseGA: >>>Problem: Rosenbrock function, Epoch: 383, Current best: 0.16053575966926215, Global best: 0.16053575966926215, Runtime: 0.10148 seconds\n",
      "2024/02/22 05:22:02 PM, INFO, mealpy.evolutionary_based.GA.BaseGA: >>>Problem: Rosenbrock function, Epoch: 384, Current best: 0.16053575966926215, Global best: 0.16053575966926215, Runtime: 0.09853 seconds\n",
      "2024/02/22 05:22:02 PM, INFO, mealpy.evolutionary_based.GA.BaseGA: >>>Problem: Rosenbrock function, Epoch: 385, Current best: 0.16053575966926215, Global best: 0.16053575966926215, Runtime: 0.09824 seconds\n",
      "2024/02/22 05:22:02 PM, INFO, mealpy.evolutionary_based.GA.BaseGA: >>>Problem: Rosenbrock function, Epoch: 386, Current best: 0.16053575966926215, Global best: 0.16053575966926215, Runtime: 0.09794 seconds\n",
      "2024/02/22 05:22:02 PM, INFO, mealpy.evolutionary_based.GA.BaseGA: >>>Problem: Rosenbrock function, Epoch: 387, Current best: 0.16053575966926215, Global best: 0.16053575966926215, Runtime: 0.09717 seconds\n",
      "2024/02/22 05:22:02 PM, INFO, mealpy.evolutionary_based.GA.BaseGA: >>>Problem: Rosenbrock function, Epoch: 388, Current best: 0.16053575966926215, Global best: 0.16053575966926215, Runtime: 0.09885 seconds\n",
      "2024/02/22 05:22:02 PM, INFO, mealpy.evolutionary_based.GA.BaseGA: >>>Problem: Rosenbrock function, Epoch: 389, Current best: 0.16053575966926215, Global best: 0.16053575966926215, Runtime: 0.10064 seconds\n",
      "2024/02/22 05:22:02 PM, INFO, mealpy.evolutionary_based.GA.BaseGA: >>>Problem: Rosenbrock function, Epoch: 390, Current best: 0.16053575966926215, Global best: 0.16053575966926215, Runtime: 0.09839 seconds\n",
      "2024/02/22 05:22:03 PM, INFO, mealpy.evolutionary_based.GA.BaseGA: >>>Problem: Rosenbrock function, Epoch: 391, Current best: 0.16053575966926215, Global best: 0.16053575966926215, Runtime: 0.10207 seconds\n",
      "2024/02/22 05:22:03 PM, INFO, mealpy.evolutionary_based.GA.BaseGA: >>>Problem: Rosenbrock function, Epoch: 392, Current best: 0.16053575966926215, Global best: 0.16053575966926215, Runtime: 0.15205 seconds\n",
      "2024/02/22 05:22:03 PM, INFO, mealpy.evolutionary_based.GA.BaseGA: >>>Problem: Rosenbrock function, Epoch: 393, Current best: 0.16053575966926215, Global best: 0.16053575966926215, Runtime: 0.09898 seconds\n",
      "2024/02/22 05:22:03 PM, INFO, mealpy.evolutionary_based.GA.BaseGA: >>>Problem: Rosenbrock function, Epoch: 394, Current best: 0.16053575966926215, Global best: 0.16053575966926215, Runtime: 0.09839 seconds\n",
      "2024/02/22 05:22:03 PM, INFO, mealpy.evolutionary_based.GA.BaseGA: >>>Problem: Rosenbrock function, Epoch: 395, Current best: 0.16053575966926215, Global best: 0.16053575966926215, Runtime: 0.09738 seconds\n",
      "2024/02/22 05:22:03 PM, INFO, mealpy.evolutionary_based.GA.BaseGA: >>>Problem: Rosenbrock function, Epoch: 396, Current best: 0.16053575966926215, Global best: 0.16053575966926215, Runtime: 0.09850 seconds\n",
      "2024/02/22 05:22:03 PM, INFO, mealpy.evolutionary_based.GA.BaseGA: >>>Problem: Rosenbrock function, Epoch: 397, Current best: 0.16053575966926215, Global best: 0.16053575966926215, Runtime: 0.09887 seconds\n",
      "2024/02/22 05:22:03 PM, INFO, mealpy.evolutionary_based.GA.BaseGA: >>>Problem: Rosenbrock function, Epoch: 398, Current best: 0.16053575966926215, Global best: 0.16053575966926215, Runtime: 0.10345 seconds\n",
      "2024/02/22 05:22:03 PM, INFO, mealpy.evolutionary_based.GA.BaseGA: >>>Problem: Rosenbrock function, Epoch: 399, Current best: 0.16053575966926215, Global best: 0.16053575966926215, Runtime: 0.09788 seconds\n",
      "2024/02/22 05:22:03 PM, INFO, mealpy.evolutionary_based.GA.BaseGA: >>>Problem: Rosenbrock function, Epoch: 400, Current best: 0.16053575966926215, Global best: 0.16053575966926215, Runtime: 0.09864 seconds\n",
      "2024/02/22 05:22:04 PM, INFO, mealpy.evolutionary_based.GA.BaseGA: >>>Problem: Rosenbrock function, Epoch: 401, Current best: 0.16053575966926215, Global best: 0.16053575966926215, Runtime: 0.10116 seconds\n",
      "2024/02/22 05:22:04 PM, INFO, mealpy.evolutionary_based.GA.BaseGA: >>>Problem: Rosenbrock function, Epoch: 402, Current best: 0.16053575966926215, Global best: 0.16053575966926215, Runtime: 0.09902 seconds\n",
      "2024/02/22 05:22:04 PM, INFO, mealpy.evolutionary_based.GA.BaseGA: >>>Problem: Rosenbrock function, Epoch: 403, Current best: 0.16053575966926215, Global best: 0.16053575966926215, Runtime: 0.10002 seconds\n",
      "2024/02/22 05:22:04 PM, INFO, mealpy.evolutionary_based.GA.BaseGA: >>>Problem: Rosenbrock function, Epoch: 404, Current best: 0.16053575966926215, Global best: 0.16053575966926215, Runtime: 0.09916 seconds\n",
      "2024/02/22 05:22:04 PM, INFO, mealpy.evolutionary_based.GA.BaseGA: >>>Problem: Rosenbrock function, Epoch: 405, Current best: 0.16053575966926215, Global best: 0.16053575966926215, Runtime: 0.09829 seconds\n",
      "2024/02/22 05:22:04 PM, INFO, mealpy.evolutionary_based.GA.BaseGA: >>>Problem: Rosenbrock function, Epoch: 406, Current best: 0.16053575966926215, Global best: 0.16053575966926215, Runtime: 0.09857 seconds\n",
      "2024/02/22 05:22:04 PM, INFO, mealpy.evolutionary_based.GA.BaseGA: >>>Problem: Rosenbrock function, Epoch: 407, Current best: 0.16053575966926215, Global best: 0.16053575966926215, Runtime: 0.09764 seconds\n",
      "2024/02/22 05:22:04 PM, INFO, mealpy.evolutionary_based.GA.BaseGA: >>>Problem: Rosenbrock function, Epoch: 408, Current best: 0.16053575966926215, Global best: 0.16053575966926215, Runtime: 0.10790 seconds\n",
      "2024/02/22 05:22:04 PM, INFO, mealpy.evolutionary_based.GA.BaseGA: >>>Problem: Rosenbrock function, Epoch: 409, Current best: 0.16053575966926215, Global best: 0.16053575966926215, Runtime: 0.09761 seconds\n",
      "2024/02/22 05:22:04 PM, INFO, mealpy.evolutionary_based.GA.BaseGA: >>>Problem: Rosenbrock function, Epoch: 410, Current best: 0.16053575966926215, Global best: 0.16053575966926215, Runtime: 0.09725 seconds\n",
      "2024/02/22 05:22:05 PM, INFO, mealpy.evolutionary_based.GA.BaseGA: >>>Problem: Rosenbrock function, Epoch: 411, Current best: 0.16053575966926215, Global best: 0.16053575966926215, Runtime: 0.10181 seconds\n",
      "2024/02/22 05:22:05 PM, INFO, mealpy.evolutionary_based.GA.BaseGA: >>>Problem: Rosenbrock function, Epoch: 412, Current best: 0.16053575966926215, Global best: 0.16053575966926215, Runtime: 0.09791 seconds\n",
      "2024/02/22 05:22:05 PM, INFO, mealpy.evolutionary_based.GA.BaseGA: >>>Problem: Rosenbrock function, Epoch: 413, Current best: 0.16053575966926215, Global best: 0.16053575966926215, Runtime: 0.09766 seconds\n",
      "2024/02/22 05:22:05 PM, INFO, mealpy.evolutionary_based.GA.BaseGA: >>>Problem: Rosenbrock function, Epoch: 414, Current best: 0.16053575966926215, Global best: 0.16053575966926215, Runtime: 0.09801 seconds\n",
      "2024/02/22 05:22:05 PM, INFO, mealpy.evolutionary_based.GA.BaseGA: >>>Problem: Rosenbrock function, Epoch: 415, Current best: 0.16053575966926215, Global best: 0.16053575966926215, Runtime: 0.09628 seconds\n",
      "2024/02/22 05:22:05 PM, INFO, mealpy.evolutionary_based.GA.BaseGA: >>>Problem: Rosenbrock function, Epoch: 416, Current best: 0.16053575966926215, Global best: 0.16053575966926215, Runtime: 0.09784 seconds\n",
      "2024/02/22 05:22:05 PM, INFO, mealpy.evolutionary_based.GA.BaseGA: >>>Problem: Rosenbrock function, Epoch: 417, Current best: 0.16053575966926215, Global best: 0.16053575966926215, Runtime: 0.09961 seconds\n",
      "2024/02/22 05:22:05 PM, INFO, mealpy.evolutionary_based.GA.BaseGA: >>>Problem: Rosenbrock function, Epoch: 418, Current best: 0.16053575966926215, Global best: 0.16053575966926215, Runtime: 0.10102 seconds\n",
      "2024/02/22 05:22:05 PM, INFO, mealpy.evolutionary_based.GA.BaseGA: >>>Problem: Rosenbrock function, Epoch: 419, Current best: 0.16053575966926215, Global best: 0.16053575966926215, Runtime: 0.09730 seconds\n",
      "2024/02/22 05:22:05 PM, INFO, mealpy.evolutionary_based.GA.BaseGA: >>>Problem: Rosenbrock function, Epoch: 420, Current best: 0.16053575966926215, Global best: 0.16053575966926215, Runtime: 0.09850 seconds\n",
      "2024/02/22 05:22:06 PM, INFO, mealpy.evolutionary_based.GA.BaseGA: >>>Problem: Rosenbrock function, Epoch: 421, Current best: 0.16053575966926215, Global best: 0.16053575966926215, Runtime: 0.10152 seconds\n",
      "2024/02/22 05:22:06 PM, INFO, mealpy.evolutionary_based.GA.BaseGA: >>>Problem: Rosenbrock function, Epoch: 422, Current best: 0.16053575966926215, Global best: 0.16053575966926215, Runtime: 0.09820 seconds\n",
      "2024/02/22 05:22:06 PM, INFO, mealpy.evolutionary_based.GA.BaseGA: >>>Problem: Rosenbrock function, Epoch: 423, Current best: 0.16053575966926215, Global best: 0.16053575966926215, Runtime: 0.09743 seconds\n",
      "2024/02/22 05:22:06 PM, INFO, mealpy.evolutionary_based.GA.BaseGA: >>>Problem: Rosenbrock function, Epoch: 424, Current best: 0.16053575966926215, Global best: 0.16053575966926215, Runtime: 0.09730 seconds\n",
      "2024/02/22 05:22:06 PM, INFO, mealpy.evolutionary_based.GA.BaseGA: >>>Problem: Rosenbrock function, Epoch: 425, Current best: 0.16053575966926215, Global best: 0.16053575966926215, Runtime: 0.10000 seconds\n",
      "2024/02/22 05:22:06 PM, INFO, mealpy.evolutionary_based.GA.BaseGA: >>>Problem: Rosenbrock function, Epoch: 426, Current best: 0.16053575966926215, Global best: 0.16053575966926215, Runtime: 0.09927 seconds\n",
      "2024/02/22 05:22:06 PM, INFO, mealpy.evolutionary_based.GA.BaseGA: >>>Problem: Rosenbrock function, Epoch: 427, Current best: 0.16053575966926215, Global best: 0.16053575966926215, Runtime: 0.09722 seconds\n",
      "2024/02/22 05:22:06 PM, INFO, mealpy.evolutionary_based.GA.BaseGA: >>>Problem: Rosenbrock function, Epoch: 428, Current best: 0.16053575966926215, Global best: 0.16053575966926215, Runtime: 0.10157 seconds\n",
      "2024/02/22 05:22:06 PM, INFO, mealpy.evolutionary_based.GA.BaseGA: >>>Problem: Rosenbrock function, Epoch: 429, Current best: 0.16053575966926215, Global best: 0.16053575966926215, Runtime: 0.09838 seconds\n",
      "2024/02/22 05:22:06 PM, INFO, mealpy.evolutionary_based.GA.BaseGA: >>>Problem: Rosenbrock function, Epoch: 430, Current best: 0.16053575966926215, Global best: 0.16053575966926215, Runtime: 0.09909 seconds\n",
      "2024/02/22 05:22:07 PM, INFO, mealpy.evolutionary_based.GA.BaseGA: >>>Problem: Rosenbrock function, Epoch: 431, Current best: 0.16053575966926215, Global best: 0.16053575966926215, Runtime: 0.10139 seconds\n",
      "2024/02/22 05:22:07 PM, INFO, mealpy.evolutionary_based.GA.BaseGA: >>>Problem: Rosenbrock function, Epoch: 432, Current best: 0.16053575966926215, Global best: 0.16053575966926215, Runtime: 0.09930 seconds\n",
      "2024/02/22 05:22:07 PM, INFO, mealpy.evolutionary_based.GA.BaseGA: >>>Problem: Rosenbrock function, Epoch: 433, Current best: 0.16053575966926215, Global best: 0.16053575966926215, Runtime: 0.09878 seconds\n",
      "2024/02/22 05:22:07 PM, INFO, mealpy.evolutionary_based.GA.BaseGA: >>>Problem: Rosenbrock function, Epoch: 434, Current best: 0.16053575966926215, Global best: 0.16053575966926215, Runtime: 0.09793 seconds\n",
      "2024/02/22 05:22:07 PM, INFO, mealpy.evolutionary_based.GA.BaseGA: >>>Problem: Rosenbrock function, Epoch: 435, Current best: 0.16053575966926215, Global best: 0.16053575966926215, Runtime: 0.09716 seconds\n",
      "2024/02/22 05:22:07 PM, INFO, mealpy.evolutionary_based.GA.BaseGA: >>>Problem: Rosenbrock function, Epoch: 436, Current best: 0.16053575966926215, Global best: 0.16053575966926215, Runtime: 0.09960 seconds\n",
      "2024/02/22 05:22:07 PM, INFO, mealpy.evolutionary_based.GA.BaseGA: >>>Problem: Rosenbrock function, Epoch: 437, Current best: 0.16053575966926215, Global best: 0.16053575966926215, Runtime: 0.09867 seconds\n",
      "2024/02/22 05:22:07 PM, INFO, mealpy.evolutionary_based.GA.BaseGA: >>>Problem: Rosenbrock function, Epoch: 438, Current best: 0.16053575966926215, Global best: 0.16053575966926215, Runtime: 0.09885 seconds\n",
      "2024/02/22 05:22:07 PM, INFO, mealpy.evolutionary_based.GA.BaseGA: >>>Problem: Rosenbrock function, Epoch: 439, Current best: 0.16053575966926215, Global best: 0.16053575966926215, Runtime: 0.09684 seconds\n",
      "2024/02/22 05:22:07 PM, INFO, mealpy.evolutionary_based.GA.BaseGA: >>>Problem: Rosenbrock function, Epoch: 440, Current best: 0.16053575966926215, Global best: 0.16053575966926215, Runtime: 0.09715 seconds\n",
      "2024/02/22 05:22:08 PM, INFO, mealpy.evolutionary_based.GA.BaseGA: >>>Problem: Rosenbrock function, Epoch: 441, Current best: 0.16053575966926215, Global best: 0.16053575966926215, Runtime: 0.10437 seconds\n",
      "2024/02/22 05:22:08 PM, INFO, mealpy.evolutionary_based.GA.BaseGA: >>>Problem: Rosenbrock function, Epoch: 442, Current best: 0.16053575966926215, Global best: 0.16053575966926215, Runtime: 0.15104 seconds\n",
      "2024/02/22 05:22:08 PM, INFO, mealpy.evolutionary_based.GA.BaseGA: >>>Problem: Rosenbrock function, Epoch: 443, Current best: 0.16053575966926215, Global best: 0.16053575966926215, Runtime: 0.09886 seconds\n",
      "2024/02/22 05:22:08 PM, INFO, mealpy.evolutionary_based.GA.BaseGA: >>>Problem: Rosenbrock function, Epoch: 444, Current best: 0.16053575966926215, Global best: 0.16053575966926215, Runtime: 0.09863 seconds\n",
      "2024/02/22 05:22:08 PM, INFO, mealpy.evolutionary_based.GA.BaseGA: >>>Problem: Rosenbrock function, Epoch: 445, Current best: 0.16053575966926215, Global best: 0.16053575966926215, Runtime: 0.09949 seconds\n",
      "2024/02/22 05:22:08 PM, INFO, mealpy.evolutionary_based.GA.BaseGA: >>>Problem: Rosenbrock function, Epoch: 446, Current best: 0.16053575966926215, Global best: 0.16053575966926215, Runtime: 0.10036 seconds\n",
      "2024/02/22 05:22:08 PM, INFO, mealpy.evolutionary_based.GA.BaseGA: >>>Problem: Rosenbrock function, Epoch: 447, Current best: 0.16053575966926215, Global best: 0.16053575966926215, Runtime: 0.09723 seconds\n",
      "2024/02/22 05:22:08 PM, INFO, mealpy.evolutionary_based.GA.BaseGA: >>>Problem: Rosenbrock function, Epoch: 448, Current best: 0.16053575966926215, Global best: 0.16053575966926215, Runtime: 0.10067 seconds\n",
      "2024/02/22 05:22:08 PM, INFO, mealpy.evolutionary_based.GA.BaseGA: >>>Problem: Rosenbrock function, Epoch: 449, Current best: 0.16053575966926215, Global best: 0.16053575966926215, Runtime: 0.10021 seconds\n",
      "2024/02/22 05:22:09 PM, INFO, mealpy.evolutionary_based.GA.BaseGA: >>>Problem: Rosenbrock function, Epoch: 450, Current best: 0.16053575966926215, Global best: 0.16053575966926215, Runtime: 0.09845 seconds\n",
      "2024/02/22 05:22:09 PM, INFO, mealpy.evolutionary_based.GA.BaseGA: >>>Problem: Rosenbrock function, Epoch: 451, Current best: 0.16053575966926215, Global best: 0.16053575966926215, Runtime: 0.10723 seconds\n",
      "2024/02/22 05:22:09 PM, INFO, mealpy.evolutionary_based.GA.BaseGA: >>>Problem: Rosenbrock function, Epoch: 452, Current best: 0.16053575966926215, Global best: 0.16053575966926215, Runtime: 0.09764 seconds\n",
      "2024/02/22 05:22:09 PM, INFO, mealpy.evolutionary_based.GA.BaseGA: >>>Problem: Rosenbrock function, Epoch: 453, Current best: 0.16053575966926215, Global best: 0.16053575966926215, Runtime: 0.09856 seconds\n",
      "2024/02/22 05:22:09 PM, INFO, mealpy.evolutionary_based.GA.BaseGA: >>>Problem: Rosenbrock function, Epoch: 454, Current best: 0.16053575966926215, Global best: 0.16053575966926215, Runtime: 0.09763 seconds\n",
      "2024/02/22 05:22:09 PM, INFO, mealpy.evolutionary_based.GA.BaseGA: >>>Problem: Rosenbrock function, Epoch: 455, Current best: 0.16053575966926215, Global best: 0.16053575966926215, Runtime: 0.09897 seconds\n",
      "2024/02/22 05:22:09 PM, INFO, mealpy.evolutionary_based.GA.BaseGA: >>>Problem: Rosenbrock function, Epoch: 456, Current best: 0.16053575966926215, Global best: 0.16053575966926215, Runtime: 0.10024 seconds\n",
      "2024/02/22 05:22:09 PM, INFO, mealpy.evolutionary_based.GA.BaseGA: >>>Problem: Rosenbrock function, Epoch: 457, Current best: 0.16053575966926215, Global best: 0.16053575966926215, Runtime: 0.10350 seconds\n",
      "2024/02/22 05:22:09 PM, INFO, mealpy.evolutionary_based.GA.BaseGA: >>>Problem: Rosenbrock function, Epoch: 458, Current best: 0.16053575966926215, Global best: 0.16053575966926215, Runtime: 0.10034 seconds\n",
      "2024/02/22 05:22:09 PM, INFO, mealpy.evolutionary_based.GA.BaseGA: >>>Problem: Rosenbrock function, Epoch: 459, Current best: 0.16053575966926215, Global best: 0.16053575966926215, Runtime: 0.09826 seconds\n",
      "2024/02/22 05:22:10 PM, INFO, mealpy.evolutionary_based.GA.BaseGA: >>>Problem: Rosenbrock function, Epoch: 460, Current best: 0.16053575966926215, Global best: 0.16053575966926215, Runtime: 0.09716 seconds\n",
      "2024/02/22 05:22:10 PM, INFO, mealpy.evolutionary_based.GA.BaseGA: >>>Problem: Rosenbrock function, Epoch: 461, Current best: 0.16053575966926215, Global best: 0.16053575966926215, Runtime: 0.10155 seconds\n",
      "2024/02/22 05:22:10 PM, INFO, mealpy.evolutionary_based.GA.BaseGA: >>>Problem: Rosenbrock function, Epoch: 462, Current best: 0.16053575966926215, Global best: 0.16053575966926215, Runtime: 0.09700 seconds\n",
      "2024/02/22 05:22:10 PM, INFO, mealpy.evolutionary_based.GA.BaseGA: >>>Problem: Rosenbrock function, Epoch: 463, Current best: 0.16053575966926215, Global best: 0.16053575966926215, Runtime: 0.09849 seconds\n",
      "2024/02/22 05:22:10 PM, INFO, mealpy.evolutionary_based.GA.BaseGA: >>>Problem: Rosenbrock function, Epoch: 464, Current best: 0.16053575966926215, Global best: 0.16053575966926215, Runtime: 0.09964 seconds\n",
      "2024/02/22 05:22:10 PM, INFO, mealpy.evolutionary_based.GA.BaseGA: >>>Problem: Rosenbrock function, Epoch: 465, Current best: 0.16053575966926215, Global best: 0.16053575966926215, Runtime: 0.09753 seconds\n",
      "2024/02/22 05:22:10 PM, INFO, mealpy.evolutionary_based.GA.BaseGA: >>>Problem: Rosenbrock function, Epoch: 466, Current best: 0.16053575966926215, Global best: 0.16053575966926215, Runtime: 0.10067 seconds\n",
      "2024/02/22 05:22:10 PM, INFO, mealpy.evolutionary_based.GA.BaseGA: >>>Problem: Rosenbrock function, Epoch: 467, Current best: 0.16053575966926215, Global best: 0.16053575966926215, Runtime: 0.10241 seconds\n",
      "2024/02/22 05:22:10 PM, INFO, mealpy.evolutionary_based.GA.BaseGA: >>>Problem: Rosenbrock function, Epoch: 468, Current best: 0.16053575966926215, Global best: 0.16053575966926215, Runtime: 0.10053 seconds\n",
      "2024/02/22 05:22:10 PM, INFO, mealpy.evolutionary_based.GA.BaseGA: >>>Problem: Rosenbrock function, Epoch: 469, Current best: 0.16053575966926215, Global best: 0.16053575966926215, Runtime: 0.09947 seconds\n",
      "2024/02/22 05:22:11 PM, INFO, mealpy.evolutionary_based.GA.BaseGA: >>>Problem: Rosenbrock function, Epoch: 470, Current best: 0.16053575966926215, Global best: 0.16053575966926215, Runtime: 0.09934 seconds\n",
      "2024/02/22 05:22:11 PM, INFO, mealpy.evolutionary_based.GA.BaseGA: >>>Problem: Rosenbrock function, Epoch: 471, Current best: 0.16053575966926215, Global best: 0.16053575966926215, Runtime: 0.10191 seconds\n",
      "2024/02/22 05:22:11 PM, INFO, mealpy.evolutionary_based.GA.BaseGA: >>>Problem: Rosenbrock function, Epoch: 472, Current best: 0.16053575966926215, Global best: 0.16053575966926215, Runtime: 0.09857 seconds\n",
      "2024/02/22 05:22:11 PM, INFO, mealpy.evolutionary_based.GA.BaseGA: >>>Problem: Rosenbrock function, Epoch: 473, Current best: 0.16053575966926215, Global best: 0.16053575966926215, Runtime: 0.10136 seconds\n",
      "2024/02/22 05:22:11 PM, INFO, mealpy.evolutionary_based.GA.BaseGA: >>>Problem: Rosenbrock function, Epoch: 474, Current best: 0.16053575966926215, Global best: 0.16053575966926215, Runtime: 0.09690 seconds\n",
      "2024/02/22 05:22:11 PM, INFO, mealpy.evolutionary_based.GA.BaseGA: >>>Problem: Rosenbrock function, Epoch: 475, Current best: 0.16053575966926215, Global best: 0.16053575966926215, Runtime: 0.10064 seconds\n",
      "2024/02/22 05:22:11 PM, INFO, mealpy.evolutionary_based.GA.BaseGA: >>>Problem: Rosenbrock function, Epoch: 476, Current best: 0.16053575966926215, Global best: 0.16053575966926215, Runtime: 0.09648 seconds\n",
      "2024/02/22 05:22:11 PM, INFO, mealpy.evolutionary_based.GA.BaseGA: >>>Problem: Rosenbrock function, Epoch: 477, Current best: 0.16053575966926215, Global best: 0.16053575966926215, Runtime: 0.09945 seconds\n",
      "2024/02/22 05:22:11 PM, INFO, mealpy.evolutionary_based.GA.BaseGA: >>>Problem: Rosenbrock function, Epoch: 478, Current best: 0.16053575966926215, Global best: 0.16053575966926215, Runtime: 0.09977 seconds\n",
      "2024/02/22 05:22:11 PM, INFO, mealpy.evolutionary_based.GA.BaseGA: >>>Problem: Rosenbrock function, Epoch: 479, Current best: 0.16053575966926215, Global best: 0.16053575966926215, Runtime: 0.09762 seconds\n",
      "2024/02/22 05:22:12 PM, INFO, mealpy.evolutionary_based.GA.BaseGA: >>>Problem: Rosenbrock function, Epoch: 480, Current best: 0.16053575966926215, Global best: 0.16053575966926215, Runtime: 0.09844 seconds\n",
      "2024/02/22 05:22:12 PM, INFO, mealpy.evolutionary_based.GA.BaseGA: >>>Problem: Rosenbrock function, Epoch: 481, Current best: 0.16053575966926215, Global best: 0.16053575966926215, Runtime: 0.10205 seconds\n",
      "2024/02/22 05:22:12 PM, INFO, mealpy.evolutionary_based.GA.BaseGA: >>>Problem: Rosenbrock function, Epoch: 482, Current best: 0.16053575966926215, Global best: 0.16053575966926215, Runtime: 0.09914 seconds\n",
      "2024/02/22 05:22:12 PM, INFO, mealpy.evolutionary_based.GA.BaseGA: >>>Problem: Rosenbrock function, Epoch: 483, Current best: 0.16053575966926215, Global best: 0.16053575966926215, Runtime: 0.10086 seconds\n",
      "2024/02/22 05:22:12 PM, INFO, mealpy.evolutionary_based.GA.BaseGA: >>>Problem: Rosenbrock function, Epoch: 484, Current best: 0.16053575966926215, Global best: 0.16053575966926215, Runtime: 0.09951 seconds\n",
      "2024/02/22 05:22:12 PM, INFO, mealpy.evolutionary_based.GA.BaseGA: >>>Problem: Rosenbrock function, Epoch: 485, Current best: 0.16053575966926215, Global best: 0.16053575966926215, Runtime: 0.09999 seconds\n",
      "2024/02/22 05:22:12 PM, INFO, mealpy.evolutionary_based.GA.BaseGA: >>>Problem: Rosenbrock function, Epoch: 486, Current best: 0.16053575966926215, Global best: 0.16053575966926215, Runtime: 0.09664 seconds\n",
      "2024/02/22 05:22:12 PM, INFO, mealpy.evolutionary_based.GA.BaseGA: >>>Problem: Rosenbrock function, Epoch: 487, Current best: 0.16053575966926215, Global best: 0.16053575966926215, Runtime: 0.10083 seconds\n",
      "2024/02/22 05:22:12 PM, INFO, mealpy.evolutionary_based.GA.BaseGA: >>>Problem: Rosenbrock function, Epoch: 488, Current best: 0.16053575966926215, Global best: 0.16053575966926215, Runtime: 0.10106 seconds\n",
      "2024/02/22 05:22:12 PM, INFO, mealpy.evolutionary_based.GA.BaseGA: >>>Problem: Rosenbrock function, Epoch: 489, Current best: 0.16053575966926215, Global best: 0.16053575966926215, Runtime: 0.10054 seconds\n",
      "2024/02/22 05:22:13 PM, INFO, mealpy.evolutionary_based.GA.BaseGA: >>>Problem: Rosenbrock function, Epoch: 490, Current best: 0.16053575966926215, Global best: 0.16053575966926215, Runtime: 0.10011 seconds\n",
      "2024/02/22 05:22:13 PM, INFO, mealpy.evolutionary_based.GA.BaseGA: >>>Problem: Rosenbrock function, Epoch: 491, Current best: 0.16053575966926215, Global best: 0.16053575966926215, Runtime: 0.10297 seconds\n",
      "2024/02/22 05:22:13 PM, INFO, mealpy.evolutionary_based.GA.BaseGA: >>>Problem: Rosenbrock function, Epoch: 492, Current best: 0.16053575966926215, Global best: 0.16053575966926215, Runtime: 0.15309 seconds\n",
      "2024/02/22 05:22:13 PM, INFO, mealpy.evolutionary_based.GA.BaseGA: >>>Problem: Rosenbrock function, Epoch: 493, Current best: 0.16053575966926215, Global best: 0.16053575966926215, Runtime: 0.09806 seconds\n",
      "2024/02/22 05:22:13 PM, INFO, mealpy.evolutionary_based.GA.BaseGA: >>>Problem: Rosenbrock function, Epoch: 494, Current best: 0.16053575966926215, Global best: 0.16053575966926215, Runtime: 0.09941 seconds\n",
      "2024/02/22 05:22:13 PM, INFO, mealpy.evolutionary_based.GA.BaseGA: >>>Problem: Rosenbrock function, Epoch: 495, Current best: 0.16053575966926215, Global best: 0.16053575966926215, Runtime: 0.09826 seconds\n",
      "2024/02/22 05:22:13 PM, INFO, mealpy.evolutionary_based.GA.BaseGA: >>>Problem: Rosenbrock function, Epoch: 496, Current best: 0.16053575966926215, Global best: 0.16053575966926215, Runtime: 0.10073 seconds\n",
      "2024/02/22 05:22:13 PM, INFO, mealpy.evolutionary_based.GA.BaseGA: >>>Problem: Rosenbrock function, Epoch: 497, Current best: 0.16053575966926215, Global best: 0.16053575966926215, Runtime: 0.10054 seconds\n",
      "2024/02/22 05:22:13 PM, INFO, mealpy.evolutionary_based.GA.BaseGA: >>>Problem: Rosenbrock function, Epoch: 498, Current best: 0.16053575966926215, Global best: 0.16053575966926215, Runtime: 0.09977 seconds\n",
      "2024/02/22 05:22:14 PM, INFO, mealpy.evolutionary_based.GA.BaseGA: >>>Problem: Rosenbrock function, Epoch: 499, Current best: 0.16053575966926215, Global best: 0.16053575966926215, Runtime: 0.09963 seconds\n",
      "2024/02/22 05:22:14 PM, INFO, mealpy.evolutionary_based.GA.BaseGA: >>>Problem: Rosenbrock function, Epoch: 500, Current best: 0.16053575966926215, Global best: 0.16053575966926215, Runtime: 0.10800 seconds\n"
     ]
    },
    {
     "name": "stdout",
     "output_type": "stream",
     "text": [
      "------------------------------------------------\n",
      "------------------------------------------------\n",
      "Best solution after re-solve: [1.03608823 1.07562281 1.15892823 1.35007594 1.82305075]\n",
      "Best fitness after re-solve: 0.16053575966926215\n"
     ]
    }
   ],
   "source": [
    "## Now we can even re-train the algorithm with the best parameter by calling resolve() function \n",
    "## Resolve() function will call the solve() function in algorithm with default problem parameter is removed. \n",
    "##    other parameters of solve() function is keeped and can be used.\n",
    "\n",
    "g_best = tuner.resolve()\n",
    "print(\"------------------------------------------------\")\n",
    "print(\"------------------------------------------------\")\n",
    "print(f\"Best solution after re-solve: {g_best.solution}\")\n",
    "print(f\"Best fitness after re-solve: {g_best.target.fitness}\")"
   ]
  },
  {
   "cell_type": "code",
   "execution_count": 12,
   "metadata": {},
   "outputs": [
    {
     "data": {
      "image/png": "[encoded data removed]",
      "text/plain": [
       "<Figure size 640x480 with 1 Axes>"
      ]
     },
     "metadata": {},
     "output_type": "display_data"
    }
   ],
   "source": [
    "model.history.save_global_objectives_chart(filename=\"hello/goc\")"
   ]
  },
  {
   "cell_type": "code",
   "execution_count": 13,
   "metadata": {},
   "outputs": [
    {
     "data": {
      "image/png": "[encoded data removed]",
      "text/plain": [
       "<Figure size 640x480 with 1 Axes>"
      ]
     },
     "metadata": {},
     "output_type": "display_data"
    }
   ],
   "source": [
    "model.history.save_exploration_exploitation_chart(filename=\"hello/eec\")"
   ]
  },
  {
   "cell_type": "markdown",
   "metadata": {},
   "source": [
    "# Will not run (not working in Python notebook)"
   ]
  },
  {
   "cell_type": "code",
   "execution_count": 14,
   "metadata": {},
   "outputs": [],
   "source": [
    "# ## Try to run this optimizer on this problem 5 times (n_trials = 5).\n",
    "# ## Get the best model by mean value of all trials\n",
    "# ## Distribute to 4 CPU to run (n_jobs=4)\n",
    "# tuner.execute(problem=p1, termination=term, n_trials=5, n_jobs=4, verbose=True)\n",
    "\n",
    "# print(tuner.best_row)\n",
    "# print(tuner.best_score)\n",
    "# print(tuner.best_params)\n",
    "# print(type(tuner.best_params))\n",
    "\n",
    "# print(tuner.best_algorithm)\n",
    "# ## Better to save the tuning results to CSV for later usage\n",
    "# tuner.export_results()\n",
    "# tuner.export_figures()\n",
    "\n",
    "#     ## Now we can even re-train the algorithm with the best parameter by calling resolve() function\n",
    "# ## Resolve() function will call the solve() function in algorithm with default problem parameter is removed.\n",
    "# ##    other parameters of solve() function is keeped and can be used.\n",
    "# g_best = tuner.resolve(mode=\"thread\", n_workers=4, termination=term)\n",
    "\n",
    "# ## Print out the best score of the best parameter\n",
    "# print(g_best.solution, g_best.target.fitness)\n",
    "\n",
    "# print(tuner.algorithm.problem.get_name())\n",
    "\n",
    "# ## Print out the algorithm with the best parameter\n",
    "# print(tuner.best_algorithm.get_name())"
   ]
  },
  {
   "cell_type": "code",
   "execution_count": null,
   "metadata": {},
   "outputs": [],
   "source": []
  }
 ],
 "metadata": {
  "kernelspec": {
   "display_name": "Python 3",
   "language": "python",
   "name": "python3"
  },
  "language_info": {
   "codemirror_mode": {
    "name": "ipython",
    "version": 3
   },
   "file_extension": ".py",
   "mimetype": "text/x-python",
   "name": "python",
   "nbconvert_exporter": "python",
   "pygments_lexer": "ipython3",
   "version": "3.11.2"
  }
 },
 "nbformat": 4,
 "nbformat_minor": 2
}
